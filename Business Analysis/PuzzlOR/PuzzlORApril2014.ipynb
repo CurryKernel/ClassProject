{
 "cells": [
  {
   "cell_type": "markdown",
   "metadata": {},
   "source": [
    "# Problem statement"
   ]
  },
  {
   "cell_type": "markdown",
   "metadata": {},
   "source": [
    "Your government has lost track of a high profile foreign spy and they have requested your help to track him down.  As part of his attempts to evade capture, he has employed a simple strategy.  Each day the spy moves from the country that he is currently in to a neighboring country. \n",
    "\n",
    "The spy cannot skip over a country (for example, he cannot go from Chile to Ecuador in one day).  *The movement probabilities are equally distributed amongst the neighboring countries.*  For example, if the spy is currently in Ecuador, there is a 50% chance he will move to Colombia and a 50% chance he will move to Peru.  **The spy was last seen in Chile and will only move about countries that are in South America.**  He has been moving about the countries for several weeks. "
   ]
  },
  {
   "cell_type": "markdown",
   "metadata": {},
   "source": [
    "**Question:**  Which country is the spy most likely hiding in and how likely is it that he is there?"
   ]
  },
  {
   "attachments": {},
   "cell_type": "markdown",
   "metadata": {},
   "source": [
    "![title](SpyCatcher.gif)"
   ]
  },
  {
   "cell_type": "markdown",
   "metadata": {},
   "source": [
    "# Markov chain & Random walk"
   ]
  },
  {
   "cell_type": "markdown",
   "metadata": {},
   "source": [
    "## Markov property"
   ]
  },
  {
   "cell_type": "markdown",
   "metadata": {},
   "source": [
    "$$P(X(t_n) = j_n | X(t_{n-1} = j_{n-1},...,X(t_1) = j_i)$$\n",
    "$$ =P(X(t_n) = j_n | X(t_{n-1} = j_{n-1})$$"
   ]
  },
  {
   "cell_type": "markdown",
   "metadata": {},
   "source": [
    "Define the state space $\\Omega = {X_1,...,X_{13}}$, it's easy to find the transition matrix $P$ according to the map.\n",
    "\n",
    "So transition matrix $P$ is a $13\\times 13$ matrix, like = $\\begin{bmatrix}\n",
    "0 & p_{1\\to2} & p_{1\\to3} &...  &p_{1\\to13} \\\\ \n",
    "p_{2\\to1} &0  &p_{2\\to 3}  & ... &p_{2\\to 13} \\\\ \n",
    "... & ... &0  &...  &... \\\\ \n",
    "p_{12\\to 1} &p_{12\\to 2}  &p_{12\\to 3}  & 0 &p_{12\\to 13} \\\\ \n",
    "p_{13\\to 1} & p_{13\\to 2} & p_{13\\to 3} & p_{13\\to 4} &0 \n",
    "\\end{bmatrix}_{13\\times 13}$"
   ]
  },
  {
   "cell_type": "markdown",
   "metadata": {},
   "source": [
    "## Random walk"
   ]
  },
  {
   "cell_type": "markdown",
   "metadata": {},
   "source": [
    "If we assume the Markov chain with transition matrix $P$ is irreducible and aperiodic, so the stationary distribution $\\pi$ is unique and non-negative."
   ]
  },
  {
   "cell_type": "markdown",
   "metadata": {},
   "source": [
    "$$\\pi P = \\pi$$\n",
    "$$\\sum \\pi(i) = 1$$"
   ]
  },
  {
   "cell_type": "markdown",
   "metadata": {},
   "source": [
    "Solve equations and get the maximum probability of country."
   ]
  },
  {
   "cell_type": "markdown",
   "metadata": {},
   "source": [
    "# Simulation"
   ]
  },
  {
   "cell_type": "code",
   "execution_count": 17,
   "metadata": {},
   "outputs": [],
   "source": [
    "# PuzzlOR April 2014 Spy Catcher\n",
    "import math\n",
    "import random\n",
    "from collections import Counter"
   ]
  },
  {
   "cell_type": "code",
   "execution_count": 18,
   "metadata": {},
   "outputs": [],
   "source": [
    "def generate_random(alist):\n",
    "    return random.randint(0, len(alist)-1)"
   ]
  },
  {
   "cell_type": "code",
   "execution_count": 19,
   "metadata": {},
   "outputs": [],
   "source": [
    "def move(currentPosition, allPosition):\n",
    "    tempval = allPosition[currentPosition]\n",
    "    return tempval[generate_random(tempval)]"
   ]
  },
  {
   "cell_type": "markdown",
   "metadata": {},
   "source": [
    "Get the transition matrix $P$"
   ]
  },
  {
   "cell_type": "code",
   "execution_count": 20,
   "metadata": {},
   "outputs": [],
   "source": [
    "countries = {\n",
    "        \"Ecuador\": [\"Columbia\", \"Peru\", \"Brazil\"],\n",
    "        \"Columbia\": [\"Ecuador\", \"Peru\", \"Venezuela\", \"Brazil\"],\n",
    "        \"Venezuela\": [\"Columbia\", \"Guyana\", \"Brazil\"],\n",
    "        \"Guyana\": [\"Venezuela\", \"Suriname\", \"Brazil\"],\n",
    "        \"Suriname\": [\"Guyana\", \"French Guiana\", \"Brazil\"],\n",
    "        \"French Guiana\": [\"Suriname\", \"Brazil\"],\n",
    "        \"Brazil\": [\"Guyana\", \"French Guiana\", \"Suriname\", \"Venezuela\", \"Columbia\", \"Peru\", \"Bolivia\", \"Paraguay\", \"Argentina\", \"Uruguay\"],\n",
    "        \"Uruguay\": [\"Argentina\", \"Brazil\"],\n",
    "        \"Paraguay\": [\"Bolivia\", \"Argentina\", \"Brazil\"],\n",
    "        \"Bolivia\": [\"Brazil\", \"Peru\", \"Chile\", \"Argentina\", \"Paraguay\"],\n",
    "        \"Peru\": [\"Ecuador\", \"Brazil\", \"Bolivia\", \"Columbia\", \"Chile\"],\n",
    "        \"Chile\": [\"Peru\", \"Bolivia\", \"Argentina\"],\n",
    "        \"Argentina\": [\"Chile\", \"Bolivia\", \"Paraguay\", \"Brazil\", \"Uruguay\"]\n",
    "    }"
   ]
  },
  {
   "cell_type": "markdown",
   "metadata": {},
   "source": [
    "We know the init state(spy was last seen in Chile), so it is easy to get the dirbution of next timestamp: $\\pi^{(1)} = \\pi^{(2)} P$, and so on... until converge"
   ]
  },
  {
   "cell_type": "code",
   "execution_count": 21,
   "metadata": {},
   "outputs": [
    {
     "name": "stdout",
     "output_type": "stream",
     "text": [
      "{'Peru': 90, 'Ecuador': 42, 'Chile': 55, 'Argentina': 107, 'Uruguay': 45, 'Brazil': 212, 'Paraguay': 67, 'Bolivia': 95, 'Columbia': 69, 'Venezuela': 59, 'Guyana': 57, 'Suriname': 66, 'French Guiana': 36}\n"
     ]
    }
   ],
   "source": [
    "currentCountry = []\n",
    "startCountry = \"Chile\"\n",
    "cnt = 0\n",
    "maxCnt = 1000\n",
    "while cnt < maxCnt:\n",
    "    startCountry = move(startCountry, countries)\n",
    "    currentCountry.append(startCountry)\n",
    "    cnt += 1\n",
    "a = dict(Counter(currentCountry))\n",
    "print(a)"
   ]
  },
  {
   "cell_type": "code",
   "execution_count": 22,
   "metadata": {},
   "outputs": [
    {
     "name": "stdout",
     "output_type": "stream",
     "text": [
      "[('Brazil', 212), ('Argentina', 107), ('Bolivia', 95), ('Peru', 90), ('Columbia', 69), ('Paraguay', 67), ('Suriname', 66), ('Venezuela', 59), ('Guyana', 57), ('Chile', 55), ('Uruguay', 45), ('Ecuador', 42), ('French Guiana', 36)]\n"
     ]
    }
   ],
   "source": [
    "sorted_a = sorted(a.items(), key=lambda kv: kv[1],reverse=True)\n",
    "print(sorted_a)"
   ]
  },
  {
   "cell_type": "code",
   "execution_count": 23,
   "metadata": {},
   "outputs": [
    {
     "name": "stdout",
     "output_type": "stream",
     "text": [
      "Brazil 0.21\n"
     ]
    }
   ],
   "source": [
    "print(sorted_a[0][0],\n",
    "      round(sorted_a[0][1]/maxval, 2))"
   ]
  }
 ],
 "metadata": {
  "kernelspec": {
   "display_name": "Python 3",
   "language": "python",
   "name": "python3"
  },
  "language_info": {
   "codemirror_mode": {
    "name": "ipython",
    "version": 3
   },
   "file_extension": ".py",
   "mimetype": "text/x-python",
   "name": "python",
   "nbconvert_exporter": "python",
   "pygments_lexer": "ipython3",
   "version": "3.6.5"
  },
  "toc": {
   "base_numbering": 1,
   "nav_menu": {},
   "number_sections": true,
   "sideBar": true,
   "skip_h1_title": false,
   "title_cell": "Table of Contents",
   "title_sidebar": "Contents",
   "toc_cell": false,
   "toc_position": {},
   "toc_section_display": true,
   "toc_window_display": false
  }
 },
 "nbformat": 4,
 "nbformat_minor": 2
}
