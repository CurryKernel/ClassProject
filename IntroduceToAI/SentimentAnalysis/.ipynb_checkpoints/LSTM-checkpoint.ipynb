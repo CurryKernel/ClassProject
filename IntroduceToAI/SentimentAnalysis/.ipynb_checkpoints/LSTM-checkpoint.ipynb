{
 "cells": [
  {
   "cell_type": "code",
   "execution_count": 1,
   "metadata": {},
   "outputs": [
    {
     "name": "stderr",
     "output_type": "stream",
     "text": [
      "C:\\Users\\scott\\Anaconda3\\lib\\site-packages\\h5py\\__init__.py:36: FutureWarning: Conversion of the second argument of issubdtype from `float` to `np.floating` is deprecated. In future, it will be treated as `np.float64 == np.dtype(float).type`.\n",
      "  from ._conv import register_converters as _register_converters\n",
      "Using TensorFlow backend.\n"
     ]
    }
   ],
   "source": [
    "import os\n",
    "os.environ['TF_CPP_MIN_LOG_LEVEL'] = '2'\n",
    "from keras.models import Sequential\n",
    "from keras.layers import Dense, Activation, Dropout, LSTM, Bidirectional\n",
    "from keras.layers.convolutional import MaxPooling1D, Conv1D\n",
    "from keras.callbacks import EarlyStopping\n",
    "from keras.models import load_model\n",
    "import pickle\n",
    "import numpy as np\n",
    "import pandas as pd\n",
    "# import my file\n",
    "import Doc2Vec"
   ]
  },
  {
   "cell_type": "markdown",
   "metadata": {},
   "source": [
    "# build model, 4 Convolutional layer, 1 LSTM layer, 1 dense, using dropout"
   ]
  },
  {
   "cell_type": "code",
   "execution_count": 4,
   "metadata": {},
   "outputs": [],
   "source": [
    "def MyLSTM():\n",
    "    # model\n",
    "    model = Sequential()\n",
    "    # add conv1D layer\n",
    "    model.add(Conv1D(filters=32, kernel_size=3, padding='same',\n",
    "                     activation='relu', input_shape=(1000, 128)))\n",
    "    model.add(Dropout(0.2))\n",
    "    model.add(MaxPooling1D(pool_size=3))\n",
    "    model.add(Dropout(0.2))\n",
    "    # add conv1D layer\n",
    "    model.add(Conv1D(filters=32, kernel_size=3,\n",
    "                     padding='same', activation='relu'))\n",
    "    model.add(Dropout(0.2))\n",
    "    model.add(MaxPooling1D(pool_size=3))\n",
    "    model.add(Dropout(0.2))\n",
    "    # add conv1D layer\n",
    "    model.add(Conv1D(filters=32, kernel_size=3,\n",
    "                     padding='same', activation='relu'))\n",
    "    model.add(Dropout(0.2))\n",
    "    model.add(MaxPooling1D(pool_size=3))\n",
    "    model.add(Dropout(0.2))\n",
    "    # add conv1D layer\n",
    "    model.add(Conv1D(filters=32, kernel_size=3,\n",
    "                     padding='same', activation='relu'))\n",
    "    model.add(Dropout(0.2))\n",
    "    model.add(MaxPooling1D(pool_size=3))\n",
    "    model.add(Dropout(0.2))\n",
    "    # add LSTM layer\n",
    "    model.add(LSTM(300, dropout=0.2, recurrent_dropout=0.2))\n",
    "    # model.add(Dropout(0.2))\n",
    "    model.add(Dense(1))\n",
    "    model.add(Activation('sigmoid'))\n",
    "    model.compile(loss='binary_crossentropy',\n",
    "                  optimizer='adam', metrics=['accuracy'])\n",
    "    # model complete\n",
    "    print(model.summary())\n",
    "    return model"
   ]
  },
  {
   "cell_type": "markdown",
   "metadata": {},
   "source": [
    "## init model "
   ]
  },
  {
   "cell_type": "code",
   "execution_count": 6,
   "metadata": {
    "scrolled": true
   },
   "outputs": [
    {
     "name": "stdout",
     "output_type": "stream",
     "text": [
      "_________________________________________________________________\n",
      "Layer (type)                 Output Shape              Param #   \n",
      "=================================================================\n",
      "conv1d_9 (Conv1D)            (None, 1000, 32)          12320     \n",
      "_________________________________________________________________\n",
      "dropout_17 (Dropout)         (None, 1000, 32)          0         \n",
      "_________________________________________________________________\n",
      "max_pooling1d_9 (MaxPooling1 (None, 333, 32)           0         \n",
      "_________________________________________________________________\n",
      "dropout_18 (Dropout)         (None, 333, 32)           0         \n",
      "_________________________________________________________________\n",
      "conv1d_10 (Conv1D)           (None, 333, 32)           3104      \n",
      "_________________________________________________________________\n",
      "dropout_19 (Dropout)         (None, 333, 32)           0         \n",
      "_________________________________________________________________\n",
      "max_pooling1d_10 (MaxPooling (None, 111, 32)           0         \n",
      "_________________________________________________________________\n",
      "dropout_20 (Dropout)         (None, 111, 32)           0         \n",
      "_________________________________________________________________\n",
      "conv1d_11 (Conv1D)           (None, 111, 32)           3104      \n",
      "_________________________________________________________________\n",
      "dropout_21 (Dropout)         (None, 111, 32)           0         \n",
      "_________________________________________________________________\n",
      "max_pooling1d_11 (MaxPooling (None, 37, 32)            0         \n",
      "_________________________________________________________________\n",
      "dropout_22 (Dropout)         (None, 37, 32)            0         \n",
      "_________________________________________________________________\n",
      "conv1d_12 (Conv1D)           (None, 37, 32)            3104      \n",
      "_________________________________________________________________\n",
      "dropout_23 (Dropout)         (None, 37, 32)            0         \n",
      "_________________________________________________________________\n",
      "max_pooling1d_12 (MaxPooling (None, 12, 32)            0         \n",
      "_________________________________________________________________\n",
      "dropout_24 (Dropout)         (None, 12, 32)            0         \n",
      "_________________________________________________________________\n",
      "lstm_3 (LSTM)                (None, 300)               399600    \n",
      "_________________________________________________________________\n",
      "dense_3 (Dense)              (None, 1)                 301       \n",
      "_________________________________________________________________\n",
      "activation_3 (Activation)    (None, 1)                 0         \n",
      "=================================================================\n",
      "Total params: 421,533\n",
      "Trainable params: 421,533\n",
      "Non-trainable params: 0\n",
      "_________________________________________________________________\n",
      "None\n"
     ]
    }
   ],
   "source": [
    "# get model\n",
    "model = MyLSTM()"
   ]
  },
  {
   "cell_type": "markdown",
   "metadata": {},
   "source": [
    "# load data, each document has 1000 words with 128 dimension array"
   ]
  },
  {
   "cell_type": "code",
   "execution_count": null,
   "metadata": {},
   "outputs": [],
   "source": [
    "# fit train data\n",
    "trainData, trainLabel = Doc2Vec.LoadDataTrain()\n",
    "# model.fit(trainData, trainLabel, validation_split=0.20,\n",
    "#           epochs=10, batch_size=64, callbacks=[EarlyStopping(patience=2)])\n",
    "model.fit(trainData, trainLabel, validation_split=0.2, epochs=10, batch_size=64)\n",
    "# save model\n",
    "model.save('./Persistence/model.h5')\n",
    "# model = load_model('./RNN/model.h5')\n",
    "X_test = Doc2Vec.LoadDataTest()\n",
    "Y_test = model.predict(X_test)\n",
    "# print(Y_test)\n",
    "# print(Y_test.ndim)\n",
    "# save result\n",
    "# Doc2Vec.SaveResult(Y_test)"
   ]
  },
  {
   "cell_type": "code",
   "execution_count": null,
   "metadata": {},
   "outputs": [],
   "source": []
  }
 ],
 "metadata": {
  "kernelspec": {
   "display_name": "Python 3",
   "language": "python",
   "name": "python3"
  },
  "language_info": {
   "codemirror_mode": {
    "name": "ipython",
    "version": 3
   },
   "file_extension": ".py",
   "mimetype": "text/x-python",
   "name": "python",
   "nbconvert_exporter": "python",
   "pygments_lexer": "ipython3",
   "version": "3.6.4"
  }
 },
 "nbformat": 4,
 "nbformat_minor": 2
}
