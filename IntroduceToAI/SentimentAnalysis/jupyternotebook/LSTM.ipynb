{
 "cells": [
  {
   "cell_type": "code",
   "execution_count": 8,
   "metadata": {},
   "outputs": [],
   "source": [
    "import os\n",
    "os.environ['TF_CPP_MIN_LOG_LEVEL'] = '2'\n",
    "from keras.models import Sequential\n",
    "from keras.layers import Dense, Activation, Dropout, LSTM, Bidirectional\n",
    "from keras.layers.convolutional import MaxPooling1D, Conv1D\n",
    "from keras.callbacks import EarlyStopping\n",
    "from keras.models import load_model\n",
    "import pickle\n",
    "import numpy as np\n",
    "import pandas as pd\n",
    "# import my file\n",
    "import Doc2Vec"
   ]
  },
  {
   "cell_type": "markdown",
   "metadata": {},
   "source": [
    "# build model, 4 Convolutional layer, 1 LSTM layer, 1 dense, using dropout"
   ]
  },
  {
   "cell_type": "code",
   "execution_count": 9,
   "metadata": {},
   "outputs": [],
   "source": [
    "def MyLSTM():\n",
    "    # model\n",
    "    model = Sequential()\n",
    "    # add conv1D layer\n",
    "    model.add(Conv1D(filters=32, kernel_size=3, padding='same',\n",
    "                     activation='relu', input_shape=(1000, 128)))\n",
    "    model.add(Dropout(0.2))\n",
    "    model.add(MaxPooling1D(pool_size=3))\n",
    "    model.add(Dropout(0.2))\n",
    "    # add conv1D layer\n",
    "    model.add(Conv1D(filters=32, kernel_size=3,\n",
    "                     padding='same', activation='relu'))\n",
    "    model.add(Dropout(0.2))\n",
    "    model.add(MaxPooling1D(pool_size=3))\n",
    "    model.add(Dropout(0.2))\n",
    "    # add conv1D layer\n",
    "    model.add(Conv1D(filters=32, kernel_size=3,\n",
    "                     padding='same', activation='relu'))\n",
    "    model.add(Dropout(0.2))\n",
    "    model.add(MaxPooling1D(pool_size=3))\n",
    "    model.add(Dropout(0.2))\n",
    "    # add conv1D layer\n",
    "    model.add(Conv1D(filters=32, kernel_size=3,\n",
    "                     padding='same', activation='relu'))\n",
    "    model.add(Dropout(0.2))\n",
    "    model.add(MaxPooling1D(pool_size=3))\n",
    "    model.add(Dropout(0.2))\n",
    "    # add LSTM layer\n",
    "    model.add(LSTM(300, dropout=0.2, recurrent_dropout=0.2))\n",
    "    # model.add(Dropout(0.2))\n",
    "    model.add(Dense(1))\n",
    "    model.add(Activation('sigmoid'))\n",
    "    model.compile(loss='binary_crossentropy',\n",
    "                  optimizer='adam', metrics=['accuracy'])\n",
    "    # model complete\n",
    "    print(model.summary())\n",
    "    return model"
   ]
  },
  {
   "cell_type": "markdown",
   "metadata": {},
   "source": [
    "## init model "
   ]
  },
  {
   "cell_type": "code",
   "execution_count": 10,
   "metadata": {
    "scrolled": true
   },
   "outputs": [
    {
     "name": "stdout",
     "output_type": "stream",
     "text": [
      "_________________________________________________________________\n",
      "Layer (type)                 Output Shape              Param #   \n",
      "=================================================================\n",
      "conv1d_13 (Conv1D)           (None, 1000, 32)          12320     \n",
      "_________________________________________________________________\n",
      "dropout_25 (Dropout)         (None, 1000, 32)          0         \n",
      "_________________________________________________________________\n",
      "max_pooling1d_13 (MaxPooling (None, 333, 32)           0         \n",
      "_________________________________________________________________\n",
      "dropout_26 (Dropout)         (None, 333, 32)           0         \n",
      "_________________________________________________________________\n",
      "conv1d_14 (Conv1D)           (None, 333, 32)           3104      \n",
      "_________________________________________________________________\n",
      "dropout_27 (Dropout)         (None, 333, 32)           0         \n",
      "_________________________________________________________________\n",
      "max_pooling1d_14 (MaxPooling (None, 111, 32)           0         \n",
      "_________________________________________________________________\n",
      "dropout_28 (Dropout)         (None, 111, 32)           0         \n",
      "_________________________________________________________________\n",
      "conv1d_15 (Conv1D)           (None, 111, 32)           3104      \n",
      "_________________________________________________________________\n",
      "dropout_29 (Dropout)         (None, 111, 32)           0         \n",
      "_________________________________________________________________\n",
      "max_pooling1d_15 (MaxPooling (None, 37, 32)            0         \n",
      "_________________________________________________________________\n",
      "dropout_30 (Dropout)         (None, 37, 32)            0         \n",
      "_________________________________________________________________\n",
      "conv1d_16 (Conv1D)           (None, 37, 32)            3104      \n",
      "_________________________________________________________________\n",
      "dropout_31 (Dropout)         (None, 37, 32)            0         \n",
      "_________________________________________________________________\n",
      "max_pooling1d_16 (MaxPooling (None, 12, 32)            0         \n",
      "_________________________________________________________________\n",
      "dropout_32 (Dropout)         (None, 12, 32)            0         \n",
      "_________________________________________________________________\n",
      "lstm_4 (LSTM)                (None, 300)               399600    \n",
      "_________________________________________________________________\n",
      "dense_4 (Dense)              (None, 1)                 301       \n",
      "_________________________________________________________________\n",
      "activation_4 (Activation)    (None, 1)                 0         \n",
      "=================================================================\n",
      "Total params: 421,533\n",
      "Trainable params: 421,533\n",
      "Non-trainable params: 0\n",
      "_________________________________________________________________\n",
      "None\n"
     ]
    }
   ],
   "source": [
    "# get model\n",
    "model = MyLSTM()"
   ]
  },
  {
   "cell_type": "markdown",
   "metadata": {},
   "source": [
    "# load data, each document has 1000 words with 128 dimension array"
   ]
  },
  {
   "cell_type": "code",
   "execution_count": 11,
   "metadata": {},
   "outputs": [
    {
     "name": "stdout",
     "output_type": "stream",
     "text": [
      "load train data success!\n",
      "Train on 20000 samples, validate on 5000 samples\n",
      "Epoch 1/10\n",
      "20000/20000 [==============================] - 93s 5ms/step - loss: 0.5974 - acc: 0.6365 - val_loss: 0.4304 - val_acc: 0.8180\n",
      "Epoch 2/10\n",
      "20000/20000 [==============================] - 91s 5ms/step - loss: 0.3907 - acc: 0.8325 - val_loss: 0.3353 - val_acc: 0.8596\n",
      "Epoch 3/10\n",
      "20000/20000 [==============================] - 92s 5ms/step - loss: 0.3373 - acc: 0.8606 - val_loss: 0.3211 - val_acc: 0.8762\n",
      "Epoch 4/10\n",
      "20000/20000 [==============================] - 92s 5ms/step - loss: 0.3224 - acc: 0.8666 - val_loss: 0.3006 - val_acc: 0.8824\n",
      "Epoch 5/10\n",
      "20000/20000 [==============================] - 91s 5ms/step - loss: 0.3065 - acc: 0.8735 - val_loss: 0.3151 - val_acc: 0.8762\n",
      "Epoch 6/10\n",
      "20000/20000 [==============================] - 92s 5ms/step - loss: 0.2872 - acc: 0.8830 - val_loss: 0.3007 - val_acc: 0.8862\n",
      "Epoch 7/10\n",
      "20000/20000 [==============================] - 92s 5ms/step - loss: 0.2799 - acc: 0.8862 - val_loss: 0.2762 - val_acc: 0.8878\n",
      "Epoch 8/10\n",
      "20000/20000 [==============================] - 91s 5ms/step - loss: 0.2756 - acc: 0.8864 - val_loss: 0.2892 - val_acc: 0.8868\n",
      "Epoch 9/10\n",
      "20000/20000 [==============================] - 91s 5ms/step - loss: 0.2672 - acc: 0.8930 - val_loss: 0.2736 - val_acc: 0.8890\n",
      "Epoch 10/10\n",
      "20000/20000 [==============================] - 91s 5ms/step - loss: 0.2598 - acc: 0.8944 - val_loss: 0.2941 - val_acc: 0.8778\n",
      "load test data success!\n"
     ]
    }
   ],
   "source": [
    "# fit train data\n",
    "trainData, trainLabel = Doc2Vec.LoadDataTrain()\n",
    "# model.fit(trainData, trainLabel, validation_split=0.20,\n",
    "#           epochs=10, batch_size=64, callbacks=[EarlyStopping(patience=2)])\n",
    "model.fit(trainData, trainLabel, validation_split=0.2, epochs=10, batch_size=64)\n",
    "# save model\n",
    "model.save('./Persistence/model.h5')\n",
    "# model = load_model('./RNN/model.h5')\n",
    "X_test = Doc2Vec.LoadDataTest()\n",
    "Y_test = model.predict(X_test)\n",
    "# print(Y_test)\n",
    "# print(Y_test.ndim)\n",
    "# save result\n",
    "# Doc2Vec.SaveResult(Y_test)"
   ]
  },
  {
   "cell_type": "code",
   "execution_count": null,
   "metadata": {},
   "outputs": [],
   "source": []
  }
 ],
 "metadata": {
  "kernelspec": {
   "display_name": "Python 3",
   "language": "python",
   "name": "python3"
  },
  "language_info": {
   "codemirror_mode": {
    "name": "ipython",
    "version": 3
   },
   "file_extension": ".py",
   "mimetype": "text/x-python",
   "name": "python",
   "nbconvert_exporter": "python",
   "pygments_lexer": "ipython3",
   "version": "3.6.4"
  }
 },
 "nbformat": 4,
 "nbformat_minor": 2
}
