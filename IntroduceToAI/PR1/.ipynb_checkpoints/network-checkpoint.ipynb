{
 "cells": [
  {
   "cell_type": "code",
   "execution_count": 73,
   "metadata": {},
   "outputs": [],
   "source": [
    "import mnist_loader"
   ]
  },
  {
   "cell_type": "code",
   "execution_count": 74,
   "metadata": {},
   "outputs": [],
   "source": [
    "import Network\n"
   ]
  },
  {
   "cell_type": "code",
   "execution_count": 75,
   "metadata": {},
   "outputs": [],
   "source": [
    "net = Network.Network([784, 100, 10])"
   ]
  },
  {
   "cell_type": "code",
   "execution_count": 76,
   "metadata": {},
   "outputs": [
    {
     "name": "stdout",
     "output_type": "stream",
     "text": [
      "(60000,)\n",
      "(10000,)\n"
     ]
    }
   ],
   "source": [
    "training_data, test_data = Network.load_data_wrapper()"
   ]
  },
  {
   "cell_type": "code",
   "execution_count": 77,
   "metadata": {},
   "outputs": [
    {
     "name": "stdout",
     "output_type": "stream",
     "text": [
      "Epoch 0 : 9171 / 10000\n",
      "Epoch 1 : 9260 / 10000\n",
      "Epoch 2 : 9340 / 10000\n",
      "Epoch 3 : 9356 / 10000\n",
      "Epoch 4 : 9382 / 10000\n",
      "Epoch 5 : 9408 / 10000\n",
      "Epoch 6 : 9457 / 10000\n",
      "Epoch 7 : 9481 / 10000\n",
      "Epoch 8 : 9478 / 10000\n",
      "Epoch 9 : 9473 / 10000\n",
      "Epoch 10 : 9506 / 10000\n",
      "Epoch 11 : 9514 / 10000\n",
      "Epoch 12 : 9504 / 10000\n",
      "Epoch 13 : 9511 / 10000\n",
      "Epoch 14 : 9514 / 10000\n",
      "Epoch 15 : 9501 / 10000\n",
      "Epoch 16 : 9527 / 10000\n",
      "Epoch 17 : 9526 / 10000\n",
      "Epoch 18 : 9541 / 10000\n",
      "Epoch 19 : 9531 / 10000\n",
      "Epoch 20 : 9540 / 10000\n",
      "Epoch 21 : 9522 / 10000\n",
      "Epoch 22 : 9533 / 10000\n",
      "Epoch 23 : 9547 / 10000\n",
      "Epoch 24 : 9540 / 10000\n",
      "Epoch 25 : 9550 / 10000\n",
      "Epoch 26 : 9482 / 10000\n",
      "Epoch 27 : 9573 / 10000\n",
      "Epoch 28 : 9565 / 10000\n",
      "Epoch 29 : 9543 / 10000\n"
     ]
    }
   ],
   "source": [
    "net.SGD(training_data, 30, 10, 3.0, test_data=test_data)"
   ]
  },
  {
   "cell_type": "code",
   "execution_count": null,
   "metadata": {},
   "outputs": [],
   "source": []
  }
 ],
 "metadata": {
  "kernelspec": {
   "display_name": "Python 3",
   "language": "python",
   "name": "python3"
  },
  "language_info": {
   "codemirror_mode": {
    "name": "ipython",
    "version": 3
   },
   "file_extension": ".py",
   "mimetype": "text/x-python",
   "name": "python",
   "nbconvert_exporter": "python",
   "pygments_lexer": "ipython3",
   "version": "3.6.4"
  }
 },
 "nbformat": 4,
 "nbformat_minor": 2
}
