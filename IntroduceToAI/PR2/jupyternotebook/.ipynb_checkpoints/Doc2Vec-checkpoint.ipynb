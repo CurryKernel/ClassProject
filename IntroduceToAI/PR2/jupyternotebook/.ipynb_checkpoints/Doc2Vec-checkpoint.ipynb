{
 "cells": [
  {
   "cell_type": "code",
   "execution_count": 25,
   "metadata": {},
   "outputs": [],
   "source": [
    "# gensim modules\n",
    "from gensim import utils\n",
    "from gensim.models.doc2vec import TaggedDocument\n",
    "from gensim.models import Doc2Vec\n",
    "import pandas as pd\n",
    "# numpy\n",
    "import numpy as np\n",
    "# random\n",
    "from random import shuffle\n",
    "# classifier\n",
    "from sklearn.linear_model import LogisticRegression"
   ]
  },
  {
   "cell_type": "markdown",
   "metadata": {},
   "source": [
    "# get dataframe"
   ]
  },
  {
   "cell_type": "code",
   "execution_count": 26,
   "metadata": {},
   "outputs": [],
   "source": [
    "NegTrainDataPath = \"CleanData\\\\train-neg.txt\"\n",
    "PosTrainDataPath = \"CleanData\\\\train-pos.txt\"\n",
    "UnLabelTrainDataPath = \"CleanData\\\\train-unsup.txt\"\n",
    "testDataPath = \"CleanData\\\\test.txt\""
   ]
  },
  {
   "cell_type": "code",
   "execution_count": 30,
   "metadata": {},
   "outputs": [],
   "source": [
    "NegLabelTrainDataFrame = pd.read_csv(NegTrainDataPath,header=None)\n",
    "PosLabelTrainDataFrame = pd.read_csv(PosTrainDataPath,header=None)\n",
    "UnLabelTrainDataFrame = pd.read_csv(UnLabelTrainDataPath,header=None)\n",
    "TestDataFrame = pd.read_csv(testDataPath,header=None)"
   ]
  },
  {
   "cell_type": "code",
   "execution_count": 31,
   "metadata": {},
   "outputs": [
    {
     "name": "stdout",
     "output_type": "stream",
     "text": [
      "NegTrainData =  12500\n",
      "PosTrainData =  12500\n",
      "UnLabelTrainData =  50000\n",
      "TestData =  25000\n"
     ]
    }
   ],
   "source": [
    "print(\"NegTrainData = \",NegLabelTrainDataFrame.shape[0])\n",
    "print(\"PosTrainData = \",PosLabelTrainDataFrame.shape[0])\n",
    "print(\"UnLabelTrainData = \",UnLabelTrainDataFrame.shape[0])\n",
    "print(\"TestData = \",TestDataFrame.shape[0])"
   ]
  },
  {
   "cell_type": "markdown",
   "metadata": {},
   "source": [
    "# loadmodel"
   ]
  },
  {
   "cell_type": "code",
   "execution_count": 32,
   "metadata": {},
   "outputs": [],
   "source": [
    "model = Doc2Vec.load('./Model/imdb.d2v')"
   ]
  },
  {
   "cell_type": "markdown",
   "metadata": {},
   "source": [
    "#  a sample vector "
   ]
  },
  {
   "cell_type": "code",
   "execution_count": 33,
   "metadata": {},
   "outputs": [
    {
     "data": {
      "text/plain": [
       "array([ -6.62691534e-01,  -7.76247692e+00,   2.40531802e+00,\n",
       "        -3.79832411e+00,   4.68630075e+00,   6.01266742e-01,\n",
       "         2.65584946e+00,   2.48005986e-03,  -3.24314213e+00,\n",
       "        -8.89416933e-02,   2.93580627e+00,  -7.79288113e-01,\n",
       "         1.55539155e+00,  -3.08664632e+00,   6.55950308e+00,\n",
       "         2.63487029e+00,   3.27819824e+00,  -7.67582417e-01,\n",
       "         6.47629261e-01,  -1.07775927e+00,   3.05098981e-01,\n",
       "        -2.86874801e-01,  -3.14541960e+00,   9.44287360e-01,\n",
       "         1.80172253e+00,  -3.12100601e+00,  -2.05273628e+00,\n",
       "        -5.92697084e-01,  -4.72062302e+00,  -6.03741312e+00,\n",
       "        -3.10472775e+00,   2.27795315e+00,  -5.60661602e+00,\n",
       "         3.58796453e+00,  -6.22448087e-01,   1.44651663e+00,\n",
       "        -8.29010382e-02,  -1.95712864e+00,  -5.06302655e-01,\n",
       "         1.62629855e+00,   2.58372545e+00,   1.21157682e+00,\n",
       "        -1.70597863e+00,   1.65418839e+00,   1.13596499e+00,\n",
       "         2.81472373e+00,  -5.64618492e+00,  -4.42828560e+00,\n",
       "        -3.87430906e+00,   2.51064110e+00,  -3.14564562e+00,\n",
       "         7.43221879e-01,  -1.86803317e+00,  -5.72782576e-01,\n",
       "         6.71011806e-01,  -2.92667770e+00,   2.25599074e+00,\n",
       "        -1.96786284e+00,  -9.98493969e-01,   9.75389671e+00,\n",
       "        -1.13252175e+00,  -4.14925528e+00,  -5.21203995e+00,\n",
       "        -6.76068068e+00,  -3.90878749e+00,   1.96954262e+00,\n",
       "         2.74700618e+00,  -3.47910023e+00,  -5.93412209e+00,\n",
       "        -6.38014674e-01,   4.84356284e-01,  -4.96565294e+00,\n",
       "        -2.18422461e+00,  -4.44803476e+00,  -4.34039879e+00,\n",
       "         1.57309639e+00,   4.26661825e+00,   2.37578487e+00,\n",
       "         2.41723037e+00,  -1.87417138e+00,  -2.60665584e+00,\n",
       "         2.42834735e+00,   3.64462280e+00,  -5.50337934e+00,\n",
       "        -2.29109383e+00,  -1.84121192e+00,   9.77308273e-01,\n",
       "         3.69752216e+00,  -8.52388963e-02,  -3.94283628e+00,\n",
       "        -1.08657146e+00,   3.58684802e+00,  -3.65730309e+00,\n",
       "        -5.71785688e+00,   4.11086178e+00,   1.71784294e+00,\n",
       "         9.39648807e-01,   7.53803253e-01,  -1.45982194e+00,\n",
       "        -6.76372588e-01], dtype=float32)"
      ]
     },
     "execution_count": 33,
     "metadata": {},
     "output_type": "execute_result"
    }
   ],
   "source": [
    "model['TRAIN_NEG_0']"
   ]
  },
  {
   "cell_type": "markdown",
   "metadata": {},
   "source": [
    "## Inspecting the Model"
   ]
  },
  {
   "cell_type": "code",
   "execution_count": 34,
   "metadata": {},
   "outputs": [
    {
     "data": {
      "text/plain": [
       "[('decent', 0.7674194574356079),\n",
       " ('great', 0.7440007328987122),\n",
       " ('fine', 0.7338722944259644),\n",
       " ('bad', 0.7250358462333679),\n",
       " ('solid', 0.6936144232749939),\n",
       " ('nice', 0.6750378012657166),\n",
       " ('well', 0.6653556823730469),\n",
       " ('fantastic', 0.6441545486450195),\n",
       " ('terrible', 0.6301878690719604),\n",
       " ('excellent', 0.6274154186248779)]"
      ]
     },
     "execution_count": 34,
     "metadata": {},
     "output_type": "execute_result"
    }
   ],
   "source": [
    "model.wv.most_similar('good')"
   ]
  },
  {
   "cell_type": "code",
   "execution_count": 35,
   "metadata": {},
   "outputs": [
    {
     "data": {
      "text/plain": [
       "'kitchen'"
      ]
     },
     "execution_count": 35,
     "metadata": {},
     "output_type": "execute_result"
    }
   ],
   "source": [
    "model.wv.doesnt_match(\"man woman child kitchen\".split())"
   ]
  },
  {
   "cell_type": "code",
   "execution_count": 36,
   "metadata": {},
   "outputs": [
    {
     "data": {
      "text/plain": [
       "[('girl', 0.8233434557914734),\n",
       " ('men', 0.6354216933250427),\n",
       " ('lady', 0.6248824596405029),\n",
       " ('child', 0.5895017385482788),\n",
       " ('kid', 0.5808984637260437),\n",
       " ('gal', 0.571243941783905),\n",
       " ('teenager', 0.560899555683136),\n",
       " ('daughter', 0.5439508557319641),\n",
       " ('sister', 0.5325612425804138),\n",
       " ('lad', 0.5323701500892639)]"
      ]
     },
     "execution_count": 36,
     "metadata": {},
     "output_type": "execute_result"
    }
   ],
   "source": [
    "model.wv.most_similar(positive=['woman','boy'],negative=['man'],topn=10)"
   ]
  },
  {
   "cell_type": "code",
   "execution_count": 40,
   "metadata": {},
   "outputs": [
    {
     "data": {
      "text/plain": [
       "[('TRAIN_POS_6447', 0.4735139310359955),\n",
       " ('TEST_10853', 0.4671124815940857),\n",
       " ('TEST_14878', 0.4459395408630371),\n",
       " ('TRAIN_POS_9332', 0.4343237578868866),\n",
       " ('TRAIN_UNS_23216', 0.43367835879325867),\n",
       " ('TRAIN_UNS_24182', 0.43035855889320374),\n",
       " ('TRAIN_UNS_13567', 0.4298480749130249),\n",
       " ('TRAIN_UNS_9710', 0.426700234413147),\n",
       " ('TRAIN_UNS_18602', 0.42652761936187744),\n",
       " ('TEST_22134', 0.426236093044281)]"
      ]
     },
     "execution_count": 40,
     "metadata": {},
     "output_type": "execute_result"
    }
   ],
   "source": [
    "model.docvecs.most_similar(0)"
   ]
  },
  {
   "cell_type": "code",
   "execution_count": 38,
   "metadata": {},
   "outputs": [
    {
     "data": {
      "text/plain": [
       "array([ 2.95239973, -1.24969399,  3.29956985, -3.90462565,  4.61045265,\n",
       "        5.51968288,  0.39832857,  4.1443119 , -1.29792786, -0.34585753,\n",
       "       -4.00481272,  0.86193132,  3.09168172,  3.9264338 , -1.76124251,\n",
       "       -5.4568038 ,  0.59171295,  3.06078196, -4.07117271, -0.18574995,\n",
       "        3.2747879 , -0.46941936,  0.03911133, -4.64472246,  4.89604139,\n",
       "       -3.14762974, -1.24758673, -0.30737233, -0.23196392,  0.84912157,\n",
       "       -4.2230196 , -0.7549361 ,  4.38383293,  2.61794567, -0.55559188,\n",
       "       -1.1644603 ,  1.79213178, -1.66251159, -0.5805034 ,  1.87585771,\n",
       "       -3.2442956 ,  2.58748746, -6.56832647, -2.94067574,  1.32970643,\n",
       "        2.68853927, -1.69721258, -1.79148626, -8.86662197,  1.20294356,\n",
       "       -1.77326357, -0.10407368,  2.62547898, -0.50494879, -2.01088643,\n",
       "        0.09080964,  2.30544114, -2.91932392, -4.02691031,  8.32335854,\n",
       "        0.53457642,  3.04086828,  4.17223024, -0.7443428 ,  2.18706608,\n",
       "       -2.46791577,  0.38441673,  8.10077477,  1.06671786, -1.57949018,\n",
       "        1.61706913, -1.54608476,  0.95284015, -2.78473353, -2.80193591,\n",
       "       -4.89531946, -2.20222664, -0.73161048,  1.46036208,  0.5364278 ,\n",
       "        1.39427269, -0.15211868, -1.13897371,  2.20785069, -5.18967009,\n",
       "        0.81071365,  0.75897986,  6.12849569,  2.80067253,  5.58790922,\n",
       "        1.29690516,  1.4529078 , -0.57433176,  1.20558894,  2.21884632,\n",
       "       -1.19158292, -0.63834053, -4.81173563, -4.01016235, -1.23843253], dtype=float32)"
      ]
     },
     "execution_count": 38,
     "metadata": {},
     "output_type": "execute_result"
    }
   ],
   "source": [
    "model[\"TEST_24810\"]"
   ]
  },
  {
   "cell_type": "markdown",
   "metadata": {},
   "source": [
    "# get vector for train"
   ]
  },
  {
   "cell_type": "code",
   "execution_count": 15,
   "metadata": {},
   "outputs": [],
   "source": [
    "train_arrays = np.zeros((25000, 100))\n",
    "train_labels = np.zeros(25000)\n",
    "for i in range(12500):\n",
    "    prefix_train_pos = 'TRAIN_POS_' + str(i)\n",
    "    prefix_train_neg = 'TRAIN_NEG_' + str(i)\n",
    "    train_arrays[i] = model[prefix_train_pos]\n",
    "    train_arrays[12500 + i] = model[prefix_train_neg]\n",
    "    train_labels[i] = 1\n",
    "    train_labels[12500 + i] = 0"
   ]
  },
  {
   "cell_type": "code",
   "execution_count": 16,
   "metadata": {},
   "outputs": [
    {
     "data": {
      "text/plain": [
       "25000"
      ]
     },
     "execution_count": 16,
     "metadata": {},
     "output_type": "execute_result"
    }
   ],
   "source": [
    "len(train_arrays)"
   ]
  },
  {
   "cell_type": "code",
   "execution_count": 17,
   "metadata": {},
   "outputs": [
    {
     "data": {
      "text/plain": [
       "array([ 1.,  1.,  1., ...,  0.,  0.,  0.])"
      ]
     },
     "execution_count": 17,
     "metadata": {},
     "output_type": "execute_result"
    }
   ],
   "source": [
    "train_labels"
   ]
  },
  {
   "cell_type": "markdown",
   "metadata": {},
   "source": [
    "## Testing Vectors"
   ]
  },
  {
   "cell_type": "code",
   "execution_count": 18,
   "metadata": {},
   "outputs": [],
   "source": [
    "test_arrays = np.zeros((25000, 100))\n",
    "test_labels = np.zeros(25000)\n",
    "for i in range(25000):\n",
    "    prefix_test = 'TEST_' + str(i)\n",
    "    test_arrays[i] = model[prefix_test]"
   ]
  },
  {
   "cell_type": "code",
   "execution_count": 19,
   "metadata": {},
   "outputs": [
    {
     "data": {
      "text/plain": [
       "array([[-0.39829364, -1.03931415,  0.46423477, ...,  1.41197491,\n",
       "         0.0731272 ,  0.40817806],\n",
       "       [ 1.22825682, -0.1777443 ,  0.84348565, ...,  0.44782853,\n",
       "        -0.85918063,  0.85374272],\n",
       "       [-0.16876324, -0.28066337,  0.16496465, ...,  0.65222448,\n",
       "         1.08759677,  0.59662902],\n",
       "       ..., \n",
       "       [ 0.73282796, -0.03569606,  0.60188103, ...,  0.68542176,\n",
       "        -1.02991974,  0.41950887],\n",
       "       [-0.21041313, -0.68366021,  0.20423155, ...,  0.76312685,\n",
       "         1.30831742,  1.06854141],\n",
       "       [ 0.3202036 ,  0.23481277,  0.78861231, ..., -0.16153495,\n",
       "         0.89629811,  0.06097912]])"
      ]
     },
     "execution_count": 19,
     "metadata": {},
     "output_type": "execute_result"
    }
   ],
   "source": [
    "test_arrays"
   ]
  },
  {
   "cell_type": "code",
   "execution_count": null,
   "metadata": {},
   "outputs": [],
   "source": []
  },
  {
   "cell_type": "markdown",
   "metadata": {},
   "source": [
    "# get data from class"
   ]
  },
  {
   "cell_type": "code",
   "execution_count": null,
   "metadata": {},
   "outputs": [],
   "source": [
    "import Train"
   ]
  },
  {
   "cell_type": "code",
   "execution_count": null,
   "metadata": {},
   "outputs": [],
   "source": [
    "data = GetData(\"./imdb2.d2v\",\"TRAIN_POS_\",\"TRAIN_NEG_\",12500,12500,\"TEST_\",25000)\n",
    "\n",
    "model = data.GetModel()\n",
    "\n",
    "train_arrays, train_labels, test_arrays = data.GetArray()"
   ]
  },
  {
   "cell_type": "code",
   "execution_count": null,
   "metadata": {},
   "outputs": [],
   "source": []
  }
 ],
 "metadata": {
  "kernelspec": {
   "display_name": "Python 3",
   "language": "python",
   "name": "python3"
  },
  "language_info": {
   "codemirror_mode": {
    "name": "ipython",
    "version": 3
   },
   "file_extension": ".py",
   "mimetype": "text/x-python",
   "name": "python",
   "nbconvert_exporter": "python",
   "pygments_lexer": "ipython3",
   "version": "3.6.4"
  }
 },
 "nbformat": 4,
 "nbformat_minor": 2
}
