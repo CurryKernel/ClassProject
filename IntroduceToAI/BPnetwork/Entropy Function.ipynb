{
 "cells": [
  {
   "cell_type": "markdown",
   "metadata": {},
   "source": [
    "# inport data"
   ]
  },
  {
   "cell_type": "code",
   "execution_count": 1,
   "metadata": {},
   "outputs": [],
   "source": [
    "import Network2"
   ]
  },
  {
   "cell_type": "code",
   "execution_count": 2,
   "metadata": {},
   "outputs": [
    {
     "name": "stdout",
     "output_type": "stream",
     "text": [
      "(60000,)\n",
      "(10000,)\n"
     ]
    }
   ],
   "source": [
    "training_data, vaildation_data,test_data = Network2.load_data_wrapper()"
   ]
  },
  {
   "cell_type": "markdown",
   "metadata": {},
   "source": [
    "# use entropy funciton to see improvment"
   ]
  },
  {
   "cell_type": "code",
   "execution_count": 3,
   "metadata": {},
   "outputs": [],
   "source": [
    "net = Network2.Network([784,30,10],cost = Network2.CrossEntropyCost)"
   ]
  },
  {
   "cell_type": "markdown",
   "metadata": {},
   "source": [
    "## initialization as ch1 use Gaussian distribution"
   ]
  },
  {
   "cell_type": "code",
   "execution_count": 4,
   "metadata": {},
   "outputs": [],
   "source": [
    "net.large_weight_initializer()"
   ]
  },
  {
   "cell_type": "markdown",
   "metadata": {},
   "source": [
    "## epoch 30 times, 10 mini batch, 0.5 learning rate"
   ]
  },
  {
   "cell_type": "code",
   "execution_count": 5,
   "metadata": {
    "scrolled": true
   },
   "outputs": [
    {
     "name": "stdout",
     "output_type": "stream",
     "text": [
      "Epoch 0 training complete\n",
      "Accuracy on evaluation data: 9142 / 10000\n",
      "Epoch 1 training complete\n",
      "Accuracy on evaluation data: 9288 / 10000\n",
      "Epoch 2 training complete\n",
      "Accuracy on evaluation data: 9326 / 10000\n",
      "Epoch 3 training complete\n",
      "Accuracy on evaluation data: 9384 / 10000\n",
      "Epoch 4 training complete\n",
      "Accuracy on evaluation data: 9422 / 10000\n",
      "Epoch 5 training complete\n",
      "Accuracy on evaluation data: 9445 / 10000\n",
      "Epoch 6 training complete\n",
      "Accuracy on evaluation data: 9440 / 10000\n",
      "Epoch 7 training complete\n",
      "Accuracy on evaluation data: 9384 / 10000\n",
      "Epoch 8 training complete\n",
      "Accuracy on evaluation data: 9467 / 10000\n",
      "Epoch 9 training complete\n",
      "Accuracy on evaluation data: 9487 / 10000\n",
      "Epoch 10 training complete\n",
      "Accuracy on evaluation data: 9478 / 10000\n",
      "Epoch 11 training complete\n",
      "Accuracy on evaluation data: 9471 / 10000\n",
      "Epoch 12 training complete\n",
      "Accuracy on evaluation data: 9489 / 10000\n",
      "Epoch 13 training complete\n",
      "Accuracy on evaluation data: 9480 / 10000\n",
      "Epoch 14 training complete\n",
      "Accuracy on evaluation data: 9486 / 10000\n",
      "Epoch 15 training complete\n",
      "Accuracy on evaluation data: 9470 / 10000\n",
      "Epoch 16 training complete\n",
      "Accuracy on evaluation data: 9523 / 10000\n",
      "Epoch 17 training complete\n",
      "Accuracy on evaluation data: 9498 / 10000\n",
      "Epoch 18 training complete\n",
      "Accuracy on evaluation data: 9513 / 10000\n",
      "Epoch 19 training complete\n",
      "Accuracy on evaluation data: 9512 / 10000\n",
      "Epoch 20 training complete\n",
      "Accuracy on evaluation data: 9513 / 10000\n",
      "Epoch 21 training complete\n",
      "Accuracy on evaluation data: 9514 / 10000\n",
      "Epoch 22 training complete\n",
      "Accuracy on evaluation data: 9523 / 10000\n",
      "Epoch 23 training complete\n",
      "Accuracy on evaluation data: 9550 / 10000\n",
      "Epoch 24 training complete\n",
      "Accuracy on evaluation data: 9550 / 10000\n",
      "Epoch 25 training complete\n",
      "Accuracy on evaluation data: 9537 / 10000\n",
      "Epoch 26 training complete\n",
      "Accuracy on evaluation data: 9550 / 10000\n",
      "Epoch 27 training complete\n",
      "Accuracy on evaluation data: 9556 / 10000\n",
      "Epoch 28 training complete\n",
      "Accuracy on evaluation data: 9513 / 10000\n",
      "Epoch 29 training complete\n",
      "Accuracy on evaluation data: 9553 / 10000\n"
     ]
    },
    {
     "data": {
      "text/plain": [
       "([],\n",
       " [9142,\n",
       "  9288,\n",
       "  9326,\n",
       "  9384,\n",
       "  9422,\n",
       "  9445,\n",
       "  9440,\n",
       "  9384,\n",
       "  9467,\n",
       "  9487,\n",
       "  9478,\n",
       "  9471,\n",
       "  9489,\n",
       "  9480,\n",
       "  9486,\n",
       "  9470,\n",
       "  9523,\n",
       "  9498,\n",
       "  9513,\n",
       "  9512,\n",
       "  9513,\n",
       "  9514,\n",
       "  9523,\n",
       "  9550,\n",
       "  9550,\n",
       "  9537,\n",
       "  9550,\n",
       "  9556,\n",
       "  9513,\n",
       "  9553],\n",
       " [],\n",
       " [])"
      ]
     },
     "execution_count": 5,
     "metadata": {},
     "output_type": "execute_result"
    }
   ],
   "source": [
    "net.SGD(training_data,30,10,0.5,evaluation_data=test_data,monitor_evaluation_accuracy = True) "
   ]
  },
  {
   "cell_type": "markdown",
   "metadata": {},
   "source": [
    "准确率达到95%"
   ]
  },
  {
   "cell_type": "markdown",
   "metadata": {},
   "source": [
    "## 增加到100个神经元，准确率就提升到97%，说明交叉熵有明显作用"
   ]
  },
  {
   "cell_type": "code",
   "execution_count": 13,
   "metadata": {},
   "outputs": [],
   "source": [
    "net2 = Network2.Network([784,100,10],cost = Network2.CrossEntropyCost)"
   ]
  },
  {
   "cell_type": "code",
   "execution_count": 14,
   "metadata": {
    "scrolled": true
   },
   "outputs": [
    {
     "name": "stdout",
     "output_type": "stream",
     "text": [
      "Epoch 0 training complete\n",
      "Accuracy on evaluation data: 9576 / 10000\n",
      "Epoch 1 training complete\n",
      "Accuracy on evaluation data: 9673 / 10000\n",
      "Epoch 2 training complete\n",
      "Accuracy on evaluation data: 9683 / 10000\n",
      "Epoch 3 training complete\n",
      "Accuracy on evaluation data: 9729 / 10000\n",
      "Epoch 4 training complete\n",
      "Accuracy on evaluation data: 9717 / 10000\n",
      "Epoch 5 training complete\n",
      "Accuracy on evaluation data: 9764 / 10000\n",
      "Epoch 6 training complete\n",
      "Accuracy on evaluation data: 9762 / 10000\n",
      "Epoch 7 training complete\n",
      "Accuracy on evaluation data: 9774 / 10000\n",
      "Epoch 8 training complete\n",
      "Accuracy on evaluation data: 9750 / 10000\n",
      "Epoch 9 training complete\n",
      "Accuracy on evaluation data: 9770 / 10000\n",
      "Epoch 10 training complete\n",
      "Accuracy on evaluation data: 9753 / 10000\n",
      "Epoch 11 training complete\n",
      "Accuracy on evaluation data: 9766 / 10000\n",
      "Epoch 12 training complete\n",
      "Accuracy on evaluation data: 9763 / 10000\n",
      "Epoch 13 training complete\n",
      "Accuracy on evaluation data: 9780 / 10000\n",
      "Epoch 14 training complete\n",
      "Accuracy on evaluation data: 9777 / 10000\n",
      "Epoch 15 training complete\n",
      "Accuracy on evaluation data: 9763 / 10000\n",
      "Epoch 16 training complete\n",
      "Accuracy on evaluation data: 9777 / 10000\n",
      "Epoch 17 training complete\n",
      "Accuracy on evaluation data: 9765 / 10000\n",
      "Epoch 18 training complete\n",
      "Accuracy on evaluation data: 9777 / 10000\n",
      "Epoch 19 training complete\n",
      "Accuracy on evaluation data: 9774 / 10000\n",
      "Epoch 20 training complete\n",
      "Accuracy on evaluation data: 9776 / 10000\n",
      "Epoch 21 training complete\n",
      "Accuracy on evaluation data: 9777 / 10000\n",
      "Epoch 22 training complete\n",
      "Accuracy on evaluation data: 9778 / 10000\n",
      "Epoch 23 training complete\n",
      "Accuracy on evaluation data: 9781 / 10000\n",
      "Epoch 24 training complete\n",
      "Accuracy on evaluation data: 9776 / 10000\n",
      "Epoch 25 training complete\n",
      "Accuracy on evaluation data: 9778 / 10000\n",
      "Epoch 26 training complete\n",
      "Accuracy on evaluation data: 9777 / 10000\n",
      "Epoch 27 training complete\n",
      "Accuracy on evaluation data: 9783 / 10000\n",
      "Epoch 28 training complete\n",
      "Accuracy on evaluation data: 9787 / 10000\n",
      "Epoch 29 training complete\n",
      "Accuracy on evaluation data: 9784 / 10000\n"
     ]
    },
    {
     "data": {
      "text/plain": [
       "([],\n",
       " [9576,\n",
       "  9673,\n",
       "  9683,\n",
       "  9729,\n",
       "  9717,\n",
       "  9764,\n",
       "  9762,\n",
       "  9774,\n",
       "  9750,\n",
       "  9770,\n",
       "  9753,\n",
       "  9766,\n",
       "  9763,\n",
       "  9780,\n",
       "  9777,\n",
       "  9763,\n",
       "  9777,\n",
       "  9765,\n",
       "  9777,\n",
       "  9774,\n",
       "  9776,\n",
       "  9777,\n",
       "  9778,\n",
       "  9781,\n",
       "  9776,\n",
       "  9778,\n",
       "  9777,\n",
       "  9783,\n",
       "  9787,\n",
       "  9784],\n",
       " [],\n",
       " [])"
      ]
     },
     "execution_count": 14,
     "metadata": {},
     "output_type": "execute_result"
    }
   ],
   "source": [
    "net2.SGD(training_data,30,10,0.5,evaluation_data=test_data,monitor_evaluation_accuracy = True) "
   ]
  },
  {
   "cell_type": "markdown",
   "metadata": {},
   "source": [
    "# 增加到100个神经元，并规范化，准确率达到98%"
   ]
  },
  {
   "cell_type": "code",
   "execution_count": 26,
   "metadata": {},
   "outputs": [],
   "source": [
    "net3 = Network2.Network([784,100,10],cost = Network2.CrossEntropyCost)"
   ]
  },
  {
   "cell_type": "code",
   "execution_count": 27,
   "metadata": {},
   "outputs": [],
   "source": [
    "net3.large_weight_initializer()"
   ]
  },
  {
   "cell_type": "code",
   "execution_count": 28,
   "metadata": {},
   "outputs": [
    {
     "name": "stdout",
     "output_type": "stream",
     "text": [
      "Epoch 0 training complete\n",
      "Accuracy on evaluation data: 9793 / 10000\n",
      "Epoch 1 training complete\n",
      "Accuracy on evaluation data: 9797 / 10000\n",
      "Epoch 2 training complete\n",
      "Accuracy on evaluation data: 9797 / 10000\n",
      "Epoch 3 training complete\n",
      "Accuracy on evaluation data: 9793 / 10000\n",
      "Epoch 4 training complete\n",
      "Accuracy on evaluation data: 9787 / 10000\n",
      "Epoch 5 training complete\n",
      "Accuracy on evaluation data: 9812 / 10000\n",
      "Epoch 6 training complete\n",
      "Accuracy on evaluation data: 9800 / 10000\n",
      "Epoch 7 training complete\n",
      "Accuracy on evaluation data: 9801 / 10000\n",
      "Epoch 8 training complete\n",
      "Accuracy on evaluation data: 9808 / 10000\n",
      "Epoch 9 training complete\n",
      "Accuracy on evaluation data: 9794 / 10000\n",
      "Epoch 10 training complete\n",
      "Accuracy on evaluation data: 9806 / 10000\n",
      "Epoch 11 training complete\n",
      "Accuracy on evaluation data: 9789 / 10000\n",
      "Epoch 12 training complete\n",
      "Accuracy on evaluation data: 9796 / 10000\n",
      "Epoch 13 training complete\n",
      "Accuracy on evaluation data: 9800 / 10000\n",
      "Epoch 14 training complete\n",
      "Accuracy on evaluation data: 9807 / 10000\n",
      "Epoch 15 training complete\n",
      "Accuracy on evaluation data: 9812 / 10000\n",
      "Epoch 16 training complete\n",
      "Accuracy on evaluation data: 9796 / 10000\n",
      "Epoch 17 training complete\n",
      "Accuracy on evaluation data: 9794 / 10000\n",
      "Epoch 18 training complete\n",
      "Accuracy on evaluation data: 9801 / 10000\n",
      "Epoch 19 training complete\n",
      "Accuracy on evaluation data: 9804 / 10000\n",
      "Epoch 20 training complete\n",
      "Accuracy on evaluation data: 9800 / 10000\n",
      "Epoch 21 training complete\n",
      "Accuracy on evaluation data: 9799 / 10000\n",
      "Epoch 22 training complete\n",
      "Accuracy on evaluation data: 9799 / 10000\n",
      "Epoch 23 training complete\n",
      "Accuracy on evaluation data: 9797 / 10000\n",
      "Epoch 24 training complete\n",
      "Accuracy on evaluation data: 9801 / 10000\n",
      "Epoch 25 training complete\n",
      "Accuracy on evaluation data: 9795 / 10000\n",
      "Epoch 26 training complete\n",
      "Accuracy on evaluation data: 9805 / 10000\n",
      "Epoch 27 training complete\n",
      "Accuracy on evaluation data: 9808 / 10000\n",
      "Epoch 28 training complete\n",
      "Accuracy on evaluation data: 9801 / 10000\n",
      "Epoch 29 training complete\n",
      "Accuracy on evaluation data: 9812 / 10000\n",
      "Epoch 30 training complete\n",
      "Accuracy on evaluation data: 9795 / 10000\n",
      "Epoch 31 training complete\n",
      "Accuracy on evaluation data: 9804 / 10000\n",
      "Epoch 32 training complete\n",
      "Accuracy on evaluation data: 9805 / 10000\n",
      "Epoch 33 training complete\n",
      "Accuracy on evaluation data: 9800 / 10000\n",
      "Epoch 34 training complete\n",
      "Accuracy on evaluation data: 9802 / 10000\n",
      "Epoch 35 training complete\n",
      "Accuracy on evaluation data: 9803 / 10000\n",
      "Epoch 36 training complete\n",
      "Accuracy on evaluation data: 9794 / 10000\n",
      "Epoch 37 training complete\n",
      "Accuracy on evaluation data: 9797 / 10000\n",
      "Epoch 38 training complete\n",
      "Accuracy on evaluation data: 9790 / 10000\n",
      "Epoch 39 training complete\n",
      "Accuracy on evaluation data: 9808 / 10000\n",
      "Epoch 40 training complete\n",
      "Accuracy on evaluation data: 9799 / 10000\n",
      "Epoch 41 training complete\n",
      "Accuracy on evaluation data: 9796 / 10000\n",
      "Epoch 42 training complete\n",
      "Accuracy on evaluation data: 9795 / 10000\n",
      "Epoch 43 training complete\n",
      "Accuracy on evaluation data: 9801 / 10000\n",
      "Epoch 44 training complete\n",
      "Accuracy on evaluation data: 9803 / 10000\n",
      "Epoch 45 training complete\n",
      "Accuracy on evaluation data: 9795 / 10000\n",
      "Epoch 46 training complete\n",
      "Accuracy on evaluation data: 9798 / 10000\n",
      "Epoch 47 training complete\n",
      "Accuracy on evaluation data: 9801 / 10000\n",
      "Epoch 48 training complete\n",
      "Accuracy on evaluation data: 9800 / 10000\n",
      "Epoch 49 training complete\n",
      "Accuracy on evaluation data: 9799 / 10000\n",
      "Epoch 50 training complete\n",
      "Accuracy on evaluation data: 9804 / 10000\n",
      "Epoch 51 training complete\n",
      "Accuracy on evaluation data: 9801 / 10000\n",
      "Epoch 52 training complete\n",
      "Accuracy on evaluation data: 9796 / 10000\n",
      "Epoch 53 training complete\n",
      "Accuracy on evaluation data: 9802 / 10000\n",
      "Epoch 54 training complete\n",
      "Accuracy on evaluation data: 9798 / 10000\n",
      "Epoch 55 training complete\n",
      "Accuracy on evaluation data: 9803 / 10000\n",
      "Epoch 56 training complete\n",
      "Accuracy on evaluation data: 9798 / 10000\n",
      "Epoch 57 training complete\n",
      "Accuracy on evaluation data: 9791 / 10000\n",
      "Epoch 58 training complete\n",
      "Accuracy on evaluation data: 9807 / 10000\n",
      "Epoch 59 training complete\n",
      "Accuracy on evaluation data: 9796 / 10000\n"
     ]
    },
    {
     "data": {
      "text/plain": [
       "([],\n",
       " [9793,\n",
       "  9797,\n",
       "  9797,\n",
       "  9793,\n",
       "  9787,\n",
       "  9812,\n",
       "  9800,\n",
       "  9801,\n",
       "  9808,\n",
       "  9794,\n",
       "  9806,\n",
       "  9789,\n",
       "  9796,\n",
       "  9800,\n",
       "  9807,\n",
       "  9812,\n",
       "  9796,\n",
       "  9794,\n",
       "  9801,\n",
       "  9804,\n",
       "  9800,\n",
       "  9799,\n",
       "  9799,\n",
       "  9797,\n",
       "  9801,\n",
       "  9795,\n",
       "  9805,\n",
       "  9808,\n",
       "  9801,\n",
       "  9812,\n",
       "  9795,\n",
       "  9804,\n",
       "  9805,\n",
       "  9800,\n",
       "  9802,\n",
       "  9803,\n",
       "  9794,\n",
       "  9797,\n",
       "  9790,\n",
       "  9808,\n",
       "  9799,\n",
       "  9796,\n",
       "  9795,\n",
       "  9801,\n",
       "  9803,\n",
       "  9795,\n",
       "  9798,\n",
       "  9801,\n",
       "  9800,\n",
       "  9799,\n",
       "  9804,\n",
       "  9801,\n",
       "  9796,\n",
       "  9802,\n",
       "  9798,\n",
       "  9803,\n",
       "  9798,\n",
       "  9791,\n",
       "  9807,\n",
       "  9796],\n",
       " [],\n",
       " [])"
      ]
     },
     "execution_count": 28,
     "metadata": {},
     "output_type": "execute_result"
    }
   ],
   "source": [
    "net2.SGD(training_data,60,10,0.1,evaluation_data=test_data,monitor_evaluation_accuracy = True,lmbda = 5.0) "
   ]
  },
  {
   "cell_type": "code",
   "execution_count": null,
   "metadata": {},
   "outputs": [],
   "source": []
  }
 ],
 "metadata": {
  "kernelspec": {
   "display_name": "Python 3",
   "language": "python",
   "name": "python3"
  },
  "language_info": {
   "codemirror_mode": {
    "name": "ipython",
    "version": 3
   },
   "file_extension": ".py",
   "mimetype": "text/x-python",
   "name": "python",
   "nbconvert_exporter": "python",
   "pygments_lexer": "ipython3",
   "version": "3.6.4"
  }
 },
 "nbformat": 4,
 "nbformat_minor": 2
}
