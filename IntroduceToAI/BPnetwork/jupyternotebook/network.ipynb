{
 "cells": [
  {
   "cell_type": "code",
   "execution_count": 29,
   "metadata": {},
   "outputs": [],
   "source": [
    "import Network"
   ]
  },
  {
   "cell_type": "markdown",
   "metadata": {},
   "source": [
    "# 设计神经网络结构"
   ]
  },
  {
   "cell_type": "markdown",
   "metadata": {},
   "source": [
    "## 100个神经元的隐藏层"
   ]
  },
  {
   "cell_type": "code",
   "execution_count": 50,
   "metadata": {},
   "outputs": [],
   "source": [
    "net = Network.Network([784, 100, 10])"
   ]
  },
  {
   "cell_type": "markdown",
   "metadata": {},
   "source": [
    "### Load data"
   ]
  },
  {
   "cell_type": "code",
   "execution_count": 51,
   "metadata": {},
   "outputs": [
    {
     "name": "stdout",
     "output_type": "stream",
     "text": [
      "(60000,)\n",
      "(10000,)\n"
     ]
    }
   ],
   "source": [
    "training_data, test_data = Network.load_data_wrapper()"
   ]
  },
  {
   "cell_type": "markdown",
   "metadata": {},
   "source": [
    "## 超参数分别为迭代次数、mini_batch_size、Learning Rate"
   ]
  },
  {
   "cell_type": "markdown",
   "metadata": {},
   "source": [
    "## 调试Learning Rate"
   ]
  },
  {
   "cell_type": "markdown",
   "metadata": {},
   "source": [
    "#### 测试30次迭代，mini batch 为10，学习速率为1"
   ]
  },
  {
   "cell_type": "code",
   "execution_count": 5,
   "metadata": {
    "scrolled": true
   },
   "outputs": [
    {
     "name": "stdout",
     "output_type": "stream",
     "text": [
      "Epoch 0 : 4724 / 10000\n",
      "Epoch 1 : 6297 / 10000\n",
      "Epoch 2 : 6530 / 10000\n",
      "Epoch 3 : 6604 / 10000\n",
      "Epoch 4 : 6624 / 10000\n",
      "Epoch 5 : 6640 / 10000\n",
      "Epoch 6 : 6659 / 10000\n",
      "Epoch 7 : 6682 / 10000\n",
      "Epoch 8 : 6761 / 10000\n",
      "Epoch 9 : 8493 / 10000\n",
      "Epoch 10 : 8540 / 10000\n",
      "Epoch 11 : 8543 / 10000\n",
      "Epoch 12 : 8562 / 10000\n",
      "Epoch 13 : 8566 / 10000\n",
      "Epoch 14 : 8595 / 10000\n",
      "Epoch 15 : 8593 / 10000\n",
      "Epoch 16 : 8605 / 10000\n",
      "Epoch 17 : 8612 / 10000\n",
      "Epoch 18 : 8622 / 10000\n",
      "Epoch 19 : 8621 / 10000\n",
      "Epoch 20 : 8623 / 10000\n",
      "Epoch 21 : 8626 / 10000\n",
      "Epoch 22 : 8625 / 10000\n",
      "Epoch 23 : 8623 / 10000\n",
      "Epoch 24 : 8634 / 10000\n",
      "Epoch 25 : 8630 / 10000\n",
      "Epoch 26 : 8632 / 10000\n",
      "Epoch 27 : 8641 / 10000\n",
      "Epoch 28 : 8646 / 10000\n",
      "Epoch 29 : 8638 / 10000\n"
     ]
    }
   ],
   "source": [
    "net.SGD(training_data, 30, 10, 1.0, test_data=test_data)"
   ]
  },
  {
   "cell_type": "markdown",
   "metadata": {},
   "source": [
    "#### 最终准确率86%，学习速率过小"
   ]
  },
  {
   "cell_type": "markdown",
   "metadata": {},
   "source": [
    "### 按倍数增长学习速率，看准确率提升的速度"
   ]
  },
  {
   "cell_type": "markdown",
   "metadata": {},
   "source": [
    "将学习速率设置为10"
   ]
  },
  {
   "cell_type": "code",
   "execution_count": 10,
   "metadata": {
    "scrolled": true
   },
   "outputs": [
    {
     "name": "stdout",
     "output_type": "stream",
     "text": [
      "Epoch 0 : 5397 / 10000\n",
      "Epoch 1 : 5719 / 10000\n",
      "Epoch 2 : 6243 / 10000\n",
      "Epoch 3 : 6584 / 10000\n",
      "Epoch 4 : 6880 / 10000\n",
      "Epoch 5 : 6888 / 10000\n",
      "Epoch 6 : 7244 / 10000\n",
      "Epoch 7 : 7216 / 10000\n",
      "Epoch 8 : 7426 / 10000\n",
      "Epoch 9 : 8006 / 10000\n",
      "Epoch 10 : 7803 / 10000\n",
      "Epoch 11 : 7981 / 10000\n",
      "Epoch 12 : 8034 / 10000\n",
      "Epoch 13 : 8097 / 10000\n",
      "Epoch 14 : 7976 / 10000\n",
      "Epoch 15 : 8153 / 10000\n",
      "Epoch 16 : 7981 / 10000\n",
      "Epoch 17 : 7955 / 10000\n",
      "Epoch 18 : 8222 / 10000\n",
      "Epoch 19 : 8298 / 10000\n",
      "Epoch 20 : 8352 / 10000\n",
      "Epoch 21 : 8305 / 10000\n",
      "Epoch 22 : 8491 / 10000\n",
      "Epoch 23 : 8498 / 10000\n",
      "Epoch 24 : 8477 / 10000\n",
      "Epoch 25 : 8440 / 10000\n",
      "Epoch 26 : 8302 / 10000\n",
      "Epoch 27 : 8503 / 10000\n",
      "Epoch 28 : 8388 / 10000\n",
      "Epoch 29 : 8716 / 10000\n"
     ]
    }
   ],
   "source": [
    "net.SGD(training_data, 30, 10, 10, test_data=test_data)"
   ]
  },
  {
   "cell_type": "markdown",
   "metadata": {},
   "source": [
    "#### 学习速率过快，在第9次时出现准确率下降，最终准确率87%，有一定提升。"
   ]
  },
  {
   "cell_type": "markdown",
   "metadata": {},
   "source": [
    "将学习速率设置为6"
   ]
  },
  {
   "cell_type": "code",
   "execution_count": 42,
   "metadata": {
    "scrolled": true
   },
   "outputs": [
    {
     "name": "stdout",
     "output_type": "stream",
     "text": [
      "Epoch 0 : 9119 / 10000\n",
      "Epoch 1 : 9176 / 10000\n",
      "Epoch 2 : 9397 / 10000\n",
      "Epoch 3 : 9348 / 10000\n",
      "Epoch 4 : 9367 / 10000\n",
      "Epoch 5 : 9367 / 10000\n",
      "Epoch 6 : 9445 / 10000\n",
      "Epoch 7 : 9352 / 10000\n",
      "Epoch 8 : 9497 / 10000\n",
      "Epoch 9 : 9472 / 10000\n",
      "Epoch 10 : 9521 / 10000\n",
      "Epoch 11 : 9477 / 10000\n",
      "Epoch 12 : 9497 / 10000\n",
      "Epoch 13 : 9466 / 10000\n",
      "Epoch 14 : 9463 / 10000\n",
      "Epoch 15 : 9472 / 10000\n",
      "Epoch 16 : 9494 / 10000\n",
      "Epoch 17 : 9534 / 10000\n",
      "Epoch 18 : 9535 / 10000\n",
      "Epoch 19 : 9528 / 10000\n",
      "Epoch 20 : 9515 / 10000\n",
      "Epoch 21 : 9554 / 10000\n",
      "Epoch 22 : 9531 / 10000\n",
      "Epoch 23 : 9563 / 10000\n",
      "Epoch 24 : 9568 / 10000\n",
      "Epoch 25 : 9561 / 10000\n",
      "Epoch 26 : 9523 / 10000\n",
      "Epoch 27 : 9599 / 10000\n",
      "Epoch 28 : 9571 / 10000\n",
      "Epoch 29 : 9549 / 10000\n"
     ]
    }
   ],
   "source": [
    "net.SGD(training_data, 30, 10, 6, test_data=test_data)"
   ]
  },
  {
   "cell_type": "markdown",
   "metadata": {},
   "source": [
    "#### 此时准确率上升到95%"
   ]
  },
  {
   "cell_type": "markdown",
   "metadata": {},
   "source": [
    "将学习速率设置为3"
   ]
  },
  {
   "cell_type": "code",
   "execution_count": 27,
   "metadata": {
    "scrolled": true
   },
   "outputs": [
    {
     "name": "stdout",
     "output_type": "stream",
     "text": [
      "Epoch 0 : 3065 / 10000\n",
      "Epoch 1 : 3779 / 10000\n",
      "Epoch 2 : 3792 / 10000\n",
      "Epoch 3 : 4597 / 10000\n",
      "Epoch 4 : 4682 / 10000\n",
      "Epoch 5 : 4748 / 10000\n",
      "Epoch 6 : 4791 / 10000\n",
      "Epoch 7 : 5598 / 10000\n",
      "Epoch 8 : 5643 / 10000\n",
      "Epoch 9 : 5650 / 10000\n",
      "Epoch 10 : 5667 / 10000\n",
      "Epoch 11 : 5699 / 10000\n",
      "Epoch 12 : 5692 / 10000\n",
      "Epoch 13 : 5712 / 10000\n",
      "Epoch 14 : 5703 / 10000\n",
      "Epoch 15 : 5694 / 10000\n",
      "Epoch 16 : 5710 / 10000\n",
      "Epoch 17 : 5712 / 10000\n",
      "Epoch 18 : 5703 / 10000\n",
      "Epoch 19 : 5759 / 10000\n",
      "Epoch 20 : 5724 / 10000\n",
      "Epoch 21 : 5756 / 10000\n",
      "Epoch 22 : 5768 / 10000\n",
      "Epoch 23 : 5772 / 10000\n",
      "Epoch 24 : 5772 / 10000\n",
      "Epoch 25 : 5792 / 10000\n",
      "Epoch 26 : 5797 / 10000\n",
      "Epoch 27 : 5823 / 10000\n",
      "Epoch 28 : 5838 / 10000\n",
      "Epoch 29 : 5868 / 10000\n"
     ]
    }
   ],
   "source": [
    "net.SGD(training_data, 30, 10,3, test_data=test_data)"
   ]
  },
  {
   "cell_type": "markdown",
   "metadata": {},
   "source": [
    "准确率只有58%，学习速率过小。因此，学习速率为6是一个不错的选择。"
   ]
  },
  {
   "cell_type": "markdown",
   "metadata": {},
   "source": [
    "# 增加隐藏层"
   ]
  },
  {
   "cell_type": "code",
   "execution_count": 41,
   "metadata": {},
   "outputs": [],
   "source": [
    "net = Network.Network([784, 100,30, 10])"
   ]
  },
  {
   "cell_type": "code",
   "execution_count": 52,
   "metadata": {
    "scrolled": true
   },
   "outputs": [
    {
     "name": "stdout",
     "output_type": "stream",
     "text": [
      "Epoch 0 : 9133 / 10000\n",
      "Epoch 1 : 9400 / 10000\n",
      "Epoch 2 : 9475 / 10000\n",
      "Epoch 3 : 9502 / 10000\n",
      "Epoch 4 : 9546 / 10000\n",
      "Epoch 5 : 9585 / 10000\n",
      "Epoch 6 : 9563 / 10000\n",
      "Epoch 7 : 9635 / 10000\n",
      "Epoch 8 : 9621 / 10000\n",
      "Epoch 9 : 9640 / 10000\n",
      "Epoch 10 : 9618 / 10000\n",
      "Epoch 11 : 9646 / 10000\n",
      "Epoch 12 : 9615 / 10000\n",
      "Epoch 13 : 9653 / 10000\n",
      "Epoch 14 : 9657 / 10000\n",
      "Epoch 15 : 9650 / 10000\n",
      "Epoch 16 : 9676 / 10000\n",
      "Epoch 17 : 9662 / 10000\n",
      "Epoch 18 : 9682 / 10000\n",
      "Epoch 19 : 9679 / 10000\n",
      "Epoch 20 : 9675 / 10000\n",
      "Epoch 21 : 9693 / 10000\n",
      "Epoch 22 : 9696 / 10000\n",
      "Epoch 23 : 9687 / 10000\n",
      "Epoch 24 : 9686 / 10000\n",
      "Epoch 25 : 9698 / 10000\n",
      "Epoch 26 : 9700 / 10000\n",
      "Epoch 27 : 9688 / 10000\n",
      "Epoch 28 : 9684 / 10000\n",
      "Epoch 29 : 9703 / 10000\n"
     ]
    }
   ],
   "source": [
    "net.SGD(training_data, 30, 10, 6, test_data=test_data)"
   ]
  },
  {
   "cell_type": "markdown",
   "metadata": {},
   "source": [
    "适当增加学习速率进行训练"
   ]
  },
  {
   "cell_type": "markdown",
   "metadata": {},
   "source": [
    "准确率达到了97%，说明复杂的神经网络具有较好的拟合能力"
   ]
  }
 ],
 "metadata": {
  "kernelspec": {
   "display_name": "Python 3",
   "language": "python",
   "name": "python3"
  },
  "language_info": {
   "codemirror_mode": {
    "name": "ipython",
    "version": 3
   },
   "file_extension": ".py",
   "mimetype": "text/x-python",
   "name": "python",
   "nbconvert_exporter": "python",
   "pygments_lexer": "ipython3",
   "version": "3.6.4"
  }
 },
 "nbformat": 4,
 "nbformat_minor": 2
}
