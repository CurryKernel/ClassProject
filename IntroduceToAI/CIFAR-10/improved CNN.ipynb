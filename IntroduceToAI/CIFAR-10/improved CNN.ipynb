{
  "nbformat": 4,
  "nbformat_minor": 0,
  "metadata": {
    "colab": {
      "name": "All CNN.ipynb",
      "version": "0.3.2",
      "provenance": [],
      "collapsed_sections": [],
      "include_colab_link": true
    },
    "kernelspec": {
      "display_name": "Python 3",
      "language": "python",
      "name": "python3"
    },
    "accelerator": "GPU"
  },
  "cells": [
    {
      "cell_type": "markdown",
      "metadata": {
        "id": "view-in-github",
        "colab_type": "text"
      },
      "source": [
        "[View in Colaboratory](https://colab.research.google.com/github/Scottdyt/ClassProject/blob/master/All%20CNN.ipynb)"
      ]
    },
    {
      "metadata": {
        "id": "0no6Vrqj3pSd",
        "colab_type": "text"
      },
      "cell_type": "markdown",
      "source": [
        "# CIFAR - 10(PART.3)\n",
        "10153903105 杜云滔\n",
        "# Improved CNN using Argument and ALL CONVOLUTIONAL NET"
      ]
    },
    {
      "metadata": {
        "id": "SskJSBHKUevY",
        "colab_type": "text"
      },
      "cell_type": "markdown",
      "source": [
        "Reference: **[STRIVING FOR SIMPLICITY: THE ALL CONVOLUTIONAL NET](https://arxiv.org/pdf/1412.6806.pdf)**"
      ]
    },
    {
      "metadata": {
        "id": "e_P69cNs-5co",
        "colab_type": "text"
      },
      "cell_type": "markdown",
      "source": [
        "# Using google colab"
      ]
    },
    {
      "metadata": {
        "id": "yDRbMIMu-9aN",
        "colab_type": "code",
        "colab": {
          "base_uri": "https://localhost:8080/",
          "height": 136
        },
        "outputId": "9570b867-034b-44cb-9796-5023f3f0a370"
      },
      "cell_type": "code",
      "source": [
        "!apt-get install -y -qq software-properties-common python-software-properties module-init-tools\n",
        "!add-apt-repository -y ppa:alessandro-strada/ppa 2>&1 > /dev/null\n",
        "!apt-get update -qq 2>&1 > /dev/null\n",
        "!apt-get -y install -qq google-drive-ocamlfuse fuse\n",
        "from google.colab import auth\n",
        "auth.authenticate_user()\n",
        "from oauth2client.client import GoogleCredentials\n",
        "creds = GoogleCredentials.get_application_default()\n",
        "import getpass\n",
        "!google-drive-ocamlfuse -headless -id={creds.client_id} -secret={creds.client_secret} < /dev/null 2>&1 | grep URL\n",
        "vcode = getpass.getpass()\n",
        "!echo {vcode} | google-drive-ocamlfuse -headless -id={creds.client_id} -secret={creds.client_secret}"
      ],
      "execution_count": 1,
      "outputs": [
        {
          "output_type": "stream",
          "text": [
            "gpg: keybox '/tmp/tmps0l8i5pi/pubring.gpg' created\n",
            "gpg: /tmp/tmps0l8i5pi/trustdb.gpg: trustdb created\n",
            "gpg: key AD5F235DF639B041: public key \"Launchpad PPA for Alessandro Strada\" imported\n",
            "gpg: Total number processed: 1\n",
            "gpg:               imported: 1\n",
            "Warning: apt-key output should not be parsed (stdout is not a terminal)\n",
            "··········\n"
          ],
          "name": "stdout"
        }
      ]
    },
    {
      "metadata": {
        "id": "pEoJKqDs_onK",
        "colab_type": "text"
      },
      "cell_type": "markdown",
      "source": [
        "## Change dir"
      ]
    },
    {
      "metadata": {
        "id": "vcrihTVj_Ehv",
        "colab_type": "code",
        "colab": {
          "base_uri": "https://localhost:8080/",
          "height": 51
        },
        "outputId": "03199ccd-fed7-4964-8b93-3b879651fd81"
      },
      "cell_type": "code",
      "source": [
        "!mkdir -p drive\n",
        "!google-drive-ocamlfuse drive"
      ],
      "execution_count": 2,
      "outputs": [
        {
          "output_type": "stream",
          "text": [
            "fuse: mountpoint is not empty\r\n",
            "fuse: if you are sure this is safe, use the 'nonempty' mount option\r\n"
          ],
          "name": "stdout"
        }
      ]
    },
    {
      "metadata": {
        "id": "YmM_oYk6_qxZ",
        "colab_type": "code",
        "colab": {}
      },
      "cell_type": "code",
      "source": [
        "import os\n",
        "path = \"/content/drive/cifar10\"\n",
        "os.chdir(path)"
      ],
      "execution_count": 0,
      "outputs": []
    },
    {
      "metadata": {
        "id": "N3iT37T-4KZ3",
        "colab_type": "text"
      },
      "cell_type": "markdown",
      "source": [
        "## Inspect GPU and CPU usage"
      ]
    },
    {
      "metadata": {
        "id": "35HAzlYyUevn",
        "colab_type": "text"
      },
      "cell_type": "markdown",
      "source": [
        "### GPU usage"
      ]
    },
    {
      "metadata": {
        "id": "5G96jnFp4PG3",
        "colab_type": "code",
        "colab": {
          "base_uri": "https://localhost:8080/",
          "height": 34
        },
        "outputId": "2d6e5b8f-4a10-4894-85fd-f22ee2803497"
      },
      "cell_type": "code",
      "source": [
        "import tensorflow\n",
        "tensorflow.test.gpu_device_name()"
      ],
      "execution_count": 4,
      "outputs": [
        {
          "output_type": "execute_result",
          "data": {
            "text/plain": [
              "'/device:GPU:0'"
            ]
          },
          "metadata": {
            "tags": []
          },
          "execution_count": 4
        }
      ]
    },
    {
      "metadata": {
        "id": "c3Q_C3rCUevs",
        "colab_type": "text"
      },
      "cell_type": "markdown",
      "source": [
        "### List device info"
      ]
    },
    {
      "metadata": {
        "id": "UDy3ho2C4QIG",
        "colab_type": "code",
        "colab": {
          "base_uri": "https://localhost:8080/",
          "height": 272
        },
        "outputId": "ecd2cd41-0f38-41d5-cc5b-4269b7196a7c"
      },
      "cell_type": "code",
      "source": [
        "from tensorflow.python.client import device_lib\n",
        "device_lib.list_local_devices()"
      ],
      "execution_count": 5,
      "outputs": [
        {
          "output_type": "execute_result",
          "data": {
            "text/plain": [
              "[name: \"/device:CPU:0\"\n",
              " device_type: \"CPU\"\n",
              " memory_limit: 268435456\n",
              " locality {\n",
              " }\n",
              " incarnation: 17423925250648790127, name: \"/device:GPU:0\"\n",
              " device_type: \"GPU\"\n",
              " memory_limit: 10932840039\n",
              " locality {\n",
              "   bus_id: 1\n",
              "   links {\n",
              "   }\n",
              " }\n",
              " incarnation: 806062247498080444\n",
              " physical_device_desc: \"device: 0, name: Tesla K80, pci bus id: 0000:00:04.0, compute capability: 3.7\"]"
            ]
          },
          "metadata": {
            "tags": []
          },
          "execution_count": 5
        }
      ]
    },
    {
      "metadata": {
        "id": "yaVU61XhUevz",
        "colab_type": "text"
      },
      "cell_type": "markdown",
      "source": [
        "### List memory info "
      ]
    },
    {
      "metadata": {
        "id": "A584pCMw4TjO",
        "colab_type": "code",
        "colab": {
          "base_uri": "https://localhost:8080/",
          "height": 748
        },
        "outputId": "ff78f092-fdd5-4430-c454-91fb2f62eafe"
      },
      "cell_type": "code",
      "source": [
        " !cat /proc/meminfo"
      ],
      "execution_count": 6,
      "outputs": [
        {
          "output_type": "stream",
          "text": [
            "MemTotal:       13341832 kB\r\n",
            "MemFree:         3173800 kB\r\n",
            "MemAvailable:    9210552 kB\r\n",
            "Buffers:          298764 kB\r\n",
            "Cached:          5763744 kB\r\n",
            "SwapCached:            0 kB\r\n",
            "Active:          6083664 kB\r\n",
            "Inactive:        3284856 kB\r\n",
            "Active(anon):    3486532 kB\r\n",
            "Inactive(anon):    94900 kB\r\n",
            "Active(file):    2597132 kB\r\n",
            "Inactive(file):  3189956 kB\r\n",
            "Unevictable:           0 kB\r\n",
            "Mlocked:               0 kB\r\n",
            "SwapTotal:             0 kB\r\n",
            "SwapFree:              0 kB\r\n",
            "Dirty:               840 kB\r\n",
            "Writeback:             0 kB\r\n",
            "AnonPages:       3306060 kB\r\n",
            "Mapped:           715320 kB\r\n",
            "Shmem:            275428 kB\r\n",
            "Slab:             545344 kB\r\n",
            "SReclaimable:     503080 kB\r\n",
            "SUnreclaim:        42264 kB\r\n",
            "KernelStack:        4016 kB\r\n",
            "PageTables:        17648 kB\r\n",
            "NFS_Unstable:          0 kB\r\n",
            "Bounce:                0 kB\r\n",
            "WritebackTmp:          0 kB\r\n",
            "CommitLimit:     6670916 kB\r\n",
            "Committed_AS:    5311728 kB\r\n",
            "VmallocTotal:   34359738367 kB\r\n",
            "VmallocUsed:           0 kB\r\n",
            "VmallocChunk:          0 kB\r\n",
            "AnonHugePages:         0 kB\r\n",
            "HugePages_Total:       0\r\n",
            "HugePages_Free:        0\r\n",
            "HugePages_Rsvd:        0\r\n",
            "HugePages_Surp:        0\r\n",
            "Hugepagesize:       2048 kB\r\n",
            "DirectMap4k:      344012 kB\r\n",
            "DirectMap2M:    11190272 kB\r\n",
            "DirectMap1G:     4194304 kB\r\n"
          ],
          "name": "stdout"
        }
      ]
    },
    {
      "metadata": {
        "id": "tTq9GdQRUev4",
        "colab_type": "text"
      },
      "cell_type": "markdown",
      "source": [
        "###  List CPU info"
      ]
    },
    {
      "metadata": {
        "id": "4sb6F_AP4VAL",
        "colab_type": "code",
        "colab": {
          "base_uri": "https://localhost:8080/",
          "height": 955
        },
        "outputId": "250cf60f-b7ea-4faa-f566-95388cbc0133"
      },
      "cell_type": "code",
      "source": [
        "!cat /proc/cpuinfo"
      ],
      "execution_count": 7,
      "outputs": [
        {
          "output_type": "stream",
          "text": [
            "processor\t: 0\r\n",
            "vendor_id\t: GenuineIntel\r\n",
            "cpu family\t: 6\r\n",
            "model\t\t: 63\r\n",
            "model name\t: Intel(R) Xeon(R) CPU @ 2.30GHz\r\n",
            "stepping\t: 0\r\n",
            "microcode\t: 0x1\r\n",
            "cpu MHz\t\t: 2300.000\r\n",
            "cache size\t: 46080 KB\r\n",
            "physical id\t: 0\r\n",
            "siblings\t: 2\r\n",
            "core id\t\t: 0\r\n",
            "cpu cores\t: 1\r\n",
            "apicid\t\t: 0\r\n",
            "initial apicid\t: 0\r\n",
            "fpu\t\t: yes\r\n",
            "fpu_exception\t: yes\r\n",
            "cpuid level\t: 13\r\n",
            "wp\t\t: yes\r\n",
            "flags\t\t: fpu vme de pse tsc msr pae mce cx8 apic sep mtrr pge mca cmov pat pse36 clflush mmx fxsr sse sse2 ss ht syscall nx pdpe1gb rdtscp lm constant_tsc rep_good nopl xtopology nonstop_tsc eagerfpu pni pclmulqdq ssse3 fma cx16 sse4_1 sse4_2 x2apic movbe popcnt aes xsave avx f16c rdrand hypervisor lahf_lm abm kaiser fsgsbase tsc_adjust bmi1 avx2 smep bmi2 erms xsaveopt\r\n",
            "bugs\t\t:\r\n",
            "bogomips\t: 4600.00\r\n",
            "clflush size\t: 64\r\n",
            "cache_alignment\t: 64\r\n",
            "address sizes\t: 46 bits physical, 48 bits virtual\r\n",
            "power management:\r\n",
            "\r\n",
            "processor\t: 1\r\n",
            "vendor_id\t: GenuineIntel\r\n",
            "cpu family\t: 6\r\n",
            "model\t\t: 63\r\n",
            "model name\t: Intel(R) Xeon(R) CPU @ 2.30GHz\r\n",
            "stepping\t: 0\r\n",
            "microcode\t: 0x1\r\n",
            "cpu MHz\t\t: 2300.000\r\n",
            "cache size\t: 46080 KB\r\n",
            "physical id\t: 0\r\n",
            "siblings\t: 2\r\n",
            "core id\t\t: 0\r\n",
            "cpu cores\t: 1\r\n",
            "apicid\t\t: 1\r\n",
            "initial apicid\t: 1\r\n",
            "fpu\t\t: yes\r\n",
            "fpu_exception\t: yes\r\n",
            "cpuid level\t: 13\r\n",
            "wp\t\t: yes\r\n",
            "flags\t\t: fpu vme de pse tsc msr pae mce cx8 apic sep mtrr pge mca cmov pat pse36 clflush mmx fxsr sse sse2 ss ht syscall nx pdpe1gb rdtscp lm constant_tsc rep_good nopl xtopology nonstop_tsc eagerfpu pni pclmulqdq ssse3 fma cx16 sse4_1 sse4_2 x2apic movbe popcnt aes xsave avx f16c rdrand hypervisor lahf_lm abm kaiser fsgsbase tsc_adjust bmi1 avx2 smep bmi2 erms xsaveopt\r\n",
            "bugs\t\t:\r\n",
            "bogomips\t: 4600.00\r\n",
            "clflush size\t: 64\r\n",
            "cache_alignment\t: 64\r\n",
            "address sizes\t: 46 bits physical, 48 bits virtual\r\n",
            "power management:\r\n",
            "\r\n"
          ],
          "name": "stdout"
        }
      ]
    },
    {
      "metadata": {
        "id": "7x0AsB4lUev_",
        "colab_type": "text"
      },
      "cell_type": "markdown",
      "source": [
        "# Get Data"
      ]
    },
    {
      "metadata": {
        "id": "oJGWwWdR3pSe",
        "colab_type": "text"
      },
      "cell_type": "markdown",
      "source": [
        "## Imports Pakages"
      ]
    },
    {
      "metadata": {
        "id": "90xHzcgB3pSf",
        "colab_type": "code",
        "colab": {
          "base_uri": "https://localhost:8080/",
          "height": 34
        },
        "outputId": "cee95d48-a520-4ee0-919b-8eb6526ddb8d"
      },
      "cell_type": "code",
      "source": [
        "%matplotlib inline\n",
        "%config InlineBackend.figure_format=\"svg\"\n",
        "import numpy as np\n",
        "import matplotlib\n",
        "from matplotlib import pyplot as plt\n",
        "from keras.models import Sequential\n",
        "from keras.optimizers import Adam, SGD\n",
        "from keras.callbacks import ModelCheckpoint\n",
        "from keras.constraints import maxnorm\n",
        "from keras.models import load_model\n",
        "from keras.layers import GlobalAveragePooling2D, Lambda, Conv2D, MaxPooling2D, Dropout, Dense, Flatten, Activation\n",
        "from keras.preprocessing.image import ImageDataGenerator"
      ],
      "execution_count": 8,
      "outputs": [
        {
          "output_type": "stream",
          "text": [
            "Using TensorFlow backend.\n"
          ],
          "name": "stderr"
        }
      ]
    },
    {
      "metadata": {
        "id": "NHjH77fk3pSi",
        "colab_type": "code",
        "colab": {}
      },
      "cell_type": "code",
      "source": [
        "from functions import get_class_names, get_train_data, get_test_data, plot_images,plot_model, predict_classes, error_plot,save_result"
      ],
      "execution_count": 0,
      "outputs": []
    },
    {
      "metadata": {
        "id": "EktDwiJ2UewI",
        "colab_type": "text"
      },
      "cell_type": "markdown",
      "source": [
        "Using `gglot` style"
      ]
    },
    {
      "metadata": {
        "id": "2UlYMvOS4-Wm",
        "colab_type": "code",
        "colab": {}
      },
      "cell_type": "code",
      "source": [
        "matplotlib.style.use('ggplot')"
      ],
      "execution_count": 0,
      "outputs": []
    },
    {
      "metadata": {
        "id": "AYuSmuMD3pSm",
        "colab_type": "text"
      },
      "cell_type": "markdown",
      "source": [
        "## Get data and constants "
      ]
    },
    {
      "metadata": {
        "id": "b5d0zspT3pSm",
        "colab_type": "code",
        "colab": {}
      },
      "cell_type": "code",
      "source": [
        "class_names = get_class_names()\n",
        "num_classes = len(class_names)"
      ],
      "execution_count": 0,
      "outputs": []
    },
    {
      "metadata": {
        "id": "XMheFXxg3pSp",
        "colab_type": "code",
        "colab": {}
      },
      "cell_type": "code",
      "source": [
        "IMAGE_SIZE = 32\n",
        "\n",
        "CHANNELS = 3\n",
        "\n",
        "NUM_EPOCH = 400\n",
        "\n",
        "LEARN_RATE = 1.0e-4"
      ],
      "execution_count": 0,
      "outputs": []
    },
    {
      "metadata": {
        "id": "c1SQyx8C3pSt",
        "colab_type": "code",
        "colab": {}
      },
      "cell_type": "code",
      "source": [
        "train_images, train_labels, train_class = get_train_data()"
      ],
      "execution_count": 0,
      "outputs": []
    },
    {
      "metadata": {
        "id": "Q66cNiM33pSw",
        "colab_type": "code",
        "colab": {}
      },
      "cell_type": "code",
      "source": [
        "test_images, test_labels, test_class = get_test_data()"
      ],
      "execution_count": 0,
      "outputs": []
    },
    {
      "metadata": {
        "id": "Ut29b6lx3pS-",
        "colab_type": "code",
        "colab": {
          "base_uri": "https://localhost:8080/",
          "height": 51
        },
        "outputId": "fac20529-d8f1-4705-9873-648f9d88aa10"
      },
      "cell_type": "code",
      "source": [
        "print(\"Training dataset size: \",len(train_images))\n",
        "print(\"Testing dataset size: \",len(test_images))"
      ],
      "execution_count": 15,
      "outputs": [
        {
          "output_type": "stream",
          "text": [
            "Training dataset size:  50000\n",
            "Testing dataset size:  10000\n"
          ],
          "name": "stdout"
        }
      ]
    },
    {
      "metadata": {
        "id": "XxXvTJSb3pTD",
        "colab_type": "text"
      },
      "cell_type": "markdown",
      "source": [
        "successful load data and labels！"
      ]
    },
    {
      "metadata": {
        "id": "1GJwkUNF3pTF",
        "colab_type": "text"
      },
      "cell_type": "markdown",
      "source": [
        "# Improved model"
      ]
    },
    {
      "metadata": {
        "id": "CvLxNbHY3pTI",
        "colab_type": "text"
      },
      "cell_type": "markdown",
      "source": [
        "## Data Augmentation"
      ]
    },
    {
      "metadata": {
        "id": "t9je_jMH3pTI",
        "colab_type": "text"
      },
      "cell_type": "markdown",
      "source": [
        "using a ``kears`` function to augmentation images, like rotation, to enlarge images data set, let our networks study better"
      ]
    },
    {
      "metadata": {
        "id": "AHn9U85A3pTI",
        "colab_type": "code",
        "colab": {}
      },
      "cell_type": "code",
      "source": [
        "datagen = ImageDataGenerator(\n",
        "    rotation_range=45,  # randomly rotate images in the range (degrees, 0 to 180)\n",
        "    width_shift_range=0.2,  # randomly shift images horizontally (fraction of total width)\n",
        "    height_shift_range=0.2,  # randomly shift images vertically (fraction of total height)\n",
        "    horizontal_flip=True,  # randomly flip images\n",
        "    vertical_flip=False)  # randomly flip images\n",
        "\n",
        "datagen.fit(train_images)"
      ],
      "execution_count": 0,
      "outputs": []
    },
    {
      "metadata": {
        "id": "PQJ8LQpe3pTf",
        "colab_type": "text"
      },
      "cell_type": "markdown",
      "source": [
        "The above code augments the dataset to have random shifts, rotations and flips, thus increasing the size of the dataset."
      ]
    },
    {
      "metadata": {
        "id": "pDuWwRQ73pTj",
        "colab_type": "text"
      },
      "cell_type": "markdown",
      "source": [
        "## Build model"
      ]
    },
    {
      "metadata": {
        "id": "cJVOD7GM3pTq",
        "colab_type": "text"
      },
      "cell_type": "markdown",
      "source": [
        "using pure Convolutional Neural Network: https://arxiv.org/pdf/1412.6806.pdf"
      ]
    },
    {
      "metadata": {
        "id": "mUyeMr-K3pTv",
        "colab_type": "code",
        "colab": {}
      },
      "cell_type": "code",
      "source": [
        "def cnn_model():\n",
        "    \n",
        "    model = Sequential()\n",
        "    \n",
        "    model.add(Conv2D(96, (3, 3), activation='relu', padding = 'same', input_shape=(IMAGE_SIZE,IMAGE_SIZE,CHANNELS)))    \n",
        "    model.add(Dropout(0.2))\n",
        "    \n",
        "    model.add(Conv2D(96, (3, 3), activation='relu', padding = 'same'))  \n",
        "    model.add(Conv2D(96, (3, 3), activation='relu', padding = 'same', strides = 2))    \n",
        "    model.add(Dropout(0.5))\n",
        "    \n",
        "    model.add(Conv2D(192, (3, 3), activation='relu', padding = 'same'))    \n",
        "    model.add(Conv2D(192, (3, 3), activation='relu', padding = 'same'))\n",
        "    model.add(Conv2D(192, (3, 3), activation='relu', padding = 'same', strides = 2))    \n",
        "    model.add(Dropout(0.5))    \n",
        "    \n",
        "    model.add(Conv2D(192, (3, 3), padding = 'same'))\n",
        "    model.add(Activation('relu'))\n",
        "    model.add(Conv2D(192, (1, 1),padding='valid'))\n",
        "    model.add(Activation('relu'))\n",
        "    model.add(Conv2D(10, (1, 1), padding='valid'))\n",
        "\n",
        "    model.add(GlobalAveragePooling2D())\n",
        "    \n",
        "    model.add(Activation('softmax'))\n",
        "\n",
        "    model.summary()\n",
        "    \n",
        "    return model"
      ],
      "execution_count": 0,
      "outputs": []
    },
    {
      "metadata": {
        "id": "wJd0no583pUZ",
        "colab_type": "code",
        "colab": {
          "base_uri": "https://localhost:8080/",
          "height": 680
        },
        "outputId": "d4ca3eb6-d4e0-44a5-b073-a6a320a975df"
      },
      "cell_type": "code",
      "source": [
        "augmented_model = cnn_model()"
      ],
      "execution_count": 18,
      "outputs": [
        {
          "output_type": "stream",
          "text": [
            "_________________________________________________________________\n",
            "Layer (type)                 Output Shape              Param #   \n",
            "=================================================================\n",
            "conv2d_1 (Conv2D)            (None, 32, 32, 96)        2688      \n",
            "_________________________________________________________________\n",
            "dropout_1 (Dropout)          (None, 32, 32, 96)        0         \n",
            "_________________________________________________________________\n",
            "conv2d_2 (Conv2D)            (None, 32, 32, 96)        83040     \n",
            "_________________________________________________________________\n",
            "conv2d_3 (Conv2D)            (None, 16, 16, 96)        83040     \n",
            "_________________________________________________________________\n",
            "dropout_2 (Dropout)          (None, 16, 16, 96)        0         \n",
            "_________________________________________________________________\n",
            "conv2d_4 (Conv2D)            (None, 16, 16, 192)       166080    \n",
            "_________________________________________________________________\n",
            "conv2d_5 (Conv2D)            (None, 16, 16, 192)       331968    \n",
            "_________________________________________________________________\n",
            "conv2d_6 (Conv2D)            (None, 8, 8, 192)         331968    \n",
            "_________________________________________________________________\n",
            "dropout_3 (Dropout)          (None, 8, 8, 192)         0         \n",
            "_________________________________________________________________\n",
            "conv2d_7 (Conv2D)            (None, 8, 8, 192)         331968    \n",
            "_________________________________________________________________\n",
            "activation_1 (Activation)    (None, 8, 8, 192)         0         \n",
            "_________________________________________________________________\n",
            "conv2d_8 (Conv2D)            (None, 8, 8, 192)         37056     \n",
            "_________________________________________________________________\n",
            "activation_2 (Activation)    (None, 8, 8, 192)         0         \n",
            "_________________________________________________________________\n",
            "conv2d_9 (Conv2D)            (None, 8, 8, 10)          1930      \n",
            "_________________________________________________________________\n",
            "global_average_pooling2d_1 ( (None, 10)                0         \n",
            "_________________________________________________________________\n",
            "activation_3 (Activation)    (None, 10)                0         \n",
            "=================================================================\n",
            "Total params: 1,369,738\n",
            "Trainable params: 1,369,738\n",
            "Non-trainable params: 0\n",
            "_________________________________________________________________\n"
          ],
          "name": "stdout"
        }
      ]
    },
    {
      "metadata": {
        "id": "taAmagXK3pU1",
        "colab_type": "text"
      },
      "cell_type": "markdown",
      "source": [
        "### Train model on the training data"
      ]
    },
    {
      "metadata": {
        "id": "ZMS3qfvU3pU8",
        "colab_type": "text"
      },
      "cell_type": "markdown",
      "source": [
        "Save the model every epoch"
      ]
    },
    {
      "metadata": {
        "id": "cj-1bzUD3pVC",
        "colab_type": "code",
        "colab": {}
      },
      "cell_type": "code",
      "source": [
        "augmented_checkpoint = ModelCheckpoint('model/augmented_model.h5',  monitor='val_loss', verbose=0, save_best_only= True, mode='auto') "
      ],
      "execution_count": 0,
      "outputs": []
    },
    {
      "metadata": {
        "id": "ksB2NodS3pVG",
        "colab_type": "text"
      },
      "cell_type": "markdown",
      "source": [
        "using `categorical_crossentropy` loss function and `Adam` optimizer"
      ]
    },
    {
      "metadata": {
        "id": "sd_auIG73pVo",
        "colab_type": "code",
        "colab": {}
      },
      "cell_type": "code",
      "source": [
        "augmented_model.compile(loss='categorical_crossentropy', # Better loss function for neural networks\n",
        "              optimizer=Adam(lr=LEARN_RATE), # Adam optimizer with 1.0e-4 learning rate\n",
        "              metrics = ['accuracy']) # Metrics to be evaluated by the model"
      ],
      "execution_count": 0,
      "outputs": []
    },
    {
      "metadata": {
        "id": "37rBFJt33pVq",
        "colab_type": "text"
      },
      "cell_type": "markdown",
      "source": [
        "Fit the model on the data provided"
      ]
    },
    {
      "metadata": {
        "id": "BROp4Fix3pVr",
        "colab_type": "code",
        "colab": {
          "base_uri": "https://localhost:8080/",
          "height": 13637
        },
        "outputId": "d24633e3-faa0-459f-c0a6-0a9c34353070"
      },
      "cell_type": "code",
      "source": [
        "augmented_model_details = augmented_model.fit_generator(datagen.flow(train_images, train_class, batch_size = 32),\n",
        "                    steps_per_epoch = len(train_images) / 32, \n",
        "                    epochs = NUM_EPOCH, \n",
        "                    validation_data= (test_images, test_class),\n",
        "                    callbacks=[augmented_checkpoint])"
      ],
      "execution_count": 21,
      "outputs": [
        {
          "output_type": "stream",
          "text": [
            "Epoch 1/400\n",
            "1429/1562 [==========================>...] - ETA: 6s - loss: 1.9708 - acc: 0.2533"
          ],
          "name": "stdout"
        },
        {
          "output_type": "stream",
          "text": [
            "1563/1562 [==============================] - 84s 54ms/step - loss: 1.9585 - acc: 0.2582 - val_loss: 1.6591 - val_acc: 0.3835\n",
            "Epoch 2/400\n",
            " 547/1562 [=========>....................] - ETA: 51s - loss: 1.7638 - acc: 0.3459"
          ],
          "name": "stdout"
        },
        {
          "output_type": "stream",
          "text": [
            "1563/1562 [==============================] - 83s 53ms/step - loss: 1.7178 - acc: 0.3642 - val_loss: 1.4938 - val_acc: 0.4494\n",
            "Epoch 3/400\n",
            " 206/1562 [==>...........................] - ETA: 1:09 - loss: 1.6582 - acc: 0.3918"
          ],
          "name": "stdout"
        },
        {
          "output_type": "stream",
          "text": [
            "1563/1562 [==============================] - 83s 53ms/step - loss: 1.5957 - acc: 0.4122 - val_loss: 1.4194 - val_acc: 0.4861\n",
            "Epoch 4/400\n",
            "  56/1562 [>.............................] - ETA: 1:22 - loss: 1.5462 - acc: 0.4392"
          ],
          "name": "stdout"
        },
        {
          "output_type": "stream",
          "text": [
            "1563/1562 [==============================] - 83s 53ms/step - loss: 1.5140 - acc: 0.4464 - val_loss: 1.6557 - val_acc: 0.4491\n",
            "Epoch 5/400\n",
            "  21/1562 [..............................] - ETA: 1:15 - loss: 1.4757 - acc: 0.4777"
          ],
          "name": "stdout"
        },
        {
          "output_type": "stream",
          "text": [
            "1563/1562 [==============================] - 82s 53ms/step - loss: 1.4457 - acc: 0.4745 - val_loss: 1.2691 - val_acc: 0.5328\n",
            "Epoch 6/400\n",
            "  10/1562 [..............................] - ETA: 1:33 - loss: 1.4149 - acc: 0.5031"
          ],
          "name": "stdout"
        },
        {
          "output_type": "stream",
          "text": [
            "1544/1562 [============================>.] - ETA: 0s - loss: 1.3952 - acc: 0.4935"
          ],
          "name": "stdout"
        },
        {
          "output_type": "stream",
          "text": [
            "1563/1562 [==============================] - 83s 53ms/step - loss: 1.3945 - acc: 0.4938 - val_loss: 1.3245 - val_acc: 0.5358\n",
            "Epoch 7/400\n",
            " 590/1562 [==========>...................] - ETA: 48s - loss: 1.3731 - acc: 0.5044"
          ],
          "name": "stdout"
        },
        {
          "output_type": "stream",
          "text": [
            "1563/1562 [==============================] - 83s 53ms/step - loss: 1.3528 - acc: 0.5113 - val_loss: 1.2795 - val_acc: 0.5459\n",
            "Epoch 8/400\n",
            " 215/1562 [===>..........................] - ETA: 1:07 - loss: 1.3363 - acc: 0.5161"
          ],
          "name": "stdout"
        },
        {
          "output_type": "stream",
          "text": [
            "1563/1562 [==============================] - 82s 53ms/step - loss: 1.3177 - acc: 0.5255 - val_loss: 1.3310 - val_acc: 0.5358\n",
            "Epoch 9/400\n",
            "  72/1562 [>.............................] - ETA: 1:15 - loss: 1.2965 - acc: 0.5343"
          ],
          "name": "stdout"
        },
        {
          "output_type": "stream",
          "text": [
            "1563/1562 [==============================] - 82s 53ms/step - loss: 1.2807 - acc: 0.5383 - val_loss: 1.1266 - val_acc: 0.6006\n",
            "Epoch 10/400\n",
            "  12/1562 [..............................] - ETA: 1:49 - loss: 1.2170 - acc: 0.5260"
          ],
          "name": "stdout"
        },
        {
          "output_type": "stream",
          "text": [
            "1563/1562 [==============================] - 83s 53ms/step - loss: 1.2575 - acc: 0.5472 - val_loss: 1.1438 - val_acc: 0.5918\n",
            "Epoch 11/400\n",
            "   6/1562 [..............................] - ETA: 1:20 - loss: 1.1745 - acc: 0.5885"
          ],
          "name": "stdout"
        },
        {
          "output_type": "stream",
          "text": [
            "1563/1562 [==============================] - 82s 53ms/step - loss: 1.2280 - acc: 0.5587 - val_loss: 1.1713 - val_acc: 0.5960\n",
            "Epoch 12/400\n",
            "  19/1562 [..............................] - ETA: 1:15 - loss: 1.2000 - acc: 0.5724"
          ],
          "name": "stdout"
        },
        {
          "output_type": "stream",
          "text": [
            "1561/1562 [============================>.] - ETA: 0s - loss: 1.2037 - acc: 0.5687"
          ],
          "name": "stdout"
        },
        {
          "output_type": "stream",
          "text": [
            "1563/1562 [==============================] - 82s 53ms/step - loss: 1.2036 - acc: 0.5687 - val_loss: 1.1533 - val_acc: 0.5997\n",
            "Epoch 13/400\n",
            " 588/1562 [==========>...................] - ETA: 49s - loss: 1.1806 - acc: 0.5761"
          ],
          "name": "stdout"
        },
        {
          "output_type": "stream",
          "text": [
            "1563/1562 [==============================] - 82s 53ms/step - loss: 1.1733 - acc: 0.5823 - val_loss: 1.0617 - val_acc: 0.6221\n",
            "Epoch 14/400\n",
            " 219/1562 [===>..........................] - ETA: 1:09 - loss: 1.1566 - acc: 0.5918"
          ],
          "name": "stdout"
        },
        {
          "output_type": "stream",
          "text": [
            "1563/1562 [==============================] - 83s 53ms/step - loss: 1.1594 - acc: 0.5887 - val_loss: 1.0843 - val_acc: 0.6207\n",
            "Epoch 15/400\n",
            "  75/1562 [>.............................] - ETA: 1:15 - loss: 1.1368 - acc: 0.5992"
          ],
          "name": "stdout"
        },
        {
          "output_type": "stream",
          "text": [
            "1563/1562 [==============================] - 82s 53ms/step - loss: 1.1337 - acc: 0.5955 - val_loss: 1.1047 - val_acc: 0.6228\n",
            "Epoch 16/400\n",
            "  36/1562 [..............................] - ETA: 1:17 - loss: 1.1295 - acc: 0.5998"
          ],
          "name": "stdout"
        },
        {
          "output_type": "stream",
          "text": [
            "1563/1562 [==============================] - 82s 53ms/step - loss: 1.1202 - acc: 0.6002 - val_loss: 1.1210 - val_acc: 0.6166\n",
            "Epoch 17/400\n",
            "   6/1562 [..............................] - ETA: 1:19 - loss: 1.1840 - acc: 0.5938"
          ],
          "name": "stdout"
        },
        {
          "output_type": "stream",
          "text": [
            "1552/1562 [============================>.] - ETA: 0s - loss: 1.1008 - acc: 0.6083"
          ],
          "name": "stdout"
        },
        {
          "output_type": "stream",
          "text": [
            "1563/1562 [==============================] - 82s 53ms/step - loss: 1.1014 - acc: 0.6083 - val_loss: 1.0656 - val_acc: 0.6332\n",
            "Epoch 18/400\n",
            " 574/1562 [==========>...................] - ETA: 49s - loss: 1.0945 - acc: 0.6098"
          ],
          "name": "stdout"
        },
        {
          "output_type": "stream",
          "text": [
            "1563/1562 [==============================] - 82s 53ms/step - loss: 1.0838 - acc: 0.6131 - val_loss: 0.9985 - val_acc: 0.6550\n",
            "Epoch 19/400\n",
            " 213/1562 [===>..........................] - ETA: 1:08 - loss: 1.0719 - acc: 0.6205"
          ],
          "name": "stdout"
        },
        {
          "output_type": "stream",
          "text": [
            "1563/1562 [==============================] - 82s 53ms/step - loss: 1.0712 - acc: 0.6193 - val_loss: 1.0183 - val_acc: 0.6471\n",
            "Epoch 20/400\n",
            "  71/1562 [>.............................] - ETA: 1:16 - loss: 1.0685 - acc: 0.6232"
          ],
          "name": "stdout"
        },
        {
          "output_type": "stream",
          "text": [
            "1563/1562 [==============================] - 82s 53ms/step - loss: 1.0583 - acc: 0.6245 - val_loss: 1.0101 - val_acc: 0.6622\n",
            "Epoch 21/400\n",
            "  25/1562 [..............................] - ETA: 1:21 - loss: 1.0446 - acc: 0.6088"
          ],
          "name": "stdout"
        },
        {
          "output_type": "stream",
          "text": [
            "1563/1562 [==============================] - 82s 53ms/step - loss: 1.0387 - acc: 0.6280 - val_loss: 1.0277 - val_acc: 0.6533\n",
            "Epoch 22/400\n",
            "  13/1562 [..............................] - ETA: 1:19 - loss: 1.0499 - acc: 0.6226"
          ],
          "name": "stdout"
        },
        {
          "output_type": "stream",
          "text": [
            "1563/1562 [==============================] - 82s 53ms/step - loss: 1.0272 - acc: 0.6349 - val_loss: 1.0145 - val_acc: 0.6599\n",
            "Epoch 23/400\n",
            "   5/1562 [..............................] - ETA: 1:22 - loss: 0.8824 - acc: 0.6875"
          ],
          "name": "stdout"
        },
        {
          "output_type": "stream",
          "text": [
            "1563/1562 [==============================] - 82s 53ms/step - loss: 1.0155 - acc: 0.6392 - val_loss: 1.2220 - val_acc: 0.6187\n",
            "Epoch 24/400\n",
            "   4/1562 [..............................] - ETA: 1:20 - loss: 1.0898 - acc: 0.6094"
          ],
          "name": "stdout"
        },
        {
          "output_type": "stream",
          "text": [
            "1562/1562 [============================>.] - ETA: 0s - loss: 1.0081 - acc: 0.6455"
          ],
          "name": "stdout"
        },
        {
          "output_type": "stream",
          "text": [
            "1563/1562 [==============================] - 82s 53ms/step - loss: 1.0082 - acc: 0.6455 - val_loss: 1.0198 - val_acc: 0.6700\n",
            "Epoch 25/400\n",
            " 589/1562 [==========>...................] - ETA: 49s - loss: 0.9974 - acc: 0.6489"
          ],
          "name": "stdout"
        },
        {
          "output_type": "stream",
          "text": [
            "1563/1562 [==============================] - 83s 53ms/step - loss: 0.9903 - acc: 0.6497 - val_loss: 1.1576 - val_acc: 0.6360\n",
            "Epoch 26/400\n",
            " 208/1562 [==>...........................] - ETA: 1:07 - loss: 0.9846 - acc: 0.6540"
          ],
          "name": "stdout"
        },
        {
          "output_type": "stream",
          "text": [
            "1563/1562 [==============================] - 82s 53ms/step - loss: 0.9729 - acc: 0.6572 - val_loss: 0.9801 - val_acc: 0.6781\n",
            "Epoch 27/400\n",
            "  80/1562 [>.............................] - ETA: 1:18 - loss: 0.9322 - acc: 0.6770"
          ],
          "name": "stdout"
        },
        {
          "output_type": "stream",
          "text": [
            "1563/1562 [==============================] - 82s 53ms/step - loss: 0.9606 - acc: 0.6624 - val_loss: 1.0243 - val_acc: 0.6594\n",
            "Epoch 28/400\n",
            "  30/1562 [..............................] - ETA: 1:16 - loss: 0.9362 - acc: 0.6562"
          ],
          "name": "stdout"
        },
        {
          "output_type": "stream",
          "text": [
            "1563/1562 [==============================] - 82s 53ms/step - loss: 0.9508 - acc: 0.6663 - val_loss: 0.8942 - val_acc: 0.7009\n",
            "Epoch 29/400\n",
            "   9/1562 [..............................] - ETA: 1:39 - loss: 0.9094 - acc: 0.6562"
          ],
          "name": "stdout"
        },
        {
          "output_type": "stream",
          "text": [
            "1562/1562 [============================>.] - ETA: 0s - loss: 0.9453 - acc: 0.6702"
          ],
          "name": "stdout"
        },
        {
          "output_type": "stream",
          "text": [
            "1563/1562 [==============================] - 83s 53ms/step - loss: 0.9452 - acc: 0.6702 - val_loss: 0.9393 - val_acc: 0.6908\n",
            "Epoch 30/400\n",
            " 589/1562 [==========>...................] - ETA: 48s - loss: 0.9347 - acc: 0.6705"
          ],
          "name": "stdout"
        },
        {
          "output_type": "stream",
          "text": [
            "1563/1562 [==============================] - 82s 53ms/step - loss: 0.9274 - acc: 0.6744 - val_loss: 0.9051 - val_acc: 0.6939\n",
            "Epoch 31/400\n",
            " 221/1562 [===>..........................] - ETA: 1:07 - loss: 0.9342 - acc: 0.6693"
          ],
          "name": "stdout"
        },
        {
          "output_type": "stream",
          "text": [
            "1563/1562 [==============================] - 82s 53ms/step - loss: 0.9172 - acc: 0.6787 - val_loss: 0.9573 - val_acc: 0.6842\n",
            "Epoch 32/400\n",
            "  72/1562 [>.............................] - ETA: 1:15 - loss: 0.8961 - acc: 0.6788"
          ],
          "name": "stdout"
        },
        {
          "output_type": "stream",
          "text": [
            "1563/1562 [==============================] - 82s 53ms/step - loss: 0.9062 - acc: 0.6797 - val_loss: 0.9150 - val_acc: 0.6997\n",
            "Epoch 33/400\n",
            "  26/1562 [..............................] - ETA: 1:20 - loss: 0.9285 - acc: 0.6803"
          ],
          "name": "stdout"
        },
        {
          "output_type": "stream",
          "text": [
            "1563/1562 [==============================] - 82s 53ms/step - loss: 0.8938 - acc: 0.6871 - val_loss: 0.8424 - val_acc: 0.7199\n",
            "Epoch 34/400\n",
            "   1/1562 [..............................] - ETA: 1:37 - loss: 1.2302 - acc: 0.5625"
          ],
          "name": "stdout"
        },
        {
          "output_type": "stream",
          "text": [
            "1563/1562 [==============================] - 83s 53ms/step - loss: 0.8819 - acc: 0.6901 - val_loss: 1.0879 - val_acc: 0.6577\n",
            "Epoch 35/400\n",
            "   6/1562 [..............................] - ETA: 1:17 - loss: 0.9725 - acc: 0.6719"
          ],
          "name": "stdout"
        },
        {
          "output_type": "stream",
          "text": [
            "1561/1562 [============================>.] - ETA: 0s - loss: 0.8712 - acc: 0.6949"
          ],
          "name": "stdout"
        },
        {
          "output_type": "stream",
          "text": [
            "1563/1562 [==============================] - 82s 53ms/step - loss: 0.8712 - acc: 0.6949 - val_loss: 0.9355 - val_acc: 0.7024\n",
            "Epoch 36/400\n",
            " 585/1562 [==========>...................] - ETA: 49s - loss: 0.8664 - acc: 0.6932"
          ],
          "name": "stdout"
        },
        {
          "output_type": "stream",
          "text": [
            "1563/1562 [==============================] - 82s 53ms/step - loss: 0.8675 - acc: 0.6949 - val_loss: 0.9118 - val_acc: 0.7002\n",
            "Epoch 37/400\n",
            " 238/1562 [===>..........................] - ETA: 1:06 - loss: 0.8377 - acc: 0.7105"
          ],
          "name": "stdout"
        },
        {
          "output_type": "stream",
          "text": [
            "1563/1562 [==============================] - 82s 53ms/step - loss: 0.8538 - acc: 0.6999 - val_loss: 0.8742 - val_acc: 0.7105\n",
            "Epoch 38/400\n",
            "  80/1562 [>.............................] - ETA: 1:15 - loss: 0.8511 - acc: 0.6969"
          ],
          "name": "stdout"
        },
        {
          "output_type": "stream",
          "text": [
            "1563/1562 [==============================] - 83s 53ms/step - loss: 0.8511 - acc: 0.7024 - val_loss: 0.8793 - val_acc: 0.7132\n",
            "Epoch 39/400\n",
            "  23/1562 [..............................] - ETA: 1:16 - loss: 0.8298 - acc: 0.7188"
          ],
          "name": "stdout"
        },
        {
          "output_type": "stream",
          "text": [
            "1563/1562 [==============================] - 82s 52ms/step - loss: 0.8410 - acc: 0.7037 - val_loss: 0.8112 - val_acc: 0.7318\n",
            "Epoch 40/400\n",
            "  21/1562 [..............................] - ETA: 1:38 - loss: 0.8325 - acc: 0.7054"
          ],
          "name": "stdout"
        },
        {
          "output_type": "stream",
          "text": [
            "1562/1562 [============================>.] - ETA: 0s - loss: 0.8285 - acc: 0.7091"
          ],
          "name": "stdout"
        },
        {
          "output_type": "stream",
          "text": [
            "1563/1562 [==============================] - 83s 53ms/step - loss: 0.8286 - acc: 0.7091 - val_loss: 0.8334 - val_acc: 0.7264\n",
            "Epoch 41/400\n",
            " 572/1562 [=========>....................] - ETA: 49s - loss: 0.8285 - acc: 0.7075"
          ],
          "name": "stdout"
        },
        {
          "output_type": "stream",
          "text": [
            "1563/1562 [==============================] - 83s 53ms/step - loss: 0.8282 - acc: 0.7098 - val_loss: 0.8347 - val_acc: 0.7278\n",
            "Epoch 42/400\n",
            " 205/1562 [==>...........................] - ETA: 1:08 - loss: 0.8096 - acc: 0.7140"
          ],
          "name": "stdout"
        },
        {
          "output_type": "stream",
          "text": [
            "1563/1562 [==============================] - 82s 53ms/step - loss: 0.8114 - acc: 0.7144 - val_loss: 0.8032 - val_acc: 0.7362\n",
            "Epoch 43/400\n",
            "  69/1562 [>.............................] - ETA: 1:21 - loss: 0.8382 - acc: 0.6966"
          ],
          "name": "stdout"
        },
        {
          "output_type": "stream",
          "text": [
            "1563/1562 [==============================] - 83s 53ms/step - loss: 0.8006 - acc: 0.7184 - val_loss: 0.7271 - val_acc: 0.7597\n",
            "Epoch 44/400\n",
            "   8/1562 [..............................] - ETA: 1:48 - loss: 0.8071 - acc: 0.7148"
          ],
          "name": "stdout"
        },
        {
          "output_type": "stream",
          "text": [
            "1562/1562 [============================>.] - ETA: 0s - loss: 0.7941 - acc: 0.7223"
          ],
          "name": "stdout"
        },
        {
          "output_type": "stream",
          "text": [
            "1563/1562 [==============================] - 83s 53ms/step - loss: 0.7943 - acc: 0.7222 - val_loss: 0.8336 - val_acc: 0.7348\n",
            "Epoch 45/400\n",
            " 597/1562 [==========>...................] - ETA: 48s - loss: 0.7792 - acc: 0.7244"
          ],
          "name": "stdout"
        },
        {
          "output_type": "stream",
          "text": [
            "1563/1562 [==============================] - 82s 53ms/step - loss: 0.7860 - acc: 0.7231 - val_loss: 0.7715 - val_acc: 0.7524\n",
            "Epoch 46/400\n",
            " 235/1562 [===>..........................] - ETA: 1:06 - loss: 0.7829 - acc: 0.7227"
          ],
          "name": "stdout"
        },
        {
          "output_type": "stream",
          "text": [
            "1563/1562 [==============================] - 82s 53ms/step - loss: 0.7805 - acc: 0.7271 - val_loss: 0.7998 - val_acc: 0.7343\n",
            "Epoch 47/400\n",
            "  77/1562 [>.............................] - ETA: 1:14 - loss: 0.7848 - acc: 0.7256"
          ],
          "name": "stdout"
        },
        {
          "output_type": "stream",
          "text": [
            "1563/1562 [==============================] - 82s 53ms/step - loss: 0.7741 - acc: 0.7288 - val_loss: 0.9141 - val_acc: 0.7214\n",
            "Epoch 48/400\n",
            "  29/1562 [..............................] - ETA: 1:18 - loss: 0.7650 - acc: 0.7155"
          ],
          "name": "stdout"
        },
        {
          "output_type": "stream",
          "text": [
            "1563/1562 [==============================] - 82s 53ms/step - loss: 0.7633 - acc: 0.7311 - val_loss: 0.7501 - val_acc: 0.7534\n",
            "Epoch 49/400\n",
            "   8/1562 [..............................] - ETA: 1:24 - loss: 0.7159 - acc: 0.7344"
          ],
          "name": "stdout"
        },
        {
          "output_type": "stream",
          "text": [
            "1563/1562 [==============================] - 82s 53ms/step - loss: 0.7506 - acc: 0.7384 - val_loss: 0.6989 - val_acc: 0.7683\n",
            "Epoch 50/400\n",
            "   6/1562 [..............................] - ETA: 1:44 - loss: 0.7413 - acc: 0.7292"
          ],
          "name": "stdout"
        },
        {
          "output_type": "stream",
          "text": [
            "1563/1562 [==============================] - 82s 53ms/step - loss: 0.7514 - acc: 0.7405 - val_loss: 0.7348 - val_acc: 0.7611\n",
            "Epoch 51/400\n",
            "  14/1562 [..............................] - ETA: 1:19 - loss: 0.7976 - acc: 0.7567"
          ],
          "name": "stdout"
        },
        {
          "output_type": "stream",
          "text": [
            "1563/1562 [==============================] - 82s 53ms/step - loss: 0.7437 - acc: 0.7399 - val_loss: 0.8638 - val_acc: 0.7361\n",
            "Epoch 52/400\n",
            "   5/1562 [..............................] - ETA: 1:16 - loss: 0.7119 - acc: 0.7750"
          ],
          "name": "stdout"
        },
        {
          "output_type": "stream",
          "text": [
            "1563/1562 [==============================] - 82s 52ms/step - loss: 0.7352 - acc: 0.7425 - val_loss: 0.7248 - val_acc: 0.7677\n",
            "Epoch 53/400\n",
            "   8/1562 [..............................] - ETA: 1:23 - loss: 0.7434 - acc: 0.7617"
          ],
          "name": "stdout"
        },
        {
          "output_type": "stream",
          "text": [
            "1563/1562 [==============================] - 82s 52ms/step - loss: 0.7299 - acc: 0.7455 - val_loss: 0.6823 - val_acc: 0.7703\n",
            "Epoch 54/400\n",
            "  16/1562 [..............................] - ETA: 1:40 - loss: 0.6796 - acc: 0.7578"
          ],
          "name": "stdout"
        },
        {
          "output_type": "stream",
          "text": [
            "1561/1562 [============================>.] - ETA: 0s - loss: 0.7196 - acc: 0.7469"
          ],
          "name": "stdout"
        },
        {
          "output_type": "stream",
          "text": [
            "1563/1562 [==============================] - 83s 53ms/step - loss: 0.7195 - acc: 0.7469 - val_loss: 0.8570 - val_acc: 0.7380\n",
            "Epoch 55/400\n",
            " 573/1562 [==========>...................] - ETA: 49s - loss: 0.7096 - acc: 0.7509"
          ],
          "name": "stdout"
        },
        {
          "output_type": "stream",
          "text": [
            "1563/1562 [==============================] - 83s 53ms/step - loss: 0.7163 - acc: 0.7480 - val_loss: 0.6840 - val_acc: 0.7745\n",
            "Epoch 56/400\n",
            " 207/1562 [==>...........................] - ETA: 1:08 - loss: 0.7246 - acc: 0.7514"
          ],
          "name": "stdout"
        },
        {
          "output_type": "stream",
          "text": [
            "1563/1562 [==============================] - 82s 53ms/step - loss: 0.7099 - acc: 0.7538 - val_loss: 0.7400 - val_acc: 0.7593\n",
            "Epoch 57/400\n",
            "  96/1562 [>.............................] - ETA: 1:12 - loss: 0.7082 - acc: 0.7581"
          ],
          "name": "stdout"
        },
        {
          "output_type": "stream",
          "text": [
            "1563/1562 [==============================] - 82s 53ms/step - loss: 0.7041 - acc: 0.7550 - val_loss: 0.6874 - val_acc: 0.7776\n",
            "Epoch 58/400\n",
            "  26/1562 [..............................] - ETA: 1:18 - loss: 0.6609 - acc: 0.7764"
          ],
          "name": "stdout"
        },
        {
          "output_type": "stream",
          "text": [
            "1563/1562 [==============================] - 82s 52ms/step - loss: 0.6951 - acc: 0.7562 - val_loss: 0.7042 - val_acc: 0.7704\n",
            "Epoch 59/400\n",
            "  30/1562 [..............................] - ETA: 1:17 - loss: 0.6879 - acc: 0.7625"
          ],
          "name": "stdout"
        },
        {
          "output_type": "stream",
          "text": [
            "1563/1562 [==============================] - 82s 52ms/step - loss: 0.6905 - acc: 0.7617 - val_loss: 0.7434 - val_acc: 0.7636\n",
            "Epoch 60/400\n",
            "  29/1562 [..............................] - ETA: 1:16 - loss: 0.6986 - acc: 0.7425"
          ],
          "name": "stdout"
        },
        {
          "output_type": "stream",
          "text": [
            "1563/1562 [==============================] - 82s 52ms/step - loss: 0.6918 - acc: 0.7595 - val_loss: 0.6607 - val_acc: 0.7822\n",
            "Epoch 61/400\n",
            "  18/1562 [..............................] - ETA: 1:36 - loss: 0.6818 - acc: 0.7587"
          ],
          "name": "stdout"
        },
        {
          "output_type": "stream",
          "text": [
            "1563/1562 [==============================] - 82s 53ms/step - loss: 0.6788 - acc: 0.7628 - val_loss: 0.6665 - val_acc: 0.7840\n",
            "Epoch 62/400\n",
            "   5/1562 [..............................] - ETA: 1:23 - loss: 0.6546 - acc: 0.7625"
          ],
          "name": "stdout"
        },
        {
          "output_type": "stream",
          "text": [
            "1563/1562 [==============================] - 82s 52ms/step - loss: 0.6735 - acc: 0.7648 - val_loss: 0.6596 - val_acc: 0.7839\n",
            "Epoch 63/400\n",
            "  12/1562 [..............................] - ETA: 1:48 - loss: 0.6868 - acc: 0.7656"
          ],
          "name": "stdout"
        },
        {
          "output_type": "stream",
          "text": [
            "1563/1562 [==============================] - 82s 53ms/step - loss: 0.6705 - acc: 0.7666 - val_loss: 0.7531 - val_acc: 0.7580\n",
            "Epoch 64/400\n",
            "  14/1562 [..............................] - ETA: 1:17 - loss: 0.5563 - acc: 0.8192"
          ],
          "name": "stdout"
        },
        {
          "output_type": "stream",
          "text": [
            "1563/1562 [==============================] - 82s 53ms/step - loss: 0.6679 - acc: 0.7671 - val_loss: 0.7079 - val_acc: 0.7735\n",
            "Epoch 65/400\n",
            "   9/1562 [..............................] - ETA: 1:15 - loss: 0.6609 - acc: 0.7639"
          ],
          "name": "stdout"
        },
        {
          "output_type": "stream",
          "text": [
            "1563/1562 [==============================] - 82s 52ms/step - loss: 0.6585 - acc: 0.7734 - val_loss: 0.6777 - val_acc: 0.7847\n",
            "Epoch 66/400\n",
            "  13/1562 [..............................] - ETA: 1:17 - loss: 0.6804 - acc: 0.7620"
          ],
          "name": "stdout"
        },
        {
          "output_type": "stream",
          "text": [
            "1563/1562 [==============================] - 82s 52ms/step - loss: 0.6631 - acc: 0.7693 - val_loss: 0.6629 - val_acc: 0.7865\n",
            "Epoch 67/400\n",
            "  11/1562 [..............................] - ETA: 1:17 - loss: 0.7287 - acc: 0.7585"
          ],
          "name": "stdout"
        },
        {
          "output_type": "stream",
          "text": [
            "1563/1562 [==============================] - 82s 53ms/step - loss: 0.6531 - acc: 0.7719 - val_loss: 0.6596 - val_acc: 0.7871\n",
            "Epoch 68/400\n",
            "   1/1562 [..............................] - ETA: 1:28 - loss: 0.3776 - acc: 0.8438"
          ],
          "name": "stdout"
        },
        {
          "output_type": "stream",
          "text": [
            "1563/1562 [==============================] - 82s 52ms/step - loss: 0.6397 - acc: 0.7763 - val_loss: 0.6797 - val_acc: 0.7790\n",
            "Epoch 69/400\n",
            "   9/1562 [..............................] - ETA: 1:17 - loss: 0.6629 - acc: 0.7778"
          ],
          "name": "stdout"
        },
        {
          "output_type": "stream",
          "text": [
            "1563/1562 [==============================] - 82s 52ms/step - loss: 0.6406 - acc: 0.7761 - val_loss: 0.6408 - val_acc: 0.7931\n",
            "Epoch 70/400\n",
            "  26/1562 [..............................] - ETA: 1:27 - loss: 0.6197 - acc: 0.7812"
          ],
          "name": "stdout"
        },
        {
          "output_type": "stream",
          "text": [
            "1563/1562 [==============================] - 82s 53ms/step - loss: 0.6352 - acc: 0.7792 - val_loss: 0.6034 - val_acc: 0.7993\n",
            "Epoch 71/400\n",
            "  16/1562 [..............................] - ETA: 1:30 - loss: 0.6547 - acc: 0.7715"
          ],
          "name": "stdout"
        },
        {
          "output_type": "stream",
          "text": [
            "1563/1562 [==============================] - 82s 53ms/step - loss: 0.6332 - acc: 0.7813 - val_loss: 0.5978 - val_acc: 0.8013\n",
            "Epoch 72/400\n",
            "   5/1562 [..............................] - ETA: 1:39 - loss: 0.5421 - acc: 0.7937"
          ],
          "name": "stdout"
        },
        {
          "output_type": "stream",
          "text": [
            "1563/1562 [==============================] - 83s 53ms/step - loss: 0.6256 - acc: 0.7816 - val_loss: 0.6627 - val_acc: 0.7855\n"
          ],
          "name": "stdout"
        },
        {
          "output_type": "stream",
          "text": [
            "Epoch 73/400\n",
            "1381/1562 [=========================>....] - ETA: 9s - loss: 0.6270 - acc: 0.7818"
          ],
          "name": "stdout"
        },
        {
          "output_type": "stream",
          "text": [
            "1563/1562 [==============================] - 82s 53ms/step - loss: 0.6272 - acc: 0.7816 - val_loss: 0.6240 - val_acc: 0.7913\n",
            "Epoch 74/400\n",
            " 498/1562 [========>.....................] - ETA: 53s - loss: 0.6148 - acc: 0.7869"
          ],
          "name": "stdout"
        },
        {
          "output_type": "stream",
          "text": [
            "1563/1562 [==============================] - 82s 53ms/step - loss: 0.6139 - acc: 0.7859 - val_loss: 0.6662 - val_acc: 0.7919\n",
            "Epoch 75/400\n",
            " 192/1562 [==>...........................] - ETA: 1:09 - loss: 0.6148 - acc: 0.7865"
          ],
          "name": "stdout"
        },
        {
          "output_type": "stream",
          "text": [
            "1563/1562 [==============================] - 82s 53ms/step - loss: 0.6180 - acc: 0.7868 - val_loss: 0.5793 - val_acc: 0.8131\n",
            "Epoch 76/400\n",
            "  63/1562 [>.............................] - ETA: 1:24 - loss: 0.5676 - acc: 0.7927"
          ],
          "name": "stdout"
        },
        {
          "output_type": "stream",
          "text": [
            "1563/1562 [==============================] - 82s 53ms/step - loss: 0.6117 - acc: 0.7869 - val_loss: 0.5987 - val_acc: 0.8055\n",
            "Epoch 77/400\n",
            "  33/1562 [..............................] - ETA: 1:16 - loss: 0.6060 - acc: 0.7917"
          ],
          "name": "stdout"
        },
        {
          "output_type": "stream",
          "text": [
            "1563/1562 [==============================] - 82s 52ms/step - loss: 0.6078 - acc: 0.7917 - val_loss: 0.5467 - val_acc: 0.8203\n",
            "Epoch 78/400\n",
            "  22/1562 [..............................] - ETA: 1:32 - loss: 0.5729 - acc: 0.7898"
          ],
          "name": "stdout"
        },
        {
          "output_type": "stream",
          "text": [
            "1562/1562 [============================>.] - ETA: 0s - loss: 0.6047 - acc: 0.7893"
          ],
          "name": "stdout"
        },
        {
          "output_type": "stream",
          "text": [
            "1563/1562 [==============================] - 83s 53ms/step - loss: 0.6046 - acc: 0.7892 - val_loss: 0.6218 - val_acc: 0.7996\n",
            "Epoch 79/400\n",
            " 590/1562 [==========>...................] - ETA: 48s - loss: 0.6018 - acc: 0.7881"
          ],
          "name": "stdout"
        },
        {
          "output_type": "stream",
          "text": [
            "1563/1562 [==============================] - 82s 53ms/step - loss: 0.5966 - acc: 0.7912 - val_loss: 0.5994 - val_acc: 0.8045\n",
            "Epoch 80/400\n",
            " 220/1562 [===>..........................] - ETA: 1:06 - loss: 0.5829 - acc: 0.7947"
          ],
          "name": "stdout"
        },
        {
          "output_type": "stream",
          "text": [
            "1563/1562 [==============================] - 82s 52ms/step - loss: 0.5925 - acc: 0.7925 - val_loss: 0.6237 - val_acc: 0.8022\n",
            "Epoch 81/400\n",
            "  83/1562 [>.............................] - ETA: 1:14 - loss: 0.5841 - acc: 0.7948"
          ],
          "name": "stdout"
        },
        {
          "output_type": "stream",
          "text": [
            "1563/1562 [==============================] - 82s 52ms/step - loss: 0.5902 - acc: 0.7934 - val_loss: 0.6268 - val_acc: 0.8021\n",
            "Epoch 82/400\n",
            "  46/1562 [..............................] - ETA: 1:16 - loss: 0.5826 - acc: 0.8010"
          ],
          "name": "stdout"
        },
        {
          "output_type": "stream",
          "text": [
            "1563/1562 [==============================] - 82s 52ms/step - loss: 0.5832 - acc: 0.7985 - val_loss: 0.6093 - val_acc: 0.8075\n",
            "Epoch 83/400\n",
            "  41/1562 [..............................] - ETA: 1:16 - loss: 0.5335 - acc: 0.8102"
          ],
          "name": "stdout"
        },
        {
          "output_type": "stream",
          "text": [
            "1563/1562 [==============================] - 82s 52ms/step - loss: 0.5824 - acc: 0.7969 - val_loss: 0.7159 - val_acc: 0.7759\n",
            "Epoch 84/400\n",
            "  53/1562 [>.............................] - ETA: 1:14 - loss: 0.5700 - acc: 0.8054"
          ],
          "name": "stdout"
        },
        {
          "output_type": "stream",
          "text": [
            "1563/1562 [==============================] - 82s 52ms/step - loss: 0.5729 - acc: 0.8007 - val_loss: 0.6069 - val_acc: 0.8068\n",
            "Epoch 85/400\n",
            "  24/1562 [..............................] - ETA: 1:18 - loss: 0.6126 - acc: 0.7773"
          ],
          "name": "stdout"
        },
        {
          "output_type": "stream",
          "text": [
            "1563/1562 [==============================] - 83s 53ms/step - loss: 0.5735 - acc: 0.8011 - val_loss: 0.5602 - val_acc: 0.8172\n",
            "Epoch 86/400\n",
            "   3/1562 [..............................] - ETA: 1:18 - loss: 0.4946 - acc: 0.8125"
          ],
          "name": "stdout"
        },
        {
          "output_type": "stream",
          "text": [
            "1563/1562 [==============================] - 82s 53ms/step - loss: 0.5692 - acc: 0.8033 - val_loss: 0.5898 - val_acc: 0.8049\n",
            "Epoch 87/400\n",
            "   5/1562 [..............................] - ETA: 1:20 - loss: 0.5422 - acc: 0.8000"
          ],
          "name": "stdout"
        },
        {
          "output_type": "stream",
          "text": [
            "1563/1562 [==============================] - 82s 53ms/step - loss: 0.5684 - acc: 0.8029 - val_loss: 0.6109 - val_acc: 0.8053\n",
            "Epoch 88/400\n",
            "   7/1562 [..............................] - ETA: 1:19 - loss: 0.6584 - acc: 0.7812"
          ],
          "name": "stdout"
        },
        {
          "output_type": "stream",
          "text": [
            "1563/1562 [==============================] - 82s 53ms/step - loss: 0.5581 - acc: 0.8058 - val_loss: 0.6508 - val_acc: 0.7994\n",
            "Epoch 89/400\n",
            "   1/1562 [..............................] - ETA: 1:17 - loss: 0.6024 - acc: 0.7812"
          ],
          "name": "stdout"
        },
        {
          "output_type": "stream",
          "text": [
            "1563/1562 [==============================] - 82s 53ms/step - loss: 0.5633 - acc: 0.8033 - val_loss: 0.5505 - val_acc: 0.8138\n",
            "Epoch 90/400\n",
            "   8/1562 [..............................] - ETA: 1:21 - loss: 0.5520 - acc: 0.8125"
          ],
          "name": "stdout"
        },
        {
          "output_type": "stream",
          "text": [
            "1563/1562 [==============================] - 82s 53ms/step - loss: 0.5568 - acc: 0.8072 - val_loss: 0.5787 - val_acc: 0.8120\n",
            "Epoch 91/400\n",
            "  14/1562 [..............................] - ETA: 1:21 - loss: 0.5408 - acc: 0.8170"
          ],
          "name": "stdout"
        },
        {
          "output_type": "stream",
          "text": [
            "1563/1562 [==============================] - 82s 52ms/step - loss: 0.5552 - acc: 0.8081 - val_loss: 0.6719 - val_acc: 0.8002\n",
            "Epoch 92/400\n",
            "  22/1562 [..............................] - ETA: 1:16 - loss: 0.5804 - acc: 0.8153"
          ],
          "name": "stdout"
        },
        {
          "output_type": "stream",
          "text": [
            "1563/1562 [==============================] - 82s 52ms/step - loss: 0.5481 - acc: 0.8096 - val_loss: 0.5866 - val_acc: 0.8049\n",
            "Epoch 93/400\n",
            "  36/1562 [..............................] - ETA: 1:16 - loss: 0.5102 - acc: 0.8273"
          ],
          "name": "stdout"
        },
        {
          "output_type": "stream",
          "text": [
            "1563/1562 [==============================] - 82s 53ms/step - loss: 0.5450 - acc: 0.8092 - val_loss: 0.5418 - val_acc: 0.8230\n",
            "Epoch 94/400\n",
            "  17/1562 [..............................] - ETA: 1:34 - loss: 0.5312 - acc: 0.8033"
          ],
          "name": "stdout"
        },
        {
          "output_type": "stream",
          "text": [
            "1563/1562 [==============================] - 82s 53ms/step - loss: 0.5442 - acc: 0.8092 - val_loss: 0.6400 - val_acc: 0.7987\n",
            "Epoch 95/400\n",
            "   3/1562 [..............................] - ETA: 1:19 - loss: 0.4749 - acc: 0.8229"
          ],
          "name": "stdout"
        },
        {
          "output_type": "stream",
          "text": [
            "1563/1562 [==============================] - 82s 52ms/step - loss: 0.5371 - acc: 0.8112 - val_loss: 0.5253 - val_acc: 0.8296\n",
            "Epoch 96/400\n",
            "  10/1562 [..............................] - ETA: 1:39 - loss: 0.5297 - acc: 0.8156"
          ],
          "name": "stdout"
        },
        {
          "output_type": "stream",
          "text": [
            "1563/1562 [==============================] - 82s 52ms/step - loss: 0.5314 - acc: 0.8164 - val_loss: 0.5391 - val_acc: 0.8230\n",
            "Epoch 97/400\n",
            "  30/1562 [..............................] - ETA: 1:16 - loss: 0.5571 - acc: 0.8104"
          ],
          "name": "stdout"
        },
        {
          "output_type": "stream",
          "text": [
            "1563/1562 [==============================] - 82s 53ms/step - loss: 0.5372 - acc: 0.8128 - val_loss: 0.5795 - val_acc: 0.8101\n",
            "Epoch 98/400\n",
            "  27/1562 [..............................] - ETA: 1:20 - loss: 0.4877 - acc: 0.8079"
          ],
          "name": "stdout"
        },
        {
          "output_type": "stream",
          "text": [
            "1563/1562 [==============================] - 82s 53ms/step - loss: 0.5316 - acc: 0.8158 - val_loss: 0.5605 - val_acc: 0.8224\n",
            "Epoch 99/400\n",
            "  18/1562 [..............................] - ETA: 1:16 - loss: 0.5116 - acc: 0.8247"
          ],
          "name": "stdout"
        },
        {
          "output_type": "stream",
          "text": [
            "1563/1562 [==============================] - 82s 53ms/step - loss: 0.5291 - acc: 0.8154 - val_loss: 0.5174 - val_acc: 0.8337\n",
            "Epoch 100/400\n",
            "   4/1562 [..............................] - ETA: 1:38 - loss: 0.5173 - acc: 0.8125"
          ],
          "name": "stdout"
        },
        {
          "output_type": "stream",
          "text": [
            "1563/1562 [==============================] - 83s 53ms/step - loss: 0.5224 - acc: 0.8182 - val_loss: 0.5821 - val_acc: 0.8151\n",
            "Epoch 101/400\n",
            "   2/1562 [..............................] - ETA: 1:24 - loss: 0.5220 - acc: 0.7812"
          ],
          "name": "stdout"
        },
        {
          "output_type": "stream",
          "text": [
            "1563/1562 [==============================] - 82s 52ms/step - loss: 0.5164 - acc: 0.8211 - val_loss: 0.5736 - val_acc: 0.8250\n",
            "Epoch 102/400\n",
            "  14/1562 [..............................] - ETA: 1:17 - loss: 0.5655 - acc: 0.8013"
          ],
          "name": "stdout"
        },
        {
          "output_type": "stream",
          "text": [
            "1563/1562 [==============================] - 82s 53ms/step - loss: 0.5159 - acc: 0.8205 - val_loss: 0.5436 - val_acc: 0.8261\n",
            "Epoch 103/400\n",
            "   7/1562 [..............................] - ETA: 1:19 - loss: 0.4826 - acc: 0.8080"
          ],
          "name": "stdout"
        },
        {
          "output_type": "stream",
          "text": [
            "1563/1562 [==============================] - 82s 53ms/step - loss: 0.5171 - acc: 0.8206 - val_loss: 0.5551 - val_acc: 0.8232\n",
            "Epoch 104/400\n",
            "  10/1562 [..............................] - ETA: 1:18 - loss: 0.4984 - acc: 0.8219"
          ],
          "name": "stdout"
        },
        {
          "output_type": "stream",
          "text": [
            "1563/1562 [==============================] - 82s 52ms/step - loss: 0.5100 - acc: 0.8211 - val_loss: 0.6008 - val_acc: 0.8151\n",
            "Epoch 105/400\n",
            "  28/1562 [..............................] - ETA: 1:14 - loss: 0.5118 - acc: 0.8147"
          ],
          "name": "stdout"
        },
        {
          "output_type": "stream",
          "text": [
            "1563/1562 [==============================] - 82s 53ms/step - loss: 0.5086 - acc: 0.8245 - val_loss: 0.5638 - val_acc: 0.8260\n",
            "Epoch 106/400\n",
            "  20/1562 [..............................] - ETA: 1:18 - loss: 0.4506 - acc: 0.8594"
          ],
          "name": "stdout"
        },
        {
          "output_type": "stream",
          "text": [
            "1563/1562 [==============================] - 82s 53ms/step - loss: 0.5054 - acc: 0.8238 - val_loss: 0.5411 - val_acc: 0.8253\n",
            "Epoch 107/400\n",
            "   5/1562 [..............................] - ETA: 1:19 - loss: 0.4907 - acc: 0.8313"
          ],
          "name": "stdout"
        },
        {
          "output_type": "stream",
          "text": [
            "1563/1562 [==============================] - 82s 53ms/step - loss: 0.5018 - acc: 0.8244 - val_loss: 0.5143 - val_acc: 0.8322\n"
          ],
          "name": "stdout"
        },
        {
          "output_type": "stream",
          "text": [
            "Epoch 108/400\n",
            "1390/1562 [=========================>....] - ETA: 8s - loss: 0.5007 - acc: 0.8253"
          ],
          "name": "stdout"
        },
        {
          "output_type": "stream",
          "text": [
            "1563/1562 [==============================] - 82s 52ms/step - loss: 0.4989 - acc: 0.8266 - val_loss: 0.5137 - val_acc: 0.8270\n",
            "Epoch 109/400\n",
            " 494/1562 [========>.....................] - ETA: 54s - loss: 0.4994 - acc: 0.8253"
          ],
          "name": "stdout"
        },
        {
          "output_type": "stream",
          "text": [
            "1563/1562 [==============================] - 83s 53ms/step - loss: 0.4998 - acc: 0.8240 - val_loss: 0.5445 - val_acc: 0.8278\n",
            "Epoch 110/400\n",
            " 160/1562 [==>...........................] - ETA: 1:11 - loss: 0.4862 - acc: 0.8287"
          ],
          "name": "stdout"
        },
        {
          "output_type": "stream",
          "text": [
            "1563/1562 [==============================] - 82s 53ms/step - loss: 0.4924 - acc: 0.8288 - val_loss: 0.5092 - val_acc: 0.8337\n",
            "Epoch 111/400\n",
            "  59/1562 [>.............................] - ETA: 1:21 - loss: 0.4952 - acc: 0.8263"
          ],
          "name": "stdout"
        },
        {
          "output_type": "stream",
          "text": [
            "1563/1562 [==============================] - 82s 53ms/step - loss: 0.4945 - acc: 0.8271 - val_loss: 0.5242 - val_acc: 0.8318\n",
            "Epoch 112/400\n",
            "  30/1562 [..............................] - ETA: 1:17 - loss: 0.4556 - acc: 0.8385"
          ],
          "name": "stdout"
        },
        {
          "output_type": "stream",
          "text": [
            "1563/1562 [==============================] - 82s 53ms/step - loss: 0.4922 - acc: 0.8296 - val_loss: 0.5659 - val_acc: 0.8232\n",
            "Epoch 113/400\n",
            "  16/1562 [..............................] - ETA: 1:19 - loss: 0.4956 - acc: 0.8223"
          ],
          "name": "stdout"
        },
        {
          "output_type": "stream",
          "text": [
            "1563/1562 [==============================] - 82s 53ms/step - loss: 0.4868 - acc: 0.8317 - val_loss: 0.5508 - val_acc: 0.8277\n",
            "Epoch 114/400\n",
            "  10/1562 [..............................] - ETA: 1:19 - loss: 0.3783 - acc: 0.8688"
          ],
          "name": "stdout"
        },
        {
          "output_type": "stream",
          "text": [
            "1563/1562 [==============================] - 82s 53ms/step - loss: 0.4896 - acc: 0.8286 - val_loss: 0.5122 - val_acc: 0.8356\n",
            "Epoch 115/400\n",
            "  13/1562 [..............................] - ETA: 1:22 - loss: 0.4885 - acc: 0.8317"
          ],
          "name": "stdout"
        },
        {
          "output_type": "stream",
          "text": [
            "1563/1562 [==============================] - 82s 52ms/step - loss: 0.4820 - acc: 0.8319 - val_loss: 0.5612 - val_acc: 0.8267\n",
            "Epoch 116/400\n",
            "  17/1562 [..............................] - ETA: 1:20 - loss: 0.4692 - acc: 0.8419"
          ],
          "name": "stdout"
        },
        {
          "output_type": "stream",
          "text": [
            "1563/1562 [==============================] - 82s 53ms/step - loss: 0.4790 - acc: 0.8344 - val_loss: 0.5820 - val_acc: 0.8203\n",
            "Epoch 117/400\n",
            "  12/1562 [..............................] - ETA: 1:17 - loss: 0.4370 - acc: 0.8568"
          ],
          "name": "stdout"
        },
        {
          "output_type": "stream",
          "text": [
            "1563/1562 [==============================] - 82s 53ms/step - loss: 0.4807 - acc: 0.8337 - val_loss: 0.5526 - val_acc: 0.8235\n",
            "Epoch 118/400\n",
            "  15/1562 [..............................] - ETA: 1:18 - loss: 0.4510 - acc: 0.8417"
          ],
          "name": "stdout"
        },
        {
          "output_type": "stream",
          "text": [
            "1563/1562 [==============================] - 82s 53ms/step - loss: 0.4745 - acc: 0.8344 - val_loss: 0.5017 - val_acc: 0.8399\n",
            "Epoch 119/400\n",
            "   2/1562 [..............................] - ETA: 1:31 - loss: 0.5552 - acc: 0.8281"
          ],
          "name": "stdout"
        },
        {
          "output_type": "stream",
          "text": [
            "1563/1562 [==============================] - 82s 53ms/step - loss: 0.4682 - acc: 0.8386 - val_loss: 0.5023 - val_acc: 0.8362\n",
            "Epoch 120/400\n",
            "  11/1562 [..............................] - ETA: 1:19 - loss: 0.4178 - acc: 0.8608"
          ],
          "name": "stdout"
        },
        {
          "output_type": "stream",
          "text": [
            "1552/1562 [============================>.] - ETA: 0s - loss: 0.4677 - acc: 0.8379"
          ],
          "name": "stdout"
        },
        {
          "output_type": "stream",
          "text": [
            "1563/1562 [==============================] - 83s 53ms/step - loss: 0.4684 - acc: 0.8377 - val_loss: 0.5100 - val_acc: 0.8381\n",
            "Epoch 121/400\n",
            " 549/1562 [=========>....................] - ETA: 51s - loss: 0.4674 - acc: 0.8364"
          ],
          "name": "stdout"
        },
        {
          "output_type": "stream",
          "text": [
            "1563/1562 [==============================] - 83s 53ms/step - loss: 0.4646 - acc: 0.8381 - val_loss: 0.5292 - val_acc: 0.8335\n",
            "Epoch 122/400\n",
            " 202/1562 [==>...........................] - ETA: 1:08 - loss: 0.4533 - acc: 0.8439\b\b\b\b\b\b\b\b\b\b\b\b\b\b\b\b\b\b\b\b\b\b\b\b\b\b\b\b\b\b\b\b\b\b\b\b\b\b\b\b\b\b\b\b\b\b\b\b\b\b\b\b\b\b\b\b\b\b\b\b\b\b\b\b\b\b\b\b\b\b\b\b\b\b\b\b\b\b\b\b\b\b\b"
          ],
          "name": "stdout"
        },
        {
          "output_type": "stream",
          "text": [
            "1563/1562 [==============================] - 82s 53ms/step - loss: 0.4675 - acc: 0.8381 - val_loss: 0.5145 - val_acc: 0.8359\n",
            "Epoch 123/400\n",
            "  74/1562 [>.............................] - ETA: 1:14 - loss: 0.4669 - acc: 0.8467"
          ],
          "name": "stdout"
        },
        {
          "output_type": "stream",
          "text": [
            "1563/1562 [==============================] - 82s 53ms/step - loss: 0.4608 - acc: 0.8398 - val_loss: 0.5683 - val_acc: 0.8267\n",
            "Epoch 124/400\n"
          ],
          "name": "stdout"
        },
        {
          "output_type": "stream",
          "text": [
            "1563/1562 [==============================] - 83s 53ms/step - loss: 0.4595 - acc: 0.8411 - val_loss: 0.5218 - val_acc: 0.8364\n",
            "Epoch 125/400\n",
            "   2/1562 [..............................] - ETA: 1:22 - loss: 0.3217 - acc: 0.8594"
          ],
          "name": "stdout"
        },
        {
          "output_type": "stream",
          "text": [
            "1563/1562 [==============================] - 82s 53ms/step - loss: 0.4605 - acc: 0.8393 - val_loss: 0.5309 - val_acc: 0.8316\n",
            "Epoch 126/400\n",
            "   2/1562 [..............................] - ETA: 1:20 - loss: 0.2796 - acc: 0.9062"
          ],
          "name": "stdout"
        },
        {
          "output_type": "stream",
          "text": [
            "1563/1562 [==============================] - 82s 53ms/step - loss: 0.4520 - acc: 0.8411 - val_loss: 0.5122 - val_acc: 0.8358\n",
            "Epoch 127/400\n",
            "   3/1562 [..............................] - ETA: 1:15 - loss: 0.3136 - acc: 0.9062"
          ],
          "name": "stdout"
        },
        {
          "output_type": "stream",
          "text": [
            "1562/1562 [============================>.] - ETA: 0s - loss: 0.4555 - acc: 0.8413"
          ],
          "name": "stdout"
        },
        {
          "output_type": "stream",
          "text": [
            "1563/1562 [==============================] - 82s 53ms/step - loss: 0.4555 - acc: 0.8413 - val_loss: 0.5327 - val_acc: 0.8340\n",
            "Epoch 128/400\n",
            " 567/1562 [=========>....................] - ETA: 50s - loss: 0.4371 - acc: 0.8505"
          ],
          "name": "stdout"
        },
        {
          "output_type": "stream",
          "text": [
            "1563/1562 [==============================] - 82s 53ms/step - loss: 0.4477 - acc: 0.8448 - val_loss: 0.4898 - val_acc: 0.8451\n",
            "Epoch 129/400\n",
            " 213/1562 [===>..........................] - ETA: 1:09 - loss: 0.4505 - acc: 0.8380"
          ],
          "name": "stdout"
        },
        {
          "output_type": "stream",
          "text": [
            "1563/1562 [==============================] - 82s 53ms/step - loss: 0.4506 - acc: 0.8420 - val_loss: 0.5624 - val_acc: 0.8242\n",
            "Epoch 130/400\n",
            "  89/1562 [>.............................] - ETA: 1:14 - loss: 0.4444 - acc: 0.8441"
          ],
          "name": "stdout"
        },
        {
          "output_type": "stream",
          "text": [
            "1563/1562 [==============================] - 82s 53ms/step - loss: 0.4467 - acc: 0.8431 - val_loss: 0.5719 - val_acc: 0.8236\n",
            "Epoch 131/400\n",
            "  32/1562 [..............................] - ETA: 1:17 - loss: 0.4329 - acc: 0.8555"
          ],
          "name": "stdout"
        },
        {
          "output_type": "stream",
          "text": [
            "1563/1562 [==============================] - 82s 53ms/step - loss: 0.4435 - acc: 0.8455 - val_loss: 0.5404 - val_acc: 0.8369\n",
            "Epoch 132/400\n",
            "   7/1562 [..............................] - ETA: 1:21 - loss: 0.3564 - acc: 0.8795"
          ],
          "name": "stdout"
        },
        {
          "output_type": "stream",
          "text": [
            "1563/1562 [==============================] - 83s 53ms/step - loss: 0.4460 - acc: 0.8435 - val_loss: 0.4688 - val_acc: 0.8474\n"
          ],
          "name": "stdout"
        },
        {
          "output_type": "stream",
          "text": [
            "Epoch 133/400\n",
            "1359/1562 [=========================>....] - ETA: 10s - loss: 0.4411 - acc: 0.8470"
          ],
          "name": "stdout"
        },
        {
          "output_type": "stream",
          "text": [
            "1563/1562 [==============================] - 83s 53ms/step - loss: 0.4428 - acc: 0.8464 - val_loss: 0.5793 - val_acc: 0.8264\n",
            "Epoch 134/400\n",
            " 511/1562 [========>.....................] - ETA: 52s - loss: 0.4368 - acc: 0.8470"
          ],
          "name": "stdout"
        },
        {
          "output_type": "stream",
          "text": [
            "1563/1562 [==============================] - 82s 53ms/step - loss: 0.4403 - acc: 0.8462 - val_loss: 0.5452 - val_acc: 0.8322\n",
            "Epoch 135/400\n",
            " 206/1562 [==>...........................] - ETA: 1:08 - loss: 0.4184 - acc: 0.8532"
          ],
          "name": "stdout"
        },
        {
          "output_type": "stream",
          "text": [
            "1563/1562 [==============================] - 82s 53ms/step - loss: 0.4338 - acc: 0.8488 - val_loss: 0.5428 - val_acc: 0.8337\n",
            "Epoch 136/400\n",
            "  69/1562 [>.............................] - ETA: 1:14 - loss: 0.4177 - acc: 0.8578"
          ],
          "name": "stdout"
        },
        {
          "output_type": "stream",
          "text": [
            "1563/1562 [==============================] - 83s 53ms/step - loss: 0.4329 - acc: 0.8493 - val_loss: 0.5068 - val_acc: 0.8459\n",
            "Epoch 137/400\n",
            "   3/1562 [..............................] - ETA: 1:20 - loss: 0.3786 - acc: 0.8542"
          ],
          "name": "stdout"
        },
        {
          "output_type": "stream",
          "text": [
            "1562/1562 [============================>.] - ETA: 0s - loss: 0.4352 - acc: 0.8467"
          ],
          "name": "stdout"
        },
        {
          "output_type": "stream",
          "text": [
            "1563/1562 [==============================] - 82s 53ms/step - loss: 0.4352 - acc: 0.8467 - val_loss: 0.5596 - val_acc: 0.8354\n",
            "Epoch 138/400\n",
            " 580/1562 [==========>...................] - ETA: 49s - loss: 0.4302 - acc: 0.8481"
          ],
          "name": "stdout"
        },
        {
          "output_type": "stream",
          "text": [
            "1563/1562 [==============================] - 82s 53ms/step - loss: 0.4293 - acc: 0.8498 - val_loss: 0.5007 - val_acc: 0.8446\n",
            "Epoch 139/400\n",
            " 218/1562 [===>..........................] - ETA: 1:07 - loss: 0.4357 - acc: 0.8488"
          ],
          "name": "stdout"
        },
        {
          "output_type": "stream",
          "text": [
            "1563/1562 [==============================] - 83s 53ms/step - loss: 0.4294 - acc: 0.8503 - val_loss: 0.4724 - val_acc: 0.8514\n",
            "Epoch 140/400\n",
            "  63/1562 [>.............................] - ETA: 1:15 - loss: 0.4531 - acc: 0.8428"
          ],
          "name": "stdout"
        },
        {
          "output_type": "stream",
          "text": [
            "1563/1562 [==============================] - 83s 53ms/step - loss: 0.4259 - acc: 0.8521 - val_loss: 0.5898 - val_acc: 0.8295\n",
            "Epoch 141/400\n",
            "  10/1562 [..............................] - ETA: 1:20 - loss: 0.3891 - acc: 0.8625"
          ],
          "name": "stdout"
        },
        {
          "output_type": "stream",
          "text": [
            "1561/1562 [============================>.] - ETA: 0s - loss: 0.4254 - acc: 0.8517"
          ],
          "name": "stdout"
        },
        {
          "output_type": "stream",
          "text": [
            "1563/1562 [==============================] - 83s 53ms/step - loss: 0.4255 - acc: 0.8517 - val_loss: 0.5396 - val_acc: 0.8341\n",
            "Epoch 142/400\n",
            " 536/1562 [=========>....................] - ETA: 52s - loss: 0.4310 - acc: 0.8507"
          ],
          "name": "stdout"
        },
        {
          "output_type": "stream",
          "text": [
            "1563/1562 [==============================] - 83s 53ms/step - loss: 0.4233 - acc: 0.8526 - val_loss: 0.5693 - val_acc: 0.8287\n",
            "Epoch 143/400\n",
            " 206/1562 [==>...........................] - ETA: 1:08 - loss: 0.4254 - acc: 0.8466"
          ],
          "name": "stdout"
        },
        {
          "output_type": "stream",
          "text": [
            "1563/1562 [==============================] - 83s 53ms/step - loss: 0.4216 - acc: 0.8520 - val_loss: 0.4710 - val_acc: 0.8516\n",
            "Epoch 144/400\n",
            "  70/1562 [>.............................] - ETA: 1:16 - loss: 0.4130 - acc: 0.8504"
          ],
          "name": "stdout"
        },
        {
          "output_type": "stream",
          "text": [
            "1563/1562 [==============================] - 82s 53ms/step - loss: 0.4176 - acc: 0.8534 - val_loss: 0.5242 - val_acc: 0.8364\n",
            "Epoch 145/400\n",
            "  15/1562 [..............................] - ETA: 1:19 - loss: 0.4304 - acc: 0.8646"
          ],
          "name": "stdout"
        },
        {
          "output_type": "stream",
          "text": [
            "1562/1562 [============================>.] - ETA: 0s - loss: 0.4135 - acc: 0.8562"
          ],
          "name": "stdout"
        },
        {
          "output_type": "stream",
          "text": [
            "1563/1562 [==============================] - 83s 53ms/step - loss: 0.4135 - acc: 0.8562 - val_loss: 0.4636 - val_acc: 0.8524\n",
            "Epoch 146/400\n",
            " 552/1562 [=========>....................] - ETA: 51s - loss: 0.4083 - acc: 0.8548"
          ],
          "name": "stdout"
        },
        {
          "output_type": "stream",
          "text": [
            "1563/1562 [==============================] - 83s 53ms/step - loss: 0.4163 - acc: 0.8536 - val_loss: 0.4924 - val_acc: 0.8490\n",
            "Epoch 147/400\n",
            " 180/1562 [==>...........................] - ETA: 1:10 - loss: 0.4149 - acc: 0.8528"
          ],
          "name": "stdout"
        },
        {
          "output_type": "stream",
          "text": [
            "1563/1562 [==============================] - 83s 53ms/step - loss: 0.4170 - acc: 0.8532 - val_loss: 0.4963 - val_acc: 0.8442\n",
            "Epoch 148/400\n",
            "  52/1562 [..............................] - ETA: 1:17 - loss: 0.4289 - acc: 0.8510"
          ],
          "name": "stdout"
        },
        {
          "output_type": "stream",
          "text": [
            "1562/1562 [============================>.] - ETA: 0s - loss: 0.4148 - acc: 0.8552"
          ],
          "name": "stdout"
        },
        {
          "output_type": "stream",
          "text": [
            "1563/1562 [==============================] - 83s 53ms/step - loss: 0.4148 - acc: 0.8552 - val_loss: 0.5493 - val_acc: 0.8330\n",
            "Epoch 149/400\n",
            " 601/1562 [==========>...................] - ETA: 48s - loss: 0.4038 - acc: 0.8576"
          ],
          "name": "stdout"
        },
        {
          "output_type": "stream",
          "text": [
            "1563/1562 [==============================] - 82s 53ms/step - loss: 0.4074 - acc: 0.8576 - val_loss: 0.5249 - val_acc: 0.8367\n",
            "Epoch 150/400\n",
            " 211/1562 [===>..........................] - ETA: 1:08 - loss: 0.4062 - acc: 0.8584"
          ],
          "name": "stdout"
        },
        {
          "output_type": "stream",
          "text": [
            "1563/1562 [==============================] - 83s 53ms/step - loss: 0.4096 - acc: 0.8566 - val_loss: 0.5733 - val_acc: 0.8332\n",
            "Epoch 151/400\n",
            "  71/1562 [>.............................] - ETA: 1:16 - loss: 0.3789 - acc: 0.8715"
          ],
          "name": "stdout"
        },
        {
          "output_type": "stream",
          "text": [
            "1563/1562 [==============================] - 83s 53ms/step - loss: 0.4027 - acc: 0.8598 - val_loss: 0.5015 - val_acc: 0.8454\n"
          ],
          "name": "stdout"
        },
        {
          "output_type": "stream",
          "text": [
            "Epoch 152/400\n",
            "1391/1562 [=========================>....] - ETA: 8s - loss: 0.4048 - acc: 0.8597"
          ],
          "name": "stdout"
        },
        {
          "output_type": "stream",
          "text": [
            "1563/1562 [==============================] - 83s 53ms/step - loss: 0.4061 - acc: 0.8595 - val_loss: 0.5033 - val_acc: 0.8471\n",
            "Epoch 153/400\n",
            " 509/1562 [========>.....................] - ETA: 53s - loss: 0.4017 - acc: 0.8594"
          ],
          "name": "stdout"
        },
        {
          "output_type": "stream",
          "text": [
            "1563/1562 [==============================] - 82s 53ms/step - loss: 0.4079 - acc: 0.8577 - val_loss: 0.5307 - val_acc: 0.8361\n",
            "Epoch 154/400\n",
            " 193/1562 [==>...........................] - ETA: 1:09 - loss: 0.3907 - acc: 0.8598"
          ],
          "name": "stdout"
        },
        {
          "output_type": "stream",
          "text": [
            "1563/1562 [==============================] - 83s 53ms/step - loss: 0.4004 - acc: 0.8596 - val_loss: 0.4287 - val_acc: 0.8643\n",
            "Epoch 155/400\n",
            "  54/1562 [>.............................] - ETA: 1:22 - loss: 0.3626 - acc: 0.8681"
          ],
          "name": "stdout"
        },
        {
          "output_type": "stream",
          "text": [
            "1563/1562 [==============================] - 83s 53ms/step - loss: 0.3981 - acc: 0.8618 - val_loss: 0.4570 - val_acc: 0.8556\n",
            "Epoch 156/400\n",
            "  18/1562 [..............................] - ETA: 1:18 - loss: 0.3595 - acc: 0.8698"
          ],
          "name": "stdout"
        },
        {
          "output_type": "stream",
          "text": [
            "1563/1562 [==============================] - 82s 53ms/step - loss: 0.3941 - acc: 0.8640 - val_loss: 0.5496 - val_acc: 0.8332\n",
            "Epoch 157/400\n",
            "   5/1562 [..............................] - ETA: 1:22 - loss: 0.4025 - acc: 0.8750"
          ],
          "name": "stdout"
        },
        {
          "output_type": "stream",
          "text": [
            "1527/1562 [============================>.] - ETA: 1s - loss: 0.3988 - acc: 0.8618"
          ],
          "name": "stdout"
        },
        {
          "output_type": "stream",
          "text": [
            "1563/1562 [==============================] - 83s 53ms/step - loss: 0.4002 - acc: 0.8611 - val_loss: 0.4635 - val_acc: 0.8524\n",
            "Epoch 158/400\n",
            " 573/1562 [==========>...................] - ETA: 49s - loss: 0.3920 - acc: 0.8655"
          ],
          "name": "stdout"
        },
        {
          "output_type": "stream",
          "text": [
            "1563/1562 [==============================] - 82s 53ms/step - loss: 0.3903 - acc: 0.8653 - val_loss: 0.4863 - val_acc: 0.8482\n",
            "Epoch 159/400\n",
            " 201/1562 [==>...........................] - ETA: 1:09 - loss: 0.3755 - acc: 0.8674"
          ],
          "name": "stdout"
        },
        {
          "output_type": "stream",
          "text": [
            "1563/1562 [==============================] - 83s 53ms/step - loss: 0.3934 - acc: 0.8626 - val_loss: 0.4789 - val_acc: 0.8515\n",
            "Epoch 160/400\n",
            "  74/1562 [>.............................] - ETA: 1:16 - loss: 0.3944 - acc: 0.8653"
          ],
          "name": "stdout"
        },
        {
          "output_type": "stream",
          "text": [
            "1563/1562 [==============================] - 83s 53ms/step - loss: 0.3918 - acc: 0.8623 - val_loss: 0.4617 - val_acc: 0.8603\n",
            "Epoch 161/400\n",
            "  15/1562 [..............................] - ETA: 1:18 - loss: 0.3853 - acc: 0.8750"
          ],
          "name": "stdout"
        },
        {
          "output_type": "stream",
          "text": [
            "1563/1562 [==============================] - 82s 53ms/step - loss: 0.3865 - acc: 0.8639 - val_loss: 0.4582 - val_acc: 0.8578\n",
            "Epoch 162/400\n",
            "  20/1562 [..............................] - ETA: 1:17 - loss: 0.3802 - acc: 0.8734"
          ],
          "name": "stdout"
        },
        {
          "output_type": "stream",
          "text": [
            "1563/1562 [==============================] - 82s 52ms/step - loss: 0.3893 - acc: 0.8650 - val_loss: 0.4571 - val_acc: 0.8584\n",
            "Epoch 163/400\n",
            "  30/1562 [..............................] - ETA: 1:16 - loss: 0.3617 - acc: 0.8625"
          ],
          "name": "stdout"
        },
        {
          "output_type": "stream",
          "text": [
            "1563/1562 [==============================] - 82s 53ms/step - loss: 0.3900 - acc: 0.8637 - val_loss: 0.5129 - val_acc: 0.8442\n",
            "Epoch 164/400\n",
            "   9/1562 [..............................] - ETA: 1:19 - loss: 0.3907 - acc: 0.8750"
          ],
          "name": "stdout"
        },
        {
          "output_type": "stream",
          "text": [
            "1563/1562 [==============================] - 82s 53ms/step - loss: 0.3841 - acc: 0.8658 - val_loss: 0.4160 - val_acc: 0.8670\n",
            "Epoch 165/400\n",
            "   9/1562 [..............................] - ETA: 1:45 - loss: 0.4036 - acc: 0.8646"
          ],
          "name": "stdout"
        },
        {
          "output_type": "stream",
          "text": [
            "1563/1562 [==============================] - 83s 53ms/step - loss: 0.3852 - acc: 0.8646 - val_loss: 0.4867 - val_acc: 0.8522\n"
          ],
          "name": "stdout"
        },
        {
          "output_type": "stream",
          "text": [
            "Epoch 166/400\n",
            "1349/1562 [========================>.....] - ETA: 10s - loss: 0.3800 - acc: 0.8658"
          ],
          "name": "stdout"
        },
        {
          "output_type": "stream",
          "text": [
            "1563/1562 [==============================] - 82s 53ms/step - loss: 0.3804 - acc: 0.8655 - val_loss: 0.5102 - val_acc: 0.8491\n",
            "Epoch 167/400\n",
            " 524/1562 [=========>....................] - ETA: 51s - loss: 0.3801 - acc: 0.8676"
          ],
          "name": "stdout"
        },
        {
          "output_type": "stream",
          "text": [
            "1563/1562 [==============================] - 82s 53ms/step - loss: 0.3810 - acc: 0.8666 - val_loss: 0.5030 - val_acc: 0.8492\n",
            "Epoch 168/400\n",
            " 189/1562 [==>...........................] - ETA: 1:09 - loss: 0.3892 - acc: 0.8634"
          ],
          "name": "stdout"
        },
        {
          "output_type": "stream",
          "text": [
            "1563/1562 [==============================] - 82s 53ms/step - loss: 0.3848 - acc: 0.8644 - val_loss: 0.5005 - val_acc: 0.8507\n",
            "Epoch 169/400\n",
            "  83/1562 [>.............................] - ETA: 1:14 - loss: 0.3589 - acc: 0.8776"
          ],
          "name": "stdout"
        },
        {
          "output_type": "stream",
          "text": [
            "1563/1562 [==============================] - 82s 53ms/step - loss: 0.3811 - acc: 0.8679 - val_loss: 0.4481 - val_acc: 0.8611\n",
            "Epoch 170/400\n"
          ],
          "name": "stdout"
        },
        {
          "output_type": "stream",
          "text": [
            "1563/1562 [==============================] - 82s 53ms/step - loss: 0.3791 - acc: 0.8664 - val_loss: 0.5576 - val_acc: 0.8371\n",
            "Epoch 171/400\n",
            "  17/1562 [..............................] - ETA: 1:18 - loss: 0.3551 - acc: 0.8768"
          ],
          "name": "stdout"
        },
        {
          "output_type": "stream",
          "text": [
            "1563/1562 [==============================] - 82s 53ms/step - loss: 0.3798 - acc: 0.8661 - val_loss: 0.4504 - val_acc: 0.8616\n",
            "Epoch 172/400\n",
            "   9/1562 [..............................] - ETA: 1:15 - loss: 0.3546 - acc: 0.8785"
          ],
          "name": "stdout"
        },
        {
          "output_type": "stream",
          "text": [
            "1563/1562 [==============================] - 82s 53ms/step - loss: 0.3758 - acc: 0.8679 - val_loss: 0.4778 - val_acc: 0.8538\n",
            "Epoch 173/400\n",
            "   9/1562 [..............................] - ETA: 1:15 - loss: 0.3982 - acc: 0.8750"
          ],
          "name": "stdout"
        },
        {
          "output_type": "stream",
          "text": [
            "1562/1562 [============================>.] - ETA: 0s - loss: 0.3735 - acc: 0.8688"
          ],
          "name": "stdout"
        },
        {
          "output_type": "stream",
          "text": [
            "1563/1562 [==============================] - 82s 53ms/step - loss: 0.3734 - acc: 0.8688 - val_loss: 0.5006 - val_acc: 0.8479\n",
            "Epoch 174/400\n",
            " 566/1562 [=========>....................] - ETA: 50s - loss: 0.3684 - acc: 0.8699"
          ],
          "name": "stdout"
        },
        {
          "output_type": "stream",
          "text": [
            "1563/1562 [==============================] - 82s 53ms/step - loss: 0.3683 - acc: 0.8708 - val_loss: 0.4941 - val_acc: 0.8568\n",
            "Epoch 175/400\n",
            " 193/1562 [==>...........................] - ETA: 1:09 - loss: 0.3744 - acc: 0.8700"
          ],
          "name": "stdout"
        },
        {
          "output_type": "stream",
          "text": [
            "1563/1562 [==============================] - 82s 52ms/step - loss: 0.3680 - acc: 0.8718 - val_loss: 0.4962 - val_acc: 0.8527\n",
            "Epoch 176/400\n",
            "  88/1562 [>.............................] - ETA: 1:14 - loss: 0.3742 - acc: 0.8675"
          ],
          "name": "stdout"
        },
        {
          "output_type": "stream",
          "text": [
            "1563/1562 [==============================] - 82s 53ms/step - loss: 0.3693 - acc: 0.8701 - val_loss: 0.5282 - val_acc: 0.8426\n",
            "Epoch 177/400\n",
            "  35/1562 [..............................] - ETA: 1:15 - loss: 0.3817 - acc: 0.8714"
          ],
          "name": "stdout"
        },
        {
          "output_type": "stream",
          "text": [
            "1563/1562 [==============================] - 82s 53ms/step - loss: 0.3676 - acc: 0.8714 - val_loss: 0.5132 - val_acc: 0.8479\n",
            "Epoch 178/400\n",
            "   8/1562 [..............................] - ETA: 1:15 - loss: 0.3721 - acc: 0.9023"
          ],
          "name": "stdout"
        },
        {
          "output_type": "stream",
          "text": [
            "1563/1562 [==============================] - 82s 53ms/step - loss: 0.3688 - acc: 0.8725 - val_loss: 0.4484 - val_acc: 0.8620\n",
            "Epoch 179/400\n",
            "   6/1562 [..............................] - ETA: 1:17 - loss: 0.4611 - acc: 0.8646"
          ],
          "name": "stdout"
        },
        {
          "output_type": "stream",
          "text": [
            "1563/1562 [==============================] - 82s 53ms/step - loss: 0.3652 - acc: 0.8730 - val_loss: 0.4577 - val_acc: 0.8589\n",
            "Epoch 180/400\n",
            "   7/1562 [..............................] - ETA: 1:20 - loss: 0.3572 - acc: 0.8929"
          ],
          "name": "stdout"
        },
        {
          "output_type": "stream",
          "text": [
            "1562/1562 [============================>.] - ETA: 0s - loss: 0.3623 - acc: 0.8738"
          ],
          "name": "stdout"
        },
        {
          "output_type": "stream",
          "text": [
            "1563/1562 [==============================] - 82s 53ms/step - loss: 0.3623 - acc: 0.8738 - val_loss: 0.5101 - val_acc: 0.8488\n",
            "Epoch 181/400\n",
            " 581/1562 [==========>...................] - ETA: 49s - loss: 0.3733 - acc: 0.8677"
          ],
          "name": "stdout"
        },
        {
          "output_type": "stream",
          "text": [
            "1563/1562 [==============================] - 82s 53ms/step - loss: 0.3656 - acc: 0.8723 - val_loss: 0.5229 - val_acc: 0.8465\n",
            "Epoch 182/400\n",
            " 219/1562 [===>..........................] - ETA: 1:08 - loss: 0.3583 - acc: 0.8747"
          ],
          "name": "stdout"
        },
        {
          "output_type": "stream",
          "text": [
            "1563/1562 [==============================] - 82s 53ms/step - loss: 0.3614 - acc: 0.8727 - val_loss: 0.4277 - val_acc: 0.8667\n",
            "Epoch 183/400\n",
            "  91/1562 [>.............................] - ETA: 1:14 - loss: 0.3506 - acc: 0.8805"
          ],
          "name": "stdout"
        },
        {
          "output_type": "stream",
          "text": [
            "1563/1562 [==============================] - 82s 53ms/step - loss: 0.3581 - acc: 0.8748 - val_loss: 0.4603 - val_acc: 0.8643\n",
            "Epoch 184/400\n",
            "  24/1562 [..............................] - ETA: 1:18 - loss: 0.3517 - acc: 0.8698"
          ],
          "name": "stdout"
        },
        {
          "output_type": "stream",
          "text": [
            "1563/1562 [==============================] - 82s 52ms/step - loss: 0.3544 - acc: 0.8747 - val_loss: 0.4617 - val_acc: 0.8622\n",
            "Epoch 185/400\n",
            "  27/1562 [..............................] - ETA: 1:16 - loss: 0.3697 - acc: 0.8657"
          ],
          "name": "stdout"
        },
        {
          "output_type": "stream",
          "text": [
            "1563/1562 [==============================] - 82s 52ms/step - loss: 0.3603 - acc: 0.8743 - val_loss: 0.4886 - val_acc: 0.8536\n",
            "Epoch 186/400\n",
            "  17/1562 [..............................] - ETA: 1:17 - loss: 0.3072 - acc: 0.9007"
          ],
          "name": "stdout"
        },
        {
          "output_type": "stream",
          "text": [
            "1563/1562 [==============================] - 82s 53ms/step - loss: 0.3630 - acc: 0.8731 - val_loss: 0.4951 - val_acc: 0.8479\n",
            "Epoch 187/400\n",
            "   7/1562 [..............................] - ETA: 1:21 - loss: 0.3632 - acc: 0.8750"
          ],
          "name": "stdout"
        },
        {
          "output_type": "stream",
          "text": [
            "1563/1562 [==============================] - 82s 53ms/step - loss: 0.3538 - acc: 0.8764 - val_loss: 0.4327 - val_acc: 0.8651\n",
            "Epoch 188/400\n",
            "   7/1562 [..............................] - ETA: 1:20 - loss: 0.3109 - acc: 0.8929"
          ],
          "name": "stdout"
        },
        {
          "output_type": "stream",
          "text": [
            "1561/1562 [============================>.] - ETA: 0s - loss: 0.3539 - acc: 0.8783"
          ],
          "name": "stdout"
        },
        {
          "output_type": "stream",
          "text": [
            "1563/1562 [==============================] - 82s 53ms/step - loss: 0.3538 - acc: 0.8783 - val_loss: 0.4633 - val_acc: 0.8628\n",
            "Epoch 189/400\n",
            " 579/1562 [==========>...................] - ETA: 49s - loss: 0.3523 - acc: 0.8761"
          ],
          "name": "stdout"
        },
        {
          "output_type": "stream",
          "text": [
            "1563/1562 [==============================] - 82s 53ms/step - loss: 0.3527 - acc: 0.8753 - val_loss: 0.4787 - val_acc: 0.8551\n",
            "Epoch 190/400\n",
            " 214/1562 [===>..........................] - ETA: 1:07 - loss: 0.3650 - acc: 0.8743"
          ],
          "name": "stdout"
        },
        {
          "output_type": "stream",
          "text": [
            "1563/1562 [==============================] - 82s 53ms/step - loss: 0.3564 - acc: 0.8751 - val_loss: 0.5012 - val_acc: 0.8517\n",
            "Epoch 191/400\n",
            "  83/1562 [>.............................] - ETA: 1:13 - loss: 0.3459 - acc: 0.8742"
          ],
          "name": "stdout"
        },
        {
          "output_type": "stream",
          "text": [
            "1563/1562 [==============================] - 82s 53ms/step - loss: 0.3526 - acc: 0.8763 - val_loss: 0.4785 - val_acc: 0.8570\n",
            "Epoch 192/400\n",
            "  27/1562 [..............................] - ETA: 1:18 - loss: 0.3046 - acc: 0.8970"
          ],
          "name": "stdout"
        },
        {
          "output_type": "stream",
          "text": [
            "1563/1562 [==============================] - 82s 53ms/step - loss: 0.3428 - acc: 0.8802 - val_loss: 0.4727 - val_acc: 0.8556\n",
            "Epoch 193/400\n",
            "  11/1562 [..............................] - ETA: 1:19 - loss: 0.3746 - acc: 0.8665"
          ],
          "name": "stdout"
        },
        {
          "output_type": "stream",
          "text": [
            "1562/1562 [============================>.] - ETA: 0s - loss: 0.3480 - acc: 0.8799"
          ],
          "name": "stdout"
        },
        {
          "output_type": "stream",
          "text": [
            "1563/1562 [==============================] - 83s 53ms/step - loss: 0.3479 - acc: 0.8799 - val_loss: 0.4629 - val_acc: 0.8591\n",
            "Epoch 194/400\n",
            " 573/1562 [==========>...................] - ETA: 49s - loss: 0.3532 - acc: 0.8762"
          ],
          "name": "stdout"
        },
        {
          "output_type": "stream",
          "text": [
            "1563/1562 [==============================] - 82s 53ms/step - loss: 0.3543 - acc: 0.8765 - val_loss: 0.4246 - val_acc: 0.8679\n",
            "Epoch 195/400\n",
            " 211/1562 [===>..........................] - ETA: 1:08 - loss: 0.3395 - acc: 0.8806"
          ],
          "name": "stdout"
        },
        {
          "output_type": "stream",
          "text": [
            "1563/1562 [==============================] - 82s 53ms/step - loss: 0.3465 - acc: 0.8768 - val_loss: 0.4978 - val_acc: 0.8540\n",
            "Epoch 196/400\n",
            "  87/1562 [>.............................] - ETA: 1:13 - loss: 0.3219 - acc: 0.8904"
          ],
          "name": "stdout"
        },
        {
          "output_type": "stream",
          "text": [
            "1563/1562 [==============================] - 82s 53ms/step - loss: 0.3428 - acc: 0.8792 - val_loss: 0.4425 - val_acc: 0.8666\n",
            "Epoch 197/400\n",
            "  26/1562 [..............................] - ETA: 1:17 - loss: 0.3185 - acc: 0.8846"
          ],
          "name": "stdout"
        },
        {
          "output_type": "stream",
          "text": [
            "1563/1562 [==============================] - 83s 53ms/step - loss: 0.3451 - acc: 0.8790 - val_loss: 0.4951 - val_acc: 0.8589\n",
            "Epoch 198/400\n",
            "   3/1562 [..............................] - ETA: 1:16 - loss: 0.3692 - acc: 0.8854"
          ],
          "name": "stdout"
        },
        {
          "output_type": "stream",
          "text": [
            "1563/1562 [==============================] - 82s 53ms/step - loss: 0.3407 - acc: 0.8810 - val_loss: 0.4784 - val_acc: 0.8566\n",
            "Epoch 199/400\n",
            "   8/1562 [..............................] - ETA: 1:16 - loss: 0.3349 - acc: 0.8672"
          ],
          "name": "stdout"
        },
        {
          "output_type": "stream",
          "text": [
            "1562/1562 [============================>.] - ETA: 0s - loss: 0.3419 - acc: 0.8811"
          ],
          "name": "stdout"
        },
        {
          "output_type": "stream",
          "text": [
            "1563/1562 [==============================] - 83s 53ms/step - loss: 0.3420 - acc: 0.8811 - val_loss: 0.4398 - val_acc: 0.8707\n",
            "Epoch 200/400\n",
            " 560/1562 [=========>....................] - ETA: 50s - loss: 0.3377 - acc: 0.8819"
          ],
          "name": "stdout"
        },
        {
          "output_type": "stream",
          "text": [
            "1563/1562 [==============================] - 83s 53ms/step - loss: 0.3400 - acc: 0.8801 - val_loss: 0.4308 - val_acc: 0.8679\n",
            "Epoch 201/400\n",
            " 203/1562 [==>...........................] - ETA: 1:08 - loss: 0.3433 - acc: 0.8761"
          ],
          "name": "stdout"
        },
        {
          "output_type": "stream",
          "text": [
            "1563/1562 [==============================] - 82s 53ms/step - loss: 0.3401 - acc: 0.8799 - val_loss: 0.4701 - val_acc: 0.8636\n",
            "Epoch 202/400\n",
            "  93/1562 [>.............................] - ETA: 1:13 - loss: 0.3403 - acc: 0.8868"
          ],
          "name": "stdout"
        },
        {
          "output_type": "stream",
          "text": [
            "1563/1562 [==============================] - 82s 53ms/step - loss: 0.3397 - acc: 0.8821 - val_loss: 0.5013 - val_acc: 0.8528\n",
            "Epoch 203/400\n",
            "  34/1562 [..............................] - ETA: 1:16 - loss: 0.3257 - acc: 0.8897"
          ],
          "name": "stdout"
        },
        {
          "output_type": "stream",
          "text": [
            "1563/1562 [==============================] - 82s 53ms/step - loss: 0.3407 - acc: 0.8814 - val_loss: 0.4700 - val_acc: 0.8632\n",
            "Epoch 204/400\n",
            "   7/1562 [..............................] - ETA: 1:17 - loss: 0.3180 - acc: 0.8884"
          ],
          "name": "stdout"
        },
        {
          "output_type": "stream",
          "text": [
            "1563/1562 [==============================] - 82s 53ms/step - loss: 0.3312 - acc: 0.8831 - val_loss: 0.4586 - val_acc: 0.8595\n",
            "Epoch 205/400\n",
            "   1/1562 [..............................] - ETA: 1:17 - loss: 0.1869 - acc: 0.9375"
          ],
          "name": "stdout"
        },
        {
          "output_type": "stream",
          "text": [
            "1562/1562 [============================>.] - ETA: 0s - loss: 0.3378 - acc: 0.8821"
          ],
          "name": "stdout"
        },
        {
          "output_type": "stream",
          "text": [
            "1563/1562 [==============================] - 82s 52ms/step - loss: 0.3378 - acc: 0.8821 - val_loss: 0.4867 - val_acc: 0.8571\n",
            "Epoch 206/400\n",
            " 600/1562 [==========>...................] - ETA: 48s - loss: 0.3265 - acc: 0.8864"
          ],
          "name": "stdout"
        },
        {
          "output_type": "stream",
          "text": [
            "1563/1562 [==============================] - 82s 52ms/step - loss: 0.3327 - acc: 0.8842 - val_loss: 0.4703 - val_acc: 0.8609\n",
            "Epoch 207/400\n",
            " 231/1562 [===>..........................] - ETA: 1:06 - loss: 0.3264 - acc: 0.8853"
          ],
          "name": "stdout"
        },
        {
          "output_type": "stream",
          "text": [
            "1563/1562 [==============================] - 82s 52ms/step - loss: 0.3341 - acc: 0.8823 - val_loss: 0.5268 - val_acc: 0.8501\n",
            "Epoch 208/400\n",
            "  89/1562 [>.............................] - ETA: 1:13 - loss: 0.3245 - acc: 0.8883"
          ],
          "name": "stdout"
        },
        {
          "output_type": "stream",
          "text": [
            "1563/1562 [==============================] - 82s 53ms/step - loss: 0.3302 - acc: 0.8842 - val_loss: 0.4632 - val_acc: 0.8661\n",
            "Epoch 209/400\n",
            "  37/1562 [..............................] - ETA: 1:16 - loss: 0.3397 - acc: 0.8851"
          ],
          "name": "stdout"
        },
        {
          "output_type": "stream",
          "text": [
            "1563/1562 [==============================] - 83s 53ms/step - loss: 0.3276 - acc: 0.8842 - val_loss: 0.4524 - val_acc: 0.8664\n",
            "Epoch 210/400\n",
            "   3/1562 [..............................] - ETA: 1:25 - loss: 0.4939 - acc: 0.8646"
          ],
          "name": "stdout"
        },
        {
          "output_type": "stream",
          "text": [
            "1561/1562 [============================>.] - ETA: 0s - loss: 0.3278 - acc: 0.8856"
          ],
          "name": "stdout"
        },
        {
          "output_type": "stream",
          "text": [
            "1563/1562 [==============================] - 82s 53ms/step - loss: 0.3281 - acc: 0.8855 - val_loss: 0.4372 - val_acc: 0.8704\n",
            "Epoch 211/400\n",
            " 577/1562 [==========>...................] - ETA: 49s - loss: 0.3258 - acc: 0.8839"
          ],
          "name": "stdout"
        },
        {
          "output_type": "stream",
          "text": [
            "1563/1562 [==============================] - 82s 53ms/step - loss: 0.3306 - acc: 0.8832 - val_loss: 0.4540 - val_acc: 0.8646\n",
            "Epoch 212/400\n",
            " 240/1562 [===>..........................] - ETA: 1:05 - loss: 0.3234 - acc: 0.8859"
          ],
          "name": "stdout"
        },
        {
          "output_type": "stream",
          "text": [
            "1563/1562 [==============================] - 82s 53ms/step - loss: 0.3277 - acc: 0.8845 - val_loss: 0.4656 - val_acc: 0.8649\n",
            "Epoch 213/400\n",
            "  92/1562 [>.............................] - ETA: 1:13 - loss: 0.2851 - acc: 0.9025"
          ],
          "name": "stdout"
        },
        {
          "output_type": "stream",
          "text": [
            "1563/1562 [==============================] - 82s 52ms/step - loss: 0.3277 - acc: 0.8850 - val_loss: 0.4290 - val_acc: 0.8721\n",
            "Epoch 214/400\n",
            "  52/1562 [..............................] - ETA: 1:17 - loss: 0.3345 - acc: 0.8828"
          ],
          "name": "stdout"
        },
        {
          "output_type": "stream",
          "text": [
            "1563/1562 [==============================] - 82s 53ms/step - loss: 0.3236 - acc: 0.8854 - val_loss: 0.4612 - val_acc: 0.8639\n",
            "Epoch 215/400\n",
            "  14/1562 [..............................] - ETA: 1:18 - loss: 0.3433 - acc: 0.8884"
          ],
          "name": "stdout"
        },
        {
          "output_type": "stream",
          "text": [
            "1562/1562 [============================>.] - ETA: 0s - loss: 0.3247 - acc: 0.8864"
          ],
          "name": "stdout"
        },
        {
          "output_type": "stream",
          "text": [
            "1563/1562 [==============================] - 82s 53ms/step - loss: 0.3246 - acc: 0.8865 - val_loss: 0.4679 - val_acc: 0.8656\n",
            "Epoch 216/400\n",
            " 578/1562 [==========>...................] - ETA: 49s - loss: 0.3304 - acc: 0.8845"
          ],
          "name": "stdout"
        },
        {
          "output_type": "stream",
          "text": [
            "1563/1562 [==============================] - 82s 53ms/step - loss: 0.3250 - acc: 0.8859 - val_loss: 0.4573 - val_acc: 0.8664\n",
            "Epoch 217/400\n",
            " 214/1562 [===>..........................] - ETA: 1:08 - loss: 0.3126 - acc: 0.8887"
          ],
          "name": "stdout"
        },
        {
          "output_type": "stream",
          "text": [
            "1563/1562 [==============================] - 83s 53ms/step - loss: 0.3167 - acc: 0.8888 - val_loss: 0.4570 - val_acc: 0.8663\n",
            "Epoch 218/400\n",
            "  70/1562 [>.............................] - ETA: 1:15 - loss: 0.3257 - acc: 0.8853"
          ],
          "name": "stdout"
        },
        {
          "output_type": "stream",
          "text": [
            "1563/1562 [==============================] - 82s 53ms/step - loss: 0.3171 - acc: 0.8881 - val_loss: 0.4800 - val_acc: 0.8639\n",
            "Epoch 219/400\n",
            "  32/1562 [..............................] - ETA: 1:16 - loss: 0.3052 - acc: 0.9014"
          ],
          "name": "stdout"
        },
        {
          "output_type": "stream",
          "text": [
            "1563/1562 [==============================] - 82s 53ms/step - loss: 0.3226 - acc: 0.8888 - val_loss: 0.4512 - val_acc: 0.8634\n",
            "Epoch 220/400\n",
            "  19/1562 [..............................] - ETA: 1:19 - loss: 0.2663 - acc: 0.9128"
          ],
          "name": "stdout"
        },
        {
          "output_type": "stream",
          "text": [
            "1562/1562 [============================>.] - ETA: 0s - loss: 0.3210 - acc: 0.8886"
          ],
          "name": "stdout"
        },
        {
          "output_type": "stream",
          "text": [
            "1563/1562 [==============================] - 82s 53ms/step - loss: 0.3211 - acc: 0.8886 - val_loss: 0.4742 - val_acc: 0.8611\n",
            "Epoch 221/400\n",
            " 562/1562 [=========>....................] - ETA: 50s - loss: 0.3199 - acc: 0.8878"
          ],
          "name": "stdout"
        },
        {
          "output_type": "stream",
          "text": [
            "1563/1562 [==============================] - 82s 53ms/step - loss: 0.3203 - acc: 0.8869 - val_loss: 0.4325 - val_acc: 0.8659\n",
            "Epoch 222/400\n",
            " 205/1562 [==>...........................] - ETA: 1:08 - loss: 0.3230 - acc: 0.8861"
          ],
          "name": "stdout"
        },
        {
          "output_type": "stream",
          "text": [
            "1563/1562 [==============================] - 82s 53ms/step - loss: 0.3171 - acc: 0.8871 - val_loss: 0.5305 - val_acc: 0.8558\n",
            "Epoch 223/400\n",
            "  84/1562 [>.............................] - ETA: 1:15 - loss: 0.3144 - acc: 0.8932"
          ],
          "name": "stdout"
        },
        {
          "output_type": "stream",
          "text": [
            "1563/1562 [==============================] - 82s 53ms/step - loss: 0.3170 - acc: 0.8886 - val_loss: 0.4490 - val_acc: 0.8677\n",
            "Epoch 224/400\n",
            "  41/1562 [..............................] - ETA: 1:16 - loss: 0.3106 - acc: 0.8857"
          ],
          "name": "stdout"
        },
        {
          "output_type": "stream",
          "text": [
            "1563/1562 [==============================] - 82s 53ms/step - loss: 0.3148 - acc: 0.8886 - val_loss: 0.4535 - val_acc: 0.8670\n",
            "Epoch 225/400\n",
            "  15/1562 [..............................] - ETA: 1:18 - loss: 0.2986 - acc: 0.8938"
          ],
          "name": "stdout"
        },
        {
          "output_type": "stream",
          "text": [
            "1563/1562 [==============================] - 82s 53ms/step - loss: 0.3138 - acc: 0.8898 - val_loss: 0.4279 - val_acc: 0.8734\n",
            "Epoch 226/400\n",
            "   8/1562 [..............................] - ETA: 1:18 - loss: 0.2697 - acc: 0.8984"
          ],
          "name": "stdout"
        },
        {
          "output_type": "stream",
          "text": [
            "1563/1562 [==============================] - 82s 52ms/step - loss: 0.3184 - acc: 0.8880 - val_loss: 0.4690 - val_acc: 0.8639\n",
            "Epoch 227/400\n",
            "  12/1562 [..............................] - ETA: 1:17 - loss: 0.3039 - acc: 0.8880"
          ],
          "name": "stdout"
        },
        {
          "output_type": "stream",
          "text": [
            "1561/1562 [============================>.] - ETA: 0s - loss: 0.3118 - acc: 0.8912"
          ],
          "name": "stdout"
        },
        {
          "output_type": "stream",
          "text": [
            "1563/1562 [==============================] - 82s 53ms/step - loss: 0.3116 - acc: 0.8913 - val_loss: 0.5163 - val_acc: 0.8613\n",
            "Epoch 228/400\n",
            " 584/1562 [==========>...................] - ETA: 49s - loss: 0.3077 - acc: 0.8923"
          ],
          "name": "stdout"
        },
        {
          "output_type": "stream",
          "text": [
            "1563/1562 [==============================] - 82s 53ms/step - loss: 0.3100 - acc: 0.8910 - val_loss: 0.4405 - val_acc: 0.8705\n",
            "Epoch 229/400\n",
            " 191/1562 [==>...........................] - ETA: 1:09 - loss: 0.3122 - acc: 0.8909"
          ],
          "name": "stdout"
        },
        {
          "output_type": "stream",
          "text": [
            "1563/1562 [==============================] - 82s 53ms/step - loss: 0.3138 - acc: 0.8913 - val_loss: 0.4457 - val_acc: 0.8677\n",
            "Epoch 230/400\n",
            "  72/1562 [>.............................] - ETA: 1:14 - loss: 0.2865 - acc: 0.9028"
          ],
          "name": "stdout"
        },
        {
          "output_type": "stream",
          "text": [
            "1563/1562 [==============================] - 83s 53ms/step - loss: 0.3126 - acc: 0.8888 - val_loss: 0.4556 - val_acc: 0.8640\n",
            "Epoch 231/400\n",
            "  23/1562 [..............................] - ETA: 1:17 - loss: 0.3139 - acc: 0.8791"
          ],
          "name": "stdout"
        },
        {
          "output_type": "stream",
          "text": [
            "1562/1562 [============================>.] - ETA: 0s - loss: 0.3111 - acc: 0.8906"
          ],
          "name": "stdout"
        },
        {
          "output_type": "stream",
          "text": [
            "1563/1562 [==============================] - 82s 53ms/step - loss: 0.3110 - acc: 0.8907 - val_loss: 0.5213 - val_acc: 0.8579\n",
            "Epoch 232/400\n",
            " 589/1562 [==========>...................] - ETA: 48s - loss: 0.3093 - acc: 0.8903"
          ],
          "name": "stdout"
        },
        {
          "output_type": "stream",
          "text": [
            "1563/1562 [==============================] - 82s 52ms/step - loss: 0.3072 - acc: 0.8913 - val_loss: 0.4462 - val_acc: 0.8692\n",
            "Epoch 233/400\n",
            " 245/1562 [===>..........................] - ETA: 1:05 - loss: 0.3118 - acc: 0.8872"
          ],
          "name": "stdout"
        },
        {
          "output_type": "stream",
          "text": [
            "1563/1562 [==============================] - 82s 52ms/step - loss: 0.3070 - acc: 0.8918 - val_loss: 0.4855 - val_acc: 0.8611\n",
            "Epoch 234/400\n",
            " 113/1562 [=>............................] - ETA: 1:12 - loss: 0.2872 - acc: 0.9049"
          ],
          "name": "stdout"
        },
        {
          "output_type": "stream",
          "text": [
            "1563/1562 [==============================] - 82s 53ms/step - loss: 0.3017 - acc: 0.8952 - val_loss: 0.4574 - val_acc: 0.8695\n",
            "Epoch 235/400\n",
            "  42/1562 [..............................] - ETA: 1:15 - loss: 0.3144 - acc: 0.8891"
          ],
          "name": "stdout"
        },
        {
          "output_type": "stream",
          "text": [
            "1563/1562 [==============================] - 82s 52ms/step - loss: 0.3098 - acc: 0.8916 - val_loss: 0.4268 - val_acc: 0.8723\n",
            "Epoch 236/400\n",
            "  29/1562 [..............................] - ETA: 1:16 - loss: 0.2662 - acc: 0.8998"
          ],
          "name": "stdout"
        },
        {
          "output_type": "stream",
          "text": [
            "1561/1562 [============================>.] - ETA: 0s - loss: 0.3050 - acc: 0.8927"
          ],
          "name": "stdout"
        },
        {
          "output_type": "stream",
          "text": [
            "1563/1562 [==============================] - 82s 53ms/step - loss: 0.3049 - acc: 0.8927 - val_loss: 0.4419 - val_acc: 0.8685\n",
            "Epoch 237/400\n",
            " 557/1562 [=========>....................] - ETA: 50s - loss: 0.2959 - acc: 0.8989"
          ],
          "name": "stdout"
        },
        {
          "output_type": "stream",
          "text": [
            "1563/1562 [==============================] - 82s 53ms/step - loss: 0.3026 - acc: 0.8945 - val_loss: 0.4915 - val_acc: 0.8650\n",
            "Epoch 238/400\n",
            " 221/1562 [===>..........................] - ETA: 1:07 - loss: 0.2951 - acc: 0.8937"
          ],
          "name": "stdout"
        },
        {
          "output_type": "stream",
          "text": [
            "1563/1562 [==============================] - 82s 53ms/step - loss: 0.3081 - acc: 0.8907 - val_loss: 0.5259 - val_acc: 0.8555\n",
            "Epoch 239/400\n",
            "  77/1562 [>.............................] - ETA: 1:15 - loss: 0.3136 - acc: 0.8884"
          ],
          "name": "stdout"
        },
        {
          "output_type": "stream",
          "text": [
            "1563/1562 [==============================] - 82s 53ms/step - loss: 0.3050 - acc: 0.8923 - val_loss: 0.4694 - val_acc: 0.8665\n",
            "Epoch 240/400\n",
            "  35/1562 [..............................] - ETA: 1:17 - loss: 0.2620 - acc: 0.9018"
          ],
          "name": "stdout"
        },
        {
          "output_type": "stream",
          "text": [
            "1563/1562 [==============================] - 82s 53ms/step - loss: 0.3006 - acc: 0.8952 - val_loss: 0.5432 - val_acc: 0.8546\n",
            "Epoch 241/400\n",
            "  12/1562 [..............................] - ETA: 1:17 - loss: 0.3082 - acc: 0.8906"
          ],
          "name": "stdout"
        },
        {
          "output_type": "stream",
          "text": [
            "1563/1562 [==============================] - 81s 52ms/step - loss: 0.3047 - acc: 0.8923 - val_loss: 0.4772 - val_acc: 0.8626\n",
            "Epoch 242/400\n",
            "  51/1562 [..............................] - ETA: 1:15 - loss: 0.3152 - acc: 0.8873"
          ],
          "name": "stdout"
        },
        {
          "output_type": "stream",
          "text": [
            "1563/1562 [==============================] - 82s 52ms/step - loss: 0.3051 - acc: 0.8916 - val_loss: 0.4747 - val_acc: 0.8649\n",
            "Epoch 243/400\n",
            "  20/1562 [..............................] - ETA: 1:16 - loss: 0.2871 - acc: 0.9031"
          ],
          "name": "stdout"
        },
        {
          "output_type": "stream",
          "text": [
            "1563/1562 [==============================] - 82s 53ms/step - loss: 0.2981 - acc: 0.8952 - val_loss: 0.4413 - val_acc: 0.8702\n",
            "Epoch 244/400\n",
            "   4/1562 [..............................] - ETA: 1:19 - loss: 0.2844 - acc: 0.9062"
          ],
          "name": "stdout"
        },
        {
          "output_type": "stream",
          "text": [
            "1539/1562 [============================>.] - ETA: 1s - loss: 0.2999 - acc: 0.8946"
          ],
          "name": "stdout"
        },
        {
          "output_type": "stream",
          "text": [
            "1563/1562 [==============================] - 83s 53ms/step - loss: 0.2999 - acc: 0.8946 - val_loss: 0.5025 - val_acc: 0.8580\n",
            "Epoch 245/400\n",
            " 570/1562 [=========>....................] - ETA: 49s - loss: 0.2938 - acc: 0.8968"
          ],
          "name": "stdout"
        },
        {
          "output_type": "stream",
          "text": [
            "1563/1562 [==============================] - 83s 53ms/step - loss: 0.2976 - acc: 0.8961 - val_loss: 0.5402 - val_acc: 0.8530\n",
            "Epoch 246/400\n",
            " 206/1562 [==>...........................] - ETA: 1:08 - loss: 0.3039 - acc: 0.8923"
          ],
          "name": "stdout"
        },
        {
          "output_type": "stream",
          "text": [
            "1563/1562 [==============================] - 82s 53ms/step - loss: 0.2927 - acc: 0.8971 - val_loss: 0.4485 - val_acc: 0.8735\n",
            "Epoch 247/400\n",
            "  86/1562 [>.............................] - ETA: 1:13 - loss: 0.3334 - acc: 0.8841"
          ],
          "name": "stdout"
        },
        {
          "output_type": "stream",
          "text": [
            "1563/1562 [==============================] - 83s 53ms/step - loss: 0.2982 - acc: 0.8947 - val_loss: 0.5110 - val_acc: 0.8602\n",
            "Epoch 248/400\n",
            "   2/1562 [..............................] - ETA: 1:22 - loss: 0.4156 - acc: 0.8125"
          ],
          "name": "stdout"
        },
        {
          "output_type": "stream",
          "text": [
            "1562/1562 [============================>.] - ETA: 0s - loss: 0.2947 - acc: 0.8974"
          ],
          "name": "stdout"
        },
        {
          "output_type": "stream",
          "text": [
            "1563/1562 [==============================] - 82s 53ms/step - loss: 0.2946 - acc: 0.8974 - val_loss: 0.4921 - val_acc: 0.8649\n",
            "Epoch 249/400\n",
            " 558/1562 [=========>....................] - ETA: 50s - loss: 0.2948 - acc: 0.8966"
          ],
          "name": "stdout"
        },
        {
          "output_type": "stream",
          "text": [
            "1563/1562 [==============================] - 83s 53ms/step - loss: 0.2957 - acc: 0.8956 - val_loss: 0.4846 - val_acc: 0.8635\n",
            "Epoch 250/400\n",
            " 194/1562 [==>...........................] - ETA: 1:09 - loss: 0.2972 - acc: 0.8967"
          ],
          "name": "stdout"
        },
        {
          "output_type": "stream",
          "text": [
            "1563/1562 [==============================] - 83s 53ms/step - loss: 0.2926 - acc: 0.8960 - val_loss: 0.4731 - val_acc: 0.8666\n",
            "Epoch 251/400\n",
            "  64/1562 [>.............................] - ETA: 1:15 - loss: 0.2920 - acc: 0.8960"
          ],
          "name": "stdout"
        },
        {
          "output_type": "stream",
          "text": [
            "1563/1562 [==============================] - 83s 53ms/step - loss: 0.2927 - acc: 0.8969 - val_loss: 0.5079 - val_acc: 0.8605\n",
            "Epoch 252/400\n",
            "   6/1562 [..............................] - ETA: 1:18 - loss: 0.2167 - acc: 0.9167\b\b\b\b\b\b\b\b\b\b\b\b\b\b\b\b\b\b\b\b\b\b\b\b\b\b\b\b\b\b\b\b\b\b\b\b\b\b\b\b\b\b\b\b\b\b\b\b\b\b\b\b\b\b\b\b\b\b\b\b\b\b\b\b\b\b\b\b\b\b\b\b\b\b\b\b\b\b\b\b\b\b\b"
          ],
          "name": "stdout"
        },
        {
          "output_type": "stream",
          "text": [
            "1498/1562 [===========================>..] - ETA: 3s - loss: 0.2944 - acc: 0.8971"
          ],
          "name": "stdout"
        },
        {
          "output_type": "stream",
          "text": [
            "1563/1562 [==============================] - 83s 53ms/step - loss: 0.2950 - acc: 0.8970 - val_loss: 0.4864 - val_acc: 0.8626\n",
            "Epoch 253/400\n",
            " 555/1562 [=========>....................] - ETA: 50s - loss: 0.2903 - acc: 0.8965"
          ],
          "name": "stdout"
        },
        {
          "output_type": "stream",
          "text": [
            "1563/1562 [==============================] - 83s 53ms/step - loss: 0.2872 - acc: 0.8981 - val_loss: 0.5009 - val_acc: 0.8627\n",
            "Epoch 254/400\n",
            " 194/1562 [==>...........................] - ETA: 1:09 - loss: 0.2797 - acc: 0.9006"
          ],
          "name": "stdout"
        },
        {
          "output_type": "stream",
          "text": [
            "1563/1562 [==============================] - 83s 53ms/step - loss: 0.2889 - acc: 0.8983 - val_loss: 0.5114 - val_acc: 0.8595\n",
            "Epoch 255/400\n",
            "  61/1562 [>.............................] - ETA: 1:16 - loss: 0.2848 - acc: 0.8960"
          ],
          "name": "stdout"
        },
        {
          "output_type": "stream",
          "text": [
            "1562/1562 [============================>.] - ETA: 0s - loss: 0.2895 - acc: 0.8984"
          ],
          "name": "stdout"
        },
        {
          "output_type": "stream",
          "text": [
            "1563/1562 [==============================] - 83s 53ms/step - loss: 0.2894 - acc: 0.8984 - val_loss: 0.4757 - val_acc: 0.8654\n",
            "Epoch 256/400\n",
            " 574/1562 [==========>...................] - ETA: 49s - loss: 0.2842 - acc: 0.8995"
          ],
          "name": "stdout"
        },
        {
          "output_type": "stream",
          "text": [
            "1563/1562 [==============================] - 83s 53ms/step - loss: 0.2898 - acc: 0.8985 - val_loss: 0.4395 - val_acc: 0.8722\n",
            "Epoch 257/400\n",
            " 203/1562 [==>...........................] - ETA: 1:09 - loss: 0.2805 - acc: 0.9019\b\b\b\b\b\b\b\b\b\b\b\b\b\b\b\b\b\b\b\b\b\b\b\b\b\b\b\b\b\b\b\b\b\b\b\b\b\b\b\b\b\b\b\b\b\b\b\b\b\b\b\b\b\b\b\b\b\b\b\b\b\b\b\b\b\b\b\b\b\b\b\b\b\b\b\b\b\b\b\b\b\b\b"
          ],
          "name": "stdout"
        },
        {
          "output_type": "stream",
          "text": [
            "1563/1562 [==============================] - 82s 53ms/step - loss: 0.2921 - acc: 0.8974 - val_loss: 0.4838 - val_acc: 0.8627\n",
            "Epoch 258/400\n",
            "  71/1562 [>.............................] - ETA: 1:14 - loss: 0.2746 - acc: 0.8983"
          ],
          "name": "stdout"
        },
        {
          "output_type": "stream",
          "text": [
            "1563/1562 [==============================] - 83s 53ms/step - loss: 0.2875 - acc: 0.8972 - val_loss: 0.4936 - val_acc: 0.8603\n",
            "Epoch 259/400\n",
            "   4/1562 [..............................] - ETA: 1:20 - loss: 0.2413 - acc: 0.9062"
          ],
          "name": "stdout"
        },
        {
          "output_type": "stream",
          "text": [
            "1561/1562 [============================>.] - ETA: 0s - loss: 0.2906 - acc: 0.8978"
          ],
          "name": "stdout"
        },
        {
          "output_type": "stream",
          "text": [
            "1563/1562 [==============================] - 83s 53ms/step - loss: 0.2906 - acc: 0.8978 - val_loss: 0.4798 - val_acc: 0.8662\n",
            "Epoch 260/400\n",
            " 582/1562 [==========>...................] - ETA: 49s - loss: 0.2946 - acc: 0.8955"
          ],
          "name": "stdout"
        },
        {
          "output_type": "stream",
          "text": [
            "1563/1562 [==============================] - 82s 53ms/step - loss: 0.2872 - acc: 0.8976 - val_loss: 0.4867 - val_acc: 0.8655\n",
            "Epoch 261/400\n",
            " 204/1562 [==>...........................] - ETA: 1:09 - loss: 0.2871 - acc: 0.8975"
          ],
          "name": "stdout"
        },
        {
          "output_type": "stream",
          "text": [
            "1563/1562 [==============================] - 82s 53ms/step - loss: 0.2886 - acc: 0.8981 - val_loss: 0.4889 - val_acc: 0.8671\n",
            "Epoch 262/400\n",
            "  73/1562 [>.............................] - ETA: 1:15 - loss: 0.2752 - acc: 0.8951"
          ],
          "name": "stdout"
        },
        {
          "output_type": "stream",
          "text": [
            "1563/1562 [==============================] - 82s 53ms/step - loss: 0.2863 - acc: 0.9000 - val_loss: 0.4440 - val_acc: 0.8711\n",
            "Epoch 263/400\n",
            "  29/1562 [..............................] - ETA: 1:17 - loss: 0.2797 - acc: 0.8976"
          ],
          "name": "stdout"
        },
        {
          "output_type": "stream",
          "text": [
            "1563/1562 [==============================] - 82s 53ms/step - loss: 0.2890 - acc: 0.8980 - val_loss: 0.4543 - val_acc: 0.8729\n",
            "Epoch 264/400\n",
            "   7/1562 [..............................] - ETA: 1:19 - loss: 0.3103 - acc: 0.8795"
          ],
          "name": "stdout"
        },
        {
          "output_type": "stream",
          "text": [
            "1563/1562 [==============================] - 82s 53ms/step - loss: 0.2852 - acc: 0.8998 - val_loss: 0.5195 - val_acc: 0.8590\n",
            "Epoch 265/400\n",
            "  10/1562 [..............................] - ETA: 1:17 - loss: 0.2610 - acc: 0.9000"
          ],
          "name": "stdout"
        },
        {
          "output_type": "stream",
          "text": [
            "1563/1562 [==============================] - 82s 53ms/step - loss: 0.2780 - acc: 0.9021 - val_loss: 0.4831 - val_acc: 0.8651\n",
            "Epoch 266/400\n",
            "   9/1562 [..............................] - ETA: 1:23 - loss: 0.1874 - acc: 0.9375"
          ],
          "name": "stdout"
        },
        {
          "output_type": "stream",
          "text": [
            "1561/1562 [============================>.] - ETA: 0s - loss: 0.2856 - acc: 0.8986"
          ],
          "name": "stdout"
        },
        {
          "output_type": "stream",
          "text": [
            "1563/1562 [==============================] - 82s 53ms/step - loss: 0.2856 - acc: 0.8986 - val_loss: 0.5315 - val_acc: 0.8585\n",
            "Epoch 267/400\n",
            " 571/1562 [=========>....................] - ETA: 50s - loss: 0.2754 - acc: 0.9022"
          ],
          "name": "stdout"
        },
        {
          "output_type": "stream",
          "text": [
            "1563/1562 [==============================] - 82s 53ms/step - loss: 0.2825 - acc: 0.9004 - val_loss: 0.4509 - val_acc: 0.8730\n",
            "Epoch 268/400\n",
            " 238/1562 [===>..........................] - ETA: 1:06 - loss: 0.2599 - acc: 0.9094"
          ],
          "name": "stdout"
        },
        {
          "output_type": "stream",
          "text": [
            "1563/1562 [==============================] - 82s 52ms/step - loss: 0.2780 - acc: 0.9032 - val_loss: 0.4676 - val_acc: 0.8688\n",
            "Epoch 269/400\n",
            " 109/1562 [=>............................] - ETA: 1:13 - loss: 0.2531 - acc: 0.9137"
          ],
          "name": "stdout"
        },
        {
          "output_type": "stream",
          "text": [
            "1563/1562 [==============================] - 82s 52ms/step - loss: 0.2806 - acc: 0.9022 - val_loss: 0.4912 - val_acc: 0.8659\n",
            "Epoch 270/400\n",
            "  54/1562 [>.............................] - ETA: 1:15 - loss: 0.2937 - acc: 0.8958"
          ],
          "name": "stdout"
        },
        {
          "output_type": "stream",
          "text": [
            "1563/1562 [==============================] - 82s 53ms/step - loss: 0.2806 - acc: 0.9008 - val_loss: 0.5404 - val_acc: 0.8607\n",
            "Epoch 271/400\n",
            "   3/1562 [..............................] - ETA: 1:13 - loss: 0.2490 - acc: 0.8958"
          ],
          "name": "stdout"
        },
        {
          "output_type": "stream",
          "text": [
            "1563/1562 [==============================] - 82s 53ms/step - loss: 0.2813 - acc: 0.8997 - val_loss: 0.4674 - val_acc: 0.8684\n",
            "Epoch 272/400\n",
            "  17/1562 [..............................] - ETA: 1:19 - loss: 0.2909 - acc: 0.8842"
          ],
          "name": "stdout"
        },
        {
          "output_type": "stream",
          "text": [
            "1563/1562 [==============================] - 82s 53ms/step - loss: 0.2753 - acc: 0.9022 - val_loss: 0.4816 - val_acc: 0.8698\n",
            "Epoch 273/400\n",
            "  15/1562 [..............................] - ETA: 1:16 - loss: 0.2852 - acc: 0.8958"
          ],
          "name": "stdout"
        },
        {
          "output_type": "stream",
          "text": [
            "1563/1562 [==============================] - 82s 52ms/step - loss: 0.2769 - acc: 0.9013 - val_loss: 0.4885 - val_acc: 0.8685\n",
            "Epoch 274/400\n",
            "  28/1562 [..............................] - ETA: 1:16 - loss: 0.2629 - acc: 0.9107"
          ],
          "name": "stdout"
        },
        {
          "output_type": "stream",
          "text": [
            "1563/1562 [==============================] - 82s 52ms/step - loss: 0.2778 - acc: 0.9016 - val_loss: 0.4333 - val_acc: 0.8787\n",
            "Epoch 275/400\n",
            "  28/1562 [..............................] - ETA: 1:16 - loss: 0.2429 - acc: 0.9163"
          ],
          "name": "stdout"
        },
        {
          "output_type": "stream",
          "text": [
            "1563/1562 [==============================] - 82s 52ms/step - loss: 0.2798 - acc: 0.9014 - val_loss: 0.5391 - val_acc: 0.8599\n",
            "Epoch 276/400\n",
            "  23/1562 [..............................] - ETA: 1:18 - loss: 0.2510 - acc: 0.9035"
          ],
          "name": "stdout"
        },
        {
          "output_type": "stream",
          "text": [
            "1563/1562 [==============================] - 82s 52ms/step - loss: 0.2745 - acc: 0.9029 - val_loss: 0.5268 - val_acc: 0.8673\n",
            "Epoch 277/400\n",
            "  13/1562 [..............................] - ETA: 1:17 - loss: 0.2461 - acc: 0.9038"
          ],
          "name": "stdout"
        },
        {
          "output_type": "stream",
          "text": [
            "1563/1562 [==============================] - 82s 53ms/step - loss: 0.2760 - acc: 0.9017 - val_loss: 0.5027 - val_acc: 0.8644\n",
            "Epoch 278/400\n",
            "   1/1562 [..............................] - ETA: 1:27 - loss: 0.1307 - acc: 0.9375"
          ],
          "name": "stdout"
        },
        {
          "output_type": "stream",
          "text": [
            "1563/1562 [==============================] - 82s 53ms/step - loss: 0.2753 - acc: 0.9031 - val_loss: 0.4964 - val_acc: 0.8659\n",
            "Epoch 279/400\n",
            "   8/1562 [..............................] - ETA: 1:20 - loss: 0.2941 - acc: 0.8828"
          ],
          "name": "stdout"
        },
        {
          "output_type": "stream",
          "text": [
            "1534/1562 [============================>.] - ETA: 1s - loss: 0.2736 - acc: 0.9043"
          ],
          "name": "stdout"
        },
        {
          "output_type": "stream",
          "text": [
            "1563/1562 [==============================] - 83s 53ms/step - loss: 0.2738 - acc: 0.9041 - val_loss: 0.4700 - val_acc: 0.8682\n",
            "Epoch 280/400\n",
            " 559/1562 [=========>....................] - ETA: 50s - loss: 0.2660 - acc: 0.9068"
          ],
          "name": "stdout"
        },
        {
          "output_type": "stream",
          "text": [
            "1563/1562 [==============================] - 82s 53ms/step - loss: 0.2747 - acc: 0.9025 - val_loss: 0.5021 - val_acc: 0.8647\n",
            "Epoch 281/400\n",
            " 236/1562 [===>..........................] - ETA: 1:06 - loss: 0.2699 - acc: 0.9053"
          ],
          "name": "stdout"
        },
        {
          "output_type": "stream",
          "text": [
            "1563/1562 [==============================] - 82s 53ms/step - loss: 0.2747 - acc: 0.9040 - val_loss: 0.4617 - val_acc: 0.8733\n",
            "Epoch 282/400\n",
            " 101/1562 [>.............................] - ETA: 1:12 - loss: 0.2539 - acc: 0.9084"
          ],
          "name": "stdout"
        },
        {
          "output_type": "stream",
          "text": [
            "1563/1562 [==============================] - 82s 53ms/step - loss: 0.2684 - acc: 0.9053 - val_loss: 0.4675 - val_acc: 0.8709\n",
            "Epoch 283/400\n",
            "  29/1562 [..............................] - ETA: 1:19 - loss: 0.2758 - acc: 0.9041"
          ],
          "name": "stdout"
        },
        {
          "output_type": "stream",
          "text": [
            "1563/1562 [==============================] - 82s 53ms/step - loss: 0.2756 - acc: 0.9010 - val_loss: 0.4294 - val_acc: 0.8797\n",
            "Epoch 284/400\n",
            "  11/1562 [..............................] - ETA: 1:15 - loss: 0.3004 - acc: 0.9006"
          ],
          "name": "stdout"
        },
        {
          "output_type": "stream",
          "text": [
            "1563/1562 [==============================] - 82s 53ms/step - loss: 0.2739 - acc: 0.9032 - val_loss: 0.4667 - val_acc: 0.8671\n",
            "Epoch 285/400\n",
            "  10/1562 [..............................] - ETA: 1:18 - loss: 0.3021 - acc: 0.8844"
          ],
          "name": "stdout"
        },
        {
          "output_type": "stream",
          "text": [
            "1562/1562 [============================>.] - ETA: 0s - loss: 0.2746 - acc: 0.9033"
          ],
          "name": "stdout"
        },
        {
          "output_type": "stream",
          "text": [
            "1563/1562 [==============================] - 82s 53ms/step - loss: 0.2746 - acc: 0.9033 - val_loss: 0.4914 - val_acc: 0.8657\n",
            "Epoch 286/400\n",
            " 567/1562 [=========>....................] - ETA: 50s - loss: 0.2745 - acc: 0.9041"
          ],
          "name": "stdout"
        },
        {
          "output_type": "stream",
          "text": [
            "1563/1562 [==============================] - 82s 53ms/step - loss: 0.2714 - acc: 0.9053 - val_loss: 0.5024 - val_acc: 0.8669\n",
            "Epoch 287/400\n",
            " 223/1562 [===>..........................] - ETA: 1:07 - loss: 0.2588 - acc: 0.9092"
          ],
          "name": "stdout"
        },
        {
          "output_type": "stream",
          "text": [
            "1563/1562 [==============================] - 82s 53ms/step - loss: 0.2695 - acc: 0.9044 - val_loss: 0.5615 - val_acc: 0.8577\n",
            "Epoch 288/400\n",
            "  82/1562 [>.............................] - ETA: 1:15 - loss: 0.2851 - acc: 0.8956"
          ],
          "name": "stdout"
        },
        {
          "output_type": "stream",
          "text": [
            "1563/1562 [==============================] - 82s 53ms/step - loss: 0.2675 - acc: 0.9051 - val_loss: 0.5340 - val_acc: 0.8609\n",
            "Epoch 289/400\n",
            "  33/1562 [..............................] - ETA: 1:16 - loss: 0.3265 - acc: 0.8769"
          ],
          "name": "stdout"
        },
        {
          "output_type": "stream",
          "text": [
            "1563/1562 [==============================] - 82s 53ms/step - loss: 0.2732 - acc: 0.9038 - val_loss: 0.4708 - val_acc: 0.8692\n",
            "Epoch 290/400\n",
            "  18/1562 [..............................] - ETA: 1:17 - loss: 0.2357 - acc: 0.9149"
          ],
          "name": "stdout"
        },
        {
          "output_type": "stream",
          "text": [
            "1562/1562 [============================>.] - ETA: 0s - loss: 0.2689 - acc: 0.9055"
          ],
          "name": "stdout"
        },
        {
          "output_type": "stream",
          "text": [
            "1563/1562 [==============================] - 83s 53ms/step - loss: 0.2688 - acc: 0.9055 - val_loss: 0.4372 - val_acc: 0.8769\n",
            "Epoch 291/400\n",
            " 590/1562 [==========>...................] - ETA: 48s - loss: 0.2603 - acc: 0.9085"
          ],
          "name": "stdout"
        },
        {
          "output_type": "stream",
          "text": [
            "1563/1562 [==============================] - 82s 53ms/step - loss: 0.2659 - acc: 0.9063 - val_loss: 0.4109 - val_acc: 0.8804\n",
            "Epoch 292/400\n",
            " 208/1562 [==>...........................] - ETA: 1:10 - loss: 0.2418 - acc: 0.9151"
          ],
          "name": "stdout"
        },
        {
          "output_type": "stream",
          "text": [
            "1563/1562 [==============================] - 83s 53ms/step - loss: 0.2628 - acc: 0.9070 - val_loss: 0.4687 - val_acc: 0.8727\n",
            "Epoch 293/400\n",
            "  85/1562 [>.............................] - ETA: 1:14 - loss: 0.2603 - acc: 0.9055"
          ],
          "name": "stdout"
        },
        {
          "output_type": "stream",
          "text": [
            "1563/1562 [==============================] - 82s 53ms/step - loss: 0.2675 - acc: 0.9047 - val_loss: 0.5067 - val_acc: 0.8687\n",
            "Epoch 294/400\n",
            "  29/1562 [..............................] - ETA: 1:17 - loss: 0.2346 - acc: 0.9246"
          ],
          "name": "stdout"
        },
        {
          "output_type": "stream",
          "text": [
            "1563/1562 [==============================] - 82s 53ms/step - loss: 0.2649 - acc: 0.9072 - val_loss: 0.4374 - val_acc: 0.8817\n",
            "Epoch 295/400\n",
            "  15/1562 [..............................] - ETA: 1:19 - loss: 0.2323 - acc: 0.9167"
          ],
          "name": "stdout"
        },
        {
          "output_type": "stream",
          "text": [
            "1561/1562 [============================>.] - ETA: 0s - loss: 0.2679 - acc: 0.9060"
          ],
          "name": "stdout"
        },
        {
          "output_type": "stream",
          "text": [
            "1563/1562 [==============================] - 83s 53ms/step - loss: 0.2679 - acc: 0.9060 - val_loss: 0.4671 - val_acc: 0.8766\n",
            "Epoch 296/400\n",
            " 589/1562 [==========>...................] - ETA: 48s - loss: 0.2676 - acc: 0.9070"
          ],
          "name": "stdout"
        },
        {
          "output_type": "stream",
          "text": [
            "1563/1562 [==============================] - 82s 53ms/step - loss: 0.2671 - acc: 0.9069 - val_loss: 0.4782 - val_acc: 0.8706\n",
            "Epoch 297/400\n",
            " 216/1562 [===>..........................] - ETA: 1:07 - loss: 0.2710 - acc: 0.9015"
          ],
          "name": "stdout"
        },
        {
          "output_type": "stream",
          "text": [
            "1563/1562 [==============================] - 82s 53ms/step - loss: 0.2647 - acc: 0.9068 - val_loss: 0.4586 - val_acc: 0.8757\n",
            "Epoch 298/400\n",
            "  79/1562 [>.............................] - ETA: 1:14 - loss: 0.2522 - acc: 0.9094"
          ],
          "name": "stdout"
        },
        {
          "output_type": "stream",
          "text": [
            "1563/1562 [==============================] - 82s 53ms/step - loss: 0.2665 - acc: 0.9061 - val_loss: 0.4619 - val_acc: 0.8757\n",
            "Epoch 299/400\n",
            "  29/1562 [..............................] - ETA: 1:17 - loss: 0.2770 - acc: 0.9181"
          ],
          "name": "stdout"
        },
        {
          "output_type": "stream",
          "text": [
            "1563/1562 [==============================] - 82s 53ms/step - loss: 0.2645 - acc: 0.9077 - val_loss: 0.4489 - val_acc: 0.8780\n",
            "Epoch 300/400\n",
            "  21/1562 [..............................] - ETA: 1:17 - loss: 0.2610 - acc: 0.9152"
          ],
          "name": "stdout"
        },
        {
          "output_type": "stream",
          "text": [
            "1563/1562 [==============================] - 82s 52ms/step - loss: 0.2592 - acc: 0.9091 - val_loss: 0.4583 - val_acc: 0.8737\n",
            "Epoch 301/400\n",
            "  20/1562 [..............................] - ETA: 1:15 - loss: 0.2210 - acc: 0.9234"
          ],
          "name": "stdout"
        },
        {
          "output_type": "stream",
          "text": [
            "1563/1562 [==============================] - 82s 52ms/step - loss: 0.2647 - acc: 0.9066 - val_loss: 0.4494 - val_acc: 0.8767\n",
            "Epoch 302/400\n",
            "  31/1562 [..............................] - ETA: 1:18 - loss: 0.2282 - acc: 0.9264"
          ],
          "name": "stdout"
        },
        {
          "output_type": "stream",
          "text": [
            "1562/1562 [============================>.] - ETA: 0s - loss: 0.2593 - acc: 0.9083"
          ],
          "name": "stdout"
        },
        {
          "output_type": "stream",
          "text": [
            "1563/1562 [==============================] - 82s 53ms/step - loss: 0.2592 - acc: 0.9083 - val_loss: 0.4946 - val_acc: 0.8665\n",
            "Epoch 303/400\n",
            " 566/1562 [=========>....................] - ETA: 50s - loss: 0.2588 - acc: 0.9101"
          ],
          "name": "stdout"
        },
        {
          "output_type": "stream",
          "text": [
            "1563/1562 [==============================] - 82s 53ms/step - loss: 0.2644 - acc: 0.9072 - val_loss: 0.4857 - val_acc: 0.8691\n",
            "Epoch 304/400\n",
            " 208/1562 [==>...........................] - ETA: 1:08 - loss: 0.2622 - acc: 0.9084"
          ],
          "name": "stdout"
        },
        {
          "output_type": "stream",
          "text": [
            "1563/1562 [==============================] - 82s 53ms/step - loss: 0.2606 - acc: 0.9101 - val_loss: 0.4416 - val_acc: 0.8764\n",
            "Epoch 305/400\n",
            "  71/1562 [>.............................] - ETA: 1:14 - loss: 0.2564 - acc: 0.9080"
          ],
          "name": "stdout"
        },
        {
          "output_type": "stream",
          "text": [
            "1563/1562 [==============================] - 82s 53ms/step - loss: 0.2584 - acc: 0.9088 - val_loss: 0.5170 - val_acc: 0.8689\n",
            "Epoch 306/400\n",
            "  28/1562 [..............................] - ETA: 1:17 - loss: 0.2917 - acc: 0.9040"
          ],
          "name": "stdout"
        },
        {
          "output_type": "stream",
          "text": [
            "1563/1562 [==============================] - 82s 52ms/step - loss: 0.2584 - acc: 0.9092 - val_loss: 0.4859 - val_acc: 0.8698\n",
            "Epoch 307/400\n",
            "  18/1562 [..............................] - ETA: 1:17 - loss: 0.2921 - acc: 0.8976"
          ],
          "name": "stdout"
        },
        {
          "output_type": "stream",
          "text": [
            "1563/1562 [==============================] - 82s 53ms/step - loss: 0.2605 - acc: 0.9082 - val_loss: 0.4712 - val_acc: 0.8680\n",
            "Epoch 308/400\n",
            "  22/1562 [..............................] - ETA: 1:18 - loss: 0.2701 - acc: 0.9006"
          ],
          "name": "stdout"
        },
        {
          "output_type": "stream",
          "text": [
            "1563/1562 [==============================] - 82s 53ms/step - loss: 0.2630 - acc: 0.9071 - val_loss: 0.4761 - val_acc: 0.8713\n",
            "Epoch 309/400\n",
            "  11/1562 [..............................] - ETA: 1:17 - loss: 0.2177 - acc: 0.9176"
          ],
          "name": "stdout"
        },
        {
          "output_type": "stream",
          "text": [
            "1561/1562 [============================>.] - ETA: 0s - loss: 0.2552 - acc: 0.9109"
          ],
          "name": "stdout"
        },
        {
          "output_type": "stream",
          "text": [
            "1563/1562 [==============================] - 82s 53ms/step - loss: 0.2550 - acc: 0.9109 - val_loss: 0.4780 - val_acc: 0.8714\n",
            "Epoch 310/400\n",
            " 576/1562 [==========>...................] - ETA: 49s - loss: 0.2620 - acc: 0.9078"
          ],
          "name": "stdout"
        },
        {
          "output_type": "stream",
          "text": [
            "1563/1562 [==============================] - 82s 53ms/step - loss: 0.2589 - acc: 0.9083 - val_loss: 0.4742 - val_acc: 0.8757\n",
            "Epoch 311/400\n",
            " 212/1562 [===>..........................] - ETA: 1:07 - loss: 0.2515 - acc: 0.9077"
          ],
          "name": "stdout"
        },
        {
          "output_type": "stream",
          "text": [
            "1563/1562 [==============================] - 82s 53ms/step - loss: 0.2586 - acc: 0.9086 - val_loss: 0.4702 - val_acc: 0.8734\n",
            "Epoch 312/400\n",
            "  74/1562 [>.............................] - ETA: 1:15 - loss: 0.2598 - acc: 0.9105"
          ],
          "name": "stdout"
        },
        {
          "output_type": "stream",
          "text": [
            "1563/1562 [==============================] - 82s 53ms/step - loss: 0.2562 - acc: 0.9094 - val_loss: 0.4881 - val_acc: 0.8709\n",
            "Epoch 313/400\n",
            "  33/1562 [..............................] - ETA: 1:17 - loss: 0.2676 - acc: 0.8930"
          ],
          "name": "stdout"
        },
        {
          "output_type": "stream",
          "text": [
            "1563/1562 [==============================] - 82s 53ms/step - loss: 0.2586 - acc: 0.9085 - val_loss: 0.5772 - val_acc: 0.8588\n",
            "Epoch 314/400\n",
            "   2/1562 [..............................] - ETA: 1:33 - loss: 0.2744 - acc: 0.8750"
          ],
          "name": "stdout"
        },
        {
          "output_type": "stream",
          "text": [
            "1562/1562 [============================>.] - ETA: 0s - loss: 0.2579 - acc: 0.9090"
          ],
          "name": "stdout"
        },
        {
          "output_type": "stream",
          "text": [
            "1563/1562 [==============================] - 82s 53ms/step - loss: 0.2578 - acc: 0.9090 - val_loss: 0.4863 - val_acc: 0.8714\n",
            "Epoch 315/400\n",
            " 561/1562 [=========>....................] - ETA: 50s - loss: 0.2475 - acc: 0.9107"
          ],
          "name": "stdout"
        },
        {
          "output_type": "stream",
          "text": [
            "1563/1562 [==============================] - 82s 53ms/step - loss: 0.2542 - acc: 0.9098 - val_loss: 0.5598 - val_acc: 0.8595\n",
            "Epoch 316/400\n",
            " 212/1562 [===>..........................] - ETA: 1:07 - loss: 0.2453 - acc: 0.9116"
          ],
          "name": "stdout"
        },
        {
          "output_type": "stream",
          "text": [
            "1563/1562 [==============================] - 82s 53ms/step - loss: 0.2547 - acc: 0.9090 - val_loss: 0.5065 - val_acc: 0.8646\n",
            "Epoch 317/400\n",
            "  79/1562 [>.............................] - ETA: 1:14 - loss: 0.2485 - acc: 0.9118"
          ],
          "name": "stdout"
        },
        {
          "output_type": "stream",
          "text": [
            "1563/1562 [==============================] - 82s 53ms/step - loss: 0.2560 - acc: 0.9100 - val_loss: 0.4633 - val_acc: 0.8758\n",
            "Epoch 318/400\n"
          ],
          "name": "stdout"
        },
        {
          "output_type": "stream",
          "text": [
            "1563/1562 [==============================] - 82s 52ms/step - loss: 0.2512 - acc: 0.9103 - val_loss: 0.5182 - val_acc: 0.8670\n",
            "Epoch 319/400\n",
            "  41/1562 [..............................] - ETA: 1:16 - loss: 0.2728 - acc: 0.9070"
          ],
          "name": "stdout"
        },
        {
          "output_type": "stream",
          "text": [
            "1563/1562 [==============================] - 82s 52ms/step - loss: 0.2537 - acc: 0.9103 - val_loss: 0.5440 - val_acc: 0.8624\n",
            "Epoch 320/400\n",
            "  30/1562 [..............................] - ETA: 1:18 - loss: 0.2496 - acc: 0.9146"
          ],
          "name": "stdout"
        },
        {
          "output_type": "stream",
          "text": [
            "1563/1562 [==============================] - 82s 53ms/step - loss: 0.2552 - acc: 0.9103 - val_loss: 0.4748 - val_acc: 0.8741\n",
            "Epoch 321/400\n",
            "   8/1562 [..............................] - ETA: 1:20 - loss: 0.2614 - acc: 0.9023"
          ],
          "name": "stdout"
        },
        {
          "output_type": "stream",
          "text": [
            "1563/1562 [==============================] - 82s 53ms/step - loss: 0.2502 - acc: 0.9103 - val_loss: 0.5179 - val_acc: 0.8642\n",
            "Epoch 322/400\n",
            "   7/1562 [..............................] - ETA: 1:20 - loss: 0.2787 - acc: 0.9107"
          ],
          "name": "stdout"
        },
        {
          "output_type": "stream",
          "text": [
            "1563/1562 [==============================] - 82s 52ms/step - loss: 0.2509 - acc: 0.9116 - val_loss: 0.4757 - val_acc: 0.8763\n",
            "Epoch 323/400\n",
            "  12/1562 [..............................] - ETA: 1:17 - loss: 0.2159 - acc: 0.9115\b\b\b\b\b\b\b\b\b\b\b\b\b\b\b\b\b\b\b\b\b\b\b\b\b\b\b\b\b\b\b\b\b\b\b\b\b\b\b\b\b\b\b\b\b\b\b\b\b\b\b\b\b\b\b\b\b\b\b\b\b\b\b\b\b\b\b\b\b\b\b\b\b\b\b\b\b\b\b\b\b\b\b"
          ],
          "name": "stdout"
        },
        {
          "output_type": "stream",
          "text": [
            "1562/1562 [============================>.] - ETA: 0s - loss: 0.2473 - acc: 0.9117"
          ],
          "name": "stdout"
        },
        {
          "output_type": "stream",
          "text": [
            "1563/1562 [==============================] - 82s 53ms/step - loss: 0.2474 - acc: 0.9117 - val_loss: 0.5120 - val_acc: 0.8719\n",
            "Epoch 324/400\n",
            " 578/1562 [==========>...................] - ETA: 49s - loss: 0.2488 - acc: 0.9128"
          ],
          "name": "stdout"
        },
        {
          "output_type": "stream",
          "text": [
            "1563/1562 [==============================] - 82s 53ms/step - loss: 0.2511 - acc: 0.9117 - val_loss: 0.4719 - val_acc: 0.8774\n",
            "Epoch 325/400\n",
            " 219/1562 [===>..........................] - ETA: 1:08 - loss: 0.2517 - acc: 0.9160"
          ],
          "name": "stdout"
        },
        {
          "output_type": "stream",
          "text": [
            "1563/1562 [==============================] - 82s 53ms/step - loss: 0.2519 - acc: 0.9115 - val_loss: 0.4808 - val_acc: 0.8700\n",
            "Epoch 326/400\n",
            "  94/1562 [>.............................]"
          ],
          "name": "stdout"
        },
        {
          "output_type": "stream",
          "text": [
            "1563/1562 [==============================] - 83s 53ms/step - loss: 0.2484 - acc: 0.9122 - val_loss: 0.5071 - val_acc: 0.8700\n",
            "Epoch 327/400\n",
            "  23/1562 [..............................] - ETA: 1:16 - loss: 0.2835 - acc: 0.8981"
          ],
          "name": "stdout"
        },
        {
          "output_type": "stream",
          "text": [
            "1562/1562 [============================>.] - ETA: 0s - loss: 0.2509 - acc: 0.9120"
          ],
          "name": "stdout"
        },
        {
          "output_type": "stream",
          "text": [
            "1563/1562 [==============================] - 83s 53ms/step - loss: 0.2509 - acc: 0.9120 - val_loss: 0.5101 - val_acc: 0.8762\n",
            "Epoch 328/400\n",
            " 567/1562 [=========>....................] - ETA: 50s - loss: 0.2495 - acc: 0.9118"
          ],
          "name": "stdout"
        },
        {
          "output_type": "stream",
          "text": [
            "1563/1562 [==============================] - 83s 53ms/step - loss: 0.2497 - acc: 0.9121 - val_loss: 0.5123 - val_acc: 0.8687\n",
            "Epoch 329/400\n",
            " 207/1562 [==>...........................] - ETA: 1:08 - loss: 0.2249 - acc: 0.9204"
          ],
          "name": "stdout"
        },
        {
          "output_type": "stream",
          "text": [
            "1563/1562 [==============================] - 82s 53ms/step - loss: 0.2502 - acc: 0.9126 - val_loss: 0.4548 - val_acc: 0.8770\n",
            "Epoch 330/400\n",
            "  68/1562 [>.............................] - ETA: 1:16 - loss: 0.2379 - acc: 0.9131"
          ],
          "name": "stdout"
        },
        {
          "output_type": "stream",
          "text": [
            "1563/1562 [==============================] - 83s 53ms/step - loss: 0.2450 - acc: 0.9134 - val_loss: 0.4593 - val_acc: 0.8783\n",
            "Epoch 331/400\n",
            "   8/1562 [..............................] - ETA: 1:18 - loss: 0.3294 - acc: 0.8672"
          ],
          "name": "stdout"
        },
        {
          "output_type": "stream",
          "text": [
            "1562/1562 [============================>.] - ETA: 0s - loss: 0.2483 - acc: 0.9115"
          ],
          "name": "stdout"
        },
        {
          "output_type": "stream",
          "text": [
            "1563/1562 [==============================] - 83s 53ms/step - loss: 0.2483 - acc: 0.9114 - val_loss: 0.4219 - val_acc: 0.8845\n",
            "Epoch 332/400\n",
            " 591/1562 [==========>...................] - ETA: 48s - loss: 0.2407 - acc: 0.9160"
          ],
          "name": "stdout"
        },
        {
          "output_type": "stream",
          "text": [
            "1563/1562 [==============================] - 83s 53ms/step - loss: 0.2443 - acc: 0.9145 - val_loss: 0.4996 - val_acc: 0.8694\n",
            "Epoch 333/400\n",
            " 206/1562 [==>...........................] - ETA: 1:08 - loss: 0.2425 - acc: 0.9155"
          ],
          "name": "stdout"
        },
        {
          "output_type": "stream",
          "text": [
            "1563/1562 [==============================] - 82s 53ms/step - loss: 0.2469 - acc: 0.9124 - val_loss: 0.5163 - val_acc: 0.8668\n",
            "Epoch 334/400\n",
            " 100/1562 [>.............................] - ETA: 1:12 - loss: 0.2320 - acc: 0.9128\b\b\b\b\b\b\b\b\b\b\b\b\b\b\b\b\b\b\b\b\b\b\b\b\b\b\b\b\b\b\b\b\b\b\b\b\b\b\b\b\b\b\b\b\b\b\b\b\b\b\b\b\b\b\b\b\b\b\b\b\b\b\b\b\b\b\b\b\b\b\b\b\b\b\b\b\b\b\b\b\b\b\b"
          ],
          "name": "stdout"
        },
        {
          "output_type": "stream",
          "text": [
            "1563/1562 [==============================] - 82s 53ms/step - loss: 0.2494 - acc: 0.9115 - val_loss: 0.5055 - val_acc: 0.8681\n",
            "Epoch 335/400\n",
            "  36/1562 [..............................] - ETA: 1:15 - loss: 0.2542 - acc: 0.9132"
          ],
          "name": "stdout"
        },
        {
          "output_type": "stream",
          "text": [
            "1563/1562 [==============================] - 82s 52ms/step - loss: 0.2458 - acc: 0.9140 - val_loss: 0.4768 - val_acc: 0.8741\n",
            "Epoch 336/400\n",
            "  14/1562 [..............................] - ETA: 1:17 - loss: 0.2034 - acc: 0.9263"
          ],
          "name": "stdout"
        },
        {
          "output_type": "stream",
          "text": [
            "1563/1562 [==============================] - 82s 52ms/step - loss: 0.2423 - acc: 0.9134 - val_loss: 0.5293 - val_acc: 0.8664\n",
            "Epoch 337/400\n",
            "  33/1562 [..............................] - ETA: 1:17 - loss: 0.2289 - acc: 0.9167"
          ],
          "name": "stdout"
        },
        {
          "output_type": "stream",
          "text": [
            "1563/1562 [==============================] - 82s 52ms/step - loss: 0.2424 - acc: 0.9145 - val_loss: 0.4617 - val_acc: 0.8766\n",
            "Epoch 338/400\n",
            "  18/1562 [..............................] - ETA: 1:17 - loss: 0.2055 - acc: 0.9219"
          ],
          "name": "stdout"
        },
        {
          "output_type": "stream",
          "text": [
            "1562/1562 [============================>.] - ETA: 0s - loss: 0.2415 - acc: 0.9132"
          ],
          "name": "stdout"
        },
        {
          "output_type": "stream",
          "text": [
            "1563/1562 [==============================] - 83s 53ms/step - loss: 0.2416 - acc: 0.9131 - val_loss: 0.4867 - val_acc: 0.8809\n",
            "Epoch 339/400\n",
            " 564/1562 [=========>....................] - ETA: 50s - loss: 0.2438 - acc: 0.9153"
          ],
          "name": "stdout"
        },
        {
          "output_type": "stream",
          "text": [
            "1563/1562 [==============================] - 83s 53ms/step - loss: 0.2483 - acc: 0.9124 - val_loss: 0.4410 - val_acc: 0.8807\n",
            "Epoch 340/400\n",
            " 195/1562 [==>...........................] - ETA: 1:09 - loss: 0.2397 - acc: 0.9147"
          ],
          "name": "stdout"
        },
        {
          "output_type": "stream",
          "text": [
            "1563/1562 [==============================] - 83s 53ms/step - loss: 0.2439 - acc: 0.9150 - val_loss: 0.4759 - val_acc: 0.8748\n",
            "Epoch 341/400\n",
            "  56/1562 [>.............................] - ETA: 1:16 - loss: 0.2346 - acc: 0.9180"
          ],
          "name": "stdout"
        },
        {
          "output_type": "stream",
          "text": [
            "1563/1562 [==============================] - 83s 53ms/step - loss: 0.2438 - acc: 0.9134 - val_loss: 0.5104 - val_acc: 0.8701\n",
            "Epoch 342/400\n",
            "   3/1562 [..............................] - ETA: 1:16 - loss: 0.3555 - acc: 0.8854"
          ],
          "name": "stdout"
        },
        {
          "output_type": "stream",
          "text": [
            "1563/1562 [==============================] - 82s 53ms/step - loss: 0.2474 - acc: 0.9140 - val_loss: 0.4994 - val_acc: 0.8688\n",
            "Epoch 343/400\n",
            "   2/1562 [..............................] - ETA: 1:18 - loss: 0.2583 - acc: 0.9219"
          ],
          "name": "stdout"
        },
        {
          "output_type": "stream",
          "text": [
            "1563/1562 [==============================] - 82s 53ms/step - loss: 0.2414 - acc: 0.9156 - val_loss: 0.5048 - val_acc: 0.8721\n",
            "Epoch 344/400\n",
            "   9/1562 [..............................] - ETA: 1:21 - loss: 0.2618 - acc: 0.8924"
          ],
          "name": "stdout"
        },
        {
          "output_type": "stream",
          "text": [
            "1562/1562 [============================>.] - ETA: 0s - loss: 0.2449 - acc: 0.9140"
          ],
          "name": "stdout"
        },
        {
          "output_type": "stream",
          "text": [
            "1563/1562 [==============================] - 83s 53ms/step - loss: 0.2449 - acc: 0.9140 - val_loss: 0.4999 - val_acc: 0.8714\n",
            "Epoch 345/400\n",
            " 586/1562 [==========>...................] - ETA: 49s - loss: 0.2374 - acc: 0.9169"
          ],
          "name": "stdout"
        },
        {
          "output_type": "stream",
          "text": [
            "1563/1562 [==============================] - 82s 53ms/step - loss: 0.2379 - acc: 0.9164 - val_loss: 0.4840 - val_acc: 0.8767\n",
            "Epoch 346/400\n",
            " 201/1562 [==>...........................] - ETA: 1:08 - loss: 0.2415 - acc: 0.9148"
          ],
          "name": "stdout"
        },
        {
          "output_type": "stream",
          "text": [
            "1563/1562 [==============================] - 82s 53ms/step - loss: 0.2428 - acc: 0.9145 - val_loss: 0.5408 - val_acc: 0.8681\n",
            "Epoch 347/400\n",
            "  93/1562 [>.............................] - ETA: 1:12 - loss: 0.2310 - acc: 0.9180"
          ],
          "name": "stdout"
        },
        {
          "output_type": "stream",
          "text": [
            "1563/1562 [==============================] - 82s 52ms/step - loss: 0.2411 - acc: 0.9153 - val_loss: 0.5098 - val_acc: 0.8668\n",
            "Epoch 348/400\n",
            "  45/1562 [..............................] - ETA: 1:16 - loss: 0.2800 - acc: 0.8965"
          ],
          "name": "stdout"
        },
        {
          "output_type": "stream",
          "text": [
            "1563/1562 [==============================] - 82s 53ms/step - loss: 0.2427 - acc: 0.9152 - val_loss: 0.5008 - val_acc: 0.8702\n",
            "Epoch 349/400\n",
            "  22/1562 [..............................] - ETA: 1:18 - loss: 0.2556 - acc: 0.9091"
          ],
          "name": "stdout"
        },
        {
          "output_type": "stream",
          "text": [
            "1563/1562 [==============================] - 82s 53ms/step - loss: 0.2418 - acc: 0.9143 - val_loss: 0.4936 - val_acc: 0.8750\n",
            "Epoch 350/400\n",
            "  19/1562 [..............................] - ETA: 1:16 - loss: 0.2220 - acc: 0.9227"
          ],
          "name": "stdout"
        },
        {
          "output_type": "stream",
          "text": [
            "1563/1562 [==============================] - 82s 53ms/step - loss: 0.2401 - acc: 0.9172 - val_loss: 0.4834 - val_acc: 0.8686\n",
            "Epoch 351/400\n",
            "   6/1562 [..............................]"
          ],
          "name": "stdout"
        },
        {
          "output_type": "stream",
          "text": [
            "1562/1562 [============================>.] - ETA: 0s - loss: 0.2385 - acc: 0.9146"
          ],
          "name": "stdout"
        },
        {
          "output_type": "stream",
          "text": [
            "1563/1562 [==============================] - 83s 53ms/step - loss: 0.2385 - acc: 0.9146 - val_loss: 0.4878 - val_acc: 0.8773\n",
            "Epoch 352/400\n",
            " 562/1562 [=========>....................] - ETA: 50s - loss: 0.2440 - acc: 0.9144"
          ],
          "name": "stdout"
        },
        {
          "output_type": "stream",
          "text": [
            "1563/1562 [==============================] - 82s 53ms/step - loss: 0.2424 - acc: 0.9143 - val_loss: 0.4490 - val_acc: 0.8768\n",
            "Epoch 353/400\n",
            " 211/1562 [===>..........................] - ETA: 1:07 - loss: 0.2315 - acc: 0.9187"
          ],
          "name": "stdout"
        },
        {
          "output_type": "stream",
          "text": [
            "1563/1562 [==============================] - 83s 53ms/step - loss: 0.2351 - acc: 0.9163 - val_loss: 0.4375 - val_acc: 0.8861\n",
            "Epoch 354/400\n",
            "  61/1562 [>.............................] - ETA: 1:15 - loss: 0.2387 - acc: 0.9185"
          ],
          "name": "stdout"
        },
        {
          "output_type": "stream",
          "text": [
            "1562/1562 [============================>.] - ETA: 0s - loss: 0.2373 - acc: 0.9148"
          ],
          "name": "stdout"
        },
        {
          "output_type": "stream",
          "text": [
            "1563/1562 [==============================] - 83s 53ms/step - loss: 0.2374 - acc: 0.9148 - val_loss: 0.5054 - val_acc: 0.8736\n",
            "Epoch 355/400\n",
            " 560/1562 [=========>....................] - ETA: 50s - loss: 0.2342 - acc: 0.9168"
          ],
          "name": "stdout"
        },
        {
          "output_type": "stream",
          "text": [
            "1563/1562 [==============================] - 82s 53ms/step - loss: 0.2365 - acc: 0.9174 - val_loss: 0.5289 - val_acc: 0.8661\n",
            "Epoch 356/400\n",
            " 192/1562 [==>...........................] - ETA: 1:09 - loss: 0.2306 - acc: 0.9194"
          ],
          "name": "stdout"
        },
        {
          "output_type": "stream",
          "text": [
            "1563/1562 [==============================] - 83s 53ms/step - loss: 0.2395 - acc: 0.9153 - val_loss: 0.4458 - val_acc: 0.8805\n",
            "Epoch 357/400\n",
            "  49/1562 [..............................] - ETA: 1:17 - loss: 0.2312 - acc: 0.9216"
          ],
          "name": "stdout"
        },
        {
          "output_type": "stream",
          "text": [
            "1563/1562 [==============================] - 82s 53ms/step - loss: 0.2423 - acc: 0.9146 - val_loss: 0.4898 - val_acc: 0.8705\n",
            "Epoch 358/400\n",
            "  19/1562 [..............................] - ETA: 1:17 - loss: 0.2148 - acc: 0.9260"
          ],
          "name": "stdout"
        },
        {
          "output_type": "stream",
          "text": [
            "1563/1562 [==============================] - 83s 53ms/step - loss: 0.2387 - acc: 0.9150 - val_loss: 0.5157 - val_acc: 0.8694\n",
            "Epoch 359/400\n",
            "   1/1562 [..............................] - ETA: 1:32 - loss: 0.0770 - acc: 0.9688"
          ],
          "name": "stdout"
        },
        {
          "output_type": "stream",
          "text": [
            "1522/1562 [============================>.] - ETA: 2s - loss: 0.2372 - acc: 0.9175"
          ],
          "name": "stdout"
        },
        {
          "output_type": "stream",
          "text": [
            "1563/1562 [==============================] - 83s 53ms/step - loss: 0.2383 - acc: 0.9170 - val_loss: 0.5344 - val_acc: 0.8636\n",
            "Epoch 360/400\n",
            " 577/1562 [==========>...................] - ETA: 49s - loss: 0.2322 - acc: 0.9182"
          ],
          "name": "stdout"
        },
        {
          "output_type": "stream",
          "text": [
            "1563/1562 [==============================] - 82s 53ms/step - loss: 0.2343 - acc: 0.9168 - val_loss: 0.5506 - val_acc: 0.8687\n",
            "Epoch 361/400\n",
            " 206/1562 [==>...........................] - ETA: 1:09 - loss: 0.2463 - acc: 0.9167"
          ],
          "name": "stdout"
        },
        {
          "output_type": "stream",
          "text": [
            "1563/1562 [==============================] - 82s 53ms/step - loss: 0.2389 - acc: 0.9169 - val_loss: 0.4853 - val_acc: 0.8749\n",
            "Epoch 362/400\n",
            "  89/1562 [>.............................] - ETA: 1:13 - loss: 0.2180 - acc: 0.9228"
          ],
          "name": "stdout"
        },
        {
          "output_type": "stream",
          "text": [
            "1563/1562 [==============================] - 82s 53ms/step - loss: 0.2339 - acc: 0.9165 - val_loss: 0.4658 - val_acc: 0.8796\n",
            "Epoch 363/400\n",
            "  19/1562 [..............................] - ETA: 1:19 - loss: 0.2467 - acc: 0.9145"
          ],
          "name": "stdout"
        },
        {
          "output_type": "stream",
          "text": [
            "1563/1562 [==============================] - 82s 53ms/step - loss: 0.2422 - acc: 0.9159 - val_loss: 0.4800 - val_acc: 0.8765\n",
            "Epoch 364/400\n",
            "   1/1562 [..............................] - ETA: 1:17 - loss: 0.2498 - acc: 0.9375"
          ],
          "name": "stdout"
        },
        {
          "output_type": "stream",
          "text": [
            "1562/1562 [============================>.] - ETA: 0s - loss: 0.2321 - acc: 0.9189"
          ],
          "name": "stdout"
        },
        {
          "output_type": "stream",
          "text": [
            "1563/1562 [==============================] - 82s 53ms/step - loss: 0.2321 - acc: 0.9189 - val_loss: 0.4797 - val_acc: 0.8745\n",
            "Epoch 365/400\n",
            " 581/1562 [==========>...................] - ETA: 49s - loss: 0.2296 - acc: 0.9199"
          ],
          "name": "stdout"
        },
        {
          "output_type": "stream",
          "text": [
            "1563/1562 [==============================] - 83s 53ms/step - loss: 0.2337 - acc: 0.9175 - val_loss: 0.4648 - val_acc: 0.8834\n",
            "Epoch 366/400\n",
            " 208/1562 [==>...........................] - ETA: 1:08 - loss: 0.2179 - acc: 0.9235"
          ],
          "name": "stdout"
        },
        {
          "output_type": "stream",
          "text": [
            "1563/1562 [==============================] - 82s 53ms/step - loss: 0.2340 - acc: 0.9171 - val_loss: 0.5466 - val_acc: 0.8633\n",
            "Epoch 367/400\n",
            "  74/1562 [>.............................] - ETA: 1:14 - loss: 0.2229 - acc: 0.9168"
          ],
          "name": "stdout"
        },
        {
          "output_type": "stream",
          "text": [
            "1563/1562 [==============================] - 82s 53ms/step - loss: 0.2335 - acc: 0.9172 - val_loss: 0.5128 - val_acc: 0.8668\n",
            "Epoch 368/400\n",
            "  26/1562 [..............................] - ETA: 1:16 - loss: 0.2214 - acc: 0.9159"
          ],
          "name": "stdout"
        },
        {
          "output_type": "stream",
          "text": [
            "1563/1562 [==============================] - 83s 53ms/step - loss: 0.2374 - acc: 0.9156 - val_loss: 0.4793 - val_acc: 0.8719\n",
            "Epoch 369/400\n",
            "   3/1562 [..............................] - ETA: 1:18 - loss: 0.2549 - acc: 0.9375"
          ],
          "name": "stdout"
        },
        {
          "output_type": "stream",
          "text": [
            "1561/1562 [============================>.] - ETA: 0s - loss: 0.2357 - acc: 0.9174"
          ],
          "name": "stdout"
        },
        {
          "output_type": "stream",
          "text": [
            "1563/1562 [==============================] - 82s 53ms/step - loss: 0.2357 - acc: 0.9173 - val_loss: 0.5144 - val_acc: 0.8681\n",
            "Epoch 370/400\n",
            " 567/1562 [=========>....................] - ETA: 50s - loss: 0.2334 - acc: 0.9173"
          ],
          "name": "stdout"
        },
        {
          "output_type": "stream",
          "text": [
            "1563/1562 [==============================] - 82s 53ms/step - loss: 0.2339 - acc: 0.9167 - val_loss: 0.4944 - val_acc: 0.8729\n",
            "Epoch 371/400\n",
            " 209/1562 [===>..........................] - ETA: 1:07 - loss: 0.2172 - acc: 0.9185"
          ],
          "name": "stdout"
        },
        {
          "output_type": "stream",
          "text": [
            "1563/1562 [==============================] - 82s 53ms/step - loss: 0.2303 - acc: 0.9168 - val_loss: 0.5214 - val_acc: 0.8653\n",
            "Epoch 372/400\n",
            "  68/1562 [>.............................] - ETA: 1:14 - loss: 0.2665 - acc: 0.9072"
          ],
          "name": "stdout"
        },
        {
          "output_type": "stream",
          "text": [
            "1563/1562 [==============================] - 82s 53ms/step - loss: 0.2331 - acc: 0.9186 - val_loss: 0.5015 - val_acc: 0.8741\n",
            "Epoch 373/400\n",
            "  37/1562 [..............................] - ETA: 1:13 - loss: 0.2082 - acc: 0.9291"
          ],
          "name": "stdout"
        },
        {
          "output_type": "stream",
          "text": [
            "1563/1562 [==============================] - 82s 53ms/step - loss: 0.2276 - acc: 0.9197 - val_loss: 0.4578 - val_acc: 0.8801\n",
            "Epoch 374/400\n",
            "   7/1562 [..............................] - ETA: 1:19 - loss: 0.1952 - acc: 0.9241"
          ],
          "name": "stdout"
        },
        {
          "output_type": "stream",
          "text": [
            "1561/1562 [============================>.] - ETA: 0s - loss: 0.2316 - acc: 0.9179"
          ],
          "name": "stdout"
        },
        {
          "output_type": "stream",
          "text": [
            "1563/1562 [==============================] - 82s 53ms/step - loss: 0.2315 - acc: 0.9180 - val_loss: 0.4737 - val_acc: 0.8753\n",
            "Epoch 375/400\n",
            " 555/1562 [=========>....................] - ETA: 50s - loss: 0.2298 - acc: 0.9176"
          ],
          "name": "stdout"
        },
        {
          "output_type": "stream",
          "text": [
            "1563/1562 [==============================] - 82s 53ms/step - loss: 0.2290 - acc: 0.9180 - val_loss: 0.5159 - val_acc: 0.8715\n",
            "Epoch 376/400\n",
            " 197/1562 [==>...........................] - ETA: 1:09 - loss: 0.2224 - acc: 0.9201"
          ],
          "name": "stdout"
        },
        {
          "output_type": "stream",
          "text": [
            "1563/1562 [==============================] - 83s 53ms/step - loss: 0.2328 - acc: 0.9175 - val_loss: 0.4626 - val_acc: 0.8778\n",
            "Epoch 377/400\n",
            "  55/1562 [>.............................] - ETA: 1:17 - loss: 0.2500 - acc: 0.9114"
          ],
          "name": "stdout"
        },
        {
          "output_type": "stream",
          "text": [
            "1563/1562 [==============================] - 82s 53ms/step - loss: 0.2289 - acc: 0.9184 - val_loss: 0.4367 - val_acc: 0.8841\n",
            "Epoch 378/400\n",
            "  12/1562 [..............................] - ETA: 1:21 - loss: 0.2616 - acc: 0.9219"
          ],
          "name": "stdout"
        },
        {
          "output_type": "stream",
          "text": [
            "1562/1562 [============================>.] - ETA: 0s - loss: 0.2270 - acc: 0.9209"
          ],
          "name": "stdout"
        },
        {
          "output_type": "stream",
          "text": [
            "1563/1562 [==============================] - 83s 53ms/step - loss: 0.2270 - acc: 0.9208 - val_loss: 0.4637 - val_acc: 0.8794\n",
            "Epoch 379/400\n"
          ],
          "name": "stdout"
        },
        {
          "output_type": "stream",
          "text": [
            "1563/1562 [==============================] - 82s 53ms/step - loss: 0.2342 - acc: 0.9177 - val_loss: 0.4746 - val_acc: 0.8788\n",
            "Epoch 380/400\n",
            " 221/1562 [===>..........................] - ETA: 1:07 - loss: 0.2379 - acc: 0.9159"
          ],
          "name": "stdout"
        },
        {
          "output_type": "stream",
          "text": [
            "1563/1562 [==============================] - 82s 53ms/step - loss: 0.2296 - acc: 0.9187 - val_loss: 0.4844 - val_acc: 0.8763\n",
            "Epoch 381/400\n",
            "  93/1562 [>.............................] - ETA: 1:13 - loss: 0.2241 - acc: 0.9200"
          ],
          "name": "stdout"
        },
        {
          "output_type": "stream",
          "text": [
            "1563/1562 [==============================] - 82s 53ms/step - loss: 0.2322 - acc: 0.9182 - val_loss: 0.4827 - val_acc: 0.8766\n",
            "Epoch 382/400\n",
            "  52/1562 [..............................] - ETA: 1:15 - loss: 0.2515 - acc: 0.9087"
          ],
          "name": "stdout"
        },
        {
          "output_type": "stream",
          "text": [
            "1563/1562 [==============================] - 82s 53ms/step - loss: 0.2288 - acc: 0.9192 - val_loss: 0.4400 - val_acc: 0.8847\n",
            "Epoch 383/400\n",
            "  15/1562 [..............................] - ETA: 1:18 - loss: 0.2180 - acc: 0.9396"
          ],
          "name": "stdout"
        },
        {
          "output_type": "stream",
          "text": [
            "1563/1562 [==============================] - 82s 53ms/step - loss: 0.2299 - acc: 0.9182 - val_loss: 0.5112 - val_acc: 0.8744\n",
            "Epoch 384/400\n",
            "   2/1562 [..............................] - ETA: 1:22 - loss: 0.2616 - acc: 0.9375"
          ],
          "name": "stdout"
        },
        {
          "output_type": "stream",
          "text": [
            "1563/1562 [==============================] - 82s 53ms/step - loss: 0.2291 - acc: 0.9189 - val_loss: 0.4773 - val_acc: 0.8768\n",
            "Epoch 385/400\n",
            "   8/1562 [..............................] - ETA: 1:13 - loss: 0.2048 - acc: 0.9375"
          ],
          "name": "stdout"
        },
        {
          "output_type": "stream",
          "text": [
            "1563/1562 [==============================] - 82s 52ms/step - loss: 0.2295 - acc: 0.9193 - val_loss: 0.4493 - val_acc: 0.8765\n",
            "Epoch 386/400\n",
            "  26/1562 [..............................] - ETA: 1:17 - loss: 0.2100 - acc: 0.9255"
          ],
          "name": "stdout"
        },
        {
          "output_type": "stream",
          "text": [
            "1563/1562 [==============================] - 82s 53ms/step - loss: 0.2286 - acc: 0.9197 - val_loss: 0.4578 - val_acc: 0.8784\n",
            "Epoch 387/400\n",
            "   8/1562 [..............................] - ETA: 1:23 - loss: 0.2518 - acc: 0.9180"
          ],
          "name": "stdout"
        },
        {
          "output_type": "stream",
          "text": [
            "1563/1562 [==============================] - 82s 53ms/step - loss: 0.2283 - acc: 0.9197 - val_loss: 0.4889 - val_acc: 0.8728\n",
            "Epoch 388/400\n",
            "  16/1562 [..............................] - ETA: 1:17 - loss: 0.2274 - acc: 0.9199"
          ],
          "name": "stdout"
        },
        {
          "output_type": "stream",
          "text": [
            "1561/1562 [============================>.] - ETA: 0s - loss: 0.2273 - acc: 0.9183"
          ],
          "name": "stdout"
        },
        {
          "output_type": "stream",
          "text": [
            "1563/1562 [==============================] - 82s 53ms/step - loss: 0.2271 - acc: 0.9183 - val_loss: 0.4537 - val_acc: 0.8800\n",
            "Epoch 389/400\n",
            " 580/1562 [==========>...................] - ETA: 49s - loss: 0.2247 - acc: 0.9215"
          ],
          "name": "stdout"
        },
        {
          "output_type": "stream",
          "text": [
            "1563/1562 [==============================] - 82s 52ms/step - loss: 0.2269 - acc: 0.9203 - val_loss: 0.5186 - val_acc: 0.8719\n",
            "Epoch 390/400\n",
            " 228/1562 [===>..........................] - ETA: 1:06 - loss: 0.2316 - acc: 0.9191"
          ],
          "name": "stdout"
        },
        {
          "output_type": "stream",
          "text": [
            "1563/1562 [==============================] - 82s 53ms/step - loss: 0.2270 - acc: 0.9208 - val_loss: 0.5521 - val_acc: 0.8663\n",
            "Epoch 391/400\n",
            "  91/1562 [>.............................] - ETA: 1:14 - loss: 0.2354 - acc: 0.9203"
          ],
          "name": "stdout"
        },
        {
          "output_type": "stream",
          "text": [
            "1563/1562 [==============================] - 82s 53ms/step - loss: 0.2258 - acc: 0.9205 - val_loss: 0.4905 - val_acc: 0.8762\n",
            "Epoch 392/400\n",
            "  42/1562 [..............................] - ETA: 1:13 - loss: 0.1999 - acc: 0.9293"
          ],
          "name": "stdout"
        },
        {
          "output_type": "stream",
          "text": [
            "1563/1562 [==============================] - 82s 53ms/step - loss: 0.2273 - acc: 0.9189 - val_loss: 0.5063 - val_acc: 0.8739\n",
            "Epoch 393/400\n",
            "  12/1562 [..............................] - ETA: 1:17 - loss: 0.1924 - acc: 0.9219"
          ],
          "name": "stdout"
        },
        {
          "output_type": "stream",
          "text": [
            "1563/1562 [==============================] - 82s 53ms/step - loss: 0.2252 - acc: 0.9203 - val_loss: 0.4970 - val_acc: 0.8716\n",
            "Epoch 394/400\n",
            "  23/1562 [..............................] - ETA: 1:18 - loss: 0.2046 - acc: 0.9375"
          ],
          "name": "stdout"
        },
        {
          "output_type": "stream",
          "text": [
            "1563/1562 [==============================] - 82s 53ms/step - loss: 0.2279 - acc: 0.9196 - val_loss: 0.4911 - val_acc: 0.8759\n",
            "Epoch 395/400\n",
            "  22/1562 [..............................] - ETA: 1:15 - loss: 0.2537 - acc: 0.9091"
          ],
          "name": "stdout"
        },
        {
          "output_type": "stream",
          "text": [
            "1563/1562 [==============================] - 82s 52ms/step - loss: 0.2224 - acc: 0.9203 - val_loss: 0.5119 - val_acc: 0.8713\n",
            "Epoch 396/400\n",
            "  21/1562 [..............................] - ETA: 1:19 - loss: 0.2107 - acc: 0.9196"
          ],
          "name": "stdout"
        },
        {
          "output_type": "stream",
          "text": [
            "1563/1562 [==============================] - 82s 52ms/step - loss: 0.2223 - acc: 0.9221 - val_loss: 0.4799 - val_acc: 0.8764\n",
            "Epoch 397/400\n",
            "  12/1562 [..............................] - ETA: 1:19 - loss: 0.2038 - acc: 0.9297"
          ],
          "name": "stdout"
        },
        {
          "output_type": "stream",
          "text": [
            "1563/1562 [==============================] - 82s 52ms/step - loss: 0.2240 - acc: 0.9206 - val_loss: 0.5321 - val_acc: 0.8723\n",
            "Epoch 398/400\n",
            "  27/1562 [..............................] - ETA: 1:15 - loss: 0.1923 - acc: 0.9294"
          ],
          "name": "stdout"
        },
        {
          "output_type": "stream",
          "text": [
            "1563/1562 [==============================] - 82s 52ms/step - loss: 0.2263 - acc: 0.9202 - val_loss: 0.4937 - val_acc: 0.8726\n",
            "Epoch 399/400\n",
            "  18/1562 [..............................] - ETA: 1:18 - loss: 0.1933 - acc: 0.9219"
          ],
          "name": "stdout"
        },
        {
          "output_type": "stream",
          "text": [
            "1563/1562 [==============================] - 82s 52ms/step - loss: 0.2239 - acc: 0.9212 - val_loss: 0.5107 - val_acc: 0.8719\n",
            "Epoch 400/400\n"
          ],
          "name": "stdout"
        },
        {
          "output_type": "stream",
          "text": [
            "1563/1562 [==============================] - 82s 52ms/step - loss: 0.2190 - acc: 0.9229 - val_loss: 0.4994 - val_acc: 0.8757\n"
          ],
          "name": "stdout"
        }
      ]
    },
    {
      "metadata": {
        "id": "aqYNf3Rp3pWP",
        "colab_type": "text"
      },
      "cell_type": "markdown",
      "source": [
        "### Evaluate the model"
      ]
    },
    {
      "metadata": {
        "id": "rPbjmTTx3pWQ",
        "colab_type": "code",
        "colab": {
          "base_uri": "https://localhost:8080/",
          "height": 34
        },
        "outputId": "e41470f7-f899-4e6b-c84f-13a1105e268d"
      },
      "cell_type": "code",
      "source": [
        "scores = augmented_model.evaluate(test_images, test_class, verbose=0)\n",
        "print(\"Accuracy: %.2f%%\" % (scores[1]*100))"
      ],
      "execution_count": 22,
      "outputs": [
        {
          "output_type": "stream",
          "text": [
            "Accuracy: 87.57%\n"
          ],
          "name": "stdout"
        }
      ]
    },
    {
      "metadata": {
        "id": "af45dlZ63pWX",
        "colab_type": "text"
      },
      "cell_type": "markdown",
      "source": [
        "### Model accuracy and loss plots"
      ]
    },
    {
      "metadata": {
        "id": "9bGDfec63pWX",
        "colab_type": "code",
        "colab": {
          "base_uri": "https://localhost:8080/",
          "height": 466
        },
        "outputId": "c7351328-d79d-4445-b9e8-d875679ebd78"
      },
      "cell_type": "code",
      "source": [
        "plot_model(augmented_model_details)"
      ],
      "execution_count": 23,
      "outputs": [
        {
          "output_type": "display_data",
          "data": {
            "text/plain": [
              "<matplotlib.figure.Figure at 0x7fe6c61fcd30>"
            ],
            "image/svg+xml": "<?xml version=\"1.0\" encoding=\"utf-8\" standalone=\"no\"?>\n<!DOCTYPE svg PUBLIC \"-//W3C//DTD SVG 1.1//EN\"\n  \"http://www.w3.org/Graphics/SVG/1.1/DTD/svg11.dtd\">\n<!-- Created with matplotlib (http://matplotlib.org/) -->\n<svg height=\"334pt\" version=\"1.1\" viewBox=\"0 0 887 334\" width=\"887pt\" xmlns=\"http://www.w3.org/2000/svg\" xmlns:xlink=\"http://www.w3.org/1999/xlink\">\n <defs>\n  <style type=\"text/css\">\n*{stroke-linecap:butt;stroke-linejoin:round;}\n  </style>\n </defs>\n <g id=\"figure_1\">\n  <g id=\"patch_1\">\n   <path d=\"M 0 334.143625 \nL 887.48625 334.143625 \nL 887.48625 0 \nL 0 0 \nz\n\" style=\"fill:#ffffff;\"/>\n  </g>\n  <g id=\"axes_1\">\n   <g id=\"patch_2\">\n    <path d=\"M 43.28625 295.4355 \nL 423.740795 295.4355 \nL 423.740795 23.6355 \nL 43.28625 23.6355 \nz\n\" style=\"fill:#e5e5e5;\"/>\n   </g>\n   <g id=\"matplotlib.axis_1\">\n    <g id=\"xtick_1\">\n     <g id=\"line2d_1\">\n      <path clip-path=\"url(#p98472115f3)\" d=\"M 59.712802 295.4355 \nL 59.712802 23.6355 \n\" style=\"fill:none;stroke:#ffffff;stroke-linecap:round;\"/>\n     </g>\n     <g id=\"line2d_2\"/>\n     <g id=\"text_1\">\n      <!-- 0 -->\n      <defs>\n       <path d=\"M 51.703125 34.421875 \nQ 51.703125 24.515625 49.828125 17.75 \nQ 47.953125 10.984375 44.703125 6.8125 \nQ 41.453125 2.640625 37.0625 0.828125 \nQ 32.671875 -0.984375 27.6875 -0.984375 \nQ 22.65625 -0.984375 18.3125 0.828125 \nQ 13.96875 2.640625 10.765625 6.78125 \nQ 7.5625 10.9375 5.734375 17.703125 \nQ 3.90625 24.46875 3.90625 34.421875 \nQ 3.90625 44.828125 5.734375 51.640625 \nQ 7.5625 58.453125 10.78125 62.5 \nQ 14.015625 66.546875 18.40625 68.1875 \nQ 22.796875 69.828125 27.984375 69.828125 \nQ 32.90625 69.828125 37.21875 68.1875 \nQ 41.546875 66.546875 44.765625 62.5 \nQ 48 58.453125 49.84375 51.640625 \nQ 51.703125 44.828125 51.703125 34.421875 \nz\nM 42.78125 34.421875 \nQ 42.78125 42.625 41.796875 48.0625 \nQ 40.828125 53.515625 38.921875 56.765625 \nQ 37.015625 60.015625 34.25 61.359375 \nQ 31.5 62.703125 27.984375 62.703125 \nQ 24.265625 62.703125 21.4375 61.328125 \nQ 18.609375 59.96875 16.671875 56.71875 \nQ 14.75 53.46875 13.765625 48.015625 \nQ 12.796875 42.578125 12.796875 34.421875 \nQ 12.796875 26.515625 13.796875 21.09375 \nQ 14.796875 15.671875 16.71875 12.375 \nQ 18.65625 9.078125 21.4375 7.640625 \nQ 24.21875 6.203125 27.78125 6.203125 \nQ 31.25 6.203125 34.03125 7.640625 \nQ 36.8125 9.078125 38.734375 12.375 \nQ 40.671875 15.671875 41.71875 21.09375 \nQ 42.78125 26.515625 42.78125 34.421875 \nz\n\" id=\"LiberationSans-30\"/>\n      </defs>\n      <g style=\"fill:#555555;\" transform=\"translate(56.932333 309.682375)scale(0.1 -0.1)\">\n       <use xlink:href=\"#LiberationSans-30\"/>\n      </g>\n     </g>\n    </g>\n    <g id=\"xtick_2\">\n     <g id=\"line2d_3\">\n      <path clip-path=\"url(#p98472115f3)\" d=\"M 103.054628 295.4355 \nL 103.054628 23.6355 \n\" style=\"fill:none;stroke:#ffffff;stroke-linecap:round;\"/>\n     </g>\n     <g id=\"line2d_4\"/>\n     <g id=\"text_2\">\n      <!-- 50 -->\n      <defs>\n       <path d=\"M 51.421875 22.40625 \nQ 51.421875 17.234375 49.859375 12.9375 \nQ 48.296875 8.640625 45.21875 5.53125 \nQ 42.140625 2.4375 37.578125 0.71875 \nQ 33.015625 -0.984375 27 -0.984375 \nQ 21.578125 -0.984375 17.546875 0.28125 \nQ 13.53125 1.5625 10.734375 3.78125 \nQ 7.953125 6 6.3125 8.984375 \nQ 4.6875 11.96875 4 15.375 \nL 12.890625 16.40625 \nQ 13.421875 14.453125 14.390625 12.625 \nQ 15.375 10.796875 17.0625 9.34375 \nQ 18.75 7.90625 21.21875 7.046875 \nQ 23.6875 6.203125 27.203125 6.203125 \nQ 30.609375 6.203125 33.390625 7.25 \nQ 36.1875 8.296875 38.15625 10.34375 \nQ 40.140625 12.40625 41.203125 15.375 \nQ 42.28125 18.359375 42.28125 22.21875 \nQ 42.28125 25.390625 41.25 28.046875 \nQ 40.234375 30.71875 38.328125 32.640625 \nQ 36.421875 34.578125 33.65625 35.640625 \nQ 30.90625 36.71875 27.390625 36.71875 \nQ 25.203125 36.71875 23.34375 36.328125 \nQ 21.484375 35.9375 19.890625 35.25 \nQ 18.3125 34.578125 17.015625 33.671875 \nQ 15.71875 32.765625 14.59375 31.78125 \nL 6 31.78125 \nL 8.296875 68.796875 \nL 47.40625 68.796875 \nL 47.40625 61.328125 \nL 16.3125 61.328125 \nL 14.984375 39.5 \nQ 17.328125 41.3125 20.84375 42.59375 \nQ 24.359375 43.890625 29.203125 43.890625 \nQ 34.328125 43.890625 38.421875 42.328125 \nQ 42.53125 40.765625 45.40625 37.90625 \nQ 48.296875 35.0625 49.859375 31.109375 \nQ 51.421875 27.15625 51.421875 22.40625 \nz\n\" id=\"LiberationSans-35\"/>\n      </defs>\n      <g style=\"fill:#555555;\" transform=\"translate(97.49369 309.682375)scale(0.1 -0.1)\">\n       <use xlink:href=\"#LiberationSans-35\"/>\n       <use x=\"55.615234\" xlink:href=\"#LiberationSans-30\"/>\n      </g>\n     </g>\n    </g>\n    <g id=\"xtick_3\">\n     <g id=\"line2d_5\">\n      <path clip-path=\"url(#p98472115f3)\" d=\"M 146.396453 295.4355 \nL 146.396453 23.6355 \n\" style=\"fill:none;stroke:#ffffff;stroke-linecap:round;\"/>\n     </g>\n     <g id=\"line2d_6\"/>\n     <g id=\"text_3\">\n      <!-- 100 -->\n      <defs>\n       <path d=\"M 7.625 0 \nL 7.625 7.46875 \nL 25.140625 7.46875 \nL 25.140625 60.40625 \nL 9.625 49.3125 \nL 9.625 57.625 \nL 25.875 68.796875 \nL 33.984375 68.796875 \nL 33.984375 7.46875 \nL 50.734375 7.46875 \nL 50.734375 0 \nz\n\" id=\"LiberationSans-31\"/>\n      </defs>\n      <g style=\"fill:#555555;\" transform=\"translate(138.055047 309.682375)scale(0.1 -0.1)\">\n       <use xlink:href=\"#LiberationSans-31\"/>\n       <use x=\"55.615234\" xlink:href=\"#LiberationSans-30\"/>\n       <use x=\"111.230469\" xlink:href=\"#LiberationSans-30\"/>\n      </g>\n     </g>\n    </g>\n    <g id=\"xtick_4\">\n     <g id=\"line2d_7\">\n      <path clip-path=\"url(#p98472115f3)\" d=\"M 189.738279 295.4355 \nL 189.738279 23.6355 \n\" style=\"fill:none;stroke:#ffffff;stroke-linecap:round;\"/>\n     </g>\n     <g id=\"line2d_8\"/>\n     <g id=\"text_4\">\n      <!-- 150 -->\n      <g style=\"fill:#555555;\" transform=\"translate(181.396873 309.682375)scale(0.1 -0.1)\">\n       <use xlink:href=\"#LiberationSans-31\"/>\n       <use x=\"55.615234\" xlink:href=\"#LiberationSans-35\"/>\n       <use x=\"111.230469\" xlink:href=\"#LiberationSans-30\"/>\n      </g>\n     </g>\n    </g>\n    <g id=\"xtick_5\">\n     <g id=\"line2d_9\">\n      <path clip-path=\"url(#p98472115f3)\" d=\"M 233.080104 295.4355 \nL 233.080104 23.6355 \n\" style=\"fill:none;stroke:#ffffff;stroke-linecap:round;\"/>\n     </g>\n     <g id=\"line2d_10\"/>\n     <g id=\"text_5\">\n      <!-- 200 -->\n      <defs>\n       <path d=\"M 5.03125 0 \nL 5.03125 6.203125 \nQ 7.515625 11.921875 11.109375 16.28125 \nQ 14.703125 20.65625 18.65625 24.1875 \nQ 22.609375 27.734375 26.484375 30.765625 \nQ 30.375 33.796875 33.5 36.8125 \nQ 36.625 39.84375 38.546875 43.15625 \nQ 40.484375 46.484375 40.484375 50.6875 \nQ 40.484375 53.609375 39.59375 55.828125 \nQ 38.71875 58.0625 37.0625 59.5625 \nQ 35.40625 61.078125 33.078125 61.828125 \nQ 30.765625 62.59375 27.9375 62.59375 \nQ 25.296875 62.59375 22.96875 61.859375 \nQ 20.65625 61.140625 18.84375 59.671875 \nQ 17.046875 58.203125 15.890625 56.03125 \nQ 14.75 53.859375 14.40625 50.984375 \nL 5.421875 51.8125 \nQ 5.859375 55.515625 7.46875 58.78125 \nQ 9.078125 62.0625 11.90625 64.53125 \nQ 14.75 67 18.71875 68.40625 \nQ 22.703125 69.828125 27.9375 69.828125 \nQ 33.0625 69.828125 37.0625 68.609375 \nQ 41.0625 67.390625 43.8125 64.984375 \nQ 46.578125 62.59375 48.046875 59.078125 \nQ 49.515625 55.5625 49.515625 50.984375 \nQ 49.515625 47.515625 48.265625 44.390625 \nQ 47.015625 41.265625 44.9375 38.421875 \nQ 42.875 35.59375 40.140625 32.953125 \nQ 37.40625 30.328125 34.421875 27.8125 \nQ 31.453125 25.296875 28.421875 22.828125 \nQ 25.390625 20.359375 22.71875 17.859375 \nQ 20.0625 15.375 17.96875 12.8125 \nQ 15.875 10.25 14.703125 7.46875 \nL 50.59375 7.46875 \nL 50.59375 0 \nz\n\" id=\"LiberationSans-32\"/>\n      </defs>\n      <g style=\"fill:#555555;\" transform=\"translate(224.738698 309.682375)scale(0.1 -0.1)\">\n       <use xlink:href=\"#LiberationSans-32\"/>\n       <use x=\"55.615234\" xlink:href=\"#LiberationSans-30\"/>\n       <use x=\"111.230469\" xlink:href=\"#LiberationSans-30\"/>\n      </g>\n     </g>\n    </g>\n    <g id=\"xtick_6\">\n     <g id=\"line2d_11\">\n      <path clip-path=\"url(#p98472115f3)\" d=\"M 276.42193 295.4355 \nL 276.42193 23.6355 \n\" style=\"fill:none;stroke:#ffffff;stroke-linecap:round;\"/>\n     </g>\n     <g id=\"line2d_12\"/>\n     <g id=\"text_6\">\n      <!-- 250 -->\n      <g style=\"fill:#555555;\" transform=\"translate(268.080524 309.682375)scale(0.1 -0.1)\">\n       <use xlink:href=\"#LiberationSans-32\"/>\n       <use x=\"55.615234\" xlink:href=\"#LiberationSans-35\"/>\n       <use x=\"111.230469\" xlink:href=\"#LiberationSans-30\"/>\n      </g>\n     </g>\n    </g>\n    <g id=\"xtick_7\">\n     <g id=\"line2d_13\">\n      <path clip-path=\"url(#p98472115f3)\" d=\"M 319.763756 295.4355 \nL 319.763756 23.6355 \n\" style=\"fill:none;stroke:#ffffff;stroke-linecap:round;\"/>\n     </g>\n     <g id=\"line2d_14\"/>\n     <g id=\"text_7\">\n      <!-- 300 -->\n      <defs>\n       <path d=\"M 51.21875 19 \nQ 51.21875 14.265625 49.671875 10.546875 \nQ 48.140625 6.84375 45.1875 4.265625 \nQ 42.234375 1.703125 37.859375 0.359375 \nQ 33.5 -0.984375 27.875 -0.984375 \nQ 21.484375 -0.984375 17.109375 0.609375 \nQ 12.75 2.203125 9.90625 4.8125 \nQ 7.078125 7.421875 5.65625 10.765625 \nQ 4.25 14.109375 3.8125 17.671875 \nL 12.890625 18.5 \nQ 13.28125 15.765625 14.328125 13.515625 \nQ 15.375 11.28125 17.1875 9.671875 \nQ 19 8.0625 21.625 7.171875 \nQ 24.265625 6.296875 27.875 6.296875 \nQ 34.515625 6.296875 38.296875 9.5625 \nQ 42.09375 12.84375 42.09375 19.28125 \nQ 42.09375 23.09375 40.40625 25.40625 \nQ 38.71875 27.734375 36.203125 29.03125 \nQ 33.6875 30.328125 30.734375 30.765625 \nQ 27.78125 31.203125 25.296875 31.203125 \nL 20.3125 31.203125 \nL 20.3125 38.8125 \nL 25.09375 38.8125 \nQ 27.59375 38.8125 30.265625 39.328125 \nQ 32.953125 39.84375 35.171875 41.1875 \nQ 37.40625 42.53125 38.84375 44.828125 \nQ 40.28125 47.125 40.28125 50.6875 \nQ 40.28125 56.203125 37.03125 59.390625 \nQ 33.796875 62.59375 27.390625 62.59375 \nQ 21.578125 62.59375 17.984375 59.609375 \nQ 14.40625 56.640625 13.8125 51.21875 \nL 4.984375 51.90625 \nQ 5.515625 56.453125 7.46875 59.8125 \nQ 9.421875 63.1875 12.421875 65.40625 \nQ 15.4375 67.625 19.28125 68.71875 \nQ 23.140625 69.828125 27.484375 69.828125 \nQ 33.25 69.828125 37.390625 68.375 \nQ 41.546875 66.9375 44.1875 64.46875 \nQ 46.828125 62.015625 48.0625 58.6875 \nQ 49.3125 55.375 49.3125 51.609375 \nQ 49.3125 48.578125 48.484375 45.9375 \nQ 47.65625 43.3125 45.890625 41.203125 \nQ 44.140625 39.109375 41.421875 37.59375 \nQ 38.71875 36.078125 34.90625 35.296875 \nL 34.90625 35.109375 \nQ 39.0625 34.671875 42.140625 33.21875 \nQ 45.21875 31.78125 47.21875 29.625 \nQ 49.21875 27.484375 50.21875 24.75 \nQ 51.21875 22.015625 51.21875 19 \nz\n\" id=\"LiberationSans-33\"/>\n      </defs>\n      <g style=\"fill:#555555;\" transform=\"translate(311.422349 309.682375)scale(0.1 -0.1)\">\n       <use xlink:href=\"#LiberationSans-33\"/>\n       <use x=\"55.615234\" xlink:href=\"#LiberationSans-30\"/>\n       <use x=\"111.230469\" xlink:href=\"#LiberationSans-30\"/>\n      </g>\n     </g>\n    </g>\n    <g id=\"xtick_8\">\n     <g id=\"line2d_15\">\n      <path clip-path=\"url(#p98472115f3)\" d=\"M 363.105581 295.4355 \nL 363.105581 23.6355 \n\" style=\"fill:none;stroke:#ffffff;stroke-linecap:round;\"/>\n     </g>\n     <g id=\"line2d_16\"/>\n     <g id=\"text_8\">\n      <!-- 350 -->\n      <g style=\"fill:#555555;\" transform=\"translate(354.764175 309.682375)scale(0.1 -0.1)\">\n       <use xlink:href=\"#LiberationSans-33\"/>\n       <use x=\"55.615234\" xlink:href=\"#LiberationSans-35\"/>\n       <use x=\"111.230469\" xlink:href=\"#LiberationSans-30\"/>\n      </g>\n     </g>\n    </g>\n    <g id=\"xtick_9\">\n     <g id=\"line2d_17\">\n      <path clip-path=\"url(#p98472115f3)\" d=\"M 406.447407 295.4355 \nL 406.447407 23.6355 \n\" style=\"fill:none;stroke:#ffffff;stroke-linecap:round;\"/>\n     </g>\n     <g id=\"line2d_18\"/>\n     <g id=\"text_9\">\n      <!-- 400 -->\n      <defs>\n       <path d=\"M 43.015625 15.578125 \nL 43.015625 0 \nL 34.71875 0 \nL 34.71875 15.578125 \nL 2.296875 15.578125 \nL 2.296875 22.40625 \nL 33.796875 68.796875 \nL 43.015625 68.796875 \nL 43.015625 22.515625 \nL 52.6875 22.515625 \nL 52.6875 15.578125 \nz\nM 34.71875 58.890625 \nQ 34.625 58.640625 34.234375 57.9375 \nQ 33.84375 57.234375 33.34375 56.34375 \nQ 32.859375 55.46875 32.34375 54.5625 \nQ 31.84375 53.65625 31.453125 53.078125 \nL 13.8125 27.09375 \nQ 13.578125 26.703125 13.109375 26.0625 \nQ 12.640625 25.4375 12.15625 24.78125 \nQ 11.671875 24.125 11.171875 23.484375 \nQ 10.6875 22.859375 10.40625 22.515625 \nL 34.71875 22.515625 \nz\n\" id=\"LiberationSans-34\"/>\n      </defs>\n      <g style=\"fill:#555555;\" transform=\"translate(398.106001 309.682375)scale(0.1 -0.1)\">\n       <use xlink:href=\"#LiberationSans-34\"/>\n       <use x=\"55.615234\" xlink:href=\"#LiberationSans-30\"/>\n       <use x=\"111.230469\" xlink:href=\"#LiberationSans-30\"/>\n      </g>\n     </g>\n    </g>\n    <g id=\"xtick_10\">\n     <g id=\"line2d_19\"/>\n    </g>\n    <g id=\"xtick_11\">\n     <g id=\"line2d_20\"/>\n    </g>\n    <g id=\"xtick_12\">\n     <g id=\"line2d_21\"/>\n    </g>\n    <g id=\"xtick_13\">\n     <g id=\"line2d_22\"/>\n    </g>\n    <g id=\"xtick_14\">\n     <g id=\"line2d_23\"/>\n    </g>\n    <g id=\"xtick_15\">\n     <g id=\"line2d_24\"/>\n    </g>\n    <g id=\"xtick_16\">\n     <g id=\"line2d_25\"/>\n    </g>\n    <g id=\"xtick_17\">\n     <g id=\"line2d_26\"/>\n    </g>\n    <g id=\"xtick_18\">\n     <g id=\"line2d_27\"/>\n    </g>\n    <g id=\"xtick_19\">\n     <g id=\"line2d_28\"/>\n    </g>\n    <g id=\"xtick_20\">\n     <g id=\"line2d_29\"/>\n    </g>\n    <g id=\"xtick_21\">\n     <g id=\"line2d_30\"/>\n    </g>\n    <g id=\"xtick_22\">\n     <g id=\"line2d_31\"/>\n    </g>\n    <g id=\"xtick_23\">\n     <g id=\"line2d_32\"/>\n    </g>\n    <g id=\"xtick_24\">\n     <g id=\"line2d_33\"/>\n    </g>\n    <g id=\"xtick_25\">\n     <g id=\"line2d_34\"/>\n    </g>\n    <g id=\"xtick_26\">\n     <g id=\"line2d_35\"/>\n    </g>\n    <g id=\"xtick_27\">\n     <g id=\"line2d_36\"/>\n    </g>\n    <g id=\"xtick_28\">\n     <g id=\"line2d_37\"/>\n    </g>\n    <g id=\"xtick_29\">\n     <g id=\"line2d_38\"/>\n    </g>\n    <g id=\"xtick_30\">\n     <g id=\"line2d_39\"/>\n    </g>\n    <g id=\"xtick_31\">\n     <g id=\"line2d_40\"/>\n    </g>\n    <g id=\"xtick_32\">\n     <g id=\"line2d_41\"/>\n    </g>\n    <g id=\"xtick_33\">\n     <g id=\"line2d_42\"/>\n    </g>\n    <g id=\"xtick_34\">\n     <g id=\"line2d_43\"/>\n    </g>\n    <g id=\"xtick_35\">\n     <g id=\"line2d_44\"/>\n    </g>\n    <g id=\"xtick_36\">\n     <g id=\"line2d_45\"/>\n    </g>\n    <g id=\"xtick_37\">\n     <g id=\"line2d_46\"/>\n    </g>\n    <g id=\"xtick_38\">\n     <g id=\"line2d_47\"/>\n    </g>\n    <g id=\"xtick_39\">\n     <g id=\"line2d_48\"/>\n    </g>\n    <g id=\"xtick_40\">\n     <g id=\"line2d_49\"/>\n    </g>\n    <g id=\"xtick_41\">\n     <g id=\"line2d_50\"/>\n    </g>\n    <g id=\"xtick_42\">\n     <g id=\"line2d_51\"/>\n    </g>\n    <g id=\"xtick_43\">\n     <g id=\"line2d_52\"/>\n    </g>\n    <g id=\"xtick_44\">\n     <g id=\"line2d_53\"/>\n    </g>\n    <g id=\"xtick_45\">\n     <g id=\"line2d_54\"/>\n    </g>\n    <g id=\"xtick_46\">\n     <g id=\"line2d_55\"/>\n    </g>\n    <g id=\"xtick_47\">\n     <g id=\"line2d_56\"/>\n    </g>\n    <g id=\"xtick_48\">\n     <g id=\"line2d_57\"/>\n    </g>\n    <g id=\"xtick_49\">\n     <g id=\"line2d_58\"/>\n    </g>\n    <g id=\"xtick_50\">\n     <g id=\"line2d_59\"/>\n    </g>\n    <g id=\"xtick_51\">\n     <g id=\"line2d_60\"/>\n    </g>\n    <g id=\"xtick_52\">\n     <g id=\"line2d_61\"/>\n    </g>\n    <g id=\"xtick_53\">\n     <g id=\"line2d_62\"/>\n    </g>\n    <g id=\"xtick_54\">\n     <g id=\"line2d_63\"/>\n    </g>\n    <g id=\"xtick_55\">\n     <g id=\"line2d_64\"/>\n    </g>\n    <g id=\"xtick_56\">\n     <g id=\"line2d_65\"/>\n    </g>\n    <g id=\"xtick_57\">\n     <g id=\"line2d_66\"/>\n    </g>\n    <g id=\"xtick_58\">\n     <g id=\"line2d_67\"/>\n    </g>\n    <g id=\"xtick_59\">\n     <g id=\"line2d_68\"/>\n    </g>\n    <g id=\"xtick_60\">\n     <g id=\"line2d_69\"/>\n    </g>\n    <g id=\"xtick_61\">\n     <g id=\"line2d_70\"/>\n    </g>\n    <g id=\"xtick_62\">\n     <g id=\"line2d_71\"/>\n    </g>\n    <g id=\"xtick_63\">\n     <g id=\"line2d_72\"/>\n    </g>\n    <g id=\"xtick_64\">\n     <g id=\"line2d_73\"/>\n    </g>\n    <g id=\"xtick_65\">\n     <g id=\"line2d_74\"/>\n    </g>\n    <g id=\"xtick_66\">\n     <g id=\"line2d_75\"/>\n    </g>\n    <g id=\"xtick_67\">\n     <g id=\"line2d_76\"/>\n    </g>\n    <g id=\"xtick_68\">\n     <g id=\"line2d_77\"/>\n    </g>\n    <g id=\"xtick_69\">\n     <g id=\"line2d_78\"/>\n    </g>\n    <g id=\"xtick_70\">\n     <g id=\"line2d_79\"/>\n    </g>\n    <g id=\"xtick_71\">\n     <g id=\"line2d_80\"/>\n    </g>\n    <g id=\"xtick_72\">\n     <g id=\"line2d_81\"/>\n    </g>\n    <g id=\"xtick_73\">\n     <g id=\"line2d_82\"/>\n    </g>\n    <g id=\"xtick_74\">\n     <g id=\"line2d_83\"/>\n    </g>\n    <g id=\"xtick_75\">\n     <g id=\"line2d_84\"/>\n    </g>\n    <g id=\"xtick_76\">\n     <g id=\"line2d_85\"/>\n    </g>\n    <g id=\"xtick_77\">\n     <g id=\"line2d_86\"/>\n    </g>\n    <g id=\"xtick_78\">\n     <g id=\"line2d_87\"/>\n    </g>\n    <g id=\"xtick_79\">\n     <g id=\"line2d_88\"/>\n    </g>\n    <g id=\"xtick_80\">\n     <g id=\"line2d_89\"/>\n    </g>\n    <g id=\"xtick_81\">\n     <g id=\"line2d_90\"/>\n    </g>\n    <g id=\"xtick_82\">\n     <g id=\"line2d_91\"/>\n    </g>\n    <g id=\"xtick_83\">\n     <g id=\"line2d_92\"/>\n    </g>\n    <g id=\"xtick_84\">\n     <g id=\"line2d_93\"/>\n    </g>\n    <g id=\"xtick_85\">\n     <g id=\"line2d_94\"/>\n    </g>\n    <g id=\"xtick_86\">\n     <g id=\"line2d_95\"/>\n    </g>\n    <g id=\"xtick_87\">\n     <g id=\"line2d_96\"/>\n    </g>\n    <g id=\"xtick_88\">\n     <g id=\"line2d_97\"/>\n    </g>\n    <g id=\"xtick_89\">\n     <g id=\"line2d_98\"/>\n    </g>\n    <g id=\"xtick_90\">\n     <g id=\"line2d_99\"/>\n    </g>\n    <g id=\"xtick_91\">\n     <g id=\"line2d_100\"/>\n    </g>\n    <g id=\"xtick_92\">\n     <g id=\"line2d_101\"/>\n    </g>\n    <g id=\"xtick_93\">\n     <g id=\"line2d_102\"/>\n    </g>\n    <g id=\"xtick_94\">\n     <g id=\"line2d_103\"/>\n    </g>\n    <g id=\"xtick_95\">\n     <g id=\"line2d_104\"/>\n    </g>\n    <g id=\"xtick_96\">\n     <g id=\"line2d_105\"/>\n    </g>\n    <g id=\"xtick_97\">\n     <g id=\"line2d_106\"/>\n    </g>\n    <g id=\"xtick_98\">\n     <g id=\"line2d_107\"/>\n    </g>\n    <g id=\"xtick_99\">\n     <g id=\"line2d_108\"/>\n    </g>\n    <g id=\"xtick_100\">\n     <g id=\"line2d_109\"/>\n    </g>\n    <g id=\"xtick_101\">\n     <g id=\"line2d_110\"/>\n    </g>\n    <g id=\"xtick_102\">\n     <g id=\"line2d_111\"/>\n    </g>\n    <g id=\"xtick_103\">\n     <g id=\"line2d_112\"/>\n    </g>\n    <g id=\"xtick_104\">\n     <g id=\"line2d_113\"/>\n    </g>\n    <g id=\"xtick_105\">\n     <g id=\"line2d_114\"/>\n    </g>\n    <g id=\"xtick_106\">\n     <g id=\"line2d_115\"/>\n    </g>\n    <g id=\"xtick_107\">\n     <g id=\"line2d_116\"/>\n    </g>\n    <g id=\"xtick_108\">\n     <g id=\"line2d_117\"/>\n    </g>\n    <g id=\"xtick_109\">\n     <g id=\"line2d_118\"/>\n    </g>\n    <g id=\"xtick_110\">\n     <g id=\"line2d_119\"/>\n    </g>\n    <g id=\"xtick_111\">\n     <g id=\"line2d_120\"/>\n    </g>\n    <g id=\"xtick_112\">\n     <g id=\"line2d_121\"/>\n    </g>\n    <g id=\"xtick_113\">\n     <g id=\"line2d_122\"/>\n    </g>\n    <g id=\"xtick_114\">\n     <g id=\"line2d_123\"/>\n    </g>\n    <g id=\"xtick_115\">\n     <g id=\"line2d_124\"/>\n    </g>\n    <g id=\"xtick_116\">\n     <g id=\"line2d_125\"/>\n    </g>\n    <g id=\"xtick_117\">\n     <g id=\"line2d_126\"/>\n    </g>\n    <g id=\"xtick_118\">\n     <g id=\"line2d_127\"/>\n    </g>\n    <g id=\"xtick_119\">\n     <g id=\"line2d_128\"/>\n    </g>\n    <g id=\"xtick_120\">\n     <g id=\"line2d_129\"/>\n    </g>\n    <g id=\"xtick_121\">\n     <g id=\"line2d_130\"/>\n    </g>\n    <g id=\"xtick_122\">\n     <g id=\"line2d_131\"/>\n    </g>\n    <g id=\"xtick_123\">\n     <g id=\"line2d_132\"/>\n    </g>\n    <g id=\"xtick_124\">\n     <g id=\"line2d_133\"/>\n    </g>\n    <g id=\"xtick_125\">\n     <g id=\"line2d_134\"/>\n    </g>\n    <g id=\"xtick_126\">\n     <g id=\"line2d_135\"/>\n    </g>\n    <g id=\"xtick_127\">\n     <g id=\"line2d_136\"/>\n    </g>\n    <g id=\"xtick_128\">\n     <g id=\"line2d_137\"/>\n    </g>\n    <g id=\"xtick_129\">\n     <g id=\"line2d_138\"/>\n    </g>\n    <g id=\"xtick_130\">\n     <g id=\"line2d_139\"/>\n    </g>\n    <g id=\"xtick_131\">\n     <g id=\"line2d_140\"/>\n    </g>\n    <g id=\"xtick_132\">\n     <g id=\"line2d_141\"/>\n    </g>\n    <g id=\"xtick_133\">\n     <g id=\"line2d_142\"/>\n    </g>\n    <g id=\"xtick_134\">\n     <g id=\"line2d_143\"/>\n    </g>\n    <g id=\"xtick_135\">\n     <g id=\"line2d_144\"/>\n    </g>\n    <g id=\"xtick_136\">\n     <g id=\"line2d_145\"/>\n    </g>\n    <g id=\"xtick_137\">\n     <g id=\"line2d_146\"/>\n    </g>\n    <g id=\"xtick_138\">\n     <g id=\"line2d_147\"/>\n    </g>\n    <g id=\"xtick_139\">\n     <g id=\"line2d_148\"/>\n    </g>\n    <g id=\"xtick_140\">\n     <g id=\"line2d_149\"/>\n    </g>\n    <g id=\"xtick_141\">\n     <g id=\"line2d_150\"/>\n    </g>\n    <g id=\"xtick_142\">\n     <g id=\"line2d_151\"/>\n    </g>\n    <g id=\"xtick_143\">\n     <g id=\"line2d_152\"/>\n    </g>\n    <g id=\"xtick_144\">\n     <g id=\"line2d_153\"/>\n    </g>\n    <g id=\"xtick_145\">\n     <g id=\"line2d_154\"/>\n    </g>\n    <g id=\"xtick_146\">\n     <g id=\"line2d_155\"/>\n    </g>\n    <g id=\"xtick_147\">\n     <g id=\"line2d_156\"/>\n    </g>\n    <g id=\"xtick_148\">\n     <g id=\"line2d_157\"/>\n    </g>\n    <g id=\"xtick_149\">\n     <g id=\"line2d_158\"/>\n    </g>\n    <g id=\"xtick_150\">\n     <g id=\"line2d_159\"/>\n    </g>\n    <g id=\"xtick_151\">\n     <g id=\"line2d_160\"/>\n    </g>\n    <g id=\"xtick_152\">\n     <g id=\"line2d_161\"/>\n    </g>\n    <g id=\"xtick_153\">\n     <g id=\"line2d_162\"/>\n    </g>\n    <g id=\"xtick_154\">\n     <g id=\"line2d_163\"/>\n    </g>\n    <g id=\"xtick_155\">\n     <g id=\"line2d_164\"/>\n    </g>\n    <g id=\"xtick_156\">\n     <g id=\"line2d_165\"/>\n    </g>\n    <g id=\"xtick_157\">\n     <g id=\"line2d_166\"/>\n    </g>\n    <g id=\"xtick_158\">\n     <g id=\"line2d_167\"/>\n    </g>\n    <g id=\"xtick_159\">\n     <g id=\"line2d_168\"/>\n    </g>\n    <g id=\"xtick_160\">\n     <g id=\"line2d_169\"/>\n    </g>\n    <g id=\"xtick_161\">\n     <g id=\"line2d_170\"/>\n    </g>\n    <g id=\"xtick_162\">\n     <g id=\"line2d_171\"/>\n    </g>\n    <g id=\"xtick_163\">\n     <g id=\"line2d_172\"/>\n    </g>\n    <g id=\"xtick_164\">\n     <g id=\"line2d_173\"/>\n    </g>\n    <g id=\"xtick_165\">\n     <g id=\"line2d_174\"/>\n    </g>\n    <g id=\"xtick_166\">\n     <g id=\"line2d_175\"/>\n    </g>\n    <g id=\"xtick_167\">\n     <g id=\"line2d_176\"/>\n    </g>\n    <g id=\"xtick_168\">\n     <g id=\"line2d_177\"/>\n    </g>\n    <g id=\"xtick_169\">\n     <g id=\"line2d_178\"/>\n    </g>\n    <g id=\"xtick_170\">\n     <g id=\"line2d_179\"/>\n    </g>\n    <g id=\"xtick_171\">\n     <g id=\"line2d_180\"/>\n    </g>\n    <g id=\"xtick_172\">\n     <g id=\"line2d_181\"/>\n    </g>\n    <g id=\"xtick_173\">\n     <g id=\"line2d_182\"/>\n    </g>\n    <g id=\"xtick_174\">\n     <g id=\"line2d_183\"/>\n    </g>\n    <g id=\"xtick_175\">\n     <g id=\"line2d_184\"/>\n    </g>\n    <g id=\"xtick_176\">\n     <g id=\"line2d_185\"/>\n    </g>\n    <g id=\"xtick_177\">\n     <g id=\"line2d_186\"/>\n    </g>\n    <g id=\"xtick_178\">\n     <g id=\"line2d_187\"/>\n    </g>\n    <g id=\"xtick_179\">\n     <g id=\"line2d_188\"/>\n    </g>\n    <g id=\"xtick_180\">\n     <g id=\"line2d_189\"/>\n    </g>\n    <g id=\"xtick_181\">\n     <g id=\"line2d_190\"/>\n    </g>\n    <g id=\"xtick_182\">\n     <g id=\"line2d_191\"/>\n    </g>\n    <g id=\"xtick_183\">\n     <g id=\"line2d_192\"/>\n    </g>\n    <g id=\"xtick_184\">\n     <g id=\"line2d_193\"/>\n    </g>\n    <g id=\"xtick_185\">\n     <g id=\"line2d_194\"/>\n    </g>\n    <g id=\"xtick_186\">\n     <g id=\"line2d_195\"/>\n    </g>\n    <g id=\"xtick_187\">\n     <g id=\"line2d_196\"/>\n    </g>\n    <g id=\"xtick_188\">\n     <g id=\"line2d_197\"/>\n    </g>\n    <g id=\"xtick_189\">\n     <g id=\"line2d_198\"/>\n    </g>\n    <g id=\"xtick_190\">\n     <g id=\"line2d_199\"/>\n    </g>\n    <g id=\"xtick_191\">\n     <g id=\"line2d_200\"/>\n    </g>\n    <g id=\"xtick_192\">\n     <g id=\"line2d_201\"/>\n    </g>\n    <g id=\"xtick_193\">\n     <g id=\"line2d_202\"/>\n    </g>\n    <g id=\"xtick_194\">\n     <g id=\"line2d_203\"/>\n    </g>\n    <g id=\"xtick_195\">\n     <g id=\"line2d_204\"/>\n    </g>\n    <g id=\"xtick_196\">\n     <g id=\"line2d_205\"/>\n    </g>\n    <g id=\"xtick_197\">\n     <g id=\"line2d_206\"/>\n    </g>\n    <g id=\"xtick_198\">\n     <g id=\"line2d_207\"/>\n    </g>\n    <g id=\"xtick_199\">\n     <g id=\"line2d_208\"/>\n    </g>\n    <g id=\"xtick_200\">\n     <g id=\"line2d_209\"/>\n    </g>\n    <g id=\"xtick_201\">\n     <g id=\"line2d_210\"/>\n    </g>\n    <g id=\"xtick_202\">\n     <g id=\"line2d_211\"/>\n    </g>\n    <g id=\"xtick_203\">\n     <g id=\"line2d_212\"/>\n    </g>\n    <g id=\"xtick_204\">\n     <g id=\"line2d_213\"/>\n    </g>\n    <g id=\"xtick_205\">\n     <g id=\"line2d_214\"/>\n    </g>\n    <g id=\"xtick_206\">\n     <g id=\"line2d_215\"/>\n    </g>\n    <g id=\"xtick_207\">\n     <g id=\"line2d_216\"/>\n    </g>\n    <g id=\"xtick_208\">\n     <g id=\"line2d_217\"/>\n    </g>\n    <g id=\"xtick_209\">\n     <g id=\"line2d_218\"/>\n    </g>\n    <g id=\"xtick_210\">\n     <g id=\"line2d_219\"/>\n    </g>\n    <g id=\"xtick_211\">\n     <g id=\"line2d_220\"/>\n    </g>\n    <g id=\"xtick_212\">\n     <g id=\"line2d_221\"/>\n    </g>\n    <g id=\"xtick_213\">\n     <g id=\"line2d_222\"/>\n    </g>\n    <g id=\"xtick_214\">\n     <g id=\"line2d_223\"/>\n    </g>\n    <g id=\"xtick_215\">\n     <g id=\"line2d_224\"/>\n    </g>\n    <g id=\"xtick_216\">\n     <g id=\"line2d_225\"/>\n    </g>\n    <g id=\"xtick_217\">\n     <g id=\"line2d_226\"/>\n    </g>\n    <g id=\"xtick_218\">\n     <g id=\"line2d_227\"/>\n    </g>\n    <g id=\"xtick_219\">\n     <g id=\"line2d_228\"/>\n    </g>\n    <g id=\"xtick_220\">\n     <g id=\"line2d_229\"/>\n    </g>\n    <g id=\"xtick_221\">\n     <g id=\"line2d_230\"/>\n    </g>\n    <g id=\"xtick_222\">\n     <g id=\"line2d_231\"/>\n    </g>\n    <g id=\"xtick_223\">\n     <g id=\"line2d_232\"/>\n    </g>\n    <g id=\"xtick_224\">\n     <g id=\"line2d_233\"/>\n    </g>\n    <g id=\"xtick_225\">\n     <g id=\"line2d_234\"/>\n    </g>\n    <g id=\"xtick_226\">\n     <g id=\"line2d_235\"/>\n    </g>\n    <g id=\"xtick_227\">\n     <g id=\"line2d_236\"/>\n    </g>\n    <g id=\"xtick_228\">\n     <g id=\"line2d_237\"/>\n    </g>\n    <g id=\"xtick_229\">\n     <g id=\"line2d_238\"/>\n    </g>\n    <g id=\"xtick_230\">\n     <g id=\"line2d_239\"/>\n    </g>\n    <g id=\"xtick_231\">\n     <g id=\"line2d_240\"/>\n    </g>\n    <g id=\"xtick_232\">\n     <g id=\"line2d_241\"/>\n    </g>\n    <g id=\"xtick_233\">\n     <g id=\"line2d_242\"/>\n    </g>\n    <g id=\"xtick_234\">\n     <g id=\"line2d_243\"/>\n    </g>\n    <g id=\"xtick_235\">\n     <g id=\"line2d_244\"/>\n    </g>\n    <g id=\"xtick_236\">\n     <g id=\"line2d_245\"/>\n    </g>\n    <g id=\"xtick_237\">\n     <g id=\"line2d_246\"/>\n    </g>\n    <g id=\"xtick_238\">\n     <g id=\"line2d_247\"/>\n    </g>\n    <g id=\"xtick_239\">\n     <g id=\"line2d_248\"/>\n    </g>\n    <g id=\"xtick_240\">\n     <g id=\"line2d_249\"/>\n    </g>\n    <g id=\"xtick_241\">\n     <g id=\"line2d_250\"/>\n    </g>\n    <g id=\"xtick_242\">\n     <g id=\"line2d_251\"/>\n    </g>\n    <g id=\"xtick_243\">\n     <g id=\"line2d_252\"/>\n    </g>\n    <g id=\"xtick_244\">\n     <g id=\"line2d_253\"/>\n    </g>\n    <g id=\"xtick_245\">\n     <g id=\"line2d_254\"/>\n    </g>\n    <g id=\"xtick_246\">\n     <g id=\"line2d_255\"/>\n    </g>\n    <g id=\"xtick_247\">\n     <g id=\"line2d_256\"/>\n    </g>\n    <g id=\"xtick_248\">\n     <g id=\"line2d_257\"/>\n    </g>\n    <g id=\"xtick_249\">\n     <g id=\"line2d_258\"/>\n    </g>\n    <g id=\"xtick_250\">\n     <g id=\"line2d_259\"/>\n    </g>\n    <g id=\"xtick_251\">\n     <g id=\"line2d_260\"/>\n    </g>\n    <g id=\"xtick_252\">\n     <g id=\"line2d_261\"/>\n    </g>\n    <g id=\"xtick_253\">\n     <g id=\"line2d_262\"/>\n    </g>\n    <g id=\"xtick_254\">\n     <g id=\"line2d_263\"/>\n    </g>\n    <g id=\"xtick_255\">\n     <g id=\"line2d_264\"/>\n    </g>\n    <g id=\"xtick_256\">\n     <g id=\"line2d_265\"/>\n    </g>\n    <g id=\"xtick_257\">\n     <g id=\"line2d_266\"/>\n    </g>\n    <g id=\"xtick_258\">\n     <g id=\"line2d_267\"/>\n    </g>\n    <g id=\"xtick_259\">\n     <g id=\"line2d_268\"/>\n    </g>\n    <g id=\"xtick_260\">\n     <g id=\"line2d_269\"/>\n    </g>\n    <g id=\"xtick_261\">\n     <g id=\"line2d_270\"/>\n    </g>\n    <g id=\"xtick_262\">\n     <g id=\"line2d_271\"/>\n    </g>\n    <g id=\"xtick_263\">\n     <g id=\"line2d_272\"/>\n    </g>\n    <g id=\"xtick_264\">\n     <g id=\"line2d_273\"/>\n    </g>\n    <g id=\"xtick_265\">\n     <g id=\"line2d_274\"/>\n    </g>\n    <g id=\"xtick_266\">\n     <g id=\"line2d_275\"/>\n    </g>\n    <g id=\"xtick_267\">\n     <g id=\"line2d_276\"/>\n    </g>\n    <g id=\"xtick_268\">\n     <g id=\"line2d_277\"/>\n    </g>\n    <g id=\"xtick_269\">\n     <g id=\"line2d_278\"/>\n    </g>\n    <g id=\"xtick_270\">\n     <g id=\"line2d_279\"/>\n    </g>\n    <g id=\"xtick_271\">\n     <g id=\"line2d_280\"/>\n    </g>\n    <g id=\"xtick_272\">\n     <g id=\"line2d_281\"/>\n    </g>\n    <g id=\"xtick_273\">\n     <g id=\"line2d_282\"/>\n    </g>\n    <g id=\"xtick_274\">\n     <g id=\"line2d_283\"/>\n    </g>\n    <g id=\"xtick_275\">\n     <g id=\"line2d_284\"/>\n    </g>\n    <g id=\"xtick_276\">\n     <g id=\"line2d_285\"/>\n    </g>\n    <g id=\"xtick_277\">\n     <g id=\"line2d_286\"/>\n    </g>\n    <g id=\"xtick_278\">\n     <g id=\"line2d_287\"/>\n    </g>\n    <g id=\"xtick_279\">\n     <g id=\"line2d_288\"/>\n    </g>\n    <g id=\"xtick_280\">\n     <g id=\"line2d_289\"/>\n    </g>\n    <g id=\"xtick_281\">\n     <g id=\"line2d_290\"/>\n    </g>\n    <g id=\"xtick_282\">\n     <g id=\"line2d_291\"/>\n    </g>\n    <g id=\"xtick_283\">\n     <g id=\"line2d_292\"/>\n    </g>\n    <g id=\"xtick_284\">\n     <g id=\"line2d_293\"/>\n    </g>\n    <g id=\"xtick_285\">\n     <g id=\"line2d_294\"/>\n    </g>\n    <g id=\"xtick_286\">\n     <g id=\"line2d_295\"/>\n    </g>\n    <g id=\"xtick_287\">\n     <g id=\"line2d_296\"/>\n    </g>\n    <g id=\"xtick_288\">\n     <g id=\"line2d_297\"/>\n    </g>\n    <g id=\"xtick_289\">\n     <g id=\"line2d_298\"/>\n    </g>\n    <g id=\"xtick_290\">\n     <g id=\"line2d_299\"/>\n    </g>\n    <g id=\"xtick_291\">\n     <g id=\"line2d_300\"/>\n    </g>\n    <g id=\"xtick_292\">\n     <g id=\"line2d_301\"/>\n    </g>\n    <g id=\"xtick_293\">\n     <g id=\"line2d_302\"/>\n    </g>\n    <g id=\"xtick_294\">\n     <g id=\"line2d_303\"/>\n    </g>\n    <g id=\"xtick_295\">\n     <g id=\"line2d_304\"/>\n    </g>\n    <g id=\"xtick_296\">\n     <g id=\"line2d_305\"/>\n    </g>\n    <g id=\"xtick_297\">\n     <g id=\"line2d_306\"/>\n    </g>\n    <g id=\"xtick_298\">\n     <g id=\"line2d_307\"/>\n    </g>\n    <g id=\"xtick_299\">\n     <g id=\"line2d_308\"/>\n    </g>\n    <g id=\"xtick_300\">\n     <g id=\"line2d_309\"/>\n    </g>\n    <g id=\"xtick_301\">\n     <g id=\"line2d_310\"/>\n    </g>\n    <g id=\"xtick_302\">\n     <g id=\"line2d_311\"/>\n    </g>\n    <g id=\"xtick_303\">\n     <g id=\"line2d_312\"/>\n    </g>\n    <g id=\"xtick_304\">\n     <g id=\"line2d_313\"/>\n    </g>\n    <g id=\"xtick_305\">\n     <g id=\"line2d_314\"/>\n    </g>\n    <g id=\"xtick_306\">\n     <g id=\"line2d_315\"/>\n    </g>\n    <g id=\"xtick_307\">\n     <g id=\"line2d_316\"/>\n    </g>\n    <g id=\"xtick_308\">\n     <g id=\"line2d_317\"/>\n    </g>\n    <g id=\"xtick_309\">\n     <g id=\"line2d_318\"/>\n    </g>\n    <g id=\"xtick_310\">\n     <g id=\"line2d_319\"/>\n    </g>\n    <g id=\"xtick_311\">\n     <g id=\"line2d_320\"/>\n    </g>\n    <g id=\"xtick_312\">\n     <g id=\"line2d_321\"/>\n    </g>\n    <g id=\"xtick_313\">\n     <g id=\"line2d_322\"/>\n    </g>\n    <g id=\"xtick_314\">\n     <g id=\"line2d_323\"/>\n    </g>\n    <g id=\"xtick_315\">\n     <g id=\"line2d_324\"/>\n    </g>\n    <g id=\"xtick_316\">\n     <g id=\"line2d_325\"/>\n    </g>\n    <g id=\"xtick_317\">\n     <g id=\"line2d_326\"/>\n    </g>\n    <g id=\"xtick_318\">\n     <g id=\"line2d_327\"/>\n    </g>\n    <g id=\"xtick_319\">\n     <g id=\"line2d_328\"/>\n    </g>\n    <g id=\"xtick_320\">\n     <g id=\"line2d_329\"/>\n    </g>\n    <g id=\"xtick_321\">\n     <g id=\"line2d_330\"/>\n    </g>\n    <g id=\"xtick_322\">\n     <g id=\"line2d_331\"/>\n    </g>\n    <g id=\"xtick_323\">\n     <g id=\"line2d_332\"/>\n    </g>\n    <g id=\"xtick_324\">\n     <g id=\"line2d_333\"/>\n    </g>\n    <g id=\"xtick_325\">\n     <g id=\"line2d_334\"/>\n    </g>\n    <g id=\"xtick_326\">\n     <g id=\"line2d_335\"/>\n    </g>\n    <g id=\"xtick_327\">\n     <g id=\"line2d_336\"/>\n    </g>\n    <g id=\"xtick_328\">\n     <g id=\"line2d_337\"/>\n    </g>\n    <g id=\"xtick_329\">\n     <g id=\"line2d_338\"/>\n    </g>\n    <g id=\"xtick_330\">\n     <g id=\"line2d_339\"/>\n    </g>\n    <g id=\"xtick_331\">\n     <g id=\"line2d_340\"/>\n    </g>\n    <g id=\"xtick_332\">\n     <g id=\"line2d_341\"/>\n    </g>\n    <g id=\"xtick_333\">\n     <g id=\"line2d_342\"/>\n    </g>\n    <g id=\"xtick_334\">\n     <g id=\"line2d_343\"/>\n    </g>\n    <g id=\"xtick_335\">\n     <g id=\"line2d_344\"/>\n    </g>\n    <g id=\"xtick_336\">\n     <g id=\"line2d_345\"/>\n    </g>\n    <g id=\"xtick_337\">\n     <g id=\"line2d_346\"/>\n    </g>\n    <g id=\"xtick_338\">\n     <g id=\"line2d_347\"/>\n    </g>\n    <g id=\"xtick_339\">\n     <g id=\"line2d_348\"/>\n    </g>\n    <g id=\"xtick_340\">\n     <g id=\"line2d_349\"/>\n    </g>\n    <g id=\"xtick_341\">\n     <g id=\"line2d_350\"/>\n    </g>\n    <g id=\"xtick_342\">\n     <g id=\"line2d_351\"/>\n    </g>\n    <g id=\"xtick_343\">\n     <g id=\"line2d_352\"/>\n    </g>\n    <g id=\"xtick_344\">\n     <g id=\"line2d_353\"/>\n    </g>\n    <g id=\"xtick_345\">\n     <g id=\"line2d_354\"/>\n    </g>\n    <g id=\"xtick_346\">\n     <g id=\"line2d_355\"/>\n    </g>\n    <g id=\"xtick_347\">\n     <g id=\"line2d_356\"/>\n    </g>\n    <g id=\"xtick_348\">\n     <g id=\"line2d_357\"/>\n    </g>\n    <g id=\"xtick_349\">\n     <g id=\"line2d_358\"/>\n    </g>\n    <g id=\"xtick_350\">\n     <g id=\"line2d_359\"/>\n    </g>\n    <g id=\"xtick_351\">\n     <g id=\"line2d_360\"/>\n    </g>\n    <g id=\"xtick_352\">\n     <g id=\"line2d_361\"/>\n    </g>\n    <g id=\"xtick_353\">\n     <g id=\"line2d_362\"/>\n    </g>\n    <g id=\"xtick_354\">\n     <g id=\"line2d_363\"/>\n    </g>\n    <g id=\"xtick_355\">\n     <g id=\"line2d_364\"/>\n    </g>\n    <g id=\"xtick_356\">\n     <g id=\"line2d_365\"/>\n    </g>\n    <g id=\"xtick_357\">\n     <g id=\"line2d_366\"/>\n    </g>\n    <g id=\"xtick_358\">\n     <g id=\"line2d_367\"/>\n    </g>\n    <g id=\"xtick_359\">\n     <g id=\"line2d_368\"/>\n    </g>\n    <g id=\"xtick_360\">\n     <g id=\"line2d_369\"/>\n    </g>\n    <g id=\"xtick_361\">\n     <g id=\"line2d_370\"/>\n    </g>\n    <g id=\"xtick_362\">\n     <g id=\"line2d_371\"/>\n    </g>\n    <g id=\"xtick_363\">\n     <g id=\"line2d_372\"/>\n    </g>\n    <g id=\"xtick_364\">\n     <g id=\"line2d_373\"/>\n    </g>\n    <g id=\"xtick_365\">\n     <g id=\"line2d_374\"/>\n    </g>\n    <g id=\"xtick_366\">\n     <g id=\"line2d_375\"/>\n    </g>\n    <g id=\"xtick_367\">\n     <g id=\"line2d_376\"/>\n    </g>\n    <g id=\"xtick_368\">\n     <g id=\"line2d_377\"/>\n    </g>\n    <g id=\"xtick_369\">\n     <g id=\"line2d_378\"/>\n    </g>\n    <g id=\"xtick_370\">\n     <g id=\"line2d_379\"/>\n    </g>\n    <g id=\"xtick_371\">\n     <g id=\"line2d_380\"/>\n    </g>\n    <g id=\"xtick_372\">\n     <g id=\"line2d_381\"/>\n    </g>\n    <g id=\"xtick_373\">\n     <g id=\"line2d_382\"/>\n    </g>\n    <g id=\"xtick_374\">\n     <g id=\"line2d_383\"/>\n    </g>\n    <g id=\"xtick_375\">\n     <g id=\"line2d_384\"/>\n    </g>\n    <g id=\"xtick_376\">\n     <g id=\"line2d_385\"/>\n    </g>\n    <g id=\"xtick_377\">\n     <g id=\"line2d_386\"/>\n    </g>\n    <g id=\"xtick_378\">\n     <g id=\"line2d_387\"/>\n    </g>\n    <g id=\"xtick_379\">\n     <g id=\"line2d_388\"/>\n    </g>\n    <g id=\"xtick_380\">\n     <g id=\"line2d_389\"/>\n    </g>\n    <g id=\"xtick_381\">\n     <g id=\"line2d_390\"/>\n    </g>\n    <g id=\"xtick_382\">\n     <g id=\"line2d_391\"/>\n    </g>\n    <g id=\"xtick_383\">\n     <g id=\"line2d_392\"/>\n    </g>\n    <g id=\"xtick_384\">\n     <g id=\"line2d_393\"/>\n    </g>\n    <g id=\"xtick_385\">\n     <g id=\"line2d_394\"/>\n    </g>\n    <g id=\"xtick_386\">\n     <g id=\"line2d_395\"/>\n    </g>\n    <g id=\"xtick_387\">\n     <g id=\"line2d_396\"/>\n    </g>\n    <g id=\"xtick_388\">\n     <g id=\"line2d_397\"/>\n    </g>\n    <g id=\"xtick_389\">\n     <g id=\"line2d_398\"/>\n    </g>\n    <g id=\"xtick_390\">\n     <g id=\"line2d_399\"/>\n    </g>\n    <g id=\"xtick_391\">\n     <g id=\"line2d_400\"/>\n    </g>\n    <g id=\"xtick_392\">\n     <g id=\"line2d_401\"/>\n    </g>\n    <g id=\"xtick_393\">\n     <g id=\"line2d_402\"/>\n    </g>\n    <g id=\"xtick_394\">\n     <g id=\"line2d_403\"/>\n    </g>\n    <g id=\"xtick_395\">\n     <g id=\"line2d_404\"/>\n    </g>\n    <g id=\"xtick_396\">\n     <g id=\"line2d_405\"/>\n    </g>\n    <g id=\"xtick_397\">\n     <g id=\"line2d_406\"/>\n    </g>\n    <g id=\"xtick_398\">\n     <g id=\"line2d_407\"/>\n    </g>\n    <g id=\"xtick_399\">\n     <g id=\"line2d_408\"/>\n    </g>\n    <g id=\"xtick_400\">\n     <g id=\"line2d_409\"/>\n    </g>\n    <g id=\"xtick_401\">\n     <g id=\"line2d_410\"/>\n    </g>\n    <g id=\"xtick_402\">\n     <g id=\"line2d_411\"/>\n    </g>\n    <g id=\"xtick_403\">\n     <g id=\"line2d_412\"/>\n    </g>\n    <g id=\"xtick_404\">\n     <g id=\"line2d_413\"/>\n    </g>\n    <g id=\"xtick_405\">\n     <g id=\"line2d_414\"/>\n    </g>\n    <g id=\"xtick_406\">\n     <g id=\"line2d_415\"/>\n    </g>\n    <g id=\"xtick_407\">\n     <g id=\"line2d_416\"/>\n    </g>\n    <g id=\"xtick_408\">\n     <g id=\"line2d_417\"/>\n    </g>\n    <g id=\"xtick_409\">\n     <g id=\"line2d_418\"/>\n    </g>\n    <g id=\"text_10\">\n     <!-- Epoch -->\n     <defs>\n      <path d=\"M 8.203125 0 \nL 8.203125 68.796875 \nL 60.40625 68.796875 \nL 60.40625 61.1875 \nL 17.53125 61.1875 \nL 17.53125 39.109375 \nL 57.46875 39.109375 \nL 57.46875 31.59375 \nL 17.53125 31.59375 \nL 17.53125 7.625 \nL 62.40625 7.625 \nL 62.40625 0 \nz\n\" id=\"LiberationSans-45\"/>\n      <path d=\"M 51.421875 26.65625 \nQ 51.421875 20.65625 50.4375 15.578125 \nQ 49.46875 10.5 47.1875 6.828125 \nQ 44.921875 3.171875 41.1875 1.09375 \nQ 37.453125 -0.984375 31.984375 -0.984375 \nQ 26.3125 -0.984375 22.0625 1.171875 \nQ 17.828125 3.328125 15.578125 8.203125 \nL 15.328125 8.203125 \nQ 15.375 8.109375 15.40625 7.328125 \nQ 15.4375 6.546875 15.453125 5.375 \nQ 15.484375 4.203125 15.5 2.75 \nQ 15.53125 1.3125 15.53125 -0.09375 \nL 15.53125 -20.75 \nL 6.734375 -20.75 \nL 6.734375 42.046875 \nQ 6.734375 43.953125 6.703125 45.703125 \nQ 6.6875 47.46875 6.640625 48.90625 \nQ 6.59375 50.34375 6.546875 51.359375 \nQ 6.5 52.390625 6.453125 52.828125 \nL 14.9375 52.828125 \nQ 14.984375 52.6875 15.0625 51.796875 \nQ 15.140625 50.921875 15.203125 49.671875 \nQ 15.28125 48.4375 15.359375 47.015625 \nQ 15.4375 45.609375 15.4375 44.34375 \nL 15.625 44.34375 \nQ 16.84375 46.875 18.40625 48.65625 \nQ 19.96875 50.4375 21.96875 51.578125 \nQ 23.96875 52.734375 26.4375 53.25 \nQ 28.90625 53.765625 31.984375 53.765625 \nQ 37.453125 53.765625 41.1875 51.8125 \nQ 44.921875 49.859375 47.1875 46.3125 \nQ 49.46875 42.78125 50.4375 37.765625 \nQ 51.421875 32.765625 51.421875 26.65625 \nz\nM 42.1875 26.46875 \nQ 42.1875 31.34375 41.59375 35.15625 \nQ 41.015625 38.96875 39.578125 41.59375 \nQ 38.140625 44.234375 35.734375 45.59375 \nQ 33.34375 46.96875 29.734375 46.96875 \nQ 26.8125 46.96875 24.21875 46.140625 \nQ 21.625 45.3125 19.703125 42.96875 \nQ 17.78125 40.625 16.65625 36.5 \nQ 15.53125 32.375 15.53125 25.78125 \nQ 15.53125 20.171875 16.453125 16.28125 \nQ 17.390625 12.40625 19.171875 10.015625 \nQ 20.953125 7.625 23.578125 6.5625 \nQ 26.21875 5.515625 29.640625 5.515625 \nQ 33.296875 5.515625 35.71875 6.921875 \nQ 38.140625 8.34375 39.578125 11.03125 \nQ 41.015625 13.71875 41.59375 17.59375 \nQ 42.1875 21.484375 42.1875 26.46875 \nz\n\" id=\"LiberationSans-70\"/>\n      <path d=\"M 51.421875 26.46875 \nQ 51.421875 12.59375 45.3125 5.796875 \nQ 39.203125 -0.984375 27.59375 -0.984375 \nQ 22.078125 -0.984375 17.71875 0.671875 \nQ 13.375 2.34375 10.375 5.765625 \nQ 7.375 9.1875 5.78125 14.328125 \nQ 4.203125 19.484375 4.203125 26.46875 \nQ 4.203125 53.8125 27.875 53.8125 \nQ 34.03125 53.8125 38.5 52.09375 \nQ 42.96875 50.390625 45.828125 46.96875 \nQ 48.6875 43.5625 50.046875 38.421875 \nQ 51.421875 33.296875 51.421875 26.46875 \nz\nM 42.1875 26.46875 \nQ 42.1875 32.625 41.234375 36.625 \nQ 40.28125 40.625 38.453125 43.015625 \nQ 36.625 45.40625 33.984375 46.359375 \nQ 31.34375 47.3125 28.03125 47.3125 \nQ 24.65625 47.3125 21.9375 46.3125 \nQ 19.234375 45.3125 17.328125 42.890625 \nQ 15.4375 40.484375 14.421875 36.46875 \nQ 13.421875 32.46875 13.421875 26.46875 \nQ 13.421875 20.3125 14.5 16.28125 \nQ 15.578125 12.25 17.453125 9.859375 \nQ 19.34375 7.46875 21.90625 6.484375 \nQ 24.46875 5.515625 27.484375 5.515625 \nQ 30.859375 5.515625 33.59375 6.46875 \nQ 36.328125 7.421875 38.234375 9.8125 \nQ 40.140625 12.203125 41.15625 16.25 \nQ 42.1875 20.3125 42.1875 26.46875 \nz\n\" id=\"LiberationSans-6f\"/>\n      <path d=\"M 13.421875 26.65625 \nQ 13.421875 22.125 14.078125 18.3125 \nQ 14.75 14.5 16.3125 11.734375 \nQ 17.875 8.984375 20.4375 7.46875 \nQ 23 5.953125 26.765625 5.953125 \nQ 31.453125 5.953125 34.59375 8.484375 \nQ 37.75 11.03125 38.484375 16.3125 \nL 47.359375 15.71875 \nQ 46.921875 12.453125 45.453125 9.421875 \nQ 44 6.390625 41.484375 4.09375 \nQ 38.96875 1.8125 35.34375 0.40625 \nQ 31.734375 -0.984375 27 -0.984375 \nQ 20.796875 -0.984375 16.453125 1.109375 \nQ 12.109375 3.21875 9.390625 6.90625 \nQ 6.6875 10.59375 5.46875 15.59375 \nQ 4.25 20.609375 4.25 26.46875 \nQ 4.25 31.78125 5.125 35.859375 \nQ 6 39.9375 7.59375 42.984375 \nQ 9.1875 46.046875 11.328125 48.125 \nQ 13.484375 50.203125 15.984375 51.4375 \nQ 18.5 52.6875 21.28125 53.25 \nQ 24.078125 53.8125 26.90625 53.8125 \nQ 31.34375 53.8125 34.8125 52.59375 \nQ 38.28125 51.375 40.796875 49.25 \nQ 43.3125 47.125 44.875 44.234375 \nQ 46.4375 41.359375 47.078125 38.03125 \nL 38.03125 37.359375 \nQ 37.359375 41.75 34.5625 44.328125 \nQ 31.78125 46.921875 26.65625 46.921875 \nQ 22.90625 46.921875 20.390625 45.671875 \nQ 17.875 44.4375 16.3125 41.921875 \nQ 14.75 39.40625 14.078125 35.59375 \nQ 13.421875 31.78125 13.421875 26.65625 \nz\n\" id=\"LiberationSans-63\"/>\n      <path d=\"M 15.484375 43.796875 \nQ 16.9375 46.484375 18.640625 48.359375 \nQ 20.359375 50.25 22.40625 51.46875 \nQ 24.46875 52.6875 26.90625 53.25 \nQ 29.34375 53.8125 32.375 53.8125 \nQ 37.453125 53.8125 40.703125 52.4375 \nQ 43.953125 51.078125 45.828125 48.609375 \nQ 47.703125 46.140625 48.40625 42.71875 \nQ 49.125 39.3125 49.125 35.203125 \nL 49.125 0 \nL 40.28125 0 \nL 40.28125 33.5 \nQ 40.28125 36.859375 39.859375 39.390625 \nQ 39.453125 41.9375 38.28125 43.625 \nQ 37.109375 45.3125 34.953125 46.15625 \nQ 32.8125 47.015625 29.390625 47.015625 \nQ 26.265625 47.015625 23.75 45.890625 \nQ 21.234375 44.78125 19.453125 42.71875 \nQ 17.671875 40.671875 16.6875 37.734375 \nQ 15.71875 34.8125 15.71875 31.15625 \nL 15.71875 0 \nL 6.9375 0 \nL 6.9375 72.46875 \nL 15.71875 72.46875 \nL 15.71875 53.609375 \nQ 15.71875 52 15.671875 50.390625 \nQ 15.625 48.78125 15.546875 47.40625 \nQ 15.484375 46.046875 15.421875 45.09375 \nQ 15.375 44.140625 15.328125 43.796875 \nz\n\" id=\"LiberationSans-68\"/>\n     </defs>\n     <g style=\"fill:#555555;\" transform=\"translate(216.501648 324.453625)scale(0.12 -0.12)\">\n      <use xlink:href=\"#LiberationSans-45\"/>\n      <use x=\"66.699219\" xlink:href=\"#LiberationSans-70\"/>\n      <use x=\"122.314453\" xlink:href=\"#LiberationSans-6f\"/>\n      <use x=\"177.929688\" xlink:href=\"#LiberationSans-63\"/>\n      <use x=\"227.929688\" xlink:href=\"#LiberationSans-68\"/>\n     </g>\n    </g>\n   </g>\n   <g id=\"matplotlib.axis_2\">\n    <g id=\"ytick_1\">\n     <g id=\"line2d_419\">\n      <path clip-path=\"url(#p98472115f3)\" d=\"M 43.28625 267.515588 \nL 423.740795 267.515588 \n\" style=\"fill:none;stroke:#ffffff;stroke-linecap:round;\"/>\n     </g>\n     <g id=\"line2d_420\"/>\n     <g id=\"text_11\">\n      <!-- 0.3 -->\n      <defs>\n       <path d=\"M 9.125 0 \nL 9.125 10.6875 \nL 18.65625 10.6875 \nL 18.65625 0 \nz\n\" id=\"LiberationSans-2e\"/>\n      </defs>\n      <g style=\"fill:#555555;\" transform=\"translate(22.38625 271.139025)scale(0.1 -0.1)\">\n       <use xlink:href=\"#LiberationSans-30\"/>\n       <use x=\"55.615234\" xlink:href=\"#LiberationSans-2e\"/>\n       <use x=\"83.398438\" xlink:href=\"#LiberationSans-33\"/>\n      </g>\n     </g>\n    </g>\n    <g id=\"ytick_2\">\n     <g id=\"line2d_421\">\n      <path clip-path=\"url(#p98472115f3)\" d=\"M 43.28625 230.349 \nL 423.740795 230.349 \n\" style=\"fill:none;stroke:#ffffff;stroke-linecap:round;\"/>\n     </g>\n     <g id=\"line2d_422\"/>\n     <g id=\"text_12\">\n      <!-- 0.4 -->\n      <g style=\"fill:#555555;\" transform=\"translate(22.38625 233.972437)scale(0.1 -0.1)\">\n       <use xlink:href=\"#LiberationSans-30\"/>\n       <use x=\"55.615234\" xlink:href=\"#LiberationSans-2e\"/>\n       <use x=\"83.398438\" xlink:href=\"#LiberationSans-34\"/>\n      </g>\n     </g>\n    </g>\n    <g id=\"ytick_3\">\n     <g id=\"line2d_423\">\n      <path clip-path=\"url(#p98472115f3)\" d=\"M 43.28625 193.182412 \nL 423.740795 193.182412 \n\" style=\"fill:none;stroke:#ffffff;stroke-linecap:round;\"/>\n     </g>\n     <g id=\"line2d_424\"/>\n     <g id=\"text_13\">\n      <!-- 0.5 -->\n      <g style=\"fill:#555555;\" transform=\"translate(22.38625 196.805849)scale(0.1 -0.1)\">\n       <use xlink:href=\"#LiberationSans-30\"/>\n       <use x=\"55.615234\" xlink:href=\"#LiberationSans-2e\"/>\n       <use x=\"83.398438\" xlink:href=\"#LiberationSans-35\"/>\n      </g>\n     </g>\n    </g>\n    <g id=\"ytick_4\">\n     <g id=\"line2d_425\">\n      <path clip-path=\"url(#p98472115f3)\" d=\"M 43.28625 156.015824 \nL 423.740795 156.015824 \n\" style=\"fill:none;stroke:#ffffff;stroke-linecap:round;\"/>\n     </g>\n     <g id=\"line2d_426\"/>\n     <g id=\"text_14\">\n      <!-- 0.6 -->\n      <defs>\n       <path d=\"M 51.21875 22.515625 \nQ 51.21875 17.328125 49.78125 13 \nQ 48.34375 8.6875 45.53125 5.578125 \nQ 42.71875 2.484375 38.5625 0.75 \nQ 34.421875 -0.984375 29 -0.984375 \nQ 23 -0.984375 18.5 1.3125 \nQ 14.015625 3.609375 11.03125 7.921875 \nQ 8.0625 12.25 6.5625 18.53125 \nQ 5.078125 24.8125 5.078125 32.8125 \nQ 5.078125 42 6.765625 48.921875 \nQ 8.453125 55.859375 11.625 60.5 \nQ 14.796875 65.140625 19.359375 67.484375 \nQ 23.921875 69.828125 29.6875 69.828125 \nQ 33.203125 69.828125 36.28125 69.09375 \nQ 39.359375 68.359375 41.875 66.71875 \nQ 44.390625 65.09375 46.28125 62.40625 \nQ 48.1875 59.71875 49.3125 55.8125 \nL 40.921875 54.296875 \nQ 39.546875 58.734375 36.546875 60.71875 \nQ 33.546875 62.703125 29.59375 62.703125 \nQ 25.984375 62.703125 23.046875 60.984375 \nQ 20.125 59.28125 18.0625 55.875 \nQ 16.015625 52.484375 14.90625 47.359375 \nQ 13.8125 42.234375 13.8125 35.40625 \nQ 16.21875 39.84375 20.5625 42.15625 \nQ 24.90625 44.484375 30.515625 44.484375 \nQ 35.203125 44.484375 39.015625 42.96875 \nQ 42.828125 41.453125 45.53125 38.59375 \nQ 48.25 35.75 49.734375 31.671875 \nQ 51.21875 27.59375 51.21875 22.515625 \nz\nM 42.28125 22.125 \nQ 42.28125 25.6875 41.40625 28.5625 \nQ 40.53125 31.453125 38.765625 33.46875 \nQ 37.015625 35.5 34.421875 36.59375 \nQ 31.84375 37.703125 28.421875 37.703125 \nQ 26.03125 37.703125 23.578125 36.984375 \nQ 21.140625 36.28125 19.15625 34.6875 \nQ 17.1875 33.109375 15.9375 30.515625 \nQ 14.703125 27.9375 14.703125 24.21875 \nQ 14.703125 20.40625 15.671875 17.109375 \nQ 16.65625 13.8125 18.484375 11.375 \nQ 20.3125 8.9375 22.890625 7.515625 \nQ 25.484375 6.109375 28.71875 6.109375 \nQ 31.890625 6.109375 34.40625 7.203125 \nQ 36.921875 8.296875 38.671875 10.375 \nQ 40.4375 12.453125 41.359375 15.421875 \nQ 42.28125 18.40625 42.28125 22.125 \nz\n\" id=\"LiberationSans-36\"/>\n      </defs>\n      <g style=\"fill:#555555;\" transform=\"translate(22.38625 159.639262)scale(0.1 -0.1)\">\n       <use xlink:href=\"#LiberationSans-30\"/>\n       <use x=\"55.615234\" xlink:href=\"#LiberationSans-2e\"/>\n       <use x=\"83.398438\" xlink:href=\"#LiberationSans-36\"/>\n      </g>\n     </g>\n    </g>\n    <g id=\"ytick_5\">\n     <g id=\"line2d_427\">\n      <path clip-path=\"url(#p98472115f3)\" d=\"M 43.28625 118.849236 \nL 423.740795 118.849236 \n\" style=\"fill:none;stroke:#ffffff;stroke-linecap:round;\"/>\n     </g>\n     <g id=\"line2d_428\"/>\n     <g id=\"text_15\">\n      <!-- 0.7 -->\n      <defs>\n       <path d=\"M 50.59375 61.671875 \nQ 45.40625 53.765625 41.0625 46.453125 \nQ 36.71875 39.15625 33.59375 31.75 \nQ 30.46875 24.359375 28.734375 16.578125 \nQ 27 8.796875 27 0 \nL 17.828125 0 \nQ 17.828125 8.25 19.78125 16.1875 \nQ 21.734375 24.125 25.046875 31.765625 \nQ 28.375 39.40625 32.765625 46.78125 \nQ 37.15625 54.15625 42.09375 61.328125 \nL 5.125 61.328125 \nL 5.125 68.796875 \nL 50.59375 68.796875 \nz\n\" id=\"LiberationSans-37\"/>\n      </defs>\n      <g style=\"fill:#555555;\" transform=\"translate(22.38625 122.472674)scale(0.1 -0.1)\">\n       <use xlink:href=\"#LiberationSans-30\"/>\n       <use x=\"55.615234\" xlink:href=\"#LiberationSans-2e\"/>\n       <use x=\"83.398438\" xlink:href=\"#LiberationSans-37\"/>\n      </g>\n     </g>\n    </g>\n    <g id=\"ytick_6\">\n     <g id=\"line2d_429\">\n      <path clip-path=\"url(#p98472115f3)\" d=\"M 43.28625 81.682649 \nL 423.740795 81.682649 \n\" style=\"fill:none;stroke:#ffffff;stroke-linecap:round;\"/>\n     </g>\n     <g id=\"line2d_430\"/>\n     <g id=\"text_16\">\n      <!-- 0.8 -->\n      <defs>\n       <path d=\"M 51.265625 19.1875 \nQ 51.265625 14.796875 49.875 11.109375 \nQ 48.484375 7.421875 45.625 4.734375 \nQ 42.78125 2.046875 38.328125 0.53125 \nQ 33.890625 -0.984375 27.828125 -0.984375 \nQ 21.78125 -0.984375 17.359375 0.53125 \nQ 12.9375 2.046875 10.03125 4.703125 \nQ 7.125 7.375 5.734375 11.0625 \nQ 4.34375 14.75 4.34375 19.09375 \nQ 4.34375 22.859375 5.484375 25.78125 \nQ 6.640625 28.71875 8.5625 30.828125 \nQ 10.5 32.953125 12.96875 34.25 \nQ 15.4375 35.546875 18.0625 35.984375 \nL 18.0625 36.1875 \nQ 15.1875 36.859375 12.90625 38.375 \nQ 10.640625 39.890625 9.09375 42.015625 \nQ 7.5625 44.140625 6.75 46.71875 \nQ 5.953125 49.3125 5.953125 52.203125 \nQ 5.953125 55.8125 7.34375 59 \nQ 8.734375 62.203125 11.46875 64.625 \nQ 14.203125 67.046875 18.25 68.4375 \nQ 22.3125 69.828125 27.640625 69.828125 \nQ 33.25 69.828125 37.375 68.40625 \nQ 41.5 67 44.203125 64.578125 \nQ 46.921875 62.15625 48.234375 58.9375 \nQ 49.5625 55.71875 49.5625 52.09375 \nQ 49.5625 49.265625 48.75 46.671875 \nQ 47.953125 44.09375 46.40625 41.96875 \nQ 44.875 39.84375 42.59375 38.34375 \nQ 40.328125 36.859375 37.359375 36.28125 \nL 37.359375 36.078125 \nQ 40.328125 35.59375 42.859375 34.296875 \nQ 45.40625 33.015625 47.265625 30.890625 \nQ 49.125 28.765625 50.1875 25.828125 \nQ 51.265625 22.90625 51.265625 19.1875 \nz\nM 40.4375 51.609375 \nQ 40.4375 54.203125 39.765625 56.34375 \nQ 39.109375 58.5 37.59375 60.03125 \nQ 36.078125 61.578125 33.640625 62.421875 \nQ 31.203125 63.28125 27.640625 63.28125 \nQ 24.171875 63.28125 21.78125 62.421875 \nQ 19.390625 61.578125 17.84375 60.03125 \nQ 16.3125 58.5 15.625 56.34375 \nQ 14.9375 54.203125 14.9375 51.609375 \nQ 14.9375 49.5625 15.46875 47.40625 \nQ 16.015625 45.265625 17.421875 43.5 \nQ 18.84375 41.75 21.328125 40.625 \nQ 23.828125 39.5 27.734375 39.5 \nQ 31.890625 39.5 34.40625 40.625 \nQ 36.921875 41.75 38.25 43.5 \nQ 39.59375 45.265625 40.015625 47.40625 \nQ 40.4375 49.5625 40.4375 51.609375 \nz\nM 42.140625 20.015625 \nQ 42.140625 22.515625 41.453125 24.828125 \nQ 40.765625 27.15625 39.109375 28.9375 \nQ 37.453125 30.71875 34.640625 31.8125 \nQ 31.84375 32.90625 27.640625 32.90625 \nQ 23.78125 32.90625 21.0625 31.8125 \nQ 18.359375 30.71875 16.671875 28.90625 \nQ 14.984375 27.09375 14.203125 24.71875 \nQ 13.421875 22.359375 13.421875 19.828125 \nQ 13.421875 16.65625 14.203125 14.03125 \nQ 14.984375 11.421875 16.6875 9.546875 \nQ 18.40625 7.671875 21.1875 6.640625 \nQ 23.96875 5.609375 27.9375 5.609375 \nQ 31.9375 5.609375 34.671875 6.640625 \nQ 37.40625 7.671875 39.0625 9.546875 \nQ 40.71875 11.421875 41.421875 14.078125 \nQ 42.140625 16.75 42.140625 20.015625 \nz\n\" id=\"LiberationSans-38\"/>\n      </defs>\n      <g style=\"fill:#555555;\" transform=\"translate(22.38625 85.306086)scale(0.1 -0.1)\">\n       <use xlink:href=\"#LiberationSans-30\"/>\n       <use x=\"55.615234\" xlink:href=\"#LiberationSans-2e\"/>\n       <use x=\"83.398438\" xlink:href=\"#LiberationSans-38\"/>\n      </g>\n     </g>\n    </g>\n    <g id=\"ytick_7\">\n     <g id=\"line2d_431\">\n      <path clip-path=\"url(#p98472115f3)\" d=\"M 43.28625 44.516061 \nL 423.740795 44.516061 \n\" style=\"fill:none;stroke:#ffffff;stroke-linecap:round;\"/>\n     </g>\n     <g id=\"line2d_432\"/>\n     <g id=\"text_17\">\n      <!-- 0.9 -->\n      <defs>\n       <path d=\"M 50.875 35.796875 \nQ 50.875 26.609375 49.140625 19.703125 \nQ 47.40625 12.796875 44.1875 8.203125 \nQ 40.96875 3.609375 36.34375 1.3125 \nQ 31.734375 -0.984375 25.984375 -0.984375 \nQ 22.015625 -0.984375 18.84375 -0.171875 \nQ 15.671875 0.640625 13.171875 2.34375 \nQ 10.6875 4.046875 8.921875 6.78125 \nQ 7.171875 9.515625 6.109375 13.375 \nL 14.5 14.703125 \nQ 15.875 10.25 18.78125 8.171875 \nQ 21.6875 6.109375 26.125 6.109375 \nQ 29.6875 6.109375 32.640625 7.78125 \nQ 35.59375 9.46875 37.671875 12.84375 \nQ 39.75 16.21875 40.921875 21.296875 \nQ 42.09375 26.375 42.1875 33.203125 \nQ 41.15625 30.90625 39.375 29.09375 \nQ 37.59375 27.296875 35.328125 26.046875 \nQ 33.0625 24.8125 30.421875 24.140625 \nQ 27.78125 23.484375 25.09375 23.484375 \nQ 20.40625 23.484375 16.625 25.171875 \nQ 12.84375 26.859375 10.203125 29.875 \nQ 7.5625 32.90625 6.125 37.171875 \nQ 4.6875 41.453125 4.6875 46.6875 \nQ 4.6875 52 6.21875 56.296875 \nQ 7.765625 60.59375 10.6875 63.59375 \nQ 13.625 66.609375 17.890625 68.21875 \nQ 22.171875 69.828125 27.59375 69.828125 \nQ 39.0625 69.828125 44.96875 61.328125 \nQ 50.875 52.828125 50.875 35.796875 \nz\nM 41.3125 44.28125 \nQ 41.3125 48.09375 40.40625 51.453125 \nQ 39.5 54.828125 37.71875 57.3125 \nQ 35.9375 59.8125 33.328125 61.25 \nQ 30.71875 62.703125 27.296875 62.703125 \nQ 24.125 62.703125 21.578125 61.578125 \nQ 19.046875 60.453125 17.28125 58.375 \nQ 15.53125 56.296875 14.578125 53.3125 \nQ 13.625 50.34375 13.625 46.6875 \nQ 13.625 43.21875 14.46875 40.234375 \nQ 15.328125 37.25 17.03125 35.078125 \nQ 18.75 32.90625 21.28125 31.65625 \nQ 23.828125 30.421875 27.203125 30.421875 \nQ 29.640625 30.421875 32.15625 31.25 \nQ 34.671875 32.078125 36.6875 33.78125 \nQ 38.71875 35.5 40.015625 38.109375 \nQ 41.3125 40.71875 41.3125 44.28125 \nz\n\" id=\"LiberationSans-39\"/>\n      </defs>\n      <g style=\"fill:#555555;\" transform=\"translate(22.38625 48.139498)scale(0.1 -0.1)\">\n       <use xlink:href=\"#LiberationSans-30\"/>\n       <use x=\"55.615234\" xlink:href=\"#LiberationSans-2e\"/>\n       <use x=\"83.398438\" xlink:href=\"#LiberationSans-39\"/>\n      </g>\n     </g>\n    </g>\n    <g id=\"text_18\">\n     <!-- Accuracy -->\n     <defs>\n      <path d=\"M 56.984375 0 \nL 49.125 20.125 \nL 17.78125 20.125 \nL 9.859375 0 \nL 0.203125 0 \nL 28.265625 68.796875 \nL 38.875 68.796875 \nL 66.5 0 \nz\nM 37.5 50.09375 \nQ 36.71875 52.046875 36 54.046875 \nQ 35.296875 56.0625 34.765625 57.6875 \nQ 34.234375 59.328125 33.859375 60.421875 \nQ 33.5 61.53125 33.453125 61.765625 \nQ 33.34375 61.53125 33 60.40625 \nQ 32.671875 59.28125 32.109375 57.609375 \nQ 31.546875 55.953125 30.828125 53.953125 \nQ 30.125 51.953125 29.390625 50 \nL 20.609375 27.390625 \nL 46.34375 27.390625 \nz\n\" id=\"LiberationSans-41\"/>\n      <path d=\"M 15.328125 52.828125 \nL 15.328125 19.34375 \nQ 15.328125 15.484375 15.890625 12.890625 \nQ 16.453125 10.296875 17.71875 8.703125 \nQ 19 7.125 21.0625 6.46875 \nQ 23.140625 5.8125 26.21875 5.8125 \nQ 29.34375 5.8125 31.859375 6.90625 \nQ 34.375 8.015625 36.15625 10.078125 \nQ 37.9375 12.15625 38.90625 15.203125 \nQ 39.890625 18.265625 39.890625 22.21875 \nL 39.890625 52.828125 \nL 48.6875 52.828125 \nL 48.6875 11.28125 \nQ 48.6875 9.625 48.703125 7.78125 \nQ 48.734375 5.953125 48.78125 4.3125 \nQ 48.828125 2.6875 48.875 1.515625 \nQ 48.921875 0.34375 48.96875 0 \nL 40.671875 0 \nQ 40.625 0.25 40.578125 1.3125 \nQ 40.53125 2.390625 40.453125 3.78125 \nQ 40.375 5.171875 40.328125 6.609375 \nQ 40.28125 8.0625 40.28125 9.03125 \nL 40.140625 9.03125 \nQ 38.875 6.734375 37.359375 4.875 \nQ 35.84375 3.03125 33.84375 1.734375 \nQ 31.84375 0.4375 29.25 -0.265625 \nQ 26.65625 -0.984375 23.25 -0.984375 \nQ 18.84375 -0.984375 15.671875 0.09375 \nQ 12.5 1.171875 10.453125 3.421875 \nQ 8.40625 5.671875 7.453125 9.1875 \nQ 6.5 12.703125 6.5 17.625 \nL 6.5 52.828125 \nz\n\" id=\"LiberationSans-75\"/>\n      <path d=\"M 6.9375 0 \nL 6.9375 40.53125 \nQ 6.9375 42.1875 6.90625 43.921875 \nQ 6.890625 45.65625 6.828125 47.265625 \nQ 6.78125 48.875 6.734375 50.28125 \nQ 6.6875 51.703125 6.640625 52.828125 \nL 14.9375 52.828125 \nQ 14.984375 51.703125 15.0625 50.265625 \nQ 15.140625 48.828125 15.203125 47.3125 \nQ 15.28125 45.796875 15.296875 44.40625 \nQ 15.328125 43.015625 15.328125 42.046875 \nL 15.53125 42.046875 \nQ 16.453125 45.0625 17.5 47.28125 \nQ 18.5625 49.515625 19.96875 50.953125 \nQ 21.390625 52.390625 23.34375 53.09375 \nQ 25.296875 53.8125 28.078125 53.8125 \nQ 29.15625 53.8125 30.125 53.640625 \nQ 31.109375 53.46875 31.640625 53.328125 \nL 31.640625 45.265625 \nQ 30.765625 45.515625 29.59375 45.625 \nQ 28.421875 45.75 26.953125 45.75 \nQ 23.921875 45.75 21.796875 44.375 \nQ 19.671875 43.015625 18.328125 40.59375 \nQ 17 38.1875 16.359375 34.84375 \nQ 15.71875 31.5 15.71875 27.546875 \nL 15.71875 0 \nz\n\" id=\"LiberationSans-72\"/>\n      <path d=\"M 20.21875 -0.984375 \nQ 12.25 -0.984375 8.25 3.21875 \nQ 4.25 7.421875 4.25 14.75 \nQ 4.25 19.96875 6.21875 23.3125 \nQ 8.203125 26.65625 11.390625 28.5625 \nQ 14.59375 30.46875 18.6875 31.203125 \nQ 22.796875 31.9375 27.046875 32.03125 \nL 38.921875 32.234375 \nL 38.921875 35.109375 \nQ 38.921875 38.375 38.234375 40.671875 \nQ 37.546875 42.96875 36.125 44.375 \nQ 34.71875 45.796875 32.59375 46.453125 \nQ 30.46875 47.125 27.59375 47.125 \nQ 25.046875 47.125 23 46.75 \nQ 20.953125 46.390625 19.4375 45.4375 \nQ 17.921875 44.484375 16.984375 42.84375 \nQ 16.0625 41.21875 15.765625 38.71875 \nL 6.59375 39.546875 \nQ 7.078125 42.671875 8.4375 45.28125 \nQ 9.8125 47.90625 12.328125 49.796875 \nQ 14.84375 51.703125 18.625 52.75 \nQ 22.40625 53.8125 27.78125 53.8125 \nQ 37.75 53.8125 42.765625 49.234375 \nQ 47.796875 44.671875 47.796875 36.03125 \nL 47.796875 13.28125 \nQ 47.796875 9.375 48.828125 7.390625 \nQ 49.859375 5.421875 52.734375 5.421875 \nQ 53.46875 5.421875 54.203125 5.515625 \nQ 54.9375 5.609375 55.609375 5.765625 \nL 55.609375 0.296875 \nQ 53.953125 -0.09375 52.3125 -0.28125 \nQ 50.6875 -0.484375 48.828125 -0.484375 \nQ 46.34375 -0.484375 44.5625 0.171875 \nQ 42.78125 0.828125 41.65625 2.171875 \nQ 40.53125 3.515625 39.9375 5.484375 \nQ 39.359375 7.46875 39.203125 10.109375 \nL 38.921875 10.109375 \nQ 37.5 7.5625 35.8125 5.515625 \nQ 34.125 3.46875 31.875 2.03125 \nQ 29.640625 0.59375 26.78125 -0.1875 \nQ 23.921875 -0.984375 20.21875 -0.984375 \nz\nM 22.21875 5.609375 \nQ 26.421875 5.609375 29.5625 7.140625 \nQ 32.71875 8.6875 34.78125 11.078125 \nQ 36.859375 13.484375 37.890625 16.3125 \nQ 38.921875 19.140625 38.921875 21.734375 \nL 38.921875 26.078125 \nL 29.296875 25.875 \nQ 26.078125 25.828125 23.171875 25.40625 \nQ 20.265625 25 18.0625 23.78125 \nQ 15.875 22.5625 14.578125 20.359375 \nQ 13.28125 18.171875 13.28125 14.59375 \nQ 13.28125 10.296875 15.59375 7.953125 \nQ 17.921875 5.609375 22.21875 5.609375 \nz\n\" id=\"LiberationSans-61\"/>\n      <path d=\"M 29.5 0 \nQ 27.640625 -4.78125 25.703125 -8.609375 \nQ 23.78125 -12.453125 21.390625 -15.15625 \nQ 19 -17.875 16.0625 -19.3125 \nQ 13.140625 -20.75 9.328125 -20.75 \nQ 7.671875 -20.75 6.25 -20.65625 \nQ 4.828125 -20.5625 3.265625 -20.21875 \nL 3.265625 -13.625 \nQ 4.203125 -13.765625 5.375 -13.84375 \nQ 6.546875 -13.921875 7.375 -13.921875 \nQ 11.234375 -13.921875 14.546875 -11.03125 \nQ 17.875 -8.15625 20.359375 -1.859375 \nL 21.1875 0.25 \nL 0.25 52.828125 \nL 9.625 52.828125 \nL 20.75 23.640625 \nQ 21.234375 22.3125 21.984375 20.109375 \nQ 22.75 17.921875 23.5 15.71875 \nQ 24.265625 13.53125 24.84375 11.765625 \nQ 25.4375 10.015625 25.53125 9.578125 \nQ 25.6875 10.109375 26.25 11.6875 \nQ 26.8125 13.28125 27.515625 15.234375 \nQ 28.21875 17.1875 28.953125 19.1875 \nQ 29.6875 21.1875 30.171875 22.65625 \nL 40.53125 52.828125 \nL 49.8125 52.828125 \nz\n\" id=\"LiberationSans-79\"/>\n     </defs>\n     <g style=\"fill:#555555;\" transform=\"translate(15.89625 184.208625)rotate(-90)scale(0.12 -0.12)\">\n      <use xlink:href=\"#LiberationSans-41\"/>\n      <use x=\"66.699219\" xlink:href=\"#LiberationSans-63\"/>\n      <use x=\"116.699219\" xlink:href=\"#LiberationSans-63\"/>\n      <use x=\"166.699219\" xlink:href=\"#LiberationSans-75\"/>\n      <use x=\"222.314453\" xlink:href=\"#LiberationSans-72\"/>\n      <use x=\"255.615234\" xlink:href=\"#LiberationSans-61\"/>\n      <use x=\"311.230469\" xlink:href=\"#LiberationSans-63\"/>\n      <use x=\"361.230469\" xlink:href=\"#LiberationSans-79\"/>\n     </g>\n    </g>\n   </g>\n   <g id=\"line2d_433\">\n    <path clip-path=\"url(#p98472115f3)\" d=\"M 60.579638 283.080955 \nL 61.446475 243.662072 \nL 62.313311 225.836976 \nL 63.180148 213.07397 \nL 64.046984 202.682192 \nL 65.780658 188.952854 \nL 67.514331 178.984775 \nL 68.381167 175.647216 \nL 69.248004 171.365625 \nL 70.11484 167.671266 \nL 70.981677 162.586877 \nL 72.71535 157.680887 \nL 73.582186 155.948924 \nL 74.449023 152.945864 \nL 75.315859 151.132134 \nL 76.182696 148.790639 \nL 77.049532 146.93231 \nL 77.916369 145.601746 \nL 78.783205 143.052118 \nL 79.650042 141.446522 \nL 80.516878 139.097593 \nL 81.383715 137.54403 \nL 82.250551 134.741669 \nL 83.117388 132.831307 \nL 85.717897 128.33415 \nL 86.584734 126.76572 \nL 87.45157 126.416354 \nL 88.318407 123.666026 \nL 89.185243 122.513862 \nL 90.05208 120.752166 \nL 90.918916 120.714999 \nL 91.785753 118.893836 \nL 92.652589 117.957238 \nL 93.519426 117.488939 \nL 94.386262 115.45221 \nL 95.253099 115.229211 \nL 96.986772 112.010584 \nL 97.853608 110.61312 \nL 98.720445 110.241455 \nL 99.587282 108.769658 \nL 100.454118 108.167559 \nL 101.320955 107.253261 \nL 102.187791 104.569833 \nL 103.054628 103.804202 \nL 103.921464 104.042068 \nL 105.655137 101.931006 \nL 107.38881 101.016707 \nL 108.255647 98.861045 \nL 109.98932 97.939314 \nL 110.856156 95.939752 \nL 111.722993 96.72025 \nL 112.589829 95.508619 \nL 114.323502 94.103722 \nL 115.190339 93.917889 \nL 116.057175 91.591261 \nL 116.924012 93.107658 \nL 117.790848 92.141326 \nL 118.657685 90.49113 \nL 119.524521 90.55803 \nL 120.391358 89.420732 \nL 121.258194 88.617934 \nL 122.991867 88.506434 \nL 123.858704 86.915704 \nL 124.72554 86.603505 \nL 125.592377 86.566338 \nL 126.459213 84.767475 \nL 127.32605 85.666907 \nL 128.192886 84.968175 \nL 129.059723 84.447843 \nL 129.926559 84.113343 \nL 130.793396 82.232714 \nL 131.660232 82.834813 \nL 132.527069 81.429916 \nL 133.393906 81.288683 \nL 134.260742 80.471018 \nL 135.127579 80.627117 \nL 135.994415 79.504686 \nL 136.861252 80.448718 \nL 137.728088 78.969488 \nL 138.594925 78.701888 \nL 139.461761 78.129523 \nL 141.195434 78.285622 \nL 142.062271 77.505124 \nL 142.929107 75.587328 \nL 143.795944 76.940192 \nL 144.66278 75.825194 \nL 145.529617 75.988727 \nL 147.26329 73.855365 \nL 148.130126 74.033765 \nL 148.996963 74.026331 \nL 149.863799 73.818199 \nL 150.730636 72.591701 \nL 151.597472 72.837001 \nL 152.464309 72.599134 \nL 153.331145 71.818636 \nL 154.197982 72.762667 \nL 155.064818 70.993538 \nL 155.931655 71.640236 \nL 156.798491 70.696205 \nL 157.665328 69.92314 \nL 158.532164 71.045571 \nL 159.399001 69.819074 \nL 160.265837 68.912209 \nL 161.132674 69.172375 \nL 161.99951 68.860176 \nL 162.866347 67.358646 \nL 163.733183 67.663412 \nL 164.60002 67.522179 \nL 165.466856 67.529612 \nL 166.333693 66.890347 \nL 167.20053 66.414614 \nL 168.067366 67.091046 \nL 168.934203 66.377448 \nL 169.801039 66.317981 \nL 170.667876 65.024584 \nL 171.534712 66.080115 \nL 172.401549 65.686149 \nL 173.268385 64.742118 \nL 174.135222 65.537483 \nL 175.002058 64.429918 \nL 175.868895 64.511685 \nL 176.735731 63.567654 \nL 177.602568 63.366954 \nL 178.469404 64.310985 \nL 179.336241 63.181121 \nL 180.203077 63.002721 \nL 181.069914 62.318856 \nL 181.93675 62.452656 \nL 182.803587 62.095857 \nL 183.670423 62.363456 \nL 184.53726 61.850557 \nL 185.404096 60.795026 \nL 186.270933 61.716758 \nL 187.137769 61.895157 \nL 188.004606 61.166692 \nL 188.871442 60.289561 \nL 189.738279 60.631493 \nL 190.605115 59.457029 \nL 191.471952 59.590829 \nL 192.338788 60.252394 \nL 194.939298 57.903466 \nL 195.806134 58.958997 \nL 196.672971 57.390567 \nL 197.539807 58.394065 \nL 198.406644 58.535298 \nL 199.27348 57.948066 \nL 200.140317 57.516933 \nL 201.007153 58.022399 \nL 201.87399 57.234467 \nL 202.740827 57.680466 \nL 204.4745 56.929701 \nL 205.341336 57.739933 \nL 206.208173 56.431669 \nL 207.075009 56.996601 \nL 207.941846 57.100667 \nL 208.808682 56.439102 \nL 209.675519 56.112036 \nL 210.542355 55.391004 \nL 211.409192 54.989605 \nL 212.276028 55.621437 \nL 214.009701 54.751739 \nL 214.876538 54.565906 \nL 215.743374 54.26114 \nL 216.610211 54.826072 \nL 217.477047 54.640239 \nL 218.343884 53.889474 \nL 219.21072 53.904341 \nL 220.077557 54.053007 \nL 220.944393 54.513873 \nL 221.81123 53.257642 \nL 222.678066 52.596077 \nL 223.544903 53.681341 \nL 224.411739 53.792841 \nL 225.278576 53.331975 \nL 226.145412 51.860178 \nL 227.012249 51.986545 \nL 227.879085 53.257642 \nL 228.745922 53.138709 \nL 229.612758 52.269011 \nL 230.479595 52.306178 \nL 231.346431 51.562846 \nL 232.213268 51.547979 \nL 233.080104 51.889912 \nL 233.946941 52.001411 \nL 234.813777 51.16888 \nL 235.680614 51.451346 \nL 236.547451 50.782347 \nL 237.414287 51.176313 \nL 238.281124 50.410682 \nL 239.14796 51.072247 \nL 240.014797 50.395815 \nL 240.881633 50.380948 \nL 241.74847 49.897783 \nL 242.615306 50.760047 \nL 243.482143 50.262015 \nL 245.215816 49.942383 \nL 246.082652 49.53355 \nL 246.949489 49.741683 \nL 247.816325 48.678719 \nL 248.683162 48.909151 \nL 249.549998 48.663852 \nL 250.416835 48.745618 \nL 251.283671 49.392317 \nL 252.150508 49.303117 \nL 253.017344 48.767918 \nL 253.884181 48.753052 \nL 254.751017 48.307053 \nL 255.617854 48.990918 \nL 256.48469 47.76442 \nL 257.351527 47.846187 \nL 258.218363 47.756987 \nL 259.0852 48.663852 \nL 259.952036 47.979987 \nL 261.685709 47.556288 \nL 262.552546 46.32979 \nL 263.419382 47.638054 \nL 264.286219 47.229222 \nL 265.153055 46.560223 \nL 266.019892 47.994853 \nL 266.886728 47.377888 \nL 267.753565 46.32979 \nL 268.620401 47.355588 \nL 269.487238 47.645487 \nL 270.354075 46.277757 \nL 271.220911 46.50819 \nL 272.087748 45.972991 \nL 272.954584 45.593892 \nL 273.821421 46.478457 \nL 274.688257 45.460092 \nL 275.555094 46.181124 \nL 276.42193 46.032457 \nL 277.288767 45.675658 \nL 278.155603 45.638492 \nL 279.02244 45.222226 \nL 281.622949 45.095859 \nL 282.489786 45.474959 \nL 283.356622 45.549292 \nL 284.223459 45.341159 \nL 285.090295 45.408059 \nL 285.957132 45.207359 \nL 286.823968 44.538361 \nL 287.690805 45.289126 \nL 288.557641 44.597827 \nL 289.424478 43.750429 \nL 290.291314 45.02896 \nL 291.158151 44.367394 \nL 292.024987 43.341597 \nL 293.75866 44.203861 \nL 294.625497 44.64986 \nL 295.492333 43.705829 \nL 296.35917 44.003162 \nL 297.226006 43.943695 \nL 298.092843 43.995728 \nL 298.959679 43.445663 \nL 299.826516 43.884229 \nL 301.560189 43.014531 \nL 302.427025 43.609196 \nL 304.160699 42.538798 \nL 305.027535 44.129528 \nL 305.894372 43.32673 \nL 306.761208 43.274697 \nL 307.628045 42.568531 \nL 308.494881 42.880731 \nL 309.361718 42.620565 \nL 310.228554 43.12603 \nL 311.095391 42.479332 \nL 312.829064 41.921833 \nL 313.6959 42.791531 \nL 314.562737 41.840066 \nL 315.429573 42.293499 \nL 316.29641 41.951566 \nL 317.163246 41.996166 \nL 318.030083 42.241466 \nL 319.763756 41.133901 \nL 320.630592 42.077933 \nL 321.497429 41.423801 \nL 322.364265 41.8475 \nL 323.231102 40.762235 \nL 324.097938 41.237968 \nL 324.964775 41.089301 \nL 326.698448 41.884666 \nL 327.565284 40.450036 \nL 328.432121 41.431234 \nL 329.298957 41.319734 \nL 330.165794 41.000101 \nL 331.03263 41.364334 \nL 332.766303 40.873735 \nL 333.63314 41.185934 \nL 334.499976 40.799402 \nL 335.366813 40.687902 \nL 337.967323 40.687902 \nL 338.834159 40.21217 \nL 340.567832 40.16757 \nL 341.434669 40.23447 \nL 342.301505 39.996604 \nL 344.035178 40.026337 \nL 344.902015 39.855371 \nL 345.768851 39.535738 \nL 346.635688 40.25677 \nL 347.502524 39.141772 \nL 348.369361 39.870237 \nL 349.236197 40.227036 \nL 350.103034 39.305305 \nL 350.96987 39.535738 \nL 351.836707 39.119472 \nL 352.703543 39.617504 \nL 353.57038 39.892537 \nL 354.437216 38.955939 \nL 355.304053 39.520871 \nL 356.170889 39.320172 \nL 357.037726 38.73294 \nL 357.904562 39.335038 \nL 358.771399 38.428174 \nL 359.638235 39.126905 \nL 360.505072 38.822139 \nL 361.371908 38.881606 \nL 362.238745 39.201239 \nL 363.105581 38.115974 \nL 363.972418 39.082306 \nL 364.839254 39.193805 \nL 365.706091 38.44304 \nL 366.572927 39.022839 \nL 367.439764 38.049074 \nL 368.3066 38.814706 \nL 369.173437 39.082306 \nL 370.040273 38.911339 \nL 370.90711 38.212607 \nL 371.773947 38.286941 \nL 372.640783 38.220041 \nL 374.374456 38.59914 \nL 375.241293 37.491576 \nL 376.108129 38.026774 \nL 376.974966 38.138274 \nL 377.841802 38.115974 \nL 378.708639 38.73294 \nL 379.575475 38.086241 \nL 380.442312 38.324107 \nL 381.309148 38.264641 \nL 382.175985 37.617942 \nL 383.042821 37.201676 \nL 383.909658 37.840942 \nL 384.776494 37.811208 \nL 385.643331 38.004475 \nL 386.510167 37.655109 \nL 387.377004 36.777977 \nL 388.24384 37.930141 \nL 389.110677 37.558475 \nL 389.977513 37.729442 \nL 390.84435 37.372643 \nL 391.711186 37.729442 \nL 393.444859 37.342909 \nL 394.311696 37.18681 \nL 395.178532 37.179376 \nL 396.045369 37.707142 \nL 396.912205 36.956377 \nL 397.779042 36.792844 \nL 398.645878 36.89691 \nL 399.512715 37.506442 \nL 400.379551 36.96381 \nL 401.246388 37.231409 \nL 402.113224 36.956377 \nL 402.980061 36.279945 \nL 403.846897 36.844877 \nL 404.713734 36.98611 \nL 405.580571 36.636744 \nL 406.447407 35.990045 \nL 406.447407 35.990045 \n\" style=\"fill:none;stroke:#e24a33;stroke-linecap:round;stroke-width:1.75;\"/>\n   </g>\n   <g id=\"line2d_434\">\n    <path clip-path=\"url(#p98472115f3)\" d=\"M 60.579638 236.481487 \nL 61.446475 211.988705 \nL 62.313311 198.348568 \nL 63.180148 212.100205 \nL 64.046984 180.991771 \nL 64.913821 179.876774 \nL 65.780658 176.122948 \nL 66.647494 179.876774 \nL 67.514331 155.792825 \nL 68.381167 159.063484 \nL 70.11484 156.127324 \nL 70.981677 147.802008 \nL 71.848513 148.32234 \nL 72.71535 147.541842 \nL 73.582186 149.846171 \nL 74.449023 143.676517 \nL 75.315859 135.574201 \nL 76.182696 138.510361 \nL 77.049532 132.898207 \nL 77.916369 136.206033 \nL 78.783205 133.753038 \nL 79.650042 149.065672 \nL 80.516878 129.999213 \nL 81.383715 142.635853 \nL 82.250551 126.988719 \nL 83.117388 133.938871 \nL 83.984224 118.514737 \nL 84.851061 122.268562 \nL 85.717897 121.116398 \nL 86.584734 124.721557 \nL 87.45157 118.960736 \nL 88.318407 111.453085 \nL 89.185243 134.570703 \nL 90.05208 117.957238 \nL 90.918916 118.774903 \nL 91.785753 114.946745 \nL 92.652589 113.943247 \nL 93.519426 107.030261 \nL 94.386262 109.037257 \nL 95.253099 108.516925 \nL 96.119935 105.394932 \nL 96.986772 96.660783 \nL 97.853608 105.915264 \nL 98.720445 99.373944 \nL 99.587282 106.101097 \nL 100.454118 110.895587 \nL 101.320955 99.002278 \nL 102.187791 93.464457 \nL 103.054628 96.140451 \nL 103.921464 105.432098 \nL 104.788301 93.687456 \nL 105.655137 92.721125 \nL 106.521974 104.725933 \nL 107.38881 91.160128 \nL 108.255647 96.80945 \nL 109.122483 90.007964 \nL 110.856156 95.211286 \nL 111.722993 88.298301 \nL 112.589829 87.629303 \nL 113.456666 87.666469 \nL 114.323502 97.292615 \nL 115.190339 91.531794 \nL 116.057175 87.369136 \nL 116.924012 86.700138 \nL 117.790848 86.477138 \nL 118.657685 89.487632 \nL 119.524521 84.247143 \nL 120.391358 81.942815 \nL 121.258194 81.199483 \nL 122.125031 87.071804 \nL 122.991867 84.916142 \nL 123.858704 84.693142 \nL 124.72554 76.813826 \nL 125.592377 79.638486 \nL 126.459213 74.137831 \nL 127.32605 81.831315 \nL 128.192886 80.010152 \nL 129.059723 80.864984 \nL 129.926559 80.90215 \nL 130.793396 78.895154 \nL 131.660232 90.639796 \nL 132.527069 79.155321 \nL 133.393906 75.289995 \nL 134.260742 79.861486 \nL 135.127579 79.712819 \nL 135.994415 81.905648 \nL 136.861252 76.553659 \nL 137.728088 77.222658 \nL 138.594925 81.608315 \nL 139.461761 79.861486 \nL 140.328598 73.134333 \nL 141.195434 82.165814 \nL 142.062271 70.681339 \nL 142.929107 73.134333 \nL 143.795944 77.928823 \nL 145.529617 69.157508 \nL 146.396453 76.070494 \nL 147.26329 72.391002 \nL 148.130126 71.982169 \nL 148.996963 73.06 \nL 149.863799 76.070494 \nL 150.730636 72.019336 \nL 151.597472 72.279502 \nL 152.464309 69.715007 \nL 153.331145 71.64767 \nL 154.197982 71.350337 \nL 155.064818 69.157508 \nL 155.931655 69.863674 \nL 156.798491 73.06 \nL 157.665328 71.387504 \nL 158.532164 68.451343 \nL 159.399001 71.75917 \nL 160.265837 74.137831 \nL 161.132674 72.9485 \nL 161.99951 66.85318 \nL 162.866347 68.228344 \nL 163.733183 67.522179 \nL 164.60002 69.231842 \nL 165.466856 68.339843 \nL 166.333693 71.75917 \nL 167.20053 68.154011 \nL 168.067366 69.938007 \nL 168.934203 68.37701 \nL 169.801039 69.046009 \nL 170.667876 64.920517 \nL 171.534712 72.688334 \nL 172.401549 72.911334 \nL 173.268385 67.968178 \nL 174.135222 64.065686 \nL 175.002058 71.870669 \nL 175.868895 69.715007 \nL 176.735731 69.157508 \nL 177.602568 64.623185 \nL 178.469404 68.525676 \nL 179.336241 65.10635 \nL 180.203077 62.579022 \nL 181.069914 70.718505 \nL 181.93675 69.008842 \nL 182.803587 71.015838 \nL 183.670423 62.504689 \nL 184.53726 68.154011 \nL 185.404096 62.207356 \nL 186.270933 63.47102 \nL 187.137769 65.255017 \nL 188.004606 69.417675 \nL 188.871442 68.042511 \nL 189.738279 69.343341 \nL 190.605115 64.809018 \nL 191.471952 64.177186 \nL 192.338788 68.26551 \nL 193.205625 57.784533 \nL 194.072461 61.018026 \nL 194.939298 69.343341 \nL 195.806134 62.207356 \nL 196.672971 63.768353 \nL 197.539807 62.541856 \nL 198.406644 59.271196 \nL 199.27348 60.200361 \nL 200.140317 59.977361 \nL 201.007153 65.255017 \nL 201.87399 56.781035 \nL 202.740827 62.28169 \nL 203.607663 63.433854 \nL 204.4745 63.396687 \nL 205.341336 62.839188 \nL 206.208173 58.973863 \nL 207.075009 67.893844 \nL 207.941846 58.78803 \nL 208.808682 61.687024 \nL 209.675519 63.879853 \nL 210.542355 60.572027 \nL 211.409192 62.095857 \nL 212.276028 65.849682 \nL 213.142865 63.879853 \nL 214.009701 58.639364 \nL 214.876538 59.791528 \nL 215.743374 63.545354 \nL 216.610211 64.400185 \nL 217.477047 56.892534 \nL 219.21072 58.565031 \nL 220.077557 61.761357 \nL 220.944393 63.879853 \nL 221.81123 57.4872 \nL 222.678066 58.342031 \nL 223.544903 61.203859 \nL 224.411739 62.467523 \nL 225.278576 60.497693 \nL 226.145412 61.018026 \nL 227.012249 59.717195 \nL 227.879085 56.446535 \nL 228.745922 61.612691 \nL 229.612758 56.929701 \nL 230.479595 59.791528 \nL 231.346431 60.64636 \nL 232.213268 55.405871 \nL 233.080104 56.446535 \nL 233.946941 58.044699 \nL 234.813777 62.05869 \nL 235.680614 58.193365 \nL 236.547451 59.568529 \nL 237.414287 60.460527 \nL 238.281124 59.048197 \nL 239.14796 63.062188 \nL 240.014797 57.115534 \nL 240.881633 57.004034 \nL 241.74847 55.517371 \nL 242.615306 57.673033 \nL 243.482143 57.561533 \nL 244.348979 54.885539 \nL 245.215816 57.933199 \nL 246.082652 57.301367 \nL 246.949489 57.004034 \nL 247.816325 57.041201 \nL 248.683162 57.933199 \nL 249.549998 58.119032 \nL 250.416835 58.973863 \nL 251.283671 57.189867 \nL 252.150508 60.943693 \nL 253.017344 56.520869 \nL 253.884181 56.781035 \nL 254.751017 54.402373 \nL 255.617854 57.933199 \nL 256.48469 58.89953 \nL 257.351527 55.480204 \nL 258.218363 56.520869 \nL 259.0852 57.896032 \nL 259.952036 60.163194 \nL 260.818873 55.96337 \nL 261.685709 58.973863 \nL 262.552546 55.85187 \nL 263.419382 54.811206 \nL 265.153055 57.524366 \nL 266.019892 61.055192 \nL 266.886728 56.966868 \nL 267.753565 61.389692 \nL 268.620401 58.416365 \nL 269.487238 57.561533 \nL 270.354075 55.591704 \nL 271.220911 60.126028 \nL 272.087748 61.984357 \nL 272.954584 54.365206 \nL 273.821421 59.308363 \nL 274.688257 57.561533 \nL 275.555094 58.081865 \nL 276.42193 56.929701 \nL 277.288767 59.196863 \nL 278.155603 58.416365 \nL 279.02244 58.379198 \nL 279.889276 59.568529 \nL 280.756113 57.3757 \nL 281.622949 54.848372 \nL 282.489786 58.379198 \nL 283.356622 59.271196 \nL 284.223459 57.078367 \nL 285.090295 57.338533 \nL 285.957132 56.743868 \nL 286.823968 55.257205 \nL 287.690805 54.588206 \nL 288.557641 59.754362 \nL 289.424478 57.4872 \nL 290.291314 59.940195 \nL 291.158151 54.551039 \nL 292.024987 56.112036 \nL 292.891824 57.189867 \nL 293.75866 59.12253 \nL 294.625497 56.260702 \nL 295.492333 55.74037 \nL 296.35917 56.223536 \nL 297.226006 52.432544 \nL 298.092843 59.419862 \nL 298.959679 56.669535 \nL 299.826516 57.747366 \nL 300.693352 57.189867 \nL 301.560189 56.335036 \nL 302.427025 57.635866 \nL 303.293862 54.43954 \nL 304.160699 55.331538 \nL 305.027535 52.060878 \nL 305.894372 56.743868 \nL 306.761208 57.2642 \nL 307.628045 56.818201 \nL 308.494881 60.237527 \nL 309.361718 59.048197 \nL 311.095391 53.101542 \nL 311.962227 51.800712 \nL 312.829064 54.662539 \nL 313.6959 56.149203 \nL 314.562737 51.317546 \nL 315.429573 53.213042 \nL 316.29641 55.443038 \nL 317.163246 53.547542 \nL 318.030083 53.547542 \nL 318.896919 52.69271 \nL 319.763756 54.290873 \nL 320.630592 53.175876 \nL 321.497429 56.966868 \nL 322.364265 56.000536 \nL 323.231102 53.287375 \nL 324.097938 56.07487 \nL 324.964775 55.74037 \nL 325.831611 56.409369 \nL 326.698448 55.182871 \nL 327.565284 55.145705 \nL 328.432121 53.547542 \nL 330.165794 55.331538 \nL 331.03263 59.828695 \nL 331.899467 55.145705 \nL 332.766303 59.568529 \nL 333.63314 57.673033 \nL 334.499976 53.510375 \nL 335.366813 56.781035 \nL 336.233649 58.490698 \nL 337.100486 54.142207 \nL 337.967323 57.821699 \nL 338.834159 53.324542 \nL 339.700996 54.959872 \nL 340.567832 52.91571 \nL 341.434669 55.666037 \nL 342.301505 55.666037 \nL 343.168342 53.361709 \nL 344.035178 56.149203 \nL 344.902015 53.064376 \nL 345.768851 52.58121 \nL 346.635688 50.276882 \nL 347.502524 55.889037 \nL 348.369361 56.855368 \nL 349.236197 56.372202 \nL 350.103034 54.142207 \nL 350.96987 57.004034 \nL 351.836707 53.213042 \nL 352.703543 51.614879 \nL 353.57038 51.689212 \nL 354.437216 53.882041 \nL 355.304053 55.62887 \nL 356.170889 56.112036 \nL 357.037726 54.885539 \nL 357.904562 55.145705 \nL 358.771399 53.175876 \nL 359.638235 56.372202 \nL 360.505072 56.855368 \nL 361.371908 55.591704 \nL 362.238745 53.807708 \nL 363.105581 56.186369 \nL 363.972418 52.952876 \nL 364.839254 53.138709 \nL 365.706091 49.682216 \nL 366.572927 54.32804 \nL 367.439764 57.115534 \nL 368.3066 51.763545 \nL 369.173437 55.480204 \nL 370.040273 55.889037 \nL 370.90711 58.044699 \nL 371.773947 56.149203 \nL 372.640783 53.844874 \nL 373.50762 52.098045 \nL 374.374456 53.250209 \nL 375.241293 53.993541 \nL 376.108129 50.685714 \nL 376.974966 58.156198 \nL 377.841802 56.855368 \nL 378.708639 54.959872 \nL 379.575475 56.372202 \nL 380.442312 54.588206 \nL 381.309148 57.412867 \nL 382.175985 54.142207 \nL 383.042821 51.912212 \nL 383.909658 53.696208 \nL 384.776494 55.108538 \nL 386.510167 50.425548 \nL 387.377004 52.172378 \nL 388.24384 52.395377 \nL 389.110677 53.324542 \nL 389.977513 53.213042 \nL 390.84435 50.202549 \nL 391.711186 54.030707 \nL 392.578023 53.138709 \nL 393.444859 53.250209 \nL 394.311696 52.544044 \nL 395.178532 54.625373 \nL 396.045369 51.949378 \nL 396.912205 54.959872 \nL 397.779042 57.041201 \nL 398.645878 53.361709 \nL 400.379551 55.071372 \nL 401.246388 53.473208 \nL 402.113224 55.182871 \nL 402.980061 53.287375 \nL 403.846897 54.811206 \nL 404.713734 54.699706 \nL 405.580571 54.959872 \nL 406.447407 53.547542 \nL 406.447407 53.547542 \n\" style=\"fill:none;stroke:#348abd;stroke-linecap:round;stroke-width:1.75;\"/>\n   </g>\n   <g id=\"patch_3\">\n    <path d=\"M 43.28625 295.4355 \nL 43.28625 23.6355 \n\" style=\"fill:none;stroke:#ffffff;stroke-linecap:square;stroke-linejoin:miter;\"/>\n   </g>\n   <g id=\"patch_4\">\n    <path d=\"M 423.740795 295.4355 \nL 423.740795 23.6355 \n\" style=\"fill:none;stroke:#ffffff;stroke-linecap:square;stroke-linejoin:miter;\"/>\n   </g>\n   <g id=\"patch_5\">\n    <path d=\"M 43.28625 295.4355 \nL 423.740795 295.4355 \n\" style=\"fill:none;stroke:#ffffff;stroke-linecap:square;stroke-linejoin:miter;\"/>\n   </g>\n   <g id=\"patch_6\">\n    <path d=\"M 43.28625 23.6355 \nL 423.740795 23.6355 \n\" style=\"fill:none;stroke:#ffffff;stroke-linecap:square;stroke-linejoin:miter;\"/>\n   </g>\n   <g id=\"text_19\">\n    <!-- Model Accuracy -->\n    <defs>\n     <path d=\"M 66.703125 0 \nL 66.703125 45.90625 \nQ 66.703125 48.390625 66.75 50.96875 \nQ 66.796875 53.5625 66.890625 55.71875 \nQ 67 58.203125 67.140625 60.546875 \nQ 66.453125 58.0625 65.71875 55.609375 \nQ 65.09375 53.515625 64.328125 51.140625 \nQ 63.578125 48.78125 62.84375 46.875 \nL 45.0625 0 \nL 38.53125 0 \nL 20.515625 46.875 \nQ 20.21875 47.609375 19.890625 48.578125 \nQ 19.578125 49.5625 19.203125 50.65625 \nQ 18.84375 51.765625 18.46875 52.90625 \nQ 18.109375 54.046875 17.78125 55.171875 \nQ 16.9375 57.765625 16.15625 60.546875 \nQ 16.21875 57.8125 16.3125 55.125 \nQ 16.40625 52.828125 16.453125 50.3125 \nQ 16.5 47.796875 16.5 45.90625 \nL 16.5 0 \nL 8.203125 0 \nL 8.203125 68.796875 \nL 20.453125 68.796875 \nL 38.765625 21.09375 \nQ 39.109375 20.125 39.59375 18.578125 \nQ 40.09375 17.046875 40.53125 15.421875 \nQ 40.96875 13.8125 41.328125 12.375 \nQ 41.703125 10.9375 41.84375 10.15625 \nQ 42 10.9375 42.390625 12.40625 \nQ 42.78125 13.875 43.28125 15.484375 \nQ 43.796875 17.09375 44.28125 18.609375 \nQ 44.78125 20.125 45.171875 21.09375 \nL 63.140625 68.796875 \nL 75.09375 68.796875 \nL 75.09375 0 \nz\n\" id=\"LiberationSans-4d\"/>\n     <path d=\"M 40.09375 8.5 \nQ 37.640625 3.421875 33.609375 1.21875 \nQ 29.59375 -0.984375 23.640625 -0.984375 \nQ 13.625 -0.984375 8.90625 5.75 \nQ 4.203125 12.5 4.203125 26.171875 \nQ 4.203125 53.8125 23.640625 53.8125 \nQ 29.640625 53.8125 33.640625 51.609375 \nQ 37.640625 49.421875 40.09375 44.625 \nL 40.1875 44.625 \nQ 40.1875 45.125 40.15625 46.171875 \nQ 40.140625 47.21875 40.109375 48.359375 \nQ 40.09375 49.515625 40.09375 50.53125 \nQ 40.09375 51.5625 40.09375 52 \nL 40.09375 72.46875 \nL 48.875 72.46875 \nL 48.875 10.890625 \nQ 48.875 8.984375 48.890625 7.21875 \nQ 48.921875 5.46875 48.96875 4 \nQ 49.03125 2.546875 49.078125 1.484375 \nQ 49.125 0.4375 49.171875 0 \nL 40.765625 0 \nQ 40.671875 0.484375 40.59375 1.390625 \nQ 40.53125 2.296875 40.453125 3.46875 \nQ 40.375 4.640625 40.328125 5.9375 \nQ 40.28125 7.234375 40.28125 8.5 \nz\nM 13.421875 26.46875 \nQ 13.421875 21 14.109375 17.09375 \nQ 14.796875 13.1875 16.3125 10.671875 \nQ 17.828125 8.15625 20.171875 6.984375 \nQ 22.515625 5.8125 25.875 5.8125 \nQ 29.34375 5.8125 32 6.9375 \nQ 34.671875 8.0625 36.453125 10.578125 \nQ 38.234375 13.09375 39.15625 17.140625 \nQ 40.09375 21.1875 40.09375 27.046875 \nQ 40.09375 32.671875 39.15625 36.546875 \nQ 38.234375 40.4375 36.421875 42.828125 \nQ 34.625 45.21875 32 46.265625 \nQ 29.390625 47.3125 25.984375 47.3125 \nQ 22.75 47.3125 20.40625 46.1875 \nQ 18.0625 45.0625 16.5 42.578125 \nQ 14.9375 40.09375 14.171875 36.109375 \nQ 13.421875 32.125 13.421875 26.46875 \nz\n\" id=\"LiberationSans-64\"/>\n     <path d=\"M 13.484375 24.5625 \nQ 13.484375 20.40625 14.328125 16.90625 \nQ 15.1875 13.421875 16.96875 10.90625 \nQ 18.75 8.40625 21.53125 7 \nQ 24.3125 5.609375 28.21875 5.609375 \nQ 33.9375 5.609375 37.375 7.90625 \nQ 40.828125 10.203125 42.046875 13.71875 \nL 49.75 11.53125 \nQ 48.921875 9.328125 47.4375 7.109375 \nQ 45.953125 4.890625 43.453125 3.09375 \nQ 40.96875 1.3125 37.234375 0.15625 \nQ 33.5 -0.984375 28.21875 -0.984375 \nQ 16.5 -0.984375 10.375 6 \nQ 4.25 12.984375 4.25 26.765625 \nQ 4.25 34.1875 6.09375 39.328125 \nQ 7.953125 44.484375 11.171875 47.703125 \nQ 14.40625 50.921875 18.703125 52.359375 \nQ 23 53.8125 27.875 53.8125 \nQ 34.515625 53.8125 38.984375 51.65625 \nQ 43.453125 49.515625 46.15625 45.71875 \nQ 48.875 41.9375 50.015625 36.8125 \nQ 51.171875 31.6875 51.171875 25.734375 \nL 51.171875 24.5625 \nz\nM 42.09375 31.296875 \nQ 41.359375 39.65625 37.84375 43.484375 \nQ 34.328125 47.3125 27.734375 47.3125 \nQ 25.53125 47.3125 23.109375 46.609375 \nQ 20.703125 45.90625 18.65625 44.09375 \nQ 16.609375 42.28125 15.1875 39.171875 \nQ 13.765625 36.078125 13.578125 31.296875 \nz\n\" id=\"LiberationSans-65\"/>\n     <path d=\"M 6.734375 0 \nL 6.734375 72.46875 \nL 15.53125 72.46875 \nL 15.53125 0 \nz\n\" id=\"LiberationSans-6c\"/>\n     <path id=\"LiberationSans-20\"/>\n    </defs>\n    <g style=\"fill:#262626;\" transform=\"translate(182.302398 17.6355)scale(0.144 -0.144)\">\n     <use xlink:href=\"#LiberationSans-4d\"/>\n     <use x=\"83.300781\" xlink:href=\"#LiberationSans-6f\"/>\n     <use x=\"138.916016\" xlink:href=\"#LiberationSans-64\"/>\n     <use x=\"194.53125\" xlink:href=\"#LiberationSans-65\"/>\n     <use x=\"250.146484\" xlink:href=\"#LiberationSans-6c\"/>\n     <use x=\"272.363281\" xlink:href=\"#LiberationSans-20\"/>\n     <use x=\"300.068359\" xlink:href=\"#LiberationSans-41\"/>\n     <use x=\"366.767578\" xlink:href=\"#LiberationSans-63\"/>\n     <use x=\"416.767578\" xlink:href=\"#LiberationSans-63\"/>\n     <use x=\"466.767578\" xlink:href=\"#LiberationSans-75\"/>\n     <use x=\"522.382812\" xlink:href=\"#LiberationSans-72\"/>\n     <use x=\"555.683594\" xlink:href=\"#LiberationSans-61\"/>\n     <use x=\"611.298828\" xlink:href=\"#LiberationSans-63\"/>\n     <use x=\"661.298828\" xlink:href=\"#LiberationSans-79\"/>\n    </g>\n   </g>\n   <g id=\"legend_1\">\n    <g id=\"line2d_435\">\n     <path d=\"M 52.28625 36.382375 \nL 72.28625 36.382375 \n\" style=\"fill:none;stroke:#e24a33;stroke-linecap:round;stroke-width:1.75;\"/>\n    </g>\n    <g id=\"line2d_436\"/>\n    <g id=\"text_20\">\n     <!-- train -->\n     <defs>\n      <path d=\"M 27.046875 0.390625 \nQ 25.046875 -0.140625 22.96875 -0.453125 \nQ 20.90625 -0.78125 18.171875 -0.78125 \nQ 7.625 -0.78125 7.625 11.1875 \nL 7.625 46.4375 \nL 1.515625 46.4375 \nL 1.515625 52.828125 \nL 7.953125 52.828125 \nL 10.546875 64.65625 \nL 16.40625 64.65625 \nL 16.40625 52.828125 \nL 26.171875 52.828125 \nL 26.171875 46.4375 \nL 16.40625 46.4375 \nL 16.40625 13.09375 \nQ 16.40625 9.28125 17.640625 7.734375 \nQ 18.890625 6.203125 21.96875 6.203125 \nQ 23.25 6.203125 24.4375 6.390625 \nQ 25.640625 6.59375 27.046875 6.890625 \nz\n\" id=\"LiberationSans-74\"/>\n      <path d=\"M 6.6875 64.0625 \nL 6.6875 72.46875 \nL 15.484375 72.46875 \nL 15.484375 64.0625 \nz\nM 6.6875 0 \nL 6.6875 52.828125 \nL 15.484375 52.828125 \nL 15.484375 0 \nz\n\" id=\"LiberationSans-69\"/>\n      <path d=\"M 40.28125 0 \nL 40.28125 33.5 \nQ 40.28125 37.359375 39.71875 39.9375 \nQ 39.15625 42.53125 37.890625 44.109375 \nQ 36.625 45.703125 34.546875 46.359375 \nQ 32.46875 47.015625 29.390625 47.015625 \nQ 26.265625 47.015625 23.75 45.921875 \nQ 21.234375 44.828125 19.453125 42.75 \nQ 17.671875 40.671875 16.6875 37.625 \nQ 15.71875 34.578125 15.71875 30.609375 \nL 15.71875 0 \nL 6.9375 0 \nL 6.9375 41.546875 \nQ 6.9375 43.21875 6.90625 45.046875 \nQ 6.890625 46.875 6.828125 48.5 \nQ 6.78125 50.140625 6.734375 51.3125 \nQ 6.6875 52.484375 6.640625 52.828125 \nL 14.9375 52.828125 \nQ 14.984375 52.59375 15.03125 51.515625 \nQ 15.09375 50.4375 15.15625 49.046875 \nQ 15.234375 47.65625 15.28125 46.21875 \nQ 15.328125 44.78125 15.328125 43.796875 \nL 15.484375 43.796875 \nQ 16.75 46.09375 18.265625 47.953125 \nQ 19.78125 49.8125 21.78125 51.09375 \nQ 23.78125 52.390625 26.359375 53.09375 \nQ 28.953125 53.8125 32.375 53.8125 \nQ 36.765625 53.8125 39.9375 52.734375 \nQ 43.109375 51.65625 45.15625 49.40625 \nQ 47.21875 47.171875 48.171875 43.625 \nQ 49.125 40.09375 49.125 35.203125 \nL 49.125 0 \nz\n\" id=\"LiberationSans-6e\"/>\n     </defs>\n     <g style=\"fill:#262626;\" transform=\"translate(80.28625 39.882375)scale(0.1 -0.1)\">\n      <use xlink:href=\"#LiberationSans-74\"/>\n      <use x=\"27.783203\" xlink:href=\"#LiberationSans-72\"/>\n      <use x=\"61.083984\" xlink:href=\"#LiberationSans-61\"/>\n      <use x=\"116.699219\" xlink:href=\"#LiberationSans-69\"/>\n      <use x=\"138.916016\" xlink:href=\"#LiberationSans-6e\"/>\n     </g>\n    </g>\n    <g id=\"line2d_437\">\n     <path d=\"M 52.28625 50.70425 \nL 72.28625 50.70425 \n\" style=\"fill:none;stroke:#348abd;stroke-linecap:round;stroke-width:1.75;\"/>\n    </g>\n    <g id=\"line2d_438\"/>\n    <g id=\"text_21\">\n     <!-- validation -->\n     <defs>\n      <path d=\"M 29.9375 0 \nL 19.53125 0 \nL 0.34375 52.828125 \nL 9.71875 52.828125 \nL 21.34375 18.453125 \nQ 21.6875 17.390625 22.140625 15.84375 \nQ 22.609375 14.3125 23.09375 12.640625 \nQ 23.578125 10.984375 24 9.4375 \nQ 24.421875 7.90625 24.703125 6.890625 \nQ 25 7.90625 25.453125 9.4375 \nQ 25.921875 10.984375 26.40625 12.59375 \nQ 26.90625 14.203125 27.421875 15.734375 \nQ 27.9375 17.28125 28.328125 18.359375 \nL 40.328125 52.828125 \nL 49.65625 52.828125 \nz\n\" id=\"LiberationSans-76\"/>\n     </defs>\n     <g style=\"fill:#262626;\" transform=\"translate(80.28625 54.20425)scale(0.1 -0.1)\">\n      <use xlink:href=\"#LiberationSans-76\"/>\n      <use x=\"50\" xlink:href=\"#LiberationSans-61\"/>\n      <use x=\"105.615234\" xlink:href=\"#LiberationSans-6c\"/>\n      <use x=\"127.832031\" xlink:href=\"#LiberationSans-69\"/>\n      <use x=\"150.048828\" xlink:href=\"#LiberationSans-64\"/>\n      <use x=\"205.664062\" xlink:href=\"#LiberationSans-61\"/>\n      <use x=\"261.279297\" xlink:href=\"#LiberationSans-74\"/>\n      <use x=\"289.0625\" xlink:href=\"#LiberationSans-69\"/>\n      <use x=\"311.279297\" xlink:href=\"#LiberationSans-6f\"/>\n      <use x=\"366.894531\" xlink:href=\"#LiberationSans-6e\"/>\n     </g>\n    </g>\n   </g>\n  </g>\n  <g id=\"axes_2\">\n   <g id=\"patch_7\">\n    <path d=\"M 499.831705 295.4355 \nL 880.28625 295.4355 \nL 880.28625 23.6355 \nL 499.831705 23.6355 \nz\n\" style=\"fill:#e5e5e5;\"/>\n   </g>\n   <g id=\"matplotlib.axis_3\">\n    <g id=\"xtick_410\">\n     <g id=\"line2d_439\">\n      <path clip-path=\"url(#p8322c8b869)\" d=\"M 516.258256 295.4355 \nL 516.258256 23.6355 \n\" style=\"fill:none;stroke:#ffffff;stroke-linecap:round;\"/>\n     </g>\n     <g id=\"line2d_440\"/>\n     <g id=\"text_22\">\n      <!-- 0 -->\n      <g style=\"fill:#555555;\" transform=\"translate(513.477788 309.682375)scale(0.1 -0.1)\">\n       <use xlink:href=\"#LiberationSans-30\"/>\n      </g>\n     </g>\n    </g>\n    <g id=\"xtick_411\">\n     <g id=\"line2d_441\">\n      <path clip-path=\"url(#p8322c8b869)\" d=\"M 559.600082 295.4355 \nL 559.600082 23.6355 \n\" style=\"fill:none;stroke:#ffffff;stroke-linecap:round;\"/>\n     </g>\n     <g id=\"line2d_442\"/>\n     <g id=\"text_23\">\n      <!-- 50 -->\n      <g style=\"fill:#555555;\" transform=\"translate(554.039145 309.682375)scale(0.1 -0.1)\">\n       <use xlink:href=\"#LiberationSans-35\"/>\n       <use x=\"55.615234\" xlink:href=\"#LiberationSans-30\"/>\n      </g>\n     </g>\n    </g>\n    <g id=\"xtick_412\">\n     <g id=\"line2d_443\">\n      <path clip-path=\"url(#p8322c8b869)\" d=\"M 602.941908 295.4355 \nL 602.941908 23.6355 \n\" style=\"fill:none;stroke:#ffffff;stroke-linecap:round;\"/>\n     </g>\n     <g id=\"line2d_444\"/>\n     <g id=\"text_24\">\n      <!-- 100 -->\n      <g style=\"fill:#555555;\" transform=\"translate(594.600501 309.682375)scale(0.1 -0.1)\">\n       <use xlink:href=\"#LiberationSans-31\"/>\n       <use x=\"55.615234\" xlink:href=\"#LiberationSans-30\"/>\n       <use x=\"111.230469\" xlink:href=\"#LiberationSans-30\"/>\n      </g>\n     </g>\n    </g>\n    <g id=\"xtick_413\">\n     <g id=\"line2d_445\">\n      <path clip-path=\"url(#p8322c8b869)\" d=\"M 646.283733 295.4355 \nL 646.283733 23.6355 \n\" style=\"fill:none;stroke:#ffffff;stroke-linecap:round;\"/>\n     </g>\n     <g id=\"line2d_446\"/>\n     <g id=\"text_25\">\n      <!-- 150 -->\n      <g style=\"fill:#555555;\" transform=\"translate(637.942327 309.682375)scale(0.1 -0.1)\">\n       <use xlink:href=\"#LiberationSans-31\"/>\n       <use x=\"55.615234\" xlink:href=\"#LiberationSans-35\"/>\n       <use x=\"111.230469\" xlink:href=\"#LiberationSans-30\"/>\n      </g>\n     </g>\n    </g>\n    <g id=\"xtick_414\">\n     <g id=\"line2d_447\">\n      <path clip-path=\"url(#p8322c8b869)\" d=\"M 689.625559 295.4355 \nL 689.625559 23.6355 \n\" style=\"fill:none;stroke:#ffffff;stroke-linecap:round;\"/>\n     </g>\n     <g id=\"line2d_448\"/>\n     <g id=\"text_26\">\n      <!-- 200 -->\n      <g style=\"fill:#555555;\" transform=\"translate(681.284153 309.682375)scale(0.1 -0.1)\">\n       <use xlink:href=\"#LiberationSans-32\"/>\n       <use x=\"55.615234\" xlink:href=\"#LiberationSans-30\"/>\n       <use x=\"111.230469\" xlink:href=\"#LiberationSans-30\"/>\n      </g>\n     </g>\n    </g>\n    <g id=\"xtick_415\">\n     <g id=\"line2d_449\">\n      <path clip-path=\"url(#p8322c8b869)\" d=\"M 732.967385 295.4355 \nL 732.967385 23.6355 \n\" style=\"fill:none;stroke:#ffffff;stroke-linecap:round;\"/>\n     </g>\n     <g id=\"line2d_450\"/>\n     <g id=\"text_27\">\n      <!-- 250 -->\n      <g style=\"fill:#555555;\" transform=\"translate(724.625978 309.682375)scale(0.1 -0.1)\">\n       <use xlink:href=\"#LiberationSans-32\"/>\n       <use x=\"55.615234\" xlink:href=\"#LiberationSans-35\"/>\n       <use x=\"111.230469\" xlink:href=\"#LiberationSans-30\"/>\n      </g>\n     </g>\n    </g>\n    <g id=\"xtick_416\">\n     <g id=\"line2d_451\">\n      <path clip-path=\"url(#p8322c8b869)\" d=\"M 776.30921 295.4355 \nL 776.30921 23.6355 \n\" style=\"fill:none;stroke:#ffffff;stroke-linecap:round;\"/>\n     </g>\n     <g id=\"line2d_452\"/>\n     <g id=\"text_28\">\n      <!-- 300 -->\n      <g style=\"fill:#555555;\" transform=\"translate(767.967804 309.682375)scale(0.1 -0.1)\">\n       <use xlink:href=\"#LiberationSans-33\"/>\n       <use x=\"55.615234\" xlink:href=\"#LiberationSans-30\"/>\n       <use x=\"111.230469\" xlink:href=\"#LiberationSans-30\"/>\n      </g>\n     </g>\n    </g>\n    <g id=\"xtick_417\">\n     <g id=\"line2d_453\">\n      <path clip-path=\"url(#p8322c8b869)\" d=\"M 819.651036 295.4355 \nL 819.651036 23.6355 \n\" style=\"fill:none;stroke:#ffffff;stroke-linecap:round;\"/>\n     </g>\n     <g id=\"line2d_454\"/>\n     <g id=\"text_29\">\n      <!-- 350 -->\n      <g style=\"fill:#555555;\" transform=\"translate(811.30963 309.682375)scale(0.1 -0.1)\">\n       <use xlink:href=\"#LiberationSans-33\"/>\n       <use x=\"55.615234\" xlink:href=\"#LiberationSans-35\"/>\n       <use x=\"111.230469\" xlink:href=\"#LiberationSans-30\"/>\n      </g>\n     </g>\n    </g>\n    <g id=\"xtick_418\">\n     <g id=\"line2d_455\">\n      <path clip-path=\"url(#p8322c8b869)\" d=\"M 862.992862 295.4355 \nL 862.992862 23.6355 \n\" style=\"fill:none;stroke:#ffffff;stroke-linecap:round;\"/>\n     </g>\n     <g id=\"line2d_456\"/>\n     <g id=\"text_30\">\n      <!-- 400 -->\n      <g style=\"fill:#555555;\" transform=\"translate(854.651455 309.682375)scale(0.1 -0.1)\">\n       <use xlink:href=\"#LiberationSans-34\"/>\n       <use x=\"55.615234\" xlink:href=\"#LiberationSans-30\"/>\n       <use x=\"111.230469\" xlink:href=\"#LiberationSans-30\"/>\n      </g>\n     </g>\n    </g>\n    <g id=\"xtick_419\">\n     <g id=\"line2d_457\"/>\n    </g>\n    <g id=\"xtick_420\">\n     <g id=\"line2d_458\"/>\n    </g>\n    <g id=\"xtick_421\">\n     <g id=\"line2d_459\"/>\n    </g>\n    <g id=\"xtick_422\">\n     <g id=\"line2d_460\"/>\n    </g>\n    <g id=\"xtick_423\">\n     <g id=\"line2d_461\"/>\n    </g>\n    <g id=\"xtick_424\">\n     <g id=\"line2d_462\"/>\n    </g>\n    <g id=\"xtick_425\">\n     <g id=\"line2d_463\"/>\n    </g>\n    <g id=\"xtick_426\">\n     <g id=\"line2d_464\"/>\n    </g>\n    <g id=\"xtick_427\">\n     <g id=\"line2d_465\"/>\n    </g>\n    <g id=\"xtick_428\">\n     <g id=\"line2d_466\"/>\n    </g>\n    <g id=\"xtick_429\">\n     <g id=\"line2d_467\"/>\n    </g>\n    <g id=\"xtick_430\">\n     <g id=\"line2d_468\"/>\n    </g>\n    <g id=\"xtick_431\">\n     <g id=\"line2d_469\"/>\n    </g>\n    <g id=\"xtick_432\">\n     <g id=\"line2d_470\"/>\n    </g>\n    <g id=\"xtick_433\">\n     <g id=\"line2d_471\"/>\n    </g>\n    <g id=\"xtick_434\">\n     <g id=\"line2d_472\"/>\n    </g>\n    <g id=\"xtick_435\">\n     <g id=\"line2d_473\"/>\n    </g>\n    <g id=\"xtick_436\">\n     <g id=\"line2d_474\"/>\n    </g>\n    <g id=\"xtick_437\">\n     <g id=\"line2d_475\"/>\n    </g>\n    <g id=\"xtick_438\">\n     <g id=\"line2d_476\"/>\n    </g>\n    <g id=\"xtick_439\">\n     <g id=\"line2d_477\"/>\n    </g>\n    <g id=\"xtick_440\">\n     <g id=\"line2d_478\"/>\n    </g>\n    <g id=\"xtick_441\">\n     <g id=\"line2d_479\"/>\n    </g>\n    <g id=\"xtick_442\">\n     <g id=\"line2d_480\"/>\n    </g>\n    <g id=\"xtick_443\">\n     <g id=\"line2d_481\"/>\n    </g>\n    <g id=\"xtick_444\">\n     <g id=\"line2d_482\"/>\n    </g>\n    <g id=\"xtick_445\">\n     <g id=\"line2d_483\"/>\n    </g>\n    <g id=\"xtick_446\">\n     <g id=\"line2d_484\"/>\n    </g>\n    <g id=\"xtick_447\">\n     <g id=\"line2d_485\"/>\n    </g>\n    <g id=\"xtick_448\">\n     <g id=\"line2d_486\"/>\n    </g>\n    <g id=\"xtick_449\">\n     <g id=\"line2d_487\"/>\n    </g>\n    <g id=\"xtick_450\">\n     <g id=\"line2d_488\"/>\n    </g>\n    <g id=\"xtick_451\">\n     <g id=\"line2d_489\"/>\n    </g>\n    <g id=\"xtick_452\">\n     <g id=\"line2d_490\"/>\n    </g>\n    <g id=\"xtick_453\">\n     <g id=\"line2d_491\"/>\n    </g>\n    <g id=\"xtick_454\">\n     <g id=\"line2d_492\"/>\n    </g>\n    <g id=\"xtick_455\">\n     <g id=\"line2d_493\"/>\n    </g>\n    <g id=\"xtick_456\">\n     <g id=\"line2d_494\"/>\n    </g>\n    <g id=\"xtick_457\">\n     <g id=\"line2d_495\"/>\n    </g>\n    <g id=\"xtick_458\">\n     <g id=\"line2d_496\"/>\n    </g>\n    <g id=\"xtick_459\">\n     <g id=\"line2d_497\"/>\n    </g>\n    <g id=\"xtick_460\">\n     <g id=\"line2d_498\"/>\n    </g>\n    <g id=\"xtick_461\">\n     <g id=\"line2d_499\"/>\n    </g>\n    <g id=\"xtick_462\">\n     <g id=\"line2d_500\"/>\n    </g>\n    <g id=\"xtick_463\">\n     <g id=\"line2d_501\"/>\n    </g>\n    <g id=\"xtick_464\">\n     <g id=\"line2d_502\"/>\n    </g>\n    <g id=\"xtick_465\">\n     <g id=\"line2d_503\"/>\n    </g>\n    <g id=\"xtick_466\">\n     <g id=\"line2d_504\"/>\n    </g>\n    <g id=\"xtick_467\">\n     <g id=\"line2d_505\"/>\n    </g>\n    <g id=\"xtick_468\">\n     <g id=\"line2d_506\"/>\n    </g>\n    <g id=\"xtick_469\">\n     <g id=\"line2d_507\"/>\n    </g>\n    <g id=\"xtick_470\">\n     <g id=\"line2d_508\"/>\n    </g>\n    <g id=\"xtick_471\">\n     <g id=\"line2d_509\"/>\n    </g>\n    <g id=\"xtick_472\">\n     <g id=\"line2d_510\"/>\n    </g>\n    <g id=\"xtick_473\">\n     <g id=\"line2d_511\"/>\n    </g>\n    <g id=\"xtick_474\">\n     <g id=\"line2d_512\"/>\n    </g>\n    <g id=\"xtick_475\">\n     <g id=\"line2d_513\"/>\n    </g>\n    <g id=\"xtick_476\">\n     <g id=\"line2d_514\"/>\n    </g>\n    <g id=\"xtick_477\">\n     <g id=\"line2d_515\"/>\n    </g>\n    <g id=\"xtick_478\">\n     <g id=\"line2d_516\"/>\n    </g>\n    <g id=\"xtick_479\">\n     <g id=\"line2d_517\"/>\n    </g>\n    <g id=\"xtick_480\">\n     <g id=\"line2d_518\"/>\n    </g>\n    <g id=\"xtick_481\">\n     <g id=\"line2d_519\"/>\n    </g>\n    <g id=\"xtick_482\">\n     <g id=\"line2d_520\"/>\n    </g>\n    <g id=\"xtick_483\">\n     <g id=\"line2d_521\"/>\n    </g>\n    <g id=\"xtick_484\">\n     <g id=\"line2d_522\"/>\n    </g>\n    <g id=\"xtick_485\">\n     <g id=\"line2d_523\"/>\n    </g>\n    <g id=\"xtick_486\">\n     <g id=\"line2d_524\"/>\n    </g>\n    <g id=\"xtick_487\">\n     <g id=\"line2d_525\"/>\n    </g>\n    <g id=\"xtick_488\">\n     <g id=\"line2d_526\"/>\n    </g>\n    <g id=\"xtick_489\">\n     <g id=\"line2d_527\"/>\n    </g>\n    <g id=\"xtick_490\">\n     <g id=\"line2d_528\"/>\n    </g>\n    <g id=\"xtick_491\">\n     <g id=\"line2d_529\"/>\n    </g>\n    <g id=\"xtick_492\">\n     <g id=\"line2d_530\"/>\n    </g>\n    <g id=\"xtick_493\">\n     <g id=\"line2d_531\"/>\n    </g>\n    <g id=\"xtick_494\">\n     <g id=\"line2d_532\"/>\n    </g>\n    <g id=\"xtick_495\">\n     <g id=\"line2d_533\"/>\n    </g>\n    <g id=\"xtick_496\">\n     <g id=\"line2d_534\"/>\n    </g>\n    <g id=\"xtick_497\">\n     <g id=\"line2d_535\"/>\n    </g>\n    <g id=\"xtick_498\">\n     <g id=\"line2d_536\"/>\n    </g>\n    <g id=\"xtick_499\">\n     <g id=\"line2d_537\"/>\n    </g>\n    <g id=\"xtick_500\">\n     <g id=\"line2d_538\"/>\n    </g>\n    <g id=\"xtick_501\">\n     <g id=\"line2d_539\"/>\n    </g>\n    <g id=\"xtick_502\">\n     <g id=\"line2d_540\"/>\n    </g>\n    <g id=\"xtick_503\">\n     <g id=\"line2d_541\"/>\n    </g>\n    <g id=\"xtick_504\">\n     <g id=\"line2d_542\"/>\n    </g>\n    <g id=\"xtick_505\">\n     <g id=\"line2d_543\"/>\n    </g>\n    <g id=\"xtick_506\">\n     <g id=\"line2d_544\"/>\n    </g>\n    <g id=\"xtick_507\">\n     <g id=\"line2d_545\"/>\n    </g>\n    <g id=\"xtick_508\">\n     <g id=\"line2d_546\"/>\n    </g>\n    <g id=\"xtick_509\">\n     <g id=\"line2d_547\"/>\n    </g>\n    <g id=\"xtick_510\">\n     <g id=\"line2d_548\"/>\n    </g>\n    <g id=\"xtick_511\">\n     <g id=\"line2d_549\"/>\n    </g>\n    <g id=\"xtick_512\">\n     <g id=\"line2d_550\"/>\n    </g>\n    <g id=\"xtick_513\">\n     <g id=\"line2d_551\"/>\n    </g>\n    <g id=\"xtick_514\">\n     <g id=\"line2d_552\"/>\n    </g>\n    <g id=\"xtick_515\">\n     <g id=\"line2d_553\"/>\n    </g>\n    <g id=\"xtick_516\">\n     <g id=\"line2d_554\"/>\n    </g>\n    <g id=\"xtick_517\">\n     <g id=\"line2d_555\"/>\n    </g>\n    <g id=\"xtick_518\">\n     <g id=\"line2d_556\"/>\n    </g>\n    <g id=\"xtick_519\">\n     <g id=\"line2d_557\"/>\n    </g>\n    <g id=\"xtick_520\">\n     <g id=\"line2d_558\"/>\n    </g>\n    <g id=\"xtick_521\">\n     <g id=\"line2d_559\"/>\n    </g>\n    <g id=\"xtick_522\">\n     <g id=\"line2d_560\"/>\n    </g>\n    <g id=\"xtick_523\">\n     <g id=\"line2d_561\"/>\n    </g>\n    <g id=\"xtick_524\">\n     <g id=\"line2d_562\"/>\n    </g>\n    <g id=\"xtick_525\">\n     <g id=\"line2d_563\"/>\n    </g>\n    <g id=\"xtick_526\">\n     <g id=\"line2d_564\"/>\n    </g>\n    <g id=\"xtick_527\">\n     <g id=\"line2d_565\"/>\n    </g>\n    <g id=\"xtick_528\">\n     <g id=\"line2d_566\"/>\n    </g>\n    <g id=\"xtick_529\">\n     <g id=\"line2d_567\"/>\n    </g>\n    <g id=\"xtick_530\">\n     <g id=\"line2d_568\"/>\n    </g>\n    <g id=\"xtick_531\">\n     <g id=\"line2d_569\"/>\n    </g>\n    <g id=\"xtick_532\">\n     <g id=\"line2d_570\"/>\n    </g>\n    <g id=\"xtick_533\">\n     <g id=\"line2d_571\"/>\n    </g>\n    <g id=\"xtick_534\">\n     <g id=\"line2d_572\"/>\n    </g>\n    <g id=\"xtick_535\">\n     <g id=\"line2d_573\"/>\n    </g>\n    <g id=\"xtick_536\">\n     <g id=\"line2d_574\"/>\n    </g>\n    <g id=\"xtick_537\">\n     <g id=\"line2d_575\"/>\n    </g>\n    <g id=\"xtick_538\">\n     <g id=\"line2d_576\"/>\n    </g>\n    <g id=\"xtick_539\">\n     <g id=\"line2d_577\"/>\n    </g>\n    <g id=\"xtick_540\">\n     <g id=\"line2d_578\"/>\n    </g>\n    <g id=\"xtick_541\">\n     <g id=\"line2d_579\"/>\n    </g>\n    <g id=\"xtick_542\">\n     <g id=\"line2d_580\"/>\n    </g>\n    <g id=\"xtick_543\">\n     <g id=\"line2d_581\"/>\n    </g>\n    <g id=\"xtick_544\">\n     <g id=\"line2d_582\"/>\n    </g>\n    <g id=\"xtick_545\">\n     <g id=\"line2d_583\"/>\n    </g>\n    <g id=\"xtick_546\">\n     <g id=\"line2d_584\"/>\n    </g>\n    <g id=\"xtick_547\">\n     <g id=\"line2d_585\"/>\n    </g>\n    <g id=\"xtick_548\">\n     <g id=\"line2d_586\"/>\n    </g>\n    <g id=\"xtick_549\">\n     <g id=\"line2d_587\"/>\n    </g>\n    <g id=\"xtick_550\">\n     <g id=\"line2d_588\"/>\n    </g>\n    <g id=\"xtick_551\">\n     <g id=\"line2d_589\"/>\n    </g>\n    <g id=\"xtick_552\">\n     <g id=\"line2d_590\"/>\n    </g>\n    <g id=\"xtick_553\">\n     <g id=\"line2d_591\"/>\n    </g>\n    <g id=\"xtick_554\">\n     <g id=\"line2d_592\"/>\n    </g>\n    <g id=\"xtick_555\">\n     <g id=\"line2d_593\"/>\n    </g>\n    <g id=\"xtick_556\">\n     <g id=\"line2d_594\"/>\n    </g>\n    <g id=\"xtick_557\">\n     <g id=\"line2d_595\"/>\n    </g>\n    <g id=\"xtick_558\">\n     <g id=\"line2d_596\"/>\n    </g>\n    <g id=\"xtick_559\">\n     <g id=\"line2d_597\"/>\n    </g>\n    <g id=\"xtick_560\">\n     <g id=\"line2d_598\"/>\n    </g>\n    <g id=\"xtick_561\">\n     <g id=\"line2d_599\"/>\n    </g>\n    <g id=\"xtick_562\">\n     <g id=\"line2d_600\"/>\n    </g>\n    <g id=\"xtick_563\">\n     <g id=\"line2d_601\"/>\n    </g>\n    <g id=\"xtick_564\">\n     <g id=\"line2d_602\"/>\n    </g>\n    <g id=\"xtick_565\">\n     <g id=\"line2d_603\"/>\n    </g>\n    <g id=\"xtick_566\">\n     <g id=\"line2d_604\"/>\n    </g>\n    <g id=\"xtick_567\">\n     <g id=\"line2d_605\"/>\n    </g>\n    <g id=\"xtick_568\">\n     <g id=\"line2d_606\"/>\n    </g>\n    <g id=\"xtick_569\">\n     <g id=\"line2d_607\"/>\n    </g>\n    <g id=\"xtick_570\">\n     <g id=\"line2d_608\"/>\n    </g>\n    <g id=\"xtick_571\">\n     <g id=\"line2d_609\"/>\n    </g>\n    <g id=\"xtick_572\">\n     <g id=\"line2d_610\"/>\n    </g>\n    <g id=\"xtick_573\">\n     <g id=\"line2d_611\"/>\n    </g>\n    <g id=\"xtick_574\">\n     <g id=\"line2d_612\"/>\n    </g>\n    <g id=\"xtick_575\">\n     <g id=\"line2d_613\"/>\n    </g>\n    <g id=\"xtick_576\">\n     <g id=\"line2d_614\"/>\n    </g>\n    <g id=\"xtick_577\">\n     <g id=\"line2d_615\"/>\n    </g>\n    <g id=\"xtick_578\">\n     <g id=\"line2d_616\"/>\n    </g>\n    <g id=\"xtick_579\">\n     <g id=\"line2d_617\"/>\n    </g>\n    <g id=\"xtick_580\">\n     <g id=\"line2d_618\"/>\n    </g>\n    <g id=\"xtick_581\">\n     <g id=\"line2d_619\"/>\n    </g>\n    <g id=\"xtick_582\">\n     <g id=\"line2d_620\"/>\n    </g>\n    <g id=\"xtick_583\">\n     <g id=\"line2d_621\"/>\n    </g>\n    <g id=\"xtick_584\">\n     <g id=\"line2d_622\"/>\n    </g>\n    <g id=\"xtick_585\">\n     <g id=\"line2d_623\"/>\n    </g>\n    <g id=\"xtick_586\">\n     <g id=\"line2d_624\"/>\n    </g>\n    <g id=\"xtick_587\">\n     <g id=\"line2d_625\"/>\n    </g>\n    <g id=\"xtick_588\">\n     <g id=\"line2d_626\"/>\n    </g>\n    <g id=\"xtick_589\">\n     <g id=\"line2d_627\"/>\n    </g>\n    <g id=\"xtick_590\">\n     <g id=\"line2d_628\"/>\n    </g>\n    <g id=\"xtick_591\">\n     <g id=\"line2d_629\"/>\n    </g>\n    <g id=\"xtick_592\">\n     <g id=\"line2d_630\"/>\n    </g>\n    <g id=\"xtick_593\">\n     <g id=\"line2d_631\"/>\n    </g>\n    <g id=\"xtick_594\">\n     <g id=\"line2d_632\"/>\n    </g>\n    <g id=\"xtick_595\">\n     <g id=\"line2d_633\"/>\n    </g>\n    <g id=\"xtick_596\">\n     <g id=\"line2d_634\"/>\n    </g>\n    <g id=\"xtick_597\">\n     <g id=\"line2d_635\"/>\n    </g>\n    <g id=\"xtick_598\">\n     <g id=\"line2d_636\"/>\n    </g>\n    <g id=\"xtick_599\">\n     <g id=\"line2d_637\"/>\n    </g>\n    <g id=\"xtick_600\">\n     <g id=\"line2d_638\"/>\n    </g>\n    <g id=\"xtick_601\">\n     <g id=\"line2d_639\"/>\n    </g>\n    <g id=\"xtick_602\">\n     <g id=\"line2d_640\"/>\n    </g>\n    <g id=\"xtick_603\">\n     <g id=\"line2d_641\"/>\n    </g>\n    <g id=\"xtick_604\">\n     <g id=\"line2d_642\"/>\n    </g>\n    <g id=\"xtick_605\">\n     <g id=\"line2d_643\"/>\n    </g>\n    <g id=\"xtick_606\">\n     <g id=\"line2d_644\"/>\n    </g>\n    <g id=\"xtick_607\">\n     <g id=\"line2d_645\"/>\n    </g>\n    <g id=\"xtick_608\">\n     <g id=\"line2d_646\"/>\n    </g>\n    <g id=\"xtick_609\">\n     <g id=\"line2d_647\"/>\n    </g>\n    <g id=\"xtick_610\">\n     <g id=\"line2d_648\"/>\n    </g>\n    <g id=\"xtick_611\">\n     <g id=\"line2d_649\"/>\n    </g>\n    <g id=\"xtick_612\">\n     <g id=\"line2d_650\"/>\n    </g>\n    <g id=\"xtick_613\">\n     <g id=\"line2d_651\"/>\n    </g>\n    <g id=\"xtick_614\">\n     <g id=\"line2d_652\"/>\n    </g>\n    <g id=\"xtick_615\">\n     <g id=\"line2d_653\"/>\n    </g>\n    <g id=\"xtick_616\">\n     <g id=\"line2d_654\"/>\n    </g>\n    <g id=\"xtick_617\">\n     <g id=\"line2d_655\"/>\n    </g>\n    <g id=\"xtick_618\">\n     <g id=\"line2d_656\"/>\n    </g>\n    <g id=\"xtick_619\">\n     <g id=\"line2d_657\"/>\n    </g>\n    <g id=\"xtick_620\">\n     <g id=\"line2d_658\"/>\n    </g>\n    <g id=\"xtick_621\">\n     <g id=\"line2d_659\"/>\n    </g>\n    <g id=\"xtick_622\">\n     <g id=\"line2d_660\"/>\n    </g>\n    <g id=\"xtick_623\">\n     <g id=\"line2d_661\"/>\n    </g>\n    <g id=\"xtick_624\">\n     <g id=\"line2d_662\"/>\n    </g>\n    <g id=\"xtick_625\">\n     <g id=\"line2d_663\"/>\n    </g>\n    <g id=\"xtick_626\">\n     <g id=\"line2d_664\"/>\n    </g>\n    <g id=\"xtick_627\">\n     <g id=\"line2d_665\"/>\n    </g>\n    <g id=\"xtick_628\">\n     <g id=\"line2d_666\"/>\n    </g>\n    <g id=\"xtick_629\">\n     <g id=\"line2d_667\"/>\n    </g>\n    <g id=\"xtick_630\">\n     <g id=\"line2d_668\"/>\n    </g>\n    <g id=\"xtick_631\">\n     <g id=\"line2d_669\"/>\n    </g>\n    <g id=\"xtick_632\">\n     <g id=\"line2d_670\"/>\n    </g>\n    <g id=\"xtick_633\">\n     <g id=\"line2d_671\"/>\n    </g>\n    <g id=\"xtick_634\">\n     <g id=\"line2d_672\"/>\n    </g>\n    <g id=\"xtick_635\">\n     <g id=\"line2d_673\"/>\n    </g>\n    <g id=\"xtick_636\">\n     <g id=\"line2d_674\"/>\n    </g>\n    <g id=\"xtick_637\">\n     <g id=\"line2d_675\"/>\n    </g>\n    <g id=\"xtick_638\">\n     <g id=\"line2d_676\"/>\n    </g>\n    <g id=\"xtick_639\">\n     <g id=\"line2d_677\"/>\n    </g>\n    <g id=\"xtick_640\">\n     <g id=\"line2d_678\"/>\n    </g>\n    <g id=\"xtick_641\">\n     <g id=\"line2d_679\"/>\n    </g>\n    <g id=\"xtick_642\">\n     <g id=\"line2d_680\"/>\n    </g>\n    <g id=\"xtick_643\">\n     <g id=\"line2d_681\"/>\n    </g>\n    <g id=\"xtick_644\">\n     <g id=\"line2d_682\"/>\n    </g>\n    <g id=\"xtick_645\">\n     <g id=\"line2d_683\"/>\n    </g>\n    <g id=\"xtick_646\">\n     <g id=\"line2d_684\"/>\n    </g>\n    <g id=\"xtick_647\">\n     <g id=\"line2d_685\"/>\n    </g>\n    <g id=\"xtick_648\">\n     <g id=\"line2d_686\"/>\n    </g>\n    <g id=\"xtick_649\">\n     <g id=\"line2d_687\"/>\n    </g>\n    <g id=\"xtick_650\">\n     <g id=\"line2d_688\"/>\n    </g>\n    <g id=\"xtick_651\">\n     <g id=\"line2d_689\"/>\n    </g>\n    <g id=\"xtick_652\">\n     <g id=\"line2d_690\"/>\n    </g>\n    <g id=\"xtick_653\">\n     <g id=\"line2d_691\"/>\n    </g>\n    <g id=\"xtick_654\">\n     <g id=\"line2d_692\"/>\n    </g>\n    <g id=\"xtick_655\">\n     <g id=\"line2d_693\"/>\n    </g>\n    <g id=\"xtick_656\">\n     <g id=\"line2d_694\"/>\n    </g>\n    <g id=\"xtick_657\">\n     <g id=\"line2d_695\"/>\n    </g>\n    <g id=\"xtick_658\">\n     <g id=\"line2d_696\"/>\n    </g>\n    <g id=\"xtick_659\">\n     <g id=\"line2d_697\"/>\n    </g>\n    <g id=\"xtick_660\">\n     <g id=\"line2d_698\"/>\n    </g>\n    <g id=\"xtick_661\">\n     <g id=\"line2d_699\"/>\n    </g>\n    <g id=\"xtick_662\">\n     <g id=\"line2d_700\"/>\n    </g>\n    <g id=\"xtick_663\">\n     <g id=\"line2d_701\"/>\n    </g>\n    <g id=\"xtick_664\">\n     <g id=\"line2d_702\"/>\n    </g>\n    <g id=\"xtick_665\">\n     <g id=\"line2d_703\"/>\n    </g>\n    <g id=\"xtick_666\">\n     <g id=\"line2d_704\"/>\n    </g>\n    <g id=\"xtick_667\">\n     <g id=\"line2d_705\"/>\n    </g>\n    <g id=\"xtick_668\">\n     <g id=\"line2d_706\"/>\n    </g>\n    <g id=\"xtick_669\">\n     <g id=\"line2d_707\"/>\n    </g>\n    <g id=\"xtick_670\">\n     <g id=\"line2d_708\"/>\n    </g>\n    <g id=\"xtick_671\">\n     <g id=\"line2d_709\"/>\n    </g>\n    <g id=\"xtick_672\">\n     <g id=\"line2d_710\"/>\n    </g>\n    <g id=\"xtick_673\">\n     <g id=\"line2d_711\"/>\n    </g>\n    <g id=\"xtick_674\">\n     <g id=\"line2d_712\"/>\n    </g>\n    <g id=\"xtick_675\">\n     <g id=\"line2d_713\"/>\n    </g>\n    <g id=\"xtick_676\">\n     <g id=\"line2d_714\"/>\n    </g>\n    <g id=\"xtick_677\">\n     <g id=\"line2d_715\"/>\n    </g>\n    <g id=\"xtick_678\">\n     <g id=\"line2d_716\"/>\n    </g>\n    <g id=\"xtick_679\">\n     <g id=\"line2d_717\"/>\n    </g>\n    <g id=\"xtick_680\">\n     <g id=\"line2d_718\"/>\n    </g>\n    <g id=\"xtick_681\">\n     <g id=\"line2d_719\"/>\n    </g>\n    <g id=\"xtick_682\">\n     <g id=\"line2d_720\"/>\n    </g>\n    <g id=\"xtick_683\">\n     <g id=\"line2d_721\"/>\n    </g>\n    <g id=\"xtick_684\">\n     <g id=\"line2d_722\"/>\n    </g>\n    <g id=\"xtick_685\">\n     <g id=\"line2d_723\"/>\n    </g>\n    <g id=\"xtick_686\">\n     <g id=\"line2d_724\"/>\n    </g>\n    <g id=\"xtick_687\">\n     <g id=\"line2d_725\"/>\n    </g>\n    <g id=\"xtick_688\">\n     <g id=\"line2d_726\"/>\n    </g>\n    <g id=\"xtick_689\">\n     <g id=\"line2d_727\"/>\n    </g>\n    <g id=\"xtick_690\">\n     <g id=\"line2d_728\"/>\n    </g>\n    <g id=\"xtick_691\">\n     <g id=\"line2d_729\"/>\n    </g>\n    <g id=\"xtick_692\">\n     <g id=\"line2d_730\"/>\n    </g>\n    <g id=\"xtick_693\">\n     <g id=\"line2d_731\"/>\n    </g>\n    <g id=\"xtick_694\">\n     <g id=\"line2d_732\"/>\n    </g>\n    <g id=\"xtick_695\">\n     <g id=\"line2d_733\"/>\n    </g>\n    <g id=\"xtick_696\">\n     <g id=\"line2d_734\"/>\n    </g>\n    <g id=\"xtick_697\">\n     <g id=\"line2d_735\"/>\n    </g>\n    <g id=\"xtick_698\">\n     <g id=\"line2d_736\"/>\n    </g>\n    <g id=\"xtick_699\">\n     <g id=\"line2d_737\"/>\n    </g>\n    <g id=\"xtick_700\">\n     <g id=\"line2d_738\"/>\n    </g>\n    <g id=\"xtick_701\">\n     <g id=\"line2d_739\"/>\n    </g>\n    <g id=\"xtick_702\">\n     <g id=\"line2d_740\"/>\n    </g>\n    <g id=\"xtick_703\">\n     <g id=\"line2d_741\"/>\n    </g>\n    <g id=\"xtick_704\">\n     <g id=\"line2d_742\"/>\n    </g>\n    <g id=\"xtick_705\">\n     <g id=\"line2d_743\"/>\n    </g>\n    <g id=\"xtick_706\">\n     <g id=\"line2d_744\"/>\n    </g>\n    <g id=\"xtick_707\">\n     <g id=\"line2d_745\"/>\n    </g>\n    <g id=\"xtick_708\">\n     <g id=\"line2d_746\"/>\n    </g>\n    <g id=\"xtick_709\">\n     <g id=\"line2d_747\"/>\n    </g>\n    <g id=\"xtick_710\">\n     <g id=\"line2d_748\"/>\n    </g>\n    <g id=\"xtick_711\">\n     <g id=\"line2d_749\"/>\n    </g>\n    <g id=\"xtick_712\">\n     <g id=\"line2d_750\"/>\n    </g>\n    <g id=\"xtick_713\">\n     <g id=\"line2d_751\"/>\n    </g>\n    <g id=\"xtick_714\">\n     <g id=\"line2d_752\"/>\n    </g>\n    <g id=\"xtick_715\">\n     <g id=\"line2d_753\"/>\n    </g>\n    <g id=\"xtick_716\">\n     <g id=\"line2d_754\"/>\n    </g>\n    <g id=\"xtick_717\">\n     <g id=\"line2d_755\"/>\n    </g>\n    <g id=\"xtick_718\">\n     <g id=\"line2d_756\"/>\n    </g>\n    <g id=\"xtick_719\">\n     <g id=\"line2d_757\"/>\n    </g>\n    <g id=\"xtick_720\">\n     <g id=\"line2d_758\"/>\n    </g>\n    <g id=\"xtick_721\">\n     <g id=\"line2d_759\"/>\n    </g>\n    <g id=\"xtick_722\">\n     <g id=\"line2d_760\"/>\n    </g>\n    <g id=\"xtick_723\">\n     <g id=\"line2d_761\"/>\n    </g>\n    <g id=\"xtick_724\">\n     <g id=\"line2d_762\"/>\n    </g>\n    <g id=\"xtick_725\">\n     <g id=\"line2d_763\"/>\n    </g>\n    <g id=\"xtick_726\">\n     <g id=\"line2d_764\"/>\n    </g>\n    <g id=\"xtick_727\">\n     <g id=\"line2d_765\"/>\n    </g>\n    <g id=\"xtick_728\">\n     <g id=\"line2d_766\"/>\n    </g>\n    <g id=\"xtick_729\">\n     <g id=\"line2d_767\"/>\n    </g>\n    <g id=\"xtick_730\">\n     <g id=\"line2d_768\"/>\n    </g>\n    <g id=\"xtick_731\">\n     <g id=\"line2d_769\"/>\n    </g>\n    <g id=\"xtick_732\">\n     <g id=\"line2d_770\"/>\n    </g>\n    <g id=\"xtick_733\">\n     <g id=\"line2d_771\"/>\n    </g>\n    <g id=\"xtick_734\">\n     <g id=\"line2d_772\"/>\n    </g>\n    <g id=\"xtick_735\">\n     <g id=\"line2d_773\"/>\n    </g>\n    <g id=\"xtick_736\">\n     <g id=\"line2d_774\"/>\n    </g>\n    <g id=\"xtick_737\">\n     <g id=\"line2d_775\"/>\n    </g>\n    <g id=\"xtick_738\">\n     <g id=\"line2d_776\"/>\n    </g>\n    <g id=\"xtick_739\">\n     <g id=\"line2d_777\"/>\n    </g>\n    <g id=\"xtick_740\">\n     <g id=\"line2d_778\"/>\n    </g>\n    <g id=\"xtick_741\">\n     <g id=\"line2d_779\"/>\n    </g>\n    <g id=\"xtick_742\">\n     <g id=\"line2d_780\"/>\n    </g>\n    <g id=\"xtick_743\">\n     <g id=\"line2d_781\"/>\n    </g>\n    <g id=\"xtick_744\">\n     <g id=\"line2d_782\"/>\n    </g>\n    <g id=\"xtick_745\">\n     <g id=\"line2d_783\"/>\n    </g>\n    <g id=\"xtick_746\">\n     <g id=\"line2d_784\"/>\n    </g>\n    <g id=\"xtick_747\">\n     <g id=\"line2d_785\"/>\n    </g>\n    <g id=\"xtick_748\">\n     <g id=\"line2d_786\"/>\n    </g>\n    <g id=\"xtick_749\">\n     <g id=\"line2d_787\"/>\n    </g>\n    <g id=\"xtick_750\">\n     <g id=\"line2d_788\"/>\n    </g>\n    <g id=\"xtick_751\">\n     <g id=\"line2d_789\"/>\n    </g>\n    <g id=\"xtick_752\">\n     <g id=\"line2d_790\"/>\n    </g>\n    <g id=\"xtick_753\">\n     <g id=\"line2d_791\"/>\n    </g>\n    <g id=\"xtick_754\">\n     <g id=\"line2d_792\"/>\n    </g>\n    <g id=\"xtick_755\">\n     <g id=\"line2d_793\"/>\n    </g>\n    <g id=\"xtick_756\">\n     <g id=\"line2d_794\"/>\n    </g>\n    <g id=\"xtick_757\">\n     <g id=\"line2d_795\"/>\n    </g>\n    <g id=\"xtick_758\">\n     <g id=\"line2d_796\"/>\n    </g>\n    <g id=\"xtick_759\">\n     <g id=\"line2d_797\"/>\n    </g>\n    <g id=\"xtick_760\">\n     <g id=\"line2d_798\"/>\n    </g>\n    <g id=\"xtick_761\">\n     <g id=\"line2d_799\"/>\n    </g>\n    <g id=\"xtick_762\">\n     <g id=\"line2d_800\"/>\n    </g>\n    <g id=\"xtick_763\">\n     <g id=\"line2d_801\"/>\n    </g>\n    <g id=\"xtick_764\">\n     <g id=\"line2d_802\"/>\n    </g>\n    <g id=\"xtick_765\">\n     <g id=\"line2d_803\"/>\n    </g>\n    <g id=\"xtick_766\">\n     <g id=\"line2d_804\"/>\n    </g>\n    <g id=\"xtick_767\">\n     <g id=\"line2d_805\"/>\n    </g>\n    <g id=\"xtick_768\">\n     <g id=\"line2d_806\"/>\n    </g>\n    <g id=\"xtick_769\">\n     <g id=\"line2d_807\"/>\n    </g>\n    <g id=\"xtick_770\">\n     <g id=\"line2d_808\"/>\n    </g>\n    <g id=\"xtick_771\">\n     <g id=\"line2d_809\"/>\n    </g>\n    <g id=\"xtick_772\">\n     <g id=\"line2d_810\"/>\n    </g>\n    <g id=\"xtick_773\">\n     <g id=\"line2d_811\"/>\n    </g>\n    <g id=\"xtick_774\">\n     <g id=\"line2d_812\"/>\n    </g>\n    <g id=\"xtick_775\">\n     <g id=\"line2d_813\"/>\n    </g>\n    <g id=\"xtick_776\">\n     <g id=\"line2d_814\"/>\n    </g>\n    <g id=\"xtick_777\">\n     <g id=\"line2d_815\"/>\n    </g>\n    <g id=\"xtick_778\">\n     <g id=\"line2d_816\"/>\n    </g>\n    <g id=\"xtick_779\">\n     <g id=\"line2d_817\"/>\n    </g>\n    <g id=\"xtick_780\">\n     <g id=\"line2d_818\"/>\n    </g>\n    <g id=\"xtick_781\">\n     <g id=\"line2d_819\"/>\n    </g>\n    <g id=\"xtick_782\">\n     <g id=\"line2d_820\"/>\n    </g>\n    <g id=\"xtick_783\">\n     <g id=\"line2d_821\"/>\n    </g>\n    <g id=\"xtick_784\">\n     <g id=\"line2d_822\"/>\n    </g>\n    <g id=\"xtick_785\">\n     <g id=\"line2d_823\"/>\n    </g>\n    <g id=\"xtick_786\">\n     <g id=\"line2d_824\"/>\n    </g>\n    <g id=\"xtick_787\">\n     <g id=\"line2d_825\"/>\n    </g>\n    <g id=\"xtick_788\">\n     <g id=\"line2d_826\"/>\n    </g>\n    <g id=\"xtick_789\">\n     <g id=\"line2d_827\"/>\n    </g>\n    <g id=\"xtick_790\">\n     <g id=\"line2d_828\"/>\n    </g>\n    <g id=\"xtick_791\">\n     <g id=\"line2d_829\"/>\n    </g>\n    <g id=\"xtick_792\">\n     <g id=\"line2d_830\"/>\n    </g>\n    <g id=\"xtick_793\">\n     <g id=\"line2d_831\"/>\n    </g>\n    <g id=\"xtick_794\">\n     <g id=\"line2d_832\"/>\n    </g>\n    <g id=\"xtick_795\">\n     <g id=\"line2d_833\"/>\n    </g>\n    <g id=\"xtick_796\">\n     <g id=\"line2d_834\"/>\n    </g>\n    <g id=\"xtick_797\">\n     <g id=\"line2d_835\"/>\n    </g>\n    <g id=\"xtick_798\">\n     <g id=\"line2d_836\"/>\n    </g>\n    <g id=\"xtick_799\">\n     <g id=\"line2d_837\"/>\n    </g>\n    <g id=\"xtick_800\">\n     <g id=\"line2d_838\"/>\n    </g>\n    <g id=\"xtick_801\">\n     <g id=\"line2d_839\"/>\n    </g>\n    <g id=\"xtick_802\">\n     <g id=\"line2d_840\"/>\n    </g>\n    <g id=\"xtick_803\">\n     <g id=\"line2d_841\"/>\n    </g>\n    <g id=\"xtick_804\">\n     <g id=\"line2d_842\"/>\n    </g>\n    <g id=\"xtick_805\">\n     <g id=\"line2d_843\"/>\n    </g>\n    <g id=\"xtick_806\">\n     <g id=\"line2d_844\"/>\n    </g>\n    <g id=\"xtick_807\">\n     <g id=\"line2d_845\"/>\n    </g>\n    <g id=\"xtick_808\">\n     <g id=\"line2d_846\"/>\n    </g>\n    <g id=\"xtick_809\">\n     <g id=\"line2d_847\"/>\n    </g>\n    <g id=\"xtick_810\">\n     <g id=\"line2d_848\"/>\n    </g>\n    <g id=\"xtick_811\">\n     <g id=\"line2d_849\"/>\n    </g>\n    <g id=\"xtick_812\">\n     <g id=\"line2d_850\"/>\n    </g>\n    <g id=\"xtick_813\">\n     <g id=\"line2d_851\"/>\n    </g>\n    <g id=\"xtick_814\">\n     <g id=\"line2d_852\"/>\n    </g>\n    <g id=\"xtick_815\">\n     <g id=\"line2d_853\"/>\n    </g>\n    <g id=\"xtick_816\">\n     <g id=\"line2d_854\"/>\n    </g>\n    <g id=\"xtick_817\">\n     <g id=\"line2d_855\"/>\n    </g>\n    <g id=\"xtick_818\">\n     <g id=\"line2d_856\"/>\n    </g>\n    <g id=\"text_31\">\n     <!-- Epoch -->\n     <g style=\"fill:#555555;\" transform=\"translate(673.047102 324.453625)scale(0.12 -0.12)\">\n      <use xlink:href=\"#LiberationSans-45\"/>\n      <use x=\"66.699219\" xlink:href=\"#LiberationSans-70\"/>\n      <use x=\"122.314453\" xlink:href=\"#LiberationSans-6f\"/>\n      <use x=\"177.929688\" xlink:href=\"#LiberationSans-63\"/>\n      <use x=\"227.929688\" xlink:href=\"#LiberationSans-68\"/>\n     </g>\n    </g>\n   </g>\n   <g id=\"matplotlib.axis_4\">\n    <g id=\"ytick_8\">\n     <g id=\"line2d_857\">\n      <path clip-path=\"url(#p8322c8b869)\" d=\"M 499.831705 278.65776 \nL 880.28625 278.65776 \n\" style=\"fill:none;stroke:#ffffff;stroke-linecap:round;\"/>\n     </g>\n     <g id=\"line2d_858\"/>\n     <g id=\"text_32\">\n      <!-- 0.25 -->\n      <g style=\"fill:#555555;\" transform=\"translate(473.370767 282.281198)scale(0.1 -0.1)\">\n       <use xlink:href=\"#LiberationSans-30\"/>\n       <use x=\"55.615234\" xlink:href=\"#LiberationSans-2e\"/>\n       <use x=\"83.398438\" xlink:href=\"#LiberationSans-32\"/>\n       <use x=\"139.013672\" xlink:href=\"#LiberationSans-35\"/>\n      </g>\n     </g>\n    </g>\n    <g id=\"ytick_9\">\n     <g id=\"line2d_859\">\n      <path clip-path=\"url(#p8322c8b869)\" d=\"M 499.831705 243.150766 \nL 880.28625 243.150766 \n\" style=\"fill:none;stroke:#ffffff;stroke-linecap:round;\"/>\n     </g>\n     <g id=\"line2d_860\"/>\n     <g id=\"text_33\">\n      <!-- 0.50 -->\n      <g style=\"fill:#555555;\" transform=\"translate(473.370767 246.774204)scale(0.1 -0.1)\">\n       <use xlink:href=\"#LiberationSans-30\"/>\n       <use x=\"55.615234\" xlink:href=\"#LiberationSans-2e\"/>\n       <use x=\"83.398438\" xlink:href=\"#LiberationSans-35\"/>\n       <use x=\"139.013672\" xlink:href=\"#LiberationSans-30\"/>\n      </g>\n     </g>\n    </g>\n    <g id=\"ytick_10\">\n     <g id=\"line2d_861\">\n      <path clip-path=\"url(#p8322c8b869)\" d=\"M 499.831705 207.643772 \nL 880.28625 207.643772 \n\" style=\"fill:none;stroke:#ffffff;stroke-linecap:round;\"/>\n     </g>\n     <g id=\"line2d_862\"/>\n     <g id=\"text_34\">\n      <!-- 0.75 -->\n      <g style=\"fill:#555555;\" transform=\"translate(473.370767 211.26721)scale(0.1 -0.1)\">\n       <use xlink:href=\"#LiberationSans-30\"/>\n       <use x=\"55.615234\" xlink:href=\"#LiberationSans-2e\"/>\n       <use x=\"83.398438\" xlink:href=\"#LiberationSans-37\"/>\n       <use x=\"139.013672\" xlink:href=\"#LiberationSans-35\"/>\n      </g>\n     </g>\n    </g>\n    <g id=\"ytick_11\">\n     <g id=\"line2d_863\">\n      <path clip-path=\"url(#p8322c8b869)\" d=\"M 499.831705 172.136778 \nL 880.28625 172.136778 \n\" style=\"fill:none;stroke:#ffffff;stroke-linecap:round;\"/>\n     </g>\n     <g id=\"line2d_864\"/>\n     <g id=\"text_35\">\n      <!-- 1.00 -->\n      <g style=\"fill:#555555;\" transform=\"translate(473.370767 175.760216)scale(0.1 -0.1)\">\n       <use xlink:href=\"#LiberationSans-31\"/>\n       <use x=\"55.615234\" xlink:href=\"#LiberationSans-2e\"/>\n       <use x=\"83.398438\" xlink:href=\"#LiberationSans-30\"/>\n       <use x=\"139.013672\" xlink:href=\"#LiberationSans-30\"/>\n      </g>\n     </g>\n    </g>\n    <g id=\"ytick_12\">\n     <g id=\"line2d_865\">\n      <path clip-path=\"url(#p8322c8b869)\" d=\"M 499.831705 136.629784 \nL 880.28625 136.629784 \n\" style=\"fill:none;stroke:#ffffff;stroke-linecap:round;\"/>\n     </g>\n     <g id=\"line2d_866\"/>\n     <g id=\"text_36\">\n      <!-- 1.25 -->\n      <g style=\"fill:#555555;\" transform=\"translate(473.370767 140.253222)scale(0.1 -0.1)\">\n       <use xlink:href=\"#LiberationSans-31\"/>\n       <use x=\"55.615234\" xlink:href=\"#LiberationSans-2e\"/>\n       <use x=\"83.398438\" xlink:href=\"#LiberationSans-32\"/>\n       <use x=\"139.013672\" xlink:href=\"#LiberationSans-35\"/>\n      </g>\n     </g>\n    </g>\n    <g id=\"ytick_13\">\n     <g id=\"line2d_867\">\n      <path clip-path=\"url(#p8322c8b869)\" d=\"M 499.831705 101.12279 \nL 880.28625 101.12279 \n\" style=\"fill:none;stroke:#ffffff;stroke-linecap:round;\"/>\n     </g>\n     <g id=\"line2d_868\"/>\n     <g id=\"text_37\">\n      <!-- 1.50 -->\n      <g style=\"fill:#555555;\" transform=\"translate(473.370767 104.746228)scale(0.1 -0.1)\">\n       <use xlink:href=\"#LiberationSans-31\"/>\n       <use x=\"55.615234\" xlink:href=\"#LiberationSans-2e\"/>\n       <use x=\"83.398438\" xlink:href=\"#LiberationSans-35\"/>\n       <use x=\"139.013672\" xlink:href=\"#LiberationSans-30\"/>\n      </g>\n     </g>\n    </g>\n    <g id=\"ytick_14\">\n     <g id=\"line2d_869\">\n      <path clip-path=\"url(#p8322c8b869)\" d=\"M 499.831705 65.615797 \nL 880.28625 65.615797 \n\" style=\"fill:none;stroke:#ffffff;stroke-linecap:round;\"/>\n     </g>\n     <g id=\"line2d_870\"/>\n     <g id=\"text_38\">\n      <!-- 1.75 -->\n      <g style=\"fill:#555555;\" transform=\"translate(473.370767 69.239234)scale(0.1 -0.1)\">\n       <use xlink:href=\"#LiberationSans-31\"/>\n       <use x=\"55.615234\" xlink:href=\"#LiberationSans-2e\"/>\n       <use x=\"83.398438\" xlink:href=\"#LiberationSans-37\"/>\n       <use x=\"139.013672\" xlink:href=\"#LiberationSans-35\"/>\n      </g>\n     </g>\n    </g>\n    <g id=\"ytick_15\">\n     <g id=\"line2d_871\">\n      <path clip-path=\"url(#p8322c8b869)\" d=\"M 499.831705 30.108803 \nL 880.28625 30.108803 \n\" style=\"fill:none;stroke:#ffffff;stroke-linecap:round;\"/>\n     </g>\n     <g id=\"line2d_872\"/>\n     <g id=\"text_39\">\n      <!-- 2.00 -->\n      <g style=\"fill:#555555;\" transform=\"translate(473.370767 33.73224)scale(0.1 -0.1)\">\n       <use xlink:href=\"#LiberationSans-32\"/>\n       <use x=\"55.615234\" xlink:href=\"#LiberationSans-2e\"/>\n       <use x=\"83.398438\" xlink:href=\"#LiberationSans-30\"/>\n       <use x=\"139.013672\" xlink:href=\"#LiberationSans-30\"/>\n      </g>\n     </g>\n    </g>\n    <g id=\"text_40\">\n     <!-- Loss -->\n     <defs>\n      <path d=\"M 8.203125 0 \nL 8.203125 68.796875 \nL 17.53125 68.796875 \nL 17.53125 7.625 \nL 52.296875 7.625 \nL 52.296875 0 \nz\n\" id=\"LiberationSans-4c\"/>\n      <path d=\"M 46.390625 14.59375 \nQ 46.390625 10.890625 44.9375 7.984375 \nQ 43.5 5.078125 40.765625 3.09375 \nQ 38.03125 1.125 34.046875 0.0625 \nQ 30.078125 -0.984375 24.953125 -0.984375 \nQ 20.359375 -0.984375 16.671875 -0.265625 \nQ 12.984375 0.4375 10.203125 2 \nQ 7.421875 3.5625 5.53125 6.125 \nQ 3.65625 8.6875 2.78125 12.40625 \nL 10.546875 13.921875 \nQ 11.671875 9.671875 15.1875 7.6875 \nQ 18.703125 5.71875 24.953125 5.71875 \nQ 27.78125 5.71875 30.140625 6.109375 \nQ 32.515625 6.5 34.21875 7.453125 \nQ 35.9375 8.40625 36.890625 9.984375 \nQ 37.84375 11.578125 37.84375 13.921875 \nQ 37.84375 16.3125 36.71875 17.84375 \nQ 35.59375 19.390625 33.59375 20.40625 \nQ 31.59375 21.4375 28.734375 22.1875 \nQ 25.875 22.953125 22.46875 23.875 \nQ 19.28125 24.703125 16.15625 25.734375 \nQ 13.03125 26.765625 10.515625 28.4375 \nQ 8.015625 30.125 6.453125 32.609375 \nQ 4.890625 35.109375 4.890625 38.875 \nQ 4.890625 46.09375 10.03125 49.875 \nQ 15.1875 53.65625 25.046875 53.65625 \nQ 33.796875 53.65625 38.9375 50.578125 \nQ 44.09375 47.515625 45.453125 40.71875 \nL 37.546875 39.75 \nQ 37.109375 41.796875 35.9375 43.1875 \nQ 34.765625 44.578125 33.109375 45.4375 \nQ 31.453125 46.296875 29.375 46.65625 \nQ 27.296875 47.015625 25.046875 47.015625 \nQ 19.09375 47.015625 16.25 45.203125 \nQ 13.421875 43.40625 13.421875 39.75 \nQ 13.421875 37.59375 14.46875 36.203125 \nQ 15.53125 34.8125 17.40625 33.859375 \nQ 19.28125 32.90625 21.921875 32.203125 \nQ 24.5625 31.5 27.734375 30.71875 \nQ 29.828125 30.171875 32.03125 29.5625 \nQ 34.234375 28.953125 36.296875 28.09375 \nQ 38.375 27.25 40.203125 26.09375 \nQ 42.046875 24.953125 43.40625 23.34375 \nQ 44.78125 21.734375 45.578125 19.578125 \nQ 46.390625 17.4375 46.390625 14.59375 \nz\n\" id=\"LiberationSans-73\"/>\n     </defs>\n     <g style=\"fill:#555555;\" transform=\"translate(466.880767 172.208625)rotate(-90)scale(0.12 -0.12)\">\n      <use xlink:href=\"#LiberationSans-4c\"/>\n      <use x=\"55.615234\" xlink:href=\"#LiberationSans-6f\"/>\n      <use x=\"111.230469\" xlink:href=\"#LiberationSans-73\"/>\n      <use x=\"161.230469\" xlink:href=\"#LiberationSans-73\"/>\n     </g>\n    </g>\n   </g>\n   <g id=\"line2d_873\">\n    <path clip-path=\"url(#p8322c8b869)\" d=\"M 517.125093 35.990045 \nL 517.991929 70.187865 \nL 518.858766 87.511103 \nL 519.725603 99.134645 \nL 520.592439 108.828271 \nL 521.459276 116.121999 \nL 522.326112 122.050303 \nL 524.059785 132.256572 \nL 524.926622 135.568549 \nL 525.793458 139.793333 \nL 526.660295 143.210676 \nL 527.527131 147.528621 \nL 528.393968 149.502292 \nL 529.260804 153.16584 \nL 530.127641 155.039672 \nL 531.861314 160.235617 \nL 533.594987 163.831639 \nL 534.461823 166.653338 \nL 536.195496 169.924232 \nL 537.062333 170.99149 \nL 538.796006 175.965316 \nL 539.662842 177.736101 \nL 540.529679 179.13605 \nL 541.396515 179.918756 \nL 542.263352 182.440754 \nL 543.997025 185.44819 \nL 545.730698 188.915222 \nL 546.597534 190.422289 \nL 547.464371 190.972746 \nL 548.331207 192.898621 \nL 549.198044 193.309166 \nL 550.06488 194.714192 \nL 550.931717 196.515298 \nL 551.798553 196.527922 \nL 552.66539 198.938279 \nL 553.532227 200.439905 \nL 554.399063 201.354648 \nL 555.2659 202.540718 \nL 556.999573 204.220315 \nL 557.866409 205.774033 \nL 558.733246 207.587327 \nL 559.600082 207.437116 \nL 561.333755 209.757686 \nL 562.200592 210.495054 \nL 563.067428 211.98002 \nL 563.934265 212.43963 \nL 565.667938 214.14767 \nL 566.534774 215.4484 \nL 567.401611 216.088075 \nL 568.268447 215.923197 \nL 569.135284 217.75064 \nL 570.00212 218.513646 \nL 571.735793 219.300524 \nL 572.60263 220.643525 \nL 573.469466 219.984269 \nL 574.336303 221.396904 \nL 575.203139 223.321079 \nL 576.069976 223.201486 \nL 576.936812 223.94632 \nL 577.803649 224.242505 \nL 578.670485 225.308614 \nL 579.537322 225.102489 \nL 580.404158 226.966876 \nL 581.270995 226.369373 \nL 582.137831 227.268816 \nL 583.871504 228.29699 \nL 584.738341 229.42794 \nL 585.605177 230.00995 \nL 586.472014 230.334753 \nL 587.338851 231.350177 \nL 588.205687 231.44487 \nL 589.072524 232.783119 \nL 589.93936 232.690348 \nL 590.806197 233.324163 \nL 591.673033 233.41898 \nL 592.53987 234.904202 \nL 593.406706 234.171607 \nL 594.273543 235.112503 \nL 595.140379 235.298071 \nL 596.007216 236.301333 \nL 596.874052 236.758086 \nL 597.740889 236.869726 \nL 598.607725 237.881368 \nL 599.474562 238.686612 \nL 600.341398 237.862032 \nL 601.208235 238.661682 \nL 602.075071 239.003616 \nL 603.808744 240.821425 \nL 604.675581 240.918289 \nL 605.542417 240.729984 \nL 606.409254 241.740674 \nL 607.27609 241.935095 \nL 609.8766 243.297893 \nL 610.743436 243.172628 \nL 611.610273 244.224181 \nL 612.477109 243.913198 \nL 613.343946 244.256083 \nL 614.210782 245.02327 \nL 615.077619 244.63931 \nL 615.944455 245.698644 \nL 616.811292 246.134995 \nL 617.678128 245.898526 \nL 619.411801 247.6576 \nL 620.278638 247.659206 \nL 621.145475 248.172196 \nL 622.012311 247.782135 \nL 622.879148 248.715498 \nL 623.745984 248.898997 \nL 624.612821 248.76574 \nL 625.479657 249.998637 \nL 626.346494 249.482122 \nL 627.21333 250.563479 \nL 628.080167 250.164164 \nL 629.81384 251.177779 \nL 630.680676 250.818037 \nL 632.414349 251.644562 \nL 633.281186 252.552061 \nL 634.148022 252.674627 \nL 635.014859 252.371199 \nL 635.881695 253.186531 \nL 636.748532 253.164131 \nL 637.615368 253.681943 \nL 638.482205 253.748282 \nL 640.215878 254.26923 \nL 641.949551 255.432609 \nL 642.816387 255.054306 \nL 643.683224 254.951027 \nL 644.55006 255.256692 \nL 645.416897 256.29979 \nL 646.283733 255.990135 \nL 647.15057 256.956167 \nL 648.017406 256.489833 \nL 648.884243 256.218529 \nL 649.751079 257.312308 \nL 650.617916 257.624915 \nL 651.484752 258.180989 \nL 652.351589 257.330595 \nL 653.218425 258.75443 \nL 654.085262 258.298328 \nL 654.952099 258.498452 \nL 655.818935 259.268504 \nL 656.685772 258.868162 \nL 657.552608 258.757707 \nL 658.419445 259.608708 \nL 659.286281 259.445867 \nL 660.153118 260.123323 \nL 661.019954 260.061693 \nL 661.886791 259.527373 \nL 662.753627 260.056329 \nL 663.620464 260.341226 \nL 664.4873 260.225124 \nL 665.354137 260.785384 \nL 666.220973 261.115949 \nL 667.08781 261.847296 \nL 667.954646 261.906736 \nL 668.821483 261.72783 \nL 669.688319 261.957538 \nL 670.555156 261.77636 \nL 672.288829 262.707699 \nL 673.155665 262.231093 \nL 674.022502 262.842895 \nL 675.756175 263.836603 \nL 676.623011 262.995615 \nL 677.489848 262.615151 \nL 678.356684 263.940486 \nL 679.223521 263.917097 \nL 680.090357 264.077181 \nL 680.957194 263.528842 \nL 681.82403 264.080903 \nL 682.690867 265.491301 \nL 683.557703 264.753654 \nL 684.42454 263.836041 \nL 685.291376 264.944046 \nL 686.158213 265.478291 \nL 687.025049 265.143347 \nL 687.891886 265.779211 \nL 688.758723 265.595468 \nL 689.625559 265.896781 \nL 692.226069 265.766696 \nL 693.092905 267.12653 \nL 693.959742 266.178025 \nL 694.826578 266.897851 \nL 695.693415 266.713243 \nL 696.560251 267.262481 \nL 697.427088 267.625472 \nL 698.293924 267.568163 \nL 699.160761 267.204143 \nL 700.027597 267.621925 \nL 700.894434 267.6233 \nL 701.76127 268.202516 \nL 703.494943 268.012708 \nL 704.36178 269.192191 \nL 705.228616 269.13986 \nL 706.095453 268.337161 \nL 707.829126 268.671811 \nL 708.695962 269.122255 \nL 709.562799 269.129464 \nL 710.429635 269.453087 \nL 711.296472 269.594846 \nL 712.163308 268.957059 \nL 713.030145 269.902629 \nL 713.896981 270.148754 \nL 714.763818 269.595603 \nL 716.497491 269.981594 \nL 717.364327 270.540129 \nL 718.231164 270.559495 \nL 719.098 271.311066 \nL 719.964837 270.180284 \nL 720.831673 270.852768 \nL 721.69851 271.196386 \nL 722.565347 270.400493 \nL 723.432183 270.843909 \nL 724.29902 271.463864 \nL 725.165856 270.894802 \nL 726.032693 270.843748 \nL 726.899529 271.829906 \nL 727.766366 271.569264 \nL 728.633202 271.889507 \nL 729.500039 272.580924 \nL 730.366875 271.817417 \nL 731.233712 272.320694 \nL 732.100548 272.15805 \nL 732.967385 272.589459 \nL 733.834221 272.591129 \nL 734.701058 272.265353 \nL 735.567894 273.367149 \nL 736.434731 273.129827 \nL 738.168404 273.002975 \nL 739.03524 272.686059 \nL 739.902077 273.338145 \nL 740.768913 272.899406 \nL 741.63575 273.380564 \nL 742.502586 273.202594 \nL 743.369423 273.506935 \nL 744.236259 273.101892 \nL 745.103096 273.663532 \nL 745.969932 274.682195 \nL 746.836769 273.591576 \nL 747.703605 274.036569 \nL 748.570442 274.675668 \nL 749.437278 274.301475 \nL 750.304115 274.309372 \nL 751.170951 274.196658 \nL 752.037788 275.053086 \nL 754.638297 274.43246 \nL 755.505134 275.172319 \nL 756.37197 274.96566 \nL 757.238807 275.048379 \nL 758.105644 275.270269 \nL 758.97248 275.144132 \nL 759.839317 275.143561 \nL 760.706153 276.044115 \nL 761.57299 275.01909 \nL 762.439826 275.265282 \nL 763.306663 275.176228 \nL 764.173499 275.606375 \nL 765.907172 276.18383 \nL 766.774009 275.362514 \nL 767.640845 275.982018 \nL 769.374518 276.851534 \nL 770.241355 276.179869 \nL 771.108191 276.542654 \nL 771.975028 276.114743 \nL 772.841864 276.23453 \nL 773.708701 276.55412 \nL 774.575537 276.313445 \nL 775.442374 276.587294 \nL 776.30921 277.358796 \nL 777.176047 276.561487 \nL 778.042883 277.347045 \nL 778.90972 276.608986 \nL 779.776556 277.168399 \nL 780.643393 277.455381 \nL 781.510229 277.453873 \nL 783.243902 276.823937 \nL 784.110739 277.94751 \nL 784.977575 277.392579 \nL 785.844412 277.429727 \nL 786.711248 277.77689 \nL 787.578085 277.437138 \nL 788.444921 277.547279 \nL 789.311758 278.05227 \nL 791.045431 277.800709 \nL 791.912268 278.483109 \nL 792.779104 278.125492 \nL 793.645941 277.915774 \nL 794.512777 278.620001 \nL 795.379614 278.522231 \nL 796.24645 279.034551 \nL 797.113287 278.489587 \nL 797.980123 278.407075 \nL 798.84696 278.880345 \nL 799.713796 278.526487 \nL 800.580633 278.707018 \nL 801.447469 278.623554 \nL 802.314306 279.372756 \nL 803.181142 278.894202 \nL 804.047979 279.464022 \nL 805.781652 278.755794 \nL 807.515325 279.752181 \nL 808.382161 279.739703 \nL 809.248998 279.85415 \nL 810.115834 278.908644 \nL 810.982671 279.517152 \nL 811.849507 279.537373 \nL 812.716344 279.038114 \nL 813.58318 279.869716 \nL 814.450017 279.371342 \nL 815.316853 280.375414 \nL 816.18369 279.663765 \nL 817.050526 279.910503 \nL 817.917363 279.699448 \nL 819.651036 280.066657 \nL 820.517872 280.289377 \nL 821.384709 279.731622 \nL 822.251545 280.779453 \nL 823.118382 280.446136 \nL 823.985218 280.561687 \nL 825.718892 279.775782 \nL 826.585728 280.272442 \nL 827.452565 280.317349 \nL 828.319401 280.884171 \nL 829.186238 280.233829 \nL 830.053074 280.942311 \nL 830.919911 279.790865 \nL 831.786747 281.208216 \nL 832.653584 280.971595 \nL 833.52042 280.934309 \nL 834.387257 281.019283 \nL 835.254093 280.446755 \nL 836.987766 280.946008 \nL 837.854603 281.449764 \nL 838.721439 281.054268 \nL 839.588276 281.837571 \nL 840.455112 281.279715 \nL 841.321949 281.652141 \nL 842.188785 281.108456 \nL 843.055622 281.663999 \nL 843.922458 281.923779 \nL 844.789295 280.904488 \nL 845.656131 281.569799 \nL 846.522968 281.180878 \nL 847.389804 281.670951 \nL 848.256641 281.519847 \nL 849.123477 281.618258 \nL 849.990314 281.55943 \nL 852.590823 281.896395 \nL 855.191333 282.116696 \nL 856.058169 281.877679 \nL 856.925006 282.187151 \nL 857.791842 281.791211 \nL 858.658679 282.58199 \nL 859.525516 282.588191 \nL 860.392352 282.367432 \nL 861.259189 282.029561 \nL 862.126025 282.36428 \nL 862.992862 283.080955 \nL 862.992862 283.080955 \n\" style=\"fill:none;stroke:#e24a33;stroke-linecap:round;stroke-width:1.75;\"/>\n   </g>\n   <g id=\"line2d_874\">\n    <path clip-path=\"url(#p8322c8b869)\" d=\"M 517.125093 78.519164 \nL 517.991929 101.996635 \nL 518.858766 112.571656 \nL 519.725603 79.007101 \nL 520.592439 133.920283 \nL 521.459276 126.050899 \nL 522.326112 132.435092 \nL 523.192949 125.131152 \nL 524.059785 154.151704 \nL 524.926622 151.713058 \nL 525.793458 147.807742 \nL 526.660295 150.358738 \nL 527.527131 163.370656 \nL 529.260804 157.263674 \nL 530.127641 154.955774 \nL 530.994477 162.816949 \nL 531.861314 172.347439 \nL 532.72815 169.54181 \nL 533.594987 170.696549 \nL 534.461823 168.196373 \nL 535.32866 170.071615 \nL 536.195496 140.603081 \nL 537.062333 169.331615 \nL 537.929169 149.749413 \nL 538.796006 174.967752 \nL 539.662842 168.681709 \nL 540.529679 187.164322 \nL 541.396515 180.756032 \nL 542.263352 185.611753 \nL 543.130188 178.204974 \nL 543.997025 184.214725 \nL 544.863861 194.523476 \nL 545.730698 159.65298 \nL 546.597534 181.30168 \nL 547.464371 184.662449 \nL 548.331207 189.998129 \nL 549.198044 189.273672 \nL 550.06488 198.947926 \nL 550.931717 195.791642 \nL 551.798553 195.607233 \nL 552.66539 200.086004 \nL 553.532227 210.891808 \nL 554.399063 195.769411 \nL 555.2659 204.589153 \nL 556.132736 200.565565 \nL 556.999573 184.336014 \nL 557.866409 207.624465 \nL 558.733246 214.896792 \nL 559.600082 209.804657 \nL 560.466919 191.482506 \nL 561.333755 211.223245 \nL 562.200592 217.255356 \nL 563.067428 192.451755 \nL 563.934265 217.012704 \nL 564.801101 209.061958 \nL 565.667938 216.53536 \nL 566.534774 214.15105 \nL 567.401611 208.583811 \nL 568.268447 220.327349 \nL 569.135284 219.505957 \nL 570.00212 220.486247 \nL 570.868957 207.20163 \nL 571.735793 213.616283 \nL 572.60263 217.905653 \nL 573.469466 220.020709 \nL 574.336303 220.480444 \nL 575.203139 217.62291 \nL 576.936812 228.4709 \nL 577.803649 229.262036 \nL 578.670485 220.049379 \nL 579.537322 225.538637 \nL 580.404158 219.546535 \nL 581.270995 231.885571 \nL 582.137831 229.138076 \nL 583.004668 236.524908 \nL 583.871504 225.845551 \nL 584.738341 229.039489 \nL 585.605177 225.586072 \nL 586.472014 225.13837 \nL 587.338851 227.631348 \nL 588.205687 212.486655 \nL 589.072524 227.96453 \nL 589.93936 234.598575 \nL 590.806197 230.401476 \nL 591.673033 227.40547 \nL 592.53987 221.732887 \nL 593.406706 235.984 \nL 594.273543 231.974147 \nL 595.140379 218.73483 \nL 596.007216 230.84959 \nL 596.874052 237.21351 \nL 597.740889 223.262659 \nL 598.607725 239.551121 \nL 599.474562 237.59262 \nL 600.341398 231.852469 \nL 601.208235 234.557119 \nL 602.075071 240.678189 \nL 602.941908 231.494392 \nL 603.808744 232.693146 \nL 604.675581 236.953568 \nL 605.542417 235.319806 \nL 606.409254 228.835923 \nL 607.27609 234.091038 \nL 608.142927 237.313933 \nL 609.009763 241.122024 \nL 609.8766 241.205091 \nL 610.743436 236.82784 \nL 611.610273 241.84828 \nL 612.477109 239.717381 \nL 613.343946 233.790732 \nL 614.210782 235.938974 \nL 615.077619 241.424775 \nL 615.944455 234.46481 \nL 616.811292 231.49787 \nL 617.678128 235.68088 \nL 618.544965 242.910982 \nL 619.411801 242.821942 \nL 620.278638 241.72808 \nL 621.145475 239.006656 \nL 622.012311 241.097653 \nL 622.879148 233.451328 \nL 623.745984 240.052711 \nL 624.612821 238.766813 \nL 625.479657 241.422145 \nL 626.346494 238.512868 \nL 627.21333 244.604835 \nL 628.080167 234.288731 \nL 628.947003 232.943533 \nL 629.81384 237.411424 \nL 630.680676 247.586511 \nL 631.547513 231.889505 \nL 632.414349 236.732683 \nL 633.281186 237.075457 \nL 634.148022 242.185442 \nL 635.014859 234.692036 \nL 635.881695 243.055367 \nL 636.748532 247.07109 \nL 637.615368 230.389732 \nL 638.482205 237.526507 \nL 639.349041 233.301692 \nL 640.215878 247.27219 \nL 641.082714 239.719848 \nL 641.949551 248.320119 \nL 642.816387 244.226351 \nL 643.683224 243.669365 \nL 644.55006 236.147583 \nL 645.416897 239.614885 \nL 646.283733 232.734387 \nL 647.15057 242.942603 \nL 648.017406 242.675577 \nL 648.884243 238.788434 \nL 649.751079 253.282944 \nL 650.617916 249.257518 \nL 651.484752 236.106638 \nL 652.351589 248.338289 \nL 653.218425 245.095745 \nL 654.085262 246.151752 \nL 654.952099 248.587628 \nL 655.818935 249.089425 \nL 656.685772 249.250781 \nL 657.552608 241.315031 \nL 658.419445 255.087684 \nL 659.286281 245.046725 \nL 660.153118 241.707784 \nL 661.019954 242.724914 \nL 661.886791 243.084213 \nL 662.753627 250.526567 \nL 663.620464 234.969981 \nL 664.4873 250.196495 \nL 665.354137 246.310437 \nL 666.220973 243.060888 \nL 667.08781 243.994286 \nL 667.954646 243.688973 \nL 668.821483 239.149898 \nL 669.688319 241.277426 \nL 670.555156 250.477383 \nL 671.421992 249.158137 \nL 672.288829 241.70924 \nL 673.155665 239.896149 \nL 674.022502 253.419502 \nL 674.889338 248.792275 \nL 675.756175 248.595415 \nL 676.623011 244.765152 \nL 677.489848 243.839795 \nL 678.356684 252.703845 \nL 679.223521 248.363016 \nL 680.090357 246.169567 \nL 680.957194 242.98708 \nL 681.82403 246.20268 \nL 682.690867 247.021357 \nL 683.557703 248.426658 \nL 684.42454 253.863994 \nL 685.291376 243.459774 \nL 686.158213 251.321003 \nL 687.025049 243.85202 \nL 687.891886 246.225478 \nL 688.758723 251.70678 \nL 689.625559 252.984318 \nL 690.492396 247.402296 \nL 691.359232 242.973078 \nL 692.226069 247.417727 \nL 693.092905 249.025899 \nL 693.959742 245.036459 \nL 694.826578 247.369461 \nL 695.693415 239.337777 \nL 696.560251 248.380766 \nL 697.427088 249.915972 \nL 698.293924 252.069248 \nL 699.160761 249.678429 \nL 700.027597 248.036826 \nL 700.894434 253.237498 \nL 701.76127 248.668198 \nL 702.628107 247.703973 \nL 703.494943 249.211115 \nL 704.36178 249.262515 \nL 705.228616 245.989789 \nL 706.095453 250.084378 \nL 706.962289 246.811202 \nL 707.829126 252.743474 \nL 708.695962 238.825583 \nL 709.562799 250.390684 \nL 710.429635 249.758376 \nL 711.296472 253.393647 \nL 712.163308 247.55181 \nL 713.030145 240.838669 \nL 713.896981 251.606984 \nL 714.763818 250.859894 \nL 715.630654 249.452089 \nL 716.497491 240.124718 \nL 717.364327 250.787608 \nL 718.231164 245.21106 \nL 719.964837 253.540672 \nL 720.831673 251.408074 \nL 721.69851 244.363023 \nL 722.565347 239.467644 \nL 723.432183 247.498376 \nL 724.29902 237.015724 \nL 725.165856 246.38354 \nL 726.032693 246.738344 \nL 726.899529 251.493546 \nL 727.766366 242.79513 \nL 728.633202 237.447731 \nL 729.500039 250.464041 \nL 730.366875 241.582978 \nL 731.233712 244.278739 \nL 732.100548 245.335124 \nL 732.967385 246.966016 \nL 733.834221 242.034828 \nL 734.701058 245.079807 \nL 735.567894 243.01768 \nL 736.434731 241.537548 \nL 738.168404 251.7471 \nL 739.03524 245.454587 \nL 739.902077 244.057182 \nL 740.768913 246.018036 \nL 741.63575 245.042748 \nL 742.502586 244.730871 \nL 743.369423 251.099235 \nL 744.236259 249.639887 \nL 745.103096 240.38639 \nL 745.969932 245.547961 \nL 746.836769 238.677188 \nL 747.703605 250.130755 \nL 748.570442 247.752474 \nL 749.437278 244.396128 \nL 750.304115 237.419686 \nL 751.170951 247.785889 \nL 752.037788 245.765055 \nL 752.904624 244.790199 \nL 753.771461 252.621032 \nL 754.638297 237.599601 \nL 755.505134 239.34438 \nL 756.37197 242.76086 \nL 757.238807 243.657716 \nL 758.105644 247.410565 \nL 758.97248 242.854339 \nL 759.839317 248.586061 \nL 760.706153 247.763509 \nL 761.57299 253.173653 \nL 762.439826 247.87819 \nL 763.306663 244.36962 \nL 764.173499 242.808184 \nL 765.040336 234.410695 \nL 765.907172 238.319556 \nL 766.774009 247.299732 \nL 767.640845 252.071816 \nL 768.507682 255.799019 \nL 769.374518 247.595621 \nL 770.241355 242.203875 \nL 771.108191 252.038895 \nL 771.975028 247.823004 \nL 772.841864 246.240021 \nL 773.708701 249.031604 \nL 774.575537 248.567772 \nL 775.442374 250.41027 \nL 776.30921 249.075555 \nL 777.176047 250.331643 \nL 778.042883 243.920529 \nL 778.90972 245.176502 \nL 779.776556 251.441791 \nL 780.643393 240.736269 \nL 781.510229 245.149116 \nL 782.377066 247.238593 \nL 783.243902 246.539111 \nL 784.110739 246.280412 \nL 785.844412 247.382204 \nL 786.711248 244.847934 \nL 787.578085 232.18135 \nL 788.444921 245.092656 \nL 789.311758 234.661423 \nL 790.178594 242.229966 \nL 791.045431 248.36838 \nL 791.912268 240.568241 \nL 792.779104 236.9013 \nL 793.645941 246.736531 \nL 794.512777 240.604325 \nL 795.379614 246.608489 \nL 796.24645 241.452019 \nL 797.113287 247.135439 \nL 797.980123 245.875444 \nL 798.84696 242.13528 \nL 800.580633 241.399647 \nL 801.447469 249.568724 \nL 802.314306 248.937696 \nL 803.181142 254.246163 \nL 804.047979 243.207029 \nL 804.914815 240.829343 \nL 805.781652 242.367063 \nL 806.648488 246.442561 \nL 807.515325 238.987979 \nL 808.382161 248.594758 \nL 809.248998 245.041419 \nL 810.115834 251.527273 \nL 811.849507 241.672046 \nL 812.716344 243.24149 \nL 813.58318 242.467177 \nL 814.450017 243.167479 \nL 815.316853 245.428672 \nL 816.18369 237.351316 \nL 817.050526 241.764614 \nL 817.917363 243.043933 \nL 818.784199 244.06072 \nL 819.651036 245.507086 \nL 820.517872 244.879435 \nL 821.384709 250.40017 \nL 822.251545 252.033104 \nL 823.118382 242.377643 \nL 823.985218 239.045996 \nL 824.852055 250.845703 \nL 825.718892 244.593623 \nL 826.585728 240.914019 \nL 828.319401 235.968411 \nL 829.186238 245.242497 \nL 830.053074 248.002854 \nL 830.919911 245.989753 \nL 831.786747 246.036471 \nL 832.653584 248.147755 \nL 833.52042 236.539072 \nL 835.254093 246.096291 \nL 836.12093 241.107113 \nL 836.987766 243.945785 \nL 837.854603 240.108571 \nL 838.721439 242.931659 \nL 839.588276 249.138177 \nL 840.455112 246.886262 \nL 841.321949 240.897461 \nL 842.188785 248.468037 \nL 843.055622 252.138184 \nL 843.922458 248.301032 \nL 845.656131 245.369312 \nL 846.522968 245.607469 \nL 847.389804 251.669733 \nL 848.256641 241.556223 \nL 849.123477 246.379843 \nL 849.990314 250.347176 \nL 850.85715 249.142492 \nL 851.723987 244.720725 \nL 852.590823 249.732286 \nL 853.45766 240.504376 \nL 854.324496 235.75436 \nL 855.191333 244.496687 \nL 856.058169 242.258488 \nL 856.925006 243.572009 \nL 857.791842 244.417049 \nL 858.658679 241.456392 \nL 859.525516 246.005887 \nL 860.392352 238.593034 \nL 861.259189 244.047652 \nL 862.126025 241.631514 \nL 862.992862 243.232824 \nL 862.992862 243.232824 \n\" style=\"fill:none;stroke:#348abd;stroke-linecap:round;stroke-width:1.75;\"/>\n   </g>\n   <g id=\"patch_8\">\n    <path d=\"M 499.831705 295.4355 \nL 499.831705 23.6355 \n\" style=\"fill:none;stroke:#ffffff;stroke-linecap:square;stroke-linejoin:miter;\"/>\n   </g>\n   <g id=\"patch_9\">\n    <path d=\"M 880.28625 295.4355 \nL 880.28625 23.6355 \n\" style=\"fill:none;stroke:#ffffff;stroke-linecap:square;stroke-linejoin:miter;\"/>\n   </g>\n   <g id=\"patch_10\">\n    <path d=\"M 499.831705 295.4355 \nL 880.28625 295.4355 \n\" style=\"fill:none;stroke:#ffffff;stroke-linecap:square;stroke-linejoin:miter;\"/>\n   </g>\n   <g id=\"patch_11\">\n    <path d=\"M 499.831705 23.6355 \nL 880.28625 23.6355 \n\" style=\"fill:none;stroke:#ffffff;stroke-linecap:square;stroke-linejoin:miter;\"/>\n   </g>\n   <g id=\"text_41\">\n    <!-- Model Loss -->\n    <g style=\"fill:#262626;\" transform=\"translate(653.242227 17.6355)scale(0.144 -0.144)\">\n     <use xlink:href=\"#LiberationSans-4d\"/>\n     <use x=\"83.300781\" xlink:href=\"#LiberationSans-6f\"/>\n     <use x=\"138.916016\" xlink:href=\"#LiberationSans-64\"/>\n     <use x=\"194.53125\" xlink:href=\"#LiberationSans-65\"/>\n     <use x=\"250.146484\" xlink:href=\"#LiberationSans-6c\"/>\n     <use x=\"272.363281\" xlink:href=\"#LiberationSans-20\"/>\n     <use x=\"300.146484\" xlink:href=\"#LiberationSans-4c\"/>\n     <use x=\"355.761719\" xlink:href=\"#LiberationSans-6f\"/>\n     <use x=\"411.376953\" xlink:href=\"#LiberationSans-73\"/>\n     <use x=\"461.376953\" xlink:href=\"#LiberationSans-73\"/>\n    </g>\n   </g>\n   <g id=\"legend_2\">\n    <g id=\"line2d_875\">\n     <path d=\"M 801.037812 36.382375 \nL 821.037812 36.382375 \n\" style=\"fill:none;stroke:#e24a33;stroke-linecap:round;stroke-width:1.75;\"/>\n    </g>\n    <g id=\"line2d_876\"/>\n    <g id=\"text_42\">\n     <!-- train -->\n     <g style=\"fill:#262626;\" transform=\"translate(829.037812 39.882375)scale(0.1 -0.1)\">\n      <use xlink:href=\"#LiberationSans-74\"/>\n      <use x=\"27.783203\" xlink:href=\"#LiberationSans-72\"/>\n      <use x=\"61.083984\" xlink:href=\"#LiberationSans-61\"/>\n      <use x=\"116.699219\" xlink:href=\"#LiberationSans-69\"/>\n      <use x=\"138.916016\" xlink:href=\"#LiberationSans-6e\"/>\n     </g>\n    </g>\n    <g id=\"line2d_877\">\n     <path d=\"M 801.037812 50.70425 \nL 821.037812 50.70425 \n\" style=\"fill:none;stroke:#348abd;stroke-linecap:round;stroke-width:1.75;\"/>\n    </g>\n    <g id=\"line2d_878\"/>\n    <g id=\"text_43\">\n     <!-- validation -->\n     <g style=\"fill:#262626;\" transform=\"translate(829.037812 54.20425)scale(0.1 -0.1)\">\n      <use xlink:href=\"#LiberationSans-76\"/>\n      <use x=\"50\" xlink:href=\"#LiberationSans-61\"/>\n      <use x=\"105.615234\" xlink:href=\"#LiberationSans-6c\"/>\n      <use x=\"127.832031\" xlink:href=\"#LiberationSans-69\"/>\n      <use x=\"150.048828\" xlink:href=\"#LiberationSans-64\"/>\n      <use x=\"205.664062\" xlink:href=\"#LiberationSans-61\"/>\n      <use x=\"261.279297\" xlink:href=\"#LiberationSans-74\"/>\n      <use x=\"289.0625\" xlink:href=\"#LiberationSans-69\"/>\n      <use x=\"311.279297\" xlink:href=\"#LiberationSans-6f\"/>\n      <use x=\"366.894531\" xlink:href=\"#LiberationSans-6e\"/>\n     </g>\n    </g>\n   </g>\n  </g>\n </g>\n <defs>\n  <clipPath id=\"p98472115f3\">\n   <rect height=\"271.8\" width=\"380.454545\" x=\"43.28625\" y=\"23.6355\"/>\n  </clipPath>\n  <clipPath id=\"p8322c8b869\">\n   <rect height=\"271.8\" width=\"380.454545\" x=\"499.831705\" y=\"23.6355\"/>\n  </clipPath>\n </defs>\n</svg>\n"
          },
          "metadata": {
            "tags": []
          }
        }
      ]
    },
    {
      "metadata": {
        "id": "boAzzzu83pW4",
        "colab_type": "text"
      },
      "cell_type": "markdown",
      "source": [
        "To further improve the model, run it for more epochs and do more augmentations like ZCA whitening. "
      ]
    },
    {
      "metadata": {
        "id": "rFL59arM3pW4",
        "colab_type": "text"
      },
      "cell_type": "markdown",
      "source": [
        "# Prediction"
      ]
    },
    {
      "metadata": {
        "id": "ApqNO5oB3pW5",
        "colab_type": "text"
      },
      "cell_type": "markdown",
      "source": [
        "## Get Prediction labels from model"
      ]
    },
    {
      "metadata": {
        "id": "dcWf1sm63pW6",
        "colab_type": "code",
        "colab": {}
      },
      "cell_type": "code",
      "source": [
        "correct, predict_labels = predict_classes(augmented_model,test_images,test_labels)"
      ],
      "execution_count": 0,
      "outputs": []
    },
    {
      "metadata": {
        "id": "EUQIPPMj3pW8",
        "colab_type": "code",
        "colab": {
          "base_uri": "https://localhost:8080/",
          "height": 34
        },
        "outputId": "3b3a1632-5d14-4982-e96d-b5cbe126dcbe"
      },
      "cell_type": "code",
      "source": [
        "print(correct)"
      ],
      "execution_count": 26,
      "outputs": [
        {
          "output_type": "stream",
          "text": [
            "[ True  True  True ...  True  True  True]\n"
          ],
          "name": "stdout"
        }
      ]
    },
    {
      "metadata": {
        "id": "yNC7XOq83pW-",
        "colab_type": "code",
        "colab": {
          "base_uri": "https://localhost:8080/",
          "height": 34
        },
        "outputId": "293d87af-09a3-4874-83de-3c9a9502e749"
      },
      "cell_type": "code",
      "source": [
        "print(predict_labels)"
      ],
      "execution_count": 27,
      "outputs": [
        {
          "output_type": "stream",
          "text": [
            "[3 8 8 ... 5 1 7]\n"
          ],
          "name": "stdout"
        }
      ]
    },
    {
      "metadata": {
        "id": "xtdFKNzc3pXA",
        "colab_type": "text"
      },
      "cell_type": "markdown",
      "source": [
        "Calculate accuracy using manual calculation"
      ]
    },
    {
      "metadata": {
        "id": "8d36vJmH3pXK",
        "colab_type": "text"
      },
      "cell_type": "markdown",
      "source": [
        "## Show classifications result"
      ]
    },
    {
      "metadata": {
        "id": "8w-uaLDl3pXL",
        "colab_type": "code",
        "colab": {
          "base_uri": "https://localhost:8080/",
          "height": 657
        },
        "outputId": "b2179011-5135-4b97-9fe4-c10e78e8634f"
      },
      "cell_type": "code",
      "source": [
        "plot_images(images=test_images[0:9],\n",
        "            true_labels=test_labels[0:9],\n",
        "            class_names=class_names,\n",
        "            labels_predict=predict_labels[0:9])"
      ],
      "execution_count": 28,
      "outputs": [
        {
          "output_type": "display_data",
          "data": {
            "text/plain": [
              "<matplotlib.figure.Figure at 0x7fe79375ecc0>"
            ],
            "image/svg+xml": "<?xml version=\"1.0\" encoding=\"utf-8\" standalone=\"no\"?>\n<!DOCTYPE svg PUBLIC \"-//W3C//DTD SVG 1.1//EN\"\n  \"http://www.w3.org/Graphics/SVG/1.1/DTD/svg11.dtd\">\n<!-- Created with matplotlib (http://matplotlib.org/) -->\n<svg height=\"477pt\" version=\"1.1\" viewBox=\"0 0 449 477\" width=\"449pt\" xmlns=\"http://www.w3.org/2000/svg\" xmlns:xlink=\"http://www.w3.org/1999/xlink\">\n <defs>\n  <style type=\"text/css\">\n*{stroke-linecap:butt;stroke-linejoin:round;}\n  </style>\n </defs>\n <g id=\"figure_1\">\n  <g id=\"patch_1\">\n   <path d=\"M 0 477.39175 \nL 449.190313 477.39175 \nL 449.190313 0 \nL 0 0 \nz\n\" style=\"fill:#ffffff;\"/>\n  </g>\n  <g id=\"axes_1\">\n   <g id=\"patch_2\">\n    <path d=\"M 10.870313 115.92 \nL 119.590312 115.92 \nL 119.590312 7.2 \nL 10.870313 7.2 \nz\n\" style=\"fill:#e5e5e5;\"/>\n   </g>\n   <g clip-path=\"url(#p467a3d2a12)\">\n    <image height=\"109\" id=\"image5d86847499\" transform=\"scale(1 -1)translate(0 -109)\" width=\"109\" x=\"10.870313\" xlink:href=\"data:image/png;base64,\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\" y=\"-6.92\"/>\n   </g>\n   <g id=\"matplotlib.axis_1\">\n    <g id=\"text_1\">\n     <!-- True: cat -->\n     <defs>\n      <path d=\"M 35.15625 61.1875 \nL 35.15625 0 \nL 25.875 0 \nL 25.875 61.1875 \nL 2.25 61.1875 \nL 2.25 68.796875 \nL 58.796875 68.796875 \nL 58.796875 61.1875 \nz\n\" id=\"LiberationSans-54\"/>\n      <path d=\"M 6.9375 0 \nL 6.9375 40.53125 \nQ 6.9375 42.1875 6.90625 43.921875 \nQ 6.890625 45.65625 6.828125 47.265625 \nQ 6.78125 48.875 6.734375 50.28125 \nQ 6.6875 51.703125 6.640625 52.828125 \nL 14.9375 52.828125 \nQ 14.984375 51.703125 15.0625 50.265625 \nQ 15.140625 48.828125 15.203125 47.3125 \nQ 15.28125 45.796875 15.296875 44.40625 \nQ 15.328125 43.015625 15.328125 42.046875 \nL 15.53125 42.046875 \nQ 16.453125 45.0625 17.5 47.28125 \nQ 18.5625 49.515625 19.96875 50.953125 \nQ 21.390625 52.390625 23.34375 53.09375 \nQ 25.296875 53.8125 28.078125 53.8125 \nQ 29.15625 53.8125 30.125 53.640625 \nQ 31.109375 53.46875 31.640625 53.328125 \nL 31.640625 45.265625 \nQ 30.765625 45.515625 29.59375 45.625 \nQ 28.421875 45.75 26.953125 45.75 \nQ 23.921875 45.75 21.796875 44.375 \nQ 19.671875 43.015625 18.328125 40.59375 \nQ 17 38.1875 16.359375 34.84375 \nQ 15.71875 31.5 15.71875 27.546875 \nL 15.71875 0 \nz\n\" id=\"LiberationSans-72\"/>\n      <path d=\"M 15.328125 52.828125 \nL 15.328125 19.34375 \nQ 15.328125 15.484375 15.890625 12.890625 \nQ 16.453125 10.296875 17.71875 8.703125 \nQ 19 7.125 21.0625 6.46875 \nQ 23.140625 5.8125 26.21875 5.8125 \nQ 29.34375 5.8125 31.859375 6.90625 \nQ 34.375 8.015625 36.15625 10.078125 \nQ 37.9375 12.15625 38.90625 15.203125 \nQ 39.890625 18.265625 39.890625 22.21875 \nL 39.890625 52.828125 \nL 48.6875 52.828125 \nL 48.6875 11.28125 \nQ 48.6875 9.625 48.703125 7.78125 \nQ 48.734375 5.953125 48.78125 4.3125 \nQ 48.828125 2.6875 48.875 1.515625 \nQ 48.921875 0.34375 48.96875 0 \nL 40.671875 0 \nQ 40.625 0.25 40.578125 1.3125 \nQ 40.53125 2.390625 40.453125 3.78125 \nQ 40.375 5.171875 40.328125 6.609375 \nQ 40.28125 8.0625 40.28125 9.03125 \nL 40.140625 9.03125 \nQ 38.875 6.734375 37.359375 4.875 \nQ 35.84375 3.03125 33.84375 1.734375 \nQ 31.84375 0.4375 29.25 -0.265625 \nQ 26.65625 -0.984375 23.25 -0.984375 \nQ 18.84375 -0.984375 15.671875 0.09375 \nQ 12.5 1.171875 10.453125 3.421875 \nQ 8.40625 5.671875 7.453125 9.1875 \nQ 6.5 12.703125 6.5 17.625 \nL 6.5 52.828125 \nz\n\" id=\"LiberationSans-75\"/>\n      <path d=\"M 13.484375 24.5625 \nQ 13.484375 20.40625 14.328125 16.90625 \nQ 15.1875 13.421875 16.96875 10.90625 \nQ 18.75 8.40625 21.53125 7 \nQ 24.3125 5.609375 28.21875 5.609375 \nQ 33.9375 5.609375 37.375 7.90625 \nQ 40.828125 10.203125 42.046875 13.71875 \nL 49.75 11.53125 \nQ 48.921875 9.328125 47.4375 7.109375 \nQ 45.953125 4.890625 43.453125 3.09375 \nQ 40.96875 1.3125 37.234375 0.15625 \nQ 33.5 -0.984375 28.21875 -0.984375 \nQ 16.5 -0.984375 10.375 6 \nQ 4.25 12.984375 4.25 26.765625 \nQ 4.25 34.1875 6.09375 39.328125 \nQ 7.953125 44.484375 11.171875 47.703125 \nQ 14.40625 50.921875 18.703125 52.359375 \nQ 23 53.8125 27.875 53.8125 \nQ 34.515625 53.8125 38.984375 51.65625 \nQ 43.453125 49.515625 46.15625 45.71875 \nQ 48.875 41.9375 50.015625 36.8125 \nQ 51.171875 31.6875 51.171875 25.734375 \nL 51.171875 24.5625 \nz\nM 42.09375 31.296875 \nQ 41.359375 39.65625 37.84375 43.484375 \nQ 34.328125 47.3125 27.734375 47.3125 \nQ 25.53125 47.3125 23.109375 46.609375 \nQ 20.703125 45.90625 18.65625 44.09375 \nQ 16.609375 42.28125 15.1875 39.171875 \nQ 13.765625 36.078125 13.578125 31.296875 \nz\n\" id=\"LiberationSans-65\"/>\n      <path d=\"M 9.125 42.71875 \nL 9.125 52.828125 \nL 18.65625 52.828125 \nL 18.65625 42.71875 \nz\nM 9.125 0 \nL 9.125 10.109375 \nL 18.65625 10.109375 \nL 18.65625 0 \nz\n\" id=\"LiberationSans-3a\"/>\n      <path id=\"LiberationSans-20\"/>\n      <path d=\"M 13.421875 26.65625 \nQ 13.421875 22.125 14.078125 18.3125 \nQ 14.75 14.5 16.3125 11.734375 \nQ 17.875 8.984375 20.4375 7.46875 \nQ 23 5.953125 26.765625 5.953125 \nQ 31.453125 5.953125 34.59375 8.484375 \nQ 37.75 11.03125 38.484375 16.3125 \nL 47.359375 15.71875 \nQ 46.921875 12.453125 45.453125 9.421875 \nQ 44 6.390625 41.484375 4.09375 \nQ 38.96875 1.8125 35.34375 0.40625 \nQ 31.734375 -0.984375 27 -0.984375 \nQ 20.796875 -0.984375 16.453125 1.109375 \nQ 12.109375 3.21875 9.390625 6.90625 \nQ 6.6875 10.59375 5.46875 15.59375 \nQ 4.25 20.609375 4.25 26.46875 \nQ 4.25 31.78125 5.125 35.859375 \nQ 6 39.9375 7.59375 42.984375 \nQ 9.1875 46.046875 11.328125 48.125 \nQ 13.484375 50.203125 15.984375 51.4375 \nQ 18.5 52.6875 21.28125 53.25 \nQ 24.078125 53.8125 26.90625 53.8125 \nQ 31.34375 53.8125 34.8125 52.59375 \nQ 38.28125 51.375 40.796875 49.25 \nQ 43.3125 47.125 44.875 44.234375 \nQ 46.4375 41.359375 47.078125 38.03125 \nL 38.03125 37.359375 \nQ 37.359375 41.75 34.5625 44.328125 \nQ 31.78125 46.921875 26.65625 46.921875 \nQ 22.90625 46.921875 20.390625 45.671875 \nQ 17.875 44.4375 16.3125 41.921875 \nQ 14.75 39.40625 14.078125 35.59375 \nQ 13.421875 31.78125 13.421875 26.65625 \nz\n\" id=\"LiberationSans-63\"/>\n      <path d=\"M 20.21875 -0.984375 \nQ 12.25 -0.984375 8.25 3.21875 \nQ 4.25 7.421875 4.25 14.75 \nQ 4.25 19.96875 6.21875 23.3125 \nQ 8.203125 26.65625 11.390625 28.5625 \nQ 14.59375 30.46875 18.6875 31.203125 \nQ 22.796875 31.9375 27.046875 32.03125 \nL 38.921875 32.234375 \nL 38.921875 35.109375 \nQ 38.921875 38.375 38.234375 40.671875 \nQ 37.546875 42.96875 36.125 44.375 \nQ 34.71875 45.796875 32.59375 46.453125 \nQ 30.46875 47.125 27.59375 47.125 \nQ 25.046875 47.125 23 46.75 \nQ 20.953125 46.390625 19.4375 45.4375 \nQ 17.921875 44.484375 16.984375 42.84375 \nQ 16.0625 41.21875 15.765625 38.71875 \nL 6.59375 39.546875 \nQ 7.078125 42.671875 8.4375 45.28125 \nQ 9.8125 47.90625 12.328125 49.796875 \nQ 14.84375 51.703125 18.625 52.75 \nQ 22.40625 53.8125 27.78125 53.8125 \nQ 37.75 53.8125 42.765625 49.234375 \nQ 47.796875 44.671875 47.796875 36.03125 \nL 47.796875 13.28125 \nQ 47.796875 9.375 48.828125 7.390625 \nQ 49.859375 5.421875 52.734375 5.421875 \nQ 53.46875 5.421875 54.203125 5.515625 \nQ 54.9375 5.609375 55.609375 5.765625 \nL 55.609375 0.296875 \nQ 53.953125 -0.09375 52.3125 -0.28125 \nQ 50.6875 -0.484375 48.828125 -0.484375 \nQ 46.34375 -0.484375 44.5625 0.171875 \nQ 42.78125 0.828125 41.65625 2.171875 \nQ 40.53125 3.515625 39.9375 5.484375 \nQ 39.359375 7.46875 39.203125 10.109375 \nL 38.921875 10.109375 \nQ 37.5 7.5625 35.8125 5.515625 \nQ 34.125 3.46875 31.875 2.03125 \nQ 29.640625 0.59375 26.78125 -0.1875 \nQ 23.921875 -0.984375 20.21875 -0.984375 \nz\nM 22.21875 5.609375 \nQ 26.421875 5.609375 29.5625 7.140625 \nQ 32.71875 8.6875 34.78125 11.078125 \nQ 36.859375 13.484375 37.890625 16.3125 \nQ 38.921875 19.140625 38.921875 21.734375 \nL 38.921875 26.078125 \nL 29.296875 25.875 \nQ 26.078125 25.828125 23.171875 25.40625 \nQ 20.265625 25 18.0625 23.78125 \nQ 15.875 22.5625 14.578125 20.359375 \nQ 13.28125 18.171875 13.28125 14.59375 \nQ 13.28125 10.296875 15.59375 7.953125 \nQ 17.921875 5.609375 22.21875 5.609375 \nz\n\" id=\"LiberationSans-61\"/>\n      <path d=\"M 27.046875 0.390625 \nQ 25.046875 -0.140625 22.96875 -0.453125 \nQ 20.90625 -0.78125 18.171875 -0.78125 \nQ 7.625 -0.78125 7.625 11.1875 \nL 7.625 46.4375 \nL 1.515625 46.4375 \nL 1.515625 52.828125 \nL 7.953125 52.828125 \nL 10.546875 64.65625 \nL 16.40625 64.65625 \nL 16.40625 52.828125 \nL 26.171875 52.828125 \nL 26.171875 46.4375 \nL 16.40625 46.4375 \nL 16.40625 13.09375 \nQ 16.40625 9.28125 17.640625 7.734375 \nQ 18.890625 6.203125 21.96875 6.203125 \nQ 23.25 6.203125 24.4375 6.390625 \nQ 25.640625 6.59375 27.046875 6.890625 \nz\n\" id=\"LiberationSans-74\"/>\n     </defs>\n     <g style=\"fill:#555555;\" transform=\"translate(41.560313 128.61625)scale(0.12 -0.12)\">\n      <use xlink:href=\"#LiberationSans-54\"/>\n      <use x=\"61.037109\" xlink:href=\"#LiberationSans-72\"/>\n      <use x=\"94.337891\" xlink:href=\"#LiberationSans-75\"/>\n      <use x=\"149.953125\" xlink:href=\"#LiberationSans-65\"/>\n      <use x=\"205.568359\" xlink:href=\"#LiberationSans-3a\"/>\n      <use x=\"233.351562\" xlink:href=\"#LiberationSans-20\"/>\n      <use x=\"261.134766\" xlink:href=\"#LiberationSans-63\"/>\n      <use x=\"311.134766\" xlink:href=\"#LiberationSans-61\"/>\n      <use x=\"366.75\" xlink:href=\"#LiberationSans-74\"/>\n     </g>\n     <!-- Predicted: cat -->\n     <defs>\n      <path d=\"M 61.421875 48.09375 \nQ 61.421875 43.609375 59.9375 39.71875 \nQ 58.453125 35.84375 55.5 32.984375 \nQ 52.546875 30.125 48.09375 28.46875 \nQ 43.65625 26.8125 37.75 26.8125 \nL 17.53125 26.8125 \nL 17.53125 0 \nL 8.203125 0 \nL 8.203125 68.796875 \nL 37.15625 68.796875 \nQ 43.265625 68.796875 47.796875 67.3125 \nQ 52.34375 65.828125 55.375 63.109375 \nQ 58.40625 60.40625 59.90625 56.5625 \nQ 61.421875 52.734375 61.421875 48.09375 \nz\nM 52.046875 48 \nQ 52.046875 54.546875 48.046875 57.9375 \nQ 44.046875 61.328125 36.03125 61.328125 \nL 17.53125 61.328125 \nL 17.53125 34.1875 \nL 36.421875 34.1875 \nQ 44.484375 34.1875 48.265625 37.75 \nQ 52.046875 41.3125 52.046875 48 \nz\n\" id=\"LiberationSans-50\"/>\n      <path d=\"M 40.09375 8.5 \nQ 37.640625 3.421875 33.609375 1.21875 \nQ 29.59375 -0.984375 23.640625 -0.984375 \nQ 13.625 -0.984375 8.90625 5.75 \nQ 4.203125 12.5 4.203125 26.171875 \nQ 4.203125 53.8125 23.640625 53.8125 \nQ 29.640625 53.8125 33.640625 51.609375 \nQ 37.640625 49.421875 40.09375 44.625 \nL 40.1875 44.625 \nQ 40.1875 45.125 40.15625 46.171875 \nQ 40.140625 47.21875 40.109375 48.359375 \nQ 40.09375 49.515625 40.09375 50.53125 \nQ 40.09375 51.5625 40.09375 52 \nL 40.09375 72.46875 \nL 48.875 72.46875 \nL 48.875 10.890625 \nQ 48.875 8.984375 48.890625 7.21875 \nQ 48.921875 5.46875 48.96875 4 \nQ 49.03125 2.546875 49.078125 1.484375 \nQ 49.125 0.4375 49.171875 0 \nL 40.765625 0 \nQ 40.671875 0.484375 40.59375 1.390625 \nQ 40.53125 2.296875 40.453125 3.46875 \nQ 40.375 4.640625 40.328125 5.9375 \nQ 40.28125 7.234375 40.28125 8.5 \nz\nM 13.421875 26.46875 \nQ 13.421875 21 14.109375 17.09375 \nQ 14.796875 13.1875 16.3125 10.671875 \nQ 17.828125 8.15625 20.171875 6.984375 \nQ 22.515625 5.8125 25.875 5.8125 \nQ 29.34375 5.8125 32 6.9375 \nQ 34.671875 8.0625 36.453125 10.578125 \nQ 38.234375 13.09375 39.15625 17.140625 \nQ 40.09375 21.1875 40.09375 27.046875 \nQ 40.09375 32.671875 39.15625 36.546875 \nQ 38.234375 40.4375 36.421875 42.828125 \nQ 34.625 45.21875 32 46.265625 \nQ 29.390625 47.3125 25.984375 47.3125 \nQ 22.75 47.3125 20.40625 46.1875 \nQ 18.0625 45.0625 16.5 42.578125 \nQ 14.9375 40.09375 14.171875 36.109375 \nQ 13.421875 32.125 13.421875 26.46875 \nz\n\" id=\"LiberationSans-64\"/>\n      <path d=\"M 6.6875 64.0625 \nL 6.6875 72.46875 \nL 15.484375 72.46875 \nL 15.484375 64.0625 \nz\nM 6.6875 0 \nL 6.6875 52.828125 \nL 15.484375 52.828125 \nL 15.484375 0 \nz\n\" id=\"LiberationSans-69\"/>\n     </defs>\n     <g style=\"fill:#555555;\" transform=\"translate(28.546875 141.54175)scale(0.12 -0.12)\">\n      <use xlink:href=\"#LiberationSans-50\"/>\n      <use x=\"66.699219\" xlink:href=\"#LiberationSans-72\"/>\n      <use x=\"100\" xlink:href=\"#LiberationSans-65\"/>\n      <use x=\"155.615234\" xlink:href=\"#LiberationSans-64\"/>\n      <use x=\"211.230469\" xlink:href=\"#LiberationSans-69\"/>\n      <use x=\"233.447266\" xlink:href=\"#LiberationSans-63\"/>\n      <use x=\"283.447266\" xlink:href=\"#LiberationSans-74\"/>\n      <use x=\"311.230469\" xlink:href=\"#LiberationSans-65\"/>\n      <use x=\"366.845703\" xlink:href=\"#LiberationSans-64\"/>\n      <use x=\"422.460938\" xlink:href=\"#LiberationSans-3a\"/>\n      <use x=\"450.244141\" xlink:href=\"#LiberationSans-20\"/>\n      <use x=\"478.027344\" xlink:href=\"#LiberationSans-63\"/>\n      <use x=\"528.027344\" xlink:href=\"#LiberationSans-61\"/>\n      <use x=\"583.642578\" xlink:href=\"#LiberationSans-74\"/>\n     </g>\n    </g>\n   </g>\n   <g id=\"matplotlib.axis_2\"/>\n   <g id=\"patch_3\">\n    <path d=\"M 10.870313 115.92 \nL 10.870313 7.2 \n\" style=\"fill:none;stroke:#ffffff;stroke-linecap:square;stroke-linejoin:miter;\"/>\n   </g>\n   <g id=\"patch_4\">\n    <path d=\"M 119.590312 115.92 \nL 119.590312 7.2 \n\" style=\"fill:none;stroke:#ffffff;stroke-linecap:square;stroke-linejoin:miter;\"/>\n   </g>\n   <g id=\"patch_5\">\n    <path d=\"M 10.870313 115.92 \nL 119.590312 115.92 \n\" style=\"fill:none;stroke:#ffffff;stroke-linecap:square;stroke-linejoin:miter;\"/>\n   </g>\n   <g id=\"patch_6\">\n    <path d=\"M 10.870313 7.2 \nL 119.590312 7.2 \n\" style=\"fill:none;stroke:#ffffff;stroke-linecap:square;stroke-linejoin:miter;\"/>\n   </g>\n  </g>\n  <g id=\"axes_2\">\n   <g id=\"patch_7\">\n    <path d=\"M 172.070312 115.92 \nL 280.790313 115.92 \nL 280.790313 7.2 \nL 172.070312 7.2 \nz\n\" style=\"fill:#e5e5e5;\"/>\n   </g>\n   <g clip-path=\"url(#p2de7818735)\">\n    <image height=\"109\" id=\"imagec78128aed3\" transform=\"scale(1 -1)translate(0 -109)\" width=\"109\" x=\"172.070312\" xlink:href=\"data:image/png;base64,\niVBORw0KGgoAAAANSUhEUgAAAG0AAABtCAYAAACr+O9WAAAABHNCSVQICAgIfAhkiAAAIABJREFUeJzNvemW5EiSpfeJLgDM3CNyq6yq5jbkU5GPwJcmz3CZc+Z0d2VWZoS7GwBVFf4QUQXMwiOzZrqqOZZpYea2QaFXReTKppD/7X//X7W1yr7dWNcX1tsrZbvRagFtoIo27U/9UcdjU7XXVVH6TRAERBAJiAgg/rq/L/2TjPdF+ncECfYZCYqIEgIEgShi9xhJMRJzJKfEnDJzTEwxkWMkhkgUIUgghUiUSJBADIEQAhIEFWgCNShVBDtIQiXQEKoqVZWm0PpoRQjivx+i/Z4EgggSAjFGQoyEEJEYEfHj+WsxJkKM9rkQx+djTMSYiSkRUyLFREqJGOxzIQSEACIkcDD6Y1NaU1prqDZoBhodsA5WB+8BNB2gdCD0DjTuoOuA2eP4ThBo/lpQbD6VIEITUAnHIvLfCxqIKgQVRAUCECKITTzSIAiCAs0mIPTz9uWmIP48CCgyzi1gAPsB0f6fgoqiflb2ef+YKogez/tBHm7y8ETG/N1N23hM6mhpU1ptlFoppdJqRdtZ0vQBtBNYiknc3bBc2s4DQBD9UtKQs2SKL+j+CGILjCAQRIhBiCEQYyCmSN4rJTVqsscpNnJIpAgpQI6CBkGjLbKoIC47KjbivmhEAwaJ+InYQJufmDoyfcE2Gvh3ZLze0CaoCKjeAfYlZH0+hCBCCIEQbOGGIHeLud8Siol/VUpplL2ybzu1FrRVB6uhlZOavAetnSXVB6anEx6Spdz9PZ4LB2hjdcl4HKpSZAAXohBjIMVITpEpZZaUWVJhThNTakxRyQlaFFISUhRaVFp0iQxAUESxSRIhoEiw8QeEYMJC9UlvChpMnFpT8OeIg6PNRFLsMSAmib6470Sxz4Gfk7jqDsHUeP9bzvMyJK1Ba0otjX0vbFuhlB2tdUigtuaSdgKsGUDNx9FwEHF12sVO/Xj6COPpuRyv6vHCEDMJ3Z7YScZgwKUYmWJkTok9Z/Y8safKnColKVNWSlJyVlJupBSIUYhJiNHNWISogUAjaiOoDbT20Zl42anIce4ttIHBcY4ygBMaKoKqoBoGWHr82qFphqSJ21yzlY+SJgJpTJQPpBal7I19r7RaaLUZaLXRqqvJYccYUnY8nnT9MJa4mjgJuR4q8g7ErpUQO6Vw0o9iNtJODlIQcgjUFGkpQaqQKpq7qqxseSJPhTwl8pRIOZBSIDWTvhyFpIJEJZpcEFCziX2yfEztOBXDxiehax4JirhqZAB2VkPqf7tKPS/sfiiRk5I5TIucRC2JRISK4CuiKbU26u62rVRqrbRiarJ1+8ZYOChygPYAmDpY/cP3EneS+eMFw3RIXTiB5u/YaqP5iowx0lKjRQNrS5Uad9a0EXMizRN5zuTZgJumRG6RuQVajkAgEAwIUVRMJQYxu6QiRPRYkOgJQJ+PcNi5Tj7Oy7HLav98EyV01cohBGeB6M/lbm6EZDo0YtrXVIE2oVal7mbjaqm0cgDW+qrxyVWgiZxAPOvvE2BnXd5X172cDakfwImi0kDEtVQj+KqMrttCVNKupKjEqEislLBRY4ScCFsmbpm8T0xLZq6ZuWWqJlQzognRZvbM78EN8CAoIgRVgjZaZ4p+HkpfyP6f6HukzxdxozVBgpucO6LXBnMPoaEabNGLq2hftylIJEg1X0AMPFTQihOTDlw7qcYzvXfgzhTZV2BHQO4APNNffBm1cXrnt9SN+JA0bb4qlSQQQmSKwqUFrgGuTcm1gShbgCpQUkD3SNgze5nGvdSZVid0VqSp2SCtoBHVSpSAuJugnclifmfw8w/apVI7IofdGmy6m4tOUszhkNpo4iCpAdUB688lNGQAp4YNQgrugMYQiCGSojl0aKAVZd8qZa9m1wb56MPxyZW+PnVMNifQutTJ8dJZrr54/qjnkWZPtBnArrpm4BqEjxr4hsgzmYlAU7jVyguVWy3sVahlp+4bbcvUdaKuK3WZactCmxfqDHUWyiRkhNydYrVBqEu6qBEG1FXkUPVm4E3SmvmS1aQSNz3iqi4giFRaC7RaaSHQQqDWOhhja43QgmkZDXdWJAUfXBTzylPMxJAQhFah7B20Pot6TLqcmNCJQBwW9g7ZOyf2b7rpA6C+igMwCVwJfCOJH0LmhzjzMWWWEGnaeG07v9bGZ6281sZt39m3QL1F9ilRl5k6b9RLoV4a5QJ7gb3CrAZcChDduRcJZl+DIKo28cpYqBYM8NkQpUk7CIxacEBCNDuGSW0VA0mq2WYJlVYDNURCMFBDCENqOxdJYzEHCw3FmIghAWG4AaXoaVCnOe/YdCb1yCYcrLsP/s2I8WiBx3cTMCE8hcC3IfGHNPHHPPNdmriGSGuNlyI8t8YvrfKpKp+18boX1iDsW6RthW0usCsUoVWhVihNKapMKFkaabgBaYSlcMA6xejaEVxVNmOODVMOEpTmgGmM9n2pSBNaDTQJtBBpodJCPAiftkFyzhwgKW1IwCPN1Aa1Kq32AblpecTnC4bjv3avBx///DpW4/P9h48vBiA6aBcJfAiR74JLW8g8hQg0XkPjKoWrVp5U+dTgc2u8CLy1xt4qre2IbtQW2ZpAVbQaW95rIRdjnWnOpJyJKVtcUdyH8oUop/MazNlJBmI2U+4Aa0gVIxseLrR7n04dZkXv/AIHrbVG02rGryPrkY9W1dXiOxN/ftnn9Qsa78AdH/191OTh+Ri03IOWBRaEZwl8lMg3EviWwDOBgPBM4kkmPgT4TOSTVD6r8kkan4HXJqxFKGulsUET8023jbLe2G8T+TKRl4k82z1NMylnUswWrJZo0RpkuCRm3w+6jhgxCh1gqWarQhjErp9tj/r0KNFwBejEzyYilVqotVIfHlttI4L/5bTq3V8GmDu/nT346nj8+t+qHA9pO/7oqtxAE+YQuITAUwg8id2fCSRRWkg8BeVDDLyGxiuNTyifaPyK8qsoL8BbE9atsbeVWoqRlTVRbolyy5TLRFlmyrKQ551pmtFphjwhSYkxISGaBjooidshRfUAFIHQxKNLejcZcsqIPMYaOS8ClFTrTikWtip7f27AdT/iy6m8/0vu7oc72VX9sUq+BO49K/eOZRySLPQUTSCHyBwSS0gsIbJIYBZhQiAkpigsIXFV5SbKE/BM40rl6uB9lsaLwq00tqaUWml7oe2Rsu/ovqNroa2FthTaXGlLRacG04ROkBIE4hFFOZsPPRH/7pN55P2IlhxRjxEoH1/t0ngYzmSSZaDt+8a2bewOXmsPqvGdCe1AGZsyT6K7y4pYhIRTPuodWXsPpPOC+MKG+uKNHvFPIZA8p+VZJ5BADJA0nCbEQlSBRtLGRGWhcZHGG8qbNtaq7FqprdFqhb1S1kJbd+pto8wb9bJQl526LEyl0uaJNE3EnOzcPUba8VCVoZEO4E4RlHcWtDrgj+kvA23fKXuh7DvburGuK9u6OmiNr93OkxrGo4yJ6wcWleE6twH711IUX5Gy8/td74eApEhImZAzEhMQDRK3A1WDqXgxILMIi5hHmWgsNK40Xqm80njVypsagFtTtl3NXJRG3SptLdR5p247Zdupu5sSbYMcB0kQ47BNA5IeqTcs3PR8GbI6gGojrHgXIgPSvm0W2XewttvKtm6U/bdB6xNs6koIBCLmqI8gNGp6WtsY8CG8D+7D7wHneEsQQkrEaSLOC/FyIc5XJGYg0hQK5ujvCgUdzr+I+XcBSKLMNC40njCwXlvlxe9v2nhrlVXV/LfWaG2n1ob2wHk7+6wm/uYsgRBdI5wNB0PaGITPIiB6ioaEph4D7ZGU0x1I6+uNvRTWtxvrm4Fm+TRLyxwc3+dOOOXFGJKVOnAiJ9B6HkpOAQ7lSDD+Fi05gB+vhEDKiWlemK8fuHz4lsvH71kuH5jTRCIQ1FJczY/V1bUKRB9HFmVGKZgqXKlc2uleK6+t8Forb7Vy08qmlR2lqqBVka2gslHE9UoDLZU6T8RpIuRESNFJijvPX0hbo7ZGcDcj1joiJD1YTWh3gAGk15c3yl64vd1Y325sq0leLdUCw+e1f0o3W1TAJiKJ2ZTYayVcBTake5eHIZbTAB6k7v5YX/p1IUTytLBcn3n65juevv+Rp+/+yPXDtyxpYpJAam2oa1W9t6KnJ4rStFG0MbXKrJW5VRa/X2vhrRTeys5b2bmVnbUWtlYp0mgqaFH0tlGaGmDbTpwnkt/jlIlpIuV0ovG26NXjjbVWpBRC3EdtSZBA89za4bnbvIkI6e3TK6VW1tuN7baxr4W6V/PIH4A6YgCe9hchSSSHSJY4pKxbLUuGCoolFpvqnap8V9hOx3l8M8bEPF94+vAtz9//gecf/8TTj//E8vF7pjwRBaS2Y4H0x3HenpNQyzIHbcTW0FahVUQt+pG0MtfCUgqXfeO2b7xtG7dt5bZvbLWwaaXSqBV0rdS60vZG2AtlL6RSyGUmzx6UmIJTenXULNpPLSDixTvFC3mMYGkQVCM9UN51T3r9/EZtlW3d2NadWjrV75N4rBD7U4gSyUHIYlnjKSSyS9oATJWqDcHFu3v+TcYq0+Zh5geBfs9/h0BOE9enD3z89nu++eGPPP/xzyw//pn08VtImaLKXna0Nao2iiq1pz/cjogeoPVoRGumpqpz3aCVXCvUQiiFtG+kbWPaVuZtYy0bWylsrbC3SqFR8YKovQI77mmDBl/IXf5lqD7BJFakmo8Yd2owE9OCoDHgFVQjkyAI6eXlzQZdCmUrI5pvWB3FKX1WJQZSzEw5WU1GzEzBpK1D1nzSqjZ2bUhrSKtQG7QKtfpJVSMmckB0BupOaUpgXi58/PgdP/zhT/zwp/+Oj3/8J+YffkSePrCFwLrv7OvNfM1a2VulivgCacYQ2jgTS7uomPoO6pA1VBMt+ndyJU0Ll6WSS2Gphb0W9rqz18JadpO8ug8Am0LbG4UCuppma5CaEicrLAqKRQkQywaERtsrNRRqCNQYSLGiqZpfNyQN0u1tO1Zb6YD52nDi07p6ESHERJ4nLsuF6zRzSZkpJvOTYKza0iqlVcTvWipaC1o81ajFbI5aquXRU3nUmiEm5vnK84dv+fb7P/LND3/k8t0PyIdvWOeFtTW2WnlTWGtlL4XdwaujQOmehZ3zeuK6WtwlCJhGiSkSkuE9AxOgTiD2VtjKzrqvrjpXtn1jq7sdc29UraA72oTWIKs7SV7qF9TtvVSqOGAh0FKg1kCraURQNJjEpb14YtG5uBVXPkxeP7kQSFNmWi5cnp54Wi4saWKOkejMoTYrU5BaoHmdSSlEKTSxsgRL+nk1U88Qn7iJ3ulLBQIhZHJeWC5PLE8fyJdnNC+8EdhKpew7L28rLy+vvK02eQO0eqh8PYPW/3M/TsQ8vSjm0+UQmGIwExCtKDZ6iVsAojZi3Qn7RljfCOuNsL4h241t38x/U0tx1dKQ0AihIsE0jbHZhkq1uZFgkhaFsluJYE2FVk3yQ2uoQIopG63WBi1YOl2rFXh6hk8Uq5NIiXm5cHl+4vr8gafLlSVlkzK1qi2pBd0LtQSkFNd8Zk8seOqpjVMa/y6afydi3XXPpDgRQqZpZNuVT28bNX7ip9cbTWHdVl5eX/n8+sJtXdn3nb0Uq3dp7Q60IzBgfmUInggWiGL5qskBm1M67jmTk1X+htjrVjItBZBIShNLnkn7yrxv1OaOt9XIWU6umepEK1ohVh1VUeKMsXhFVoxiVcwxEaMteoik6Xo5iEIraDMvX1p11mKGU2Ik5Ynl6Ynr8zPXDx+5XK5MMRLVfBRKQUoYDmRrzVYPMrK82kMHenI6JbjefvTfBEikOJHShBJZ18ovn16o8hPhl88UVdZSuG0br7c33m5vrNtO8YKk6iGjNuJ8pxjpKFvzzP0Ii4mBlsIdYHPOTDmTcyZPmZQTKUViFFKcCWlini7MraBlp7U+hkpxYWg0WlFaK4TY7hx0kaNYtQTxKotgZeMhGsdQJS3XJ9eZhVZ2WgkQdlqxiDQAMRLyxLQsLJcr8/XKfL2Ql4UkAYob36ZUKgWhKBSFvSmlQqlKbV5O3josXZKaP+rpdXG1mIhpIoSJVoWXt5W//PQrv7zuFIW3fedtW7ntO7dtZdt39lotcjEKag8zLq6Kh932+kIrt3DQopBjII9CWANuypl5mpimiWmZmeeJZZ65LBOXKbPkzJKFLKY6aZVSi9vXjb1sbGWntYKWNuZdnS9ICIRYuzLysFgYiWlBCK2R8rSgWqnFJq21ahUxHPcgkZQyOU/kPBFjBok0FfamtFIpW2Hfd7atsK6F1Ytet72y72UUB9Xa770f4IsozR1oRrGSSdne+Pxyo+ivkN5YS+N1W3ndbDK2ajbMytlxyi0jxHT8rg5/sic0wyg1t8plq14O5BhIKTF5FfM0bUzTxLzuzMvM5VJ5qo3nqpQGLSeWGJhG04QVTAUJI9SnRWha6amb5gXBtVp0hP2YhhACMe2WAhIh1EYKKaMteBJUqE3Za6PURu1hLAJREjFkRBK1wboWWgFqo2wb+7qxbzvbtrNtG9te2IuneupOLcVJSaW1nq9zWn2EVb8ArWmgamAv8LYW6qc3XlZoIbJ57cdaii02PYuxL1cJVkbsoaSufu+IjygahBo8+etxwNqs/CA22Gtjq1btlUsjl8pUCm974bbu3JaV12niOmWuOTEns4nBk6QqCUmWmSBGm4teqIQxy1atvOOYAiGGQkk7e0im9EIkSYjG5jRQG+ylsZdGKeaUSghE7d58Qpuwbw0tKzddaaUaYA7avu9sezGb0uze/K69vFy1O/lDLb5D8oEEkmhESgu0vbHphmxKk2jjPetbN9QmWUYORktS7CufI2PcyWvPHJzvvnCaSp9XtDSaFnPia2MrlW3bWW8rb6+Zy5S5ZH+c3A5OiZwTKVrUQ4IQNSKtINUWm3o8tjaQ4qE+MbZZilV7h7Abjw6NVBtjRdlADLRadEydpQiCFbEWRZtFA7Q26l4MrG2jbAaWAeaShEdXej07WBi3F6uM9e7Lq4exfJGEOBHijIQZlUzVYM0gGKMNko66RO8yicFVuoOVYiI5aEaSzC+lk4Dh0ngKYDzirM9A7ZXUVEXVYrPdNGxxY82Jt5xYpsxlmrjME5dlZlmUeUqkJMNloJclmFGydaEGHFVpwSWvNkqphFBoKoTYSK9vK60W9nXjdttZt0LZLPYoYr5EKbDvDbkVWhHAjGcrzcrGPcBcilIrtCo0NScaiSPe5hzyFM7sK/t4jqfdCQEJiRAmJM5InEAs/aISXaK8YVGC1RM6aKG3QXktp1WZBa9XZKRADofb3QEvCceiT3em1Vj7keAM7tuZt6RUGptUB1aoKuzgd2VrlZwDKQoxMMJ76iEuS5raQZVgts5BLLUhpVrIqwrp9fVGa5Wyb2xbZd8VrS4ZIdI00qpQdgUqtZj8je6ZpmgVtHlNvABRh8Bw4gDWYMig2oPidubkvoz0UvWQkHiAJmI2VST63dR2kAN8+y3rqAkhHI/+/qilrw5cf1R1zaDDzp242FACndOYEJ5KxsUmvyns6lVdu1AFdhpzjeQ9kFMgRe/6ES+dCAaWxSRNxC1qZOV5tZq6rFoJIqTiNfq1GtISEposaW/tpZkQE0KGFmin1YAPnChI7CqQIzsg3dfoj50XhNM92gmEQIhhtKpa+2sHze4hZELIREneBhRHtvw8odazIS6Mciyak//YwWq9iKlLn7bRaDEaKXpsVM4Y+gx0+zfQDKiIJWJ7ygaltEoq3qWTOiu1R8TmWzk3m/g8a6C1rpIbVYQ0L1cbaK3UsnsHqDoNToSYj77fUawZunKz1Y7R5vtl6erOOxrtkdHheJADV13u4A7gYpe07PfJfDbJTqHjXU1IX/2INwUOm9S9v1O9RWsHUNWBcwBHJvmc2jn9hwMmet9koQ5aE0F7g3jv60Ys5+aEY5QaDDveW5St2TGoqUcrnXAJHkeC9N33P0CPXpxidEGigRaSNWaMrkS7M1STrXjBXx+geabWW1HFiYKpq17NHH1BdLB6I7uDFiMSrP5DQjJi4lJm/x3enHW6uEQEtfavYEyscYBlXT8ntTgArKc+vKMO1B6NKowinJ4XHNEbJxYDNLub2lRvhDTJtZQVSO3UtQeo1VWlpWVErY9AxCSwzzkC6ccf/+QGEX+07gyh2410bztOwPVUenD7wkkK4dD3d6CF3np76u732N+5fTV0thesrpDR1RNH5RdjxRvJEY/S9/qKFhjpltbBaifwOmgPgGkPAAyXxQF0m0drDpqeXA0ghDvQTJ2qWyjLLYo2GyOWKqui1lYWun/oYdpOUAinHj3blSH94Q8/2gR3u+KSY+2mzgC9d+0AoYNmn+1Sx8Pa7/7OvV3rwJ3s1+l3eyywA0gwKe/HEA0e6ejx0h4j9YRrX9HiJQW93fZBPY5CmlrvQDMJVDMXrQN3VGFrDwhosxYpPelIV43aGYaDZurUx+iJYeFguyphyFvDmHfQ7mLI0Z/qRVPpD3/4EREL1eRpIuUJkWDNCLtSqvVad5LeHdFhMLvxdLC6pu/O6UESZFDnwbacLeLvDyY2WKScAOtcXDzwYX5SpdJawSpr6lA5lqPSsSDP5dYqgSZe0Kd4ZVQ77IwwCnFCEAcpgAMnraLN+9f0S+C664KncIJ07XVohPd2apAQx7w2pK8/egZL1Pz89PHjt8QYmeeZ5frEslwIMbHvjXXd2dZyMsxudJWjidDvAzAdoz+gO7G7jv39Tfr52ufOWzE4Ve+3DkajUtpOqRulbGirKHXYHO3LR8JwsEMM4wR6d0urZdQvHvX3B78XulPuHn2zRWPhC75IrB6hcDvnzoyj27UuhMPXExnZhWNTGuenzsZbA2+GRQRSCpGUEst84cPzB54/fCRNE2Vv3NaN9badIubetUjvP+5evQwJU0PThz2sm8Ei3R/o0ffDlp7BlIfH82Somh1QVQiVxk7VnaYF1XokOZ3dRYk2YTGYNXSygC8zK7Cx4IDRfDlseLBVHwQP8wWkFatzCdX9U1errnoPgfOGficX0dlzFPHdh+S4D5/tiL74hHFsQOPgCaSf/vIXpnlGG1yuV2IMXJcFXYRlmdku5gbUejCp0b4rvbX1rCLtAKM2cuDxAFg7tmgaYayTPzTikWr+iepRL9lU2Yuwro0YCzF5VVRvXBxFPBZgnVJimjIpWdl200YtwibNAgcB64FWL64NEJLb3Ri9lsSy8q0Gnw/v4izVFlHFx6q+eNV9vmA1MmJaSPwcuspXZ4TdHBzbUpzUuoQxZyqQ/u//+H9xuVy4/Xgjp8Tz0xPXZWGaJ6Y8cVmsRqH2XQ7aofct1BSRoY+73XGAjmSWA8B4vfVBdMg6LeagwsN/dAqORx0U2EvhtgbebrBuYZRn40SDaseLEphyZsqTgSZ4PC8Qo6IUqu4oYlRchJCEmCJpsr60EKyOo1XLj7VexrD3xhXbxsMWTj+jrt6aB51dK4mXzzuxiO4uDTIWjzDc2LXHtVVf4Ok//p//B09PT6y3N6YUeXq6sMyZnD6wXGZiyggWZxz1/WpSJr4SQ07uDIc7IfHlcUTUuyY8ifuQMDmAsz5jY2ylFCsvK9VUlRvrUiu3NfJ2C9y2PIC1Q1rptjQr0EnJygRisvSG1bEk0iQQG4RGSFBb80RkslqYaWaaMiFFj1ke4ynF8of7HtnWwJ7kVErf7en57hEW6QVhzgSkGzjuAAvuCpmqPNlLhfQv//k/8/r0hKBcLzPPTxeWOTFPwvWSuC4zKUYLip4MdgNjRzESs02IOd9nDafj8TBL4qD1kNcRZhoUSYxa11bY9419F6s5EZvQECO1KeuWuW2ZdTO72zzlY/FQBw48VOb5NKwwvdbKvFmn57RM9hut0dP7OWfybFnqGCOAR41M2gZo2866rWzbRtl3X9RORvRgsuYxHg66hM4c4xhfCGdW3Rk198ZdIH3+9a+0spKTcFmySVkWljny8cPCnJ+5LDMiUHeveajV+rhQO1CGlNS9/+4W4j6fExG5FyntuwYgx8uo0yRzZGsNbBtsG+zFV2GeiCkDsNeJbZ+PVNB53y7vYj1KDnwiJQwfqtTK87axrhvbvnt1mElziomUEzlnD+gyyrhrraOPz7L11iJWiv/GiQw1rWg7cou159BUx9z0cFw8KNsgfV0aD/sGqWyv3KTx6y/iqQPICT5+WPjxD98Q+J55iuQYaZOpyG3bWDfLm6EVqZXh/EogiRDl2FsxeoHK2OdqBEZ7dtkJyrBpDdVKqZBCI4ZKKmqTOVnZg0RL3lbPsLeHu/WKW2Rj9xxfc/UXT6qy1Mpe6pDUHkQI7ir0Mm20LwivEa09d+gS51l6HZlzs60dqFrsM/u+07tvD0fdiVN31odi0iN+27PgIiQo1H3l7VX4689CjMJymfjxj9/z+dc/sa9v0C7EKZlxlECpiradfb/ZRAijxiKJ0IIlIEkRSd6v5buHHeGv5AHk7qTLyGV1shFHGa59NsQ49riKMWGNHV5Q5MW2pVQrlfCSiX2vpzCWBZNjFFK2+GZWmPUoADrCAg7eWPvdTJ82aHGNU52gVGMi49PNQ2TVSy4sq78befESiRHnLEdmv5diAL7rhGUE+o50qYti2TdeX17IOfHXn5746V//lZ9/+gu//PwHLstsaYScQBqlbLy8fuLT50/W4tqqO4mQen2/l51NOZOmTOwB4JjM0OeJlLIVrDhTGo64+8CWLY4IiZTMJuVsaismIySWb2pWQFQ3tm1lW4vXqFS2vbBtO/tuKjQEKwXMUx7A24JxgM6dP2fvo/uJPl+jP0AtwhGdmA0xQUGDpVZypLXsobHOhusAtdtKu3vve6lWnYzzlOibzoiQQsjEaAOvtXK73fj06TM///wz//ov/8o///Ad8zIRU+D6dGEvOy9vL/z115/56aefWG9v1L1YxwlWlTukPGSBAAAcPElEQVSnxJInlslKzKbZWlslJUJKpDwzzTPTvJCdiod0RPtjlAFiDAFNvndVsDLt2A22iDv6jbpv3N5e+Pz5hdfXG7d1Zd0cvL1Qq0mTqcdM8u0lpO9QIOFh61nxcoRztKOTge79OzanKEx/mUEkvLsoJRgtTz1Q4Pm72jzzf9jJQxqNwMhYMpDm5eIr2vR5U9i2nc+fXvjLTz/xz//8LyyXC2lKNBqlFj59/sxff/2Fv/z8E6+fP7OvK1orUZUpRC9umbgsC5dlYbksxGxttmHK5GlmuVxY9p15XswfSmnslBpiJEQjMb1Hbiiq4d95GEmtxXbfNm6vr7x8+sSnzy+8vr1xuxnBGPFTz/3JACfeBb+tktfsGHDKBJwMDQcpGGxZ5ADKH0cRbPSCVq9MTvHIH4o4t2yuznv/wQm4TlxGsFqVNF2ulub2QWXvX95K5dPnN376+ReuH34iLxN7ayiVT68vvN5uvK0rL29v3F5fqdtGqI0pBNac2ZaFsm0m7q2S5olQMqFO5Nasdh3b3DnXYm5D9JProIXQPQQUq4SLKha7jWZHAcs7uT1yI4fWSis7dd+tbM/di1NkoIvDIEkjY26zaXbycZeHHnqKRxpJTpJPZ8tO5zsDzafq5JSPQiORQ/GKmP1CEjEKrSVq61uE1ME60/L07Cdv3nfOmeX6BDFx2wp//fUzy1/+iqTE274RovD29spWbLOuClZKdluhFEoIUKurtmibpZQJUiNEJXj5V9gLxJ0mwt4aoZTTztl2lzCMm6/s6GXYiZQgpb7ao7dfzSzzYk6up1lEYUc8DNd3fKte6aycGXpXe+qAlR4B6bFF10bipMvKtcOJ2YVDcw7Q8ojI5CkzTZMBl0wCe3xz2Eq8QDVGck4o2YLad6A9fxgrJkWL0V0uCzEvbFX59HIj/fwLVeBlvTHNGVUr3JSYCV5tXF1tRSydU/qEiOXErF8oQbQt1CuWgqdU9gYS6imnFoba6nIxovU5kVM+JsB9NiSS08yyXGnV4o4BIcfEfqrtHyV+arUbeINGc9eheqvWXg9VVR6k7aj4us+6h9D1Iy411mljldmZacrjec6+hXv0vmwvqwsxMk8TMdruQDEcEteqRVtM0qQjaz885QlJib0qn19vaPyVvRZebm8sl4Vpzt41kghpJk4zMW+oeAlAyr5VxETMM2leyPOFOE/IZHtMxZyQmGjiu6yVniE2Cn8OdwlOIEIguYqZp4llWZiniZSiB58DKU4ssyJq/WVznmxTm/0w9GV3QLxcvZRKEe9pU2tgp1k/XW/V6j1uPa545ATDXYAXjmhGiIE9ZXJayTmzrd51k/MAzDpwvJwjmmQKSp6SZQjcBsYW0GRsMuXlcoCWTN9KjDRg3Yt1c9bC23rj8vrK9enC8/MTl+vFjGqamJerEaJSSKhd1GBZmK9PLM/PXJ4/Ml8vpGUxMpKTxxDFHWSr999KY912ttWrlHcPFNNTGYfamOeZy+XC9XJhnmfyCKMFcp6JITDnaRQrtR70dmO/77YXyO7ssldGb7t1d677xrptrN7nVr0MYZQs3DHKHkyVwSgtn4OB34RWzH7jznYZtTFu26Ix4zzPxChMU6ZOmeTuUIxihhwhTcvF6a6px16zYREJO8C2b7ytN2Nk6+Z5ncj1eiGlmetTYJkXpFaiNnIIXOeZ64cPPH38lqePH7k8PZEvC3GakGQ1JU2bbYexbuwV9rbxetv4/OmVzy+v3G6r5bm0V1rZ6rb838T1euXpeuXp6cr1cuFyMcnLyVTlnCaOTB+j0sqAOza9GT0I+87q91tvjN+2Ee3olVv1dG96tncH1Q89LhtPJekemNVqAYAe2pMQLN+XE00bOUeWZaIU0yLJK886a03L5Xro6BCJ4i1HTY5GhFN6JIbIbb5wvdoKmuZMnGcTZbUdA5LAMk08PT9zef5g96cnpsvFWGSMqJixj+tGU2HdCq3Bbd359dMLP/38Cy8vr+x7sYZ6kaErk+v9y2Xh+emJD8/Pdv/wzPPTlesyM0+Z2S9pkmMixe40m380esf2Hq3/ErTVQdv2/c7pPSL8tkVVbb0v+kT3u53rlzDxfFrPjvctb3vNCiga+2ZnddSr0BoB8017DU16fn4y5ign2qrNdvisOHhmd8Y1WxRrPqtKIDCliWmKpCAksa3X55y5XC5Mi/loPd7X7xLEV6oS9x0I1Kqst41Pn1746ae/8suvn9i23SQt2BgQJYZgEZd55npZeLpeeX564vn5iefnK0+XC9dl5ur9Y9dlZpkn7y1LTg4st9b3dyx7GeTD1KSpyM0BtfYs3wvSg8R9D7E6OmCMgFqA4FB/vbRw7MTuPlknRwBE39hmmVmm2RlnYko2XnODjKGmbz5+GJq5Z0dsJe5oTahd+gLBKOw8T1zyYiKrVtCWU2KZZusQ8arZnJwF5WRSpSdH1X2qGCOp1zqKqa9923l5eeGXv/7KTz//wrrvFmKK1jzR0/jRjzHlPCIvl8vM9XLhelm4LgtPlwvP1wsfnp/s/mSgPj9duVzcDuZ0JFvdvlqQuXig2dhjd3BrbQdom0cuTpLWY4UxHcW41qJs5d2lmP3uKrmU4jFRMfdgnrhcLzxdrxaYmGdyTsMhD0FI3337keGcqJ4aEip4462VXgdSSIPCTvPEFDNTzMypd0RmpikxZQOjR6VtdW4jnwVKJkM4NpGxGJ/Zm23deH195eXlhdu+g0fme5K0Nz+I+E50/fIl2RbKMk9cl4XnyxMfn5/45puPfPfNR7779hv2+g0EIWZzH0K2Wkolkem+m2cIHKRR2OQLby+HHTQ/rnrfi0lZclLRXSlLReGAG2jraimh3XNwtoVUJE+TNSt6JMnKJKIH692m//FHqzA+9oc/1ed59VAUIYVECn5pKDeuecosl5nlaeZynZkX68dK0XamaU5kSmdwtdJKobUZWrWgrxd+HsV3Treb0W1t1aMiffNBYRRpu29YG97ZE9j3lX2bbJe4Ui2f5aXiIQl5TizXhUtZmLRZ4U8vlj0517TzTnE9VugVwuWwg3aMvvVtd4yDh+HC0GLt1KxYel/burFt+8iUxOTO+JSZPWabu8SOgDGk//6f/mRhFGdWvUTA0i0dsHAPWs+TpUiaLF2SJr8cSBIrGWiVda/sm+00IARSshT+vM2064VpniwaUD3gLGr9zjkw58g8R2uiiJGY813hi4//qOMXnAFHppzMfs3ZswFQamHdN27bZj3aZWOqE6EGNHjF1jlD3H2u7ieO5GQ7imljsorkU4ir+2jIsTNRaxbwNb9MmCZhmgrzvA/QOuApmQYYIa/U1SIjxpn+/Oc/OlvUkZATz0jHnsuR6KDdd1VaY8VRImD75zdUC3vb0bpTthvbbXUyEdnzRC0XRCuiF2OStSA0UhSWKfF0nfn48UJpO1ttDto0qqB7lL8Xex7BWfGrPCWmbMRj9pKBNHlRj9qm0lsprPtOSAENViIn3uhormGHqRe6MqLBTbyKKvTusj6hrgVcOmsx22jleZCzmZaUj6z4NHkkv6v9KOOCdykdZQgjPCaQfvj+W1tBJ0mzuKGMiHTypGYMR3flCHZqpbZCaRu17bS6UwoUdySpxSMLdoEB0UYJQsmRmiNCRrQegD0tfPfNM9v2LdOc2WuDmGyn7nBqaA+nxsG7BsLgJ5zGnh/RV/A8+45wIYy9u0q1NtkGx9WtWs8+H5XJB7Pu0X8rJTdy1OuHeSAcG9u6shfrfJ/nCeRMUuz54S7ocX5+JcZejTUyCEC6Pl3pZWe9IcFE2VRNStELPs9bN7iUoagKoSlSEqFa45uK+MXmInPOiNoVoUSMUEzJiYqrtxQD85R5erpQ6kdUG9OS+f71zdpZQ7QeOTlACw/A3f8dx8TEEYU3Q39ZFq5PV+Z58k2jvT3CweqssW8F3OsOe0RG3Oj1y5PhJK3v89G83Xbfd263G7fbG+u6giiXy2JBMA/MH2NLjCsydrvojLqbgbt8mlFp9QiMcmyCLCNoa2VfOqqJWmue3eo1xmBJWysZ6PZlnhKBmTkn84slEIPF3vI8WVmbO9q9gybnyOUy8+13H03fKzA6P49a/94sclwkToYkPl44bnSJeuxymizinpJPnIO275W3zcJXpVbPffZEZhjNIpzybKaVktcvGmi2U+3G2+2N15cXbusboNzW1XYPQp0ZesQj9nEfJePiTPmwsjpSemnbNwOitnG9NFRNPEsh+X68/Rs2yOD2BO8hNvJxkBfQEAjTxJTiUXshvVPG8ma282jw7kmYdOJymXn+8Gw1FyNwbDJ5XEvsaNLoe4Ccmzru24FdrfVAbs8enF5v6qElZ3Vvt5VtZI372GVsQnoPmnjQwauX+4UD15W31zc+v3zmdntFaazbaqpQdERRRGZizGOccgJs5Nm0h6kdtJ9+/mmAVv1aoB20oV7wlDru2AbbGGXKics8sSwWMjJiEtFkW3WpBoR0ACa9l9qrkV09jCUmQm8FGMl73zPRp46+co5e53sw5fTeeSLoNsfv46rBDXpbkJlhmweLdlTfL9IOG+jBB1eP2kY2oe/dbBcNNEm7vb3x8vrCur6iKKXuRl78h0IKpCmRSYdqHCpxlGQdty5p/89/+k+HpJVeUdSrq6LX/B2+Sowyoh3Xy8w3H54R+UBOF3KMiDQgmbr173R70C/3Ra/AEsZmXyed4HSbEa/zD46xi1vlLgGDWvWVKWcJO6h8JwptzIeORXLflAw0zz44++utvmfb36utQ+/fU/FKbNsVb11Xbrc3tn1FUJoWJKinFwPTbLlLZzM+5lOc9QTY+QzT/3sGrbO8pnd2w0Br5o3HwDRlrpeFjx+eCQKXZeLpulioKSSTsiCDicrJWIfgoHUhGuAxJI2uzvDnfsG3fhLS+87El76Libre79cUVZ+IrtjPi3YgSF8nHm0I/brYDkXD7ZRdbMKCxuXUWK/0XkZVrIu0NI9n2rUOSjGwZFduayC/Rmtu2Z8sG82ZbMjdbkJyHq/PSvrLT39xNXF0+qM6bMQI1Lrvll0ltlZIKbBuTxZ7E2NF1lDU6JcWFj/gKH2WB9AeHuV+jBwX2/ETc9rdge1nZvN/Sp7Soyf9R13ahlTKGFufsBRs/6uSnT36wI7mejcfPq6x2NupLbger/XdeKz9wLtkOLUCP+yY+ihR5/HRzx1I67aNmONZ5G319diZb9jiUkcQaxbo4ZpT7bkJWDzWdich9L5qt13czaXbqTG6o2bizhU5VUH1qRYZV5saANKBe7QLQj9yx74PwfJ0kVln96Uy07Qz74tXVHtN5bYdGfCesnKz0ko7erdbo6VAarZxdAhWIDvPkyVtvQItnNjtnZY/qxbu30sxRlumwYhDV/i9gKXT3OOg2SLpT1cu1wvTYrT1rmkgCEgY/RTHuvaVb/z/PJenFXYiuV6EU3aLXQpHYvHcq90LTXuYRx0wdSkxAOVkN2QcSXtARywSIWKFtHO1y3X1bXVtk7aV3fNro0axFGpP0RTfsK3vAdaOSuEYbVFM82RZiKv7ip6mkscZeGCM5/fSh+enPkNjidpWCJ2iB9+NQCyKPnvy8Xrlw4dnLpcLecpeVWRLQkIY7abH78o4ztjMWnwyXVK0S0xfZarWC+aruxfLkDP9ItUSzPbg//YaTlNdPaTUV0ZvwO/79dtB+wae1nseSCEwYeUBvYxuH7X429i1tefTSq9RdOC0VrtKxl0g2UGbMssyc326siyLl0kcq/YepJO0nS4xnf785z+fNdSh4wfjk7t68jxZqv+yLDxdFp6erkzTNMrwun0Y8brzMBTf2vywLXec0CW1S0wDj4rbdXBExBeI2dvjahzhnpD0/ROLVVg5h0VECfEoU4O+n7IVFPWmPqEXsEII7rOmSK6JOmUrresqclwFa7cMhteSqLZxjdCufVJPdObM7Jt8phRHRr3P0Z3EDZV+cq7/l//5P4wPHPdDjRzbRTA2sLTAZ/St8Wyb2MOfGybefvces5NVOb15+syg8W4HtTXze7ZtBE5TjHZpj3CmLeogdKCtG6ZU2/zZziESNfqGz7a6+x7H1ubk8e8AEk4dr9gORtmDuKk3VoxNY7wm0UsFGNmSYRtOwe7gCVzvSRjBiwOw99Ti+f30P/2P/8MBlM9jOIEmHNR6uFG90dtTN9EJSF/pj8cZMiUdlq+MZxAgGQRGu7+076MCuNZKSgn1jMSRB+ttTnWUDZTadywIhNiIqn5dnAO0MmKN1eKcoTpyuB30SY/2vMdeY1QgD0no2y+hx+M90RJ3R09CEe7n4xGw95zs9N3HD8DxY8MRPgNGZ2LnXVDbaXC2e8399atPBxqqsMvyl4Ad3pR/rmOsR/JQ0bssMqdvjHTIKBWwwO9emktMIDQrkahYkBvkKGCtvhPn2MjG1S86ep9DPHqhB1sOZjZG4PoOvC9PV06z2X3L8fnzxx+R9M8DJJqVcEuwy47cbZlwmrkTTzkOevrFs3odR71jre8K/OmdA7ax2+kXnzpCUb506f6aqlc27wdgW6mU6jlvAWmm/vamhGAB4eKg1dpOQYi+DYQf7ZTrCm7fe1lBnjLLPBElD+COBfw4S8cfPUx3vkLWI7d4vPU1kPbbq9WARC/fjtEv2mb7PPV5174v1Cn3Y0yTbiG+uI8RPAB3lyHWYwGYFr5XByPb4DUSfQef81YYKp5aqY29Vu9Vq5TWbGPs7rOJlaRJsRL0AfRp54Ze1tbGHlq91cgD4r4hdcqRabKdU0UvpAD0Mfag5uMCfwBCOOze15f0l7dUbm9Gpb1zU2OyqHs4WM0daH0tDqZ3qLOvHfl8zbUv3rv748T9/VSOdiGLhPe82t2Ody6BzUGw5ok2egqqbxLWq0z6ODvQZZTHHVsK9k4Vq+H3iDwnf2vKDlhlSoE2ZTRbnwI9ATwW5Mnt6P+eFm6/frhTh/dVIwcbSKmTC1GC2hWN+qLs6mcY1QFaN86dtLynHvWdv/xffQdBPVEUZYS0+k4D1S+2YFGE8+bS/bENe9T3Gi5N2UplP/dlP6yROmoRO2jehelVVtpZoTavrRfmKVv6aUrDrvfd8LpNOxa4cidqd4Fv3n3+nmo8L/qUk/fUd2ajirTm9Q/hyOWcKOyIfDg5GqCpjFXTj65jdfXn6tv+nd89DV3xC+PZ3ykmpnk26VecELi0nZbKyNXFSAgNxAphS6lspdhm2q15k2I/fncRelN9HXuWnEHrORxz7SKqdonkKOFUt+nz0eepEzTuSeTXQOka4G6pvwcekKaUvviQuK2y8LUTg5N0dDE+wDrAOx9Vx78y2JJwNDCex3XPqo4XQ4zWxRPikNAerRlBY6C3Qlk3Z3OJY+yAMIpOO2gjvnmWuF6j353kvi3hede4cCoeyky9u7M7yCfgetZhmPWzbT+ZAFOXXTrkHdt3/5hySnQRvr/i0Und+aePPewZpuFLlXjvqp2Bs1X35fI557vGZ/xHLfzjdrZTfeXYV+P0fZFT/Ug8LkNid2jtOM751jVJPxcLnZraFd9MOwbbe3jO2UrOl8VKzXMmR7f/nX7qQdL6+ctJLd7Lkz/vczs0QSdkRzCiNzWmlDxg7KAdwJ3CSsoppXEY0sfI9EnzfCnZIwZ49ytjMP14ej4JH2QQS5uMDpWeOqIf/9gkJXi4KEer96/5kJQU28hEd7s39h7BNsKIRFqw8Q6wYq+njMxT9v6AxRs9JnK0KMvQSIfv0A3C42y8s2oeVOidNJ4WtCgpeo38+RKM9yrrKz/4NaZ4p5SPyf9SwNzCDYZ6fPGsQLskmbILTt11vC4Pv9dVWE6RZTItEqMwpTguxdLacQ232jeKaZUi2GUdWw+X9X6B5I2MeYTulmli7g0SZ0nrTP80spPcvH/r09nVI4dgnCeiP03BwzVjb4yT7wCH6vnq7QzKSeLvVpcewx7qotu5B9V5HmeXiH4CYYDZ1aGPUQ/ILftsIIElbqfqgNXensvxvFP+EthFKH7ZkJ7wXWbrOrX76XJcyXYxsky3d8A+hvDOGvA3oLsnKfdhuft5tlt6/1dcNOUU3D3/7uMR9Tfef7z5QPRudekA5z2JPB9qHG98X4/x4uV7MTBJ8hDTERCuTYe0lWIgWkSksYfd6jMLlNb8kijqAXIr7bNmRSt5S+GwmYOEPY5aH2fuHQF4ZIy8b/fPt6QnSTnsqK/nE3B/t1ufdNVDNSrvkaZx62N8940TYF0ij4BuYMJp/UkdFr8A0l6bPy9sQWi1sK2KtoIiaIsmveEoPxc4mkWMbwwW/Tcowq/e3hOOr93SuSPkPhD7X/ZD733hTjuM104Wq086h2q8+wHVu++ex3Y44vYbxtR8MkPflKUfv0dMvGQ7WegqlUZNjX23beP3beUm2M7ezUbaqb79VN8tXGxPyjHeQ13fjfdemeN24zhnDkb+zvR99fa+erw78PuTf3c7M0s9HViOt78m8Xqnw3/jKA9+4nvvnTE/VJYMbRG0T3EYm8XUXoCqjTUlcopsDvq57FwEK1KlUjFWqX2reZ+lY4np3WmcrfnducjZf+XxU1+9/S5o8pXn59sjYfz73x5O5WvHGK/79Nn1rQ4ioH1RHXS+bw6tLVlD5JTYd7sqYM7JS9ctwWtFT3a1nRoCMZyDVcMqj79//7ROWu2OCf/2LfVo95kl/p4hfLz9Q3D6jdtJq35lEF5ddp46JwV9KxDBy9fFygs0xUHlWy0gWI9bylYar6BaaVVtT/+7APojE7uXrb9pfjoD/j22jktaB+793/q70pB/zDHuqBdD5XT3ZShPPT48yho88YtG5py4LDMd1WmefVegZE2XgNJOWf3j2P2YDzTweO/3hn9n29+h/Kfb2O/x3wOc3xrIv+03H+1uZ79n1e2ExRXZcc0HBzMF5nmiabPuURhbOcUYR6estuYhreQtug8s4oGB/03j5xHr36X8J716Au9RZf63dnuPaQ3ATs78udyol4sbdHLyzgGxhhIRa04Hv/JU33RM9ZSiOV2x4uD7f2fX6Ovs7V0icgbOvv/3A+/f8lv3lP/0m3f+0aneS+AcHhAOf/f8HKz5om/90Bs0jsuP2c+Pnb45gstHKup+Gf3eed6di3zlew9mqz9/F7T/ViXsi3HdMa6eGjn8ti9/wD/1HiUW20tSJBLHh+X4vP34qfbjRNP/K0TsvTn+2muPwvN3YY//1tvfdZHIEdUE6NdZO7u5985wf8e7WMf7d975yec8jXVM5rsDOX3s9+fzt+bgkSj+Lnv8R0nd11Tv7zGnx9s5FwdDII7nI07C+RP3Y+n/6vn9ewf5+PqJ4sv98cYYRO6k7/Gcvvb34/PHz9ypx3MI63Gy/tFS97UT+S/9/vjbH4UuCCdJO/e5+Qfe8bJctco7NrRnEw479iWp79/7uqS99/fvnf+dpD0C9u+tGuG3Jf2/6qb+z5AA+fLtu+fvHFvvH/XxhXfh7je5e+/vcW6/C9o/gjX+3oD+bsc6qyp9962Hv88J18cvy/0CkNPjFyC+n8aCfxBo5zf+/5C2v6ukfYGMfPlWd4H6/vjQXxjKtBMY+19P+vbrkvZbZ/Bb5/d4/l9Tlf3v0P949M3+PW//EMAe5vTurZP0GA6nhXsCamTyefiMfh2w99Tt753fe+D8lh38/wBCNLMXvxMp8gAAAABJRU5ErkJggg==\" y=\"-6.92\"/>\n   </g>\n   <g id=\"matplotlib.axis_3\">\n    <g id=\"text_2\">\n     <!-- True: ship -->\n     <defs>\n      <path d=\"M 46.390625 14.59375 \nQ 46.390625 10.890625 44.9375 7.984375 \nQ 43.5 5.078125 40.765625 3.09375 \nQ 38.03125 1.125 34.046875 0.0625 \nQ 30.078125 -0.984375 24.953125 -0.984375 \nQ 20.359375 -0.984375 16.671875 -0.265625 \nQ 12.984375 0.4375 10.203125 2 \nQ 7.421875 3.5625 5.53125 6.125 \nQ 3.65625 8.6875 2.78125 12.40625 \nL 10.546875 13.921875 \nQ 11.671875 9.671875 15.1875 7.6875 \nQ 18.703125 5.71875 24.953125 5.71875 \nQ 27.78125 5.71875 30.140625 6.109375 \nQ 32.515625 6.5 34.21875 7.453125 \nQ 35.9375 8.40625 36.890625 9.984375 \nQ 37.84375 11.578125 37.84375 13.921875 \nQ 37.84375 16.3125 36.71875 17.84375 \nQ 35.59375 19.390625 33.59375 20.40625 \nQ 31.59375 21.4375 28.734375 22.1875 \nQ 25.875 22.953125 22.46875 23.875 \nQ 19.28125 24.703125 16.15625 25.734375 \nQ 13.03125 26.765625 10.515625 28.4375 \nQ 8.015625 30.125 6.453125 32.609375 \nQ 4.890625 35.109375 4.890625 38.875 \nQ 4.890625 46.09375 10.03125 49.875 \nQ 15.1875 53.65625 25.046875 53.65625 \nQ 33.796875 53.65625 38.9375 50.578125 \nQ 44.09375 47.515625 45.453125 40.71875 \nL 37.546875 39.75 \nQ 37.109375 41.796875 35.9375 43.1875 \nQ 34.765625 44.578125 33.109375 45.4375 \nQ 31.453125 46.296875 29.375 46.65625 \nQ 27.296875 47.015625 25.046875 47.015625 \nQ 19.09375 47.015625 16.25 45.203125 \nQ 13.421875 43.40625 13.421875 39.75 \nQ 13.421875 37.59375 14.46875 36.203125 \nQ 15.53125 34.8125 17.40625 33.859375 \nQ 19.28125 32.90625 21.921875 32.203125 \nQ 24.5625 31.5 27.734375 30.71875 \nQ 29.828125 30.171875 32.03125 29.5625 \nQ 34.234375 28.953125 36.296875 28.09375 \nQ 38.375 27.25 40.203125 26.09375 \nQ 42.046875 24.953125 43.40625 23.34375 \nQ 44.78125 21.734375 45.578125 19.578125 \nQ 46.390625 17.4375 46.390625 14.59375 \nz\n\" id=\"LiberationSans-73\"/>\n      <path d=\"M 15.484375 43.796875 \nQ 16.9375 46.484375 18.640625 48.359375 \nQ 20.359375 50.25 22.40625 51.46875 \nQ 24.46875 52.6875 26.90625 53.25 \nQ 29.34375 53.8125 32.375 53.8125 \nQ 37.453125 53.8125 40.703125 52.4375 \nQ 43.953125 51.078125 45.828125 48.609375 \nQ 47.703125 46.140625 48.40625 42.71875 \nQ 49.125 39.3125 49.125 35.203125 \nL 49.125 0 \nL 40.28125 0 \nL 40.28125 33.5 \nQ 40.28125 36.859375 39.859375 39.390625 \nQ 39.453125 41.9375 38.28125 43.625 \nQ 37.109375 45.3125 34.953125 46.15625 \nQ 32.8125 47.015625 29.390625 47.015625 \nQ 26.265625 47.015625 23.75 45.890625 \nQ 21.234375 44.78125 19.453125 42.71875 \nQ 17.671875 40.671875 16.6875 37.734375 \nQ 15.71875 34.8125 15.71875 31.15625 \nL 15.71875 0 \nL 6.9375 0 \nL 6.9375 72.46875 \nL 15.71875 72.46875 \nL 15.71875 53.609375 \nQ 15.71875 52 15.671875 50.390625 \nQ 15.625 48.78125 15.546875 47.40625 \nQ 15.484375 46.046875 15.421875 45.09375 \nQ 15.375 44.140625 15.328125 43.796875 \nz\n\" id=\"LiberationSans-68\"/>\n      <path d=\"M 51.421875 26.65625 \nQ 51.421875 20.65625 50.4375 15.578125 \nQ 49.46875 10.5 47.1875 6.828125 \nQ 44.921875 3.171875 41.1875 1.09375 \nQ 37.453125 -0.984375 31.984375 -0.984375 \nQ 26.3125 -0.984375 22.0625 1.171875 \nQ 17.828125 3.328125 15.578125 8.203125 \nL 15.328125 8.203125 \nQ 15.375 8.109375 15.40625 7.328125 \nQ 15.4375 6.546875 15.453125 5.375 \nQ 15.484375 4.203125 15.5 2.75 \nQ 15.53125 1.3125 15.53125 -0.09375 \nL 15.53125 -20.75 \nL 6.734375 -20.75 \nL 6.734375 42.046875 \nQ 6.734375 43.953125 6.703125 45.703125 \nQ 6.6875 47.46875 6.640625 48.90625 \nQ 6.59375 50.34375 6.546875 51.359375 \nQ 6.5 52.390625 6.453125 52.828125 \nL 14.9375 52.828125 \nQ 14.984375 52.6875 15.0625 51.796875 \nQ 15.140625 50.921875 15.203125 49.671875 \nQ 15.28125 48.4375 15.359375 47.015625 \nQ 15.4375 45.609375 15.4375 44.34375 \nL 15.625 44.34375 \nQ 16.84375 46.875 18.40625 48.65625 \nQ 19.96875 50.4375 21.96875 51.578125 \nQ 23.96875 52.734375 26.4375 53.25 \nQ 28.90625 53.765625 31.984375 53.765625 \nQ 37.453125 53.765625 41.1875 51.8125 \nQ 44.921875 49.859375 47.1875 46.3125 \nQ 49.46875 42.78125 50.4375 37.765625 \nQ 51.421875 32.765625 51.421875 26.65625 \nz\nM 42.1875 26.46875 \nQ 42.1875 31.34375 41.59375 35.15625 \nQ 41.015625 38.96875 39.578125 41.59375 \nQ 38.140625 44.234375 35.734375 45.59375 \nQ 33.34375 46.96875 29.734375 46.96875 \nQ 26.8125 46.96875 24.21875 46.140625 \nQ 21.625 45.3125 19.703125 42.96875 \nQ 17.78125 40.625 16.65625 36.5 \nQ 15.53125 32.375 15.53125 25.78125 \nQ 15.53125 20.171875 16.453125 16.28125 \nQ 17.390625 12.40625 19.171875 10.015625 \nQ 20.953125 7.625 23.578125 6.5625 \nQ 26.21875 5.515625 29.640625 5.515625 \nQ 33.296875 5.515625 35.71875 6.921875 \nQ 38.140625 8.34375 39.578125 11.03125 \nQ 41.015625 13.71875 41.59375 17.59375 \nQ 42.1875 21.484375 42.1875 26.46875 \nz\n\" id=\"LiberationSans-70\"/>\n     </defs>\n     <g style=\"fill:#555555;\" transform=\"translate(199.7575 128.61625)scale(0.12 -0.12)\">\n      <use xlink:href=\"#LiberationSans-54\"/>\n      <use x=\"61.037109\" xlink:href=\"#LiberationSans-72\"/>\n      <use x=\"94.337891\" xlink:href=\"#LiberationSans-75\"/>\n      <use x=\"149.953125\" xlink:href=\"#LiberationSans-65\"/>\n      <use x=\"205.568359\" xlink:href=\"#LiberationSans-3a\"/>\n      <use x=\"233.351562\" xlink:href=\"#LiberationSans-20\"/>\n      <use x=\"261.134766\" xlink:href=\"#LiberationSans-73\"/>\n      <use x=\"311.134766\" xlink:href=\"#LiberationSans-68\"/>\n      <use x=\"366.75\" xlink:href=\"#LiberationSans-69\"/>\n      <use x=\"388.966797\" xlink:href=\"#LiberationSans-70\"/>\n     </g>\n     <!-- Predicted: ship -->\n     <g style=\"fill:#555555;\" transform=\"translate(186.744063 141.54175)scale(0.12 -0.12)\">\n      <use xlink:href=\"#LiberationSans-50\"/>\n      <use x=\"66.699219\" xlink:href=\"#LiberationSans-72\"/>\n      <use x=\"100\" xlink:href=\"#LiberationSans-65\"/>\n      <use x=\"155.615234\" xlink:href=\"#LiberationSans-64\"/>\n      <use x=\"211.230469\" xlink:href=\"#LiberationSans-69\"/>\n      <use x=\"233.447266\" xlink:href=\"#LiberationSans-63\"/>\n      <use x=\"283.447266\" xlink:href=\"#LiberationSans-74\"/>\n      <use x=\"311.230469\" xlink:href=\"#LiberationSans-65\"/>\n      <use x=\"366.845703\" xlink:href=\"#LiberationSans-64\"/>\n      <use x=\"422.460938\" xlink:href=\"#LiberationSans-3a\"/>\n      <use x=\"450.244141\" xlink:href=\"#LiberationSans-20\"/>\n      <use x=\"478.027344\" xlink:href=\"#LiberationSans-73\"/>\n      <use x=\"528.027344\" xlink:href=\"#LiberationSans-68\"/>\n      <use x=\"583.642578\" xlink:href=\"#LiberationSans-69\"/>\n      <use x=\"605.859375\" xlink:href=\"#LiberationSans-70\"/>\n     </g>\n    </g>\n   </g>\n   <g id=\"matplotlib.axis_4\"/>\n   <g id=\"patch_8\">\n    <path d=\"M 172.070312 115.92 \nL 172.070312 7.2 \n\" style=\"fill:none;stroke:#ffffff;stroke-linecap:square;stroke-linejoin:miter;\"/>\n   </g>\n   <g id=\"patch_9\">\n    <path d=\"M 280.790313 115.92 \nL 280.790313 7.2 \n\" style=\"fill:none;stroke:#ffffff;stroke-linecap:square;stroke-linejoin:miter;\"/>\n   </g>\n   <g id=\"patch_10\">\n    <path d=\"M 172.070312 115.92 \nL 280.790313 115.92 \n\" style=\"fill:none;stroke:#ffffff;stroke-linecap:square;stroke-linejoin:miter;\"/>\n   </g>\n   <g id=\"patch_11\">\n    <path d=\"M 172.070312 7.2 \nL 280.790313 7.2 \n\" style=\"fill:none;stroke:#ffffff;stroke-linecap:square;stroke-linejoin:miter;\"/>\n   </g>\n  </g>\n  <g id=\"axes_3\">\n   <g id=\"patch_12\">\n    <path d=\"M 333.270313 115.92 \nL 441.990313 115.92 \nL 441.990313 7.2 \nL 333.270313 7.2 \nz\n\" style=\"fill:#e5e5e5;\"/>\n   </g>\n   <g clip-path=\"url(#p60744b4e72)\">\n    <image height=\"109\" id=\"imagebdb99b4862\" transform=\"scale(1 -1)translate(0 -109)\" width=\"109\" x=\"333.270313\" xlink:href=\"data:image/png;base64,\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\" y=\"-6.92\"/>\n   </g>\n   <g id=\"matplotlib.axis_5\">\n    <g id=\"text_3\">\n     <!-- True: ship -->\n     <g style=\"fill:#555555;\" transform=\"translate(360.9575 128.61625)scale(0.12 -0.12)\">\n      <use xlink:href=\"#LiberationSans-54\"/>\n      <use x=\"61.037109\" xlink:href=\"#LiberationSans-72\"/>\n      <use x=\"94.337891\" xlink:href=\"#LiberationSans-75\"/>\n      <use x=\"149.953125\" xlink:href=\"#LiberationSans-65\"/>\n      <use x=\"205.568359\" xlink:href=\"#LiberationSans-3a\"/>\n      <use x=\"233.351562\" xlink:href=\"#LiberationSans-20\"/>\n      <use x=\"261.134766\" xlink:href=\"#LiberationSans-73\"/>\n      <use x=\"311.134766\" xlink:href=\"#LiberationSans-68\"/>\n      <use x=\"366.75\" xlink:href=\"#LiberationSans-69\"/>\n      <use x=\"388.966797\" xlink:href=\"#LiberationSans-70\"/>\n     </g>\n     <!-- Predicted: ship -->\n     <g style=\"fill:#555555;\" transform=\"translate(347.944063 141.54175)scale(0.12 -0.12)\">\n      <use xlink:href=\"#LiberationSans-50\"/>\n      <use x=\"66.699219\" xlink:href=\"#LiberationSans-72\"/>\n      <use x=\"100\" xlink:href=\"#LiberationSans-65\"/>\n      <use x=\"155.615234\" xlink:href=\"#LiberationSans-64\"/>\n      <use x=\"211.230469\" xlink:href=\"#LiberationSans-69\"/>\n      <use x=\"233.447266\" xlink:href=\"#LiberationSans-63\"/>\n      <use x=\"283.447266\" xlink:href=\"#LiberationSans-74\"/>\n      <use x=\"311.230469\" xlink:href=\"#LiberationSans-65\"/>\n      <use x=\"366.845703\" xlink:href=\"#LiberationSans-64\"/>\n      <use x=\"422.460938\" xlink:href=\"#LiberationSans-3a\"/>\n      <use x=\"450.244141\" xlink:href=\"#LiberationSans-20\"/>\n      <use x=\"478.027344\" xlink:href=\"#LiberationSans-73\"/>\n      <use x=\"528.027344\" xlink:href=\"#LiberationSans-68\"/>\n      <use x=\"583.642578\" xlink:href=\"#LiberationSans-69\"/>\n      <use x=\"605.859375\" xlink:href=\"#LiberationSans-70\"/>\n     </g>\n    </g>\n   </g>\n   <g id=\"matplotlib.axis_6\"/>\n   <g id=\"patch_13\">\n    <path d=\"M 333.270313 115.92 \nL 333.270313 7.2 \n\" style=\"fill:none;stroke:#ffffff;stroke-linecap:square;stroke-linejoin:miter;\"/>\n   </g>\n   <g id=\"patch_14\">\n    <path d=\"M 441.990313 115.92 \nL 441.990313 7.2 \n\" style=\"fill:none;stroke:#ffffff;stroke-linecap:square;stroke-linejoin:miter;\"/>\n   </g>\n   <g id=\"patch_15\">\n    <path d=\"M 333.270313 115.92 \nL 441.990313 115.92 \n\" style=\"fill:none;stroke:#ffffff;stroke-linecap:square;stroke-linejoin:miter;\"/>\n   </g>\n   <g id=\"patch_16\">\n    <path d=\"M 333.270313 7.2 \nL 441.990313 7.2 \n\" style=\"fill:none;stroke:#ffffff;stroke-linecap:square;stroke-linejoin:miter;\"/>\n   </g>\n  </g>\n  <g id=\"axes_4\">\n   <g id=\"patch_17\">\n    <path d=\"M 10.870312 279 \nL 119.590313 279 \nL 119.590313 170.28 \nL 10.870312 170.28 \nz\n\" style=\"fill:#e5e5e5;\"/>\n   </g>\n   <g clip-path=\"url(#pad0e3f89d8)\">\n    <image height=\"109\" id=\"image0d5383a65c\" transform=\"scale(1 -1)translate(0 -109)\" width=\"109\" x=\"10.870312\" xlink:href=\"data:image/png;base64,\niVBORw0KGgoAAAANSUhEUgAAAG0AAABtCAYAAACr+O9WAAAABHNCSVQICAgIfAhkiAAAIABJREFUeJyNvWl25DqzrvcEADI7qc691x6RZ+AZeP4+3967qiRlQwLhHxEBgKrtZasWK6VsmCTeaN5oAMj/9X/+H1pr4/GsfN53vh4br72hoqQMkgSkoTRAEQCEREJICOKP9ru/AQDVhqoCcYD46yI6vU/tACQlUimkXJCcEEnjhMLhXKD+a3zeHu0yBBE77KNiJxDp99CvNa7J36VAq41ad/Zaaa2iqnbtfj4VQZNAychakPNCuZ5Z32+c32+cblfKsiAitNrY7k8evz/5+vmb+88P9vud9txg35GmJFVSEpKM6xaEJJAFsigJu7fSB0C+HzI9bycwAKYBmA7t4xAjoeMcqn2QFLt57e9UHzQfyvmiJfVB/3/9ken0Oi5pvvFxTfaiTN83C1kHOM4zfa6/TY+fsdtTaEqrjbZX2l6p245IIqWENhsLSYlcCmVZYK+05mpQK6I6nVFA5Y/vCTkrKqCi6AyW+I2l0DTXAp1vPmFgJVAHVeIk4/4AtGuL+vv08LqdR22QUyalTM6FlPM30EybZu0Cv3ZVP2+cx6QWEUSFWdxmAfl+Jf2bRGmibkHi/qfbc4XXpmht6F7htbE9X0gpqCSqQimFJImUMsvpDBUSmb2sbMuD+njSXhtt39HaaNoQ1+r0TbB8lCkqiia/oqQGVDb1l2wHovjIxB0BySDQGSw5AGFaNAY5wI//40IMsGQDnDOpLJSykCfQQss7UG56x6AP8ysipHTU1G6lJ8A6QJOUK2HWIYmSJPXr7Xd3AE9ptdJeSkWpArsqW22se+V0vrCuKzkXTueFdTlzPm9slwfPzy+eH59sX3f255OqG21XRJUkpjAhkGY1TOgNNAdOE6ZAahJKSmZQAaENOxRqqckA0+HtxrDMtmoMbGgZ6mD5J1QgSYKcSX7kXGxw1YEO36fqQ6hHAfDLlpTIKTlwgqqZ9tY6ZP2y1FWoC4UfpmXfzeu4LXGN16Z+7kZrDa2NtDf2rVH3Bk1IZPJ5oawnSspwge38pCwnJBWQjJLMXDbQWg+euyuA36OZRzjcviJjBEiuLSFxdMCGTzv+6Lev6982XYi6Bo4zGnAKNFWaKrWZxIVEx4MBZ+87aq2ZlFBunbS/fy6+L94Tz01aq6o2eDrOcbyhmQiZPwM3k7VRa0OrIg2yJgqZLJmSFygruWRIiQZUVbNqyazCnh60bYdmwDUaTVw8fXyK302Mlv3aTJw0jeuKmx5jdBjxA2TjmJy+uqmcBmaIig9ida1SpdZGTu7MZ7/WWWKbHg2aIB8pCakZCTBNU1qz4yA5AWbcy8Q2WlNqMx/TOL6GTNeuStI27kEbqhVpL7QJe4XHruhmBGW/VsrpZNd2WjnJG2kpLOvCshZenwvb48H+fNL2zVgrrVuvZqCNMQ7ANG6u0dE16dPhG4JJziTSZaMDAejRuPQRUze3MWAxjq019loR2c2BSxrATQM3A0en+XQCYoAllxe79hbXP3/nrH1+QyJHje7aLLNAhrtQwquAjV/TBm2HCnWrPF87+/PF67WxvjaW25XlfGJZFsr1RFkL66mwrJnlVHh8ZB6f8HoobW9UzL9WN8tFhn10hMbf2r5p27jODsfwS4BEXNZ8YIPvuMZpAKnDSndiYU80BdXaJSGYV0ppuEcZUm6yF8Ig7ooHCZk1rfvDACMIyKRlc8hhr80+eVx/N8CqPUqNsdNO/zfaVqmvne218dp2nvvGum+c6w3ebuTziXJayFnIGXIRyNCSUkVpL4UmGM2xaygmxYpMB6J+06kT3uAn+F8jWAUJ9hnkYBLdEUUM5w/ivqShJDcBk3dSUCc7LYkJdQjHRGpgaIkNuF1Da3Ev9lxoS4tPdf921DwR6RZcOpJqoY7o9LyLrBOiuIhQRPUvUUBbdd8LTVycm0mnaEPqjq4LOQlpXVjlgmaBkknrQn3c0dcD2V9I3UGrgdZvMMWhbpIMnCRjcIyCBmCuQaKGjDbUNcvl3t8j3yR4OPsWgy9D4JvAIADBVGe619Hr5+sMS8drZhq7etpViYuHtsPHui6FYOrE6p219FvvOKdwinaq2dXEpxUzH3ujPTd7e63ovqPbi/Z4sl9PnM5mJtNp5VQKeT2xXK7s9y/q1wft/kl7PdG6U5IILRlNlqQTaNJ9iQy7Ng2Y9MjAAFRUk5ueNAY3wEqpp2hMAhuaQNqRuCvml1QjKpl82UGtZm8ZmjBimU7VQ8P9e5sqSYz+Exqu8u3kMfBH86l6DM7DpbTw7+Fi+jWFsJiT1K2iVanbDq8NfTyo9zv780J7v3F+v7Kez+TTaqCdL+ynE1vJbAlqElrdKSPcbf5/G1o1/SbDmdkrMsUvM7MKptifimxCQyVNBHoyTd8HbNw2QVTk8B3av2pgGERhXIfqBJwPn1tbkkymPOK070AdrmV44w5cf6uDovN7AZXuUmgxFhV2Yd932vaibZuzRB9/VZbThVxWZFkpqlA3aJtdu4G2e1zUqFqp2qiKp6zMmSfc/k5+REPNJvMTTn7QcpdAN3epg41fZOux1iAHccjBzARLDSIyiEycf/gb4vpcRGQ252q5nDDL0Po1H8KfWXIYoNvv6QDcUZ7DbgxzHconc2jVGq1WS0h7UnrbNtbHk9NtY73cWJaTfdOyks8XUk5oq5RgJXYbzf+FTxsXbEFIm4fFBzQdTYJL3gSvpYQaNGl2EUL/Pg9uOiPsoeBB0gctmP1VBxPtZrpr5Jw91nmg7f3JtathGfbWDDyZQoABVDfUdN84mebwdcdr1vG/g9qtjILWAM7B2zaejyf588HpfeP8XjnfbiylkBHSupKK0cKSciaj5CykLOSSuvkoKVOyeGq4dROpHZgheaZp0OOnyA2qcbbkyefkiRTRSC+NIFnUSUhjsrIDpEFmpkHtoE0a2T8QQB5pfBcMH23jsCFoB6vr53SNdc2a/+6XGH6xEyMOZOa7EChYGOIa17YNfb6Qx4u6NVqFVuF0WVmXxJKglEwSKOfTlb2BZqhJoShbtXrZkhMlJbJBMulPpIYGcCMYtSzCAK52MUspzFxoYDsA3LQZqWthdmaD9+3GZ4X7l9+nN9vwTj7RfMeoD4bJPfjL+ScIiAzgeqzIKFkdP6g9SB/XwbClai4n+XVoVWOUtbJr4omVdNp2Qk8FXQUtlu0pl8sPqgp5B1mEvAm7JzmX5KBJgDYuTbtm0QFrqh6X2KHNQLMCoplAq9KYLwl/EkVGM1EBWvrDxaj+y4BK9x7/+jwOiPhAqVpitxd2RZEUVoEOQDdr/3a+f/muw+P0R7/d+XTBmVQscFbIqrRqREXvTyqJZ23oa4XLAueMromchXI+v9NUSFWQJVP2RNVMwgAr7tvSdE1D52xQDSzP06k5VQOtdk3qVyoKEqmVGKzafYplXcxPmvmMLMnIZhxjtSntNA1Nr+EKDAFpdm2tmi9pjZSCMOnhHEflmf3cpJHT9/3hCWcT7m/T6d2oIs1djlcHzMfCXqE+dxoPNq3ktlFaIe0JzYlSlpWm9ofmAqXQHLQsiSK9kaBn3L3wjWIxytAS06w2mcbRctAmkzIKK9AccDeXzSQwMg2ztumUippB60MZb+z+z0VM1K+legmlUmtYghnquD/t390BDJY7Xb9dwr8Y8B5ixJ/jGuN80hq0Zo+1mYA3pSlsIuwpU8mklig1kXdISUmtUUQyguX3MgtLWqiaEc3GWgTPrU3sTaQDJz6IB4mdksEjqdv6DYeP6y65+8L4fQixHh5nEzZpGTIBai8lr16HD+0C5YC1ZsLSiccfFfJQiPjONgnMuP75sQuSjLHqrNZf6vfRGtSK1gq1OnDNkicIWxJqFtICS1YWURZVRKG0kOKo6WgiaUY09CskPy4pKEkazCmkr9/AbEy0AziA+zZQE8AmibMJ6up9BDDYXBRJlV56Ec/yp2TAhSA1N4/VGZs1AXn01e3pEBi7tLAk2q1Kv1fX5u8B/CBGAaB07e/nrJVW904+qMOvVmD3TBWpUfJGzjtZKkKjGGlQGslrR99MkI/USKS6ZEfrQEjjBIbIuPDpFEQFud/SCKp8YKUDq9rGCTpRnlmHjKxMsgA6uzinlLzynfq1BGNsrZGjyhyg+Xm+XU4XOiNHrVcKQoMkxefiXuZ7gjnMEBnAot6iUHfvDanhuAGlIVQRmijITuJJkheJzUDb9o2myfoaVNmdeguZLEJG3FmGpvjgiz+GCdQJ1eN9QxeENgBWmEcp/E9kR1qcs59kaP2Q4ii/JK+9RVMQlHgtWaXLxsQFUy2NMCTKTb4yhVnz4AMpAvJ4bnz3986xEILuWydNjJ+UGpoqLZlvtV4D7bfYkjdAyY7ok6QPRB20vW6og7Y32FRoClkaSDZJDPuv5izDcFk6TTvxGKatj0YIFodY7Btwo3QzV5nDx01kESEqDEPCzR+XXCjeEGTXrCBeUkKMPzZQzfSkdr9SL8lEaSb80OysDj5M3Kxa+SpaBTqAoYnxvoMK24BosjFIqR20DFHrp0yCJkUw0KSdkbYBjZJyQlXImqji/oxMToUimSJilDTYjTvvpha3NbXUT7f3hwZVf+jl+SAobTAxdR/UW/KsXBN9IuGn7JSTlkVe1MtCzclBSmEek7fgWWogqkcIo0Gsa9I3rWLSmG/mbhCgaKQdbQ0HbZvOcfAVDCHs8fzMSAVrpiriMW1F2hOpT2gbaKP8+PEDJdNY2OVMkwvISpZClkTumlbRtndNOWqZTjT/m7lkOHOdwO1sMQand05BdVLRWrC4SVI1BiQkOpFd05ayeutd8U4ua8FrKtSwQJPaGOjpD3D6dU+UJzRsmMPsGpb6OQKcuTreGahj0zHy83a6J9DrmkWgJCQD7LCv6L5atl8b5X/73/53kAL5DPkG+YbkM1nyoPrW12UdQlFCgBGj9Rhr8ltxoYQfGHT9u5nsg+agmSk78MwOmGnNLM028Dn8Wcp9YC1rY4DVpgfQrJfENDKnTEp2rmNLwtEa9LpgSr0HpfeiIB2gWi14rxN5OfSnAKJu2rHkhYin+ZKBJou1L6ru6LagW0HrBs1Bk1RI5UZef5DWd3K5kCR7AiPKMs3A8yqAsbF/1yJmSeugzbHWpHFEG8Fw1m3S5K6vQQ66y3QJ9ZrZ/M+/hqamXbWpaVqP46SHBTnnDsKsJa0LoR0yfaaD5mFFVBCii6zW6oe107UOHoN9dmGz4nASC54lGWBSkvWKaKVtifZKtL0YaLfbGykt5PVGOf8Xy/m/yOVqimvBD8mjMomGnSijzMC1KSbrFzcFyl0z3ILPYQWDiBhg5jtra9TmWYzajr5gAlB0GMwYkHBg3o5hmja7WZmuaDaNqv36mITGTOkw46PnReaP0prQqlBb8lRZ+Ga61uJmMf2had45UBKUhGYs5fZSaoa6CdoapZRCSoW8LKzrwrKuVjUldVFNKEns0RK/Qc6nOOYPc0gHcI5lDrNgOoEcPqWpUrWy7TvbvvF8vXg9nx28bqrCz4XmMExXTtl66HOxCRCT2TVCqmhTaqvs+07dd2qN/Gi0lMsAStJhbkD3yZEvdYsiCDlBTrCQgOyvTULRico878g/L15fzIKWhCYrz+ypUKVSU0ObUELSRoTv0qQWJ0ScHNF/NI7GxA0m4OjXp0GIiDcfBmD2U0LvbQSTrK3uoI19U+rrxf3+xeN+p9ZqvNHbFrrUipBTIufCsixWMEyJ05pYlgXJeQw25l/2uvN6VVrdeO4PttfLKLgkcslkb0vPKZOyuvkUcKGqdWffN0+JjZsPgQkyFO1/nVn2LErqFoJg3V4Y1ix2CNSaSGqVl4wYaGZhdRrnKY00O+OhHFPo4p1NcswmdFB0HJFURusQujBlKZOTpcWsivvk+bjz9fnJr18/+fnrJ5+fn+z77ozYB8AlJUuilMK6rpzPZ9r1Sk7KumSSJEpOVmB3X7qzw75R9zvPx28+P37zeDxQVWOh68KyrCzLwrIUcsud2UZbwOv14vV6OXAWqKeUWJeV0/nC+XQmpxM5LZS8kKwTfMSAk3yPMXJlSJhpDCtfBXahNssClQgCLSictG2aDWMPyuQqnIVHkElvFRnUOeIrMyP7trG9Xuzb1vN+ghf1ykLxGTLbvvP1ePD744Ofv3/y119/89c/f/H792/2fSMh9l7o5jLnxLquXC5n3m43fvz4gdb/YeSJK60tSErW/1Jt0O+PB79//+bvv//m5z//8HX/QhAD/nLmdDqxrtYFnJJ1mdV9Z9s2ns8nj+eD1/PJtm3s1QSxlIXL5cL72w/e39+5Xq7o+QzriayZllJ3GUNk0xTQq9fALP4LbmYWjqmXf9KcaayH2sRT3Ylrf65bv5Cb2bmbN0ebsu87j/udz48Pvr4+2Z5PWjNTl5OwLCvrsiCSeG0bH5+f/P3rF3//8zf//Z//8J+//uLX71/UfXPNcdCqhSA5J87nM29vb/zXjx887v+Tuj1pdWPf31jXFZJQW7NreT74/Pzi58+f/Oc//81ff/3F59cnOSXO5wu325Xz+cLpdKIsNnOn7pXn68nz8eDxeHC/P3h20HZwwN/f3/mf//N/sW//i/39ndt+o57PnqmhJyjMQGZLvclgopITQkZSht5XGWbQxrnwbz/67Rc1/zVKL/FcADaBfJjHZvFW3XcejwcfH7/5+c/f3L++qNsL1UoSYV0W8z0p8Xy++PX7g7/++clff//Nf//1H/76+28+Pn5TazWQcwEsHlJt5JS4Xs78+PGD5/2Duj2gbWjbeD2/WE4rkhJ73dm2nfvjzsfHJ//8/If//u//5q+//sPX5xc5Jy6XK29vN87nC+tppRSbo7JtG8/Hg/v9zuNx5/F48Hy+2NyvgXA6nbj/j/9B2zdrGWy7C45P5YUeuwkWW+a0kJP7wJJt6rLEXATt9cXZjJa55/1whKLJaOGZQY3zDP48DiVoOSNboKZxr+eT+9cnz8cXdX+hrZGSkHMGhfvjyc/fH/z98xf//PzFz18/+f3xm/v9gWqj5Mxe/tS0RGPJibXYUbKgrXK/f7KsK4iwN2Olz+eTr68vfv/6ze9f//D18cHX/YuUhH3f2LYn62qAJfe1+xZM1sB6vVzL9t3bF4RtO5ETrGthXUvvU9y2F+ty6slrgJwKmlckW6LbR8szLNmfsxhOpdIkfhfKcWZKBJrijM80LJoLOnAyWdRueGdWiLNC+6Qlckuf2dm0sm0vHvcvXq8Hdd9Rny3zdX/w+/cnvz4++fj84v58sG2WKM1JrAUiWVeSJumaVnKyfsZ943n/4ncS6vbi4/eJVAoqYr2drbHtO6/Xi/v9zuv1pHnzUa2Nx+PBtm/O9lxGdUwarHW3wHnfaW3vGSBBaG1n3188H3c+Pz9JKdv3bTvr6cRSFrIzSykZydInT5aykD0Fl/JKSgWS0KioVHJK4AJklWvJh0jfQLOLlWQJ4c52HLGIrwK0yL19r5elnNBSWdaV02l1k2P2fds3Pr8+edzvPB8P14AHH19ffN2fPDfrfU/JTGjJmXUpLD6PuZdjk7CUwroUkmvF1+cHr+fD6H4yCY25PKpQq/m3Ws1El1LY95297jy3l2Uyau3V9D67NJsw55IoLN2JJEmUZWFZrcpgIcWLnB+A0Bq0E6ySzDJki43LsrIsJ5ZlJefFzGNZ+nWLCqQdTdkekTCPI44YcdpI/g7DF7/pbA0Hq5x8WcR9SSCX7KzswvV24/H44v61uknZ+fr64uPjg6+vL77ud+6Pp8VQaJfCdcksy8JaFmvgTN5w5BpdcrK+wCRorbxa5fV6WhiBTcdtYRlc/A4lIMzf73vltW1s+07dLQZLSSjLQlozpawsS6a4CZ6FPeeF0+nM+XzlcrlxOp9ZlpVSVnIJgM4spzPr6WLHemZZTpRsWibZkgKk4nMlRuOwurvy+WlTbcgH2pSlgdQeAszlhkFmtPu9kR7qRNIBFZZ14Xq7sm8/2LYn9/ud5eM3pMxWlcdr4+vx4P54su07iMdfWcg5kZPYdCBveM3Z/xbx1zzxO2yamTNVqlfkq0Y7+OjwajUyI2bGXtvGvlf2GmYvkfLCup64XC9crxcu5xOn88JpLSxLoZRCyVbLW9czpwBlPXVQLHw4sawnZ8sn1mU1k5ktKyXJS0mS3d1Ewgt3TzYpu/SG50PmPMBokJoDlns8p/F6B8bkWbrdDMfmTDNBWReu3IyQ1J37/c6v378o6wlyoSrs1bTB7HwciZLLBJwFqSnRwUpuunKaVzOIpvVmk1/VrlFVO4MzH6U9sbu7ZilC9kEsZeV0OnO7XXl/f+P9/cbtduF6PXE5nzifV9Z1tWC8rCwTUMW1LDQt54WUbKmN7BWJNFk5jfapyRqEBWDqcCvB/Y0JTmqiBloU5nov8axKh1kqnq+XGfyR5M0lk9OFJDZj5OPjg8v1jdP5QllWUl6QVMi5knLitBZfg2OkwHJOrmnTkd3XeH6wC5aTA9EEWhkzXueZo5EzNXhFrFUBEpKLA3bhcjHAfvx458ePd97ertxuZ27XM+fzyQNxB245HYBKebHVh8RKRton+oYgMQJuhWjliPfM5SzVilIpM10/0PiR/kUO6M/Ucfr+w+fM743SjFJyJpXEoiun89lSPZcLp/OF0+nMsq6UdTGbXRLn88pSymQa6BpVsnXa9hY5QGm0JofrcN3yVJuZ24SZ3CHRaToE1YSkTM4r63ridL5yvdx4e3/j/f3dNO164XI9OWAL67JSlmDIwQAtQB4mb8y5O1ZEWtemY8Jw3EOvqTh45U8EAi6ZHruTGyed0lXHzKQzz5CgaDHwxFvypYbWdeV0OnE5X7hc7Hg9H+wlsXTQLH5Rb3rphUtnuD3rjpdd/ijAenI2zOi0PkmYq7KslGxaMZh0oZST+6cLl+uN2/XG9XblertyPq2en8wUTy6nbL0qUREYQhDzHkaNsXm2iA5cVEqGKYzPj8aMABBLGKsHbf0LiPM5Z1RBxVfokek9MKnywZmNetlUxoi4TQRyNjZ4Op04n89czmdelzP7nkzTTgtL8SYcj5FM2ad6VuihDmk8tDB4ZbqUTFmsAmDk4MR6OnNaL76izoVlteRuSsVBW1lXIxTn05nz5cr5fGb11FaUbyaP4PLqs0wJp9EnKHfyM1uyLvqBIYJNkR11vZ4McYtWZqcXAjBqQK7O8s2cHPzZn4BNyE0SNkAMxENrcs620FcpQGMpiaUUSkkGeB0hRe997N/sZtLEy+iSn7NkWzxsXZeu2XZcPLd45Xy+cjoZaCktri3R2eVMbz2xegK5eLqNAGSqhBxbLfQ4YTKsQbgN+Rb7TvdzGMJwxZ0gQolJDt3eErOWTQN73x4CsX6VibIPYZhAB1KnL5UuUMSQz60GfWmi6Pmbwj8Ojy6rfRBG6GF5ujBpxcspxuhOPtjn08n86OnE6WSU/LSeWU9n1vVMWU7kvLjv8Q4ryaRcevyUy+p1uegas+volXt8DF0mW2j/bL260E1CPrzMH4BxsCx061ICxTF1yX2YeBggk6OW+JuDpvUlG/5tPtmUKQm6HeWRbXvZ4ZmJ5lWB0dElDP80lFSZzd/i2nTifDYNMh957b7y7GTndDq7eVxH51Yx1iqSGLN0Yq6n0XFLgSl7bTT2zk4PWgbHhPrkg7qmTKyw27YDTsOiibusOesUr5UxQZAJODpj/GNpiIllTh0UQ1wOeB11pnlpZHtZwvX5tGN7vaj71AjbnXKYUgcouRDIIBPLYnHU5XLler1xvb1xu9643W5cr7cOWsROyzJWuAviEPfdGhaIe+dWNAKZxlRSU++iGum6g1B1EEaN8btGSSdzwcoJf9THe65w6/TZgKAcyjVxTFauL/wlA9S4wMNKDt9PAH2gY8mHPrf4aRmRr/uXJ21fXt6I2zUt70RIrBsqJStdGEk4GUm4XLhcblyvV67XN663G1fXMiuvnFk9djI6nj1xHdNSCRJnfqbF9ykpBIe4JO1kY9ao/n+AJBH7Tc8d/P430yj++uxK+rmm5/yxHL50ZiqOVOc4s69SW8Bypq39S6fkcgTAqpYBr3Xn9Xxwv3/y+fnJ58cnX19fPJ9P7/8QW6RTPK1G7rnQlDLLurJGbi+06vbG9fZmWna5cr4EUBY75bx4dqO4ufPlwfqlOw2fCUMI5B/cSvtCMMg3wOKn+x570xR8fHvfBNxssFxhZts1HxCUf5Kc74XOwKL1J9wJf5sgGGDG6gCRAwzW16olcL/un3x+fPD58ZvPzw/TtG2z9nLPbFgW3MoYFtdllmU1f3W9cXt74+3tB2/vP3h//8H19sbleuUcQXpZvCXcffH3WaXTtKWZ3RF3flCIfzH9Adg33mVWgQPR6N5Lx+f/7GZWM42qHcyDH++W0P6VeGb030+A4aYt7sOvUMVBlO5iXZPdFk8DUFuj7huPxxefH7/49fMffv76m4+PX9zvXwfTmLJl78tiwfc4jP1dr1dub+8O2jtvb+/c3t65XK6eVYnk65SBCJAaHKj4gUSMIekj9t26ff/RuOfvnnwCj9ldSbdk8WTwtw5qKHFAMXe7uUWzjEhPpThjc8kjpvWo9cKLzv7M7HtvsXPAOjVVBWJ+88breefj4xc///kPf//13/zz93/4/fsnj8edWnesbmfkYikLp/XkvuriBOPK9Wbk4hYm8XrlfLlyOp+9yjwvnxs+MUIMwui5VA8BjSAnxiig69ZP1NnxACQeQrhliO4f7xvuaoZ2DOSsUePVqc8mBGqaUVu6yzxoWmgfaDNKH0d/hyik8F8Ru6mPidoqB/XJ9rpz/7LekL/++r/5z1//zd///M3n52+27QmopZekeHx15nK5cL2+8eYa9f7+ztv7uzHC242LN910zXKwFHyivXum7rOOga8NZgzzLM3TQIWGHIYxVGOOZQcGMYx/WL8Bzb8gNNS6A/8d3ymzpChFZufliI7Jg8M8BoiApbzQ+kJqAAAdjUlEQVT6vbm06jCHWit1e/J6fvK4/+bj90/++fs//PWf//D3X3/x6+dva+7ZbeXUpSTL9Z0unC9Xbtc3bm/vvL+98+PHf/H+4wdv70blLxdruFnKBJZfbKyy0HN5YTWmRzpYDK1QE7w2gRWlHegEnonH/wHJxNoP/usAzhQm9E/6QM4iFH2oQ92mQxul+6JvFzFkLz4d3cF4Q6WvbRzLL6n1TeyvF6/Hg8f9k6+Pn3z8/offv6y38Oc///Dx+4P7/cHrtdOa1a1KObGer1wvb1xv7x2wt/fwW2EOzyzryVu+c08ndY6mYMH/5GtngDT87hgw9RfmgZ7dgOUMdAJL+//dwB4+q4c47ojb0afxb+D24Oz4mgSYQDlG3HSHN27qmx+WYEjSbax6Q8v2uHP/+uTr9we/f/3k1z9/8fPnX/z6+TefHx/cv754PjdbRZto4z5zvty4XN95e/vBrbPCd4u5riNRm3PxZQWtVUC0DZp8uM0RmIpLmXRfNg2ihy2zsekssvuqGLIOYx+nPn35m8eKjRGC+n/HJoAbbmlosvXjTFoe0MggfGXM0B8nO5gUzxGKtj5IKhVtG003VDdafbK/Htw/P/j49Ytf//zDz3/+5p+//uLnP3/x+/cvno8H+15BpWfRT+uV8+XG9fbDKfx/8fb+ozNEM4Una832fnybMlRJLtFjcIY8RkqtD3WngHr0N9N92uo9/c1jcDtM0p84eP9hUbuR6983a+ABtW8mWjlea4DkTFwYK+8DUU+b+KkygeZrW+xquzPsL19Be6PyorYnrT2p+5Pt+cXXx28+fv7k1z8/+fXzJ79//uTj44Pn40WtSk5LJxun05XL9Y3b9QfXt3dubz+43d5HzOXNotmbeKRP+vPBaq0ns79ly74Z+3lUIqd4fMkilSgbxXumFxnvOcDoVnO4k/HN3z3fd2vVs0YzHZLROjX6cabDT1S+n72XT1wCa63sm7I9G6+n9Stu9clW72z7g1of1O3O9rzz9fmbz1+/+Pj1m6/PL573O3WvpGRm8LSeuVxunnZ643r7wbUD9WYUvgfI3ifpC04rtoa9kR7xGGlM9hO3h/bwjdIdcTuY0TEzOGGrCqVhSnW4jWM+0AdaZ8D6APL/66ebRyZG6sD1RWvsb7+yDtWxLbzjZV8czS/btvN4bNy/XjyeD56vL57bJ6/ti327s293ttedx+cn989P7p939teL1pSynFnLwulkNP729u4aZUcH63yx3j/PgsyV8QZ9w4Iujb4c7h9J8DCDjAGNgZnls6cAwh8Got1VSB+liEGJeWtjuCacvjPD/5+gjRPYr+Gu0uTnXMuj6Fri6w8UedK0sZaUzcd6vV6Wnd+ePF8PXq87++vO9nzwerx4bRVVIZcT51xGBv5y43Y1rbre3rncbpwvNwPrdKYs60jkon19+x5rMfMIl0x3X8OkTK/9yzg1tC89MRzU5Je65hxNo4aWdRQnd/Ltz3+bcP9vPwN8ZWxg5D/RVSZAE7IITby6IuJprA5cxGlHItK/RLxVLWdyG5Pmorcil5XzKcMKS164nC/cbm+83SzVdD5fvZHHgTpZJTiVSD35QmkhQAcfMSQ/nuHbc38ANZkvdOZ4g7GFlgwLo8cTdN0diYQxPt+/9Uhdwh4PHzr5qX4HQsTK/dO+PJS6difv+bS28Jg1E9IcN3ZgVQZY9HQ0tV7IVJSUvYQBJMmsyxlRYckL5/OFt9s7P95/8Pb2zvkUFeJCKtZJS7bp/CpChSEwxyzpfNs+DpNX9r97huIQ/E6ghBAyA0m/3z8BGOMcvieS3xzOMoCW+N+Z33G11ena420B3ORzY7yD1eOK0heEIRloQ+6GT+vZb7W25JyFdTUJyItQaqKsqTeTbssLFEoqnNYzt8uN9/cf/Pjxg7fbG8uy2pwrjTZtn8DOv6wkoHTCMQZCDjiNXybDeOTV/tyIw3T++/DaMbj+Nrbjm+aYKiCLgC78z8T9JrfsrFT7YIdP7YYxFPhAfMJXSy9RoWI9InZem7YdO6eo1t6YQhLrWZRMKtl2KqqZshfvUT+xvzYDLS89f3i+vbFe3sjnq/WnI4cMe4vGGEab9jRsB20a9GI8I980ricTIJjFsb7YtfYYDB/EfYJcxmnGd05XE9c4TLn2OMsuTcf3BfEQiL4Rd1mjWdsZkcjY1yAmjfTdO8DaDUa9KYDzVW48n4cYaCkXMgtFF6quLPVEWU8s64V920GtvLJ4ZTmdzrRc2JS+PNOoZbW+tPzRLM+DJp4h8CDTpTH+jh1JO+P7V+I2A+3n/uZ6jgYvXtIDhLMPGh8eumJVj2HzArBYznTW9PioOGDmJx0wbBuZ5sn4qFLYYjv2WHrZhWjuSdhqbbVvRZWI2SHeUyGFxkJpPhNk3dn3ijZvi/OGUHJmV9B976M1VpdzvzmN4uBQQ6K7s56flWhU1f77v+IVQHT/GGbfBzkeu4Z+M3txTUofn26mwyRPmv6H9k7mNwCYfeswpw6Yq3WSRmrNU3bqk0hGHbBERhwvwTS/g9rGanD4fjQp7GvynTJFyL4fZc5taIGMXQKbNtru6wf3nWxbL+7G7c6aMN99ByyyH5iDtlVuxlYos/84nCLMbqf2OsxN9HyMVZK6fxNCW0Jj7FqSd6hFwdcYXkLz0XSGX0bp7HAccWFhG+3Lmw4Nb4rtF6CjwShcSLFuWNM7aUryvV9i07daG0kqqK3qGZmH3q7sTjZNDaM9lxkEw2dQ7vtG9S06TKKOxoaQRo/PwoHPkzAi0B3PzdOzpsBX41xxuG8IaQ8tGW38/ftD85MLatDyITa2sIvtz1NIxeqBKcf6JtK1S6DHkkN3dXxhPKd//t4nQcLhPopN2vaksO/KAOL7PPtWiSJE+SUyDy1EqK9v74nN0B5VX3Kw0fadfXuxvZ5sPs9aoG8aNKnECKrdB8aCMSk2GPoDtONj+IcZsFiG0MhPkHT1tk5nZUEoHLS4l9yFMcAQ8LhU0kIpyiJCzurvlX4vRipGAXVsRnG0DKF/sTHMwHNqb5x+KXFjqQVwtpRPjS01WjM4fBW6CD+isUd8QmEHCyMJPXRovpfKvrFvL09v2Xn+bSGx6NtXb4jvTalpgCL/Alg3lbOm+SJisX6kmcUBmqkTXRBnM+qxLC1Mr/u1DloqJN+lODdrahub3zHixZn0TNag/9kBi5fnV8bnRxezWt8j0ZhZG+wNTbC36iuoTc3iafRTaJhk14bmA9wnanTWOmaPtGallVq1Z9OjWnxYLTyWYYiLFvWVUodYhEmOXQkTR1M237i6LWgi/ca7kWyDuXYGq0Op1JO3Pd53259I5FR90yPt15P9xnsjUSeGwyTO2csZwMFHOabDIingwJWunrZUG0i1rQ1bo/r+oMnXs5jHcayLJZ7TC01IaFSPBURCjmwpedVMmIiY+WgaIH2VuFhZQEI4QlM0BM/ov69rQ5ZRcwq/mvp5hFjmrZ+TMJ2h1b5y+MQTOmgBoAZ5AVJYGWxZW7/PWB8zriJ2JmyitEMmRPq1+zB1YCKY/vNnsLPSjKbYXifSUKm+3N20hnBc7KzqoXP++og56EFiePpY9iJJNkmU7IAaC+t7X0vD9giQHoPZsnujSywc82xk4p/qAJKYFuvrMtqawOK3P0yxYPGlZdBMMkcz/NHc2hh7UG9cxM2ri6BWg8O0wMFXmtjyVq5CA1i1U0S/o2Cx3mwghe9/KMXWURRjbL7/SksQ03hmoLVbqDkb2FXVJioYfSA5T0n+oSKJlhKasgWcfgOSfFFoLL/mMPfp4Si0nMaaxk4mmMxjEvu+fsTilwGYT9TWIBzdDFvmPIsBqt2XBhExVmrXaLvftiRIscyQrXAAWZTUdmQfwiNhGrMMbXVtb67vKQR+1qRpyA8/MpAre63QQLMtMmLAdVbRrfA4xiIv5iF81ya1teUjnkCtpCAIheiPtEF2T4DFOeEnpPtI6xea4p7J/+2xdwAjHEgiDpi48MsEmm0GG6u6dTKgQEtdY7SJx5F0dptFetW8CdRkoDGBtiahtEpq2Bi4/1Y7gf0dy+XGBhQOlcavM14yZWK6qZx8oUCpe7XgEgPMdjvy/UEd4Tmw7UZjHoC+7uyOLxhstjpKOUBuO0krmUbtS+qGZITf8Ytt+BK80im5JKGi7Cp9iYm4pwRktWNYLffF2AK+FmXGrcdnbbuVqEo3sH0JXBeKJEoCyQO0msRW2im+w5Iqpe7ItoXcmp/PyRba1IKtGxhLKfnADQc9uZ2RrTyoTBAs/6xpmvpIJV9SO/kcZwkWMx/9LGbL1WRGWoN9h+cLnhupVooIS7KdKbQ2cq3kWn3QjZlpEpPIKPwpxNLegi1PkZaCLS5hmlZbHdoWmqWQVfxwe+DXWUVswCcTlWaA1a6/7hv7ZhNFBJtiXFyrwi/VJIjaykBJIWslPSv62Nhf1bsUBM2ZdlpAT6R8spRUCqFXksa2nYM1dlIyQaYhaDJcU4ll7BDfGk9jR8JJcztedtbeOuHKkcHmbr12+Lwjn1/k55Ol7SzSDDSUXc1P2JYcycxWrF6ZvKW7NduLavdYbsmkU0GWTBPb1ajWndg7Gpx8NChNyI0OnLgJslKUp+F8jlswvaKQ1eLTfdtIvhSgJKxPZbUey5i6niUhp5V0vpBOq3mG+4P984E+nrY+fUrIssDlgugNKbbEBfH9LugpfH63X8F2fOEK7W+PVVrMPDatZuxDuzQe9ZDeOVAadOo0swEoCmmrpPuT9OuD/PHBst0p+iJR0SRW/Cy2rkZNBU3Zj2KMEkFqg22DfUeSGmBbQU7FDFyrJF/5LQRKFAOrOmgNchNPwCqxcHZKzs7cT5nZVkpTpFbStiHbC6kVSZDXQj4tpmnmOcx1nC+kt4ZcKgrsX1/sv39Tv+5obTaPbl1JdSMviXw5k05Kj36mxqSwlLNh7H7dl4YKrMMPmqal6mBFq0FzUHSo5cTntcccPbBCxKS7bJX8eJE/vyj3X+TtE2GjlUw6nUjnK7qukBdaWlDJIBUlG93eqwFWNzO/LQMLaEJo5H1Htp3UhoEU17QALTVL7PYFXwhG2FBfGTql5MLWyLUhezW/9Nqg7ZAt05HYkb2QqsKuaEvIji2LJLZ/Ko8H7X5nv3/a7kwpQ9tJS0G2jVSbab6O4XfRH8owCPU4/MWweFFRKC1iEwct9XLbUct6wVH61wHGphqJVhJastHhnG1LyrrD80FrD9q60JZkwWixgesr1wWbAzMtOdtFJ7VBFk+i1gavSn4Z4VHwDqnk4YWzToldCZJzbV87WZKtr1hs6b4sQmpKqhURW+EtIeSa0SLIaUHOviLc5lYIbEVUFaRZjGmlK9sEF9H+e/KxkB5ymCvoNTWxzZuDTcb6Y3O7gbi4qZMUNfPYEN8JXjx47bb1gPrRSc7+Tkoy53xe0MsZuZyR+wnumR21KU9k9pyp5xPtcoa0oCTQZFrWkgsPoIsJRoK2QCsW+Ett5CrIJkh1Y5InfyhjcJqv6AbSE9CgSMmwLqYFKTmBqrDtsG3ItiGtQklwWdDLYoLzalAqsjVYTpBXSMUY6LKwnE++zGKzaVvrmXQ9I+cV1gVdirHJ6DYTzN4GL1SzEMeEuOU+8wSYIpYwntLIhxghHN+hIZSIL+yLWxL2BEImn1ba9QxvN/T1QB+/qc+VnRdtWannM+1yRa83yIXI86g6NTPVIZbW1gQtK1Uqre2kHYRK0oY0L4Sqr9qWYovMjJYFWRcoC6TsSehq97gUZLWBxIuMulfbfM6Bw0HTy4KeFyNKrwrLDs8KqaCnFUoxzZITJSn5bOs/ivs0Lje4XmBdaSWjJbtrcZHvS9VrD5GSjqQBbknUIyLLnzJAG5ZzBkxGLmxWM38tiohNhJoTbSm084l2u5JeT/TxTtvvtKfQLmf0+gO9vsP1ar5M1YhHbbBbVK5G26AUNCdaaigVrcmCoK3BBmDmzjZLy6YNMTDr6sCskG3VH4sd1V9fqEvxpZ+w8GICTlu1TMapwKkYaEuDsiMn45EtZ7MwCaQJ+VSA6mY9Q1nhdEbPF3Qx4aEL/nAzEX31IivzZg5AE680BO3/tvD0HD73BOu/mMb5/d1citBypq0n2qXZze8Py7I8L3A6Ie//k3T9H+j5bMnWtoMHpuhuep4ULYKuDkA2gKR6Ccc1U/dqIXDJBkw2AHXJJtnnE5xWN5F4AkAhCTVnIyPZzFUWrxLvtkl4q9WsyOLnS4IURZYVqRFbTeMjZWzuk2xBNHJBlxVdTqgvxwuMir3G+A3gTBccoDQo/nwInuUf0M9OMHmGfv4kk7k8PIX5oGSE42KrYtN2W+bpeYVlhesPOL0jZbHsi77sw63aBm+1YsXJ4oRFwMv4krC+id136t3dtKTcc4td65YMSwYHPiGeZfHdqLDMu6AmFDl7njDRstD23TIbXi9TiXyjBe22Cav5r4SQSobi/ZylINlCGUmZ5qY+/FbEZ0MZjPP3+QETjxicYrJ0YlurdZ0RmZCWkKZvYXpA6O9R6B1TiEl8W5MVVPcXtM2z7AuUk8mJmjMWr31oq/bebfN6nA8WihRP2mp1BtgM0BymvLkEugY0kLabOd2FPqmiv+ZmEtO61gqtWOOsNrXNVWM75d3zoll8w55MywJUCwv2hkpC5ARLRsoJWVbzmznbaxNnELUAP7IpkU6bKf28YEGolsYccTephclWHg7XnlmTQj1Vjou0iuqIwxO0Isbekl90rZaX40lr5ntIDeEF+wO5f6Ffn+jjafdXTujpCWWxvcSSJbGoFd0337F2Cq4ldkey8o+Ugq4FXawjTEQcMEw7mke5KcFSaIv5T6qREvaK1PD1Dtoamiv2/Y8Xsu0ghXa+obeGviVTz7QYIRIXSrVMkxl67SwwfBkwKtP2h0fcvUPkcJTvYM1OTITpzaFmYWv90Xv1DDgz1lFDSq0aG7s/rDqed+qyeZZcEdlJ9Yl+faGfn/B19zTQYo68FCTHErhWKq2+4XnzeeFEnlFtR4niDTfq5ES9K1dUbXVfDbOm9tpS+ntpOClqFkxXF9Ik6Cmj50RbBN02E7DnBrLQbv9Feymt2f7gmhbL8hQDDd+otXkw6VU32/CHKOd4kVe0539NwTzpMeFQjmAd8viuRwebOHxakJWIMaKUEh9Qy/rL64E+PtGtoelBKw8oGVkEyYrohjyf8HjSHk9kbwgbpM2XqQh3pbSEbyM8lq7slqMlkiay2oo/mpKHfjFwQFPP9dnNaxLqkmgl9oEBqUqq6o+mnZqFdsrUS0JW0NfLBPGxQVphFzSd0OVqVmI5obGhLA6Cmr+OKkD0amaENPV/9LHzpMf/i6YxwSRO5SMASD40QY2OGilM/YAoWZRM7LVWSbrbjrH7E14b2hItP5DFconplCnRc1gydVmsNK+p5yNLEiOISaleWVWZmss0MvaJ3IaZVC+hdNCwz0rkVcXAkJyoMXnRCUKKSSUupyTYc1S/saWjEr7801itXGJmi49hOKxuAr8ddhE+/r0PJJ6XftlzKK1MkwoV06B+uR4EWn7Mlxyfsg4xW1GiPK/NVb6S2cm2mT2wGUvcH+huskVdkXQmrydKWRCxQLctK7WCVd0st1eSl3eSbTcbW1zWWAzFBze3hDTvh0oJWbJvHCfQvHTUzORE5VyTbeMoJdOygZYaXctC00jAKugJcmnoydJgad1JaSXfruTbGTmf0FMx9pq7f3EuIL32p3hulJG66h7IxzQA1d6yLx24wmQuBoAGXgTPY2so71Ocqai/2/okTMOy7pZolYqmZkxPnHGpOXyhkPLZSh9phTO0qiTNJAcNB62INe/UVvsuwBI+jSjNCGLij+aMrAVZPe8XoNUWd2YCmqWHCUaa8IZdAyxZbGD5xQXSomipsL1I5wdpq+RUSOcfpLcb3M5WQyteEZcotsoAza1YtFQkIu86U3T3c6FxhOWz5qeCu0XpEUx8XBhN7rE7Bt+OGDbvKNRK052mNqgksZzbabXcngo0QZZiBGBdaaezpZsk+3Bms/S+QY5EOgcbeGk7KSj5zG5dGpuY5hhoRuVlIgNEHc41jWwJ6th9V9oIHaJVXlHzv6Uh0qC+kPOZtFdECrJe4XKBU0EXB4wxNhE+pWnwHdNwSkR3V3+ij+ufZrUkdkd2R6iIRM+HduDi5Oa3Gn3znK7Vxhj36AyuzUhgXpDzDd4a5DNy3kx6S6HdrmyXN9r5arFNXiwL3k2xBaRRMe7t4t3MKceVhdTW8MJaAWQplhTOkYR20INyuuRpFiMh/YZigWgjV+42acmRlAr1hC6xm1OiRXyWky9BaMIlKr2LIjQsxMy+7Rh/Dcsm3S+q7xNq8m6PxfwOCDvJOynsSL25RtQbZxgFxQisbTsQo+D4dsH73shNyPlEPr8jstJOT9O2Bpoz++lEu1yQ88XSPWWxmCpbySSLeJI0CoHateTQ8t2XVVJGxcPLIsX348RBC8CCpHVGPPxPCPlg0A4k03y63JBimRlBPCuTXWUa1A3R0bo3x76xYGloYMyKCKI0rskFSbxLLiaLGGjVzBDVj0ZkF0wgO6/sjGpovw9crTbVad+tgLlVclWKFMp6JZUTnHbvdrJ0l5bFwfJjWaDY9iTmx4yNSve5k38Q6YD11vUADqYNe9IEmgM1twVOP98nuM+rCeCarC1517B6M1SwPf9Ma0hrfRX0qA1qzt4eOAkCBljXMAKYiHWba5r+cfhGrnEiGf/ECX1MdOtuM3Xf1LRR98q22V6ZdXvBviHV/E6hWQ+GJMiFJsk7db0giC/2bHKD4J3EOcyBxSt9jzLxkoWreavRul57Y62xLyX7IdJ8dAdgf0zV/Rfwxn7WAx3rRvYguM+gDeRGi3fMLSg5k4tSCuQyTRLpYVbQBtciRmvgQds4ClTRzgztTbFk7PiXTNW9rdv2brH9wGpV9ldje9oyt/v+soDa2V02VbaGGh3dwTbiJl1oRbyuJrlCSlTv3K34vDa1RantEtPQtFqpu01+HLZR+vYmyRO1w5QOsLpiza1sjqBl2WNfmzTe5nMb7G8ZH3Or03mESF8FYvFN0YsKOVuHVzBJfN4Dvdc0em+MjA2a9R00D5zHjkKzvhHEswMIyRo7m1J3ZX9VtsfG9nix709ou5lYabbTb8KnM2k3JT3jrVgXV2ukvXrhM9EcNKT1dUzU1+XqOyCpTjsGNlcy6QPdUuomru+T1mfiDI3Sb6B1ljztizbMsfYJ/SBH0ziPnZiJLjkWrh20HbFNjVIfWbDq/RDpPssRjoLhhKqE87JTxMJl1XN5JqnRJBMsDPUW6rr7saHVG2K09oxFBBCjVx/QsT9b7FCfaJ75Vq9Kx5V6Oqf5o9t7fBCt5a/2HkkRj9Wm1X0UvN3bWN2E2uTrpsjWR8PChEguSG8ln5xj91AH4OKeNWZx0q2SJPN5SBREx2eDn0QbglT3p9U60MRTYaKNEmzR4jXLYiR92eCp2+HUbHKBZqSlvnizNst2JNnJyXt4VX2TiDABHC5Q8DZunCHivapi6aMw5aGKqt4+otNAE8zV2r81Sz/3YSmHycAkP9ecipMgcmGCfJziPWm+B/waNKKnI2Djqtw69e5lD020oi3TakEYVexB89zAetpNPcvPbu2EtN0apdpOgYaIdSOJ7iTdHJzaBze1imhBNPZexvufd0Q2UtoppVkyOnyC09NJDB0wt/kOWvbBCeBskMIxxxAk/vhRoWX3LZOdmr9Sg+GmYUsEmUjG4HN/gOaP45yTuMx01O2WHjQ2Ttes2Ucq6G5VAE8aaMwkInj54OfqMSVJRzth3UjNNo8t4qF/aBtq4HVfpsLYzLV10MzUmHam1EYj/ZQ50eNteO5NxpaQE2ARl/UGznmcZAJtMvLqXWT6/bUgPZ0tDn8ik1/83rAUrO7ff+a5DZ2mHoVDj+//znBM2zzSFT+c4NE70zxvotlt6+7mMbq/a2ymMPu1MDww+r9tNkg3vHFROgCX8I1h3hjvDWPyZxrMyi6RNZhiXIZEz8+N04ZH6Zm2Dpr73B6IA6LjHCJEAuT/E7RJIMRBEhm/D7N5fBzx+1FwZEoKTDzazt+l1B2h84Luz3V0f/8/+MCB/4rnxkMAAAAASUVORK5CYII=\" y=\"-170\"/>\n   </g>\n   <g id=\"matplotlib.axis_7\">\n    <g id=\"text_4\">\n     <!-- True: airplane -->\n     <defs>\n      <path d=\"M 6.734375 0 \nL 6.734375 72.46875 \nL 15.53125 72.46875 \nL 15.53125 0 \nz\n\" id=\"LiberationSans-6c\"/>\n      <path d=\"M 40.28125 0 \nL 40.28125 33.5 \nQ 40.28125 37.359375 39.71875 39.9375 \nQ 39.15625 42.53125 37.890625 44.109375 \nQ 36.625 45.703125 34.546875 46.359375 \nQ 32.46875 47.015625 29.390625 47.015625 \nQ 26.265625 47.015625 23.75 45.921875 \nQ 21.234375 44.828125 19.453125 42.75 \nQ 17.671875 40.671875 16.6875 37.625 \nQ 15.71875 34.578125 15.71875 30.609375 \nL 15.71875 0 \nL 6.9375 0 \nL 6.9375 41.546875 \nQ 6.9375 43.21875 6.90625 45.046875 \nQ 6.890625 46.875 6.828125 48.5 \nQ 6.78125 50.140625 6.734375 51.3125 \nQ 6.6875 52.484375 6.640625 52.828125 \nL 14.9375 52.828125 \nQ 14.984375 52.59375 15.03125 51.515625 \nQ 15.09375 50.4375 15.15625 49.046875 \nQ 15.234375 47.65625 15.28125 46.21875 \nQ 15.328125 44.78125 15.328125 43.796875 \nL 15.484375 43.796875 \nQ 16.75 46.09375 18.265625 47.953125 \nQ 19.78125 49.8125 21.78125 51.09375 \nQ 23.78125 52.390625 26.359375 53.09375 \nQ 28.953125 53.8125 32.375 53.8125 \nQ 36.765625 53.8125 39.9375 52.734375 \nQ 43.109375 51.65625 45.15625 49.40625 \nQ 47.21875 47.171875 48.171875 43.625 \nQ 49.125 40.09375 49.125 35.203125 \nL 49.125 0 \nz\n\" id=\"LiberationSans-6e\"/>\n     </defs>\n     <g style=\"fill:#555555;\" transform=\"translate(28.216875 291.69625)scale(0.12 -0.12)\">\n      <use xlink:href=\"#LiberationSans-54\"/>\n      <use x=\"61.037109\" xlink:href=\"#LiberationSans-72\"/>\n      <use x=\"94.337891\" xlink:href=\"#LiberationSans-75\"/>\n      <use x=\"149.953125\" xlink:href=\"#LiberationSans-65\"/>\n      <use x=\"205.568359\" xlink:href=\"#LiberationSans-3a\"/>\n      <use x=\"233.351562\" xlink:href=\"#LiberationSans-20\"/>\n      <use x=\"261.134766\" xlink:href=\"#LiberationSans-61\"/>\n      <use x=\"316.75\" xlink:href=\"#LiberationSans-69\"/>\n      <use x=\"338.966797\" xlink:href=\"#LiberationSans-72\"/>\n      <use x=\"372.267578\" xlink:href=\"#LiberationSans-70\"/>\n      <use x=\"427.882812\" xlink:href=\"#LiberationSans-6c\"/>\n      <use x=\"450.099609\" xlink:href=\"#LiberationSans-61\"/>\n      <use x=\"505.714844\" xlink:href=\"#LiberationSans-6e\"/>\n      <use x=\"561.330078\" xlink:href=\"#LiberationSans-65\"/>\n     </g>\n     <!-- Predicted: ship -->\n     <g style=\"fill:#555555;\" transform=\"translate(25.544063 304.62175)scale(0.12 -0.12)\">\n      <use xlink:href=\"#LiberationSans-50\"/>\n      <use x=\"66.699219\" xlink:href=\"#LiberationSans-72\"/>\n      <use x=\"100\" xlink:href=\"#LiberationSans-65\"/>\n      <use x=\"155.615234\" xlink:href=\"#LiberationSans-64\"/>\n      <use x=\"211.230469\" xlink:href=\"#LiberationSans-69\"/>\n      <use x=\"233.447266\" xlink:href=\"#LiberationSans-63\"/>\n      <use x=\"283.447266\" xlink:href=\"#LiberationSans-74\"/>\n      <use x=\"311.230469\" xlink:href=\"#LiberationSans-65\"/>\n      <use x=\"366.845703\" xlink:href=\"#LiberationSans-64\"/>\n      <use x=\"422.460938\" xlink:href=\"#LiberationSans-3a\"/>\n      <use x=\"450.244141\" xlink:href=\"#LiberationSans-20\"/>\n      <use x=\"478.027344\" xlink:href=\"#LiberationSans-73\"/>\n      <use x=\"528.027344\" xlink:href=\"#LiberationSans-68\"/>\n      <use x=\"583.642578\" xlink:href=\"#LiberationSans-69\"/>\n      <use x=\"605.859375\" xlink:href=\"#LiberationSans-70\"/>\n     </g>\n    </g>\n   </g>\n   <g id=\"matplotlib.axis_8\"/>\n   <g id=\"patch_18\">\n    <path d=\"M 10.870312 279 \nL 10.870312 170.28 \n\" style=\"fill:none;stroke:#ffffff;stroke-linecap:square;stroke-linejoin:miter;\"/>\n   </g>\n   <g id=\"patch_19\">\n    <path d=\"M 119.590313 279 \nL 119.590313 170.28 \n\" style=\"fill:none;stroke:#ffffff;stroke-linecap:square;stroke-linejoin:miter;\"/>\n   </g>\n   <g id=\"patch_20\">\n    <path d=\"M 10.870312 279 \nL 119.590313 279 \n\" style=\"fill:none;stroke:#ffffff;stroke-linecap:square;stroke-linejoin:miter;\"/>\n   </g>\n   <g id=\"patch_21\">\n    <path d=\"M 10.870312 170.28 \nL 119.590313 170.28 \n\" style=\"fill:none;stroke:#ffffff;stroke-linecap:square;stroke-linejoin:miter;\"/>\n   </g>\n  </g>\n  <g id=\"axes_5\">\n   <g id=\"patch_22\">\n    <path d=\"M 172.070312 279 \nL 280.790313 279 \nL 280.790313 170.28 \nL 172.070312 170.28 \nz\n\" style=\"fill:#e5e5e5;\"/>\n   </g>\n   <g clip-path=\"url(#pc1bfbba447)\">\n    <image height=\"109\" id=\"image0310673c4f\" transform=\"scale(1 -1)translate(0 -109)\" width=\"109\" x=\"172.070312\" xlink:href=\"data:image/png;base64,\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\" y=\"-170\"/>\n   </g>\n   <g id=\"matplotlib.axis_9\">\n    <g id=\"text_5\">\n     <!-- True: frog -->\n     <defs>\n      <path d=\"M 17.625 46.4375 \nL 17.625 0 \nL 8.84375 0 \nL 8.84375 46.4375 \nL 1.421875 46.4375 \nL 1.421875 52.828125 \nL 8.84375 52.828125 \nL 8.84375 58.796875 \nQ 8.84375 61.671875 9.375 64.140625 \nQ 9.90625 66.609375 11.34375 68.4375 \nQ 12.796875 70.265625 15.28125 71.3125 \nQ 17.78125 72.359375 21.734375 72.359375 \nQ 23.296875 72.359375 24.96875 72.21875 \nQ 26.65625 72.078125 27.9375 71.78125 \nL 27.9375 65.09375 \nQ 27.09375 65.234375 26 65.359375 \nQ 24.90625 65.484375 24.03125 65.484375 \nQ 22.078125 65.484375 20.828125 64.9375 \nQ 19.578125 64.40625 18.875 63.40625 \nQ 18.171875 62.40625 17.890625 60.9375 \nQ 17.625 59.46875 17.625 57.5625 \nL 17.625 52.828125 \nL 27.9375 52.828125 \nL 27.9375 46.4375 \nz\n\" id=\"LiberationSans-66\"/>\n      <path d=\"M 51.421875 26.46875 \nQ 51.421875 12.59375 45.3125 5.796875 \nQ 39.203125 -0.984375 27.59375 -0.984375 \nQ 22.078125 -0.984375 17.71875 0.671875 \nQ 13.375 2.34375 10.375 5.765625 \nQ 7.375 9.1875 5.78125 14.328125 \nQ 4.203125 19.484375 4.203125 26.46875 \nQ 4.203125 53.8125 27.875 53.8125 \nQ 34.03125 53.8125 38.5 52.09375 \nQ 42.96875 50.390625 45.828125 46.96875 \nQ 48.6875 43.5625 50.046875 38.421875 \nQ 51.421875 33.296875 51.421875 26.46875 \nz\nM 42.1875 26.46875 \nQ 42.1875 32.625 41.234375 36.625 \nQ 40.28125 40.625 38.453125 43.015625 \nQ 36.625 45.40625 33.984375 46.359375 \nQ 31.34375 47.3125 28.03125 47.3125 \nQ 24.65625 47.3125 21.9375 46.3125 \nQ 19.234375 45.3125 17.328125 42.890625 \nQ 15.4375 40.484375 14.421875 36.46875 \nQ 13.421875 32.46875 13.421875 26.46875 \nQ 13.421875 20.3125 14.5 16.28125 \nQ 15.578125 12.25 17.453125 9.859375 \nQ 19.34375 7.46875 21.90625 6.484375 \nQ 24.46875 5.515625 27.484375 5.515625 \nQ 30.859375 5.515625 33.59375 6.46875 \nQ 36.328125 7.421875 38.234375 9.8125 \nQ 40.140625 12.203125 41.15625 16.25 \nQ 42.1875 20.3125 42.1875 26.46875 \nz\n\" id=\"LiberationSans-6f\"/>\n      <path d=\"M 26.765625 -20.75 \nQ 22.21875 -20.75 18.703125 -19.8125 \nQ 15.1875 -18.890625 12.6875 -17.15625 \nQ 10.203125 -15.4375 8.640625 -13.03125 \nQ 7.078125 -10.640625 6.390625 -7.71875 \nL 15.234375 -6.453125 \nQ 16.109375 -10.109375 19.109375 -12.078125 \nQ 22.125 -14.0625 27 -14.0625 \nQ 29.984375 -14.0625 32.421875 -13.234375 \nQ 34.859375 -12.40625 36.5625 -10.5625 \nQ 38.28125 -8.734375 39.203125 -5.796875 \nQ 40.140625 -2.875 40.140625 1.3125 \nL 40.140625 9.8125 \nL 40.046875 9.8125 \nQ 39.0625 7.8125 37.625 5.984375 \nQ 36.1875 4.15625 34.109375 2.734375 \nQ 32.03125 1.3125 29.296875 0.453125 \nQ 26.5625 -0.390625 23.046875 -0.390625 \nQ 18.015625 -0.390625 14.421875 1.296875 \nQ 10.84375 2.984375 8.5625 6.34375 \nQ 6.296875 9.71875 5.25 14.71875 \nQ 4.203125 19.734375 4.203125 26.3125 \nQ 4.203125 32.671875 5.25 37.75 \nQ 6.296875 42.828125 8.65625 46.359375 \nQ 11.03125 49.90625 14.8125 51.78125 \nQ 18.609375 53.65625 24.03125 53.65625 \nQ 29.640625 53.65625 33.765625 51.09375 \nQ 37.890625 48.53125 40.140625 43.796875 \nL 40.234375 43.796875 \nQ 40.234375 45.015625 40.296875 46.53125 \nQ 40.375 48.046875 40.453125 49.390625 \nQ 40.53125 50.734375 40.625 51.703125 \nQ 40.71875 52.6875 40.828125 52.828125 \nL 49.171875 52.828125 \nQ 49.125 52.390625 49.078125 51.34375 \nQ 49.03125 50.296875 48.96875 48.828125 \nQ 48.921875 47.359375 48.890625 45.578125 \nQ 48.875 43.796875 48.875 41.890625 \nL 48.875 1.515625 \nQ 48.875 -9.578125 43.421875 -15.15625 \nQ 37.984375 -20.75 26.765625 -20.75 \nz\nM 40.140625 26.421875 \nQ 40.140625 31.9375 38.9375 35.859375 \nQ 37.75 39.796875 35.796875 42.28125 \nQ 33.84375 44.78125 31.328125 45.953125 \nQ 28.8125 47.125 26.171875 47.125 \nQ 22.796875 47.125 20.375 45.953125 \nQ 17.96875 44.78125 16.375 42.265625 \nQ 14.796875 39.75 14.03125 35.8125 \nQ 13.28125 31.890625 13.28125 26.421875 \nQ 13.28125 20.703125 14.03125 16.8125 \nQ 14.796875 12.9375 16.359375 10.546875 \nQ 17.921875 8.15625 20.3125 7.125 \nQ 22.703125 6.109375 26.03125 6.109375 \nQ 28.65625 6.109375 31.171875 7.21875 \nQ 33.6875 8.34375 35.6875 10.78125 \nQ 37.703125 13.234375 38.921875 17.09375 \nQ 40.140625 20.953125 40.140625 26.421875 \nz\n\" id=\"LiberationSans-67\"/>\n     </defs>\n     <g style=\"fill:#555555;\" transform=\"translate(200.425938 291.69625)scale(0.12 -0.12)\">\n      <use xlink:href=\"#LiberationSans-54\"/>\n      <use x=\"61.037109\" xlink:href=\"#LiberationSans-72\"/>\n      <use x=\"94.337891\" xlink:href=\"#LiberationSans-75\"/>\n      <use x=\"149.953125\" xlink:href=\"#LiberationSans-65\"/>\n      <use x=\"205.568359\" xlink:href=\"#LiberationSans-3a\"/>\n      <use x=\"233.351562\" xlink:href=\"#LiberationSans-20\"/>\n      <use x=\"261.134766\" xlink:href=\"#LiberationSans-66\"/>\n      <use x=\"288.917969\" xlink:href=\"#LiberationSans-72\"/>\n      <use x=\"322.21875\" xlink:href=\"#LiberationSans-6f\"/>\n      <use x=\"377.833984\" xlink:href=\"#LiberationSans-67\"/>\n     </g>\n     <!-- Predicted: frog -->\n     <g style=\"fill:#555555;\" transform=\"translate(187.4125 304.62175)scale(0.12 -0.12)\">\n      <use xlink:href=\"#LiberationSans-50\"/>\n      <use x=\"66.699219\" xlink:href=\"#LiberationSans-72\"/>\n      <use x=\"100\" xlink:href=\"#LiberationSans-65\"/>\n      <use x=\"155.615234\" xlink:href=\"#LiberationSans-64\"/>\n      <use x=\"211.230469\" xlink:href=\"#LiberationSans-69\"/>\n      <use x=\"233.447266\" xlink:href=\"#LiberationSans-63\"/>\n      <use x=\"283.447266\" xlink:href=\"#LiberationSans-74\"/>\n      <use x=\"311.230469\" xlink:href=\"#LiberationSans-65\"/>\n      <use x=\"366.845703\" xlink:href=\"#LiberationSans-64\"/>\n      <use x=\"422.460938\" xlink:href=\"#LiberationSans-3a\"/>\n      <use x=\"450.244141\" xlink:href=\"#LiberationSans-20\"/>\n      <use x=\"478.027344\" xlink:href=\"#LiberationSans-66\"/>\n      <use x=\"505.810547\" xlink:href=\"#LiberationSans-72\"/>\n      <use x=\"539.111328\" xlink:href=\"#LiberationSans-6f\"/>\n      <use x=\"594.726562\" xlink:href=\"#LiberationSans-67\"/>\n     </g>\n    </g>\n   </g>\n   <g id=\"matplotlib.axis_10\"/>\n   <g id=\"patch_23\">\n    <path d=\"M 172.070312 279 \nL 172.070312 170.28 \n\" style=\"fill:none;stroke:#ffffff;stroke-linecap:square;stroke-linejoin:miter;\"/>\n   </g>\n   <g id=\"patch_24\">\n    <path d=\"M 280.790313 279 \nL 280.790313 170.28 \n\" style=\"fill:none;stroke:#ffffff;stroke-linecap:square;stroke-linejoin:miter;\"/>\n   </g>\n   <g id=\"patch_25\">\n    <path d=\"M 172.070312 279 \nL 280.790313 279 \n\" style=\"fill:none;stroke:#ffffff;stroke-linecap:square;stroke-linejoin:miter;\"/>\n   </g>\n   <g id=\"patch_26\">\n    <path d=\"M 172.070312 170.28 \nL 280.790313 170.28 \n\" style=\"fill:none;stroke:#ffffff;stroke-linecap:square;stroke-linejoin:miter;\"/>\n   </g>\n  </g>\n  <g id=\"axes_6\">\n   <g id=\"patch_27\">\n    <path d=\"M 333.270312 279 \nL 441.990313 279 \nL 441.990313 170.28 \nL 333.270312 170.28 \nz\n\" style=\"fill:#e5e5e5;\"/>\n   </g>\n   <g clip-path=\"url(#p93bc8b2c7e)\">\n    <image height=\"109\" id=\"image18894dc4d3\" transform=\"scale(1 -1)translate(0 -109)\" width=\"109\" x=\"333.270312\" xlink:href=\"data:image/png;base64,\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\" y=\"-170\"/>\n   </g>\n   <g id=\"matplotlib.axis_11\">\n    <g id=\"text_6\">\n     <!-- True: frog -->\n     <g style=\"fill:#555555;\" transform=\"translate(361.625938 291.69625)scale(0.12 -0.12)\">\n      <use xlink:href=\"#LiberationSans-54\"/>\n      <use x=\"61.037109\" xlink:href=\"#LiberationSans-72\"/>\n      <use x=\"94.337891\" xlink:href=\"#LiberationSans-75\"/>\n      <use x=\"149.953125\" xlink:href=\"#LiberationSans-65\"/>\n      <use x=\"205.568359\" xlink:href=\"#LiberationSans-3a\"/>\n      <use x=\"233.351562\" xlink:href=\"#LiberationSans-20\"/>\n      <use x=\"261.134766\" xlink:href=\"#LiberationSans-66\"/>\n      <use x=\"288.917969\" xlink:href=\"#LiberationSans-72\"/>\n      <use x=\"322.21875\" xlink:href=\"#LiberationSans-6f\"/>\n      <use x=\"377.833984\" xlink:href=\"#LiberationSans-67\"/>\n     </g>\n     <!-- Predicted: frog -->\n     <g style=\"fill:#555555;\" transform=\"translate(348.6125 304.62175)scale(0.12 -0.12)\">\n      <use xlink:href=\"#LiberationSans-50\"/>\n      <use x=\"66.699219\" xlink:href=\"#LiberationSans-72\"/>\n      <use x=\"100\" xlink:href=\"#LiberationSans-65\"/>\n      <use x=\"155.615234\" xlink:href=\"#LiberationSans-64\"/>\n      <use x=\"211.230469\" xlink:href=\"#LiberationSans-69\"/>\n      <use x=\"233.447266\" xlink:href=\"#LiberationSans-63\"/>\n      <use x=\"283.447266\" xlink:href=\"#LiberationSans-74\"/>\n      <use x=\"311.230469\" xlink:href=\"#LiberationSans-65\"/>\n      <use x=\"366.845703\" xlink:href=\"#LiberationSans-64\"/>\n      <use x=\"422.460938\" xlink:href=\"#LiberationSans-3a\"/>\n      <use x=\"450.244141\" xlink:href=\"#LiberationSans-20\"/>\n      <use x=\"478.027344\" xlink:href=\"#LiberationSans-66\"/>\n      <use x=\"505.810547\" xlink:href=\"#LiberationSans-72\"/>\n      <use x=\"539.111328\" xlink:href=\"#LiberationSans-6f\"/>\n      <use x=\"594.726562\" xlink:href=\"#LiberationSans-67\"/>\n     </g>\n    </g>\n   </g>\n   <g id=\"matplotlib.axis_12\"/>\n   <g id=\"patch_28\">\n    <path d=\"M 333.270312 279 \nL 333.270312 170.28 \n\" style=\"fill:none;stroke:#ffffff;stroke-linecap:square;stroke-linejoin:miter;\"/>\n   </g>\n   <g id=\"patch_29\">\n    <path d=\"M 441.990313 279 \nL 441.990313 170.28 \n\" style=\"fill:none;stroke:#ffffff;stroke-linecap:square;stroke-linejoin:miter;\"/>\n   </g>\n   <g id=\"patch_30\">\n    <path d=\"M 333.270312 279 \nL 441.990313 279 \n\" style=\"fill:none;stroke:#ffffff;stroke-linecap:square;stroke-linejoin:miter;\"/>\n   </g>\n   <g id=\"patch_31\">\n    <path d=\"M 333.270312 170.28 \nL 441.990313 170.28 \n\" style=\"fill:none;stroke:#ffffff;stroke-linecap:square;stroke-linejoin:miter;\"/>\n   </g>\n  </g>\n  <g id=\"axes_7\">\n   <g id=\"patch_32\">\n    <path d=\"M 10.870313 442.08 \nL 119.590312 442.08 \nL 119.590312 333.36 \nL 10.870313 333.36 \nz\n\" style=\"fill:#e5e5e5;\"/>\n   </g>\n   <g clip-path=\"url(#pdf2d323224)\">\n    <image height=\"109\" id=\"image6a8ab5c09c\" transform=\"scale(1 -1)translate(0 -109)\" width=\"109\" x=\"10.870313\" xlink:href=\"data:image/png;base64,\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\" y=\"-333.08\"/>\n   </g>\n   <g id=\"matplotlib.axis_13\">\n    <g id=\"text_7\">\n     <!-- True: automobile -->\n     <defs>\n      <path d=\"M 37.5 0 \nL 37.5 33.5 \nQ 37.5 37.359375 37.015625 39.9375 \nQ 36.53125 42.53125 35.375 44.109375 \nQ 34.234375 45.703125 32.375 46.359375 \nQ 30.515625 47.015625 27.828125 47.015625 \nQ 25.046875 47.015625 22.796875 45.921875 \nQ 20.5625 44.828125 18.96875 42.75 \nQ 17.390625 40.671875 16.53125 37.625 \nQ 15.671875 34.578125 15.671875 30.609375 \nL 15.671875 0 \nL 6.9375 0 \nL 6.9375 41.546875 \nQ 6.9375 43.21875 6.90625 45.046875 \nQ 6.890625 46.875 6.828125 48.5 \nQ 6.78125 50.140625 6.734375 51.3125 \nQ 6.6875 52.484375 6.640625 52.828125 \nL 14.9375 52.828125 \nQ 14.984375 52.59375 15.03125 51.515625 \nQ 15.09375 50.4375 15.15625 49.046875 \nQ 15.234375 47.65625 15.28125 46.21875 \nQ 15.328125 44.78125 15.328125 43.796875 \nL 15.484375 43.796875 \nQ 16.65625 46.09375 18.015625 47.953125 \nQ 19.390625 49.8125 21.21875 51.09375 \nQ 23.046875 52.390625 25.40625 53.09375 \nQ 27.78125 53.8125 30.90625 53.8125 \nQ 36.921875 53.8125 40.40625 51.421875 \nQ 43.890625 49.03125 45.265625 43.796875 \nL 45.40625 43.796875 \nQ 46.578125 46.09375 48.046875 47.953125 \nQ 49.515625 49.8125 51.46875 51.09375 \nQ 53.421875 52.390625 55.859375 53.09375 \nQ 58.296875 53.8125 61.421875 53.8125 \nQ 65.4375 53.8125 68.328125 52.734375 \nQ 71.234375 51.65625 73.09375 49.40625 \nQ 74.953125 47.171875 75.828125 43.625 \nQ 76.703125 40.09375 76.703125 35.203125 \nL 76.703125 0 \nL 68.015625 0 \nL 68.015625 33.5 \nQ 68.015625 37.359375 67.53125 39.9375 \nQ 67.046875 42.53125 65.890625 44.109375 \nQ 64.75 45.703125 62.890625 46.359375 \nQ 61.03125 47.015625 58.34375 47.015625 \nQ 55.5625 47.015625 53.3125 45.96875 \nQ 51.078125 44.921875 49.484375 42.875 \nQ 47.90625 40.828125 47.046875 37.75 \nQ 46.1875 34.671875 46.1875 30.609375 \nL 46.1875 0 \nz\n\" id=\"LiberationSans-6d\"/>\n      <path d=\"M 51.421875 26.65625 \nQ 51.421875 -0.984375 31.984375 -0.984375 \nQ 25.984375 -0.984375 22 1.1875 \nQ 18.015625 3.375 15.53125 8.203125 \nL 15.4375 8.203125 \nQ 15.4375 6.9375 15.359375 5.5625 \nQ 15.28125 4.203125 15.203125 3.03125 \nQ 15.140625 1.859375 15.0625 1.03125 \nQ 14.984375 0.203125 14.9375 0 \nL 6.453125 0 \nQ 6.5 0.4375 6.546875 1.484375 \nQ 6.59375 2.546875 6.640625 4 \nQ 6.6875 5.46875 6.703125 7.21875 \nQ 6.734375 8.984375 6.734375 10.890625 \nL 6.734375 72.46875 \nL 15.53125 72.46875 \nL 15.53125 51.8125 \nQ 15.53125 50.34375 15.5 49 \nQ 15.484375 47.65625 15.4375 46.625 \nQ 15.375 45.40625 15.328125 44.34375 \nL 15.53125 44.34375 \nQ 17.96875 49.421875 22 51.609375 \nQ 26.03125 53.8125 31.984375 53.8125 \nQ 42 53.8125 46.703125 47.0625 \nQ 51.421875 40.328125 51.421875 26.65625 \nz\nM 42.1875 26.375 \nQ 42.1875 31.84375 41.5 35.75 \nQ 40.828125 39.65625 39.3125 42.15625 \nQ 37.796875 44.671875 35.453125 45.84375 \nQ 33.109375 47.015625 29.734375 47.015625 \nQ 26.265625 47.015625 23.609375 45.890625 \nQ 20.953125 44.78125 19.171875 42.28125 \nQ 17.390625 39.796875 16.453125 35.734375 \nQ 15.53125 31.6875 15.53125 25.828125 \nQ 15.53125 20.171875 16.453125 16.3125 \nQ 17.390625 12.453125 19.171875 10.03125 \nQ 20.953125 7.625 23.578125 6.5625 \nQ 26.21875 5.515625 29.640625 5.515625 \nQ 32.859375 5.515625 35.203125 6.640625 \nQ 37.546875 7.765625 39.109375 10.25 \nQ 40.671875 12.75 41.421875 16.71875 \nQ 42.1875 20.703125 42.1875 26.375 \nz\n\" id=\"LiberationSans-62\"/>\n     </defs>\n     <g style=\"fill:#555555;\" transform=\"translate(20.213438 454.77625)scale(0.12 -0.12)\">\n      <use xlink:href=\"#LiberationSans-54\"/>\n      <use x=\"61.037109\" xlink:href=\"#LiberationSans-72\"/>\n      <use x=\"94.337891\" xlink:href=\"#LiberationSans-75\"/>\n      <use x=\"149.953125\" xlink:href=\"#LiberationSans-65\"/>\n      <use x=\"205.568359\" xlink:href=\"#LiberationSans-3a\"/>\n      <use x=\"233.351562\" xlink:href=\"#LiberationSans-20\"/>\n      <use x=\"261.134766\" xlink:href=\"#LiberationSans-61\"/>\n      <use x=\"316.75\" xlink:href=\"#LiberationSans-75\"/>\n      <use x=\"372.365234\" xlink:href=\"#LiberationSans-74\"/>\n      <use x=\"400.148438\" xlink:href=\"#LiberationSans-6f\"/>\n      <use x=\"455.763672\" xlink:href=\"#LiberationSans-6d\"/>\n      <use x=\"539.064453\" xlink:href=\"#LiberationSans-6f\"/>\n      <use x=\"594.679688\" xlink:href=\"#LiberationSans-62\"/>\n      <use x=\"650.294922\" xlink:href=\"#LiberationSans-69\"/>\n      <use x=\"672.511719\" xlink:href=\"#LiberationSans-6c\"/>\n      <use x=\"694.728516\" xlink:href=\"#LiberationSans-65\"/>\n     </g>\n     <!-- Predicted: automobile -->\n     <g style=\"fill:#555555;\" transform=\"translate(7.2 467.70175)scale(0.12 -0.12)\">\n      <use xlink:href=\"#LiberationSans-50\"/>\n      <use x=\"66.699219\" xlink:href=\"#LiberationSans-72\"/>\n      <use x=\"100\" xlink:href=\"#LiberationSans-65\"/>\n      <use x=\"155.615234\" xlink:href=\"#LiberationSans-64\"/>\n      <use x=\"211.230469\" xlink:href=\"#LiberationSans-69\"/>\n      <use x=\"233.447266\" xlink:href=\"#LiberationSans-63\"/>\n      <use x=\"283.447266\" xlink:href=\"#LiberationSans-74\"/>\n      <use x=\"311.230469\" xlink:href=\"#LiberationSans-65\"/>\n      <use x=\"366.845703\" xlink:href=\"#LiberationSans-64\"/>\n      <use x=\"422.460938\" xlink:href=\"#LiberationSans-3a\"/>\n      <use x=\"450.244141\" xlink:href=\"#LiberationSans-20\"/>\n      <use x=\"478.027344\" xlink:href=\"#LiberationSans-61\"/>\n      <use x=\"533.642578\" xlink:href=\"#LiberationSans-75\"/>\n      <use x=\"589.257812\" xlink:href=\"#LiberationSans-74\"/>\n      <use x=\"617.041016\" xlink:href=\"#LiberationSans-6f\"/>\n      <use x=\"672.65625\" xlink:href=\"#LiberationSans-6d\"/>\n      <use x=\"755.957031\" xlink:href=\"#LiberationSans-6f\"/>\n      <use x=\"811.572266\" xlink:href=\"#LiberationSans-62\"/>\n      <use x=\"867.1875\" xlink:href=\"#LiberationSans-69\"/>\n      <use x=\"889.404297\" xlink:href=\"#LiberationSans-6c\"/>\n      <use x=\"911.621094\" xlink:href=\"#LiberationSans-65\"/>\n     </g>\n    </g>\n   </g>\n   <g id=\"matplotlib.axis_14\"/>\n   <g id=\"patch_33\">\n    <path d=\"M 10.870313 442.08 \nL 10.870313 333.36 \n\" style=\"fill:none;stroke:#ffffff;stroke-linecap:square;stroke-linejoin:miter;\"/>\n   </g>\n   <g id=\"patch_34\">\n    <path d=\"M 119.590312 442.08 \nL 119.590312 333.36 \n\" style=\"fill:none;stroke:#ffffff;stroke-linecap:square;stroke-linejoin:miter;\"/>\n   </g>\n   <g id=\"patch_35\">\n    <path d=\"M 10.870313 442.08 \nL 119.590312 442.08 \n\" style=\"fill:none;stroke:#ffffff;stroke-linecap:square;stroke-linejoin:miter;\"/>\n   </g>\n   <g id=\"patch_36\">\n    <path d=\"M 10.870313 333.36 \nL 119.590312 333.36 \n\" style=\"fill:none;stroke:#ffffff;stroke-linecap:square;stroke-linejoin:miter;\"/>\n   </g>\n  </g>\n  <g id=\"axes_8\">\n   <g id=\"patch_37\">\n    <path d=\"M 172.070312 442.08 \nL 280.790313 442.08 \nL 280.790313 333.36 \nL 172.070312 333.36 \nz\n\" style=\"fill:#e5e5e5;\"/>\n   </g>\n   <g clip-path=\"url(#pb95a8de39d)\">\n    <image height=\"109\" id=\"image8ed12c740f\" transform=\"scale(1 -1)translate(0 -109)\" width=\"109\" x=\"172.070312\" xlink:href=\"data:image/png;base64,\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\" y=\"-333.08\"/>\n   </g>\n   <g id=\"matplotlib.axis_15\">\n    <g id=\"text_8\">\n     <!-- True: frog -->\n     <g style=\"fill:#555555;\" transform=\"translate(200.425938 454.77625)scale(0.12 -0.12)\">\n      <use xlink:href=\"#LiberationSans-54\"/>\n      <use x=\"61.037109\" xlink:href=\"#LiberationSans-72\"/>\n      <use x=\"94.337891\" xlink:href=\"#LiberationSans-75\"/>\n      <use x=\"149.953125\" xlink:href=\"#LiberationSans-65\"/>\n      <use x=\"205.568359\" xlink:href=\"#LiberationSans-3a\"/>\n      <use x=\"233.351562\" xlink:href=\"#LiberationSans-20\"/>\n      <use x=\"261.134766\" xlink:href=\"#LiberationSans-66\"/>\n      <use x=\"288.917969\" xlink:href=\"#LiberationSans-72\"/>\n      <use x=\"322.21875\" xlink:href=\"#LiberationSans-6f\"/>\n      <use x=\"377.833984\" xlink:href=\"#LiberationSans-67\"/>\n     </g>\n     <!-- Predicted: frog -->\n     <g style=\"fill:#555555;\" transform=\"translate(187.4125 467.70175)scale(0.12 -0.12)\">\n      <use xlink:href=\"#LiberationSans-50\"/>\n      <use x=\"66.699219\" xlink:href=\"#LiberationSans-72\"/>\n      <use x=\"100\" xlink:href=\"#LiberationSans-65\"/>\n      <use x=\"155.615234\" xlink:href=\"#LiberationSans-64\"/>\n      <use x=\"211.230469\" xlink:href=\"#LiberationSans-69\"/>\n      <use x=\"233.447266\" xlink:href=\"#LiberationSans-63\"/>\n      <use x=\"283.447266\" xlink:href=\"#LiberationSans-74\"/>\n      <use x=\"311.230469\" xlink:href=\"#LiberationSans-65\"/>\n      <use x=\"366.845703\" xlink:href=\"#LiberationSans-64\"/>\n      <use x=\"422.460938\" xlink:href=\"#LiberationSans-3a\"/>\n      <use x=\"450.244141\" xlink:href=\"#LiberationSans-20\"/>\n      <use x=\"478.027344\" xlink:href=\"#LiberationSans-66\"/>\n      <use x=\"505.810547\" xlink:href=\"#LiberationSans-72\"/>\n      <use x=\"539.111328\" xlink:href=\"#LiberationSans-6f\"/>\n      <use x=\"594.726562\" xlink:href=\"#LiberationSans-67\"/>\n     </g>\n    </g>\n   </g>\n   <g id=\"matplotlib.axis_16\"/>\n   <g id=\"patch_38\">\n    <path d=\"M 172.070312 442.08 \nL 172.070312 333.36 \n\" style=\"fill:none;stroke:#ffffff;stroke-linecap:square;stroke-linejoin:miter;\"/>\n   </g>\n   <g id=\"patch_39\">\n    <path d=\"M 280.790313 442.08 \nL 280.790313 333.36 \n\" style=\"fill:none;stroke:#ffffff;stroke-linecap:square;stroke-linejoin:miter;\"/>\n   </g>\n   <g id=\"patch_40\">\n    <path d=\"M 172.070312 442.08 \nL 280.790313 442.08 \n\" style=\"fill:none;stroke:#ffffff;stroke-linecap:square;stroke-linejoin:miter;\"/>\n   </g>\n   <g id=\"patch_41\">\n    <path d=\"M 172.070312 333.36 \nL 280.790313 333.36 \n\" style=\"fill:none;stroke:#ffffff;stroke-linecap:square;stroke-linejoin:miter;\"/>\n   </g>\n  </g>\n  <g id=\"axes_9\">\n   <g id=\"patch_42\">\n    <path d=\"M 333.270313 442.08 \nL 441.990313 442.08 \nL 441.990313 333.36 \nL 333.270313 333.36 \nz\n\" style=\"fill:#e5e5e5;\"/>\n   </g>\n   <g clip-path=\"url(#pf8e69bef48)\">\n    <image height=\"109\" id=\"image9b8813f1ba\" transform=\"scale(1 -1)translate(0 -109)\" width=\"109\" x=\"333.270313\" xlink:href=\"data:image/png;base64,\niVBORw0KGgoAAAANSUhEUgAAAG0AAABtCAYAAACr+O9WAAAABHNCSVQICAgIfAhkiAAAIABJREFUeJyFve2SI7kOJXYAkJlSVc/Xveun9Xv4lx/P67U3vLG+3V2SMkkC/gGATPVMhGsiu6a7VFImQQAHBx+k/+1//19NdaD3jvM8cJ4n1AaYGaUIai0QEYgwhBmlEKQQiA1jdDwfD3z9fODxdaAdBO07hD5x3//An3/8C//661/4848/cL/tKJXBDBAMqgYdA2MMqCryHnpvaOeB83jFe//E1/fv+Pr5E8+vL7yeT5zHC+d5orcG7R1miPstKNuGrW6om1/MDDXzzzAFMYNFIFIgRcDMYGaACWYGM4WaAWYgAAyK5y6opaAUXw8iAojgL1WYKswMROQ/A6Cq6L2jtYYRz2pmAAAiAov4PZeCbduwbRtqrRARcLw/8t7jMgMKs99a3rwIg9Tm3+e/x8+YCcwEkK4bJMz/99cuIefvExOIGER50+sB1+/65Z8jEBEUEUgslBRfaOn+71DFAACzJTSR2GQXgZjBYCAl+HICMIUpwYj8ZyBfI6zXkGH9P375CsH4N38fhED+/tK1NlehpXDnLZmtKz7TfnlPIqCUUqCqAAyqxXeaunBKyZ0gl8UAWADDgJmCmMDkQmFhEAmK1LnTc+eIFIhQCM1vygxgsxB6XLlAZjDtGG1DOzf0c8foHTo6oOpawAQbCgCx4QpKrai1opQKKQXE7Bo2gEGuTTCFKuZmA3MIhcAEXJeJYoH/JojLvytcK/HL64gIIjLvL7XlV2ECgMXPxhj+XszrZxdBA0DZtgpVBbPvMCaC6vAdH+YxVbgUN28ghRnBTF2LJDSsFAg2bHXH7XbDftuxbTvqtqHUgiKuoTCF5k6FmyAzhilBhFAKozCBAUAVOgZ0DMAUBAMTUIQxeo1/W0JzbSwQKeAwY0MVnQnUB4YOjKFQ61DzhRFjMHGYI9c8kE3NobmT3gXiVgqAMozsH7SCpsZbmLnr9/mVJnAMjNDYNJHLkuVqAWXfdqjpfBEzw1RBjNA0QallagyxATbQByCjTxMoRUBUUHnDbbvh/nHH7XbHdttD44oLHAMwApHmkwHGANQXzASmA1UYQuQCHgOmAxQ7WpjQS4GNgTRoLjQBS4GwgMQFYgDGiE1JBDsNw9y/kOm0KIgN6zbJ3xXp24im0bSLINOvkS1XkebtV9Ofv2t/81H2JjiMscxsuhXk+yCEtm9QVRRmd7rEUB0gBlgWGCkpNFIMNbDSXHQmBgtDuGArG263G263e2jaNn+XOcyihoblZjMFwJg2kwAFYNvAPjb0fnOzGJpWmNBrgY4BigXyexAw+85GCMytyAifbhjc0SnAwwB0MHQ4kEBqD/ESUC7g3y3kFEZqndm7cCx87a/Cm6YyQNjbV/6uKnxVGCDAAgMsTVNFZ/EdSwTV7m8uFIBCXKOIYxuu3WLqi8wsEKrYth17msZ9X8KWACGmABPIlhOzFFb4G4srH7DWgv22uw8FUJjRW4X2FCRA5PdJzCAQNAQ2cpezOZjKRYR7VvcjHaMziACmAhbf3akVsF/X1eJ2rxrlriMRYgpDTcF6AWTx+rRsKdypvpfNYMBEstevsm+uaRLOmAgYw1eSGOvDwkAkfE4Iq2EaHOlVbPuGfd+x33bUbYEBYjeBlEYuTVHc3oLNw7+rvzcIEBFstQKq4Cm0E6N32HBAxOSIk4lh5ovVB4Xy2sV8yjTpqv5ZY3T0TiCmiy9h3zjGE13+XXCJ8fCmTVcT+Iaqr6jWYeDSrn/QYsK71rrsDGWrLjQmjtjE0JnmTvfdl0gmbPJQDB1zFxJ5OFBKRa0Rb0yzmHCfpsDIcgHi/cIcmI7L9zE1S5iBWuf9MQEihNHYBRf37/fpQhs6oIFOzVzLlBmFGUUEQwQdHgqMMebGs9iEzARTBthDA/wC0a+L+E++Kzd2auOvcB+/aN77RrhsjojNVJf2llrr3BHhfuMDBlL+fNlBaXNzazjUd19SE27XFYSyiIcC4VAdbCyHn+b2eq9E5NppAAlA+bkiMCmwMgAt08eZUph2F5qqwcAQtnnPEIGaObDSgmEDRhYLG5ZDV/DLxDAJTSKbQrsutNnfUP7fNNH9k70JjC7vMWPJabIxzaFvIABwweULSinF0SKtBSQOFGcev5nDKRj0zTnnhzqULwFYCooU94XCYKFApYGblSdyXK7M1mdP08Awdk0ZLDBSKEdwT+s7mKHwdU2T68AkTFK+NwxqwWyYwqBzcdNqTB8dJoYp4rYMst80KoLx3Hh4D4TftEdtWheiFFgoR7yv/KPWpbZe/CgMRURgzJcXutDUxgQEGfjNVY71STvtyLdetCsd7xJYmkd9i3nCl+WD6WIhwsPCvZjCiKBEGPHAvmMJZLwC9Llg1ziK12dBYgva3DRqCm1jIjZL9iTcQkjrLU7Kz1jP8KZjM64jotiLS9MGeQxMzGBWsCoo4smkx1yLFaopwPeNUVjE1VcMYhrO3yG9C44wyJcPGg88F4XBJiFAgRRBEYYIgRmTlsqdj0u8MTUbBqgCqs5uqIJSOWBgi11KAiUJikzcD09LkE+WzvsStIPARjC4cEVCcORMRu8d3BnDNPakLnPGV3++rPkUz6/+Z6LKFde9/8ymAtgYbu5/ieskTGWuVT5agh4zQyFigA1kAmKFSFBaDEAdJDAIagRwhDCMucsFBjMCx4K6lsGJYXLQwCkkAygF5fscZM6QoCvQBmyox01mYITghcAQQKrvwCR1YRgEaLAsKWxfS52gJ/0pG6GAQVSmj+6toQfpTBeHPxF1PGvGJqmJCFNFWKbyQsIt7fsFxv8NfE2McHENFICNAGaDiAEmk4YrIPYHns4/LwOTheCGmy5eak8cZgm+s3iSxKFlF2Hlo6RZokCBzkMqSBXWO+wc0LMDbQBDwUQoVVD2CqkMY8GQimHhkdyGgagDxhGRh+PHCuAdlvDa0ey7T9VQakXpI0AFvcegtgDIFAbZm8mzKZdpnN8uQnyereAYF0B3BXe5lZeZXyQ788U8TmIrb276Ckd6dNmtUP/uZpGnygIXTeN3wfmesSvqmDtuClPdr4xXw3ieGK8T1geYgP22gwxg2pyh4YJRDRZaTx1QImc01DeZBdqbjufyv2YWoEWhaqilopcFzYnI30MVdlm8azz2bhbtYsqcEL8G3ESGpKOvQGZeuL5VmM9fMMYSoF/l7amuHxZyJ1awMZQzdRKMvjJs8lBOYaW/SeFdb8p+2Vm5pgQAQzFaw/l84fjxxPn1xDhOMBHunzcMHbiTgfcCqoQq1RmW8JeDyH1ECk3NeUV1H+ZEAIN4QNVc0wdBi6HWijFGWD8L+H3RmfDdaVHyS01/WVA3Q+4aDMy+KZwg99XkfL8L1M9AP9dIVUGpdSnEiymFa1pu95RdwOYQJCm/xROZilFm5w4ZoBSaFBSWC+216CDCLyZlxlWRLDw7Xs8XHj9+4vmfnzifTzAIx/Hh3qkQNr5D6oZSCpgKSGgKXokdyJA5ZQXEwxr66OAxQL170KtuliU0TTcFEWPo8C1IPIHEjKeIwhSG/zKbQrzGbwCBxcBqcKuY/heLYbrk/KSU+bu/sh8TWV83PJCall8XMzkdLAXlEzCeBMwDrG7/SAEigXCNq0SwvVDXmw/QNJFpHpwo7r3jPA48Hw/8+PEDr59fYAKGdchWUD928G2DgCL1QqCBaXKVCEb69v4gBxY8BH10EDNGH86kg5worxVqBiJGH87IvAkLSzNcaOFbOKC+Xai+5GbTaqaXCmDk6PAisGuiFph+9Jq++UehXcLB3FsuuGAvKFgGZlqCY4k0i6MTQiY5C5gLmAT+uBQPthCTqoXTdw1NZmEMRWsdx3ni9Xri+Xw6hbUVfJwneu8RjkQ8UxigeDj1/JxSsPUJKrBM3kSA09d5QF3UYHWlXwa9+7e3mBDLn5nJlEsKzBf/PcBmYgwOsBfupZQlsF+psRTWKsPQ/x9Nyxs1T+rNSIdo3pQLzCDsTKLD/QLhDcI1hMZT6BbBp2nUhWiaitRmnhtzmKLrQBsD52hgAH0MdFMoDEYLCJEIhAwleMpBBKYBG6FpIQQ1C7R4jX0IaoCEv9CrGeqLYKBEp0kO0Eq/iKTw4JuUc40w10pEoEVgWpCsTwb9LrAlqBTalWyepPwvube/m8d8MPOd7H/nuCScrMdx7HYihFYgtLQMCHNiHoa9M9UZgMb7ZkpFPAuOvOjy/5kQjCCQmWC0inQo2RPSGVwb+eeTXjXMNTvjMVYNojj+zh4KZFD99wv+bIb5XgDP10+6LrfiTDU5+/MWnQMX3nd9XQnnq+ByDZfQ8gEpFpRSCyziBJlv6LA2g0sBQRwYkITQZGmaZcUSpolPU+QbWVZtx76h3nZs9x1jNJAB9bahbBVSi9M9sfPBlwKkqMNw5oSnS0sNdjAlM9B0LXvPIF9RHaBv2nWF8ICjwyU0Czey/L9bo1zDJTh3DUsA1+9Xc/5PX1cTWaIiYgLI1LSZQpkq7//uCV5nICyTruHXGLK0BwuBrV3BYI5MQiBUkYK6bdjvN3x8+0Q/TmjvXm1lio9v33C73z3VU8rk6fwtLz6XAEiadcyfu08zKGvk9Ch864AOQae+eIy3hefFmVKQCZeMdqI73xgLRcqlLC6F5nDdywRVBaquPYBhjCWMq8aleV2PQlPI5SKtBFwhWgphxMOHMMcwEBimgI6o2Yio3wUV5pFc6E70WGwEnlhgBt7FsG077p+fwPAAmYmw7zswFLePG+7fPrHddtc2Zi9Xu24Hcs1by4dpDsPzgNVA3J08i1R/72MJIpd/3t8SGOLvKcQEU++gagm8lIptq1GCYJ7Q1QFVDoH5XbovW+UGVwCUiHKi97EquUo+3/Q/069NmcfPIwbhhMsGHc4tes2fm1O6Xhmn0drJ/t4WBLK/a9024EPBZjMzfdt36BjYtorbx4cXnhYJQbhJUrNlHfL9OXffNXoPqB5IVYdi9A6RvnxQ2vB0iJd9MWPW6bccUGU1Vv4Kc2qa5xY9L6nQQRiDQDTmuqb//CezOHN6WTGQglQXZMmgzheXPOF4WVy/a2faLZ2wk/EYw+/WKAUma8cF3E00QFhCQvjENM2oBaYVpre522qt0NEhIl62kFqGRKAaixy+huxiMaJ4NIJ3ADB2poEy7V8qSulglkCyFyQ35SiTdiNgEgtmBpk/CtOGVeyb5tEr2wa6ZQrq3feJMFRlCvGa7Y53njHuFb+UVEEgUyAzWouHzjfwLHH4VehwTfOSOjjJjMtuTHNisQGmh0vqx3e1r4tAapm2nwHUUqB9uICZAWGH/eGPCBwZbYSWLxOHWTSURXfutS19kxSUMtAz/5e+J/yO+xiB8AINqXFZdWUGFAEGBWEACgByDZwJCtfINInXeItZUIqvf2vtPT6z94Ki5e9oadrSLFoIL4sxofNGXctcYKpuzmwKhtefIbjkH99ByS/AhwkkAq4FxZxgLUUwuhepqimUPDjHGCB2/pABsMU7G01qyRLvT7u8LB+wBJfFrSwSVmHteDPDiLxdBux5585sLGuklEJbzMjVHyZs9k2RvskmcAHeq7j66DM9Zfgl/ABdNW3tWAd6V3uLiRY9vrm6AF+cKbBU/4tLofkm882WVvgNuOBKJFWxsr8KhXZD1wFNBiaD1yRpkbzdQnaek1mbcIYcU2heYCtRkJsFSDCbC9h7RxkDI3b+lSAGe02iXdSBf1mzdx4xyYW1KRYITkuUwOXyOhgUehHaPzEi+SaXCqxhnvUYqhihYR4nZry1TKILLgWWO2xt9Wmf5w6M7+xxFgl5Y0Q3DLiwztHQxoBSxFzm5sd4xV4IP6uBCtxkGd4yo1f/FCV3RQpqqV45dkr4MvWq5M7ovUF6FCoVjdgU8zk1gElqoAsszSwm6nOk+e63FsvyXhFwBSe/mkksoaXUJ8xbbxhrqmoYQ33XaeZsM0b6lTFwIRk0fGAGmNfUzMV0rcKQyGUqug200XD2htd5ovUeJE2BkE206xvEE6CaMJxc07KQ9s2XYj1f9h+U6hD9PIqn+81TLyPCAundta4Urwbjf8pYJxwIE9ejqlnTL+rfNA0RKlw1+NqppKrxXJcSCBhKfugEjfMGQmhhCn2HKHREbBK+iEnebLjft4bZjEXMm0yzkFrNaT/9u7H7o9SwNjqO3nC0FBpBGIAyWBVKDk54mqDwHunPPIEVip2lQgaCBlZxn1JrRa9bdNt4JZkNC6R6pZOCPXH/keZprltu8gRLS+uuptGmEOd2ugTXSaldKT8Mw8Ciw8rEVv8UsIZZWx+acJuQzP/cGTNIDZUO4tbNw2oqmCGBS2lq3ASuFO8BcwJ5dLS4AAZpPNQF2CxOJ3Z/oM1Je0UoM+tRNDpmJuvuDSbZ2NdbB6ghY8IluI7eBSjwUgzwRWDLN719XaxLwvf0bx5YL017D6gFIh29M3pnELVZo1muUHItwoLPs4vyUnBDWOmILEhNrfFgEsE8BNkZPVeOulzIRoLkK5Y/cE1TAoYZuim6uUkeOpa5Jg6gxG/Cmu8T6JBLAYmbb04OcHSMrvBuxFWu7ULbse83jO6U19AojLFl8oS9z0FYkJxs3vs1EL7A47mtMP1hKIMlibzQeuHi667eL5idpCzk/XlmV6Etgb1rmC7TGHUYBE/mEQKBXVCT76ARKKxHI6B6oQ9LukwP1g2IoCE01KLMwzUtOXGLx2UiEMvM/DIJODnOMMcAg6RAigfkXrtPrmU6MEw94jSbUH5RTxv2/eYmkBlt9Ai2vQbFqS8XGhgeYIPCUtICPVPzL8BnalACN53uYmoXvWfAzWwiW2mEXjwEKd7B8r4fEGjmGleoenmbWfoCz2KXbN5jv0nXNIvGhuDcwn4TyFswjDAsewHIm/KYMBDBZZg/So1i8RR+xlZSIbJ5FwzY6xoj/DAif10plxYr8oqvAYzuTZO9NfTWkeyoZxo27Lv3AIAYdJ4eM4VJG6Ov8KVcCpPgpt3j/AjiL/bLO3q8msxYYeKNHaseZNm2hd4zd+d1mmADD07z+AuiDNTncHP4NcYiLM2QubXC2XWZXTGYgp7NFBmPsAMDBxq6yt0MsCCBFR5W6IhFkwIpG0o1gJ16qnVHLTtq2VBYUIhn06ZrrvcWlFqX0MiAAQx1jWmt4TgOjNaiCV5ALCh1w6bO/SBoMJwnxvAmD+sDwzywF2AFomawKEXMDD0u1cJCfk8LCOVSG3pYl7RuCdgmM0WAFAZJRTEXYPHYLKSdAkMWhCY73aFXISDbdmJCQFJBAe+z1XamG8Jee2l3fE76ydAqIxdcsi7Zuz2qQY3AQ92E1Ru2GkITgUQmYgIlswAgssoM0vmPgdZOnK8Dr+cLozfUWkCUfXQVZQO2EFoubzsNw5yttx6hCxMg0bxIvm4UFWpZSs9RmTZR9tSksGuJIrMgyfTCQdDyc8IAywxJywxAp5pGTDEFFt0kWfRiwWZz9Dhzcndr93iMcKkj5ITfuACbAe0Z9WcRo0SAT2AuQGFUIxAJVM1HN+w3bPXm7cR82SxQmHW/d0Scpb4BbQyM80B7PfF6PvB8PvB6PmJz7d4wEn10UioqEkiF34tr5MYl8n+zqJCGAUbO2IQrIRaIFjejUdHsrL25yVOFFvHSe2QYhRnbUmg6C0FqQdkEXFx7i/shSygwEY1GVD9Cy5KDI3M0ll2V2aaTppUMl+RplA+kv4oakESUNiKRmnCZMyTgtTtJUErMz5CCmo33UlaYoR58qgFtDCD86FDvFB3tRHs9cTy+8Pj5A18/fuD1fCDzfGlKWYpDbV/raeYRdSj+vhYBvcU+vEJ5hBD8+UUGssSgpG9lTxebCdQEqjLDitnJE86N2SCFsd1q9K4XL9idArNUz6Vl47rA6iYPyQVM2ipBk02lnbFYNKyDKTLFzjD0EJjv1HDake32Er14QDBKQYCfa0qlTHNjZpk7RR+Ks7u2tU5gMtjoOF9PvB4/8Xp84fX4wvF8oIc/kyLofUMfG0qSvWFFaq2rwTGENhD9BRd+FZc1HMMwYgOxlABhBqCiQGZvAAtD1D/fKOhBo4vACFIYZSvY7zvun3dst83zdUgmNaiP1LKhA6P3dQUSdNpFp5BmJ00KzCIVauRN3mD3WTYw1NCH02FmFjWFKaQ1mYAD1i/GnKMnLYqAKMvzwjeap4r6GGitQ0PDYAOjnXg+fuLx8ztejy+04wXtzYPtUoKq6mjdg2mWMn1JCi7fK/u7hTAJZiZv9UiSd4yOs8cwAfFe0xVOGgrJxDgkBFZfp+wRSKsjhVG3itt9x8fnDR/fPrDfb05wYwKQjJYSto8Z2J2txUgjA8PAECgPKHrUA8LZDSOwebqECcBwkzsoUWE4cfJkYmFBYQFzmcWuMwa7TCpwM5nYK92JTj60RxdnmvAcEqPjxPl64uvHd3z9+A+O5xd0DBSCZ5YlQcxAO0+YAVLUPzd8UK3VnyV6wSm6M3P0FBM5PxhgZOhAbx1tuF/zcrwlNIOChZYLgvrkAiEIeddRqQXbVrHvO24fd3x8+8D92wf2fQ+hJd5fsAWmHi+13nCep8+hOjusq1ddQcDUQCrRtZLIiEPT/MsZEUOHoVvEa+Y3V0pBDYZdQmhO3ZSpaXLRNoCClXDA0cfA6C6g1jt6H3NT6FD0dqKdL7weDzy+fuLx8yeO1wNChHLbUavPo2JhR5XniaEK6TXSNQW1ROggAefDRZBpdLkGWWB6MY9BdLcBou4CKQQSOIlNxcd+mGJYx8BYQiviAf5tw+1+x/3Dr9vHPQYPbJ4ZT02bArPFtfXW0c4T7TzRW4eFppEJ2M4YtQBn3ylikMssjWGKBr+6x9Bxc2529rqhls1RaICOOcAl5mPRrPe3aQ5762jNBdXDdPdomEeAh9EaztcLr+cDr4ejxXa8sO/+4Lfbjn3fYQY32+0EjwGWgTK83qmG8Ji8v1tHnyiag4zWeM6hrvHr8jJ0CmzQdYCtBxMUAoYnd4kBroJt33C73/Dx+YHPb9/w+fmB2919Wa0VHAPYygrG7V1offhEuObXaAM2ACHCQMdAwzCBCnv778wBYVbtdlU0G2hk0MJAFQgVn51VNpSy+QwrdoFljks4BeZErMYO7q3hbGdMywtty8A/vpsqtLvmHM8XjucTx+uF1poX0xB5sdDuc056Hxinj7cYNMBR8eTxW/QNBJAqvfkojOGIOjPrZ3OLdLSG42xo3a1KzgwjYXB5v3wDehqImLDtG7b7zc3hb5/4/O0Tn5+f2G83lJr9EbQgfwpsxlCaA1ESjPiCOJGhUAwMGjFfSqbQZkGm+s5rOtCgGEwAFUikPmqJgWNcpulL9ErB0lP0mbnfcs06jhPH68BxnGitexyWmQdbsd9oHe11uMCeT/R2AuomraavuHusB5w4T5tJSxig6Yso6K3ilFMpB6gIbDS00cMEH3i9DhznibN19OHcphPW3hC53XfsHzdsW0WpMSsLClGBQsHC2PYd948b7p8fuH3ecfu8++/s23tYRVFuYBlnhCPPAWLjsnvN0vS5z7MRThQD4OFshwIWfqYPRU+zWL1wR4hRQ8tcYJ6vG1hMgMYYCRXf8T6HMnbyceB4nTjP5mFD4mNz02x5393N+vl64TwO6BhgYdQiuN1cYPvNg+qcIeLAAKAs444FWtyngEoBmDHMcJwnjucDz9cTr+cTx3miDwVYUDb3mft9x/3bBz5++8Q9hCYlmk4QnC68LH3bN/ddcW23HXWvkBplg+kezBKIpL/I/FdqzGKgPePBYGSqAw6bZ15oQJuiH80XVQeUXWAUYyl812b1bUzW0XFJDPpnjCg/AzB5wldo2HmeaGeHJuPCyfO/01Xu9xz1wpxNSQefM7uYGXxypJRsRjErSzVbK2MupP+8jYGjnfh6PfF8PPB6vdB6dy0QQdkq7p93fPv9N/z2x2/49vs33D/uKNVbtACbmXGF1z/W3ausp7C2Aq4e55p58dClWNUmWTkZ/eFx2JzFIRKVTwwxQSGZZK1EgtGpoobX44nX64WuCqoFQjfUmz9MLZEV4Jiq0yPYTjMcBZwp2BSaa9k5hdZjhESiTcoS7mAiCL4zMy1ERCG0G/bbDdu2Q4p3LhvRTAddSWcDJrgwAK07jG994GgNj+cLX48HXq8neu8gItR9w8fnJ3778w/88edf+P3PP/Dtj9/w+e0T+313YpqylMFjwz6684nVU0lS3awmKWEcYWKwwi60ZJezLGAkk09hUooHyRxCg6BS9QsCMQIPF1o7Xng+vvD4+kI3w/Zxx/2+rUl2pTh8Ji948UZCN3c5MtYX2Kf+AF5a1lrH2U60szlqbJ7Kz6GfEvQXZwJ00luRRSmCfb/hfv9wx75toCiPU/PgWEPFZmcOCEMNZ+9gHWinx6tnhEGv88DrOPznTNhuO759+w2///kn/vr3f8Ff//43fv/zD3z+5lpWd884+JSgjtZO//12rNGNKazM5iMTpU5YZ0V1uXZj2DRTUXso3uMsZIAArCE0rqhUUE0gA6AoKWjngeP5wOPx5Yn0TfABwxYQv5Yo4Axer/ceyOtwkxo7VkpH6e7zMmPc+wUtqtNpXgV1qaVAUmjA6hErDj5ut4DPN3ApPkhmLkZUVWU6SCqIBQqgde/H7r15PDgUPbIJFuhy3zd8+/0b/vzrL/z173/j3//lf8Ff//43fvv9d9w/P7HdtkCAHiL00XEcL8+ivijCg9gswbDkvbFlD51FsS6CxroILukoH5/kmWFjz0dRCG0LoYl6RlihGKOh9RNne6G1I+r7NegYH8HEcsm5RfoCkTlIPjNjPB0DIJoVUb1350AtmyQuJQq2qDHtLTLlhFo3EAG3+4b7xyduH5+o2w4SwVBDGx6WKBB8Y0Xddmy3G+qeJpQiEPY8G7GXqd8+PnzEIAEfn3f88ccf+Otff+HPf/0Lf/71L/z+55/4+PYN+/3mpq84p2khNBB5Ft0U1L1IKUdnAAAgAElEQVR+kmWVBLq/d14rO5ItYrySUpwpFWS3IoOKp1SUY1WVUODJz0riU326wmygjRO9n+ijQbWDIjlaa8G+uZZRLEB264O8ZLpUzzmVACNZk3Dt35pAhRiQLCzKOkVfCOvdGf3WQcTY9zv2fcP909uo9vsHZCtQEPoYOHtHC4hOUlH2Hbf7B+4fn94Uwq4Z0B5pEnG/Rd+w3zaYDWxbwbdvn/j9j9/x+x9/4Ntvv+Hzt2+4fWSMVcGlgC+aBCZUVdSwHhboNbtjg9KdydGo8pj+ttilXDjNTJYTZCO8Rp0hBiCIIdQk4AEY+3jZPhq6Nk9NsPks4hpatlUUcXOjw+s0TGMesTAqEYosMJDx4oT0EfvPzRQkcub4hw6M1tGPIwLlBibB/X6HFMbt08fzbrcNxP761juO1tGiFI8Lo243bLc7bvcPb6CHeZ1Ij4RmqSAGbrcNRQjbVnC/7/j22ye+/fYNHxEM122D1DXrEoFA8z8muNkuXrpn4buzqkw160xDmQDM6u9ffdrqrw6nntlTM9e2ZPCzZj0I5mEdXUNo8Fp7Di7N5yBzFDUN9EgmjqgjIXh/s8+wigph1cheZwooG+xoCiyTlElhna8X2vPAaCfIDEU4CnUq9vvuaY0ivsG04+iuaV0N4JgeWzeU6gvOpcLM5xwje7xRUMHYquB+3/D5eY/rAx+fd+y3m5vUJBuQ3zFJeYrMhnBBKRtq1N0YWjAtBgwDdwXFMGvKQhTLsvBQQcpgMnYzMi8241ebpmv6Hwp/ph1tLKGBABb4TKuw+86Amzv0sSpmZzFsFOeoXSuZfTB0Is/UOlMEYRwsyXHgeDxxvg5o76gikPsNtW4B8TewiA8wU8M5Bs4+0Eb6qSSpC4wYY4ZAC1V6tqFCBLjdKr59+8Bv3z7w+e2Oewbr0WKc5i0MxBUiIQt7iwBaExGahxc9gVYsOjFELg2OsfgT8mOqLs3dscrg7S07a7IqiBTq07etO0PCBhI4xzYF5vUVfQQBHbsruWpVJ209EWjTTCIz5DWz1N7M2PuAxWkZr9cTz8cTr8cT7Tg9ZNl34EaQsqHWHVy8lrAPRRuK1jVAiEWzvaNMMHv2u4+otdU5nS7bd7fKwarcnXK631D3GiAibc/1e4os/4xGFQaKVFhx0HVS80E1bQAcnxnmH5N3dCmVK15+Q2VXHG3AHGFEqwUHEfApqc/wEAMXJ0mlCqgQjKOqa1jk5060njyfa1cfht7VeTu1SSGJCKhuPqdfXNPGcKLWH9CPWjmOF47jQD+9uX7UbSY0uVQQ02TiW/eRF314Y4knVwtYCkDsVNTZwawz/+X5M/fzpQrqtmHbfeSvlDoBkZv2hQGWwGjpRmzGbELMvCGwYlcLcHUpvfEsffjHmZrxyXCLwQmWMT4o4qFITVvQxjnSyISAwuAaxSwGyF7A1Ts0fQ6+eiXUeeBsPetioGpoPWKxSNU7nUWQUnG7BYlcARDHWPR1WbwRkwfRTOzE7LYFW5JTGRQja3SycgKeC2QpYKkA2D+/RUFqNIZIoFVUuvS0lTlKA+zZ+esS58ZDruq0YDbHHk4KEcH5qgM6F7ljgyT03esLwIyyZlvopBDoErOF6GJqQJT/UJIq6i1KhSF7gejmcFyd0uEqMIb7PINr2XniOBt6V09iDkPrIzTNZt6MImvs9SnOUTI5i9Fb9/HuccCCiAuKzAmB+/3ujerCscPD5M5HDJAFTwl5C6/AQBjdO3Ysnp0YcbBRAXCZfD4F4BvB90YwGQkEQqOuNf7pKmaWezgAGdr8Gi164XwmCjBApGCK0SDGKMB7C9K8pnLbRf1s1vh5QacBQuBNILeKSua90QqUsoGqQMnQtKENm7m5dp44zwyaNTTNgcqaGEDofUxAZOpUDwwzjwU4hVWFUaMsoZYaafnihbHRWDAm6+Nm2U/d8BrO7BU3u/aTRbcmux+qkQNbecMs4sl6xwUWZqRCWfmTdVsrkasWPr6fOPvhce44odp8KDYYaD79gMlnbxIUxrwg/4zTpqwSZ/p3IniB5tTLEGZhyF5RbQcJQ7tHgoULqDCGDRfU8Mpez89dG+38AylmjBgyqqRJYiesz3/3oWMeLggRVHx7S4AKwIdJt3b69ooWqikwxcxg5P/n45rF62Yv30K4qX1p4nR+B8h4Csc392J4FvpOqjA7cA4c7eUsUj8w9MSwFrk9ci3DAFNORY8j0nIY5TKHFDdgc3dkwSnFz7OzhRBCsw2VCVIrtPt8KjICxDtPtJ2hTV4SQBRdJ1UghVCNFuRP/jNSL7XErK00VwByzK5Ev9qA1xv2SL6OMaK/raJ0J5+lSO4/B1TD0yMUwtZrvzizl3nHZhXOJo8LO3PFheSvz/kp00KFXzOkUqyKrd5PnOcTx/nEcTzQ2hNjnDB1ofk7MOLpHH13Z1aKxwSpZUsw+aE5UomAOQ1nNagQiLx7kqtAt+GTt3s2YQBNO6wN9OE+zNRcIyqDqADk/sQrX2gGzNniytG8cJ0fCXijugQJwLBZm+FcslcKlzjYYb/t2LCFeY3d3keYNqDD/bDImk5wtTAiDoxcaCN8js41iGJGGCUB4KYs9fIqMNWOPhrO9sJxPvE6HngdD5zthT4OqDVk+5MORs9aVB2zO6lM6I38et8pNM2XC9C/vO6eiMECEAlgJUqdB8bZ0VvHOD0ZOZqG/QdgMTtKKqRsYNmistch9xRaDNTM0GMhWwMsxz2FLYiimxb1Gd6EUVA2T8a6MlAshM6wYWTRrNqMSblGfwBLgD/zjh3yz54dRHgnrtfQt+s6pvm/VGyPht5PtHbgOF94HQ8c5xOtHVBtmIdYzLh4BbMaPrJcR7ziwoD479nlDeB/kAttVeI6RUVksOEH8pjC0zXW4rjI7idMgUFcfQSaSOTNPNZxrYvk5dA5DuKahZg7vev0DWmueuSozh7HlYh3uLhWxtS6MJ2jXQpwiSLT4M8pLLBSonrYS9VzJJT3C6xS7wQbq5HwupbhcmJTWTSyjNC0FoLzy/nSEUe1+PPme8VUCaSLIjjESu2KDyZbar36p/OgHNcs5894jnT3eRqRi2O3yQ4GfPCmc4nhW0oOPokeMq4TchsbiBU5V8rXJhKBvaN3cysfGfbZDx3N7L11F9qlzdjNCmaVdDvbFBoAh+DmLVx+Ikj19t8os3AyJlHaanUMVz9fl0uY230KzNSLoLRPTev9DMH5xtYxplmc5LCtzTDHVhChrNLSGWBckL9B1UdEzB6qdNfkgawzCmFGDO6Q4wk8gdnQ2glTp27ABTJrT2JOYjr62DyejEyf4j+xKH8zHehv97jMyPQbBhgGQF57eJ6O6HR0T+P07rGR22t/Rssh1dvFLK8BZ5lUSDex/j2TrpRh2trwM/bNbpr8XBdU7xGjXcbwpqnLJhYCQ1JBlk97V2nfeVm6ljY8TVQmHnORL5NpoBdTsZKdQzOBGQEolygITcifkHt5VdBq8vCmenjOSfUyyojj+vs8YMuEqA6M3tBS8FHvkWHEr1MGsp4xYgPkEDTiHFa26CwRB0Oc2rZs4oRxbx22GZ+NFFyf7M7q+1tAawos6mDqpXnTS+jiDwv7mZng7LNOrfUvvv5l7vb8sGxTSrJTgyge3cAKOKvQIMUv4jprPZL2mexPBNlzkBBHuqcWqEZHS5ifEXDfDDipz2qy0QeIWpjYVY6mWaMZDzcGTSFemcOcsy/iHZmlCkqVaKa8zIQEJl/oAvsV2tlEgVNoOla8mOuXsR6idI8LaonjzbLC+IpUciT6VWCzLxoUxKZNYakaSKMTMrs+0oTGws8dP8zbZ9EAOkF8grkB1FAKBVpbMxUpnPzUBFsZ9VILYNvlXrKpP9qFiKKYNbVtLdx11sdEZ3/7uwFBG+XoDReYp4lqjaOZLwJLlJt/XqmJSWLNtQgNiw2TFFf6LFcMTzQX8ZblfdtjhqQ4IwIsgV0b40eYME8lrPEPNh1s7M4Zm9gEmFc2ALjWNzLMCohPiDQQd5hF3kicVSCKmZvAbDrMy5vqCqjG4lru4NS2NO0exOZMfJ92Tuu+pqWYFNBc8lx0nzOyzGEpPM/c5os1WSgxXVL6Q5uCe9tcswh4bXRK12MrMz8TpWXHvkXpn9NYY97oMguXiy5xWnbZYjn9zDi7E9Y3s7CmYlMAgAHrJ4YKiDeINLB0ZB2/Z7Av/mH+LVFkmF9Z8ZnpwBgVtQ5sPZogegefUeQZHKVvFvub0Cge7rIv5qbL4qZSGKXQ9KNp/u2yYWAO2GY8e3mzVQhscx6L5vQjvYZUCXi8s0ikzIrsWm6zz7zk6J7YCpdds+AqwHOUhBlF+TRAoYVqTpNOUjOc8TqeIx19MCPKYN5RakPtA1qCkUnPOJX0amSW+XCWLUaoc5Y0+IF7tVcUaZPBMNXJma5MPC3AEDBwnUC4AFB2ivosDwrfG6RwotVhIFKY+trMYW7ZYRklAzbgo5tiTqYl3lHyy5L/zFybm8bZrCIbqni6qaj2KeWrT+sR9wyNSdpDom+4BIPh6ROKPieC+zX2NwrtDISVBaqqcN63o9ZlfqfALkJ24YXA3tVvsRBYMcxq3o/jLGfsdMkVJjS/CG7+Pl3mU9KqrPbpc26+E2xomOHR1a0Lwu8bQwNN4qJtZiEwBUzJ56bk/K5QBLckPrODY9xHnQJz4TFPn5ZOGKuZsPXZCdJaAwxePlZK8Hk31G1HoawlWcQ8Zod/FjGvkYKGCCfInCO8zObPBZ/+YprHeNsAl+k3l/mMnXwxd9nIX8SPyMzOzgQDFLFQbrYltDVRL027H3jEQOS/0A2tdRRp6FxBGDG9CFhxbtxPaJo39biwfAJtTFY3AWz44RUR3HuDZSDGOXqjzqEBBPG6xxWXOVf4eh34+nrg8Xjg9TqiwEawVW9g+PhUfIKj7fYS4AagwWzgSPZgBZ6+UBmUezdKjoQoUiL7TNOZT0c/6Sz8AjziJODomMnhacJe0p4C4tSsNJQ5V/lNSEvjsgKMJYtMdfKVgAUj1MAoILGI2Tj2WYROc5SwC82fu6BwRecOJk+9AJhjqFJgta5LuML5XacIy3nESUfDM8LHceLxeOD79x/48f0HHs8nRvc8zrbt+Pz2DX/0mI0hBXUiSzevnvdZ5eVpidZpRrh0z9R1yeVM0QwFbRWrLsZjQEePMu0WNFA0M0RTv0X5gQjDa5eyDO0KRb0UgpAB8ppNJZyH0OaB5yv7oNYAGIQKqnQIKYRSW9MNhCkMhVYQTBkEP96liKKIorP3+WXurbDzsTUKkqaW8RKYkqF8//41Nex4HXg+X/j58wv/+c93/Pj+HY/nMwZOMvZtx7ffX2jNYMZQY9w/zKd5C0UjxLRqC6aHmanFADBENmzbji3ad5ewsjE+sSxNcOSzJl1YI4XVnHQ9w4xnF8qV7ZhAi/wg2FXXaZe4wt7Mak4jKjGLixjwmfphjYjQZaA3hYrCBH7kCkkAbps+Drw2hmfZCVoJYwCjaJxt4KMqvA89JgfF0WZ5bs+Miwko//f/9T/Q+8BxHHh8PfDzx0/8iOvr68urnJrX1e/bjt9+f+D1GmgNaN3w+x+/49u3T9zuW7ThRmVyzoKMHVtqwbbnzOB79Il57FGKd5S8w3GLYDQnLWSZwoF2JjPujHnvDf1sU9t6tEed7Qx+EZcebheaEoGzxTYExxQtWbVgq3V2rILNT2YCR2ya8ZZGgsAFxJB57xq0HpBhUgGhAqgAFedz1X07c3NhFJlWxwuSFhEwQzADyv/5f/x3tN7xfDzx/fsPfP/Pd/z4+ROPrweO4/DWouHzQ2rd8NuPF16HorWsovJdzOLnXXv5X0BoXrPqa/VDfEw3lPqB+/2Offf21FIq5jFW5un7FJgDo2gver1wPL2Jr7cTQzty3Gyi3ezEOc7Dh5aNsTIKBXOEhnfkxAjEiLmyHL5Gl0+2GBsrrhNkp6kamPDdE8hp1yOLjaXZRgjE7WmoFJoX3p6gMOclK72up4yYZz4ciBHKf/2v/x2tNTy+HvjP9+/4z//7PTQsziwLfwd439jzNdC6nxvnWWJnCmphVLmDK4PJAQhjNSaWPEEXO2q94bbfsO975NNKBJVhyi4cXWunt8q+Vu/b6/n0zMGFGLgeRTJi/klrJ3ofcbABwYwBvRSQhiZILPa7710DaNznXA62ozRX+hYsD9LYmDY5xRy5lAE8s0IEKGWglhtG9UZKkIMZiTJARCzoBUbDmzrJ36/8t//2/6D3jtfrha+fX/j58yeez9cUWNpSM4oBlS8Q/YidhKiUJQgrSL/BPiq2QiB1qeb8/JUNDpSYsxsjvZ9Ea5LWqjni78Tr+cQj54F8/cTr8UTvpy9JID8EqhzRK7dIA8ulm3Hb7F0IiL9AJa0SuTDx6ZfpUlaAMFle/OoNj0yH02QA8myZCQs1hB3gMifvcQAPd602swl5Jvhb2kl1pj7Lf//v/wMalVKv48Dx6mjNc0xA1EpEkGtgtKb4+npNWysCbAWoPCB6gPoHcKsoDFjroOF1GH7ma86/4mlqctKotw9E6BGUVzsbXq8XHo8Hvr5+4uunC+14PtF7+IE8vT6YjQwPsvCHsObu+yRwm+V0XlOW7UeIeZSZr4/Cn5i9b8ClS9QrsTztdOKgApgfT8mgC5PkQjO6bgJnedS8DMIBmGfFCZc8XbgIH2PlU3008njlf/7PHyvKH16+DWTvl4t2HePiFNZx+EwOguG2Mb7dCj53xl0GNjSUcfPzY4Z6tW5XYEQAGj1Y808izDPRYBPm9+7zORzRPvD4euD5+MLz8cD5emGMDiaCFg+i13Sf0P4ScN8clW3BzKsp0C/8O1Fkpp0IX6cldrB2z7hnad80qSHUKDYlesHMUEaLeWCLfLbwZ0uLab6H1zQ6UrGM7zI2TTKcYk3Ii1eNgPJ4HivojBdnKdise7hktH0SuBcGni/C+XqiPR/ozwfas6JthEYKriXq7RWjJWNioAJMPU/rE4JzUnHFRK31S5P8y/1si5ag7Kb0vR3+AitsYG9kBBC93m6Khw4w0WyAl5KD0vzZWncQw6cAQqhQkCBmpqzSOUM2n3SQpskcwapgfiW9kEJb57JdOMpkdjQEhFVkruELs2qZAJQ8oxNIem++29S0dLy40j8RkAqAQoZiA9wbcB7orKBTHBk1oI9w5rJBCEGQUiLYlJybYHKb3wMRthwt8Uv7LgcFFREnSBRCghohxnoMmpPtCN7A0bijDYYC0SzoGtp14DgP0PMLyi6U3XY/zR5rHrP3ja0RFYYWhlYTfk1qE0m7hXuwrGRbq41MLyHbmeN3FjmXC+V/L0QZES+u4KICmA5xvoaChyTsteC2Fdxqwa0wNjLQaNBj4CSCdqB3wlDv25KqkIum2TQ0kRQiezPVOWNqNcd74SiX4sy96vRdRQi1MLbNx7VLiRgx61Dgm6T3gVMkzpAx9zUh5NEbnq/npXVrQGlgsxomcgR3aVNLnM1XEA1MdZ9j54AsXQhb6dyjrgkGLjOLRspM89hFmDaFmgxTyXrAa1ibQSHmoi6fRuzM/VYFt33Dfd/wsVXct4pdGGIKa17GNjrQuvtBLgMsLv30aGlu1cunMGtKIifmtY+OBAlen8EoXvRi4ugU3irs86427/rcajQihp9zLgnZ21aLeBfoUK/sIkeevZ9o6vX13QbAFnWdFtl1X5osyfMLkDhBPksJMztBoWIUnFY29q+TIzABnarGpNksoVtCM13MjtnlINdlJP3FaQrt8sYuT4ektQi2UnDbKu77hlut2IofY+zFo+qx3GDnJMUhs7cVleX4VUHaIYO9tLuvErMxGmx2xpCz4kJgKjENb3GM21Zxu/nYvX13oSVDn7GT9gA4RVAaezdo9qtpCyFadHMqamHs+4ZtK6DiIwSLSJAI5MM6YxMzR0k5IYREU4Pooj0U9fQhkwhVbGpZHq4+NUwvP4uayPKrrJb4EiXlTsisr5OotQj2mOZ23zfcbxv2rYIxojYx4yGaASbnaRleZx2wWYER/WrW0duB3lJoQf6yj/EDA0zJqFOcpOzTtPfNxyhte3WkWMXH20aBJyL/NYYLrDBBqAEW5eoxkqnpiOY9xb5V9PMOGzsIFVUKtiqohSFxL7Mai2hWXyGEADXQRWjzZ7nYF4Fldtuz8fauZUHAI0rRl6bZSiNcJOgakVVLdjGPVy277bjtO/atwMz7qyhPMQzOjiSCa/FGPIO37Nrwtl8mrws8zxdae2H0EzoaCMN3dhwQW0JIHncRCjNKYWxbmdeKy3Lnu9BUXHApdJj3gJ9mPs7iPHG25tYLwLnf0I4Do929fYsYe6molZ3Zz9jqsnKpGX5+2QVcmAWRfNEgW73nVyGtny+BIr8bsrBnmUi7KhqwTmiIGgMip6TSp932Dbdtw75tqNVPQxoywKwBwUNo0TGJnExg5vUdXeO0wQEbPg21nU/09oKOEwR1CqwUn4paGFXEBcdRcCOMWnOUE3umefYoO3jK0Rp8oaFGHz6Ol/zBR+/o5+nl5ER43W44ny+0+wm9dT9XG/N84bVgtuLLnNA3/VPAeLpo0EKLmMK0+D4bOlM74/eX0HGpe8x7uMgsYWneVHq5woytFtz2cP7bhq1WbIUxyFBGRxdvlxUTAGUy7En/6BiIbiLQMAAd1g+cx3MJTU//vBRUcbNciw9US18iWeJWMg9GWM0iGcRH5wvMx7eLQaTHbH/nlyxyim14E8drf+L19cRxf6Ldb9C+h48iZPsRkjJLDclRi2PBeEohXTQtBUAB5xO0mJnPurR1TR8XEipvAnvTsgVJU/1zPnEphH0roWUV+xZ+pDCIBqQLSok0O3lanaIvOc/1xOgAnN8iGoCe0HG4wM4nRnsBOadRBHuMaqoxW3g6/4gZRYKDDDpsAqe8d2TsFhrIkaq5QHQdPl3gPBuGArW+8Lw98bo/cd7v6B832O4nJjIU2jssJpO7AJcvu2qZzU1vl2o1W+PtLxYt+/CuNZjmUp0AsUzHeLHMWc+RscLcHZTtsglCXNO2gNdJHZVS0IdBQmjDYiAKLE7T6EAHzBhgBazD9ID1F/r5coGpVwUL+cyNWmheRSI9T5ehD1klpmuz5VMZUQyaD8zOBGILAlsA+CiKrjYnuPLw7MDjdsPH/Ybj8wPtODFahzIAGzHTuAM2Zpw15yPZ3wWGi7ZcbMC616lZWK+3rCddv/d+Jug0gPGwdt2p7nCFgFoYt63gvm9LywIKZ2mbFD9ERyEw855kgzdBKJ8ABSwmhekJGy9Ye2H0AzZOkA2fWMCGwgYhZxxgHToWbE6joAnjZmF9MDdgCJsjzeAaEbQV8YCxQMEYSmhd8To7nq8zGiYF2/aFj/st5pT4oULOWnkmPZJq4YPUh5bmwr8JTKfWeOVa4vNkhtbvpW+8msUpNPub0Oj9rxeixusaPQ2zJdzfqputmOPITDMXJeKaphCYxlwsU6g2oAN+xloIbRzQ9oT1F2w0kA6U1LIpMGcjrAODAhflvREc4Hh1TAiFAPITncwIxgyBAykE7hsgDCN0A5oazq44zoHncYYPZOyPDc+vu4+8fR1o54ka2QAPRHuczaYriL5oyiyqdfjlAiBXAO/VpimMd2T5iz9LQAigYEp8ae0FUE5yhC4x0VYFt2QgakUtSYTCD1JISG7kQps5qwHTHh/uNX6GEUJ7wfoBsu75t/isSoBAQdZBY00ImGbbqYa8QZjkbA/xGV1ckC1H7osAU/LpPd3HLZ3Nh5sdrePoHWf3DVLkxOt1eMY85iH380QX30ypYWwKChP5RgWa08q4CCw78LP3wYI5SbOYhzBdgchqNPwH8+gcbqprEpfLbwgRqnBwjhW3bZum0fufs6o4BBeBtUXq3KmYOIsMcBNADvVpnCBrENjkEosAVdw8eo0zLrvvgsYAP8orGvzNZFFlziDCqHt9YTSDnGfH19cTP37+xI+vL/x8PPA8vJO0q991TzR5NrSzoR8+3XXkCCkboOwMTRN5Fdq0VApkni6+I13PVWDXeO0XTfsHn/arWcy1WB/gppFRpWCvLrDbVrHV6swDFsfsbAVBeZWRG3JGyJgtSoiB1WQtBKaQyIRXociIA0IaD5jIcDl40zAapABkPcqMx9TPAYXHkL27wJ7PEz9/PvCf7z/wn+/f8ePnF56vF3oMB820lFeCrUHW7TzRizf6x+gy0OUQIQ5ncs27GXlCNccnJXUyMcM/CAy/Ci1N6BJauvRrbI8pXQKiYtdN417rvOo88M7C10aQeMEFQh7YCkYohwfWPm6hgzAgUAcdQqgClLiYY1JAalT+d9W23HizP5BAPEAaSBkMHR5MT4F9vfD95wP/+c8P/PjxA1+PB452wswnnBamWSHmldcd7exoR0Or4gwNI5icCGGyxGAKzc2gzw+zy3SIwOtvQHH5s6vA0pddXdY6a2YqW+yQVFlk6p6xFcFWC/ZaAoB4vASzqInwOViaLaszQamzPokB1zYbsBAYk6KQobJTRYXMi0ARjtrWZrpSQetKFTdghDnvXsFkyJPdDf0cOI+G1+PlU82/HjieP3EcT/R2AKY+14RLVCjnwQfenNhOT8ZuhSDw4Tag0LTh1U4K8/k/U2iYQkvE+x7/YoKQK2rE9GO5VZeAy9Qyw9+tZOiv1wOyjzCK09dnOymyscK7RxRx7pomCsJEVGSIg8QHyDoMA0TDk6gEHyATwmKNlEY+fIKkX5BWbjrnGIMqM3U4n0yHAtrNR2W8Gvrrhf66BvEn2AZq0mUlDuIhZ/UJDlyO88Tz+UIVglAFmc/+WkLr0XeOJTREEcFVYBd67Veh/aplGUfbfGFq2t9d2ts/O2p0LfOp39kJuQJmtBE7O2rrDdETFgusKTiFj8scAC0tK0yoRLNdihSX21y77P3/w6FTbGm2QHAUSbJ47mF+nMk5MI4T4zgwzhe0Ha8YwzoAAAFCSURBVMA4QdYhrF4ltlUfxsbi03wi3hs6cLYTr+OFrRKKmNfYSwite6DNZrPEHJggH7MDOoDupUpmxsT/KLBJfthci7I06qqzubvTp6369lKCrI1eLTeNAShUYaQxBXtp+WWKA/JU92wRcqEhUiU2yVuzZccvCjWl9mbV0zwqzccwYLETw/wA1uZNjdYPWD/hxSsdjOEItTDqJth371LJuNgLWyMXdzacraB3wRiMQbSASMwhNngLcd77rCxJfxtCu2rjr9r2ZhrtXWz/wIj8w1eoe5aqreHPuYi+l3w4ik7H+VbOHPEIJQTGDAbgvEXs0Ly56VNzG+Zn0bsA52Ik+Ro8Q35+8IB+jXkezTwy8gJmPCu9zvBWhI8J1JcdOln+MEf8XeIpMwSsD027WnFCoA9a6nXJwy2BXTQPy0TmVv3/AHIZSbnnWtPuAAAAAElFTkSuQmCC\" y=\"-333.08\"/>\n   </g>\n   <g id=\"matplotlib.axis_17\">\n    <g id=\"text_9\">\n     <!-- True: cat -->\n     <g style=\"fill:#555555;\" transform=\"translate(363.960313 454.77625)scale(0.12 -0.12)\">\n      <use xlink:href=\"#LiberationSans-54\"/>\n      <use x=\"61.037109\" xlink:href=\"#LiberationSans-72\"/>\n      <use x=\"94.337891\" xlink:href=\"#LiberationSans-75\"/>\n      <use x=\"149.953125\" xlink:href=\"#LiberationSans-65\"/>\n      <use x=\"205.568359\" xlink:href=\"#LiberationSans-3a\"/>\n      <use x=\"233.351562\" xlink:href=\"#LiberationSans-20\"/>\n      <use x=\"261.134766\" xlink:href=\"#LiberationSans-63\"/>\n      <use x=\"311.134766\" xlink:href=\"#LiberationSans-61\"/>\n      <use x=\"366.75\" xlink:href=\"#LiberationSans-74\"/>\n     </g>\n     <!-- Predicted: cat -->\n     <g style=\"fill:#555555;\" transform=\"translate(350.946875 467.70175)scale(0.12 -0.12)\">\n      <use xlink:href=\"#LiberationSans-50\"/>\n      <use x=\"66.699219\" xlink:href=\"#LiberationSans-72\"/>\n      <use x=\"100\" xlink:href=\"#LiberationSans-65\"/>\n      <use x=\"155.615234\" xlink:href=\"#LiberationSans-64\"/>\n      <use x=\"211.230469\" xlink:href=\"#LiberationSans-69\"/>\n      <use x=\"233.447266\" xlink:href=\"#LiberationSans-63\"/>\n      <use x=\"283.447266\" xlink:href=\"#LiberationSans-74\"/>\n      <use x=\"311.230469\" xlink:href=\"#LiberationSans-65\"/>\n      <use x=\"366.845703\" xlink:href=\"#LiberationSans-64\"/>\n      <use x=\"422.460938\" xlink:href=\"#LiberationSans-3a\"/>\n      <use x=\"450.244141\" xlink:href=\"#LiberationSans-20\"/>\n      <use x=\"478.027344\" xlink:href=\"#LiberationSans-63\"/>\n      <use x=\"528.027344\" xlink:href=\"#LiberationSans-61\"/>\n      <use x=\"583.642578\" xlink:href=\"#LiberationSans-74\"/>\n     </g>\n    </g>\n   </g>\n   <g id=\"matplotlib.axis_18\"/>\n   <g id=\"patch_43\">\n    <path d=\"M 333.270313 442.08 \nL 333.270313 333.36 \n\" style=\"fill:none;stroke:#ffffff;stroke-linecap:square;stroke-linejoin:miter;\"/>\n   </g>\n   <g id=\"patch_44\">\n    <path d=\"M 441.990313 442.08 \nL 441.990313 333.36 \n\" style=\"fill:none;stroke:#ffffff;stroke-linecap:square;stroke-linejoin:miter;\"/>\n   </g>\n   <g id=\"patch_45\">\n    <path d=\"M 333.270313 442.08 \nL 441.990313 442.08 \n\" style=\"fill:none;stroke:#ffffff;stroke-linecap:square;stroke-linejoin:miter;\"/>\n   </g>\n   <g id=\"patch_46\">\n    <path d=\"M 333.270313 333.36 \nL 441.990313 333.36 \n\" style=\"fill:none;stroke:#ffffff;stroke-linecap:square;stroke-linejoin:miter;\"/>\n   </g>\n  </g>\n </g>\n <defs>\n  <clipPath id=\"p467a3d2a12\">\n   <rect height=\"108.72\" width=\"108.72\" x=\"10.870313\" y=\"7.2\"/>\n  </clipPath>\n  <clipPath id=\"p2de7818735\">\n   <rect height=\"108.72\" width=\"108.72\" x=\"172.070312\" y=\"7.2\"/>\n  </clipPath>\n  <clipPath id=\"p60744b4e72\">\n   <rect height=\"108.72\" width=\"108.72\" x=\"333.270313\" y=\"7.2\"/>\n  </clipPath>\n  <clipPath id=\"pad0e3f89d8\">\n   <rect height=\"108.72\" width=\"108.72\" x=\"10.870312\" y=\"170.28\"/>\n  </clipPath>\n  <clipPath id=\"pc1bfbba447\">\n   <rect height=\"108.72\" width=\"108.72\" x=\"172.070312\" y=\"170.28\"/>\n  </clipPath>\n  <clipPath id=\"p93bc8b2c7e\">\n   <rect height=\"108.72\" width=\"108.72\" x=\"333.270312\" y=\"170.28\"/>\n  </clipPath>\n  <clipPath id=\"pdf2d323224\">\n   <rect height=\"108.72\" width=\"108.72\" x=\"10.870313\" y=\"333.36\"/>\n  </clipPath>\n  <clipPath id=\"pb95a8de39d\">\n   <rect height=\"108.72\" width=\"108.72\" x=\"172.070312\" y=\"333.36\"/>\n  </clipPath>\n  <clipPath id=\"pf8e69bef48\">\n   <rect height=\"108.72\" width=\"108.72\" x=\"333.270313\" y=\"333.36\"/>\n  </clipPath>\n </defs>\n</svg>\n"
          },
          "metadata": {
            "tags": []
          }
        }
      ]
    },
    {
      "metadata": {
        "id": "WoYNVTX53pXv",
        "colab_type": "text"
      },
      "cell_type": "markdown",
      "source": [
        "## Show wrong classifications"
      ]
    },
    {
      "metadata": {
        "id": "NfgZsX-U3pX1",
        "colab_type": "text"
      },
      "cell_type": "markdown",
      "source": [
        "Plot the first 9 mis-classified images"
      ]
    },
    {
      "metadata": {
        "id": "I6ZW8hKR3pX2",
        "colab_type": "code",
        "colab": {
          "base_uri": "https://localhost:8080/",
          "height": 657
        },
        "outputId": "60efb769-06ef-42c3-e95b-1e42c2937990"
      },
      "cell_type": "code",
      "source": [
        "error_plot(test_images,test_labels,class_names,predict_labels,correct)"
      ],
      "execution_count": 29,
      "outputs": [
        {
          "output_type": "display_data",
          "data": {
            "text/plain": [
              "<matplotlib.figure.Figure at 0x7fe7937c5ac8>"
            ],
            "image/svg+xml": "<?xml version=\"1.0\" encoding=\"utf-8\" standalone=\"no\"?>\n<!DOCTYPE svg PUBLIC \"-//W3C//DTD SVG 1.1//EN\"\n  \"http://www.w3.org/Graphics/SVG/1.1/DTD/svg11.dtd\">\n<!-- Created with matplotlib (http://matplotlib.org/) -->\n<svg height=\"477pt\" version=\"1.1\" viewBox=\"0 0 449 477\" width=\"449pt\" xmlns=\"http://www.w3.org/2000/svg\" xmlns:xlink=\"http://www.w3.org/1999/xlink\">\n <defs>\n  <style type=\"text/css\">\n*{stroke-linecap:butt;stroke-linejoin:round;}\n  </style>\n </defs>\n <g id=\"figure_1\">\n  <g id=\"patch_1\">\n   <path d=\"M 0 477.39175 \nL 449.190313 477.39175 \nL 449.190313 0 \nL 0 0 \nz\n\" style=\"fill:#ffffff;\"/>\n  </g>\n  <g id=\"axes_1\">\n   <g id=\"patch_2\">\n    <path d=\"M 10.870313 115.92 \nL 119.590312 115.92 \nL 119.590312 7.2 \nL 10.870313 7.2 \nz\n\" style=\"fill:#e5e5e5;\"/>\n   </g>\n   <g clip-path=\"url(#p8be1e0c244)\">\n    <image height=\"109\" id=\"image5f0856f63d\" transform=\"scale(1 -1)translate(0 -109)\" width=\"109\" x=\"10.870313\" xlink:href=\"data:image/png;base64,\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\" y=\"-6.92\"/>\n   </g>\n   <g id=\"matplotlib.axis_1\">\n    <g id=\"text_1\">\n     <!-- True: airplane -->\n     <defs>\n      <path d=\"M 35.15625 61.1875 \nL 35.15625 0 \nL 25.875 0 \nL 25.875 61.1875 \nL 2.25 61.1875 \nL 2.25 68.796875 \nL 58.796875 68.796875 \nL 58.796875 61.1875 \nz\n\" id=\"LiberationSans-54\"/>\n      <path d=\"M 6.9375 0 \nL 6.9375 40.53125 \nQ 6.9375 42.1875 6.90625 43.921875 \nQ 6.890625 45.65625 6.828125 47.265625 \nQ 6.78125 48.875 6.734375 50.28125 \nQ 6.6875 51.703125 6.640625 52.828125 \nL 14.9375 52.828125 \nQ 14.984375 51.703125 15.0625 50.265625 \nQ 15.140625 48.828125 15.203125 47.3125 \nQ 15.28125 45.796875 15.296875 44.40625 \nQ 15.328125 43.015625 15.328125 42.046875 \nL 15.53125 42.046875 \nQ 16.453125 45.0625 17.5 47.28125 \nQ 18.5625 49.515625 19.96875 50.953125 \nQ 21.390625 52.390625 23.34375 53.09375 \nQ 25.296875 53.8125 28.078125 53.8125 \nQ 29.15625 53.8125 30.125 53.640625 \nQ 31.109375 53.46875 31.640625 53.328125 \nL 31.640625 45.265625 \nQ 30.765625 45.515625 29.59375 45.625 \nQ 28.421875 45.75 26.953125 45.75 \nQ 23.921875 45.75 21.796875 44.375 \nQ 19.671875 43.015625 18.328125 40.59375 \nQ 17 38.1875 16.359375 34.84375 \nQ 15.71875 31.5 15.71875 27.546875 \nL 15.71875 0 \nz\n\" id=\"LiberationSans-72\"/>\n      <path d=\"M 15.328125 52.828125 \nL 15.328125 19.34375 \nQ 15.328125 15.484375 15.890625 12.890625 \nQ 16.453125 10.296875 17.71875 8.703125 \nQ 19 7.125 21.0625 6.46875 \nQ 23.140625 5.8125 26.21875 5.8125 \nQ 29.34375 5.8125 31.859375 6.90625 \nQ 34.375 8.015625 36.15625 10.078125 \nQ 37.9375 12.15625 38.90625 15.203125 \nQ 39.890625 18.265625 39.890625 22.21875 \nL 39.890625 52.828125 \nL 48.6875 52.828125 \nL 48.6875 11.28125 \nQ 48.6875 9.625 48.703125 7.78125 \nQ 48.734375 5.953125 48.78125 4.3125 \nQ 48.828125 2.6875 48.875 1.515625 \nQ 48.921875 0.34375 48.96875 0 \nL 40.671875 0 \nQ 40.625 0.25 40.578125 1.3125 \nQ 40.53125 2.390625 40.453125 3.78125 \nQ 40.375 5.171875 40.328125 6.609375 \nQ 40.28125 8.0625 40.28125 9.03125 \nL 40.140625 9.03125 \nQ 38.875 6.734375 37.359375 4.875 \nQ 35.84375 3.03125 33.84375 1.734375 \nQ 31.84375 0.4375 29.25 -0.265625 \nQ 26.65625 -0.984375 23.25 -0.984375 \nQ 18.84375 -0.984375 15.671875 0.09375 \nQ 12.5 1.171875 10.453125 3.421875 \nQ 8.40625 5.671875 7.453125 9.1875 \nQ 6.5 12.703125 6.5 17.625 \nL 6.5 52.828125 \nz\n\" id=\"LiberationSans-75\"/>\n      <path d=\"M 13.484375 24.5625 \nQ 13.484375 20.40625 14.328125 16.90625 \nQ 15.1875 13.421875 16.96875 10.90625 \nQ 18.75 8.40625 21.53125 7 \nQ 24.3125 5.609375 28.21875 5.609375 \nQ 33.9375 5.609375 37.375 7.90625 \nQ 40.828125 10.203125 42.046875 13.71875 \nL 49.75 11.53125 \nQ 48.921875 9.328125 47.4375 7.109375 \nQ 45.953125 4.890625 43.453125 3.09375 \nQ 40.96875 1.3125 37.234375 0.15625 \nQ 33.5 -0.984375 28.21875 -0.984375 \nQ 16.5 -0.984375 10.375 6 \nQ 4.25 12.984375 4.25 26.765625 \nQ 4.25 34.1875 6.09375 39.328125 \nQ 7.953125 44.484375 11.171875 47.703125 \nQ 14.40625 50.921875 18.703125 52.359375 \nQ 23 53.8125 27.875 53.8125 \nQ 34.515625 53.8125 38.984375 51.65625 \nQ 43.453125 49.515625 46.15625 45.71875 \nQ 48.875 41.9375 50.015625 36.8125 \nQ 51.171875 31.6875 51.171875 25.734375 \nL 51.171875 24.5625 \nz\nM 42.09375 31.296875 \nQ 41.359375 39.65625 37.84375 43.484375 \nQ 34.328125 47.3125 27.734375 47.3125 \nQ 25.53125 47.3125 23.109375 46.609375 \nQ 20.703125 45.90625 18.65625 44.09375 \nQ 16.609375 42.28125 15.1875 39.171875 \nQ 13.765625 36.078125 13.578125 31.296875 \nz\n\" id=\"LiberationSans-65\"/>\n      <path d=\"M 9.125 42.71875 \nL 9.125 52.828125 \nL 18.65625 52.828125 \nL 18.65625 42.71875 \nz\nM 9.125 0 \nL 9.125 10.109375 \nL 18.65625 10.109375 \nL 18.65625 0 \nz\n\" id=\"LiberationSans-3a\"/>\n      <path id=\"LiberationSans-20\"/>\n      <path d=\"M 20.21875 -0.984375 \nQ 12.25 -0.984375 8.25 3.21875 \nQ 4.25 7.421875 4.25 14.75 \nQ 4.25 19.96875 6.21875 23.3125 \nQ 8.203125 26.65625 11.390625 28.5625 \nQ 14.59375 30.46875 18.6875 31.203125 \nQ 22.796875 31.9375 27.046875 32.03125 \nL 38.921875 32.234375 \nL 38.921875 35.109375 \nQ 38.921875 38.375 38.234375 40.671875 \nQ 37.546875 42.96875 36.125 44.375 \nQ 34.71875 45.796875 32.59375 46.453125 \nQ 30.46875 47.125 27.59375 47.125 \nQ 25.046875 47.125 23 46.75 \nQ 20.953125 46.390625 19.4375 45.4375 \nQ 17.921875 44.484375 16.984375 42.84375 \nQ 16.0625 41.21875 15.765625 38.71875 \nL 6.59375 39.546875 \nQ 7.078125 42.671875 8.4375 45.28125 \nQ 9.8125 47.90625 12.328125 49.796875 \nQ 14.84375 51.703125 18.625 52.75 \nQ 22.40625 53.8125 27.78125 53.8125 \nQ 37.75 53.8125 42.765625 49.234375 \nQ 47.796875 44.671875 47.796875 36.03125 \nL 47.796875 13.28125 \nQ 47.796875 9.375 48.828125 7.390625 \nQ 49.859375 5.421875 52.734375 5.421875 \nQ 53.46875 5.421875 54.203125 5.515625 \nQ 54.9375 5.609375 55.609375 5.765625 \nL 55.609375 0.296875 \nQ 53.953125 -0.09375 52.3125 -0.28125 \nQ 50.6875 -0.484375 48.828125 -0.484375 \nQ 46.34375 -0.484375 44.5625 0.171875 \nQ 42.78125 0.828125 41.65625 2.171875 \nQ 40.53125 3.515625 39.9375 5.484375 \nQ 39.359375 7.46875 39.203125 10.109375 \nL 38.921875 10.109375 \nQ 37.5 7.5625 35.8125 5.515625 \nQ 34.125 3.46875 31.875 2.03125 \nQ 29.640625 0.59375 26.78125 -0.1875 \nQ 23.921875 -0.984375 20.21875 -0.984375 \nz\nM 22.21875 5.609375 \nQ 26.421875 5.609375 29.5625 7.140625 \nQ 32.71875 8.6875 34.78125 11.078125 \nQ 36.859375 13.484375 37.890625 16.3125 \nQ 38.921875 19.140625 38.921875 21.734375 \nL 38.921875 26.078125 \nL 29.296875 25.875 \nQ 26.078125 25.828125 23.171875 25.40625 \nQ 20.265625 25 18.0625 23.78125 \nQ 15.875 22.5625 14.578125 20.359375 \nQ 13.28125 18.171875 13.28125 14.59375 \nQ 13.28125 10.296875 15.59375 7.953125 \nQ 17.921875 5.609375 22.21875 5.609375 \nz\n\" id=\"LiberationSans-61\"/>\n      <path d=\"M 6.6875 64.0625 \nL 6.6875 72.46875 \nL 15.484375 72.46875 \nL 15.484375 64.0625 \nz\nM 6.6875 0 \nL 6.6875 52.828125 \nL 15.484375 52.828125 \nL 15.484375 0 \nz\n\" id=\"LiberationSans-69\"/>\n      <path d=\"M 51.421875 26.65625 \nQ 51.421875 20.65625 50.4375 15.578125 \nQ 49.46875 10.5 47.1875 6.828125 \nQ 44.921875 3.171875 41.1875 1.09375 \nQ 37.453125 -0.984375 31.984375 -0.984375 \nQ 26.3125 -0.984375 22.0625 1.171875 \nQ 17.828125 3.328125 15.578125 8.203125 \nL 15.328125 8.203125 \nQ 15.375 8.109375 15.40625 7.328125 \nQ 15.4375 6.546875 15.453125 5.375 \nQ 15.484375 4.203125 15.5 2.75 \nQ 15.53125 1.3125 15.53125 -0.09375 \nL 15.53125 -20.75 \nL 6.734375 -20.75 \nL 6.734375 42.046875 \nQ 6.734375 43.953125 6.703125 45.703125 \nQ 6.6875 47.46875 6.640625 48.90625 \nQ 6.59375 50.34375 6.546875 51.359375 \nQ 6.5 52.390625 6.453125 52.828125 \nL 14.9375 52.828125 \nQ 14.984375 52.6875 15.0625 51.796875 \nQ 15.140625 50.921875 15.203125 49.671875 \nQ 15.28125 48.4375 15.359375 47.015625 \nQ 15.4375 45.609375 15.4375 44.34375 \nL 15.625 44.34375 \nQ 16.84375 46.875 18.40625 48.65625 \nQ 19.96875 50.4375 21.96875 51.578125 \nQ 23.96875 52.734375 26.4375 53.25 \nQ 28.90625 53.765625 31.984375 53.765625 \nQ 37.453125 53.765625 41.1875 51.8125 \nQ 44.921875 49.859375 47.1875 46.3125 \nQ 49.46875 42.78125 50.4375 37.765625 \nQ 51.421875 32.765625 51.421875 26.65625 \nz\nM 42.1875 26.46875 \nQ 42.1875 31.34375 41.59375 35.15625 \nQ 41.015625 38.96875 39.578125 41.59375 \nQ 38.140625 44.234375 35.734375 45.59375 \nQ 33.34375 46.96875 29.734375 46.96875 \nQ 26.8125 46.96875 24.21875 46.140625 \nQ 21.625 45.3125 19.703125 42.96875 \nQ 17.78125 40.625 16.65625 36.5 \nQ 15.53125 32.375 15.53125 25.78125 \nQ 15.53125 20.171875 16.453125 16.28125 \nQ 17.390625 12.40625 19.171875 10.015625 \nQ 20.953125 7.625 23.578125 6.5625 \nQ 26.21875 5.515625 29.640625 5.515625 \nQ 33.296875 5.515625 35.71875 6.921875 \nQ 38.140625 8.34375 39.578125 11.03125 \nQ 41.015625 13.71875 41.59375 17.59375 \nQ 42.1875 21.484375 42.1875 26.46875 \nz\n\" id=\"LiberationSans-70\"/>\n      <path d=\"M 6.734375 0 \nL 6.734375 72.46875 \nL 15.53125 72.46875 \nL 15.53125 0 \nz\n\" id=\"LiberationSans-6c\"/>\n      <path d=\"M 40.28125 0 \nL 40.28125 33.5 \nQ 40.28125 37.359375 39.71875 39.9375 \nQ 39.15625 42.53125 37.890625 44.109375 \nQ 36.625 45.703125 34.546875 46.359375 \nQ 32.46875 47.015625 29.390625 47.015625 \nQ 26.265625 47.015625 23.75 45.921875 \nQ 21.234375 44.828125 19.453125 42.75 \nQ 17.671875 40.671875 16.6875 37.625 \nQ 15.71875 34.578125 15.71875 30.609375 \nL 15.71875 0 \nL 6.9375 0 \nL 6.9375 41.546875 \nQ 6.9375 43.21875 6.90625 45.046875 \nQ 6.890625 46.875 6.828125 48.5 \nQ 6.78125 50.140625 6.734375 51.3125 \nQ 6.6875 52.484375 6.640625 52.828125 \nL 14.9375 52.828125 \nQ 14.984375 52.59375 15.03125 51.515625 \nQ 15.09375 50.4375 15.15625 49.046875 \nQ 15.234375 47.65625 15.28125 46.21875 \nQ 15.328125 44.78125 15.328125 43.796875 \nL 15.484375 43.796875 \nQ 16.75 46.09375 18.265625 47.953125 \nQ 19.78125 49.8125 21.78125 51.09375 \nQ 23.78125 52.390625 26.359375 53.09375 \nQ 28.953125 53.8125 32.375 53.8125 \nQ 36.765625 53.8125 39.9375 52.734375 \nQ 43.109375 51.65625 45.15625 49.40625 \nQ 47.21875 47.171875 48.171875 43.625 \nQ 49.125 40.09375 49.125 35.203125 \nL 49.125 0 \nz\n\" id=\"LiberationSans-6e\"/>\n     </defs>\n     <g style=\"fill:#555555;\" transform=\"translate(28.216875 128.61625)scale(0.12 -0.12)\">\n      <use xlink:href=\"#LiberationSans-54\"/>\n      <use x=\"61.037109\" xlink:href=\"#LiberationSans-72\"/>\n      <use x=\"94.337891\" xlink:href=\"#LiberationSans-75\"/>\n      <use x=\"149.953125\" xlink:href=\"#LiberationSans-65\"/>\n      <use x=\"205.568359\" xlink:href=\"#LiberationSans-3a\"/>\n      <use x=\"233.351562\" xlink:href=\"#LiberationSans-20\"/>\n      <use x=\"261.134766\" xlink:href=\"#LiberationSans-61\"/>\n      <use x=\"316.75\" xlink:href=\"#LiberationSans-69\"/>\n      <use x=\"338.966797\" xlink:href=\"#LiberationSans-72\"/>\n      <use x=\"372.267578\" xlink:href=\"#LiberationSans-70\"/>\n      <use x=\"427.882812\" xlink:href=\"#LiberationSans-6c\"/>\n      <use x=\"450.099609\" xlink:href=\"#LiberationSans-61\"/>\n      <use x=\"505.714844\" xlink:href=\"#LiberationSans-6e\"/>\n      <use x=\"561.330078\" xlink:href=\"#LiberationSans-65\"/>\n     </g>\n     <!-- Predicted: ship -->\n     <defs>\n      <path d=\"M 61.421875 48.09375 \nQ 61.421875 43.609375 59.9375 39.71875 \nQ 58.453125 35.84375 55.5 32.984375 \nQ 52.546875 30.125 48.09375 28.46875 \nQ 43.65625 26.8125 37.75 26.8125 \nL 17.53125 26.8125 \nL 17.53125 0 \nL 8.203125 0 \nL 8.203125 68.796875 \nL 37.15625 68.796875 \nQ 43.265625 68.796875 47.796875 67.3125 \nQ 52.34375 65.828125 55.375 63.109375 \nQ 58.40625 60.40625 59.90625 56.5625 \nQ 61.421875 52.734375 61.421875 48.09375 \nz\nM 52.046875 48 \nQ 52.046875 54.546875 48.046875 57.9375 \nQ 44.046875 61.328125 36.03125 61.328125 \nL 17.53125 61.328125 \nL 17.53125 34.1875 \nL 36.421875 34.1875 \nQ 44.484375 34.1875 48.265625 37.75 \nQ 52.046875 41.3125 52.046875 48 \nz\n\" id=\"LiberationSans-50\"/>\n      <path d=\"M 40.09375 8.5 \nQ 37.640625 3.421875 33.609375 1.21875 \nQ 29.59375 -0.984375 23.640625 -0.984375 \nQ 13.625 -0.984375 8.90625 5.75 \nQ 4.203125 12.5 4.203125 26.171875 \nQ 4.203125 53.8125 23.640625 53.8125 \nQ 29.640625 53.8125 33.640625 51.609375 \nQ 37.640625 49.421875 40.09375 44.625 \nL 40.1875 44.625 \nQ 40.1875 45.125 40.15625 46.171875 \nQ 40.140625 47.21875 40.109375 48.359375 \nQ 40.09375 49.515625 40.09375 50.53125 \nQ 40.09375 51.5625 40.09375 52 \nL 40.09375 72.46875 \nL 48.875 72.46875 \nL 48.875 10.890625 \nQ 48.875 8.984375 48.890625 7.21875 \nQ 48.921875 5.46875 48.96875 4 \nQ 49.03125 2.546875 49.078125 1.484375 \nQ 49.125 0.4375 49.171875 0 \nL 40.765625 0 \nQ 40.671875 0.484375 40.59375 1.390625 \nQ 40.53125 2.296875 40.453125 3.46875 \nQ 40.375 4.640625 40.328125 5.9375 \nQ 40.28125 7.234375 40.28125 8.5 \nz\nM 13.421875 26.46875 \nQ 13.421875 21 14.109375 17.09375 \nQ 14.796875 13.1875 16.3125 10.671875 \nQ 17.828125 8.15625 20.171875 6.984375 \nQ 22.515625 5.8125 25.875 5.8125 \nQ 29.34375 5.8125 32 6.9375 \nQ 34.671875 8.0625 36.453125 10.578125 \nQ 38.234375 13.09375 39.15625 17.140625 \nQ 40.09375 21.1875 40.09375 27.046875 \nQ 40.09375 32.671875 39.15625 36.546875 \nQ 38.234375 40.4375 36.421875 42.828125 \nQ 34.625 45.21875 32 46.265625 \nQ 29.390625 47.3125 25.984375 47.3125 \nQ 22.75 47.3125 20.40625 46.1875 \nQ 18.0625 45.0625 16.5 42.578125 \nQ 14.9375 40.09375 14.171875 36.109375 \nQ 13.421875 32.125 13.421875 26.46875 \nz\n\" id=\"LiberationSans-64\"/>\n      <path d=\"M 13.421875 26.65625 \nQ 13.421875 22.125 14.078125 18.3125 \nQ 14.75 14.5 16.3125 11.734375 \nQ 17.875 8.984375 20.4375 7.46875 \nQ 23 5.953125 26.765625 5.953125 \nQ 31.453125 5.953125 34.59375 8.484375 \nQ 37.75 11.03125 38.484375 16.3125 \nL 47.359375 15.71875 \nQ 46.921875 12.453125 45.453125 9.421875 \nQ 44 6.390625 41.484375 4.09375 \nQ 38.96875 1.8125 35.34375 0.40625 \nQ 31.734375 -0.984375 27 -0.984375 \nQ 20.796875 -0.984375 16.453125 1.109375 \nQ 12.109375 3.21875 9.390625 6.90625 \nQ 6.6875 10.59375 5.46875 15.59375 \nQ 4.25 20.609375 4.25 26.46875 \nQ 4.25 31.78125 5.125 35.859375 \nQ 6 39.9375 7.59375 42.984375 \nQ 9.1875 46.046875 11.328125 48.125 \nQ 13.484375 50.203125 15.984375 51.4375 \nQ 18.5 52.6875 21.28125 53.25 \nQ 24.078125 53.8125 26.90625 53.8125 \nQ 31.34375 53.8125 34.8125 52.59375 \nQ 38.28125 51.375 40.796875 49.25 \nQ 43.3125 47.125 44.875 44.234375 \nQ 46.4375 41.359375 47.078125 38.03125 \nL 38.03125 37.359375 \nQ 37.359375 41.75 34.5625 44.328125 \nQ 31.78125 46.921875 26.65625 46.921875 \nQ 22.90625 46.921875 20.390625 45.671875 \nQ 17.875 44.4375 16.3125 41.921875 \nQ 14.75 39.40625 14.078125 35.59375 \nQ 13.421875 31.78125 13.421875 26.65625 \nz\n\" id=\"LiberationSans-63\"/>\n      <path d=\"M 27.046875 0.390625 \nQ 25.046875 -0.140625 22.96875 -0.453125 \nQ 20.90625 -0.78125 18.171875 -0.78125 \nQ 7.625 -0.78125 7.625 11.1875 \nL 7.625 46.4375 \nL 1.515625 46.4375 \nL 1.515625 52.828125 \nL 7.953125 52.828125 \nL 10.546875 64.65625 \nL 16.40625 64.65625 \nL 16.40625 52.828125 \nL 26.171875 52.828125 \nL 26.171875 46.4375 \nL 16.40625 46.4375 \nL 16.40625 13.09375 \nQ 16.40625 9.28125 17.640625 7.734375 \nQ 18.890625 6.203125 21.96875 6.203125 \nQ 23.25 6.203125 24.4375 6.390625 \nQ 25.640625 6.59375 27.046875 6.890625 \nz\n\" id=\"LiberationSans-74\"/>\n      <path d=\"M 46.390625 14.59375 \nQ 46.390625 10.890625 44.9375 7.984375 \nQ 43.5 5.078125 40.765625 3.09375 \nQ 38.03125 1.125 34.046875 0.0625 \nQ 30.078125 -0.984375 24.953125 -0.984375 \nQ 20.359375 -0.984375 16.671875 -0.265625 \nQ 12.984375 0.4375 10.203125 2 \nQ 7.421875 3.5625 5.53125 6.125 \nQ 3.65625 8.6875 2.78125 12.40625 \nL 10.546875 13.921875 \nQ 11.671875 9.671875 15.1875 7.6875 \nQ 18.703125 5.71875 24.953125 5.71875 \nQ 27.78125 5.71875 30.140625 6.109375 \nQ 32.515625 6.5 34.21875 7.453125 \nQ 35.9375 8.40625 36.890625 9.984375 \nQ 37.84375 11.578125 37.84375 13.921875 \nQ 37.84375 16.3125 36.71875 17.84375 \nQ 35.59375 19.390625 33.59375 20.40625 \nQ 31.59375 21.4375 28.734375 22.1875 \nQ 25.875 22.953125 22.46875 23.875 \nQ 19.28125 24.703125 16.15625 25.734375 \nQ 13.03125 26.765625 10.515625 28.4375 \nQ 8.015625 30.125 6.453125 32.609375 \nQ 4.890625 35.109375 4.890625 38.875 \nQ 4.890625 46.09375 10.03125 49.875 \nQ 15.1875 53.65625 25.046875 53.65625 \nQ 33.796875 53.65625 38.9375 50.578125 \nQ 44.09375 47.515625 45.453125 40.71875 \nL 37.546875 39.75 \nQ 37.109375 41.796875 35.9375 43.1875 \nQ 34.765625 44.578125 33.109375 45.4375 \nQ 31.453125 46.296875 29.375 46.65625 \nQ 27.296875 47.015625 25.046875 47.015625 \nQ 19.09375 47.015625 16.25 45.203125 \nQ 13.421875 43.40625 13.421875 39.75 \nQ 13.421875 37.59375 14.46875 36.203125 \nQ 15.53125 34.8125 17.40625 33.859375 \nQ 19.28125 32.90625 21.921875 32.203125 \nQ 24.5625 31.5 27.734375 30.71875 \nQ 29.828125 30.171875 32.03125 29.5625 \nQ 34.234375 28.953125 36.296875 28.09375 \nQ 38.375 27.25 40.203125 26.09375 \nQ 42.046875 24.953125 43.40625 23.34375 \nQ 44.78125 21.734375 45.578125 19.578125 \nQ 46.390625 17.4375 46.390625 14.59375 \nz\n\" id=\"LiberationSans-73\"/>\n      <path d=\"M 15.484375 43.796875 \nQ 16.9375 46.484375 18.640625 48.359375 \nQ 20.359375 50.25 22.40625 51.46875 \nQ 24.46875 52.6875 26.90625 53.25 \nQ 29.34375 53.8125 32.375 53.8125 \nQ 37.453125 53.8125 40.703125 52.4375 \nQ 43.953125 51.078125 45.828125 48.609375 \nQ 47.703125 46.140625 48.40625 42.71875 \nQ 49.125 39.3125 49.125 35.203125 \nL 49.125 0 \nL 40.28125 0 \nL 40.28125 33.5 \nQ 40.28125 36.859375 39.859375 39.390625 \nQ 39.453125 41.9375 38.28125 43.625 \nQ 37.109375 45.3125 34.953125 46.15625 \nQ 32.8125 47.015625 29.390625 47.015625 \nQ 26.265625 47.015625 23.75 45.890625 \nQ 21.234375 44.78125 19.453125 42.71875 \nQ 17.671875 40.671875 16.6875 37.734375 \nQ 15.71875 34.8125 15.71875 31.15625 \nL 15.71875 0 \nL 6.9375 0 \nL 6.9375 72.46875 \nL 15.71875 72.46875 \nL 15.71875 53.609375 \nQ 15.71875 52 15.671875 50.390625 \nQ 15.625 48.78125 15.546875 47.40625 \nQ 15.484375 46.046875 15.421875 45.09375 \nQ 15.375 44.140625 15.328125 43.796875 \nz\n\" id=\"LiberationSans-68\"/>\n     </defs>\n     <g style=\"fill:#555555;\" transform=\"translate(25.544063 141.54175)scale(0.12 -0.12)\">\n      <use xlink:href=\"#LiberationSans-50\"/>\n      <use x=\"66.699219\" xlink:href=\"#LiberationSans-72\"/>\n      <use x=\"100\" xlink:href=\"#LiberationSans-65\"/>\n      <use x=\"155.615234\" xlink:href=\"#LiberationSans-64\"/>\n      <use x=\"211.230469\" xlink:href=\"#LiberationSans-69\"/>\n      <use x=\"233.447266\" xlink:href=\"#LiberationSans-63\"/>\n      <use x=\"283.447266\" xlink:href=\"#LiberationSans-74\"/>\n      <use x=\"311.230469\" xlink:href=\"#LiberationSans-65\"/>\n      <use x=\"366.845703\" xlink:href=\"#LiberationSans-64\"/>\n      <use x=\"422.460938\" xlink:href=\"#LiberationSans-3a\"/>\n      <use x=\"450.244141\" xlink:href=\"#LiberationSans-20\"/>\n      <use x=\"478.027344\" xlink:href=\"#LiberationSans-73\"/>\n      <use x=\"528.027344\" xlink:href=\"#LiberationSans-68\"/>\n      <use x=\"583.642578\" xlink:href=\"#LiberationSans-69\"/>\n      <use x=\"605.859375\" xlink:href=\"#LiberationSans-70\"/>\n     </g>\n    </g>\n   </g>\n   <g id=\"matplotlib.axis_2\"/>\n   <g id=\"patch_3\">\n    <path d=\"M 10.870313 115.92 \nL 10.870313 7.2 \n\" style=\"fill:none;stroke:#ffffff;stroke-linecap:square;stroke-linejoin:miter;\"/>\n   </g>\n   <g id=\"patch_4\">\n    <path d=\"M 119.590312 115.92 \nL 119.590312 7.2 \n\" style=\"fill:none;stroke:#ffffff;stroke-linecap:square;stroke-linejoin:miter;\"/>\n   </g>\n   <g id=\"patch_5\">\n    <path d=\"M 10.870313 115.92 \nL 119.590312 115.92 \n\" style=\"fill:none;stroke:#ffffff;stroke-linecap:square;stroke-linejoin:miter;\"/>\n   </g>\n   <g id=\"patch_6\">\n    <path d=\"M 10.870313 7.2 \nL 119.590312 7.2 \n\" style=\"fill:none;stroke:#ffffff;stroke-linecap:square;stroke-linejoin:miter;\"/>\n   </g>\n  </g>\n  <g id=\"axes_2\">\n   <g id=\"patch_7\">\n    <path d=\"M 172.070312 115.92 \nL 280.790313 115.92 \nL 280.790313 7.2 \nL 172.070312 7.2 \nz\n\" style=\"fill:#e5e5e5;\"/>\n   </g>\n   <g clip-path=\"url(#pad3242ac5f)\">\n    <image height=\"109\" id=\"image0c989ace91\" transform=\"scale(1 -1)translate(0 -109)\" width=\"109\" x=\"172.070312\" xlink:href=\"data:image/png;base64,\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\" y=\"-6.92\"/>\n   </g>\n   <g id=\"matplotlib.axis_3\">\n    <g id=\"text_2\">\n     <!-- True: deer -->\n     <g style=\"fill:#555555;\" transform=\"translate(198.75625 128.61625)scale(0.12 -0.12)\">\n      <use xlink:href=\"#LiberationSans-54\"/>\n      <use x=\"61.037109\" xlink:href=\"#LiberationSans-72\"/>\n      <use x=\"94.337891\" xlink:href=\"#LiberationSans-75\"/>\n      <use x=\"149.953125\" xlink:href=\"#LiberationSans-65\"/>\n      <use x=\"205.568359\" xlink:href=\"#LiberationSans-3a\"/>\n      <use x=\"233.351562\" xlink:href=\"#LiberationSans-20\"/>\n      <use x=\"261.134766\" xlink:href=\"#LiberationSans-64\"/>\n      <use x=\"316.75\" xlink:href=\"#LiberationSans-65\"/>\n      <use x=\"372.365234\" xlink:href=\"#LiberationSans-65\"/>\n      <use x=\"427.980469\" xlink:href=\"#LiberationSans-72\"/>\n     </g>\n     <!-- Predicted: cat -->\n     <g style=\"fill:#555555;\" transform=\"translate(189.746875 141.54175)scale(0.12 -0.12)\">\n      <use xlink:href=\"#LiberationSans-50\"/>\n      <use x=\"66.699219\" xlink:href=\"#LiberationSans-72\"/>\n      <use x=\"100\" xlink:href=\"#LiberationSans-65\"/>\n      <use x=\"155.615234\" xlink:href=\"#LiberationSans-64\"/>\n      <use x=\"211.230469\" xlink:href=\"#LiberationSans-69\"/>\n      <use x=\"233.447266\" xlink:href=\"#LiberationSans-63\"/>\n      <use x=\"283.447266\" xlink:href=\"#LiberationSans-74\"/>\n      <use x=\"311.230469\" xlink:href=\"#LiberationSans-65\"/>\n      <use x=\"366.845703\" xlink:href=\"#LiberationSans-64\"/>\n      <use x=\"422.460938\" xlink:href=\"#LiberationSans-3a\"/>\n      <use x=\"450.244141\" xlink:href=\"#LiberationSans-20\"/>\n      <use x=\"478.027344\" xlink:href=\"#LiberationSans-63\"/>\n      <use x=\"528.027344\" xlink:href=\"#LiberationSans-61\"/>\n      <use x=\"583.642578\" xlink:href=\"#LiberationSans-74\"/>\n     </g>\n    </g>\n   </g>\n   <g id=\"matplotlib.axis_4\"/>\n   <g id=\"patch_8\">\n    <path d=\"M 172.070312 115.92 \nL 172.070312 7.2 \n\" style=\"fill:none;stroke:#ffffff;stroke-linecap:square;stroke-linejoin:miter;\"/>\n   </g>\n   <g id=\"patch_9\">\n    <path d=\"M 280.790313 115.92 \nL 280.790313 7.2 \n\" style=\"fill:none;stroke:#ffffff;stroke-linecap:square;stroke-linejoin:miter;\"/>\n   </g>\n   <g id=\"patch_10\">\n    <path d=\"M 172.070312 115.92 \nL 280.790313 115.92 \n\" style=\"fill:none;stroke:#ffffff;stroke-linecap:square;stroke-linejoin:miter;\"/>\n   </g>\n   <g id=\"patch_11\">\n    <path d=\"M 172.070312 7.2 \nL 280.790313 7.2 \n\" style=\"fill:none;stroke:#ffffff;stroke-linecap:square;stroke-linejoin:miter;\"/>\n   </g>\n  </g>\n  <g id=\"axes_3\">\n   <g id=\"patch_12\">\n    <path d=\"M 333.270313 115.92 \nL 441.990313 115.92 \nL 441.990313 7.2 \nL 333.270313 7.2 \nz\n\" style=\"fill:#e5e5e5;\"/>\n   </g>\n   <g clip-path=\"url(#pe217a56333)\">\n    <image height=\"109\" id=\"image51482c7b9a\" transform=\"scale(1 -1)translate(0 -109)\" width=\"109\" x=\"333.270313\" xlink:href=\"data:image/png;base64,\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\" y=\"-6.92\"/>\n   </g>\n   <g id=\"matplotlib.axis_5\">\n    <g id=\"text_3\">\n     <!-- True: dog -->\n     <defs>\n      <path d=\"M 51.421875 26.46875 \nQ 51.421875 12.59375 45.3125 5.796875 \nQ 39.203125 -0.984375 27.59375 -0.984375 \nQ 22.078125 -0.984375 17.71875 0.671875 \nQ 13.375 2.34375 10.375 5.765625 \nQ 7.375 9.1875 5.78125 14.328125 \nQ 4.203125 19.484375 4.203125 26.46875 \nQ 4.203125 53.8125 27.875 53.8125 \nQ 34.03125 53.8125 38.5 52.09375 \nQ 42.96875 50.390625 45.828125 46.96875 \nQ 48.6875 43.5625 50.046875 38.421875 \nQ 51.421875 33.296875 51.421875 26.46875 \nz\nM 42.1875 26.46875 \nQ 42.1875 32.625 41.234375 36.625 \nQ 40.28125 40.625 38.453125 43.015625 \nQ 36.625 45.40625 33.984375 46.359375 \nQ 31.34375 47.3125 28.03125 47.3125 \nQ 24.65625 47.3125 21.9375 46.3125 \nQ 19.234375 45.3125 17.328125 42.890625 \nQ 15.4375 40.484375 14.421875 36.46875 \nQ 13.421875 32.46875 13.421875 26.46875 \nQ 13.421875 20.3125 14.5 16.28125 \nQ 15.578125 12.25 17.453125 9.859375 \nQ 19.34375 7.46875 21.90625 6.484375 \nQ 24.46875 5.515625 27.484375 5.515625 \nQ 30.859375 5.515625 33.59375 6.46875 \nQ 36.328125 7.421875 38.234375 9.8125 \nQ 40.140625 12.203125 41.15625 16.25 \nQ 42.1875 20.3125 42.1875 26.46875 \nz\n\" id=\"LiberationSans-6f\"/>\n      <path d=\"M 26.765625 -20.75 \nQ 22.21875 -20.75 18.703125 -19.8125 \nQ 15.1875 -18.890625 12.6875 -17.15625 \nQ 10.203125 -15.4375 8.640625 -13.03125 \nQ 7.078125 -10.640625 6.390625 -7.71875 \nL 15.234375 -6.453125 \nQ 16.109375 -10.109375 19.109375 -12.078125 \nQ 22.125 -14.0625 27 -14.0625 \nQ 29.984375 -14.0625 32.421875 -13.234375 \nQ 34.859375 -12.40625 36.5625 -10.5625 \nQ 38.28125 -8.734375 39.203125 -5.796875 \nQ 40.140625 -2.875 40.140625 1.3125 \nL 40.140625 9.8125 \nL 40.046875 9.8125 \nQ 39.0625 7.8125 37.625 5.984375 \nQ 36.1875 4.15625 34.109375 2.734375 \nQ 32.03125 1.3125 29.296875 0.453125 \nQ 26.5625 -0.390625 23.046875 -0.390625 \nQ 18.015625 -0.390625 14.421875 1.296875 \nQ 10.84375 2.984375 8.5625 6.34375 \nQ 6.296875 9.71875 5.25 14.71875 \nQ 4.203125 19.734375 4.203125 26.3125 \nQ 4.203125 32.671875 5.25 37.75 \nQ 6.296875 42.828125 8.65625 46.359375 \nQ 11.03125 49.90625 14.8125 51.78125 \nQ 18.609375 53.65625 24.03125 53.65625 \nQ 29.640625 53.65625 33.765625 51.09375 \nQ 37.890625 48.53125 40.140625 43.796875 \nL 40.234375 43.796875 \nQ 40.234375 45.015625 40.296875 46.53125 \nQ 40.375 48.046875 40.453125 49.390625 \nQ 40.53125 50.734375 40.625 51.703125 \nQ 40.71875 52.6875 40.828125 52.828125 \nL 49.171875 52.828125 \nQ 49.125 52.390625 49.078125 51.34375 \nQ 49.03125 50.296875 48.96875 48.828125 \nQ 48.921875 47.359375 48.890625 45.578125 \nQ 48.875 43.796875 48.875 41.890625 \nL 48.875 1.515625 \nQ 48.875 -9.578125 43.421875 -15.15625 \nQ 37.984375 -20.75 26.765625 -20.75 \nz\nM 40.140625 26.421875 \nQ 40.140625 31.9375 38.9375 35.859375 \nQ 37.75 39.796875 35.796875 42.28125 \nQ 33.84375 44.78125 31.328125 45.953125 \nQ 28.8125 47.125 26.171875 47.125 \nQ 22.796875 47.125 20.375 45.953125 \nQ 17.96875 44.78125 16.375 42.265625 \nQ 14.796875 39.75 14.03125 35.8125 \nQ 13.28125 31.890625 13.28125 26.421875 \nQ 13.28125 20.703125 14.03125 16.8125 \nQ 14.796875 12.9375 16.359375 10.546875 \nQ 17.921875 8.15625 20.3125 7.125 \nQ 22.703125 6.109375 26.03125 6.109375 \nQ 28.65625 6.109375 31.171875 7.21875 \nQ 33.6875 8.34375 35.6875 10.78125 \nQ 37.703125 13.234375 38.921875 17.09375 \nQ 40.140625 20.953125 40.140625 26.421875 \nz\n\" id=\"LiberationSans-67\"/>\n     </defs>\n     <g style=\"fill:#555555;\" transform=\"translate(361.954063 128.61625)scale(0.12 -0.12)\">\n      <use xlink:href=\"#LiberationSans-54\"/>\n      <use x=\"61.037109\" xlink:href=\"#LiberationSans-72\"/>\n      <use x=\"94.337891\" xlink:href=\"#LiberationSans-75\"/>\n      <use x=\"149.953125\" xlink:href=\"#LiberationSans-65\"/>\n      <use x=\"205.568359\" xlink:href=\"#LiberationSans-3a\"/>\n      <use x=\"233.351562\" xlink:href=\"#LiberationSans-20\"/>\n      <use x=\"261.134766\" xlink:href=\"#LiberationSans-64\"/>\n      <use x=\"316.75\" xlink:href=\"#LiberationSans-6f\"/>\n      <use x=\"372.365234\" xlink:href=\"#LiberationSans-67\"/>\n     </g>\n     <!-- Predicted: bird -->\n     <defs>\n      <path d=\"M 51.421875 26.65625 \nQ 51.421875 -0.984375 31.984375 -0.984375 \nQ 25.984375 -0.984375 22 1.1875 \nQ 18.015625 3.375 15.53125 8.203125 \nL 15.4375 8.203125 \nQ 15.4375 6.9375 15.359375 5.5625 \nQ 15.28125 4.203125 15.203125 3.03125 \nQ 15.140625 1.859375 15.0625 1.03125 \nQ 14.984375 0.203125 14.9375 0 \nL 6.453125 0 \nQ 6.5 0.4375 6.546875 1.484375 \nQ 6.59375 2.546875 6.640625 4 \nQ 6.6875 5.46875 6.703125 7.21875 \nQ 6.734375 8.984375 6.734375 10.890625 \nL 6.734375 72.46875 \nL 15.53125 72.46875 \nL 15.53125 51.8125 \nQ 15.53125 50.34375 15.5 49 \nQ 15.484375 47.65625 15.4375 46.625 \nQ 15.375 45.40625 15.328125 44.34375 \nL 15.53125 44.34375 \nQ 17.96875 49.421875 22 51.609375 \nQ 26.03125 53.8125 31.984375 53.8125 \nQ 42 53.8125 46.703125 47.0625 \nQ 51.421875 40.328125 51.421875 26.65625 \nz\nM 42.1875 26.375 \nQ 42.1875 31.84375 41.5 35.75 \nQ 40.828125 39.65625 39.3125 42.15625 \nQ 37.796875 44.671875 35.453125 45.84375 \nQ 33.109375 47.015625 29.734375 47.015625 \nQ 26.265625 47.015625 23.609375 45.890625 \nQ 20.953125 44.78125 19.171875 42.28125 \nQ 17.390625 39.796875 16.453125 35.734375 \nQ 15.53125 31.6875 15.53125 25.828125 \nQ 15.53125 20.171875 16.453125 16.3125 \nQ 17.390625 12.453125 19.171875 10.03125 \nQ 20.953125 7.625 23.578125 6.5625 \nQ 26.21875 5.515625 29.640625 5.515625 \nQ 32.859375 5.515625 35.203125 6.640625 \nQ 37.546875 7.765625 39.109375 10.25 \nQ 40.671875 12.75 41.421875 16.71875 \nQ 42.1875 20.703125 42.1875 26.375 \nz\n\" id=\"LiberationSans-62\"/>\n     </defs>\n     <g style=\"fill:#555555;\" transform=\"translate(348.94625 141.54175)scale(0.12 -0.12)\">\n      <use xlink:href=\"#LiberationSans-50\"/>\n      <use x=\"66.699219\" xlink:href=\"#LiberationSans-72\"/>\n      <use x=\"100\" xlink:href=\"#LiberationSans-65\"/>\n      <use x=\"155.615234\" xlink:href=\"#LiberationSans-64\"/>\n      <use x=\"211.230469\" xlink:href=\"#LiberationSans-69\"/>\n      <use x=\"233.447266\" xlink:href=\"#LiberationSans-63\"/>\n      <use x=\"283.447266\" xlink:href=\"#LiberationSans-74\"/>\n      <use x=\"311.230469\" xlink:href=\"#LiberationSans-65\"/>\n      <use x=\"366.845703\" xlink:href=\"#LiberationSans-64\"/>\n      <use x=\"422.460938\" xlink:href=\"#LiberationSans-3a\"/>\n      <use x=\"450.244141\" xlink:href=\"#LiberationSans-20\"/>\n      <use x=\"478.027344\" xlink:href=\"#LiberationSans-62\"/>\n      <use x=\"533.642578\" xlink:href=\"#LiberationSans-69\"/>\n      <use x=\"555.859375\" xlink:href=\"#LiberationSans-72\"/>\n      <use x=\"589.160156\" xlink:href=\"#LiberationSans-64\"/>\n     </g>\n    </g>\n   </g>\n   <g id=\"matplotlib.axis_6\"/>\n   <g id=\"patch_13\">\n    <path d=\"M 333.270313 115.92 \nL 333.270313 7.2 \n\" style=\"fill:none;stroke:#ffffff;stroke-linecap:square;stroke-linejoin:miter;\"/>\n   </g>\n   <g id=\"patch_14\">\n    <path d=\"M 441.990313 115.92 \nL 441.990313 7.2 \n\" style=\"fill:none;stroke:#ffffff;stroke-linecap:square;stroke-linejoin:miter;\"/>\n   </g>\n   <g id=\"patch_15\">\n    <path d=\"M 333.270313 115.92 \nL 441.990313 115.92 \n\" style=\"fill:none;stroke:#ffffff;stroke-linecap:square;stroke-linejoin:miter;\"/>\n   </g>\n   <g id=\"patch_16\">\n    <path d=\"M 333.270313 7.2 \nL 441.990313 7.2 \n\" style=\"fill:none;stroke:#ffffff;stroke-linecap:square;stroke-linejoin:miter;\"/>\n   </g>\n  </g>\n  <g id=\"axes_4\">\n   <g id=\"patch_17\">\n    <path d=\"M 10.870312 279 \nL 119.590313 279 \nL 119.590313 170.28 \nL 10.870312 170.28 \nz\n\" style=\"fill:#e5e5e5;\"/>\n   </g>\n   <g clip-path=\"url(#p976d0ade95)\">\n    <image height=\"109\" id=\"image544a25f0df\" transform=\"scale(1 -1)translate(0 -109)\" width=\"109\" x=\"10.870312\" xlink:href=\"data:image/png;base64,\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\" y=\"-170\"/>\n   </g>\n   <g id=\"matplotlib.axis_7\">\n    <g id=\"text_4\">\n     <!-- True: bird -->\n     <g style=\"fill:#555555;\" transform=\"translate(39.559688 291.69625)scale(0.12 -0.12)\">\n      <use xlink:href=\"#LiberationSans-54\"/>\n      <use x=\"61.037109\" xlink:href=\"#LiberationSans-72\"/>\n      <use x=\"94.337891\" xlink:href=\"#LiberationSans-75\"/>\n      <use x=\"149.953125\" xlink:href=\"#LiberationSans-65\"/>\n      <use x=\"205.568359\" xlink:href=\"#LiberationSans-3a\"/>\n      <use x=\"233.351562\" xlink:href=\"#LiberationSans-20\"/>\n      <use x=\"261.134766\" xlink:href=\"#LiberationSans-62\"/>\n      <use x=\"316.75\" xlink:href=\"#LiberationSans-69\"/>\n      <use x=\"338.966797\" xlink:href=\"#LiberationSans-72\"/>\n      <use x=\"372.267578\" xlink:href=\"#LiberationSans-64\"/>\n     </g>\n     <!-- Predicted: automobile -->\n     <defs>\n      <path d=\"M 37.5 0 \nL 37.5 33.5 \nQ 37.5 37.359375 37.015625 39.9375 \nQ 36.53125 42.53125 35.375 44.109375 \nQ 34.234375 45.703125 32.375 46.359375 \nQ 30.515625 47.015625 27.828125 47.015625 \nQ 25.046875 47.015625 22.796875 45.921875 \nQ 20.5625 44.828125 18.96875 42.75 \nQ 17.390625 40.671875 16.53125 37.625 \nQ 15.671875 34.578125 15.671875 30.609375 \nL 15.671875 0 \nL 6.9375 0 \nL 6.9375 41.546875 \nQ 6.9375 43.21875 6.90625 45.046875 \nQ 6.890625 46.875 6.828125 48.5 \nQ 6.78125 50.140625 6.734375 51.3125 \nQ 6.6875 52.484375 6.640625 52.828125 \nL 14.9375 52.828125 \nQ 14.984375 52.59375 15.03125 51.515625 \nQ 15.09375 50.4375 15.15625 49.046875 \nQ 15.234375 47.65625 15.28125 46.21875 \nQ 15.328125 44.78125 15.328125 43.796875 \nL 15.484375 43.796875 \nQ 16.65625 46.09375 18.015625 47.953125 \nQ 19.390625 49.8125 21.21875 51.09375 \nQ 23.046875 52.390625 25.40625 53.09375 \nQ 27.78125 53.8125 30.90625 53.8125 \nQ 36.921875 53.8125 40.40625 51.421875 \nQ 43.890625 49.03125 45.265625 43.796875 \nL 45.40625 43.796875 \nQ 46.578125 46.09375 48.046875 47.953125 \nQ 49.515625 49.8125 51.46875 51.09375 \nQ 53.421875 52.390625 55.859375 53.09375 \nQ 58.296875 53.8125 61.421875 53.8125 \nQ 65.4375 53.8125 68.328125 52.734375 \nQ 71.234375 51.65625 73.09375 49.40625 \nQ 74.953125 47.171875 75.828125 43.625 \nQ 76.703125 40.09375 76.703125 35.203125 \nL 76.703125 0 \nL 68.015625 0 \nL 68.015625 33.5 \nQ 68.015625 37.359375 67.53125 39.9375 \nQ 67.046875 42.53125 65.890625 44.109375 \nQ 64.75 45.703125 62.890625 46.359375 \nQ 61.03125 47.015625 58.34375 47.015625 \nQ 55.5625 47.015625 53.3125 45.96875 \nQ 51.078125 44.921875 49.484375 42.875 \nQ 47.90625 40.828125 47.046875 37.75 \nQ 46.1875 34.671875 46.1875 30.609375 \nL 46.1875 0 \nz\n\" id=\"LiberationSans-6d\"/>\n     </defs>\n     <g style=\"fill:#555555;\" transform=\"translate(7.2 304.62175)scale(0.12 -0.12)\">\n      <use xlink:href=\"#LiberationSans-50\"/>\n      <use x=\"66.699219\" xlink:href=\"#LiberationSans-72\"/>\n      <use x=\"100\" xlink:href=\"#LiberationSans-65\"/>\n      <use x=\"155.615234\" xlink:href=\"#LiberationSans-64\"/>\n      <use x=\"211.230469\" xlink:href=\"#LiberationSans-69\"/>\n      <use x=\"233.447266\" xlink:href=\"#LiberationSans-63\"/>\n      <use x=\"283.447266\" xlink:href=\"#LiberationSans-74\"/>\n      <use x=\"311.230469\" xlink:href=\"#LiberationSans-65\"/>\n      <use x=\"366.845703\" xlink:href=\"#LiberationSans-64\"/>\n      <use x=\"422.460938\" xlink:href=\"#LiberationSans-3a\"/>\n      <use x=\"450.244141\" xlink:href=\"#LiberationSans-20\"/>\n      <use x=\"478.027344\" xlink:href=\"#LiberationSans-61\"/>\n      <use x=\"533.642578\" xlink:href=\"#LiberationSans-75\"/>\n      <use x=\"589.257812\" xlink:href=\"#LiberationSans-74\"/>\n      <use x=\"617.041016\" xlink:href=\"#LiberationSans-6f\"/>\n      <use x=\"672.65625\" xlink:href=\"#LiberationSans-6d\"/>\n      <use x=\"755.957031\" xlink:href=\"#LiberationSans-6f\"/>\n      <use x=\"811.572266\" xlink:href=\"#LiberationSans-62\"/>\n      <use x=\"867.1875\" xlink:href=\"#LiberationSans-69\"/>\n      <use x=\"889.404297\" xlink:href=\"#LiberationSans-6c\"/>\n      <use x=\"911.621094\" xlink:href=\"#LiberationSans-65\"/>\n     </g>\n    </g>\n   </g>\n   <g id=\"matplotlib.axis_8\"/>\n   <g id=\"patch_18\">\n    <path d=\"M 10.870312 279 \nL 10.870312 170.28 \n\" style=\"fill:none;stroke:#ffffff;stroke-linecap:square;stroke-linejoin:miter;\"/>\n   </g>\n   <g id=\"patch_19\">\n    <path d=\"M 119.590313 279 \nL 119.590313 170.28 \n\" style=\"fill:none;stroke:#ffffff;stroke-linecap:square;stroke-linejoin:miter;\"/>\n   </g>\n   <g id=\"patch_20\">\n    <path d=\"M 10.870312 279 \nL 119.590313 279 \n\" style=\"fill:none;stroke:#ffffff;stroke-linecap:square;stroke-linejoin:miter;\"/>\n   </g>\n   <g id=\"patch_21\">\n    <path d=\"M 10.870312 170.28 \nL 119.590313 170.28 \n\" style=\"fill:none;stroke:#ffffff;stroke-linecap:square;stroke-linejoin:miter;\"/>\n   </g>\n  </g>\n  <g id=\"axes_5\">\n   <g id=\"patch_22\">\n    <path d=\"M 172.070312 279 \nL 280.790313 279 \nL 280.790313 170.28 \nL 172.070312 170.28 \nz\n\" style=\"fill:#e5e5e5;\"/>\n   </g>\n   <g clip-path=\"url(#pd528b4b23e)\">\n    <image height=\"109\" id=\"image494eee40bd\" transform=\"scale(1 -1)translate(0 -109)\" width=\"109\" x=\"172.070312\" xlink:href=\"data:image/png;base64,\niVBORw0KGgoAAAANSUhEUgAAAG0AAABtCAYAAACr+O9WAAAABHNCSVQICAgIfAhkiAAAIABJREFUeJxsvWuWHEmOpfkBIqKqZu5k5KNOVU/PcmYHs49Zdnef01mZkUG6u6mqPDA/AFEzZhfjWLiTdNpDIQAuLi6g8v/8v/+fiQiqiiYlpYSIICJggBm9d0Zv9N6x0TEzBAMzbIAZYCAYIoaqkbSTtZFTpyQjZyHnTCkLy7Jx225s6411Wdm2lVwyvXf++c/f+Z//63/xP/7H/+Qfv//BfjTMEqmsrMvG/e2N9/d33t/feH974+1+Y9s2lmUh54KoYjYYo9J7BYykhSUvrMvK+/vG+7eV261g1vn8evDHjw9+/vxi3w/O2rBhpJzYtoXttrIumZRArdPbST1PHl87P39+8sfvf/Cff/+d//zPv/P3v/+Df/zzd/74+YPH44HZQFNhXTdKWVAEEIDrGosIzO+Z3ysi6jZRt01Kev185l9+mYH48yJui19ewEQQG1hYy8JwGBiGyAAbMAZog9FgGGbqxkURaaTUSNpQSWjKGNDHoPXBGEC8cRHB4o25MTq9N1qt1Hpy1kxKisabVk3AYNjA4jT5v5v/dj4Es+EHcvjf9z7ordO7/15UEPWfywmEwWiNenbO2mlt0AcggqZELsUPZVlozQ95Sskv/jTKi9HmL/nlG/mv/vDFLka+rE1YyP+HIC/GAiGBgHRjMLDuF8H6wIZhw9xY1oGO0BEqKp2kRspCzoVlqaxLpzejV6Oug9qNUjLDjP1otG5uXE1+CIYxeuc8T3+bY9BbpbWTWg/Ow71tXVZyKaQkIG4wAYZ16qhgRs5QCqgMTAb1rP6oJ8dx8Hgc1NpBhLIfrOvCsmZyUlSB0Wm1cR6NxzGoXRAtrOuNt7dK6w2zjirU2gAlpYyq/mK0aQk/WJcpEeXpdb+6Uxx6caO9/LF7jvmziIqfYBOGCtqFjlGHv7HeT0brWO/YGFhvjNGw0RijYqOBNUSMlNSNti6sy8m2Nbatsa6NdWvkUkBg30/OZphkNBVSGuEZjdYarR6cx4P9sfD4Wvm63bjdb9xvN263e4TKQs7pCinDBlijNUWko9oxW0CMfT84jp193/n6evDx8eDxOOkRIpclU5ZCLokcqWP0QavucbUK6Mp2NzR5islJKSVzHAetWRydXw1mZozhEcnMQDWcQ36JbPPfmU0LQQb3pPl8dlkMVARV/0s1N5gNgM7old4OeqtYa1iff1bpvdFfvjd7Gm1dV5a1su2ddYvH3shLQVWorXFWA8nkvNKykfrp3tUbrQ7qeXCeO+e5cNadWndaPRm9YaNiY8OWFUpGRT1Udo/hKg1NHbOGKBzHwXke1PPg2B98fX7x8fHgrB1USNnDXs6ZXAqakh/iPhh9IBglFdYtsayFlJWchJyVr68Hx1E566APi1zjnjTGQIDuecVNI8/U9K+h8dU7s8gzvs5/eP349QSGjQAj7aTVg3o+OI8Ho1XoDRuD0VsAlkZvjdr86zBDVenNGAP6EGwkhiW6Ka0buTY0KWZGH4ZoppQVM1BRakrkeB0RUBVyyZQIWyoDcM+23hhNaAxUFSIHixijG71C1YEofuh6QyxCurnhe6v0EV6iiib3fE0Z0EggUJLCmkhrJidhWwf21rFhCIqwM+zAasfELnBhJowkpO7AycKmYxiiAfRerv+rl3pOg0At4Z7xnwNEN0arJ+fx4Dw+2R8fHPsntT78A48XNGnmFzUpmYyIMsz8GZOCKJgEMLXwIM8hMuRCPzklNFDluN0ggEGK8JOzkpJc3y8ls5RCKQUVPHyfnSFCSpAz5CKU0lFtcYVAGSxp0Beh3xLWMkImp85+NM7aqCec42SgIBlEUU2klFhKBsuYJUoCTNG0sW0OaM7a0OPA6AigqpQSCD2uQe+DWjtn9QMvQ7GUSBNJ/kt+u4x2xVH1sEgglTEGrVaO/Yv98cnx+ODYf3KeX/R6gA1UhDQhakqoZ1PGMMawOEV+WlSVlHOc3BQJ2j0ZJgSGnBMimVmO5JxZ14XbbeO2LZSSSGoBeAZKIMVh1No59uohDkNXpeTE7ZYpBZJ2RPwgqRq6CCqJLIUlrWzL4LYKH58Hn5/GpzVa7ZzVaB0swEUuhV4yoxVqTSxJyclQUTQt5LKQUoqD6OFW1chZKTmTc0ZFaK3z9ThovTsIYgCQVK+cdgEVIE+oLJG/LuNF8vOT0Kj1pB475/mgngc9cogKiCaHvLmQ4qGaPLSYhfEGY/iFnR+4lOzGUXcvMw8Jip/knDMpZ5ZlYds23t/f+O23b3z79sa2ZpIMGJXRPbe2QIBfHzvtOBmRC1kyJSvbqpQSJ9zrCgShJGFJma3AbRXuN+V+S9xWZSlK+rFjvVOPk3Z0+gBJmdwyrRbqmSk5XmNJLIUoVSKyvOAQUb/Oy1LYtpWSM613EDhr5TxPj0DzesT3V0QEsmq68tflda8oJ0KnaiLlTMkFlgUVAyukpJSyUJaVUhZSXtBcUEkAVw3UaqNWr11UlJQWUspxEi0Q3sCGYMpV1wkSP59Y15W3tze+f//G/baQdcDwHNvOnWNXFKPuJ6ogUdsJhqpQsodWpwH8Q6sEQsZR8roIty1x2zJv95W3t4P7rZCT579jf3gYO+E8/H3luC5LKbQ1s0YUqK1FfvZrN9GCGaSk3G4rb/cNGwMVo7WT1k7Os2N42DQTUhKPDLO4dhe8nu//QCEigqZMWRbghiY8z7QTwcilsG4by7qRy0rKC5ISIg4qrHdaaxzHgewH51lRIJUSj4xZ1HuRkMeIQlYGXQY9OfoT85CxlsJtXSgZsESrQk0gNui1UnIiqXhuwy7DqyaSpqfRzAFN8miOH+CM2eD9faP3wX5Ufvu+UTLUevB4GMexc5yVPgaIkFJhKQt1Wahn4SiJpIpZpzVDA1SN4UboA0SUbV34/u0er230ftJa5Usr52n0HocZL/I13Cg7gxAI8elbYTxBJJFKcXoqK6UU+rpirSECZVnZbjeW7UZeVkdXkuKiDHpzEEPaGVYYFnkwQl/OnvsMYdgTnMCA5nkuaaLVSaMFdFcHIIIjR7FOrx5u08VAvEBpJj3kkcUianlZAykJSf1Uq3IBnT4G7+8rYzQ+Pj75448/+PrsfI2depx0g6SJsayMvtJqRjUHE+LPpeqArPXupcIQEC+BbttKKYrQqfWg9YrqwQeN/XB2aJjnalM34EtxLQEz5TLY/JokIbqgIzFyJreC9e75YFlYto2y3cilICkHQrTg3hqiiTaE2oQ+HIKnIqSS8INvyGgvrk7kU37Jh7M2Gn2iVHGUKQVGo06DqX8Ws+FF/6yR7NfwPw2qkWece3WEuq6Jdc0eWsX48ceN799W3u6FH2siP+DA34+Zoc1fd4yBao+c7I9SUuT45KBJFSgYiuHg7Xbb+O23d89Z+YHqAyRCpRl9dKx1/3suIDI96/n76XNecShmCdGEab7ClaSMSWGY0odfLNH5L/1EiWY0L6Ri5KFgnZwFzYKo5zKRhMhETi/FYlScFvmx1U49G+3s2JKQrOScsO4MiF6gZjCCSRm9MUaPei2CjM066JWpcI+3l4I3qVBSYlsL99vG/f3G/ePO19E4mzFwqkokAZ6HbQxMwEyYNZ1qIpMZ6pFDZKFW+Hp4xMo589tv31nXlXX7IqcPRD/4+Ng5jpPWG7U6Psgz5k+DOYJ8RsgA0ljkqCEJcFIWM0yENsBapw1+QaCIBXr0WC4po5GHJNnzeokCCSGhYSDRYLXn8yGMAbV1zqNynpXWvE7SoNv8wP1qsNYavXVGhCZLcUEHnvNkFrcaRPXAEGrrlCpIEmRA1sy2rby9v/H2rfKoRhsZSZUxCA/XXzz3qpyucieTJJNSwcjsh/HxeSIC379vvL/d+f7tndvtTko5zq1h1qhfJ+d50lp3lv9ix14u0pXW4iWHEC0ZxVQgWjSTJx5tBMJ5ja5hNDNqM2fFzW05DEdWs0uA509nC8wTb5phS66yYIxB6512sfF2AY7J5l9MfjAyPdpKY/SIBhKeFhdWFYkSwIBhQlZoTRBTbBiqiWVdub+98e27cbTM4EYqJ632C6WK+PuZedK7BJ6XVOZnzJgpZzUee6Msie8ktu3GbXOqz1tj3jUZo3HWg+Pw7/PMDbMAnr9/7fUMHD6L8/sYbgibTIf5Y+YxizbI/NrHoDWjdQtkaLTkj6KG0hFzWI7NgsbRX9JXgCAXKnSnsqu90lqj1spZK7VWaqtXe8T7gf419WgxRZQQMaR7bTjEUBMPEDy7BKLeC1zWldv9jffviWZ3tFTW28H+iNq1n5GzAqYTjJIZ1jpDqpcigIqzKEaQCJpJyXt+S8kelrOQi7eGaj2o54lNo81fftjcO5Iqoo6FFZyxuGit4YlxRPUfbQcbXlu06m2TFhevN2+3OGfrFz1nWOYjeYGbkxCvBgS/mHACNkjY+fD2C4zRGdaop4fM8zyp9aTVFgSydyGehpun309+jxDWPTMhMuOOzsSAiATjv7Dd7rz3DUtQboPt8+Dj5w++Pn9Qj0+cPPCmpV/sehERMEjiuVV1wdicFcpuNAlSYVkK21q43Zz56a2x7w/qeZLUnkYz7Mn9zZwSxef1M+PpRSOMJmnSYIqJsx9el52c+855HH4R+2z56HWKrAgsSlozJSUvtkWu0ldVgvJRSnHOrpREXhIpO1Fs5r222jo1CvjW4v09M3K0Qvwhk3GQiSXFc3Twn9fzXj/n1yPlwroO7kMh5Xgfu4MXa0ADLNpC3onv5vneD3ljiFNoufihEPVwCcqIGnUpHiLf31dSgsfDu+TnUf3zz/6ZxOEa3opFh7kRXgrRi0qeRKbadVJSytAF0e4fYlggnpPzOGit++towpJ6OEoTfCRyEpbsBPBsUahonPAUBlNy0UCJegGPmTud/on8qCGdIIpmUczE+7T6JLaF4VSu/ZrHuw56Mpp4SAcjKZQs/l5GoY1MLpDzGgxPATFSzqRSoHdSH2geSAejeURj5rlg+02i++GHRFVZlwXRQq2NP/32nb/8+c+cp7FtO9niDVmAPVF/2i5e2Orlif5LJSBr8j/LuUS3OCOqnjdytNjdPUNy0KMx1P10kcmqlORetxR142S98pYz6X4B1iVTihetE9pr5D0uPUV60m2lsCwLvXdn/jUDyfnA4Xnm1ebPLOb/UzGyTrlC1JzSydLx0jIxhgYYctrt6u6n7EhZFF2M3AWzTG8ViW7FINGH0Dq0ZtQ+6EH5DRsYXrSXsvL29o0//emg9cxjP8hjOPQWAxMLQBFg0zqq9jzRkwtUwSG6J+gcrD0iERo8fKXkHjSSzAoBVc9jaxG2RdnWHCSrXsbLkRP8cLgXl5L9hGfvIOeU4vmNQXrhAJ8Gq2tj9BFse0FeKKyrQ6/+2ef7m5ZLCjV5zTmRqdJJ0pwu68J5Di89ascGXquJf3WpRHKZxZJACqoOJBQDzQxTWieQdaf1TjcPpb2POIiZdX3j2/fOsJXjrGQLo4WdPBHHB7JhjBmGXiD8ZJ8lahGN9onZQPR56nPxpJqs0bNnjpSUZcncbgv3+8J9W1jDwyb1NL05R4JOebIL3vpfliUeiazOUZYc3eXsPbX5GNrjUKW4qP5hRa7YwUvByCSOx5CLB0Ucyid171PpWK/eAzsdoQIkUVCu0C2ApkzKAhZgrTsr4qoxcS9rIRLqHgHGcM7Ro4FSlpX7/Y0+MksdZGfXr3B+MSNjOImJjPib+UMj6gfDIhzZ1DrEaTX8jS8lk1mRVREGKRqA65LZbgvbWliW5Oqu2Q1oBIqCMabKyi9Czol1LdzvK/f7xroklE5TKPVkKc60e5vEvbEzu8VPOdqM2gjX33lI1gjL8gzBYdOUvCe3lETSgeGItPWKWbvESwT5LJFWFEeppgIpXdFslh3eQ2vOS44p3olGsoAGak6lkBcwGeFp169nIkeMLiP6QlF/2axdRtRQ3vDsycPO6IPReoAZ4uRvlLR4z6q4UGZdHdKWklCB8zzZ9516dJoFoUrx04vgXR7nGddl4X7beHu7sRR1zlGMVsNgxUOkh0/BAg2KElHAD4FF8NDgGifJPHUxHt71yfAkpZdCKYOcHCn20ejjBGmk5IdjVgsmA4ZjAmUEAo3ienZAZsnS++Vl/oMShhtR/PthE01I0hfIb/+F8YLe8AIx9IxRZIuARZdaRAMtGvWcNVKnRFG6LbAt7mHr6qBiXTI5azAYLhA9IzeMoe7RYmQMSRPhCqVk1m2J7rVi3bnM5XSDLdNgqiQRurwg3vCa66OKP6eKXNrJ6ZGzmNfo5AuJko2SBymNSCNPtVlOQpbEJC2HQLdA4GFIUXVEHKVRNwsgNfVaofWcPJQ9o9yTHuPX4vpXA8ovdY4/wUBmsxKj26AGJdTCxY/j5DwPbDQsDdSErOLtE0IXOTI2vI1iY3AcJ8dRqWdzktU6KXVSGiCORsdsyQhklchxiqkxero8rKRESRr13mRynvSaYfSgugSjWPCd5of0taS5UlwcYBEHR0+vDK41KUUWSvKOAOLGat3Q6mBmdH/vTiIE+d0HCKwlX118b5UpY4j30/xHyElZSuRVuYzz/FDPVvc8kH6ylOGE6msOGkZvHcRrMZeMOUpq2RgVRhWODCXYjSUn1sVzDyKc58ljPzlPZ8yhk1onJWfAe5vcYSibJ8eneLEeoSzHI4nroFyvavNEAt5YnFSXAGMUXIIdpzlaOI61vMc39SST2lNVPzgqlKSYKFmVJYuHyTQQGdQ+0MOvXe+Qk6PmJctlNDNcfr4ulJDqgdI7VLgkGjnDtgh9CNnTVxhOfv2QFh/aSVAjxd+P8LIxjN4aZpVhrqg9T+f/zDo1GTXDkY0kA6GTxChZWQMF5pQYw+uUMbzLm4bLs1vqaBL6SBcLM8YUxAbxJBYqLblCYgoy7ILyYzIigzo6x3my7ycY9NXCEP6vJAfADFJbBleXwXBvU3karKTkRkuJVJScBjm7IDZFr811NrAUYVuErUR0am60JXL8Up7amt7A+tN5soIUP0TO8s8i81/9zVvJoE79iLywDyHV7t3iMdxo1fWOZp2mTgqfamAVGxWxRk7KbV3Y1pVlWZzjZMrFonFpHbPu+W3qAke0XIK5HyM5yLgI7icpJdNocQBnd+CsjcfuAxSzyaqiJM3hTY7axvAQJVdOC4O9ENhZjawugpdoL3mUgjngMJuroi4qWhZYFj8VOXmXZLlCo8fw0aHZU/toZtfnBMh2hY5nciZe1MOgofbMbpfBhhurtX49am3UFo3H4RxbV0NlhBr5gFHJSWjbcoU8V3GlELBwefyz3SFx+j0UT/19KQnJidfkM6msK5xFzu1tcJ6N/Tj5+tr5/Np9RmA4OZ4n5UXUncmRn0S3mygH/GfDYMlQdXXWMKU2vA2kJyonw6CNHIV18udMBNMf7VbDedQoAfxw4aiXKB/mwVQ3Yv4VNb54Wmg1bHRGoCEJA/fhjL0bLbrJrf3SCjFzwlZ66OjrQT13rB3kLDBG1Edeg014nabQRj0ku8bCaygMeu/eejkrbXFd5DxEw+w5LSNPDxwD77+dwr6ffD1Ovr6OCJteSuScLyR59fLGbDvhwEaf7aGcIOkIZbN4zYbBqIjtKCcmrixDC5IUicGQq3+pnppU48/No4GAt42Ivhxu7Hl483Q0kYkSJ8UTBusdESc5o2tzhcPWR3x9NhyvPpr1qO0GNhr1bNTjZPTK6J4Pai30vrhHXajQFcFJuQw2Wx0iU3LgvbNaC1P2PYZzdz14RQNm482bsN603ffKsVeOozrjL3ohT0UuL0tZ0R6da5FnXRd1nMp8ek+cI3L8aA3rJ2IHaEJLJi1ea3HVvI4LmJ4kk9+N/DcGQVSRZvMwqWOKV8j/nOUK5U+gQxvDPe0KP1ydY3+0lxzTLp3jiLGnaXy7COMnmPOTHgbLSlmCcUjqJznQ5hTbaCCEMZ6v25L/2eTuWtQ/QyYNYFdbqIvTTrU5MBgDztr5epzuyUwFdCLljiSJfB+I9KqnPI9MYQ6SogaTa9prDH91N4xcUgTs9e9mA1qDKvNnt+HdFhuDkQBJaHJCVJAw2sVyW9BRI+bO3ACIK9EdAs8L1Ghz2KL70IOFl/lzTk9rYN3RZ5KrDXPRSean1+uQzLLkS2/hjU9xSiorejU+Y4Km1eh2Dx+DCqZ8yoPMIyp9OF3UzDjPwegwdS6tuffNwroU5zdTGaDdL7sZWfwgTZ7ONSXJWYwQ0zqKUOjOXT6l9vI0mHmUmkZThUEK405aMCJZq6TuqSKX7DWsG22+EbvC2ehPL7Mx37jntdnkbLXHKFN1DzOfaPFjYhjdj1wMGWpAczSMdrEtQY2pkLKrgD2/zR6a84jlmjeLAxYfzEepQhcSBjOnD0AVU2W04WxNtzCYRqumB/9nHGenlM5xdtbWyTFYaAZiyqLQ53tGYuIn9J2zey+GDcWa+nuYdV3kV8Plfx0vfwjI9NTE+HTOsOYSjdoY6oMjwwJwCS/coz27u1Mr+OQbB05kB7ppTy97zoS1q+h+elqH8DRi1CiICa+ZauU8E2ddvN4bPn7ks9mZZVnZtoVl9aJzjsLO3HCx05euZPJzCckZLYVUGjpAbbh4JwSr7ughO1BBJGMobcDZBqn2UGo5Eq3JyK4gopsySJgUTPQa89XgCmeauUqOoKbMIuxZRxmh+ZyEtbeXNCmjuYC3tk5S6CODeS2pouQn8IivL142pVaXzt5G9HraNYt2Fbs2Q+N4+dow3GgS3kzE/RZGFbFo1azc6sY2QHNi3TYfyV1vrOvqbMEcg70653Mu25CUfPAjF1JZyMtKWRuljfCI7sz8kIDoccEk2PslX2xEbUaqA+hgQhJoXajhpc0SXbKTwuF914G0WZiHrGEeKKaGpntHW6fUIEWn2xXXKSWa+kxf95Z5XDaXJaSUPDxOeD9icHDMHPU6jmvdH72Hl82fdZAxRn8aLMKqWQtv696uiaRuzNAGMFiWzGNfuZ83au+IKLkUlnVjCYPNU6jqSX8aTDVF66T4uG/xEaOyLJSlsTRjWAVpIJ1u4mAlOL2lFLZlYY0pTm8JQW0+FJEUeneFehvOR3YSgzCaggwLAz+ZF0emk7OIojk8LT44GTdaTpmcnpHE/52F4R3wiGY0LT6dRHjRGD3GhY6A5TXAxfSmJ43UR2wE6FPgM4K9mEPzAfnHNFp0BSLu++npUT4ItVaO4/CVEOdJbc09AbkQFS8fnikiEc9bXvP4uFVK+Rq3yiX7tGjMCpip84FVI5wpSykx87a6mp2Oybi8ZVw1oDiCFm/reMxNQbtMpZpd6eEJ8F44mng++mDE55oH7zqM12eb5fdEpz4joCmTiV7Z6DVGcr9o505vJzaqe509PcnrL3uGwJc89nzDAWgujjDoHMlXdR8ZHRFzMeZ58ng8+PxcWJaVZVlDZTuHxIWlPBuFQfIw2Xm3ZYTNCxjMfOHDfiONp24yPL+UKfle3IvM+2QqDug9N/vgo6i69iM5OyHSrvfnXjGxgBvsCozy6+EbETZnvrwOo7165kwB06ApXjuTCY/o7aCeX+yPH5z7J625x1lc+MmuR5p9AS8TeDxlCLNInGHT/51i6VmzzPZGSomkMHrj2He+vgpryAlU0wS2gLIshT5GcHsX6OWFY7iK31fB7RxnmhMxsyAWcQ3lurr8QcRDYOteRnjXOZqRGk3fMJqG8GleA8Yz78+hwGdUePk6f718Bhw6MFd7+EEM70r+VTTjcgkl935GWHxwHh8cjx8c+wet7m60qLfcK+b7kIk+X0LBs3CW4A7HRJDxc5giMqKFErqPGdIUMA/R53lyHDvLEoOH6tqPKQOfngZPeZ+/7osiax6M14mYMcLLnmxETuJG23y7QhuJ2tQP2+jON6aX0eQUyDMS1gyhYgO5xpUvpvr55l7C++Rxn+F3XHlw9jL9s2QXI6l3EoKJJR/7J72dHPsnx+Onz1PvH/R+Pr3r1SC8kLqXMZ6dZZ31SQSwEZ6g07h4kb2tiW1dWFdvz6RY+bBthW1Jl/7x9ST8Wqw+475/q6ECS9f6iLIUWmvXwerdc5kFuyO4p6+lcLutqCba6KRWHOVFPs5ZSDl7nWlEt2FcquUxxiUPusKcxWe358F+ovQAJWGw52H0sClz8Y0mkMQwofXhVByQvz7/oPfKuX9y7B/U44NWHw7T1S/G893I8+BMQ768GccGfsLnGfOG84gY7kE7q3JbC9+/bbzdN5YSy1pKoSw3R43bwhoinXTVaPOkB3p8CYNTNOuoc6HWldZqkNfhDX1C9GlsCW2hK3pTLrRhaAvZeyBfFSMVF7wOmwMgLxM5MX77eommsZ5e5PluTMMNf41LOtddse3PEcOP6uFwDKh1cByN2gb58/MPrDdafdDOL6yfKA1JcoWDJ/qZtrIrbttLONBocUxKpwaf16+w5EVmUmVbC9/ebvz2/Y1tW0KImkllI5UbqWzkZWVZ5kC9S+n0Mp5etdocj3KJ3UJrnWWttLpe0zW1D6R2QuHj7yX2crnsbiWXBUWhz4vr+V6lkxKYDnrtLzu0esjnLCLB09+GOSXoKNsYGsgxrt+ks9ocx+q+IGbWdZ6/MobQTajNkDrQDnn/+hGJ9AS6j5KW5SWG5zDaq3PZ9fUimPFeU3oxWmqNsyZ6b2BPKVtKiVwW1u3G7fbGbVvIZcL19TJaigv5rNPCy1IQtJG/vLWh5GzkMiil++D+Uim1UmtDtfnplWn0WIuhGdGCakHyhopvnPNCOQgAa4i41w1Oup30kHIbLwgxEKtHGINYNjNeyoCJDq/eWfM1FFP72Jq55hKNkkIxCp2FZhk1Je+Pn6j6PNZSEkt+c24wPadmnj7Pv/z6NVZPOsaFmEatlZyr113RJ5poSHVB04bmG+iCoXRLqKxoWinLRll88P6VwppUzhUqkw+/q/opLR1aGeRcfdNCOlGtYZwW4tFCLkLOC5oWkEynICzBAfDZAAAgAElEQVSYFtAZXXyWW6wBUaNKZkjHZPefE42+n4ROdIpch3ONE2CMJ5ifl3EEkV1b54zNdqUOBko3xcQPFGlD8g3SAknJ5/lFTollW9i2G9/uG+vqnubA2H7JY1cOmTD2xWizGBbxkHjWynGe1FpptWJjhOS7oGlBdMPkRqcwhnrDcaysulHKxrpuTk2lfHnwU7M/B9L97zyHuCAm5+avodOTfHhfJF1IdBlKLj7k0Mm0kcAyxsKQEkW7L5dxlnlgNIZmTBrowz00VS8N1Kkm4eWajBe0a9f4CnMecJhdAOOsnfMclGJRL2rwmgvkO+Q3tPhoVO71JElBdWVbV759+879fiMlZUBI19yrhLnCwbet6ew32FQNeQjtc9zpPDlOHzs9z5PemnN9i4dAzTck3Rlkl4oJZBYkbSyrrwPU5CFCg3d8gpEXBiQlBzpDUR1exMuzrgkRAbwslTFTcl4QTfShnE0ZzekiSwVwIa3vYhoRVTqmCdMK6TPqpynznqVE4ObXEmkeZnuVQETem93/NqhteO5KMVFDwnQB3ZB0d+OlTPbWikP0UjK3+41v375RlvKsx2brW7xAnYMQ6aXFMq4ekJ+a4zh57AeP/eA4/FFrQ8Dz2P2d7f6Ndfvm7HoobCVvLOud+/2d+9sWQMYvRk7Ts6ZuPwCKqtNM3QLtzo0bzwL8lWHIyXeF5OTz420oZ4PRfT3iXF3hY4aeF1zaPbylnnbQBa6Bjucymas0UV7aLd5ucmXzsyU1YrTpEkcFkS3TYLi+BCmYrBgrkEPYgz/53D91v9/Ybhs5l+sFnb2AkhPr4o8SS04k+my1Nvaj8nicfH7tfMVj34NXrBWAbXvj7f2d2/0b6+3d3+zZYAxy3li2G7e3d97etmjheEc6XeEwCu4ZNtUR39X5deAWF8LoURcZc/uPYsj1tXXjaMaogyRXP5ohUTN5MgYxN0ZamYvNTATmsMZFP4VSOem1liIl7zSMFuFzMiB49B0TMwSnaubvYpiT08MSZolhmZxzLN7KixOtyefNlmVlXX0LXCk5WAxhWRK3NbNtmaXMItjFl+fZ+HocfHzuPrc2x5RiosX1kLBub7FQ02uy1oxuLo7JMaa0rv76rXeGVUbtl6x6ApGpQZQo5m0WrLOD3YerdEOpO9GvT+XAnFNo3SXpQztFOkmG9990Gk0gRy7C56SjiL1q2KnpMBPmtjzNKaQLXq4Me673vQrpWFvhS9CexHEfbjiPIELvQhteNOX7+2/O9a13NBX6wCFobdfWGUsCKfZjveaUyUxfkUGvVoM3MQu9zU62kVJynd8SdVkocg1jGTCSUIpTS7M98V+xCU8q1r1nBPswR4T6ZOanzC/C9hwnuvSczA64IzhSR1LDpJGGeNslxnpnq6VWnyHHYghF5NKNXoKiYDQuQiDqwnmoLn6RICPmGFfILQaJFtIO4v1r89yqOsi//fk/rhEiZOE4Bx+fu+vyz511Kayry5b7sjB6YYzi+yz+Va8XNYfPbMXbD2VTGc7YjxG7HMXAKmYHSUCKF6lr7qjUILC9r1XP6os8e/tlWrJHHhWR0IfMNUbj0sG7CvplaUyNHiE+HjyXUWtzg4k2oLrWVJ+LaJoAc8vA4SRElkFJ0I3QUD67DrMmlfDIi7564Sd90ZlLKhy9e1+vD6Ve4ipXbSONYdU7+3/6t/+O4s0+1DiqYZ87x3GwLD5Su60rt21j21bWc2U55vSnXMixj2dbYi7ebN18nYXODzFbTBKKqoPeXCaWdW7Hadjwza0WevfaXFKWWvZ1ua1RakMD6qt4/rqK1ODypj6zdXPjX0P0IQsQb0hK70iriFYHIAaSxlUoe1HsO5rreXA+PrB+kKS72Kf7hMyYHYgJeiRCqzlYmYdoBLTU2HU8Dbbd/OvZQE8vkdpoDGmYnHTLLvL57c//4dxgr9APRj85qm+9rs04q3pYaUZrxlnNGYrcriK6x84qhGvGa5LFw5QhKYbun7XJ2Srp3FEdPrqbPKSY+d7Gfd9JIZuea2lr9W12+eHbbHrvoX/3C3KefiqfSufpbc8T3iM0TTTPlADUBnJ68u+GpP5kNy4NaKWdO+18QD9J0ilqmFjsdx4X+zHBvucNvZDlE10qqWTKWli2xR/rQlkKwwYq7XltpYN0BrGS6e37vzk9005G3en1gfUDxkmnOSqrfiqHdLo16lDyyz4OvzixbyMGIUQBU4b4oyE08x2I/gaqa5KGORotmWEC0kEqw6orkUWZgw/ncWIGZ218fe3ctpV1Xa5maWuD86jse+U8u88y96h5xBlzNMPoYQx1Ir8G2BlKa6C5u1pLn/DcrDOa73DurSLWySF7b7EFbw4Ijj6lF7PNEnggpZDCeTN4WReW28qyrZQgrJ0M6Pgmv87cyNAnqyJGvr//OU7RyagHvT7obRrvxKzRDLRnqIKJUAQ6+rIo2nV+fuKVLoraBAqZbo02jKP55myzwdmMOqDOQfHFN9RNLUoflVLEEa0mUGLP7xd8PcjF1+7dbhtlWVBJruVoIyZ3IjwbEKIYzQtq4jTUhOhDGM0Qa7SuaIvQmNqLXjHaT8MNN3r02ng+bGpoxtwZ0knZdcRzSadZIfcMFDTBcnOjlW3xbem5RH0o+E6SWJJG9NJCm5/L+hYi05VRVkZb6HWj15VWd6xXRAamMCTRySQKg0xsiI89hHPi0WuXWbMYbuBqjbPDXj25JjW6KT0mY56dcddMmnSMwaoBXDT51MtZqb2j6bg2kW99MPdNzfkCZ9TlYvJTWcgDTNSZ/2E+BoVy3QhCmw+g9hH9rCiS4zJOEe9o0+uqR6j+L53ra+rHos8Xe0VojFEwYuvBWihboawLqSxoKh4JxD2NKC8c+mvsEBIypEtnnq6iMBZoLiuMhg+5G1mjWCz5KrwN0BnLmU01QuAa4dOMPlxTOPX/I6m3GbpcnjpmczAWoiCJnBeW7UYpvgjFUMZ5RBIv1zJq1Rx9J3NGnlBEI0EJadBCDZMOUcP5WXk2Ri+YZwMfip7NxAAU5ouij/1gf3xwngete5S4yBiZoczbW2lxSZ9ZhdOl6rNM0pRIxfuA/lhINVCs9MvLdF4ThHz1g4h+lxYf+ynFOTXxQcCkweCE4TTuBmHYBZvn1MrVhR046jJxVmLEMKKZT1yiv3CEchWscp3Qsm7c72+s60brzaf8D9+d/O3bnd++f+N+vyHie/+P00uOXLz1ImkWwgmTjEvpGtJ8qlWidyYTMOizuzFbUgTi9YOgnLXz8fnFx48fnHVH0+JcqpZLmuCzbb6VoKyes8Y4PPL0qV4Ow+qs02KRThZUK0aN5rGE4Ty/53rWQH0vqxhSIqcSi8RiECKmWNIkjEPSNDuwrumPrm73kzzMpmKduYt/XgCXvDkDczH419IXfw8pZ5bou93vN1rv/t5iCO/79zu//eZGA895eW/kXKNJGl5/ee+THvJY0H2Dw2zkvqiFfxHiGE8DmlHPyufHF//84w9qPVi2O/f3hbUsF/th5Kspu6wry7bR2iMQMpcUwTNK8JNzkY76e2GuYDJBBz6MYZBbre4xwXz4Dg8NZl2ft+FI09OCBL0+w0BHDy/plwBlhAxFTdDuhaQEgnMi1Ylf75fFdrnLYE9FVXQjAfN6LiuLFUrcQME30vmPDMX3eaiRkvnIVCI22XH9PiWZKcjbTUyjjUDmwdbbs9GLxGBE81umPB5ffH5+UtuJkVi2xgrBNxYvZVZHt+u6sC6ZHntOall8gfd1x6eZN+0Kz08dyWyPWcjahdxbD6PhwwNzGH0kZCgMxbIjl0lncYlrnrFe5vyzhEfahCLeNknF0ZGmjJn592WJjeEaTUlcRKM4+LFKqzvHnryvJdBHKJYt0drBvgs2nIjuLUaZaqPXAAq9YuPErCJUhIbSSNIdQI0Y/n/GQZi7K6/ay0HN6MZ5HJz7B+f55fmsVc7itWFvXpCXsiCSuN1uznIUZS2KrYV2vyP9HdHBuqx+2xUMRme06r29axvsiFw/MO0u2xMjW1jPAZTvxfclGB0byuhKz8LIwsiKZfXTkNMLheXhZ64SUhFIMcaj0VYpK2VxsY3ZoCyuAcnrSlmEUoySYxwq7mwxeuU4vhA6rT4ij3IRucfesX6y53Shu8kjOp1Waaffa81l7j7zLXGrMF/KMiKEPvuBxOm+poaGLy3rtXPuB/V08ZON+lRYd9ce5FxIS6Is8Pb+zvv9xm11cl1vK9LeKWIYjVSUJRXU8FX4tcJItHPOlfuUz9CBjI71BqJkp1qu0H3xY10GtNkpCk8ihsbnrgydbZCJ/jS6C88BOhXfkV3WjbXdHBZjLMuN7Xb3nf7FyLmTcr8UwOB3G6znwEalzvXt0erwA1Wp5+yWE2HF0ek03NPr5vxcLGyxfnXCLkhv8zmeCupro07QYPU86O0LrCJiEdp9l/K6LNzuC9uWWLfE2/s73757U7nklTUJi8C2FF/PJOYdHzKjC/UcDJ031Jv6zgjRfQQqNnLZtic44nVk1kFJSc9FmT5a66t+TJUh8qSnGL/kgEsEJF5ZLKsvP7ndVlSEsnizc10Ki3SKHGROJHZx2RgMGu1i+gdjJLIlbCRGVnqfa5Ce+dWulsxk9v0xB0WI8aspXfer4nD/Obv9JKWfa5DmAgDfhSViLMU73d/fb/zlz9/567/9hW/f33h737i/bWz3O9v2jWW5I5I9fL/tHPvOWU/O5nMRIkK3Qu0LvScX91gC8dW6U1VpI1Rny/1+Gc3plhDoxNhsTs4L5vj+Qo08EdAQfHPOeGmnYIw5pK2Jsgq3NZP1zQ/DVFtpQseBdEHaZP5DVh1SB+EaNAGcmE3jubtqusk1FPJLP21c3OhzUPLlYc/6sL+IR+0qXaJJOby0GTGelbP47o914y9//sZ//Puf+W//17/zp7/8iW+/feP+dmNZ76S0YSzRE+turPPgsZ98PSqPvYZ8Ds7mc+1n9/AsSdAOatlvgTRCYVy21cNf5IprUDzGZ32SP76f0gKLVUUvKIfpyjiB6hfXE4SP5wq3JbMVc6lCXlxwY2BtMIa/MS9mYy2SRoiNWndcQ+kxQ0DyhWciVz7r7SkOHT2Gzmc7ZEwpNlc0uFTA49ntbn3KAu36819bKkTXfuHt7cZf//Kd//bvf+H//u//xl/++lfef/vOeruT8oaNQm3CWX1WPbdKOk+GnpyjIs33G9eYZDXrnM0JCV+kBnRljk4bkDVEfgL8Mh8cTUg/gX7iRwCP6xSPGRLDHyZIEGGuy7mGN+S5o0oYWD9jG4JhdWfUg9H8XmyzHnSNRqyx5XmhPe8E0vW9Dr+E5AsFxnqkeZyeJ+wZEqdCatL+4/LYYHjstQ6N/Si47EKL8O39xp9+e+Ovf3nnr3/+xm+/3VnvCyn7TmfnIQXrvvmg1RrbGXxNYmuJ2p7lhw2oTWhdo8b1a3zdcNYgX7NV/4KcRKAxVyxNwts/+Lw77dUbsvDSrDETloLO6Rhx98I2OM2gDU7mkpO4OL1dBGxWvW7z4eLSCZQmUzL3ilzkCXN0at7uWYc+ZQfxocdzCQQxYHbVz6Lik6ovDd0e9x0gNp26DNxvlwlGKQ4+3t9u/Pb9zvfvN769LyzZGPXBsX/SutJ74qy+g/84Kvt58tgbX4fxtQuPXamVQKFOPPdutIHvahle5vSYGzcz8mhnnNDXtn5UnheJO9dPTxgcDb9XSXiCvBS4L0gqJJVoLVSsV87YMXKMFifu5KwOmXGXp2RHYHc2clJcjaTTXtfSyplvr/vK6HNwbwQYGrHrRGpjmCA93v+MCk8TRpQZl0GfgGqOLj0ZfBtBGsQ2hm3zVez3rbAUYYzTt3t/fnGcg94TfSRqxdc77W60vSpHWzjbEru/nkDK8KZqt+c9B3zLX9y25NwfF8wdMcE55vjtZK7naCrx+5m5J1uAoUlYtoKxYiy+tzd6UKOe0BpHrdjpjcTj2DnPg979XtelLGzrjfvtDiRU12tcd27R8dsuzwUxkWdDKTb3axkzNw1aHcw2feuCNHHWI/Z7GLFzJDrcTnrPycs56O5yhtSFrjO3PEPqnH/TuMfZee78/OE3LP96nEGGJ1oXjqPx2Cv72TlbovaVZhvdCn4PnGhnBQc7LHa21EqLm0OMYeTHjx+B+EJjMeenX1f1mbdJAhe7oZ5zPJfRzrNQ20KtC3nJrrq14VtsaqUflb4fnPuDff/iPHZ697s+LWVl2yq1GsMKIhuSzAckxG9ZXJbEsvhisFJ8fUVJGhfs2dJ3saxR60CPhnHSRqENb17OFsoYg9pbSBR8b6QRHCAdkYbgMH9691mF8/Di99g7j8fhuyqr14Vfj4N//vGT//23f/Dz44tWh7dWRuhYulG7ULtytExtmW4ZYw4O5muI0CTF3UN8Vf61S+zzxx8vRnuZrZ73rg5NOrHr8TLUBRkDYKiQj8R5Fo59oazOC6qKD9vVRt1PzsfO8fCYf0yjiVLKyXEMWhOGFZAV1G8msKwl9P2FsijLIqyLsi4aMj65TmYffl+bWgdIp49GahnNGerpC12k0+nUXjmq+et2orPg9WhOvvZWpWIjUasX9nro846F/WT5ePDxufu+rf3k42Pnn3988p9//4M//vjJedRnBztW2iIOPh4nHCe04Xd5StnnGDT5Z0dyfKYeXuZ5Nj8+fjpGiXnqYe2qd657j02DvaKwl4cbDWpVas2cR6Ys8YiblfbWqfvJsZ/XJtXzOOm9ggnn2WmN6F4XTBaQQs4L67oxbn4rMO+LuXzAx5T8cIjETchboFp8PttXSQhni9NdB2eF8zSO09iPwXH4+FIKxiKLe28pErtD5JL1+f3RfEflcfqKps+vk4+vg9vnycfnyc+Pg4/Pg58/vzj24xo+ydE305xdf7M39r3Th6JpJZcbudwZvYI2DG+Yjtf8CuTeHhHfg297hfAh6HtC6ZnMw1hR4BjmTtjm34fRe2cENTU37LyOp3prPW4e0DscB8PUhZnN1wQKnZI6JTVGX8lnImdhXQr1vnJuK+vit+MaNqjNVc5fn0fcPfeIIrax75XH4QvNLmI5hvkkdg33JlTxtX1ZhJS9Z/Hc8RUCpuiGa1poAx574+Nr52s/qfMuIjGGZZ2g16r38MxD8uhx3xkSSZSsC1l75OED3+Q3b9E8b9YgZKjR8FOSJD/BcYMx01gBaIMRIdKurm544Px9lAkWbDgMqnWvT9LcUy/kUl5KKUHOFPVa1EP7I8Q5O+fxCeOLLA/Evvh6rN420sSyrLzf77zd33wEOCvIoLWTr68HP3588M8/Pvj4+eCxt2uU6LH7VtVanXlxxJpj8/hwsrZ2H8boGVl9EKPVSj0Paj08RC0LWhaW2xumhf3sfHzufl9rTdzfbhiDdc20WMbdR2MwYjXVCCrMJREemVyJ3c1XHbrxB6KrN3PVDZg1zTvtic9bqU+M2BhYnrVD3IJr8nUvxnqWB3bBaCbD0IwWaDPHLFlJ8xaQMYCoOe7C5DVQPQ9affD4/KDuP0k8WNKO8kVZFgZ+J/pSbtzv33l/O11eviRUfRnox+dPfv/H7/z977/z48fHNfbau9dKx3nSWqPkxPvbxqI3tBRGr5ztoLWTWhLSbygbOeVYCXVST5e2l7KhubDe7qCF/Rykh9/AbllXfvvTb9zvGzVulHQcB4/9wePYOaOH6dtUCymvLMudZdnQtNKacUiEeATJoCWjafMBEuV8qYVcTDL7a5j4fijkuqeY2f9psOfXJ5q0ETJpr2y9tlG7ZNCTtbBZhBH6QhshYu3YOLmt8PMGJXdyWRjmdU/Kdz6/Op9fg21rrGsip8EYOx8//+A///Y3/vff/sYf//zBcVTXg8S8gG99BbaCbbM+67S68/j6YD9cWZ11sK2+Mt7MC902YJC9Fi0bmu/0UdhPI+Xuddv9jfdvdxiddp4cj53Pry9+/PxAfn5ij93FQ6GByXllWTZy2XwiVV2q2M0YqN+AqaxouSGSyWIPfPt/C2jfXEuBXmzPlYPwQTeidSF0nxqx+fhVJz8G104siRszRFT0Fo5612DkzOi+1l1jNBfx0FybC1e/Pgs5nwyUMTKSOkdVHqeyrN3J2zwgjPaP33/n73//G7///jv743SZnPg9cNYls90L65JYSidJZfTOsX/y8+cPPr++YovPBgJpKSQUOX33ZR+K2IqMDe0LR03kE++h5ZVv3994f9v8Pjv1ZH88+Pnzk3X7geSfWPLCWySR0uI9uDJ3hngaScPXMA1WNG/kJeb5tJCFM1iAhlkkwMlEqBeaxJAec9LxegSjizzvRabP6AlRHXSji0HcqHUuWBaZ+z0SljNj+Lx0j22uU0buy6IPSvbywEhYhzoKe8vobty2wlYMtZ2PD7/4P378kx9//M7ja2c0v5P9/b5xW+/ct4W3u7KtoOp112N/8PHxxc+PL8YQ6l8GkjLLtjFkkA6BpCH5W7C+Iq2QWqJ2n6gpy41v3//Ev/3lN7Y1Q688vr748cdPNL9R7Y06PtFjMMyHIn1U2kDHdecMKeqqR/ER51xuaPYWT05BtvZhzhH2aGaKQpqFXkF1QaSEV3KxIca4WP0nvpAn1gwlmgyLSYW4V+YVkt3bLBfKS/NRU4wviVDb4Die47+SvIVT20kfO1RhjMZYIOGzcPtxcJw75/ngPHesG9iCkFkX4e2eebt73QeOOs+zcpyR/4Ygmr3vt90ZYuQjoY+EjP+/rzNdbhzZ0ehBLiS12HWrI25MTMz7P91E3O72IpHMBfMDSEp2VY+j7LJkiZKYTCQS+Bah90xnsmoGRhNOKbMsC9frC68/fnI9TaCF9bQQ48RaM2/3zMe60MRTfQfiQkHFenVqKCskBURm27+lhRhnRDIpBHM6N3Ho3Vr0zYzr5JD4mWzQwuTU2GE4Z+vRIbfI4IrZYKg+2jR2p/rs8+IvVvoJdn0c+8XmFRhr9cNeG3ErPksTk4FQ6HSqNytr6yaPJI4qxlVcU2KZM4IwTxMv15nLxcgkKRlWstbKulVKgxAnllPicn3ldHmx7vp8oqHkKZCnYGa0PSIxk6fEvCROp8zlbOI1k1t/hZhNtDplw8hEO4+ECsF8wm0p0Ecfsj/4dN092ZSEkBDJiJEpX6BWlDutbWzb3dPaDkEMWy6uRhAMBTvU0IJLAA3phMOQwAdEZTTzOUA/ls6Ij5//LQQXhFWSd4tVO63awJuMn3ljS4A8GWFPekRboA4us9cgQ0zudG8bVT3Z+nJaJq7XCy8vV+b5TAjJtgG+wVYSy/mFS8r8/OMnP3785HR+YZpPVFVjEc3BKPPdIsSyJC7XzOvrzOvrzPmUiVForbPvts+snrlaIjPg79YbG4LW2o0z3lqkOeGlqVdR+kAYByCS8vQTCTu1BZDVipTVhMyspeUg0hDRkO07ZjRlesiIQ5klmDqASERDfMxG4cuXbe9sI3tArkWQGIiSMBmHbImO2gbburqdRa1clifDPoYe0RqQZvA7U4eLxDwxzyculxdyEGJozFMwOtFyYlnO5GnB5Is29looLRBS5nI2cOwff/zk9ccfnE5Xcj6Rqlrtc450OlEtzJ/OiZfrxI/XhR+vC+fF/N5LMdMj0ULZd+cXWKW+9tEg5kja6Io677vV4JADXITHUdKe8KXT5b+oZQOZKc0KqCJALwQ6SSBI8+xvBQpdEs3Jhdocy+iyQH3IQMgDbo58DZujMm6a9C7xJ7bIQzpw8VZdGWm6f4hg3PBpStaGDxGppls/kGEQSHnmcr6wuJXIPJu/TfIqhoqxXjsNCRMpd1KeOZ+vXF9f+fGvf3G+vJCnxcJaNNODnBONRlDzS5uXyOk8c70sXM9WnRHh4MEFLa4aNFBdoypkkScGb9M60HvIPmsfqOLHgHW1Ln66vv4PtW6k+Yq4v2fZrkgvJLpxkLkTuIOuViYqnVtpbKWYu6yqr2nxqVI9VHWGhtWQRXrQgGNMkJKtk5inqGlxZFvrRiKj32mxRnUNGukurz4U3Zo26+6mTDifEU3kaP42hvw1wehWI7UryMQ8G2h0mk+cL1euL6+cL1emeSHEbDQpVwoK2WDyooYTmWbTizwtC8s0mekRMLxCgz6K73hhQmiE0B3K4XtggfbURRndvrG8HKXeDun88t+0tpPmK3GamU8n2v5O7IVMJ1PI/E3Uv9D2N/dt5e+b0j4tqzN5wWK9M8VY+CQQ1/1wuPcxgGInXVNCdSKR6TIZoAi7SiUGRCP0dKCp7AN7EuOaIDEK2VfJUr1pWK0Tn3IiTSeiTG7MYM8rDWoR9mbHCikz+95tXk6czhdO5wvzfCLGCZXkCgOuoBM5zG1jNqzINE3M08QyTV6GkgObYko/jwJEcDJLDOa55s7J9KBHjfORidt7HmJwZvfZSWn+SegF4oQ4U0brjaSVic6kO5k/SSxozdzWGxo7BaVLo9bVY7fLBVXDHHatJpSiRtWRYOTCIMEgcD1zmCx450BTOwCwh/axQ94MnhCoxUzIY9yRaArf1mmQA4MSQiCHyUtmrgGixs7R5iwe292bxMZiIp3ztDBNCzEuiFgqrw7Zaz06+8Y5CaObHr0XOJnhUUyJ0uJBODloVOrOWA5RVzWwdgjjeuzHt/JcVLfUfHTT6Z1UNdtIhjOSlESEvJG1OwutkOVKlgv0V5hXSmr0SZkvBdFPIm+IfrCuG++flfebsu6jfRIPbrR2q6a1pkgw3fkYd0rZXP8qHSpAvTdqqazrzrbaHi0y8Z4aMRhxMKYdwoKGmRAmppQJ2QU1xSoOqOkPt24yDxXDLYTkOh9TIs6ZkBMaErVl2E2fJE+B1EwyvvVIdVRVqXaSk4B00wOb55nzaSamyFaNy1CrzZo25syTMvkQqmZgLPszYWVkaUNpaKzXJpOR1n2EnYRygpgIoT5mJxWNrxB+EPg3ed64TEo4Ky9lZ4pvzPFPInY55j8AAAp/SURBVH/x8fHB//65Ev6zE25K04ek6+jAtlZ8hilQCFIJZX/gPeRpv+bY/H23TCzoxocU6IX1vpLyieg9qNPpwnIOzLM5KHV1tYWmNkNbpPZI0wQxHlKFaUpIjvRgodNI6naSUhbbXhCpNVgfbrMGq0gnC2gzd4x5MoPZmCKxGOx738z4vB9FhMCUEstki9gA0Q6PnPa0ltmADSboiD4G20/rXnwfBSKZIMlYnwRMhr4j4YKkV1JYITemrISTIrpxmd64TH+S5D+8vb1B/KD0OxoaVSME85e2lvlGLRu17U9Su821PaqHt6eeXLc+m0EEoNXOerdCwLbtpLyRp8Jy6kw5kcOZ82wUqr122w9VpfRA6YnWM0adnUhpOrTwCbZhbq3Q92LoVCrz0llOphViqubKvhnTNEqjR5BuCcWcE8syGx4yGQg2aGfrgTrQYsGyz3nmwF721hj2yMdABFvTTWQmMsiZQ5UhNXfKHZLnNhsNZFIx0RMl0lom6myLJaCxk6QQ55m0LEzhwtLfOd8/uK43K9OoVQ0kRiNGlI1aVqqrKPRWDGbdixWs3SVm2FmiQ0bem6raEIa2hrqpdwBNnE872s0xIsRA1OhbDxiK2yqmlRLjbPzrYAmTsUV9A1x3pFdqFRfiNPzLSP5GQTwEJYdhtB6Z5+S0pkTKHTSYmUItbL5XlWC6YvM8DB1sGQjNBeK6EgdrtUcC1ql/rGkGB0zqEDZU6N5aV/HduJeHiy/ulpo7ypZOjoZSin1Cw5UW78TlxullpaeGSrIKSooGZWi7md+13Qdtp7eN1jaXlN8f6fBQ6T5mY2Hf72zbjW3fjs629koIjX0zYI2tlzaQVsoytVfE9nVIBi/JqSSaRmhiyU4zuSjpxeGB5WDNGA3M0pAoyhSVZRJOk7DMDzvoZZ7ICc9+O2VdbR+mNktijszdExUftIEfdQgpg2rc1MOjWrdkNE6TO+YcUkHtWMy8f6IPQTz7cniBdHISU0eThT1D64WedqbzDtkq5IMZaQaww5fGZlhvO71u1HqnlpXWVoR6uACmYOUrtNDaxuftjff3v3h/f+e+Vsoe6T3RanR8ilDsCrNQqLZnPDxciKinV/okEmafMzjhvSBsdrH0Ge3VHa5g4GFCMFrWlGGeICc3EHfzvBSF3mBzI73W3fNUjTifciD3ob+Svw2aYsJlkd6MuQoG1yBY2E3q+x8UL+5y7Id0DNoB4LSDIu4oqzjUK1FaAlWqVjSZekGIQ9DL1HrMycjsTOj1GLhaV2q509tGkEqOypQghU4MDSjUupKmC52Z2he67Fas7jMhnUHO1L6wtwmtE01nmk4oA6lslZhOhB4OUKt1K8Y+qHuY3n3RN+FqCY3mJAybMb5JFvFK0YC7H2fvWINKbax7Zd0aW4Hm+8zBas050ntk6Plb8Tu4nlY8Jo3hcKxh+9VeUvXLrzoGU59uH0Af09rdix2yVAN39mZNSlUlmHeRtcy9M277johoRpkgGGQsyQK6E0NnSrZWmOdmBy2EsjH3C6d6Ye8/0biRZ+g9keJCWs5ouLK3C62c6cy0njm8yfyji7r1M+qZmUtBUel4oYDiKGrD7xM6rQnDobFjzsClcICDBrdh+Ljd1o2P2533j433j533j0JpTrIMdsHEIGawruYu3JpQ3EfAwuL4huGdDb94gj7//oiZ1ry2/3VsL70PZ/rEyibWahjwAlBXOfVeahgDN76FYW4srnIQwkxMmDpddh9MLKyiO2G6kpdXTm0lpOJFVbNDSXlC48zeZoQJZbIwqAEJlguLuh2eVszbxxqXti03NQGwtdUU7AzVq1KNLOGKcKKNPVS2Hda9su3mOmw+3YZDefu48dfbJ3++3fjrbePtfTcRndSJeWhT6kEnS75vPPjejHqjHIM2fHqSB8enNWu0vY6mioWCMctGSo5lUh2l6jDI8dRFOcLFsKg6aLdHwXjoNkKQ6HW45MuozdAx1VtvVK00OSH5Sl4KkgY1iKM3h0T2nkCTQyacEdTNh8nIPJZEjbKY+DyDguiO6g7dBF1qMdRWo7glpWfTHvYMN1lZ18p6r9zvZnp+3zb+fv/kr/dP/n6/8/f7xvtHoQNpUqauB5x9wBXHEjRYtYaxgSHk6audz7Q+hu0x244NHvrIUMZM1K+Psv0Ux4t7KxTRp5A0Zld/VPyHELl5wyg9DB6YlZtKZeB9DFLdI7XY/10m2z+KkSHU31d3HWN1ATGVx8WjQ4ufgdHnKHsZaNMSHm0rvX5SJbJvEyGdTf2uzPQ+JJDsgimuW3JfG7d75XYrxKys28btfud2v/PxufHxYSBWEWHyDLCbxbB9ttrZdmXbxWlOviUYCQo4q8cHbaxjzz+/D9A/femXxW4MsHezvxzH1kELs7aN6H00S8fggXidMAbc/sQvD32QAY3QEI7C8SiwPoBg4+rtTh22Y3S/nAbO5eiaI8fM0z4G7UbVwHafQE7EaaJ06N21q8RWwtqU3Qft47Py9r6TcmcrK7d15XY3DefbvXC/V9P7D0pK6mwasdJYhW3rbDtsm2XAJsT2ULR7/vn/rGlfB031azfz+Vbw9c0+jHz769PAfTls4/dfjxP9+3vD4/CqY1zHTcZO5+trjcf71PNirJnauZCRKoNI39tO7YKEFcJG6KvLH1qE6L6u967spfN5K/z9tjHlTJ4apa183oyiu23VNJirEzNbpVXLQrcqrLuw7bAXiy61isPjB15m7MyPifY7c/IvZ+Bxry0e4/lfZ9Lx7X/TsZjq02P1ccyjxvZ01/OPY4DHMx9hlZHEjM9yvJFfQ/dxa0QADwbi2ezjOgyIGh9OMfKHYl6cezV7SZIecrQGLLLZVkrj83PnP3/dUYU8NbpurPvK/V4scfH0PkUXQ+02S7cVIxZuIyQGX9MGZnSstxypvw/abwbsOBlPk/LLbfn2+N+E2N+F3S/bi+d18df7fp31igWzIQcmx/3Pj/n1NX3gRrHA71I1hmv3RCZoRFmQ+GK2WoJVeTijOhE0eCulH68lmH30++eGyDu3+07OHZFC151STK9xmU1vLIZOik7KbZ19h/vdB63b9gNvTX1fmp5jV/p2Fo/fxxj9LlT9Err09/d/++OX5z/fK085T/j+Lp+WzBGYBl96HOnIbH/7Ws9h8+tbtJ2J96tICCeIr1aTBJATKhc6C0GM/GDCNI+1vLbO5+dKKZ23j5WcIKVOjN2FbCKns2uwYOHX8COdWmDblHUTL1QIIXrEOpIl/ymPSJf02wd5foJ94G+h5tsJHYf+xzD7OGvfXkS+/s3f18g08UThSDBkhLlH+Hy8jcds+ypF+/W35/doh3QiIrZnDExIvFglAsFYrQuQ7fEyOOj+ppzGvG7G7rR+GUwZplk4LYnTKVkROQZEC3XvOG3bdZehFIMahKReczXWjhzZG76dsg+T+D5qfmXLt7u/zI5fxuefBuzXaf7Pz/l64OdwII9A6v/kN8/Rb8d8DOvz+vjtGceNo1IjyTfngvUYrWhrYUePgRtPHXLAh2p5HW7ygZwsfMRo4jn0QPcig+3JPCNursTRrRAxzvXY8x4DhyIq/B/oXJH4DOaw9gAAAABJRU5ErkJggg==\" y=\"-170\"/>\n   </g>\n   <g id=\"matplotlib.axis_9\">\n    <g id=\"text_5\">\n     <!-- True: truck -->\n     <defs>\n      <path d=\"M 39.84375 0 \nL 21.96875 24.125 \nL 15.53125 18.796875 \nL 15.53125 0 \nL 6.734375 0 \nL 6.734375 72.46875 \nL 15.53125 72.46875 \nL 15.53125 27.203125 \nL 38.71875 52.828125 \nL 49.03125 52.828125 \nL 27.59375 30.125 \nL 50.140625 0 \nz\n\" id=\"LiberationSans-6b\"/>\n     </defs>\n     <g style=\"fill:#555555;\" transform=\"translate(197.7625 291.69625)scale(0.12 -0.12)\">\n      <use xlink:href=\"#LiberationSans-54\"/>\n      <use x=\"61.037109\" xlink:href=\"#LiberationSans-72\"/>\n      <use x=\"94.337891\" xlink:href=\"#LiberationSans-75\"/>\n      <use x=\"149.953125\" xlink:href=\"#LiberationSans-65\"/>\n      <use x=\"205.568359\" xlink:href=\"#LiberationSans-3a\"/>\n      <use x=\"233.351562\" xlink:href=\"#LiberationSans-20\"/>\n      <use x=\"261.134766\" xlink:href=\"#LiberationSans-74\"/>\n      <use x=\"288.917969\" xlink:href=\"#LiberationSans-72\"/>\n      <use x=\"322.21875\" xlink:href=\"#LiberationSans-75\"/>\n      <use x=\"377.833984\" xlink:href=\"#LiberationSans-63\"/>\n      <use x=\"427.833984\" xlink:href=\"#LiberationSans-6b\"/>\n     </g>\n     <!-- Predicted: automobile -->\n     <g style=\"fill:#555555;\" transform=\"translate(168.4 304.62175)scale(0.12 -0.12)\">\n      <use xlink:href=\"#LiberationSans-50\"/>\n      <use x=\"66.699219\" xlink:href=\"#LiberationSans-72\"/>\n      <use x=\"100\" xlink:href=\"#LiberationSans-65\"/>\n      <use x=\"155.615234\" xlink:href=\"#LiberationSans-64\"/>\n      <use x=\"211.230469\" xlink:href=\"#LiberationSans-69\"/>\n      <use x=\"233.447266\" xlink:href=\"#LiberationSans-63\"/>\n      <use x=\"283.447266\" xlink:href=\"#LiberationSans-74\"/>\n      <use x=\"311.230469\" xlink:href=\"#LiberationSans-65\"/>\n      <use x=\"366.845703\" xlink:href=\"#LiberationSans-64\"/>\n      <use x=\"422.460938\" xlink:href=\"#LiberationSans-3a\"/>\n      <use x=\"450.244141\" xlink:href=\"#LiberationSans-20\"/>\n      <use x=\"478.027344\" xlink:href=\"#LiberationSans-61\"/>\n      <use x=\"533.642578\" xlink:href=\"#LiberationSans-75\"/>\n      <use x=\"589.257812\" xlink:href=\"#LiberationSans-74\"/>\n      <use x=\"617.041016\" xlink:href=\"#LiberationSans-6f\"/>\n      <use x=\"672.65625\" xlink:href=\"#LiberationSans-6d\"/>\n      <use x=\"755.957031\" xlink:href=\"#LiberationSans-6f\"/>\n      <use x=\"811.572266\" xlink:href=\"#LiberationSans-62\"/>\n      <use x=\"867.1875\" xlink:href=\"#LiberationSans-69\"/>\n      <use x=\"889.404297\" xlink:href=\"#LiberationSans-6c\"/>\n      <use x=\"911.621094\" xlink:href=\"#LiberationSans-65\"/>\n     </g>\n    </g>\n   </g>\n   <g id=\"matplotlib.axis_10\"/>\n   <g id=\"patch_23\">\n    <path d=\"M 172.070312 279 \nL 172.070312 170.28 \n\" style=\"fill:none;stroke:#ffffff;stroke-linecap:square;stroke-linejoin:miter;\"/>\n   </g>\n   <g id=\"patch_24\">\n    <path d=\"M 280.790313 279 \nL 280.790313 170.28 \n\" style=\"fill:none;stroke:#ffffff;stroke-linecap:square;stroke-linejoin:miter;\"/>\n   </g>\n   <g id=\"patch_25\">\n    <path d=\"M 172.070312 279 \nL 280.790313 279 \n\" style=\"fill:none;stroke:#ffffff;stroke-linecap:square;stroke-linejoin:miter;\"/>\n   </g>\n   <g id=\"patch_26\">\n    <path d=\"M 172.070312 170.28 \nL 280.790313 170.28 \n\" style=\"fill:none;stroke:#ffffff;stroke-linecap:square;stroke-linejoin:miter;\"/>\n   </g>\n  </g>\n  <g id=\"axes_6\">\n   <g id=\"patch_27\">\n    <path d=\"M 333.270312 279 \nL 441.990313 279 \nL 441.990313 170.28 \nL 333.270312 170.28 \nz\n\" style=\"fill:#e5e5e5;\"/>\n   </g>\n   <g clip-path=\"url(#p576f25a31d)\">\n    <image height=\"109\" id=\"image983a662e89\" transform=\"scale(1 -1)translate(0 -109)\" width=\"109\" x=\"333.270312\" xlink:href=\"data:image/png;base64,\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\" y=\"-170\"/>\n   </g>\n   <g id=\"matplotlib.axis_11\">\n    <g id=\"text_6\">\n     <!-- True: airplane -->\n     <g style=\"fill:#555555;\" transform=\"translate(350.616875 291.69625)scale(0.12 -0.12)\">\n      <use xlink:href=\"#LiberationSans-54\"/>\n      <use x=\"61.037109\" xlink:href=\"#LiberationSans-72\"/>\n      <use x=\"94.337891\" xlink:href=\"#LiberationSans-75\"/>\n      <use x=\"149.953125\" xlink:href=\"#LiberationSans-65\"/>\n      <use x=\"205.568359\" xlink:href=\"#LiberationSans-3a\"/>\n      <use x=\"233.351562\" xlink:href=\"#LiberationSans-20\"/>\n      <use x=\"261.134766\" xlink:href=\"#LiberationSans-61\"/>\n      <use x=\"316.75\" xlink:href=\"#LiberationSans-69\"/>\n      <use x=\"338.966797\" xlink:href=\"#LiberationSans-72\"/>\n      <use x=\"372.267578\" xlink:href=\"#LiberationSans-70\"/>\n      <use x=\"427.882812\" xlink:href=\"#LiberationSans-6c\"/>\n      <use x=\"450.099609\" xlink:href=\"#LiberationSans-61\"/>\n      <use x=\"505.714844\" xlink:href=\"#LiberationSans-6e\"/>\n      <use x=\"561.330078\" xlink:href=\"#LiberationSans-65\"/>\n     </g>\n     <!-- Predicted: truck -->\n     <g style=\"fill:#555555;\" transform=\"translate(345.949063 304.62175)scale(0.12 -0.12)\">\n      <use xlink:href=\"#LiberationSans-50\"/>\n      <use x=\"66.699219\" xlink:href=\"#LiberationSans-72\"/>\n      <use x=\"100\" xlink:href=\"#LiberationSans-65\"/>\n      <use x=\"155.615234\" xlink:href=\"#LiberationSans-64\"/>\n      <use x=\"211.230469\" xlink:href=\"#LiberationSans-69\"/>\n      <use x=\"233.447266\" xlink:href=\"#LiberationSans-63\"/>\n      <use x=\"283.447266\" xlink:href=\"#LiberationSans-74\"/>\n      <use x=\"311.230469\" xlink:href=\"#LiberationSans-65\"/>\n      <use x=\"366.845703\" xlink:href=\"#LiberationSans-64\"/>\n      <use x=\"422.460938\" xlink:href=\"#LiberationSans-3a\"/>\n      <use x=\"450.244141\" xlink:href=\"#LiberationSans-20\"/>\n      <use x=\"478.027344\" xlink:href=\"#LiberationSans-74\"/>\n      <use x=\"505.810547\" xlink:href=\"#LiberationSans-72\"/>\n      <use x=\"539.111328\" xlink:href=\"#LiberationSans-75\"/>\n      <use x=\"594.726562\" xlink:href=\"#LiberationSans-63\"/>\n      <use x=\"644.726562\" xlink:href=\"#LiberationSans-6b\"/>\n     </g>\n    </g>\n   </g>\n   <g id=\"matplotlib.axis_12\"/>\n   <g id=\"patch_28\">\n    <path d=\"M 333.270312 279 \nL 333.270312 170.28 \n\" style=\"fill:none;stroke:#ffffff;stroke-linecap:square;stroke-linejoin:miter;\"/>\n   </g>\n   <g id=\"patch_29\">\n    <path d=\"M 441.990313 279 \nL 441.990313 170.28 \n\" style=\"fill:none;stroke:#ffffff;stroke-linecap:square;stroke-linejoin:miter;\"/>\n   </g>\n   <g id=\"patch_30\">\n    <path d=\"M 333.270312 279 \nL 441.990313 279 \n\" style=\"fill:none;stroke:#ffffff;stroke-linecap:square;stroke-linejoin:miter;\"/>\n   </g>\n   <g id=\"patch_31\">\n    <path d=\"M 333.270312 170.28 \nL 441.990313 170.28 \n\" style=\"fill:none;stroke:#ffffff;stroke-linecap:square;stroke-linejoin:miter;\"/>\n   </g>\n  </g>\n  <g id=\"axes_7\">\n   <g id=\"patch_32\">\n    <path d=\"M 10.870313 442.08 \nL 119.590312 442.08 \nL 119.590312 333.36 \nL 10.870313 333.36 \nz\n\" style=\"fill:#e5e5e5;\"/>\n   </g>\n   <g clip-path=\"url(#p13820c046d)\">\n    <image height=\"109\" id=\"imagea30177f248\" transform=\"scale(1 -1)translate(0 -109)\" width=\"109\" x=\"10.870313\" xlink:href=\"data:image/png;base64,\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\" y=\"-333.08\"/>\n   </g>\n   <g id=\"matplotlib.axis_13\">\n    <g id=\"text_7\">\n     <!-- True: frog -->\n     <defs>\n      <path d=\"M 17.625 46.4375 \nL 17.625 0 \nL 8.84375 0 \nL 8.84375 46.4375 \nL 1.421875 46.4375 \nL 1.421875 52.828125 \nL 8.84375 52.828125 \nL 8.84375 58.796875 \nQ 8.84375 61.671875 9.375 64.140625 \nQ 9.90625 66.609375 11.34375 68.4375 \nQ 12.796875 70.265625 15.28125 71.3125 \nQ 17.78125 72.359375 21.734375 72.359375 \nQ 23.296875 72.359375 24.96875 72.21875 \nQ 26.65625 72.078125 27.9375 71.78125 \nL 27.9375 65.09375 \nQ 27.09375 65.234375 26 65.359375 \nQ 24.90625 65.484375 24.03125 65.484375 \nQ 22.078125 65.484375 20.828125 64.9375 \nQ 19.578125 64.40625 18.875 63.40625 \nQ 18.171875 62.40625 17.890625 60.9375 \nQ 17.625 59.46875 17.625 57.5625 \nL 17.625 52.828125 \nL 27.9375 52.828125 \nL 27.9375 46.4375 \nz\n\" id=\"LiberationSans-66\"/>\n     </defs>\n     <g style=\"fill:#555555;\" transform=\"translate(39.225938 454.77625)scale(0.12 -0.12)\">\n      <use xlink:href=\"#LiberationSans-54\"/>\n      <use x=\"61.037109\" xlink:href=\"#LiberationSans-72\"/>\n      <use x=\"94.337891\" xlink:href=\"#LiberationSans-75\"/>\n      <use x=\"149.953125\" xlink:href=\"#LiberationSans-65\"/>\n      <use x=\"205.568359\" xlink:href=\"#LiberationSans-3a\"/>\n      <use x=\"233.351562\" xlink:href=\"#LiberationSans-20\"/>\n      <use x=\"261.134766\" xlink:href=\"#LiberationSans-66\"/>\n      <use x=\"288.917969\" xlink:href=\"#LiberationSans-72\"/>\n      <use x=\"322.21875\" xlink:href=\"#LiberationSans-6f\"/>\n      <use x=\"377.833984\" xlink:href=\"#LiberationSans-67\"/>\n     </g>\n     <!-- Predicted: cat -->\n     <g style=\"fill:#555555;\" transform=\"translate(28.546875 467.70175)scale(0.12 -0.12)\">\n      <use xlink:href=\"#LiberationSans-50\"/>\n      <use x=\"66.699219\" xlink:href=\"#LiberationSans-72\"/>\n      <use x=\"100\" xlink:href=\"#LiberationSans-65\"/>\n      <use x=\"155.615234\" xlink:href=\"#LiberationSans-64\"/>\n      <use x=\"211.230469\" xlink:href=\"#LiberationSans-69\"/>\n      <use x=\"233.447266\" xlink:href=\"#LiberationSans-63\"/>\n      <use x=\"283.447266\" xlink:href=\"#LiberationSans-74\"/>\n      <use x=\"311.230469\" xlink:href=\"#LiberationSans-65\"/>\n      <use x=\"366.845703\" xlink:href=\"#LiberationSans-64\"/>\n      <use x=\"422.460938\" xlink:href=\"#LiberationSans-3a\"/>\n      <use x=\"450.244141\" xlink:href=\"#LiberationSans-20\"/>\n      <use x=\"478.027344\" xlink:href=\"#LiberationSans-63\"/>\n      <use x=\"528.027344\" xlink:href=\"#LiberationSans-61\"/>\n      <use x=\"583.642578\" xlink:href=\"#LiberationSans-74\"/>\n     </g>\n    </g>\n   </g>\n   <g id=\"matplotlib.axis_14\"/>\n   <g id=\"patch_33\">\n    <path d=\"M 10.870313 442.08 \nL 10.870313 333.36 \n\" style=\"fill:none;stroke:#ffffff;stroke-linecap:square;stroke-linejoin:miter;\"/>\n   </g>\n   <g id=\"patch_34\">\n    <path d=\"M 119.590312 442.08 \nL 119.590312 333.36 \n\" style=\"fill:none;stroke:#ffffff;stroke-linecap:square;stroke-linejoin:miter;\"/>\n   </g>\n   <g id=\"patch_35\">\n    <path d=\"M 10.870313 442.08 \nL 119.590312 442.08 \n\" style=\"fill:none;stroke:#ffffff;stroke-linecap:square;stroke-linejoin:miter;\"/>\n   </g>\n   <g id=\"patch_36\">\n    <path d=\"M 10.870313 333.36 \nL 119.590312 333.36 \n\" style=\"fill:none;stroke:#ffffff;stroke-linecap:square;stroke-linejoin:miter;\"/>\n   </g>\n  </g>\n  <g id=\"axes_8\">\n   <g id=\"patch_37\">\n    <path d=\"M 172.070312 442.08 \nL 280.790313 442.08 \nL 280.790313 333.36 \nL 172.070312 333.36 \nz\n\" style=\"fill:#e5e5e5;\"/>\n   </g>\n   <g clip-path=\"url(#p6be5b896d5)\">\n    <image height=\"109\" id=\"image4277e8a240\" transform=\"scale(1 -1)translate(0 -109)\" width=\"109\" x=\"172.070312\" xlink:href=\"data:image/png;base64,\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\" y=\"-333.08\"/>\n   </g>\n   <g id=\"matplotlib.axis_15\">\n    <g id=\"text_8\">\n     <!-- True: cat -->\n     <g style=\"fill:#555555;\" transform=\"translate(202.760313 454.77625)scale(0.12 -0.12)\">\n      <use xlink:href=\"#LiberationSans-54\"/>\n      <use x=\"61.037109\" xlink:href=\"#LiberationSans-72\"/>\n      <use x=\"94.337891\" xlink:href=\"#LiberationSans-75\"/>\n      <use x=\"149.953125\" xlink:href=\"#LiberationSans-65\"/>\n      <use x=\"205.568359\" xlink:href=\"#LiberationSans-3a\"/>\n      <use x=\"233.351562\" xlink:href=\"#LiberationSans-20\"/>\n      <use x=\"261.134766\" xlink:href=\"#LiberationSans-63\"/>\n      <use x=\"311.134766\" xlink:href=\"#LiberationSans-61\"/>\n      <use x=\"366.75\" xlink:href=\"#LiberationSans-74\"/>\n     </g>\n     <!-- Predicted: dog -->\n     <g style=\"fill:#555555;\" transform=\"translate(187.740625 467.70175)scale(0.12 -0.12)\">\n      <use xlink:href=\"#LiberationSans-50\"/>\n      <use x=\"66.699219\" xlink:href=\"#LiberationSans-72\"/>\n      <use x=\"100\" xlink:href=\"#LiberationSans-65\"/>\n      <use x=\"155.615234\" xlink:href=\"#LiberationSans-64\"/>\n      <use x=\"211.230469\" xlink:href=\"#LiberationSans-69\"/>\n      <use x=\"233.447266\" xlink:href=\"#LiberationSans-63\"/>\n      <use x=\"283.447266\" xlink:href=\"#LiberationSans-74\"/>\n      <use x=\"311.230469\" xlink:href=\"#LiberationSans-65\"/>\n      <use x=\"366.845703\" xlink:href=\"#LiberationSans-64\"/>\n      <use x=\"422.460938\" xlink:href=\"#LiberationSans-3a\"/>\n      <use x=\"450.244141\" xlink:href=\"#LiberationSans-20\"/>\n      <use x=\"478.027344\" xlink:href=\"#LiberationSans-64\"/>\n      <use x=\"533.642578\" xlink:href=\"#LiberationSans-6f\"/>\n      <use x=\"589.257812\" xlink:href=\"#LiberationSans-67\"/>\n     </g>\n    </g>\n   </g>\n   <g id=\"matplotlib.axis_16\"/>\n   <g id=\"patch_38\">\n    <path d=\"M 172.070312 442.08 \nL 172.070312 333.36 \n\" style=\"fill:none;stroke:#ffffff;stroke-linecap:square;stroke-linejoin:miter;\"/>\n   </g>\n   <g id=\"patch_39\">\n    <path d=\"M 280.790313 442.08 \nL 280.790313 333.36 \n\" style=\"fill:none;stroke:#ffffff;stroke-linecap:square;stroke-linejoin:miter;\"/>\n   </g>\n   <g id=\"patch_40\">\n    <path d=\"M 172.070312 442.08 \nL 280.790313 442.08 \n\" style=\"fill:none;stroke:#ffffff;stroke-linecap:square;stroke-linejoin:miter;\"/>\n   </g>\n   <g id=\"patch_41\">\n    <path d=\"M 172.070312 333.36 \nL 280.790313 333.36 \n\" style=\"fill:none;stroke:#ffffff;stroke-linecap:square;stroke-linejoin:miter;\"/>\n   </g>\n  </g>\n  <g id=\"axes_9\">\n   <g id=\"patch_42\">\n    <path d=\"M 333.270313 442.08 \nL 441.990313 442.08 \nL 441.990313 333.36 \nL 333.270313 333.36 \nz\n\" style=\"fill:#e5e5e5;\"/>\n   </g>\n   <g clip-path=\"url(#p08de42ad71)\">\n    <image height=\"109\" id=\"image856c9f6f0a\" transform=\"scale(1 -1)translate(0 -109)\" width=\"109\" x=\"333.270313\" xlink:href=\"data:image/png;base64,\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\" y=\"-333.08\"/>\n   </g>\n   <g id=\"matplotlib.axis_17\">\n    <g id=\"text_9\">\n     <!-- True: cat -->\n     <g style=\"fill:#555555;\" transform=\"translate(363.960313 454.77625)scale(0.12 -0.12)\">\n      <use xlink:href=\"#LiberationSans-54\"/>\n      <use x=\"61.037109\" xlink:href=\"#LiberationSans-72\"/>\n      <use x=\"94.337891\" xlink:href=\"#LiberationSans-75\"/>\n      <use x=\"149.953125\" xlink:href=\"#LiberationSans-65\"/>\n      <use x=\"205.568359\" xlink:href=\"#LiberationSans-3a\"/>\n      <use x=\"233.351562\" xlink:href=\"#LiberationSans-20\"/>\n      <use x=\"261.134766\" xlink:href=\"#LiberationSans-63\"/>\n      <use x=\"311.134766\" xlink:href=\"#LiberationSans-61\"/>\n      <use x=\"366.75\" xlink:href=\"#LiberationSans-74\"/>\n     </g>\n     <!-- Predicted: frog -->\n     <g style=\"fill:#555555;\" transform=\"translate(348.6125 467.70175)scale(0.12 -0.12)\">\n      <use xlink:href=\"#LiberationSans-50\"/>\n      <use x=\"66.699219\" xlink:href=\"#LiberationSans-72\"/>\n      <use x=\"100\" xlink:href=\"#LiberationSans-65\"/>\n      <use x=\"155.615234\" xlink:href=\"#LiberationSans-64\"/>\n      <use x=\"211.230469\" xlink:href=\"#LiberationSans-69\"/>\n      <use x=\"233.447266\" xlink:href=\"#LiberationSans-63\"/>\n      <use x=\"283.447266\" xlink:href=\"#LiberationSans-74\"/>\n      <use x=\"311.230469\" xlink:href=\"#LiberationSans-65\"/>\n      <use x=\"366.845703\" xlink:href=\"#LiberationSans-64\"/>\n      <use x=\"422.460938\" xlink:href=\"#LiberationSans-3a\"/>\n      <use x=\"450.244141\" xlink:href=\"#LiberationSans-20\"/>\n      <use x=\"478.027344\" xlink:href=\"#LiberationSans-66\"/>\n      <use x=\"505.810547\" xlink:href=\"#LiberationSans-72\"/>\n      <use x=\"539.111328\" xlink:href=\"#LiberationSans-6f\"/>\n      <use x=\"594.726562\" xlink:href=\"#LiberationSans-67\"/>\n     </g>\n    </g>\n   </g>\n   <g id=\"matplotlib.axis_18\"/>\n   <g id=\"patch_43\">\n    <path d=\"M 333.270313 442.08 \nL 333.270313 333.36 \n\" style=\"fill:none;stroke:#ffffff;stroke-linecap:square;stroke-linejoin:miter;\"/>\n   </g>\n   <g id=\"patch_44\">\n    <path d=\"M 441.990313 442.08 \nL 441.990313 333.36 \n\" style=\"fill:none;stroke:#ffffff;stroke-linecap:square;stroke-linejoin:miter;\"/>\n   </g>\n   <g id=\"patch_45\">\n    <path d=\"M 333.270313 442.08 \nL 441.990313 442.08 \n\" style=\"fill:none;stroke:#ffffff;stroke-linecap:square;stroke-linejoin:miter;\"/>\n   </g>\n   <g id=\"patch_46\">\n    <path d=\"M 333.270313 333.36 \nL 441.990313 333.36 \n\" style=\"fill:none;stroke:#ffffff;stroke-linecap:square;stroke-linejoin:miter;\"/>\n   </g>\n  </g>\n </g>\n <defs>\n  <clipPath id=\"p8be1e0c244\">\n   <rect height=\"108.72\" width=\"108.72\" x=\"10.870313\" y=\"7.2\"/>\n  </clipPath>\n  <clipPath id=\"pad3242ac5f\">\n   <rect height=\"108.72\" width=\"108.72\" x=\"172.070312\" y=\"7.2\"/>\n  </clipPath>\n  <clipPath id=\"pe217a56333\">\n   <rect height=\"108.72\" width=\"108.72\" x=\"333.270313\" y=\"7.2\"/>\n  </clipPath>\n  <clipPath id=\"p976d0ade95\">\n   <rect height=\"108.72\" width=\"108.72\" x=\"10.870312\" y=\"170.28\"/>\n  </clipPath>\n  <clipPath id=\"pd528b4b23e\">\n   <rect height=\"108.72\" width=\"108.72\" x=\"172.070312\" y=\"170.28\"/>\n  </clipPath>\n  <clipPath id=\"p576f25a31d\">\n   <rect height=\"108.72\" width=\"108.72\" x=\"333.270312\" y=\"170.28\"/>\n  </clipPath>\n  <clipPath id=\"p13820c046d\">\n   <rect height=\"108.72\" width=\"108.72\" x=\"10.870313\" y=\"333.36\"/>\n  </clipPath>\n  <clipPath id=\"p6be5b896d5\">\n   <rect height=\"108.72\" width=\"108.72\" x=\"172.070312\" y=\"333.36\"/>\n  </clipPath>\n  <clipPath id=\"p08de42ad71\">\n   <rect height=\"108.72\" width=\"108.72\" x=\"333.270313\" y=\"333.36\"/>\n  </clipPath>\n </defs>\n</svg>\n"
          },
          "metadata": {
            "tags": []
          }
        }
      ]
    },
    {
      "metadata": {
        "id": "t3H1xGqH3pYN",
        "colab_type": "text"
      },
      "cell_type": "markdown",
      "source": [
        "## Save result"
      ]
    },
    {
      "metadata": {
        "id": "Lwru7f1Y3pYO",
        "colab_type": "code",
        "colab": {
          "base_uri": "https://localhost:8080/",
          "height": 34
        },
        "outputId": "9f53bebb-13cc-4ef4-b2da-9ee78a886ef3"
      },
      "cell_type": "code",
      "source": [
        "save_result(predict_labels,class_names)"
      ],
      "execution_count": 30,
      "outputs": [
        {
          "output_type": "stream",
          "text": [
            "save result success.\n"
          ],
          "name": "stdout"
        }
      ]
    }
  ]
}